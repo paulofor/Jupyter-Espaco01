{
 "cells": [
  {
   "cell_type": "markdown",
   "id": "3579692a",
   "metadata": {},
   "source": [
    "### https://github.com/tuya/tuya-connector-python"
   ]
  },
  {
   "cell_type": "code",
   "execution_count": 1,
   "id": "03af1e00",
   "metadata": {},
   "outputs": [],
   "source": [
    "from tuya_connector import (\n",
    "    TuyaOpenAPI,\n",
    "    TuyaOpenPulsar,\n",
    "    TuyaCloudPulsarTopic,\n",
    ")"
   ]
  },
  {
   "cell_type": "code",
   "execution_count": 4,
   "id": "bc076052",
   "metadata": {},
   "outputs": [],
   "source": [
    "ACCESS_ID = \"3u8rhv3qbiwsh4bl8v0q\"\n",
    "ACCESS_KEY = \"e6f9cdb997414f33a80008148baf248b\"\n",
    "API_ENDPOINT = \"https://openapi.tuyacn.com\"\n",
    "MQ_ENDPOINT = \"wss://mqe.tuyacn.com:8285/\""
   ]
  },
  {
   "cell_type": "code",
   "execution_count": 7,
   "id": "6163715e",
   "metadata": {},
   "outputs": [
    {
     "data": {
      "text/plain": [
       "{'code': 2007,\n",
       " 'msg': 'your ip(191.252.219.136) cross-region access is not allowed',\n",
       " 'success': False,\n",
       " 't': 1652322744854,\n",
       " 'tid': 'c21d2c10d19b11ec919cd6689b45aec4'}"
      ]
     },
     "execution_count": 7,
     "metadata": {},
     "output_type": "execute_result"
    }
   ],
   "source": [
    "openapi = TuyaOpenAPI(API_ENDPOINT, ACCESS_ID, ACCESS_KEY)\n",
    "openapi.connect()"
   ]
  },
  {
   "cell_type": "code",
   "execution_count": null,
   "id": "c067acd4",
   "metadata": {},
   "outputs": [],
   "source": []
  }
 ],
 "metadata": {
  "kernelspec": {
   "display_name": "Python 3 (ipykernel)",
   "language": "python",
   "name": "python3"
  },
  "language_info": {
   "codemirror_mode": {
    "name": "ipython",
    "version": 3
   },
   "file_extension": ".py",
   "mimetype": "text/x-python",
   "name": "python",
   "nbconvert_exporter": "python",
   "pygments_lexer": "ipython3",
   "version": "3.8.10"
  }
 },
 "nbformat": 4,
 "nbformat_minor": 5
}
