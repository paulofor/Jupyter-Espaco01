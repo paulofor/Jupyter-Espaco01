{
 "cells": [
  {
   "cell_type": "code",
   "execution_count": 1,
   "id": "89bae8ee",
   "metadata": {},
   "outputs": [
    {
     "name": "stderr",
     "output_type": "stream",
     "text": [
      "2022-07-27 12:10:39.133811: W tensorflow/stream_executor/platform/default/dso_loader.cc:64] Could not load dynamic library 'libcudart.so.11.0'; dlerror: libcudart.so.11.0: cannot open shared object file: No such file or directory\n",
      "2022-07-27 12:10:39.133895: I tensorflow/stream_executor/cuda/cudart_stub.cc:29] Ignore above cudart dlerror if you do not have a GPU set up on your machine.\n"
     ]
    }
   ],
   "source": [
    "import tensorflow as tf"
   ]
  },
  {
   "cell_type": "code",
   "execution_count": 2,
   "id": "cba5bdad",
   "metadata": {},
   "outputs": [],
   "source": [
    "import requests\n",
    "import pandas as pd\n",
    "import numpy as np"
   ]
  },
  {
   "cell_type": "code",
   "execution_count": 3,
   "id": "458185b1",
   "metadata": {},
   "outputs": [],
   "source": [
    "global dfEntradas"
   ]
  },
  {
   "cell_type": "code",
   "execution_count": 4,
   "id": "b31f779c",
   "metadata": {},
   "outputs": [],
   "source": [
    "url = \"http://vps-40d69db1.vps.ovh.ca:23004/api/TreinoRedes/obtemListaParaPrevisao\""
   ]
  },
  {
   "cell_type": "code",
   "execution_count": 5,
   "id": "b9cc9d2c",
   "metadata": {},
   "outputs": [],
   "source": [
    "r = requests.get(url)\n",
    "j = r.json()\n",
    "dfTreino = pd.DataFrame.from_dict(j)"
   ]
  },
  {
   "cell_type": "code",
   "execution_count": 6,
   "id": "b17acd75",
   "metadata": {},
   "outputs": [
    {
     "data": {
      "text/html": [
       "<div>\n",
       "<style scoped>\n",
       "    .dataframe tbody tr th:only-of-type {\n",
       "        vertical-align: middle;\n",
       "    }\n",
       "\n",
       "    .dataframe tbody tr th {\n",
       "        vertical-align: top;\n",
       "    }\n",
       "\n",
       "    .dataframe thead th {\n",
       "        text-align: right;\n",
       "    }\n",
       "</style>\n",
       "<table border=\"1\" class=\"dataframe\">\n",
       "  <thead>\n",
       "    <tr style=\"text-align: right;\">\n",
       "      <th></th>\n",
       "      <th>id</th>\n",
       "      <th>grupoAcaoId</th>\n",
       "      <th>periodoTreinoRedeId</th>\n",
       "      <th>tipoExemploTreinoId</th>\n",
       "      <th>regraProjecaoId</th>\n",
       "      <th>redeNeuralId</th>\n",
       "      <th>ativoPrevisao</th>\n",
       "      <th>tipoCompraVenda</th>\n",
       "    </tr>\n",
       "  </thead>\n",
       "  <tbody>\n",
       "    <tr>\n",
       "      <th>0</th>\n",
       "      <td>8</td>\n",
       "      <td>12</td>\n",
       "      <td>1</td>\n",
       "      <td>1</td>\n",
       "      <td>32</td>\n",
       "      <td>2</td>\n",
       "      <td>1</td>\n",
       "      <td>C</td>\n",
       "    </tr>\n",
       "  </tbody>\n",
       "</table>\n",
       "</div>"
      ],
      "text/plain": [
       "   id  grupoAcaoId  periodoTreinoRedeId  tipoExemploTreinoId  regraProjecaoId  \\\n",
       "0   8           12                    1                    1               32   \n",
       "\n",
       "   redeNeuralId  ativoPrevisao tipoCompraVenda  \n",
       "0             2              1               C  "
      ]
     },
     "execution_count": 6,
     "metadata": {},
     "output_type": "execute_result"
    }
   ],
   "source": [
    "dfTreino.head()"
   ]
  },
  {
   "cell_type": "code",
   "execution_count": 232,
   "id": "4c45365f",
   "metadata": {},
   "outputs": [],
   "source": [
    "dia = 20220630\n",
    "urlExemplos = \"http://vps-40d69db1.vps.ovh.ca:23005/api/ExemploTreinoAcaoEntradas/obtemPorDia?diaNum={}\".format(dia)"
   ]
  },
  {
   "cell_type": "code",
   "execution_count": 233,
   "id": "0f6db303",
   "metadata": {},
   "outputs": [
    {
     "name": "stdout",
     "output_type": "stream",
     "text": [
      "http://vps-40d69db1.vps.ovh.ca:23005/api/ExemploTreinoAcaoEntradas/obtemPorDia?diaNum=20220630\n"
     ]
    }
   ],
   "source": [
    "print(urlExemplos)"
   ]
  },
  {
   "cell_type": "code",
   "execution_count": 234,
   "id": "1de2b7f7",
   "metadata": {},
   "outputs": [],
   "source": [
    "global dfDados\n",
    "r = requests.get(urlExemplos)\n",
    "j = r.json()\n",
    "dfDados = pd.DataFrame.from_dict(j)"
   ]
  },
  {
   "cell_type": "code",
   "execution_count": 235,
   "id": "98fcfadd",
   "metadata": {},
   "outputs": [
    {
     "data": {
      "text/html": [
       "<div>\n",
       "<style scoped>\n",
       "    .dataframe tbody tr th:only-of-type {\n",
       "        vertical-align: middle;\n",
       "    }\n",
       "\n",
       "    .dataframe tbody tr th {\n",
       "        vertical-align: top;\n",
       "    }\n",
       "\n",
       "    .dataframe thead th {\n",
       "        text-align: right;\n",
       "    }\n",
       "</style>\n",
       "<table border=\"1\" class=\"dataframe\">\n",
       "  <thead>\n",
       "    <tr style=\"text-align: right;\">\n",
       "      <th></th>\n",
       "      <th>campoX</th>\n",
       "      <th>ticker</th>\n",
       "      <th>diaNumPrevisao</th>\n",
       "    </tr>\n",
       "  </thead>\n",
       "  <tbody>\n",
       "    <tr>\n",
       "      <th>0</th>\n",
       "      <td>1.117994, 1.112832, 1.108407, 1.117257, 1.114...</td>\n",
       "      <td>ABEV3</td>\n",
       "      <td>20220630</td>\n",
       "    </tr>\n",
       "    <tr>\n",
       "      <th>1</th>\n",
       "      <td>2.195122, 2.167247, 2.111498, 2.108014, 2.118...</td>\n",
       "      <td>AERI3</td>\n",
       "      <td>20220630</td>\n",
       "    </tr>\n",
       "    <tr>\n",
       "      <th>2</th>\n",
       "      <td>1.663604, 1.672282, 1.672282, 1.695253, 1.704...</td>\n",
       "      <td>ALPA4</td>\n",
       "      <td>20220630</td>\n",
       "    </tr>\n",
       "    <tr>\n",
       "      <th>3</th>\n",
       "      <td>1.229579, 1.226485, 1.223391, 1.231436, 1.238...</td>\n",
       "      <td>ALSO3</td>\n",
       "      <td>20220630</td>\n",
       "    </tr>\n",
       "    <tr>\n",
       "      <th>4</th>\n",
       "      <td>1.843575, 1.837989, 1.888268, 1.921788, 1.905...</td>\n",
       "      <td>AMAR3</td>\n",
       "      <td>20220630</td>\n",
       "    </tr>\n",
       "  </tbody>\n",
       "</table>\n",
       "</div>"
      ],
      "text/plain": [
       "                                              campoX ticker  diaNumPrevisao\n",
       "0   1.117994, 1.112832, 1.108407, 1.117257, 1.114...  ABEV3        20220630\n",
       "1   2.195122, 2.167247, 2.111498, 2.108014, 2.118...  AERI3        20220630\n",
       "2   1.663604, 1.672282, 1.672282, 1.695253, 1.704...  ALPA4        20220630\n",
       "3   1.229579, 1.226485, 1.223391, 1.231436, 1.238...  ALSO3        20220630\n",
       "4   1.843575, 1.837989, 1.888268, 1.921788, 1.905...  AMAR3        20220630"
      ]
     },
     "execution_count": 235,
     "metadata": {},
     "output_type": "execute_result"
    }
   ],
   "source": [
    "dfDados.head()"
   ]
  },
  {
   "cell_type": "code",
   "execution_count": 236,
   "id": "3994b9ed",
   "metadata": {},
   "outputs": [],
   "source": [
    "def incluiEntrada(treino):\n",
    "    urlEntrada = \"http://vps-40d69db1.vps.ovh.ca:23004/api/CotacaoIntradayAcaoResultados/listaPrecoEntradaPrevisaoPorDiaB3?diaNum=\" + str(dia) +\"&idRegra=\" + str(treino['regraProjecaoId']) + \"&idGrupo=\" + str(treino['grupoAcaoId'])\n",
    "    print(urlEntrada)\n",
    "    r = requests.get(urlEntrada)\n",
    "    j = r.json()\n",
    "    dfEntradas = pd.DataFrame.from_dict(j)\n",
    "    print(dfEntradas.head())\n",
    "    return dfEntradas"
   ]
  },
  {
   "cell_type": "code",
   "execution_count": 237,
   "id": "c603ebc9",
   "metadata": {},
   "outputs": [],
   "source": [
    "def trataRede(treino):\n",
    "    print('ID:' , treino['id'])\n",
    "    nome_arquivo = 'pesos/treino_rede' + str(treino['id']) + '.h5'\n",
    "    print(nome_arquivo)\n",
    "    modelo = tf.keras.models.load_model(nome_arquivo)\n",
    "    modelo.summary()\n",
    "    result = modelo.predict(X)\n",
    "    dfDados['resultado'] = result\n",
    "    dfDados['treinoRedeId'] = str(treino['id'])\n",
    "    dfDados['tipoCompraVenda'] = treino['tipoCompraVenda']\n",
    "    dfEntradas = incluiEntrada(treino)\n",
    "    dfPrevisao = pd.merge(dfDados,dfEntradas, how='left', left_on='ticker' ,  right_on='ticker')\n",
    "    print('ticker previsão:' , len(dfPrevisao))\n",
    "    json = dfPrevisao.to_dict(orient='list')\n",
    "    urlPrevisao = 'http://vps-40d69db1.vps.ovh.ca:23004/api/PrevisaoRedes/recebePrevisaoTreino'\n",
    "    print(json)\n",
    "    response = requests.post(urlPrevisao, data=json)\n",
    "    print(response)"
   ]
  },
  {
   "cell_type": "code",
   "execution_count": 238,
   "id": "cad5f9b9",
   "metadata": {},
   "outputs": [],
   "source": [
    "def trataLinhaX(linha):\n",
    "    return np.fromstring(linha['campoX'], dtype=float, sep=',')"
   ]
  },
  {
   "cell_type": "code",
   "execution_count": 239,
   "id": "eefdfd7b",
   "metadata": {},
   "outputs": [
    {
     "data": {
      "text/plain": [
       "(88, 1800)"
      ]
     },
     "execution_count": 239,
     "metadata": {},
     "output_type": "execute_result"
    }
   ],
   "source": [
    "dfTratadoX = dfDados.apply(trataLinhaX, axis='columns')\n",
    "X = np.stack(dfTratadoX.values)\n",
    "X.shape"
   ]
  },
  {
   "cell_type": "code",
   "execution_count": 240,
   "id": "b7632aa0",
   "metadata": {},
   "outputs": [],
   "source": [
    "dfDados.drop('campoX', inplace=True, axis=1)"
   ]
  },
  {
   "cell_type": "code",
   "execution_count": 241,
   "id": "746cf13b",
   "metadata": {},
   "outputs": [
    {
     "name": "stdout",
     "output_type": "stream",
     "text": [
      "ID: 8\n",
      "pesos/treino_rede8.h5\n",
      "Model: \"sequential\"\n",
      "_________________________________________________________________\n",
      " Layer (type)                Output Shape              Param #   \n",
      "=================================================================\n",
      " dense (Dense)               (None, 1800)              3241800   \n",
      "                                                                 \n",
      " dense_1 (Dense)             (None, 1400)              2521400   \n",
      "                                                                 \n",
      " dense_2 (Dense)             (None, 1000)              1401000   \n",
      "                                                                 \n",
      " dense_3 (Dense)             (None, 600)               600600    \n",
      "                                                                 \n",
      " dense_4 (Dense)             (None, 200)               120200    \n",
      "                                                                 \n",
      " dense_5 (Dense)             (None, 1)                 201       \n",
      "                                                                 \n",
      "=================================================================\n",
      "Total params: 7,885,201\n",
      "Trainable params: 7,885,201\n",
      "Non-trainable params: 0\n",
      "_________________________________________________________________\n",
      "http://vps-40d69db1.vps.ovh.ca:23004/api/CotacaoIntradayAcaoResultados/listaPrecoEntradaPrevisaoPorDiaB3?diaNum=20220630&idRegra=32&idGrupo=12\n",
      "  ticker  valorReferencia  valorEntrada\n",
      "0  ABEV3            13.56       13.2888\n",
      "1  AERI3             2.87        2.8126\n",
      "2  ALPA4            19.59       19.1982\n",
      "3  ALSO3            16.16       15.8368\n",
      "4  AMAR3             1.79        1.7542\n",
      "ticker previsão: 88\n",
      "{'ticker': ['ABEV3', 'AERI3', 'ALPA4', 'ALSO3', 'AMAR3', 'ANIM3', 'AZUL4', 'B3SA3', 'BBAS3', 'BBDC4', 'BBSE3', 'BEEF3', 'BKBR3', 'BPAC11', 'BPAN4', 'BRAP4', 'BRFS3', 'BRKM5', 'BRML3', 'CCRO3', 'CIEL3', 'CMIG4', 'COGN3', 'CPFE3', 'CPLE6', 'CRFB3', 'CSAN3', 'CSMG3', 'CSNA3', 'CVCB3', 'CYRE3', 'ECOR3', 'EGIE3', 'ELET3', 'ELET6', 'EMBR3', 'ENBR3', 'ENEV3', 'ENGI11', 'EQTL3', 'EZTC3', 'FLRY3', 'GGBR4', 'GOAU4', 'GOLL4', 'HAPV3', 'HYPE3', 'ITUB4', 'JBSS3', 'JHSF3', 'KLBN11', 'LCAM3', 'LIGT3', 'LREN3', 'LWSA3', 'MGLU3', 'MOVI3', 'MRFG3', 'MRVE3', 'MULT3', 'MYPK3', 'NEOE3', 'NTCO3', 'PCAR3', 'PETR4', 'POSI3', 'PRIO3', 'PTBL3', 'QUAL3', 'RADL3', 'RAIL3', 'RAPT4', 'RENT3', 'SANB11', 'SBSP3', 'SLCE3', 'SMTO3', 'STBP3', 'SULA11', 'SUZB3', 'TAEE11', 'TOTS3', 'UGPA3', 'USIM5', 'VALE3', 'WEGE3', 'WIZS3', 'YDUQ3'], 'diaNumPrevisao': [20220630, 20220630, 20220630, 20220630, 20220630, 20220630, 20220630, 20220630, 20220630, 20220630, 20220630, 20220630, 20220630, 20220630, 20220630, 20220630, 20220630, 20220630, 20220630, 20220630, 20220630, 20220630, 20220630, 20220630, 20220630, 20220630, 20220630, 20220630, 20220630, 20220630, 20220630, 20220630, 20220630, 20220630, 20220630, 20220630, 20220630, 20220630, 20220630, 20220630, 20220630, 20220630, 20220630, 20220630, 20220630, 20220630, 20220630, 20220630, 20220630, 20220630, 20220630, 20220630, 20220630, 20220630, 20220630, 20220630, 20220630, 20220630, 20220630, 20220630, 20220630, 20220630, 20220630, 20220630, 20220630, 20220630, 20220630, 20220630, 20220630, 20220630, 20220630, 20220630, 20220630, 20220630, 20220630, 20220630, 20220630, 20220630, 20220630, 20220630, 20220630, 20220630, 20220630, 20220630, 20220630, 20220630, 20220630, 20220630], 'resultado': [0.13700416684150696, 0.25932955741882324, 0.2503516674041748, 0.13806602358818054, 0.23632857203483582, 0.22232306003570557, 0.21583709120750427, 0.1271991729736328, 0.11461755633354187, 0.15242937207221985, 0.13287779688835144, 0.18975692987442017, 0.10830613970756531, 0.1143830418586731, 0.1943560540676117, 0.1293555498123169, 0.27589327096939087, 0.1936095952987671, 0.11952769756317139, 0.12027287483215332, 0.2584749460220337, 0.14780914783477783, 0.10781159996986389, 0.1296849548816681, 0.11502549052238464, 0.1290602684020996, 0.15045461058616638, 0.11743611097335815, 0.22069761157035828, 0.12330231070518494, 0.1503039300441742, 0.14629796147346497, 0.11890140175819397, 0.16919812560081482, 0.17230522632598877, 0.27012062072753906, 0.11948072910308838, 0.1271359622478485, 0.10850918292999268, 0.10953083634376526, 0.17412269115447998, 0.18754547834396362, 0.12731420993804932, 0.1282491385936737, 0.1980644166469574, 0.24033331871032715, 0.15537044405937195, 0.11789220571517944, 0.12424671649932861, 0.12889942526817322, 0.17026734352111816, 0.13173621892929077, 0.18795880675315857, 0.12164613604545593, 0.2493095099925995, 0.26762354373931885, 0.10319507122039795, 0.23507115244865417, 0.19054189324378967, 0.12765046954154968, 0.13625484704971313, 0.10891550779342651, 0.21871232986450195, 0.12307628989219666, 0.12947610020637512, 0.1580534279346466, 0.10299095511436462, 0.11705181002616882, 0.18700483441352844, 0.14508700370788574, 0.11900931596755981, 0.14951592683792114, 0.12905064225196838, 0.11835116147994995, 0.13870352506637573, 0.1095987856388092, 0.11879929900169373, 0.1130172610282898, 0.11560830473899841, 0.1749570071697235, 0.11315035820007324, 0.11241507530212402, 0.14245131611824036, 0.253501832485199, 0.14192500710487366, 0.161127507686615, 0.11734223365783691, 0.21432161331176758], 'treinoRedeId': ['8', '8', '8', '8', '8', '8', '8', '8', '8', '8', '8', '8', '8', '8', '8', '8', '8', '8', '8', '8', '8', '8', '8', '8', '8', '8', '8', '8', '8', '8', '8', '8', '8', '8', '8', '8', '8', '8', '8', '8', '8', '8', '8', '8', '8', '8', '8', '8', '8', '8', '8', '8', '8', '8', '8', '8', '8', '8', '8', '8', '8', '8', '8', '8', '8', '8', '8', '8', '8', '8', '8', '8', '8', '8', '8', '8', '8', '8', '8', '8', '8', '8', '8', '8', '8', '8', '8', '8'], 'tipoCompraVenda': ['C', 'C', 'C', 'C', 'C', 'C', 'C', 'C', 'C', 'C', 'C', 'C', 'C', 'C', 'C', 'C', 'C', 'C', 'C', 'C', 'C', 'C', 'C', 'C', 'C', 'C', 'C', 'C', 'C', 'C', 'C', 'C', 'C', 'C', 'C', 'C', 'C', 'C', 'C', 'C', 'C', 'C', 'C', 'C', 'C', 'C', 'C', 'C', 'C', 'C', 'C', 'C', 'C', 'C', 'C', 'C', 'C', 'C', 'C', 'C', 'C', 'C', 'C', 'C', 'C', 'C', 'C', 'C', 'C', 'C', 'C', 'C', 'C', 'C', 'C', 'C', 'C', 'C', 'C', 'C', 'C', 'C', 'C', 'C', 'C', 'C', 'C', 'C'], 'valorReferencia': [13.56, 2.87, 19.59, 16.16, 1.79, 4.14, 12.65, 10.94, 33.1, 17.63, 25.55, 13.52, 5.77, 22.33, 6.16, 26.29, 14.14, 38.05, 7.53, 12.76, 3.77, 10.36, 2.15, 30.87, 6.84, 16.46, 18.42, 11.8, 16.47, 7.19, 11.9, 5.74, 41.59, 45.68, 45.86, 11.8, 20.5, 14.97, 40.67, 22.45, 14.53, 14.04, 23.12, 9.83, 9.43, 5.25, 37.38, 23.1, 32.52, 6.22, 20.16, nan, 6.86, 22.3, 5.73, 2.41, 13.48, 12.49, 7.59, 22.56, 16.09, 15.73, 13.56, 16.53, 28.1, 5.62, 22.4, 6.29, 11.58, 19.2, 16.39, 9.88, 51.93, 29.31, 41.96, 46.72, 38.59, 6.41, 21.78, 48.81, 38.76, 23.3, 12.56, 8.98, 78.75, 26.01, 7.88, 13.39], 'valorEntrada': [13.2888, 2.8126, 19.1982, 15.8368, 1.7542, 4.0572, 12.397, 10.7212, 32.438, 17.2774, 25.039, 13.2496, 5.6546, 21.8834, 6.0368, 25.7642, 13.8572, 37.289, 7.3794, 12.5048, 3.6946, 10.1528, 2.107, 30.2526, 6.7032, 16.1308, 18.0516, 11.564, 16.1406, 7.0462, 11.662, 5.6252, 40.7582, 44.7664, 44.9428, 11.564, 20.09, 14.6706, 39.8566, 22.001, 14.2394, 13.7592, 22.6576, 9.6334, 9.2414, 5.145, 36.6324, 22.638, 31.8696, 6.0956, 19.7568, nan, 6.7228, 21.854, 5.6154, 2.3618, 13.2104, 12.2402, 7.4382, 22.1088, 15.7682, 15.4154, 13.2888, 16.1994, 27.538, 5.5076, 21.952, 6.1642, 11.3484, 18.816, 16.0622, 9.6824, 50.8914, 28.7238, 41.1208, 45.7856, 37.8182, 6.2818, 21.3444, 47.8338, 37.9848, 22.834, 12.3088, 8.8004, 77.175, 25.4898, 7.7224, 13.1222]}\n",
      "<Response [200]>\n"
     ]
    },
    {
     "data": {
      "text/plain": [
       "0    None\n",
       "dtype: object"
      ]
     },
     "execution_count": 241,
     "metadata": {},
     "output_type": "execute_result"
    }
   ],
   "source": [
    "dfTreino.apply(trataRede, axis='columns')"
   ]
  },
  {
   "cell_type": "code",
   "execution_count": null,
   "id": "af5eb360",
   "metadata": {},
   "outputs": [],
   "source": []
  },
  {
   "cell_type": "code",
   "execution_count": null,
   "id": "25d7a909",
   "metadata": {},
   "outputs": [],
   "source": []
  },
  {
   "cell_type": "code",
   "execution_count": null,
   "id": "cb595c44",
   "metadata": {},
   "outputs": [],
   "source": []
  }
 ],
 "metadata": {
  "kernelspec": {
   "display_name": "Python 3 (ipykernel)",
   "language": "python",
   "name": "python3"
  },
  "language_info": {
   "codemirror_mode": {
    "name": "ipython",
    "version": 3
   },
   "file_extension": ".py",
   "mimetype": "text/x-python",
   "name": "python",
   "nbconvert_exporter": "python",
   "pygments_lexer": "ipython3",
   "version": "3.8.10"
  }
 },
 "nbformat": 4,
 "nbformat_minor": 5
}
