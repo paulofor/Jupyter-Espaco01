{
 "cells": [
  {
   "cell_type": "code",
   "execution_count": 1,
   "id": "89bae8ee",
   "metadata": {},
   "outputs": [
    {
     "name": "stderr",
     "output_type": "stream",
     "text": [
      "2022-07-29 03:39:53.331480: W tensorflow/stream_executor/platform/default/dso_loader.cc:64] Could not load dynamic library 'libcudart.so.11.0'; dlerror: libcudart.so.11.0: cannot open shared object file: No such file or directory\n",
      "2022-07-29 03:39:53.331537: I tensorflow/stream_executor/cuda/cudart_stub.cc:29] Ignore above cudart dlerror if you do not have a GPU set up on your machine.\n"
     ]
    }
   ],
   "source": [
    "import tensorflow as tf"
   ]
  },
  {
   "cell_type": "code",
   "execution_count": 2,
   "id": "cba5bdad",
   "metadata": {},
   "outputs": [],
   "source": [
    "import requests\n",
    "import pandas as pd\n",
    "import numpy as np"
   ]
  },
  {
   "cell_type": "code",
   "execution_count": 3,
   "id": "458185b1",
   "metadata": {},
   "outputs": [],
   "source": [
    "global dfEntradas"
   ]
  },
  {
   "cell_type": "code",
   "execution_count": 4,
   "id": "b31f779c",
   "metadata": {},
   "outputs": [],
   "source": [
    "url = \"http://vps-40d69db1.vps.ovh.ca:23004/api/TreinoRedes/obtemListaParaPrevisao\""
   ]
  },
  {
   "cell_type": "code",
   "execution_count": 5,
   "id": "b9cc9d2c",
   "metadata": {},
   "outputs": [],
   "source": [
    "r = requests.get(url)\n",
    "j = r.json()\n",
    "dfTreino = pd.DataFrame.from_dict(j)"
   ]
  },
  {
   "cell_type": "code",
   "execution_count": 6,
   "id": "b17acd75",
   "metadata": {},
   "outputs": [
    {
     "data": {
      "text/html": [
       "<div>\n",
       "<style scoped>\n",
       "    .dataframe tbody tr th:only-of-type {\n",
       "        vertical-align: middle;\n",
       "    }\n",
       "\n",
       "    .dataframe tbody tr th {\n",
       "        vertical-align: top;\n",
       "    }\n",
       "\n",
       "    .dataframe thead th {\n",
       "        text-align: right;\n",
       "    }\n",
       "</style>\n",
       "<table border=\"1\" class=\"dataframe\">\n",
       "  <thead>\n",
       "    <tr style=\"text-align: right;\">\n",
       "      <th></th>\n",
       "      <th>id</th>\n",
       "      <th>grupoAcaoId</th>\n",
       "      <th>periodoTreinoRedeId</th>\n",
       "      <th>tipoExemploTreinoId</th>\n",
       "      <th>regraProjecaoId</th>\n",
       "      <th>redeNeuralId</th>\n",
       "      <th>ativoPrevisao</th>\n",
       "      <th>limiteParaEntrada</th>\n",
       "      <th>tipoCompraVenda</th>\n",
       "    </tr>\n",
       "  </thead>\n",
       "  <tbody>\n",
       "    <tr>\n",
       "      <th>0</th>\n",
       "      <td>8</td>\n",
       "      <td>12</td>\n",
       "      <td>1</td>\n",
       "      <td>1</td>\n",
       "      <td>32</td>\n",
       "      <td>2</td>\n",
       "      <td>1</td>\n",
       "      <td>0.3</td>\n",
       "      <td>C</td>\n",
       "    </tr>\n",
       "  </tbody>\n",
       "</table>\n",
       "</div>"
      ],
      "text/plain": [
       "   id  grupoAcaoId  periodoTreinoRedeId  tipoExemploTreinoId  regraProjecaoId  \\\n",
       "0   8           12                    1                    1               32   \n",
       "\n",
       "   redeNeuralId  ativoPrevisao  limiteParaEntrada tipoCompraVenda  \n",
       "0             2              1                0.3               C  "
      ]
     },
     "execution_count": 6,
     "metadata": {},
     "output_type": "execute_result"
    }
   ],
   "source": [
    "dfTreino.head()"
   ]
  },
  {
   "cell_type": "code",
   "execution_count": 77,
   "id": "4c45365f",
   "metadata": {},
   "outputs": [],
   "source": [
    "dia = 20220713\n",
    "urlExemplos = \"http://vps-40d69db1.vps.ovh.ca:23005/api/ExemploTreinoAcaoEntradas/obtemPorDia?diaNum={}\".format(dia)"
   ]
  },
  {
   "cell_type": "code",
   "execution_count": 78,
   "id": "0f6db303",
   "metadata": {},
   "outputs": [
    {
     "name": "stdout",
     "output_type": "stream",
     "text": [
      "http://vps-40d69db1.vps.ovh.ca:23005/api/ExemploTreinoAcaoEntradas/obtemPorDia?diaNum=20220713\n"
     ]
    }
   ],
   "source": [
    "print(urlExemplos)"
   ]
  },
  {
   "cell_type": "code",
   "execution_count": 79,
   "id": "1de2b7f7",
   "metadata": {},
   "outputs": [],
   "source": [
    "global dfDados\n",
    "r = requests.get(urlExemplos)\n",
    "j = r.json()\n",
    "dfDados = pd.DataFrame.from_dict(j)"
   ]
  },
  {
   "cell_type": "code",
   "execution_count": 80,
   "id": "98fcfadd",
   "metadata": {},
   "outputs": [
    {
     "data": {
      "text/html": [
       "<div>\n",
       "<style scoped>\n",
       "    .dataframe tbody tr th:only-of-type {\n",
       "        vertical-align: middle;\n",
       "    }\n",
       "\n",
       "    .dataframe tbody tr th {\n",
       "        vertical-align: top;\n",
       "    }\n",
       "\n",
       "    .dataframe thead th {\n",
       "        text-align: right;\n",
       "    }\n",
       "</style>\n",
       "<table border=\"1\" class=\"dataframe\">\n",
       "  <thead>\n",
       "    <tr style=\"text-align: right;\">\n",
       "      <th></th>\n",
       "      <th>campoX</th>\n",
       "      <th>ticker</th>\n",
       "      <th>diaNumPrevisao</th>\n",
       "    </tr>\n",
       "  </thead>\n",
       "  <tbody>\n",
       "    <tr>\n",
       "      <th>0</th>\n",
       "      <td>1.059420, 1.052899, 1.048551, 1.047101, 1.048...</td>\n",
       "      <td>ABEV3</td>\n",
       "      <td>20220713</td>\n",
       "    </tr>\n",
       "    <tr>\n",
       "      <th>1</th>\n",
       "      <td>2.264151, 2.249057, 2.256604, 2.249057, 2.249...</td>\n",
       "      <td>AERI3</td>\n",
       "      <td>20220713</td>\n",
       "    </tr>\n",
       "    <tr>\n",
       "      <th>2</th>\n",
       "      <td>1.581432, 1.545124, 1.522303, 1.510892, 1.514...</td>\n",
       "      <td>ALPA4</td>\n",
       "      <td>20220713</td>\n",
       "    </tr>\n",
       "    <tr>\n",
       "      <th>3</th>\n",
       "      <td>1.175864, 1.173438, 1.190418, 1.185567, 1.186...</td>\n",
       "      <td>ALSO3</td>\n",
       "      <td>20220713</td>\n",
       "    </tr>\n",
       "    <tr>\n",
       "      <th>4</th>\n",
       "      <td>1.325893, 1.334821, 1.343750, 1.325893, 1.334...</td>\n",
       "      <td>AMAR3</td>\n",
       "      <td>20220713</td>\n",
       "    </tr>\n",
       "  </tbody>\n",
       "</table>\n",
       "</div>"
      ],
      "text/plain": [
       "                                              campoX ticker  diaNumPrevisao\n",
       "0   1.059420, 1.052899, 1.048551, 1.047101, 1.048...  ABEV3        20220713\n",
       "1   2.264151, 2.249057, 2.256604, 2.249057, 2.249...  AERI3        20220713\n",
       "2   1.581432, 1.545124, 1.522303, 1.510892, 1.514...  ALPA4        20220713\n",
       "3   1.175864, 1.173438, 1.190418, 1.185567, 1.186...  ALSO3        20220713\n",
       "4   1.325893, 1.334821, 1.343750, 1.325893, 1.334...  AMAR3        20220713"
      ]
     },
     "execution_count": 80,
     "metadata": {},
     "output_type": "execute_result"
    }
   ],
   "source": [
    "dfDados.head()"
   ]
  },
  {
   "cell_type": "code",
   "execution_count": 81,
   "id": "3994b9ed",
   "metadata": {},
   "outputs": [],
   "source": [
    "def incluiEntrada(treino):\n",
    "    urlEntrada = \"http://vps-40d69db1.vps.ovh.ca:23004/api/CotacaoIntradayAcaoResultados/listaPrecoEntradaPrevisaoPorDiaB3?diaNum=\" + str(dia) +\"&idRegra=\" + str(treino['regraProjecaoId']) + \"&idGrupo=\" + str(treino['grupoAcaoId'])\n",
    "    print(urlEntrada)\n",
    "    r = requests.get(urlEntrada)\n",
    "    j = r.json()\n",
    "    dfEntradas = pd.DataFrame.from_dict(j)\n",
    "    print(dfEntradas.head())\n",
    "    return dfEntradas"
   ]
  },
  {
   "cell_type": "code",
   "execution_count": 82,
   "id": "c603ebc9",
   "metadata": {},
   "outputs": [],
   "source": [
    "def trataRede(treino):\n",
    "    print('ID:' , treino['id'])\n",
    "    nome_arquivo = 'pesos/treino_rede' + str(treino['id']) + '.h5'\n",
    "    print(nome_arquivo)\n",
    "    modelo = tf.keras.models.load_model(nome_arquivo)\n",
    "    modelo.summary()\n",
    "    result = modelo.predict(X)\n",
    "    dfDados['resultado'] = result\n",
    "    dfDados['treinoRedeId'] = str(treino['id'])\n",
    "    dfDados['tipoCompraVenda'] = treino['tipoCompraVenda']\n",
    "    dfEntradas = incluiEntrada(treino)\n",
    "    dfPrevisao = pd.merge(dfDados,dfEntradas, how='left', left_on='ticker' ,  right_on='ticker')\n",
    "    print('ticker previsão:' , len(dfPrevisao))\n",
    "    json = dfPrevisao.to_dict(orient='list')\n",
    "    urlPrevisao = 'http://vps-40d69db1.vps.ovh.ca:23004/api/PrevisaoRedes/recebePrevisaoTreino'\n",
    "    print(json)\n",
    "    response = requests.post(urlPrevisao, data=json)\n",
    "    print(response)"
   ]
  },
  {
   "cell_type": "code",
   "execution_count": 83,
   "id": "cad5f9b9",
   "metadata": {},
   "outputs": [],
   "source": [
    "def trataLinhaX(linha):\n",
    "    return np.fromstring(linha['campoX'], dtype=float, sep=',')"
   ]
  },
  {
   "cell_type": "code",
   "execution_count": 84,
   "id": "eefdfd7b",
   "metadata": {},
   "outputs": [
    {
     "data": {
      "text/plain": [
       "(87, 1800)"
      ]
     },
     "execution_count": 84,
     "metadata": {},
     "output_type": "execute_result"
    }
   ],
   "source": [
    "dfTratadoX = dfDados.apply(trataLinhaX, axis='columns')\n",
    "X = np.stack(dfTratadoX.values)\n",
    "X.shape"
   ]
  },
  {
   "cell_type": "code",
   "execution_count": 85,
   "id": "b7632aa0",
   "metadata": {},
   "outputs": [],
   "source": [
    "dfDados.drop('campoX', inplace=True, axis=1)"
   ]
  },
  {
   "cell_type": "code",
   "execution_count": 86,
   "id": "746cf13b",
   "metadata": {},
   "outputs": [
    {
     "name": "stdout",
     "output_type": "stream",
     "text": [
      "ID: 8\n",
      "pesos/treino_rede8.h5\n",
      "Model: \"sequential\"\n",
      "_________________________________________________________________\n",
      " Layer (type)                Output Shape              Param #   \n",
      "=================================================================\n",
      " dense (Dense)               (None, 1800)              3241800   \n",
      "                                                                 \n",
      " dense_1 (Dense)             (None, 1400)              2521400   \n",
      "                                                                 \n",
      " dense_2 (Dense)             (None, 1000)              1401000   \n",
      "                                                                 \n",
      " dense_3 (Dense)             (None, 600)               600600    \n",
      "                                                                 \n",
      " dense_4 (Dense)             (None, 200)               120200    \n",
      "                                                                 \n",
      " dense_5 (Dense)             (None, 1)                 201       \n",
      "                                                                 \n",
      "=================================================================\n",
      "Total params: 7,885,201\n",
      "Trainable params: 7,885,201\n",
      "Non-trainable params: 0\n",
      "_________________________________________________________________\n",
      "http://vps-40d69db1.vps.ovh.ca:23004/api/CotacaoIntradayAcaoResultados/listaPrecoEntradaPrevisaoPorDiaB3?diaNum=20220713&idRegra=32&idGrupo=12\n",
      "  ticker  valorReferencia  valorEntrada\n",
      "0  ABEV3            13.80       13.5240\n",
      "1  AERI3             2.65        2.5970\n",
      "2  ALPA4            19.28       18.8944\n",
      "3  ALSO3            16.49       16.1602\n",
      "4  AMAR3             2.24        2.1952\n",
      "ticker previsão: 87\n",
      "{'ticker': ['ABEV3', 'AERI3', 'ALPA4', 'ALSO3', 'AMAR3', 'ANIM3', 'AZUL4', 'B3SA3', 'BBAS3', 'BBDC4', 'BBSE3', 'BEEF3', 'BKBR3', 'BPAC11', 'BPAN4', 'BRAP4', 'BRFS3', 'BRKM5', 'BRML3', 'CCRO3', 'CIEL3', 'CMIG4', 'COGN3', 'CPFE3', 'CPLE6', 'CRFB3', 'CSAN3', 'CSMG3', 'CSNA3', 'CVCB3', 'CYRE3', 'ECOR3', 'EGIE3', 'ELET3', 'ELET6', 'EMBR3', 'ENBR3', 'ENEV3', 'ENGI11', 'EQTL3', 'EZTC3', 'FLRY3', 'GGBR4', 'GOAU4', 'GOLL4', 'HAPV3', 'HYPE3', 'ITUB4', 'JBSS3', 'JHSF3', 'KLBN11', 'LIGT3', 'LREN3', 'LWSA3', 'MGLU3', 'MOVI3', 'MRFG3', 'MRVE3', 'MULT3', 'MYPK3', 'NEOE3', 'NTCO3', 'PCAR3', 'PETR4', 'POSI3', 'PRIO3', 'PTBL3', 'QUAL3', 'RADL3', 'RAIL3', 'RAPT4', 'RENT3', 'SANB11', 'SBSP3', 'SLCE3', 'SMTO3', 'STBP3', 'SULA11', 'SUZB3', 'TAEE11', 'TOTS3', 'UGPA3', 'USIM5', 'VALE3', 'WEGE3', 'WIZS3', 'YDUQ3'], 'diaNumPrevisao': [20220713, 20220713, 20220713, 20220713, 20220713, 20220713, 20220713, 20220713, 20220713, 20220713, 20220713, 20220713, 20220713, 20220713, 20220713, 20220713, 20220713, 20220713, 20220713, 20220713, 20220713, 20220713, 20220713, 20220713, 20220713, 20220713, 20220713, 20220713, 20220713, 20220713, 20220713, 20220713, 20220713, 20220713, 20220713, 20220713, 20220713, 20220713, 20220713, 20220713, 20220713, 20220713, 20220713, 20220713, 20220713, 20220713, 20220713, 20220713, 20220713, 20220713, 20220713, 20220713, 20220713, 20220713, 20220713, 20220713, 20220713, 20220713, 20220713, 20220713, 20220713, 20220713, 20220713, 20220713, 20220713, 20220713, 20220713, 20220713, 20220713, 20220713, 20220713, 20220713, 20220713, 20220713, 20220713, 20220713, 20220713, 20220713, 20220713, 20220713, 20220713, 20220713, 20220713, 20220713, 20220713, 20220713, 20220713], 'resultado': [0.1349111795425415, 0.29414835572242737, 0.2140994668006897, 0.18188121914863586, 0.2769819498062134, 0.27518555521965027, 0.267707884311676, 0.17012909054756165, 0.11536478996276855, 0.16321295499801636, 0.1218889057636261, 0.1809021234512329, 0.10814973711967468, 0.1215745210647583, 0.2287100851535797, 0.14431843161582947, 0.25231319665908813, 0.1935546100139618, 0.1568373739719391, 0.11705103516578674, 0.2519284188747406, 0.18955519795417786, 0.1281939446926117, 0.12017083168029785, 0.12722298502922058, 0.11259925365447998, 0.17927652597427368, 0.14150714874267578, 0.24287760257720947, 0.21077439188957214, 0.1871875524520874, 0.16932570934295654, 0.11809849739074707, 0.14609584212303162, 0.1525619626045227, 0.26368391513824463, 0.1216905415058136, 0.12254491448402405, 0.12168243527412415, 0.12598282098770142, 0.19231531023979187, 0.20151486992835999, 0.14423051476478577, 0.1380281150341034, 0.22108936309814453, 0.30266138911247253, 0.14321935176849365, 0.12814202904701233, 0.13192352652549744, 0.11003854870796204, 0.16524001955986023, 0.2323816418647766, 0.1413465142250061, 0.2636840343475342, 0.3287850022315979, 0.11283311247825623, 0.26373159885406494, 0.2367359697818756, 0.12358468770980835, 0.12405374646186829, 0.10331812500953674, 0.25768136978149414, 0.1497727930545807, 0.1359574794769287, 0.20674097537994385, 0.12087547779083252, 0.1566305160522461, 0.2344505488872528, 0.17512980103492737, 0.1220862865447998, 0.16291910409927368, 0.13559859991073608, 0.12052762508392334, 0.12426260113716125, 0.09642595052719116, 0.09377637505531311, 0.11288022994995117, 0.14475706219673157, 0.16537296772003174, 0.11861565709114075, 0.15200486779212952, 0.15791550278663635, 0.2668536901473999, 0.1500954031944275, 0.17379915714263916, 0.11213603615760803, 0.23591724038124084], 'treinoRedeId': ['8', '8', '8', '8', '8', '8', '8', '8', '8', '8', '8', '8', '8', '8', '8', '8', '8', '8', '8', '8', '8', '8', '8', '8', '8', '8', '8', '8', '8', '8', '8', '8', '8', '8', '8', '8', '8', '8', '8', '8', '8', '8', '8', '8', '8', '8', '8', '8', '8', '8', '8', '8', '8', '8', '8', '8', '8', '8', '8', '8', '8', '8', '8', '8', '8', '8', '8', '8', '8', '8', '8', '8', '8', '8', '8', '8', '8', '8', '8', '8', '8', '8', '8', '8', '8', '8', '8'], 'tipoCompraVenda': ['C', 'C', 'C', 'C', 'C', 'C', 'C', 'C', 'C', 'C', 'C', 'C', 'C', 'C', 'C', 'C', 'C', 'C', 'C', 'C', 'C', 'C', 'C', 'C', 'C', 'C', 'C', 'C', 'C', 'C', 'C', 'C', 'C', 'C', 'C', 'C', 'C', 'C', 'C', 'C', 'C', 'C', 'C', 'C', 'C', 'C', 'C', 'C', 'C', 'C', 'C', 'C', 'C', 'C', 'C', 'C', 'C', 'C', 'C', 'C', 'C', 'C', 'C', 'C', 'C', 'C', 'C', 'C', 'C', 'C', 'C', 'C', 'C', 'C', 'C', 'C', 'C', 'C', 'C', 'C', 'C', 'C', 'C', 'C', 'C', 'C', 'C'], 'valorReferencia': [13.8, 2.65, 19.28, 16.49, 2.24, 4.47, 12.42, 10.55, 33.02, 17.13, 25.28, 13.89, 5.77, 22.04, 6.42, 23.98, 15.83, 34.3, 7.69, 11.99, 3.98, 10.36, 2.41, 31.05, 6.93, 16.7, 17.16, 11.39, 14.28, 6.94, 13.05, 5.34, 41.67, 42.91, 44.11, 11.27, 20.71, 15.1, 40.18, 22.74, 16.91, 16.05, 23.17, 9.71, 7.79, 6.52, 39.44, 22.45, 30.7, 5.67, 19.55, 5.31, 24.2, 6.23, 2.93, 11.88, 12.6, 9.16, 23.8, 15.46, 13.86, 14.72, 16.68, 28.3, 5.92, 22.25, 7.41, 11.83, 20.24, 15.69, 10.04, 53.95, 27.77, 42.8, 40.86, 33.68, 6.25, 21.72, 47.6, 39.27, 23.79, 12.06, 8.33, 72.98, 26.55, 7.43, 14.38], 'valorEntrada': [13.524, 2.597, 18.8944, 16.1602, 2.1952, 4.3806, 12.1716, 10.339, 32.3596, 16.7874, 24.7744, 13.6122, 5.6546, 21.5992, 6.2916, 23.5004, 15.5134, 33.614, 7.5362, 11.7502, 3.9004, 10.1528, 2.3618, 30.429, 6.7914, 16.366, 16.8168, 11.1622, 13.9944, 6.8012, 12.789, 5.2332, 40.8366, 42.0518, 43.2278, 11.0446, 20.2958, 14.798, 39.3764, 22.2852, 16.5718, 15.729, 22.7066, 9.5158, 7.6342, 6.3896, 38.6512, 22.001, 30.086, 5.5566, 19.159, 5.2038, 23.716, 6.1054, 2.8714, 11.6424, 12.348, 8.9768, 23.324, 15.1508, 13.5828, 14.4256, 16.3464, 27.734, 5.8016, 21.805, 7.2618, 11.5934, 19.8352, 15.3762, 9.8392, 52.871, 27.2146, 41.944, 40.0428, 33.0064, 6.125, 21.2856, 46.648, 38.4846, 23.3142, 11.8188, 8.1634, 71.5204, 26.019, 7.2814, 14.0924]}\n",
      "<Response [200]>\n"
     ]
    },
    {
     "data": {
      "text/plain": [
       "0    None\n",
       "dtype: object"
      ]
     },
     "execution_count": 86,
     "metadata": {},
     "output_type": "execute_result"
    }
   ],
   "source": [
    "dfTreino.apply(trataRede, axis='columns')"
   ]
  },
  {
   "cell_type": "code",
   "execution_count": null,
   "id": "cb595c44",
   "metadata": {},
   "outputs": [],
   "source": []
  }
 ],
 "metadata": {
  "kernelspec": {
   "display_name": "Python 3 (ipykernel)",
   "language": "python",
   "name": "python3"
  },
  "language_info": {
   "codemirror_mode": {
    "name": "ipython",
    "version": 3
   },
   "file_extension": ".py",
   "mimetype": "text/x-python",
   "name": "python",
   "nbconvert_exporter": "python",
   "pygments_lexer": "ipython3",
   "version": "3.8.10"
  }
 },
 "nbformat": 4,
 "nbformat_minor": 5
}
