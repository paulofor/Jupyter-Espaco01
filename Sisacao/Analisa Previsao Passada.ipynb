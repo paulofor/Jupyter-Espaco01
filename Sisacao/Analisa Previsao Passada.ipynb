{
 "cells": [
  {
   "cell_type": "code",
   "execution_count": 1,
   "id": "a6e8821c",
   "metadata": {},
   "outputs": [
    {
     "name": "stderr",
     "output_type": "stream",
     "text": [
      "2022-07-19 12:07:13.431539: W tensorflow/stream_executor/platform/default/dso_loader.cc:64] Could not load dynamic library 'libcudart.so.11.0'; dlerror: libcudart.so.11.0: cannot open shared object file: No such file or directory\n",
      "2022-07-19 12:07:13.431607: I tensorflow/stream_executor/cuda/cudart_stub.cc:29] Ignore above cudart dlerror if you do not have a GPU set up on your machine.\n"
     ]
    }
   ],
   "source": [
    "import tensorflow as tf"
   ]
  },
  {
   "cell_type": "code",
   "execution_count": 2,
   "id": "5dd6fccc",
   "metadata": {},
   "outputs": [],
   "source": [
    "import requests\n",
    "import pandas as pd\n",
    "import numpy as np"
   ]
  },
  {
   "cell_type": "code",
   "execution_count": 18,
   "id": "e049f74c",
   "metadata": {},
   "outputs": [],
   "source": [
    "idTreino = 2\n",
    "data = 20220608\n",
    "\n",
    "urlPrevisao = \"http://vps-40d69db1.vps.ovh.ca:23005/api/PrevisaoRedes/obtemPorDiaTreinoComDiario?diaNumPrevisao={}&treinoRedeId={}\".format(data,idTreino)"
   ]
  },
  {
   "cell_type": "code",
   "execution_count": 19,
   "id": "345fb038",
   "metadata": {},
   "outputs": [],
   "source": [
    "r = requests.get(urlPrevisao)\n",
    "j = r.json()\n",
    "dfPrevisao = pd.DataFrame.from_dict(j)"
   ]
  },
  {
   "cell_type": "code",
   "execution_count": 20,
   "id": "3fbd5e33",
   "metadata": {},
   "outputs": [
    {
     "data": {
      "text/html": [
       "<div>\n",
       "<style scoped>\n",
       "    .dataframe tbody tr th:only-of-type {\n",
       "        vertical-align: middle;\n",
       "    }\n",
       "\n",
       "    .dataframe tbody tr th {\n",
       "        vertical-align: top;\n",
       "    }\n",
       "\n",
       "    .dataframe thead th {\n",
       "        text-align: right;\n",
       "    }\n",
       "</style>\n",
       "<table border=\"1\" class=\"dataframe\">\n",
       "  <thead>\n",
       "    <tr style=\"text-align: right;\">\n",
       "      <th></th>\n",
       "      <th>ticker</th>\n",
       "      <th>valorPrevisao</th>\n",
       "      <th>precoEntrada</th>\n",
       "      <th>maximo</th>\n",
       "      <th>minimo</th>\n",
       "    </tr>\n",
       "  </thead>\n",
       "  <tbody>\n",
       "    <tr>\n",
       "      <th>0</th>\n",
       "      <td>HAPV3</td>\n",
       "      <td>0.534197</td>\n",
       "      <td>5.98</td>\n",
       "      <td>6.21</td>\n",
       "      <td>5.77</td>\n",
       "    </tr>\n",
       "    <tr>\n",
       "      <th>1</th>\n",
       "      <td>SULA11</td>\n",
       "      <td>0.530477</td>\n",
       "      <td>25.50</td>\n",
       "      <td>25.58</td>\n",
       "      <td>24.59</td>\n",
       "    </tr>\n",
       "    <tr>\n",
       "      <th>2</th>\n",
       "      <td>MGLU3</td>\n",
       "      <td>0.480795</td>\n",
       "      <td>3.36</td>\n",
       "      <td>3.34</td>\n",
       "      <td>3.20</td>\n",
       "    </tr>\n",
       "    <tr>\n",
       "      <th>3</th>\n",
       "      <td>CRFB3</td>\n",
       "      <td>0.466184</td>\n",
       "      <td>18.96</td>\n",
       "      <td>18.87</td>\n",
       "      <td>18.39</td>\n",
       "    </tr>\n",
       "    <tr>\n",
       "      <th>4</th>\n",
       "      <td>CIEL3</td>\n",
       "      <td>0.438130</td>\n",
       "      <td>3.88</td>\n",
       "      <td>3.84</td>\n",
       "      <td>3.74</td>\n",
       "    </tr>\n",
       "  </tbody>\n",
       "</table>\n",
       "</div>"
      ],
      "text/plain": [
       "   ticker  valorPrevisao  precoEntrada  maximo  minimo\n",
       "0   HAPV3       0.534197          5.98    6.21    5.77\n",
       "1  SULA11       0.530477         25.50   25.58   24.59\n",
       "2   MGLU3       0.480795          3.36    3.34    3.20\n",
       "3   CRFB3       0.466184         18.96   18.87   18.39\n",
       "4   CIEL3       0.438130          3.88    3.84    3.74"
      ]
     },
     "execution_count": 20,
     "metadata": {},
     "output_type": "execute_result"
    }
   ],
   "source": [
    "dfPrevisao.head()"
   ]
  },
  {
   "cell_type": "code",
   "execution_count": null,
   "id": "3d9da9fe",
   "metadata": {},
   "outputs": [],
   "source": [
    "dfPrevisao.sort_values(by='valorPrevisao', ascending=False)"
   ]
  },
  {
   "cell_type": "code",
   "execution_count": null,
   "id": "1d245742",
   "metadata": {},
   "outputs": [],
   "source": []
  }
 ],
 "metadata": {
  "kernelspec": {
   "display_name": "Python 3 (ipykernel)",
   "language": "python",
   "name": "python3"
  },
  "language_info": {
   "codemirror_mode": {
    "name": "ipython",
    "version": 3
   },
   "file_extension": ".py",
   "mimetype": "text/x-python",
   "name": "python",
   "nbconvert_exporter": "python",
   "pygments_lexer": "ipython3",
   "version": "3.8.10"
  }
 },
 "nbformat": 4,
 "nbformat_minor": 5
}
