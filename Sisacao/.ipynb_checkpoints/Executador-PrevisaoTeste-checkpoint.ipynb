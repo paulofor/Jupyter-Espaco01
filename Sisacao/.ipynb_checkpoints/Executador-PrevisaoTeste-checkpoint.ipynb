{
 "cells": [
  {
   "cell_type": "code",
   "execution_count": null,
   "id": "89bae8ee",
   "metadata": {},
   "outputs": [],
   "source": [
    "import tensorflow as tf"
   ]
  },
  {
   "cell_type": "code",
   "execution_count": null,
   "id": "cba5bdad",
   "metadata": {},
   "outputs": [],
   "source": [
    "import requests\n",
    "import pandas as pd\n",
    "import numpy as np"
   ]
  },
  {
   "cell_type": "code",
   "execution_count": null,
   "id": "458185b1",
   "metadata": {},
   "outputs": [],
   "source": [
    "global dfEntradas"
   ]
  },
  {
   "cell_type": "code",
   "execution_count": null,
   "id": "b31f779c",
   "metadata": {},
   "outputs": [],
   "source": [
    "url = \"http://vps-40d69db1.vps.ovh.ca:23004/api/TreinoRedes/obtemListaPrevisaoTeste\""
   ]
  },
  {
   "cell_type": "code",
   "execution_count": null,
   "id": "b9cc9d2c",
   "metadata": {},
   "outputs": [],
   "source": [
    "r = requests.get(url)\n",
    "j = r.json()\n",
    "dfTreino = pd.DataFrame.from_dict(j)"
   ]
  },
  {
   "cell_type": "code",
   "execution_count": null,
   "id": "b17acd75",
   "metadata": {},
   "outputs": [],
   "source": [
    "dfTreino.head()"
   ]
  },
  {
   "cell_type": "code",
   "execution_count": null,
   "id": "022ed3f8",
   "metadata": {},
   "outputs": [],
   "source": [
    "idTreinoRede = 8\n",
    "urlDias = \"http://vps-40d69db1.vps.ovh.ca:23004/api/DiaPregaos/obtemPeriodoPrevisaoTeste?idPeriodoTreinoRede={}\".format(idTreinoRede)\n"
   ]
  },
  {
   "cell_type": "code",
   "execution_count": null,
   "id": "7b7ce4be",
   "metadata": {},
   "outputs": [],
   "source": [
    "print(urlDias)"
   ]
  },
  {
   "cell_type": "code",
   "execution_count": null,
   "id": "4c45365f",
   "metadata": {},
   "outputs": [],
   "source": [
    "dia = 20220713\n",
    "urlExemplos = \"http://vps-40d69db1.vps.ovh.ca:23004/api/ExemploTreinoAcaoEntradas/obtemPorDia?diaNum={}\".format(dia)"
   ]
  },
  {
   "cell_type": "code",
   "execution_count": null,
   "id": "0f6db303",
   "metadata": {},
   "outputs": [],
   "source": [
    "print(urlExemplos)"
   ]
  },
  {
   "cell_type": "code",
   "execution_count": null,
   "id": "1de2b7f7",
   "metadata": {},
   "outputs": [],
   "source": [
    "global dfDados\n",
    "r = requests.get(urlExemplos)\n",
    "j = r.json()\n",
    "dfDados = pd.DataFrame.from_dict(j)"
   ]
  },
  {
   "cell_type": "code",
   "execution_count": null,
   "id": "98fcfadd",
   "metadata": {},
   "outputs": [],
   "source": [
    "dfDados.head()"
   ]
  },
  {
   "cell_type": "code",
   "execution_count": null,
   "id": "3994b9ed",
   "metadata": {},
   "outputs": [],
   "source": [
    "def incluiEntrada(treino):\n",
    "    urlEntrada = \"http://vps-40d69db1.vps.ovh.ca:23004/api/CotacaoIntradayAcaoResultados/listaPrecoEntradaPrevisaoPorDiaB3?diaNum=\" + str(dia) +\"&idRegra=\" + str(treino['regraProjecaoId']) + \"&idGrupo=\" + str(treino['grupoAcaoId'])\n",
    "    print(urlEntrada)\n",
    "    r = requests.get(urlEntrada)\n",
    "    j = r.json()\n",
    "    dfEntradas = pd.DataFrame.from_dict(j)\n",
    "    print(dfEntradas.head())\n",
    "    return dfEntradas"
   ]
  },
  {
   "cell_type": "code",
   "execution_count": null,
   "id": "c603ebc9",
   "metadata": {},
   "outputs": [],
   "source": [
    "def trataRede(treino):\n",
    "    print('ID:' , treino['id'])\n",
    "    nome_arquivo = 'pesos/treino_rede' + str(treino['id']) + '.h5'\n",
    "    print(nome_arquivo)\n",
    "    modelo = tf.keras.models.load_model(nome_arquivo)\n",
    "    modelo.summary()\n",
    "    result = modelo.predict(X)\n",
    "    dfDados['resultado'] = result\n",
    "    dfDados['treinoRedeId'] = str(treino['id'])\n",
    "    dfDados['tipoCompraVenda'] = treino['tipoCompraVenda']\n",
    "    dfEntradas = incluiEntrada(treino)\n",
    "    dfPrevisao = pd.merge(dfDados,dfEntradas, how='left', left_on='ticker' ,  right_on='ticker')\n",
    "    print('ticker previsão:' , len(dfPrevisao))\n",
    "    json = dfPrevisao.to_dict(orient='list')\n",
    "    urlPrevisao = 'http://vps-40d69db1.vps.ovh.ca:23004/api/PrevisaoRedes/recebePrevisaoTreino'\n",
    "    print(json)\n",
    "    response = requests.post(urlPrevisao, data=json)\n",
    "    print(response)"
   ]
  },
  {
   "cell_type": "code",
   "execution_count": null,
   "id": "cad5f9b9",
   "metadata": {},
   "outputs": [],
   "source": [
    "def trataLinhaX(linha):\n",
    "    return np.fromstring(linha['campoX'], dtype=float, sep=',')"
   ]
  },
  {
   "cell_type": "code",
   "execution_count": null,
   "id": "eefdfd7b",
   "metadata": {},
   "outputs": [],
   "source": [
    "dfTratadoX = dfDados.apply(trataLinhaX, axis='columns')\n",
    "X = np.stack(dfTratadoX.values)\n",
    "X.shape"
   ]
  },
  {
   "cell_type": "code",
   "execution_count": null,
   "id": "b7632aa0",
   "metadata": {},
   "outputs": [],
   "source": [
    "dfDados.drop('campoX', inplace=True, axis=1)"
   ]
  },
  {
   "cell_type": "code",
   "execution_count": null,
   "id": "746cf13b",
   "metadata": {},
   "outputs": [],
   "source": [
    "dfTreino.apply(trataRede, axis='columns')"
   ]
  },
  {
   "cell_type": "code",
   "execution_count": null,
   "id": "cb595c44",
   "metadata": {},
   "outputs": [],
   "source": []
  }
 ],
 "metadata": {
  "kernelspec": {
   "display_name": "Python 3 (ipykernel)",
   "language": "python",
   "name": "python3"
  },
  "language_info": {
   "codemirror_mode": {
    "name": "ipython",
    "version": 3
   },
   "file_extension": ".py",
   "mimetype": "text/x-python",
   "name": "python",
   "nbconvert_exporter": "python",
   "pygments_lexer": "ipython3",
   "version": "3.8.10"
  }
 },
 "nbformat": 4,
 "nbformat_minor": 5
}
