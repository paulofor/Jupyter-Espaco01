{
 "cells": [
  {
   "cell_type": "code",
   "execution_count": 1,
   "id": "89bae8ee",
   "metadata": {},
   "outputs": [
    {
     "name": "stderr",
     "output_type": "stream",
     "text": [
      "2022-07-29 03:39:53.331480: W tensorflow/stream_executor/platform/default/dso_loader.cc:64] Could not load dynamic library 'libcudart.so.11.0'; dlerror: libcudart.so.11.0: cannot open shared object file: No such file or directory\n",
      "2022-07-29 03:39:53.331537: I tensorflow/stream_executor/cuda/cudart_stub.cc:29] Ignore above cudart dlerror if you do not have a GPU set up on your machine.\n"
     ]
    }
   ],
   "source": [
    "import tensorflow as tf"
   ]
  },
  {
   "cell_type": "code",
   "execution_count": 2,
   "id": "cba5bdad",
   "metadata": {},
   "outputs": [],
   "source": [
    "import requests\n",
    "import pandas as pd\n",
    "import numpy as np"
   ]
  },
  {
   "cell_type": "code",
   "execution_count": 3,
   "id": "458185b1",
   "metadata": {},
   "outputs": [],
   "source": [
    "global dfEntradas"
   ]
  },
  {
   "cell_type": "code",
   "execution_count": 4,
   "id": "b31f779c",
   "metadata": {},
   "outputs": [],
   "source": [
    "url = \"http://vps-40d69db1.vps.ovh.ca:23004/api/TreinoRedes/obtemListaParaPrevisao\""
   ]
  },
  {
   "cell_type": "code",
   "execution_count": 5,
   "id": "b9cc9d2c",
   "metadata": {},
   "outputs": [],
   "source": [
    "r = requests.get(url)\n",
    "j = r.json()\n",
    "dfTreino = pd.DataFrame.from_dict(j)"
   ]
  },
  {
   "cell_type": "code",
   "execution_count": 6,
   "id": "b17acd75",
   "metadata": {},
   "outputs": [
    {
     "data": {
      "text/html": [
       "<div>\n",
       "<style scoped>\n",
       "    .dataframe tbody tr th:only-of-type {\n",
       "        vertical-align: middle;\n",
       "    }\n",
       "\n",
       "    .dataframe tbody tr th {\n",
       "        vertical-align: top;\n",
       "    }\n",
       "\n",
       "    .dataframe thead th {\n",
       "        text-align: right;\n",
       "    }\n",
       "</style>\n",
       "<table border=\"1\" class=\"dataframe\">\n",
       "  <thead>\n",
       "    <tr style=\"text-align: right;\">\n",
       "      <th></th>\n",
       "      <th>id</th>\n",
       "      <th>grupoAcaoId</th>\n",
       "      <th>periodoTreinoRedeId</th>\n",
       "      <th>tipoExemploTreinoId</th>\n",
       "      <th>regraProjecaoId</th>\n",
       "      <th>redeNeuralId</th>\n",
       "      <th>ativoPrevisao</th>\n",
       "      <th>limiteParaEntrada</th>\n",
       "      <th>tipoCompraVenda</th>\n",
       "    </tr>\n",
       "  </thead>\n",
       "  <tbody>\n",
       "    <tr>\n",
       "      <th>0</th>\n",
       "      <td>8</td>\n",
       "      <td>12</td>\n",
       "      <td>1</td>\n",
       "      <td>1</td>\n",
       "      <td>32</td>\n",
       "      <td>2</td>\n",
       "      <td>1</td>\n",
       "      <td>0.3</td>\n",
       "      <td>C</td>\n",
       "    </tr>\n",
       "  </tbody>\n",
       "</table>\n",
       "</div>"
      ],
      "text/plain": [
       "   id  grupoAcaoId  periodoTreinoRedeId  tipoExemploTreinoId  regraProjecaoId  \\\n",
       "0   8           12                    1                    1               32   \n",
       "\n",
       "   redeNeuralId  ativoPrevisao  limiteParaEntrada tipoCompraVenda  \n",
       "0             2              1                0.3               C  "
      ]
     },
     "execution_count": 6,
     "metadata": {},
     "output_type": "execute_result"
    }
   ],
   "source": [
    "dfTreino.head()"
   ]
  },
  {
   "cell_type": "code",
   "execution_count": 67,
   "id": "4c45365f",
   "metadata": {},
   "outputs": [],
   "source": [
    "dia = 20220713\n",
    "urlExemplos = \"http://vps-40d69db1.vps.ovh.ca:23005/api/ExemploTreinoAcaoEntradas/obtemPorDia?diaNum={}\".format(dia)"
   ]
  },
  {
   "cell_type": "code",
   "execution_count": 68,
   "id": "0f6db303",
   "metadata": {},
   "outputs": [
    {
     "name": "stdout",
     "output_type": "stream",
     "text": [
      "http://vps-40d69db1.vps.ovh.ca:23005/api/ExemploTreinoAcaoEntradas/obtemPorDia?diaNum=20220712\n"
     ]
    }
   ],
   "source": [
    "print(urlExemplos)"
   ]
  },
  {
   "cell_type": "code",
   "execution_count": 69,
   "id": "1de2b7f7",
   "metadata": {},
   "outputs": [],
   "source": [
    "global dfDados\n",
    "r = requests.get(urlExemplos)\n",
    "j = r.json()\n",
    "dfDados = pd.DataFrame.from_dict(j)"
   ]
  },
  {
   "cell_type": "code",
   "execution_count": 70,
   "id": "98fcfadd",
   "metadata": {},
   "outputs": [
    {
     "data": {
      "text/html": [
       "<div>\n",
       "<style scoped>\n",
       "    .dataframe tbody tr th:only-of-type {\n",
       "        vertical-align: middle;\n",
       "    }\n",
       "\n",
       "    .dataframe tbody tr th {\n",
       "        vertical-align: top;\n",
       "    }\n",
       "\n",
       "    .dataframe thead th {\n",
       "        text-align: right;\n",
       "    }\n",
       "</style>\n",
       "<table border=\"1\" class=\"dataframe\">\n",
       "  <thead>\n",
       "    <tr style=\"text-align: right;\">\n",
       "      <th></th>\n",
       "      <th>campoX</th>\n",
       "      <th>ticker</th>\n",
       "      <th>diaNumPrevisao</th>\n",
       "    </tr>\n",
       "  </thead>\n",
       "  <tbody>\n",
       "    <tr>\n",
       "      <th>0</th>\n",
       "      <td>1.070922, 1.070922, 1.070922, 1.070922, 1.070...</td>\n",
       "      <td>ABEV3</td>\n",
       "      <td>20220712</td>\n",
       "    </tr>\n",
       "    <tr>\n",
       "      <th>1</th>\n",
       "      <td>2.359375, 2.359375, 2.359375, 2.359375, 2.359...</td>\n",
       "      <td>AERI3</td>\n",
       "      <td>20220712</td>\n",
       "    </tr>\n",
       "    <tr>\n",
       "      <th>2</th>\n",
       "      <td>1.626140, 1.626140, 1.626140, 1.626140, 1.626...</td>\n",
       "      <td>ALPA4</td>\n",
       "      <td>20220712</td>\n",
       "    </tr>\n",
       "    <tr>\n",
       "      <th>3</th>\n",
       "      <td>1.237508, 1.237508, 1.237508, 1.237508, 1.237...</td>\n",
       "      <td>ALSO3</td>\n",
       "      <td>20220712</td>\n",
       "    </tr>\n",
       "    <tr>\n",
       "      <th>4</th>\n",
       "      <td>1.530303, 1.530303, 1.530303, 1.530303, 1.530...</td>\n",
       "      <td>AMAR3</td>\n",
       "      <td>20220712</td>\n",
       "    </tr>\n",
       "  </tbody>\n",
       "</table>\n",
       "</div>"
      ],
      "text/plain": [
       "                                              campoX ticker  diaNumPrevisao\n",
       "0   1.070922, 1.070922, 1.070922, 1.070922, 1.070...  ABEV3        20220712\n",
       "1   2.359375, 2.359375, 2.359375, 2.359375, 2.359...  AERI3        20220712\n",
       "2   1.626140, 1.626140, 1.626140, 1.626140, 1.626...  ALPA4        20220712\n",
       "3   1.237508, 1.237508, 1.237508, 1.237508, 1.237...  ALSO3        20220712\n",
       "4   1.530303, 1.530303, 1.530303, 1.530303, 1.530...  AMAR3        20220712"
      ]
     },
     "execution_count": 70,
     "metadata": {},
     "output_type": "execute_result"
    }
   ],
   "source": [
    "dfDados.head()"
   ]
  },
  {
   "cell_type": "code",
   "execution_count": 71,
   "id": "3994b9ed",
   "metadata": {},
   "outputs": [],
   "source": [
    "def incluiEntrada(treino):\n",
    "    urlEntrada = \"http://vps-40d69db1.vps.ovh.ca:23004/api/CotacaoIntradayAcaoResultados/listaPrecoEntradaPrevisaoPorDiaB3?diaNum=\" + str(dia) +\"&idRegra=\" + str(treino['regraProjecaoId']) + \"&idGrupo=\" + str(treino['grupoAcaoId'])\n",
    "    print(urlEntrada)\n",
    "    r = requests.get(urlEntrada)\n",
    "    j = r.json()\n",
    "    dfEntradas = pd.DataFrame.from_dict(j)\n",
    "    print(dfEntradas.head())\n",
    "    return dfEntradas"
   ]
  },
  {
   "cell_type": "code",
   "execution_count": 72,
   "id": "c603ebc9",
   "metadata": {},
   "outputs": [],
   "source": [
    "def trataRede(treino):\n",
    "    print('ID:' , treino['id'])\n",
    "    nome_arquivo = 'pesos/treino_rede' + str(treino['id']) + '.h5'\n",
    "    print(nome_arquivo)\n",
    "    modelo = tf.keras.models.load_model(nome_arquivo)\n",
    "    modelo.summary()\n",
    "    result = modelo.predict(X)\n",
    "    dfDados['resultado'] = result\n",
    "    dfDados['treinoRedeId'] = str(treino['id'])\n",
    "    dfDados['tipoCompraVenda'] = treino['tipoCompraVenda']\n",
    "    dfEntradas = incluiEntrada(treino)\n",
    "    dfPrevisao = pd.merge(dfDados,dfEntradas, how='left', left_on='ticker' ,  right_on='ticker')\n",
    "    print('ticker previsão:' , len(dfPrevisao))\n",
    "    json = dfPrevisao.to_dict(orient='list')\n",
    "    urlPrevisao = 'http://vps-40d69db1.vps.ovh.ca:23004/api/PrevisaoRedes/recebePrevisaoTreino'\n",
    "    print(json)\n",
    "    response = requests.post(urlPrevisao, data=json)\n",
    "    print(response)"
   ]
  },
  {
   "cell_type": "code",
   "execution_count": 73,
   "id": "cad5f9b9",
   "metadata": {},
   "outputs": [],
   "source": [
    "def trataLinhaX(linha):\n",
    "    return np.fromstring(linha['campoX'], dtype=float, sep=',')"
   ]
  },
  {
   "cell_type": "code",
   "execution_count": 74,
   "id": "eefdfd7b",
   "metadata": {},
   "outputs": [
    {
     "data": {
      "text/plain": [
       "(87, 1800)"
      ]
     },
     "execution_count": 74,
     "metadata": {},
     "output_type": "execute_result"
    }
   ],
   "source": [
    "dfTratadoX = dfDados.apply(trataLinhaX, axis='columns')\n",
    "X = np.stack(dfTratadoX.values)\n",
    "X.shape"
   ]
  },
  {
   "cell_type": "code",
   "execution_count": 75,
   "id": "b7632aa0",
   "metadata": {},
   "outputs": [],
   "source": [
    "dfDados.drop('campoX', inplace=True, axis=1)"
   ]
  },
  {
   "cell_type": "code",
   "execution_count": 76,
   "id": "746cf13b",
   "metadata": {},
   "outputs": [
    {
     "name": "stdout",
     "output_type": "stream",
     "text": [
      "ID: 8\n",
      "pesos/treino_rede8.h5\n",
      "Model: \"sequential\"\n",
      "_________________________________________________________________\n",
      " Layer (type)                Output Shape              Param #   \n",
      "=================================================================\n",
      " dense (Dense)               (None, 1800)              3241800   \n",
      "                                                                 \n",
      " dense_1 (Dense)             (None, 1400)              2521400   \n",
      "                                                                 \n",
      " dense_2 (Dense)             (None, 1000)              1401000   \n",
      "                                                                 \n",
      " dense_3 (Dense)             (None, 600)               600600    \n",
      "                                                                 \n",
      " dense_4 (Dense)             (None, 200)               120200    \n",
      "                                                                 \n",
      " dense_5 (Dense)             (None, 1)                 201       \n",
      "                                                                 \n",
      "=================================================================\n",
      "Total params: 7,885,201\n",
      "Trainable params: 7,885,201\n",
      "Non-trainable params: 0\n",
      "_________________________________________________________________\n",
      "http://vps-40d69db1.vps.ovh.ca:23004/api/CotacaoIntradayAcaoResultados/listaPrecoEntradaPrevisaoPorDiaB3?diaNum=20220712&idRegra=32&idGrupo=12\n",
      "  ticker  valorReferencia  valorEntrada\n",
      "0  ABEV3            14.10       13.8180\n",
      "1  AERI3             2.56        2.5088\n",
      "2  ALPA4            19.74       19.3452\n",
      "3  ALSO3            16.21       15.8858\n",
      "4  AMAR3             1.98        1.9404\n",
      "ticker previsão: 87\n",
      "{'ticker': ['ABEV3', 'AERI3', 'ALPA4', 'ALSO3', 'AMAR3', 'ANIM3', 'AZUL4', 'B3SA3', 'BBAS3', 'BBDC4', 'BBSE3', 'BEEF3', 'BKBR3', 'BPAC11', 'BPAN4', 'BRAP4', 'BRFS3', 'BRKM5', 'BRML3', 'CCRO3', 'CIEL3', 'CMIG4', 'COGN3', 'CPFE3', 'CPLE6', 'CRFB3', 'CSAN3', 'CSMG3', 'CSNA3', 'CVCB3', 'CYRE3', 'ECOR3', 'EGIE3', 'ELET3', 'ELET6', 'EMBR3', 'ENBR3', 'ENEV3', 'ENGI11', 'EQTL3', 'EZTC3', 'FLRY3', 'GGBR4', 'GOAU4', 'GOLL4', 'HAPV3', 'HYPE3', 'ITUB4', 'JBSS3', 'JHSF3', 'KLBN11', 'LIGT3', 'LREN3', 'LWSA3', 'MGLU3', 'MOVI3', 'MRFG3', 'MRVE3', 'MULT3', 'MYPK3', 'NEOE3', 'NTCO3', 'PCAR3', 'PETR4', 'POSI3', 'PRIO3', 'PTBL3', 'QUAL3', 'RADL3', 'RAIL3', 'RAPT4', 'RENT3', 'SANB11', 'SBSP3', 'SLCE3', 'SMTO3', 'STBP3', 'SULA11', 'SUZB3', 'TAEE11', 'TOTS3', 'UGPA3', 'USIM5', 'VALE3', 'WEGE3', 'WIZS3', 'YDUQ3'], 'diaNumPrevisao': [20220712, 20220712, 20220712, 20220712, 20220712, 20220712, 20220712, 20220712, 20220712, 20220712, 20220712, 20220712, 20220712, 20220712, 20220712, 20220712, 20220712, 20220712, 20220712, 20220712, 20220712, 20220712, 20220712, 20220712, 20220712, 20220712, 20220712, 20220712, 20220712, 20220712, 20220712, 20220712, 20220712, 20220712, 20220712, 20220712, 20220712, 20220712, 20220712, 20220712, 20220712, 20220712, 20220712, 20220712, 20220712, 20220712, 20220712, 20220712, 20220712, 20220712, 20220712, 20220712, 20220712, 20220712, 20220712, 20220712, 20220712, 20220712, 20220712, 20220712, 20220712, 20220712, 20220712, 20220712, 20220712, 20220712, 20220712, 20220712, 20220712, 20220712, 20220712, 20220712, 20220712, 20220712, 20220712, 20220712, 20220712, 20220712, 20220712, 20220712, 20220712, 20220712, 20220712, 20220712, 20220712, 20220712, 20220712], 'resultado': [0.13961470127105713, 0.2921257019042969, 0.2235027253627777, 0.17418056726455688, 0.26040560007095337, 0.2687409818172455, 0.25335660576820374, 0.1689755916595459, 0.114844411611557, 0.1623835563659668, 0.12191316485404968, 0.18450823426246643, 0.10618624091148376, 0.11711809039115906, 0.22492066025733948, 0.14316916465759277, 0.2561522126197815, 0.19215944409370422, 0.15065035223960876, 0.11603718996047974, 0.25204724073410034, 0.18757855892181396, 0.12342038750648499, 0.11784523725509644, 0.12462961673736572, 0.11918500065803528, 0.18072831630706787, 0.1370469629764557, 0.24044910073280334, 0.19854477047920227, 0.17698445916175842, 0.16850951313972473, 0.11963507533073425, 0.14406335353851318, 0.15035656094551086, 0.2588474750518799, 0.12261492013931274, 0.12474268674850464, 0.11731696128845215, 0.12211206555366516, 0.188362717628479, 0.2020193338394165, 0.14314004778862, 0.13865578174591064, 0.2084251046180725, 0.29763662815093994, 0.1420949399471283, 0.12761139869689941, 0.1328153908252716, 0.10660141706466675, 0.16432026028633118, 0.2279454469680786, 0.1408100426197052, 0.25745874643325806, 0.31474918127059937, 0.11097133159637451, 0.2624717354774475, 0.23018017411231995, 0.12291055917739868, 0.1202441155910492, 0.09704124927520752, 0.2450040876865387, 0.1529894471168518, 0.13714492321014404, 0.20247796177864075, 0.12043026089668274, 0.16055190563201904, 0.2287624180316925, 0.17073804140090942, 0.12218061089515686, 0.16479450464248657, 0.1354963183403015, 0.12079912424087524, 0.12359035015106201, 0.1063624918460846, 0.09795930981636047, 0.11157539486885071, 0.13899469375610352, 0.166703999042511, 0.11693897843360901, 0.14869913458824158, 0.1542692482471466, 0.2664293646812439, 0.14795824885368347, 0.17326071858406067, 0.10756620764732361, 0.23308831453323364], 'treinoRedeId': ['8', '8', '8', '8', '8', '8', '8', '8', '8', '8', '8', '8', '8', '8', '8', '8', '8', '8', '8', '8', '8', '8', '8', '8', '8', '8', '8', '8', '8', '8', '8', '8', '8', '8', '8', '8', '8', '8', '8', '8', '8', '8', '8', '8', '8', '8', '8', '8', '8', '8', '8', '8', '8', '8', '8', '8', '8', '8', '8', '8', '8', '8', '8', '8', '8', '8', '8', '8', '8', '8', '8', '8', '8', '8', '8', '8', '8', '8', '8', '8', '8', '8', '8', '8', '8', '8', '8'], 'tipoCompraVenda': ['C', 'C', 'C', 'C', 'C', 'C', 'C', 'C', 'C', 'C', 'C', 'C', 'C', 'C', 'C', 'C', 'C', 'C', 'C', 'C', 'C', 'C', 'C', 'C', 'C', 'C', 'C', 'C', 'C', 'C', 'C', 'C', 'C', 'C', 'C', 'C', 'C', 'C', 'C', 'C', 'C', 'C', 'C', 'C', 'C', 'C', 'C', 'C', 'C', 'C', 'C', 'C', 'C', 'C', 'C', 'C', 'C', 'C', 'C', 'C', 'C', 'C', 'C', 'C', 'C', 'C', 'C', 'C', 'C', 'C', 'C', 'C', 'C', 'C', 'C', 'C', 'C', 'C', 'C', 'C', 'C', 'C', 'C', 'C', 'C', 'C', 'C'], 'valorReferencia': [14.1, 2.56, 19.74, 16.21, 1.98, 4.33, 11.5, 10.78, 32.92, 17.05, 25.12, 14.15, 5.72, 21.68, 6.35, 24.22, 15.46, 34.26, 7.61, 12.01, 3.93, 10.25, 2.33, 30.56, 6.84, 17.25, 17.45, 11.27, 14.29, 6.81, 12.42, 5.38, 41.95, 42.3, 43.36, 10.93, 20.89, 15.23, 39.55, 22.48, 16.27, 15.87, 22.92, 9.7, 7.49, 6.3, 38.95, 22.46, 31.05, 5.56, 19.45, 5.4, 24.06, 6.08, 2.64, 12.04, 12.57, 8.9, 23.62, 15.1, 13.57, 13.62, 17.15, 28.62, 5.85, 21.97, 7.48, 11.86, 19.76, 15.74, 10.04, 53.9, 27.96, 42.24, 43.64, 34.61, 6.24, 21.4, 47.67, 39.04, 24.0, 11.85, 8.4, 72.85, 26.62, 7.27, 14.28], 'valorEntrada': [13.818, 2.5088, 19.3452, 15.8858, 1.9404, 4.2434, 11.27, 10.5644, 32.2616, 16.709, 24.6176, 13.867, 5.6056, 21.2464, 6.223, 23.7356, 15.1508, 33.5748, 7.4578, 11.7698, 3.8514, 10.045, 2.2834, 29.9488, 6.7032, 16.905, 17.101, 11.0446, 14.0042, 6.6738, 12.1716, 5.2724, 41.111, 41.454, 42.4928, 10.7114, 20.4722, 14.9254, 38.759, 22.0304, 15.9446, 15.5526, 22.4616, 9.506, 7.3402, 6.174, 38.171, 22.0108, 30.429, 5.4488, 19.061, 5.292, 23.5788, 5.9584, 2.5872, 11.7992, 12.3186, 8.722, 23.1476, 14.798, 13.2986, 13.3476, 16.807, 28.0476, 5.733, 21.5306, 7.3304, 11.6228, 19.3648, 15.4252, 9.8392, 52.822, 27.4008, 41.3952, 42.7672, 33.9178, 6.1152, 20.972, 46.7166, 38.2592, 23.52, 11.613, 8.232, 71.393, 26.0876, 7.1246, 13.9944]}\n",
      "<Response [200]>\n"
     ]
    },
    {
     "data": {
      "text/plain": [
       "0    None\n",
       "dtype: object"
      ]
     },
     "execution_count": 76,
     "metadata": {},
     "output_type": "execute_result"
    }
   ],
   "source": [
    "dfTreino.apply(trataRede, axis='columns')"
   ]
  },
  {
   "cell_type": "code",
   "execution_count": null,
   "id": "cb595c44",
   "metadata": {},
   "outputs": [],
   "source": []
  }
 ],
 "metadata": {
  "kernelspec": {
   "display_name": "Python 3 (ipykernel)",
   "language": "python",
   "name": "python3"
  },
  "language_info": {
   "codemirror_mode": {
    "name": "ipython",
    "version": 3
   },
   "file_extension": ".py",
   "mimetype": "text/x-python",
   "name": "python",
   "nbconvert_exporter": "python",
   "pygments_lexer": "ipython3",
   "version": "3.8.10"
  }
 },
 "nbformat": 4,
 "nbformat_minor": 5
}
