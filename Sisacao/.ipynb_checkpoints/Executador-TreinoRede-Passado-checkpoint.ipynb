{
 "cells": [
  {
   "cell_type": "code",
   "execution_count": 1,
   "id": "89bae8ee",
   "metadata": {},
   "outputs": [
    {
     "name": "stderr",
     "output_type": "stream",
     "text": [
      "2022-07-25 16:56:00.908662: W tensorflow/stream_executor/platform/default/dso_loader.cc:64] Could not load dynamic library 'libcudart.so.11.0'; dlerror: libcudart.so.11.0: cannot open shared object file: No such file or directory\n",
      "2022-07-25 16:56:00.908739: I tensorflow/stream_executor/cuda/cudart_stub.cc:29] Ignore above cudart dlerror if you do not have a GPU set up on your machine.\n"
     ]
    }
   ],
   "source": [
    "import tensorflow as tf"
   ]
  },
  {
   "cell_type": "code",
   "execution_count": 2,
   "id": "cba5bdad",
   "metadata": {},
   "outputs": [],
   "source": [
    "import requests\n",
    "import pandas as pd\n",
    "import numpy as np"
   ]
  },
  {
   "cell_type": "code",
   "execution_count": 3,
   "id": "458185b1",
   "metadata": {},
   "outputs": [],
   "source": [
    "global dfEntradas"
   ]
  },
  {
   "cell_type": "code",
   "execution_count": 4,
   "id": "b31f779c",
   "metadata": {},
   "outputs": [],
   "source": [
    "url = \"http://vps-40d69db1.vps.ovh.ca:23004/api/TreinoRedes/obtemListaParaPrevisao\""
   ]
  },
  {
   "cell_type": "code",
   "execution_count": 5,
   "id": "b9cc9d2c",
   "metadata": {},
   "outputs": [],
   "source": [
    "r = requests.get(url)\n",
    "j = r.json()\n",
    "dfTreino = pd.DataFrame.from_dict(j)"
   ]
  },
  {
   "cell_type": "code",
   "execution_count": 6,
   "id": "b17acd75",
   "metadata": {},
   "outputs": [
    {
     "data": {
      "text/html": [
       "<div>\n",
       "<style scoped>\n",
       "    .dataframe tbody tr th:only-of-type {\n",
       "        vertical-align: middle;\n",
       "    }\n",
       "\n",
       "    .dataframe tbody tr th {\n",
       "        vertical-align: top;\n",
       "    }\n",
       "\n",
       "    .dataframe thead th {\n",
       "        text-align: right;\n",
       "    }\n",
       "</style>\n",
       "<table border=\"1\" class=\"dataframe\">\n",
       "  <thead>\n",
       "    <tr style=\"text-align: right;\">\n",
       "      <th></th>\n",
       "      <th>id</th>\n",
       "      <th>grupoAcaoId</th>\n",
       "      <th>periodoTreinoRedeId</th>\n",
       "      <th>tipoExemploTreinoId</th>\n",
       "      <th>regraProjecaoId</th>\n",
       "      <th>redeNeuralId</th>\n",
       "      <th>ativoPrevisao</th>\n",
       "      <th>tipoCompraVenda</th>\n",
       "    </tr>\n",
       "  </thead>\n",
       "  <tbody>\n",
       "    <tr>\n",
       "      <th>0</th>\n",
       "      <td>2</td>\n",
       "      <td>12</td>\n",
       "      <td>1</td>\n",
       "      <td>1</td>\n",
       "      <td>30</td>\n",
       "      <td>2</td>\n",
       "      <td>1</td>\n",
       "      <td>V</td>\n",
       "    </tr>\n",
       "  </tbody>\n",
       "</table>\n",
       "</div>"
      ],
      "text/plain": [
       "   id  grupoAcaoId  periodoTreinoRedeId  tipoExemploTreinoId  regraProjecaoId  \\\n",
       "0   2           12                    1                    1               30   \n",
       "\n",
       "   redeNeuralId  ativoPrevisao tipoCompraVenda  \n",
       "0             2              1               V  "
      ]
     },
     "execution_count": 6,
     "metadata": {},
     "output_type": "execute_result"
    }
   ],
   "source": [
    "dfTreino.head()"
   ]
  },
  {
   "cell_type": "code",
   "execution_count": 7,
   "id": "4c45365f",
   "metadata": {},
   "outputs": [],
   "source": [
    "dia = 20220630\n",
    "urlExemplos = \"http://vps-40d69db1.vps.ovh.ca:23005/api/ExemploTreinoAcaoEntradas/obtemPorDia?diaNum={}\".format(dia)"
   ]
  },
  {
   "cell_type": "code",
   "execution_count": 8,
   "id": "0f6db303",
   "metadata": {},
   "outputs": [
    {
     "name": "stdout",
     "output_type": "stream",
     "text": [
      "http://vps-40d69db1.vps.ovh.ca:23005/api/ExemploTreinoAcaoEntradas/obtemPorDia?diaNum=20220629\n"
     ]
    }
   ],
   "source": [
    "print(urlExemplos)"
   ]
  },
  {
   "cell_type": "code",
   "execution_count": 9,
   "id": "1de2b7f7",
   "metadata": {},
   "outputs": [],
   "source": [
    "global dfDados\n",
    "r = requests.get(urlExemplos)\n",
    "j = r.json()\n",
    "dfDados = pd.DataFrame.from_dict(j)"
   ]
  },
  {
   "cell_type": "code",
   "execution_count": 10,
   "id": "98fcfadd",
   "metadata": {},
   "outputs": [
    {
     "data": {
      "text/html": [
       "<div>\n",
       "<style scoped>\n",
       "    .dataframe tbody tr th:only-of-type {\n",
       "        vertical-align: middle;\n",
       "    }\n",
       "\n",
       "    .dataframe tbody tr th {\n",
       "        vertical-align: top;\n",
       "    }\n",
       "\n",
       "    .dataframe thead th {\n",
       "        text-align: right;\n",
       "    }\n",
       "</style>\n",
       "<table border=\"1\" class=\"dataframe\">\n",
       "  <thead>\n",
       "    <tr style=\"text-align: right;\">\n",
       "      <th></th>\n",
       "      <th>campoX</th>\n",
       "      <th>ticker</th>\n",
       "      <th>diaNumPrevisao</th>\n",
       "    </tr>\n",
       "  </thead>\n",
       "  <tbody>\n",
       "    <tr>\n",
       "      <th>0</th>\n",
       "      <td>1.137342, 1.127691, 1.125464, 1.133630, 1.134...</td>\n",
       "      <td>ABEV3</td>\n",
       "      <td>20220629</td>\n",
       "    </tr>\n",
       "    <tr>\n",
       "      <th>1</th>\n",
       "      <td>2.271478, 2.281787, 2.329897, 2.271478, 2.288...</td>\n",
       "      <td>AERI3</td>\n",
       "      <td>20220629</td>\n",
       "    </tr>\n",
       "    <tr>\n",
       "      <th>2</th>\n",
       "      <td>1.718131, 1.721686, 1.712544, 1.703911, 1.704...</td>\n",
       "      <td>ALPA4</td>\n",
       "      <td>20220629</td>\n",
       "    </tr>\n",
       "    <tr>\n",
       "      <th>3</th>\n",
       "      <td>1.246201, 1.234043, 1.232219, 1.228571, 1.227...</td>\n",
       "      <td>ALSO3</td>\n",
       "      <td>20220629</td>\n",
       "    </tr>\n",
       "    <tr>\n",
       "      <th>4</th>\n",
       "      <td>1.951087, 1.918478, 1.913043, 1.902174, 1.902...</td>\n",
       "      <td>AMAR3</td>\n",
       "      <td>20220629</td>\n",
       "    </tr>\n",
       "  </tbody>\n",
       "</table>\n",
       "</div>"
      ],
      "text/plain": [
       "                                              campoX ticker  diaNumPrevisao\n",
       "0   1.137342, 1.127691, 1.125464, 1.133630, 1.134...  ABEV3        20220629\n",
       "1   2.271478, 2.281787, 2.329897, 2.271478, 2.288...  AERI3        20220629\n",
       "2   1.718131, 1.721686, 1.712544, 1.703911, 1.704...  ALPA4        20220629\n",
       "3   1.246201, 1.234043, 1.232219, 1.228571, 1.227...  ALSO3        20220629\n",
       "4   1.951087, 1.918478, 1.913043, 1.902174, 1.902...  AMAR3        20220629"
      ]
     },
     "execution_count": 10,
     "metadata": {},
     "output_type": "execute_result"
    }
   ],
   "source": [
    "dfDados.head()"
   ]
  },
  {
   "cell_type": "code",
   "execution_count": 11,
   "id": "3994b9ed",
   "metadata": {},
   "outputs": [],
   "source": [
    "def incluiEntrada(treino):\n",
    "    urlEntrada = \"http://vps-40d69db1.vps.ovh.ca:23004/api/CotacaoIntradayAcaoResultados/listaPrecoEntradaPrevisaoPorDiaB3?diaNum=\" + str(dia) +\"&idRegra=\" + str(treino['regraProjecaoId']) + \"&idGrupo=\" + str(treino['grupoAcaoId'])\n",
    "    print(urlEntrada)\n",
    "    r = requests.get(urlEntrada)\n",
    "    j = r.json()\n",
    "    dfEntradas = pd.DataFrame.from_dict(j)\n",
    "    print(dfEntradas.head())\n",
    "    return dfEntradas"
   ]
  },
  {
   "cell_type": "code",
   "execution_count": 12,
   "id": "c603ebc9",
   "metadata": {},
   "outputs": [],
   "source": [
    "def trataRede(treino):\n",
    "    print('ID:' , treino['id'])\n",
    "    nome_arquivo = 'pesos/treino_rede' + str(treino['id']) + '.h5'\n",
    "    print(nome_arquivo)\n",
    "    modelo = tf.keras.models.load_model(nome_arquivo)\n",
    "    modelo.summary()\n",
    "    result = modelo.predict(X)\n",
    "    dfDados['resultado'] = result\n",
    "    dfDados['treinoRedeId'] = str(treino['id'])\n",
    "    dfDados['tipoCompraVenda'] = treino['tipoCompraVenda']\n",
    "    dfEntradas = incluiEntrada(treino)\n",
    "    dfPrevisao = pd.merge(dfDados,dfEntradas, how='left', left_on='ticker' ,  right_on='ticker')\n",
    "    print('ticker previsão:' , len(dfPrevisao))\n",
    "    json = dfPrevisao.to_dict(orient='list')\n",
    "    urlPrevisao = 'http://vps-40d69db1.vps.ovh.ca:23004/api/PrevisaoRedes/recebePrevisaoTreino'\n",
    "    print(json)\n",
    "    response = requests.post(urlPrevisao, data=json)\n",
    "    print(response)"
   ]
  },
  {
   "cell_type": "code",
   "execution_count": 13,
   "id": "cad5f9b9",
   "metadata": {},
   "outputs": [],
   "source": [
    "def trataLinhaX(linha):\n",
    "    return np.fromstring(linha['campoX'], dtype=float, sep=',')"
   ]
  },
  {
   "cell_type": "code",
   "execution_count": 14,
   "id": "eefdfd7b",
   "metadata": {},
   "outputs": [
    {
     "data": {
      "text/plain": [
       "(88, 1800)"
      ]
     },
     "execution_count": 14,
     "metadata": {},
     "output_type": "execute_result"
    }
   ],
   "source": [
    "dfTratadoX = dfDados.apply(trataLinhaX, axis='columns')\n",
    "X = np.stack(dfTratadoX.values)\n",
    "X.shape"
   ]
  },
  {
   "cell_type": "code",
   "execution_count": 15,
   "id": "b7632aa0",
   "metadata": {},
   "outputs": [],
   "source": [
    "dfDados.drop('campoX', inplace=True, axis=1)"
   ]
  },
  {
   "cell_type": "code",
   "execution_count": 16,
   "id": "746cf13b",
   "metadata": {},
   "outputs": [
    {
     "name": "stdout",
     "output_type": "stream",
     "text": [
      "ID: 2\n",
      "pesos/treino_rede2.h5\n"
     ]
    },
    {
     "name": "stderr",
     "output_type": "stream",
     "text": [
      "2022-07-25 16:57:16.741821: E tensorflow/stream_executor/cuda/cuda_driver.cc:271] failed call to cuInit: CUDA_ERROR_NO_DEVICE: no CUDA-capable device is detected\n",
      "2022-07-25 16:57:16.777568: I tensorflow/stream_executor/cuda/cuda_diagnostics.cc:156] kernel driver does not appear to be running on this host (vps34755): /proc/driver/nvidia/version does not exist\n",
      "2022-07-25 16:57:17.156482: I tensorflow/core/platform/cpu_feature_guard.cc:151] This TensorFlow binary is optimized with oneAPI Deep Neural Network Library (oneDNN) to use the following CPU instructions in performance-critical operations:  AVX2 FMA\n",
      "To enable them in other operations, rebuild TensorFlow with the appropriate compiler flags.\n",
      "2022-07-25 16:57:33.134226: W tensorflow/core/framework/cpu_allocator_impl.cc:82] Allocation of 12960000 exceeds 10% of free system memory.\n",
      "2022-07-25 16:57:35.833559: W tensorflow/core/framework/cpu_allocator_impl.cc:82] Allocation of 12960000 exceeds 10% of free system memory.\n",
      "2022-07-25 16:57:39.932161: W tensorflow/core/framework/cpu_allocator_impl.cc:82] Allocation of 12960000 exceeds 10% of free system memory.\n",
      "2022-07-25 16:57:41.397160: W tensorflow/core/framework/cpu_allocator_impl.cc:82] Allocation of 10080000 exceeds 10% of free system memory.\n",
      "2022-07-25 16:57:41.456139: W tensorflow/core/framework/cpu_allocator_impl.cc:82] Allocation of 10080000 exceeds 10% of free system memory.\n"
     ]
    },
    {
     "name": "stdout",
     "output_type": "stream",
     "text": [
      "Model: \"sequential\"\n",
      "_________________________________________________________________\n",
      " Layer (type)                Output Shape              Param #   \n",
      "=================================================================\n",
      " dense (Dense)               (None, 1800)              3241800   \n",
      "                                                                 \n",
      " dense_1 (Dense)             (None, 1400)              2521400   \n",
      "                                                                 \n",
      " dense_2 (Dense)             (None, 1000)              1401000   \n",
      "                                                                 \n",
      " dense_3 (Dense)             (None, 600)               600600    \n",
      "                                                                 \n",
      " dense_4 (Dense)             (None, 200)               120200    \n",
      "                                                                 \n",
      " dense_5 (Dense)             (None, 1)                 201       \n",
      "                                                                 \n",
      "=================================================================\n",
      "Total params: 7,885,201\n",
      "Trainable params: 7,885,201\n",
      "Non-trainable params: 0\n",
      "_________________________________________________________________\n",
      "http://vps-40d69db1.vps.ovh.ca:23004/api/CotacaoIntradayAcaoResultados/listaPrecoEntradaPrevisaoPorDiaB3?diaNum=20220629&idRegra=30&idGrupo=12\n",
      "  ticker  valorReferencia  valorEntrada\n",
      "0  ABEV3            13.47       13.7394\n",
      "1  AERI3             2.91        2.9682\n",
      "2  ALPA4            19.69       20.0838\n",
      "3  ALSO3            16.45       16.7790\n",
      "4  AMAR3             1.84        1.8768\n",
      "ticker previsão: 88\n",
      "{'ticker': ['ABEV3', 'AERI3', 'ALPA4', 'ALSO3', 'AMAR3', 'ANIM3', 'AZUL4', 'B3SA3', 'BBAS3', 'BBDC4', 'BBSE3', 'BEEF3', 'BKBR3', 'BPAC11', 'BPAN4', 'BRAP4', 'BRFS3', 'BRKM5', 'BRML3', 'CCRO3', 'CIEL3', 'CMIG4', 'COGN3', 'CPFE3', 'CPLE6', 'CRFB3', 'CSAN3', 'CSMG3', 'CSNA3', 'CVCB3', 'CYRE3', 'ECOR3', 'EGIE3', 'ELET3', 'ELET6', 'EMBR3', 'ENBR3', 'ENEV3', 'ENGI11', 'EQTL3', 'EZTC3', 'FLRY3', 'GGBR4', 'GOAU4', 'GOLL4', 'HAPV3', 'HYPE3', 'ITUB4', 'JBSS3', 'JHSF3', 'KLBN11', 'LCAM3', 'LIGT3', 'LREN3', 'LWSA3', 'MGLU3', 'MOVI3', 'MRFG3', 'MRVE3', 'MULT3', 'MYPK3', 'NEOE3', 'NTCO3', 'PCAR3', 'PETR4', 'POSI3', 'PRIO3', 'PTBL3', 'QUAL3', 'RADL3', 'RAIL3', 'RAPT4', 'RENT3', 'SANB11', 'SBSP3', 'SLCE3', 'SMTO3', 'STBP3', 'SULA11', 'SUZB3', 'TAEE11', 'TOTS3', 'UGPA3', 'USIM5', 'VALE3', 'WEGE3', 'WIZS3', 'YDUQ3'], 'diaNumPrevisao': [20220629, 20220629, 20220629, 20220629, 20220629, 20220629, 20220629, 20220629, 20220629, 20220629, 20220629, 20220629, 20220629, 20220629, 20220629, 20220629, 20220629, 20220629, 20220629, 20220629, 20220629, 20220629, 20220629, 20220629, 20220629, 20220629, 20220629, 20220629, 20220629, 20220629, 20220629, 20220629, 20220629, 20220629, 20220629, 20220629, 20220629, 20220629, 20220629, 20220629, 20220629, 20220629, 20220629, 20220629, 20220629, 20220629, 20220629, 20220629, 20220629, 20220629, 20220629, 20220629, 20220629, 20220629, 20220629, 20220629, 20220629, 20220629, 20220629, 20220629, 20220629, 20220629, 20220629, 20220629, 20220629, 20220629, 20220629, 20220629, 20220629, 20220629, 20220629, 20220629, 20220629, 20220629, 20220629, 20220629, 20220629, 20220629, 20220629, 20220629, 20220629, 20220629, 20220629, 20220629, 20220629, 20220629, 20220629, 20220629], 'resultado': [0.24170458316802979, 0.4721544086933136, 0.32657331228256226, 0.37251016497612, 0.37918615341186523, 0.3766407370567322, 0.41692712903022766, 0.4133974015712738, 0.2795843482017517, 0.2471575140953064, 0.33580678701400757, 0.40681082010269165, 0.34035807847976685, 0.3300343453884125, 0.46859586238861084, 0.34870126843452454, 0.3227320909500122, 0.24477094411849976, 0.3229527473449707, 0.2807569205760956, 0.47146227955818176, 0.4120205342769623, 0.2946634888648987, 0.3700125217437744, 0.2751538157463074, 0.5741910338401794, 0.2990611791610718, 0.3045639991760254, 0.3882417678833008, 0.5704519152641296, 0.3960776925086975, 0.23801103234291077, 0.2735789716243744, 0.3645307123661041, 0.36460208892822266, 0.3361997902393341, 0.2636198401451111, 0.2988605201244354, 0.29714858531951904, 0.3024017810821533, 0.27706241607666016, 0.2831859290599823, 0.2506727874279022, 0.22433418035507202, 0.4123985767364502, 0.49937301874160767, 0.38967856764793396, 0.2696489691734314, 0.25881218910217285, 0.35534393787384033, 0.25566262006759644, 0.2751271426677704, 0.3518281579017639, 0.23853808641433716, 0.4048328399658203, 0.48885390162467957, 0.3129465579986572, 0.4141683280467987, 0.4268905520439148, 0.3632783889770508, 0.22703218460083008, 0.2889534831047058, 0.4828704595565796, 0.452303946018219, 0.28068163990974426, 0.30490976572036743, 0.2689363658428192, 0.3839621841907501, 0.36435824632644653, 0.29212719202041626, 0.24661073088645935, 0.24149402976036072, 0.28401434421539307, 0.2795943021774292, 0.4105648994445801, 0.2785056233406067, 0.3797745704650879, 0.3266998827457428, 0.5539671182632446, 0.24943211674690247, 0.3119348883628845, 0.551668643951416, 0.26126211881637573, 0.37882596254348755, 0.2885783314704895, 0.4007137417793274, 0.2747345268726349, 0.38472169637680054], 'treinoRedeId': ['2', '2', '2', '2', '2', '2', '2', '2', '2', '2', '2', '2', '2', '2', '2', '2', '2', '2', '2', '2', '2', '2', '2', '2', '2', '2', '2', '2', '2', '2', '2', '2', '2', '2', '2', '2', '2', '2', '2', '2', '2', '2', '2', '2', '2', '2', '2', '2', '2', '2', '2', '2', '2', '2', '2', '2', '2', '2', '2', '2', '2', '2', '2', '2', '2', '2', '2', '2', '2', '2', '2', '2', '2', '2', '2', '2', '2', '2', '2', '2', '2', '2', '2', '2', '2', '2', '2', '2'], 'tipoCompraVenda': ['V', 'V', 'V', 'V', 'V', 'V', 'V', 'V', 'V', 'V', 'V', 'V', 'V', 'V', 'V', 'V', 'V', 'V', 'V', 'V', 'V', 'V', 'V', 'V', 'V', 'V', 'V', 'V', 'V', 'V', 'V', 'V', 'V', 'V', 'V', 'V', 'V', 'V', 'V', 'V', 'V', 'V', 'V', 'V', 'V', 'V', 'V', 'V', 'V', 'V', 'V', 'V', 'V', 'V', 'V', 'V', 'V', 'V', 'V', 'V', 'V', 'V', 'V', 'V', 'V', 'V', 'V', 'V', 'V', 'V', 'V', 'V', 'V', 'V', 'V', 'V', 'V', 'V', 'V', 'V', 'V', 'V', 'V', 'V', 'V', 'V', 'V', 'V'], 'valorReferencia': [13.47, 2.91, 19.69, 16.45, 1.84, 4.4, 13.0, 11.28, 33.21, 17.9, 25.45, 14.22, 5.84, 22.55, 6.25, 26.34, 14.5, 39.63, 7.62, 12.97, 3.82, 10.57, 2.15, 31.47, 6.99, 16.41, 18.83, 11.95, 17.06, 7.69, 11.68, 5.78, 41.5, 45.39, 45.7, 12.04, 20.64, 15.36, 41.43, 22.69, 14.62, 14.06, 23.43, 9.94, 9.76, 5.21, 38.4, 23.32, 33.13, 6.23, 20.27, nan, 7.25, 22.81, 5.88, 2.38, 13.74, 13.15, 7.34, 22.92, 15.78, 16.17, 14.06, 16.99, 28.3, 5.97, 22.66, 6.24, 12.73, 19.72, 16.39, 9.7, 51.72, 29.93, 42.25, 45.59, 39.42, 6.27, 21.49, 49.6, 39.38, 23.88, 12.72, 9.12, 79.34, 26.17, 8.03, 13.59], 'valorEntrada': [13.7394, 2.9682, 20.0838, 16.779, 1.8768, 4.488, 13.26, 11.5056, 33.8742, 18.258, 25.959, 14.5044, 5.9568, 23.001, 6.375, 26.8668, 14.79, 40.4226, 7.7724, 13.2294, 3.8964, 10.7814, 2.193, 32.0994, 7.1298, 16.7382, 19.2066, 12.189, 17.4012, 7.8438, 11.9136, 5.8956, 42.33, 46.2978, 46.614, 12.2808, 21.0528, 15.6672, 42.2586, 23.1438, 14.9124, 14.3412, 23.8986, 10.1388, 9.9552, 5.3142, 39.168, 23.7864, 33.7926, 6.3546, 20.6754, nan, 7.395, 23.2662, 5.9976, 2.4276, 14.0148, 13.413, 7.4868, 23.3784, 16.0956, 16.4934, 14.3412, 17.3298, 28.866, 6.0894, 23.1132, 6.3648, 12.9846, 20.1144, 16.7178, 9.894, 52.7544, 30.5286, 43.095, 46.5018, 40.2084, 6.3954, 21.9198, 50.592, 40.1676, 24.3576, 12.9744, 9.3024, 80.9268, 26.6934, 8.1906, 13.8618]}\n",
      "<Response [200]>\n"
     ]
    },
    {
     "data": {
      "text/plain": [
       "0    None\n",
       "dtype: object"
      ]
     },
     "execution_count": 16,
     "metadata": {},
     "output_type": "execute_result"
    }
   ],
   "source": [
    "dfTreino.apply(trataRede, axis='columns')"
   ]
  },
  {
   "cell_type": "code",
   "execution_count": null,
   "id": "af5eb360",
   "metadata": {},
   "outputs": [],
   "source": []
  },
  {
   "cell_type": "code",
   "execution_count": null,
   "id": "25d7a909",
   "metadata": {},
   "outputs": [],
   "source": []
  }
 ],
 "metadata": {
  "kernelspec": {
   "display_name": "Python 3 (ipykernel)",
   "language": "python",
   "name": "python3"
  },
  "language_info": {
   "codemirror_mode": {
    "name": "ipython",
    "version": 3
   },
   "file_extension": ".py",
   "mimetype": "text/x-python",
   "name": "python",
   "nbconvert_exporter": "python",
   "pygments_lexer": "ipython3",
   "version": "3.8.10"
  }
 },
 "nbformat": 4,
 "nbformat_minor": 5
}
