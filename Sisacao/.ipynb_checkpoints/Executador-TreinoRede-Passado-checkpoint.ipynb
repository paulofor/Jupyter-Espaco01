{
 "cells": [
  {
   "cell_type": "code",
   "execution_count": 1,
   "id": "89bae8ee",
   "metadata": {},
   "outputs": [
    {
     "name": "stderr",
     "output_type": "stream",
     "text": [
      "2022-07-27 12:10:39.133811: W tensorflow/stream_executor/platform/default/dso_loader.cc:64] Could not load dynamic library 'libcudart.so.11.0'; dlerror: libcudart.so.11.0: cannot open shared object file: No such file or directory\n",
      "2022-07-27 12:10:39.133895: I tensorflow/stream_executor/cuda/cudart_stub.cc:29] Ignore above cudart dlerror if you do not have a GPU set up on your machine.\n"
     ]
    }
   ],
   "source": [
    "import tensorflow as tf"
   ]
  },
  {
   "cell_type": "code",
   "execution_count": 2,
   "id": "cba5bdad",
   "metadata": {},
   "outputs": [],
   "source": [
    "import requests\n",
    "import pandas as pd\n",
    "import numpy as np"
   ]
  },
  {
   "cell_type": "code",
   "execution_count": 3,
   "id": "458185b1",
   "metadata": {},
   "outputs": [],
   "source": [
    "global dfEntradas"
   ]
  },
  {
   "cell_type": "code",
   "execution_count": 4,
   "id": "b31f779c",
   "metadata": {},
   "outputs": [],
   "source": [
    "url = \"http://vps-40d69db1.vps.ovh.ca:23004/api/TreinoRedes/obtemListaParaPrevisao\""
   ]
  },
  {
   "cell_type": "code",
   "execution_count": 5,
   "id": "b9cc9d2c",
   "metadata": {},
   "outputs": [],
   "source": [
    "r = requests.get(url)\n",
    "j = r.json()\n",
    "dfTreino = pd.DataFrame.from_dict(j)"
   ]
  },
  {
   "cell_type": "code",
   "execution_count": 6,
   "id": "b17acd75",
   "metadata": {},
   "outputs": [
    {
     "data": {
      "text/html": [
       "<div>\n",
       "<style scoped>\n",
       "    .dataframe tbody tr th:only-of-type {\n",
       "        vertical-align: middle;\n",
       "    }\n",
       "\n",
       "    .dataframe tbody tr th {\n",
       "        vertical-align: top;\n",
       "    }\n",
       "\n",
       "    .dataframe thead th {\n",
       "        text-align: right;\n",
       "    }\n",
       "</style>\n",
       "<table border=\"1\" class=\"dataframe\">\n",
       "  <thead>\n",
       "    <tr style=\"text-align: right;\">\n",
       "      <th></th>\n",
       "      <th>id</th>\n",
       "      <th>grupoAcaoId</th>\n",
       "      <th>periodoTreinoRedeId</th>\n",
       "      <th>tipoExemploTreinoId</th>\n",
       "      <th>regraProjecaoId</th>\n",
       "      <th>redeNeuralId</th>\n",
       "      <th>ativoPrevisao</th>\n",
       "      <th>tipoCompraVenda</th>\n",
       "    </tr>\n",
       "  </thead>\n",
       "  <tbody>\n",
       "    <tr>\n",
       "      <th>0</th>\n",
       "      <td>8</td>\n",
       "      <td>12</td>\n",
       "      <td>1</td>\n",
       "      <td>1</td>\n",
       "      <td>32</td>\n",
       "      <td>2</td>\n",
       "      <td>1</td>\n",
       "      <td>C</td>\n",
       "    </tr>\n",
       "  </tbody>\n",
       "</table>\n",
       "</div>"
      ],
      "text/plain": [
       "   id  grupoAcaoId  periodoTreinoRedeId  tipoExemploTreinoId  regraProjecaoId  \\\n",
       "0   8           12                    1                    1               32   \n",
       "\n",
       "   redeNeuralId  ativoPrevisao tipoCompraVenda  \n",
       "0             2              1               C  "
      ]
     },
     "execution_count": 6,
     "metadata": {},
     "output_type": "execute_result"
    }
   ],
   "source": [
    "dfTreino.head()"
   ]
  },
  {
   "cell_type": "code",
   "execution_count": 222,
   "id": "4c45365f",
   "metadata": {},
   "outputs": [],
   "source": [
    "dia = 20220630\n",
    "urlExemplos = \"http://vps-40d69db1.vps.ovh.ca:23005/api/ExemploTreinoAcaoEntradas/obtemPorDia?diaNum={}\".format(dia)"
   ]
  },
  {
   "cell_type": "code",
   "execution_count": 223,
   "id": "0f6db303",
   "metadata": {},
   "outputs": [
    {
     "name": "stdout",
     "output_type": "stream",
     "text": [
      "http://vps-40d69db1.vps.ovh.ca:23005/api/ExemploTreinoAcaoEntradas/obtemPorDia?diaNum=20220629\n"
     ]
    }
   ],
   "source": [
    "print(urlExemplos)"
   ]
  },
  {
   "cell_type": "code",
   "execution_count": 224,
   "id": "1de2b7f7",
   "metadata": {},
   "outputs": [],
   "source": [
    "global dfDados\n",
    "r = requests.get(urlExemplos)\n",
    "j = r.json()\n",
    "dfDados = pd.DataFrame.from_dict(j)"
   ]
  },
  {
   "cell_type": "code",
   "execution_count": 225,
   "id": "98fcfadd",
   "metadata": {},
   "outputs": [
    {
     "data": {
      "text/html": [
       "<div>\n",
       "<style scoped>\n",
       "    .dataframe tbody tr th:only-of-type {\n",
       "        vertical-align: middle;\n",
       "    }\n",
       "\n",
       "    .dataframe tbody tr th {\n",
       "        vertical-align: top;\n",
       "    }\n",
       "\n",
       "    .dataframe thead th {\n",
       "        text-align: right;\n",
       "    }\n",
       "</style>\n",
       "<table border=\"1\" class=\"dataframe\">\n",
       "  <thead>\n",
       "    <tr style=\"text-align: right;\">\n",
       "      <th></th>\n",
       "      <th>campoX</th>\n",
       "      <th>ticker</th>\n",
       "      <th>diaNumPrevisao</th>\n",
       "    </tr>\n",
       "  </thead>\n",
       "  <tbody>\n",
       "    <tr>\n",
       "      <th>0</th>\n",
       "      <td>1.137342, 1.127691, 1.125464, 1.133630, 1.134...</td>\n",
       "      <td>ABEV3</td>\n",
       "      <td>20220629</td>\n",
       "    </tr>\n",
       "    <tr>\n",
       "      <th>1</th>\n",
       "      <td>2.271478, 2.281787, 2.329897, 2.271478, 2.288...</td>\n",
       "      <td>AERI3</td>\n",
       "      <td>20220629</td>\n",
       "    </tr>\n",
       "    <tr>\n",
       "      <th>2</th>\n",
       "      <td>1.718131, 1.721686, 1.712544, 1.703911, 1.704...</td>\n",
       "      <td>ALPA4</td>\n",
       "      <td>20220629</td>\n",
       "    </tr>\n",
       "    <tr>\n",
       "      <th>3</th>\n",
       "      <td>1.246201, 1.234043, 1.232219, 1.228571, 1.227...</td>\n",
       "      <td>ALSO3</td>\n",
       "      <td>20220629</td>\n",
       "    </tr>\n",
       "    <tr>\n",
       "      <th>4</th>\n",
       "      <td>1.951087, 1.918478, 1.913043, 1.902174, 1.902...</td>\n",
       "      <td>AMAR3</td>\n",
       "      <td>20220629</td>\n",
       "    </tr>\n",
       "  </tbody>\n",
       "</table>\n",
       "</div>"
      ],
      "text/plain": [
       "                                              campoX ticker  diaNumPrevisao\n",
       "0   1.137342, 1.127691, 1.125464, 1.133630, 1.134...  ABEV3        20220629\n",
       "1   2.271478, 2.281787, 2.329897, 2.271478, 2.288...  AERI3        20220629\n",
       "2   1.718131, 1.721686, 1.712544, 1.703911, 1.704...  ALPA4        20220629\n",
       "3   1.246201, 1.234043, 1.232219, 1.228571, 1.227...  ALSO3        20220629\n",
       "4   1.951087, 1.918478, 1.913043, 1.902174, 1.902...  AMAR3        20220629"
      ]
     },
     "execution_count": 225,
     "metadata": {},
     "output_type": "execute_result"
    }
   ],
   "source": [
    "dfDados.head()"
   ]
  },
  {
   "cell_type": "code",
   "execution_count": 226,
   "id": "3994b9ed",
   "metadata": {},
   "outputs": [],
   "source": [
    "def incluiEntrada(treino):\n",
    "    urlEntrada = \"http://vps-40d69db1.vps.ovh.ca:23004/api/CotacaoIntradayAcaoResultados/listaPrecoEntradaPrevisaoPorDiaB3?diaNum=\" + str(dia) +\"&idRegra=\" + str(treino['regraProjecaoId']) + \"&idGrupo=\" + str(treino['grupoAcaoId'])\n",
    "    print(urlEntrada)\n",
    "    r = requests.get(urlEntrada)\n",
    "    j = r.json()\n",
    "    dfEntradas = pd.DataFrame.from_dict(j)\n",
    "    print(dfEntradas.head())\n",
    "    return dfEntradas"
   ]
  },
  {
   "cell_type": "code",
   "execution_count": 227,
   "id": "c603ebc9",
   "metadata": {},
   "outputs": [],
   "source": [
    "def trataRede(treino):\n",
    "    print('ID:' , treino['id'])\n",
    "    nome_arquivo = 'pesos/treino_rede' + str(treino['id']) + '.h5'\n",
    "    print(nome_arquivo)\n",
    "    modelo = tf.keras.models.load_model(nome_arquivo)\n",
    "    modelo.summary()\n",
    "    result = modelo.predict(X)\n",
    "    dfDados['resultado'] = result\n",
    "    dfDados['treinoRedeId'] = str(treino['id'])\n",
    "    dfDados['tipoCompraVenda'] = treino['tipoCompraVenda']\n",
    "    dfEntradas = incluiEntrada(treino)\n",
    "    dfPrevisao = pd.merge(dfDados,dfEntradas, how='left', left_on='ticker' ,  right_on='ticker')\n",
    "    print('ticker previsão:' , len(dfPrevisao))\n",
    "    json = dfPrevisao.to_dict(orient='list')\n",
    "    urlPrevisao = 'http://vps-40d69db1.vps.ovh.ca:23004/api/PrevisaoRedes/recebePrevisaoTreino'\n",
    "    print(json)\n",
    "    response = requests.post(urlPrevisao, data=json)\n",
    "    print(response)"
   ]
  },
  {
   "cell_type": "code",
   "execution_count": 228,
   "id": "cad5f9b9",
   "metadata": {},
   "outputs": [],
   "source": [
    "def trataLinhaX(linha):\n",
    "    return np.fromstring(linha['campoX'], dtype=float, sep=',')"
   ]
  },
  {
   "cell_type": "code",
   "execution_count": 229,
   "id": "eefdfd7b",
   "metadata": {},
   "outputs": [
    {
     "data": {
      "text/plain": [
       "(88, 1800)"
      ]
     },
     "execution_count": 229,
     "metadata": {},
     "output_type": "execute_result"
    }
   ],
   "source": [
    "dfTratadoX = dfDados.apply(trataLinhaX, axis='columns')\n",
    "X = np.stack(dfTratadoX.values)\n",
    "X.shape"
   ]
  },
  {
   "cell_type": "code",
   "execution_count": 230,
   "id": "b7632aa0",
   "metadata": {},
   "outputs": [],
   "source": [
    "dfDados.drop('campoX', inplace=True, axis=1)"
   ]
  },
  {
   "cell_type": "code",
   "execution_count": 231,
   "id": "746cf13b",
   "metadata": {},
   "outputs": [
    {
     "name": "stdout",
     "output_type": "stream",
     "text": [
      "ID: 8\n",
      "pesos/treino_rede8.h5\n",
      "Model: \"sequential\"\n",
      "_________________________________________________________________\n",
      " Layer (type)                Output Shape              Param #   \n",
      "=================================================================\n",
      " dense (Dense)               (None, 1800)              3241800   \n",
      "                                                                 \n",
      " dense_1 (Dense)             (None, 1400)              2521400   \n",
      "                                                                 \n",
      " dense_2 (Dense)             (None, 1000)              1401000   \n",
      "                                                                 \n",
      " dense_3 (Dense)             (None, 600)               600600    \n",
      "                                                                 \n",
      " dense_4 (Dense)             (None, 200)               120200    \n",
      "                                                                 \n",
      " dense_5 (Dense)             (None, 1)                 201       \n",
      "                                                                 \n",
      "=================================================================\n",
      "Total params: 7,885,201\n",
      "Trainable params: 7,885,201\n",
      "Non-trainable params: 0\n",
      "_________________________________________________________________\n",
      "http://vps-40d69db1.vps.ovh.ca:23004/api/CotacaoIntradayAcaoResultados/listaPrecoEntradaPrevisaoPorDiaB3?diaNum=20220629&idRegra=32&idGrupo=12\n",
      "  ticker  valorReferencia  valorEntrada\n",
      "0  ABEV3            13.47       13.2006\n",
      "1  AERI3             2.91        2.8518\n",
      "2  ALPA4            19.69       19.2962\n",
      "3  ALSO3            16.45       16.1210\n",
      "4  AMAR3             1.84        1.8032\n",
      "ticker previsão: 88\n",
      "{'ticker': ['ABEV3', 'AERI3', 'ALPA4', 'ALSO3', 'AMAR3', 'ANIM3', 'AZUL4', 'B3SA3', 'BBAS3', 'BBDC4', 'BBSE3', 'BEEF3', 'BKBR3', 'BPAC11', 'BPAN4', 'BRAP4', 'BRFS3', 'BRKM5', 'BRML3', 'CCRO3', 'CIEL3', 'CMIG4', 'COGN3', 'CPFE3', 'CPLE6', 'CRFB3', 'CSAN3', 'CSMG3', 'CSNA3', 'CVCB3', 'CYRE3', 'ECOR3', 'EGIE3', 'ELET3', 'ELET6', 'EMBR3', 'ENBR3', 'ENEV3', 'ENGI11', 'EQTL3', 'EZTC3', 'FLRY3', 'GGBR4', 'GOAU4', 'GOLL4', 'HAPV3', 'HYPE3', 'ITUB4', 'JBSS3', 'JHSF3', 'KLBN11', 'LCAM3', 'LIGT3', 'LREN3', 'LWSA3', 'MGLU3', 'MOVI3', 'MRFG3', 'MRVE3', 'MULT3', 'MYPK3', 'NEOE3', 'NTCO3', 'PCAR3', 'PETR4', 'POSI3', 'PRIO3', 'PTBL3', 'QUAL3', 'RADL3', 'RAIL3', 'RAPT4', 'RENT3', 'SANB11', 'SBSP3', 'SLCE3', 'SMTO3', 'STBP3', 'SULA11', 'SUZB3', 'TAEE11', 'TOTS3', 'UGPA3', 'USIM5', 'VALE3', 'WEGE3', 'WIZS3', 'YDUQ3'], 'diaNumPrevisao': [20220629, 20220629, 20220629, 20220629, 20220629, 20220629, 20220629, 20220629, 20220629, 20220629, 20220629, 20220629, 20220629, 20220629, 20220629, 20220629, 20220629, 20220629, 20220629, 20220629, 20220629, 20220629, 20220629, 20220629, 20220629, 20220629, 20220629, 20220629, 20220629, 20220629, 20220629, 20220629, 20220629, 20220629, 20220629, 20220629, 20220629, 20220629, 20220629, 20220629, 20220629, 20220629, 20220629, 20220629, 20220629, 20220629, 20220629, 20220629, 20220629, 20220629, 20220629, 20220629, 20220629, 20220629, 20220629, 20220629, 20220629, 20220629, 20220629, 20220629, 20220629, 20220629, 20220629, 20220629, 20220629, 20220629, 20220629, 20220629, 20220629, 20220629, 20220629, 20220629, 20220629, 20220629, 20220629, 20220629, 20220629, 20220629, 20220629, 20220629, 20220629, 20220629, 20220629, 20220629, 20220629, 20220629, 20220629, 20220629], 'resultado': [0.13664206862449646, 0.26367050409317017, 0.25340843200683594, 0.13763868808746338, 0.23875844478607178, 0.2293570637702942, 0.2162814438343048, 0.12681427597999573, 0.11534261703491211, 0.15106770396232605, 0.13350480794906616, 0.20046621561050415, 0.10987332463264465, 0.11608394980430603, 0.19291475415229797, 0.1274120807647705, 0.28059375286102295, 0.20290625095367432, 0.11886057257652283, 0.12382501363754272, 0.26200705766677856, 0.14588966965675354, 0.10671362280845642, 0.13512006402015686, 0.11846143007278442, 0.13312691450119019, 0.15251263976097107, 0.11749565601348877, 0.2234092354774475, 0.12552088499069214, 0.1435219645500183, 0.1410444974899292, 0.11845141649246216, 0.16943585872650146, 0.17311319708824158, 0.2778589725494385, 0.12048429250717163, 0.1334686279296875, 0.11124280095100403, 0.11067765951156616, 0.17461839318275452, 0.1841312050819397, 0.128193199634552, 0.12933781743049622, 0.19893211126327515, 0.23045724630355835, 0.16329142451286316, 0.1174965500831604, 0.12629932165145874, 0.13091716170310974, 0.1710982620716095, 0.13134464621543884, 0.19421818852424622, 0.12276250123977661, 0.2552245855331421, 0.2648020386695862, 0.1050679087638855, 0.239701509475708, 0.17795655131340027, 0.13375669717788696, 0.1354752480983734, 0.1138247549533844, 0.22120463848114014, 0.1256895363330841, 0.13103914260864258, 0.16743457317352295, 0.10496842861175537, 0.11255136132240295, 0.19889366626739502, 0.14831185340881348, 0.11839604377746582, 0.145607590675354, 0.12716585397720337, 0.12035471200942993, 0.14105534553527832, 0.10478466749191284, 0.12485989928245544, 0.10925650596618652, 0.11038607358932495, 0.1775439977645874, 0.11619031429290771, 0.1131134033203125, 0.1443239450454712, 0.25388041138648987, 0.14236986637115479, 0.16328659653663635, 0.12052381038665771, 0.215943843126297], 'treinoRedeId': ['8', '8', '8', '8', '8', '8', '8', '8', '8', '8', '8', '8', '8', '8', '8', '8', '8', '8', '8', '8', '8', '8', '8', '8', '8', '8', '8', '8', '8', '8', '8', '8', '8', '8', '8', '8', '8', '8', '8', '8', '8', '8', '8', '8', '8', '8', '8', '8', '8', '8', '8', '8', '8', '8', '8', '8', '8', '8', '8', '8', '8', '8', '8', '8', '8', '8', '8', '8', '8', '8', '8', '8', '8', '8', '8', '8', '8', '8', '8', '8', '8', '8', '8', '8', '8', '8', '8', '8'], 'tipoCompraVenda': ['C', 'C', 'C', 'C', 'C', 'C', 'C', 'C', 'C', 'C', 'C', 'C', 'C', 'C', 'C', 'C', 'C', 'C', 'C', 'C', 'C', 'C', 'C', 'C', 'C', 'C', 'C', 'C', 'C', 'C', 'C', 'C', 'C', 'C', 'C', 'C', 'C', 'C', 'C', 'C', 'C', 'C', 'C', 'C', 'C', 'C', 'C', 'C', 'C', 'C', 'C', 'C', 'C', 'C', 'C', 'C', 'C', 'C', 'C', 'C', 'C', 'C', 'C', 'C', 'C', 'C', 'C', 'C', 'C', 'C', 'C', 'C', 'C', 'C', 'C', 'C', 'C', 'C', 'C', 'C', 'C', 'C', 'C', 'C', 'C', 'C', 'C', 'C'], 'valorReferencia': [13.47, 2.91, 19.69, 16.45, 1.84, 4.4, 13.0, 11.28, 33.21, 17.9, 25.45, 14.22, 5.84, 22.55, 6.25, 26.34, 14.5, 39.63, 7.62, 12.97, 3.82, 10.57, 2.15, 31.47, 6.99, 16.41, 18.83, 11.95, 17.06, 7.69, 11.68, 5.78, 41.5, 45.39, 45.7, 12.04, 20.64, 15.36, 41.43, 22.69, 14.62, 14.06, 23.43, 9.94, 9.76, 5.21, 38.4, 23.32, 33.13, 6.23, 20.27, nan, 7.25, 22.81, 5.88, 2.38, 13.74, 13.15, 7.34, 22.92, 15.78, 16.17, 14.06, 16.99, 28.3, 5.97, 22.66, 6.24, 12.73, 19.72, 16.39, 9.7, 51.72, 29.93, 42.25, 45.59, 39.42, 6.27, 21.49, 49.6, 39.38, 23.88, 12.72, 9.12, 79.34, 26.17, 8.03, 13.59], 'valorEntrada': [13.2006, 2.8518, 19.2962, 16.121, 1.8032, 4.312, 12.74, 11.0544, 32.5458, 17.542, 24.941, 13.9356, 5.7232, 22.099, 6.125, 25.8132, 14.21, 38.8374, 7.4676, 12.7106, 3.7436, 10.3586, 2.107, 30.8406, 6.8502, 16.0818, 18.4534, 11.711, 16.7188, 7.5362, 11.4464, 5.6644, 40.67, 44.4822, 44.786, 11.7992, 20.2272, 15.0528, 40.6014, 22.2362, 14.3276, 13.7788, 22.9614, 9.7412, 9.5648, 5.1058, 37.632, 22.8536, 32.4674, 6.1054, 19.8646, nan, 7.105, 22.3538, 5.7624, 2.3324, 13.4652, 12.887, 7.1932, 22.4616, 15.4644, 15.8466, 13.7788, 16.6502, 27.734, 5.8506, 22.2068, 6.1152, 12.4754, 19.3256, 16.0622, 9.506, 50.6856, 29.3314, 41.405, 44.6782, 38.6316, 6.1446, 21.0602, 48.608, 38.5924, 23.4024, 12.4656, 8.9376, 77.7532, 25.6466, 7.8694, 13.3182]}\n",
      "<Response [200]>\n"
     ]
    },
    {
     "data": {
      "text/plain": [
       "0    None\n",
       "dtype: object"
      ]
     },
     "execution_count": 231,
     "metadata": {},
     "output_type": "execute_result"
    }
   ],
   "source": [
    "dfTreino.apply(trataRede, axis='columns')"
   ]
  },
  {
   "cell_type": "code",
   "execution_count": null,
   "id": "af5eb360",
   "metadata": {},
   "outputs": [],
   "source": []
  },
  {
   "cell_type": "code",
   "execution_count": null,
   "id": "25d7a909",
   "metadata": {},
   "outputs": [],
   "source": []
  },
  {
   "cell_type": "code",
   "execution_count": null,
   "id": "16f412fd",
   "metadata": {},
   "outputs": [],
   "source": []
  }
 ],
 "metadata": {
  "kernelspec": {
   "display_name": "Python 3 (ipykernel)",
   "language": "python",
   "name": "python3"
  },
  "language_info": {
   "codemirror_mode": {
    "name": "ipython",
    "version": 3
   },
   "file_extension": ".py",
   "mimetype": "text/x-python",
   "name": "python",
   "nbconvert_exporter": "python",
   "pygments_lexer": "ipython3",
   "version": "3.8.10"
  }
 },
 "nbformat": 4,
 "nbformat_minor": 5
}
