{
 "cells": [
  {
   "cell_type": "code",
   "execution_count": 1,
   "id": "89bae8ee",
   "metadata": {},
   "outputs": [
    {
     "name": "stderr",
     "output_type": "stream",
     "text": [
      "2022-07-25 17:00:04.098163: W tensorflow/stream_executor/platform/default/dso_loader.cc:64] Could not load dynamic library 'libcudart.so.11.0'; dlerror: libcudart.so.11.0: cannot open shared object file: No such file or directory\n",
      "2022-07-25 17:00:04.098239: I tensorflow/stream_executor/cuda/cudart_stub.cc:29] Ignore above cudart dlerror if you do not have a GPU set up on your machine.\n"
     ]
    }
   ],
   "source": [
    "import tensorflow as tf"
   ]
  },
  {
   "cell_type": "code",
   "execution_count": 2,
   "id": "cba5bdad",
   "metadata": {},
   "outputs": [],
   "source": [
    "import requests\n",
    "import pandas as pd\n",
    "import numpy as np"
   ]
  },
  {
   "cell_type": "code",
   "execution_count": 3,
   "id": "458185b1",
   "metadata": {},
   "outputs": [],
   "source": [
    "global dfEntradas"
   ]
  },
  {
   "cell_type": "code",
   "execution_count": 4,
   "id": "b31f779c",
   "metadata": {},
   "outputs": [],
   "source": [
    "url = \"http://vps-40d69db1.vps.ovh.ca:23004/api/TreinoRedes/obtemListaParaPrevisao\""
   ]
  },
  {
   "cell_type": "code",
   "execution_count": 5,
   "id": "b9cc9d2c",
   "metadata": {},
   "outputs": [],
   "source": [
    "r = requests.get(url)\n",
    "j = r.json()\n",
    "dfTreino = pd.DataFrame.from_dict(j)"
   ]
  },
  {
   "cell_type": "code",
   "execution_count": 6,
   "id": "b17acd75",
   "metadata": {},
   "outputs": [
    {
     "data": {
      "text/html": [
       "<div>\n",
       "<style scoped>\n",
       "    .dataframe tbody tr th:only-of-type {\n",
       "        vertical-align: middle;\n",
       "    }\n",
       "\n",
       "    .dataframe tbody tr th {\n",
       "        vertical-align: top;\n",
       "    }\n",
       "\n",
       "    .dataframe thead th {\n",
       "        text-align: right;\n",
       "    }\n",
       "</style>\n",
       "<table border=\"1\" class=\"dataframe\">\n",
       "  <thead>\n",
       "    <tr style=\"text-align: right;\">\n",
       "      <th></th>\n",
       "      <th>id</th>\n",
       "      <th>grupoAcaoId</th>\n",
       "      <th>periodoTreinoRedeId</th>\n",
       "      <th>tipoExemploTreinoId</th>\n",
       "      <th>regraProjecaoId</th>\n",
       "      <th>redeNeuralId</th>\n",
       "      <th>ativoPrevisao</th>\n",
       "      <th>tipoCompraVenda</th>\n",
       "    </tr>\n",
       "  </thead>\n",
       "  <tbody>\n",
       "    <tr>\n",
       "      <th>0</th>\n",
       "      <td>2</td>\n",
       "      <td>12</td>\n",
       "      <td>1</td>\n",
       "      <td>1</td>\n",
       "      <td>30</td>\n",
       "      <td>2</td>\n",
       "      <td>1</td>\n",
       "      <td>V</td>\n",
       "    </tr>\n",
       "  </tbody>\n",
       "</table>\n",
       "</div>"
      ],
      "text/plain": [
       "   id  grupoAcaoId  periodoTreinoRedeId  tipoExemploTreinoId  regraProjecaoId  \\\n",
       "0   2           12                    1                    1               30   \n",
       "\n",
       "   redeNeuralId  ativoPrevisao tipoCompraVenda  \n",
       "0             2              1               V  "
      ]
     },
     "execution_count": 6,
     "metadata": {},
     "output_type": "execute_result"
    }
   ],
   "source": [
    "dfTreino.head()"
   ]
  },
  {
   "cell_type": "code",
   "execution_count": 7,
   "id": "4c45365f",
   "metadata": {},
   "outputs": [],
   "source": [
    "dia = 20220727\n",
    "urlExemplos = \"http://vps-40d69db1.vps.ovh.ca:23005/api/ExemploTreinoAcaoEntradas/obtemPorDia?diaNum={}\".format(dia)"
   ]
  },
  {
   "cell_type": "code",
   "execution_count": 8,
   "id": "0f6db303",
   "metadata": {},
   "outputs": [
    {
     "name": "stdout",
     "output_type": "stream",
     "text": [
      "http://vps-40d69db1.vps.ovh.ca:23005/api/ExemploTreinoAcaoEntradas/obtemPorDia?diaNum=20220630\n"
     ]
    }
   ],
   "source": [
    "print(urlExemplos)"
   ]
  },
  {
   "cell_type": "code",
   "execution_count": 9,
   "id": "1de2b7f7",
   "metadata": {},
   "outputs": [],
   "source": [
    "global dfDados\n",
    "r = requests.get(urlExemplos)\n",
    "j = r.json()\n",
    "dfDados = pd.DataFrame.from_dict(j)"
   ]
  },
  {
   "cell_type": "code",
   "execution_count": 10,
   "id": "98fcfadd",
   "metadata": {},
   "outputs": [
    {
     "data": {
      "text/html": [
       "<div>\n",
       "<style scoped>\n",
       "    .dataframe tbody tr th:only-of-type {\n",
       "        vertical-align: middle;\n",
       "    }\n",
       "\n",
       "    .dataframe tbody tr th {\n",
       "        vertical-align: top;\n",
       "    }\n",
       "\n",
       "    .dataframe thead th {\n",
       "        text-align: right;\n",
       "    }\n",
       "</style>\n",
       "<table border=\"1\" class=\"dataframe\">\n",
       "  <thead>\n",
       "    <tr style=\"text-align: right;\">\n",
       "      <th></th>\n",
       "      <th>campoX</th>\n",
       "      <th>ticker</th>\n",
       "      <th>diaNumPrevisao</th>\n",
       "    </tr>\n",
       "  </thead>\n",
       "  <tbody>\n",
       "    <tr>\n",
       "      <th>0</th>\n",
       "      <td>1.117994, 1.112832, 1.108407, 1.117257, 1.114...</td>\n",
       "      <td>ABEV3</td>\n",
       "      <td>20220630</td>\n",
       "    </tr>\n",
       "    <tr>\n",
       "      <th>1</th>\n",
       "      <td>2.195122, 2.167247, 2.111498, 2.108014, 2.118...</td>\n",
       "      <td>AERI3</td>\n",
       "      <td>20220630</td>\n",
       "    </tr>\n",
       "    <tr>\n",
       "      <th>2</th>\n",
       "      <td>1.663604, 1.672282, 1.672282, 1.695253, 1.704...</td>\n",
       "      <td>ALPA4</td>\n",
       "      <td>20220630</td>\n",
       "    </tr>\n",
       "    <tr>\n",
       "      <th>3</th>\n",
       "      <td>1.229579, 1.226485, 1.223391, 1.231436, 1.238...</td>\n",
       "      <td>ALSO3</td>\n",
       "      <td>20220630</td>\n",
       "    </tr>\n",
       "    <tr>\n",
       "      <th>4</th>\n",
       "      <td>1.843575, 1.837989, 1.888268, 1.921788, 1.905...</td>\n",
       "      <td>AMAR3</td>\n",
       "      <td>20220630</td>\n",
       "    </tr>\n",
       "  </tbody>\n",
       "</table>\n",
       "</div>"
      ],
      "text/plain": [
       "                                              campoX ticker  diaNumPrevisao\n",
       "0   1.117994, 1.112832, 1.108407, 1.117257, 1.114...  ABEV3        20220630\n",
       "1   2.195122, 2.167247, 2.111498, 2.108014, 2.118...  AERI3        20220630\n",
       "2   1.663604, 1.672282, 1.672282, 1.695253, 1.704...  ALPA4        20220630\n",
       "3   1.229579, 1.226485, 1.223391, 1.231436, 1.238...  ALSO3        20220630\n",
       "4   1.843575, 1.837989, 1.888268, 1.921788, 1.905...  AMAR3        20220630"
      ]
     },
     "execution_count": 10,
     "metadata": {},
     "output_type": "execute_result"
    }
   ],
   "source": [
    "dfDados.head()"
   ]
  },
  {
   "cell_type": "code",
   "execution_count": 11,
   "id": "3994b9ed",
   "metadata": {},
   "outputs": [],
   "source": [
    "def incluiEntrada(treino):\n",
    "    urlEntrada = \"http://vps-40d69db1.vps.ovh.ca:23004/api/CotacaoIntradayAcaoResultados/listaPrecoEntradaPrevisaoPorDiaB3?diaNum=\" + str(dia) +\"&idRegra=\" + str(treino['regraProjecaoId']) + \"&idGrupo=\" + str(treino['grupoAcaoId'])\n",
    "    print(urlEntrada)\n",
    "    r = requests.get(urlEntrada)\n",
    "    j = r.json()\n",
    "    dfEntradas = pd.DataFrame.from_dict(j)\n",
    "    print(dfEntradas.head())\n",
    "    return dfEntradas"
   ]
  },
  {
   "cell_type": "code",
   "execution_count": 12,
   "id": "c603ebc9",
   "metadata": {},
   "outputs": [],
   "source": [
    "def trataRede(treino):\n",
    "    print('ID:' , treino['id'])\n",
    "    nome_arquivo = 'pesos/treino_rede' + str(treino['id']) + '.h5'\n",
    "    print(nome_arquivo)\n",
    "    modelo = tf.keras.models.load_model(nome_arquivo)\n",
    "    modelo.summary()\n",
    "    result = modelo.predict(X)\n",
    "    dfDados['resultado'] = result\n",
    "    dfDados['treinoRedeId'] = str(treino['id'])\n",
    "    dfDados['tipoCompraVenda'] = treino['tipoCompraVenda']\n",
    "    dfEntradas = incluiEntrada(treino)\n",
    "    dfPrevisao = pd.merge(dfDados,dfEntradas, how='left', left_on='ticker' ,  right_on='ticker')\n",
    "    print('ticker previsão:' , len(dfPrevisao))\n",
    "    json = dfPrevisao.to_dict(orient='list')\n",
    "    urlPrevisao = 'http://vps-40d69db1.vps.ovh.ca:23004/api/PrevisaoRedes/recebePrevisaoTreino'\n",
    "    print(json)\n",
    "    response = requests.post(urlPrevisao, data=json)\n",
    "    print(response)"
   ]
  },
  {
   "cell_type": "code",
   "execution_count": 13,
   "id": "cad5f9b9",
   "metadata": {},
   "outputs": [],
   "source": [
    "def trataLinhaX(linha):\n",
    "    return np.fromstring(linha['campoX'], dtype=float, sep=',')"
   ]
  },
  {
   "cell_type": "code",
   "execution_count": 14,
   "id": "eefdfd7b",
   "metadata": {},
   "outputs": [
    {
     "data": {
      "text/plain": [
       "(88, 1800)"
      ]
     },
     "execution_count": 14,
     "metadata": {},
     "output_type": "execute_result"
    }
   ],
   "source": [
    "dfTratadoX = dfDados.apply(trataLinhaX, axis='columns')\n",
    "X = np.stack(dfTratadoX.values)\n",
    "X.shape"
   ]
  },
  {
   "cell_type": "code",
   "execution_count": 15,
   "id": "b7632aa0",
   "metadata": {},
   "outputs": [],
   "source": [
    "dfDados.drop('campoX', inplace=True, axis=1)"
   ]
  },
  {
   "cell_type": "code",
   "execution_count": 16,
   "id": "746cf13b",
   "metadata": {},
   "outputs": [
    {
     "name": "stdout",
     "output_type": "stream",
     "text": [
      "ID: 2\n",
      "pesos/treino_rede2.h5\n"
     ]
    },
    {
     "name": "stderr",
     "output_type": "stream",
     "text": [
      "2022-07-25 17:00:58.895195: E tensorflow/stream_executor/cuda/cuda_driver.cc:271] failed call to cuInit: CUDA_ERROR_NO_DEVICE: no CUDA-capable device is detected\n",
      "2022-07-25 17:00:58.940758: I tensorflow/stream_executor/cuda/cuda_diagnostics.cc:156] kernel driver does not appear to be running on this host (vps34755): /proc/driver/nvidia/version does not exist\n",
      "2022-07-25 17:00:59.856583: I tensorflow/core/platform/cpu_feature_guard.cc:151] This TensorFlow binary is optimized with oneAPI Deep Neural Network Library (oneDNN) to use the following CPU instructions in performance-critical operations:  AVX2 FMA\n",
      "To enable them in other operations, rebuild TensorFlow with the appropriate compiler flags.\n",
      "2022-07-25 17:01:13.227906: W tensorflow/core/framework/cpu_allocator_impl.cc:82] Allocation of 12960000 exceeds 10% of free system memory.\n",
      "2022-07-25 17:01:14.924196: W tensorflow/core/framework/cpu_allocator_impl.cc:82] Allocation of 12960000 exceeds 10% of free system memory.\n",
      "2022-07-25 17:01:15.597987: W tensorflow/core/framework/cpu_allocator_impl.cc:82] Allocation of 12960000 exceeds 10% of free system memory.\n",
      "2022-07-25 17:01:17.250961: W tensorflow/core/framework/cpu_allocator_impl.cc:82] Allocation of 10080000 exceeds 10% of free system memory.\n",
      "2022-07-25 17:01:17.299076: W tensorflow/core/framework/cpu_allocator_impl.cc:82] Allocation of 10080000 exceeds 10% of free system memory.\n"
     ]
    },
    {
     "name": "stdout",
     "output_type": "stream",
     "text": [
      "Model: \"sequential\"\n",
      "_________________________________________________________________\n",
      " Layer (type)                Output Shape              Param #   \n",
      "=================================================================\n",
      " dense (Dense)               (None, 1800)              3241800   \n",
      "                                                                 \n",
      " dense_1 (Dense)             (None, 1400)              2521400   \n",
      "                                                                 \n",
      " dense_2 (Dense)             (None, 1000)              1401000   \n",
      "                                                                 \n",
      " dense_3 (Dense)             (None, 600)               600600    \n",
      "                                                                 \n",
      " dense_4 (Dense)             (None, 200)               120200    \n",
      "                                                                 \n",
      " dense_5 (Dense)             (None, 1)                 201       \n",
      "                                                                 \n",
      "=================================================================\n",
      "Total params: 7,885,201\n",
      "Trainable params: 7,885,201\n",
      "Non-trainable params: 0\n",
      "_________________________________________________________________\n",
      "http://vps-40d69db1.vps.ovh.ca:23004/api/CotacaoIntradayAcaoResultados/listaPrecoEntradaPrevisaoPorDiaB3?diaNum=20220630&idRegra=30&idGrupo=12\n",
      "  ticker  valorReferencia  valorEntrada\n",
      "0  ABEV3            13.56       13.8312\n",
      "1  AERI3             2.87        2.9274\n",
      "2  ALPA4            19.59       19.9818\n",
      "3  ALSO3            16.16       16.4832\n",
      "4  AMAR3             1.79        1.8258\n",
      "ticker previsão: 88\n",
      "{'ticker': ['ABEV3', 'AERI3', 'ALPA4', 'ALSO3', 'AMAR3', 'ANIM3', 'AZUL4', 'B3SA3', 'BBAS3', 'BBDC4', 'BBSE3', 'BEEF3', 'BKBR3', 'BPAC11', 'BPAN4', 'BRAP4', 'BRFS3', 'BRKM5', 'BRML3', 'CCRO3', 'CIEL3', 'CMIG4', 'COGN3', 'CPFE3', 'CPLE6', 'CRFB3', 'CSAN3', 'CSMG3', 'CSNA3', 'CVCB3', 'CYRE3', 'ECOR3', 'EGIE3', 'ELET3', 'ELET6', 'EMBR3', 'ENBR3', 'ENEV3', 'ENGI11', 'EQTL3', 'EZTC3', 'FLRY3', 'GGBR4', 'GOAU4', 'GOLL4', 'HAPV3', 'HYPE3', 'ITUB4', 'JBSS3', 'JHSF3', 'KLBN11', 'LCAM3', 'LIGT3', 'LREN3', 'LWSA3', 'MGLU3', 'MOVI3', 'MRFG3', 'MRVE3', 'MULT3', 'MYPK3', 'NEOE3', 'NTCO3', 'PCAR3', 'PETR4', 'POSI3', 'PRIO3', 'PTBL3', 'QUAL3', 'RADL3', 'RAIL3', 'RAPT4', 'RENT3', 'SANB11', 'SBSP3', 'SLCE3', 'SMTO3', 'STBP3', 'SULA11', 'SUZB3', 'TAEE11', 'TOTS3', 'UGPA3', 'USIM5', 'VALE3', 'WEGE3', 'WIZS3', 'YDUQ3'], 'diaNumPrevisao': [20220630, 20220630, 20220630, 20220630, 20220630, 20220630, 20220630, 20220630, 20220630, 20220630, 20220630, 20220630, 20220630, 20220630, 20220630, 20220630, 20220630, 20220630, 20220630, 20220630, 20220630, 20220630, 20220630, 20220630, 20220630, 20220630, 20220630, 20220630, 20220630, 20220630, 20220630, 20220630, 20220630, 20220630, 20220630, 20220630, 20220630, 20220630, 20220630, 20220630, 20220630, 20220630, 20220630, 20220630, 20220630, 20220630, 20220630, 20220630, 20220630, 20220630, 20220630, 20220630, 20220630, 20220630, 20220630, 20220630, 20220630, 20220630, 20220630, 20220630, 20220630, 20220630, 20220630, 20220630, 20220630, 20220630, 20220630, 20220630, 20220630, 20220630, 20220630, 20220630, 20220630, 20220630, 20220630, 20220630, 20220630, 20220630, 20220630, 20220630, 20220630, 20220630, 20220630, 20220630, 20220630, 20220630, 20220630, 20220630], 'resultado': [0.2457750141620636, 0.4736824333667755, 0.32708752155303955, 0.3828577697277069, 0.38214191794395447, 0.3750819265842438, 0.42284345626831055, 0.4086616635322571, 0.2769607901573181, 0.24508607387542725, 0.3355369567871094, 0.40528813004493713, 0.3396034240722656, 0.32926613092422485, 0.46817782521247864, 0.34165215492248535, 0.316745400428772, 0.24075669050216675, 0.3289794325828552, 0.2774490714073181, 0.4745716452598572, 0.4120329022407532, 0.3024136424064636, 0.3660096228122711, 0.2713163495063782, 0.5766197443008423, 0.29751086235046387, 0.30539441108703613, 0.3870549499988556, 0.5739121437072754, 0.4038617014884949, 0.24067744612693787, 0.2727658748626709, 0.3643576502799988, 0.36444389820098877, 0.3380720019340515, 0.2628956437110901, 0.296589732170105, 0.2943236231803894, 0.2980881333351135, 0.2802075743675232, 0.28089168667793274, 0.2531558573246002, 0.22608831524848938, 0.4204866886138916, 0.4964221715927124, 0.38794752955436707, 0.2666189670562744, 0.2578766345977783, 0.3551671802997589, 0.2553563416004181, 0.2758358120918274, 0.35140421986579895, 0.23794525861740112, 0.4119694232940674, 0.4887816309928894, 0.3225858807563782, 0.41037604212760925, 0.43237876892089844, 0.3600344657897949, 0.2330746352672577, 0.28584086894989014, 0.48593762516975403, 0.4646717607975006, 0.2855066657066345, 0.32227301597595215, 0.26656708121299744, 0.4108748137950897, 0.34990444779396057, 0.28974449634552, 0.2509884238243103, 0.2447708249092102, 0.28669434785842896, 0.27765312790870667, 0.4136328399181366, 0.28196632862091064, 0.3798799216747284, 0.33380138874053955, 0.5507925748825073, 0.24462544918060303, 0.30882835388183594, 0.5545952916145325, 0.2621789574623108, 0.3770880103111267, 0.28550732135772705, 0.40021398663520813, 0.2717244029045105, 0.3889794945716858], 'treinoRedeId': ['2', '2', '2', '2', '2', '2', '2', '2', '2', '2', '2', '2', '2', '2', '2', '2', '2', '2', '2', '2', '2', '2', '2', '2', '2', '2', '2', '2', '2', '2', '2', '2', '2', '2', '2', '2', '2', '2', '2', '2', '2', '2', '2', '2', '2', '2', '2', '2', '2', '2', '2', '2', '2', '2', '2', '2', '2', '2', '2', '2', '2', '2', '2', '2', '2', '2', '2', '2', '2', '2', '2', '2', '2', '2', '2', '2', '2', '2', '2', '2', '2', '2', '2', '2', '2', '2', '2', '2'], 'tipoCompraVenda': ['V', 'V', 'V', 'V', 'V', 'V', 'V', 'V', 'V', 'V', 'V', 'V', 'V', 'V', 'V', 'V', 'V', 'V', 'V', 'V', 'V', 'V', 'V', 'V', 'V', 'V', 'V', 'V', 'V', 'V', 'V', 'V', 'V', 'V', 'V', 'V', 'V', 'V', 'V', 'V', 'V', 'V', 'V', 'V', 'V', 'V', 'V', 'V', 'V', 'V', 'V', 'V', 'V', 'V', 'V', 'V', 'V', 'V', 'V', 'V', 'V', 'V', 'V', 'V', 'V', 'V', 'V', 'V', 'V', 'V', 'V', 'V', 'V', 'V', 'V', 'V', 'V', 'V', 'V', 'V', 'V', 'V', 'V', 'V', 'V', 'V', 'V', 'V'], 'valorReferencia': [13.56, 2.87, 19.59, 16.16, 1.79, 4.14, 12.65, 10.94, 33.1, 17.63, 25.55, 13.52, 5.77, 22.33, 6.16, 26.29, 14.14, 38.05, 7.53, 12.76, 3.77, 10.36, 2.15, 30.87, 6.84, 16.46, 18.42, 11.8, 16.47, 7.19, 11.9, 5.74, 41.59, 45.68, 45.86, 11.8, 20.5, 14.97, 40.67, 22.45, 14.53, 14.04, 23.12, 9.83, 9.43, 5.25, 37.38, 23.1, 32.52, 6.22, 20.16, nan, 6.86, 22.3, 5.73, 2.41, 13.48, 12.49, 7.59, 22.56, 16.09, 15.73, 13.56, 16.53, 28.1, 5.62, 22.4, 6.29, 11.58, 19.2, 16.39, 9.88, 51.93, 29.31, 41.96, 46.72, 38.59, 6.41, 21.78, 48.81, 38.76, 23.3, 12.56, 8.98, 78.75, 26.01, 7.88, 13.39], 'valorEntrada': [13.8312, 2.9274, 19.9818, 16.4832, 1.8258, 4.2228, 12.903, 11.1588, 33.762, 17.9826, 26.061, 13.7904, 5.8854, 22.7766, 6.2832, 26.8158, 14.4228, 38.811, 7.6806, 13.0152, 3.8454, 10.5672, 2.193, 31.4874, 6.9768, 16.7892, 18.7884, 12.036, 16.7994, 7.3338, 12.138, 5.8548, 42.4218, 46.5936, 46.7772, 12.036, 20.91, 15.2694, 41.4834, 22.899, 14.8206, 14.3208, 23.5824, 10.0266, 9.6186, 5.355, 38.1276, 23.562, 33.1704, 6.3444, 20.5632, nan, 6.9972, 22.746, 5.8446, 2.4582, 13.7496, 12.7398, 7.7418, 23.0112, 16.4118, 16.0446, 13.8312, 16.8606, 28.662, 5.7324, 22.848, 6.4158, 11.8116, 19.584, 16.7178, 10.0776, 52.9686, 29.8962, 42.7992, 47.6544, 39.3618, 6.5382, 22.2156, 49.7862, 39.5352, 23.766, 12.8112, 9.1596, 80.325, 26.5302, 8.0376, 13.6578]}\n",
      "<Response [200]>\n"
     ]
    },
    {
     "data": {
      "text/plain": [
       "0    None\n",
       "dtype: object"
      ]
     },
     "execution_count": 16,
     "metadata": {},
     "output_type": "execute_result"
    }
   ],
   "source": [
    "dfTreino.apply(trataRede, axis='columns')"
   ]
  },
  {
   "cell_type": "code",
   "execution_count": null,
   "id": "af5eb360",
   "metadata": {},
   "outputs": [],
   "source": []
  },
  {
   "cell_type": "code",
   "execution_count": null,
   "id": "25d7a909",
   "metadata": {},
   "outputs": [],
   "source": []
  }
 ],
 "metadata": {
  "kernelspec": {
   "display_name": "Python 3 (ipykernel)",
   "language": "python",
   "name": "python3"
  },
  "language_info": {
   "codemirror_mode": {
    "name": "ipython",
    "version": 3
   },
   "file_extension": ".py",
   "mimetype": "text/x-python",
   "name": "python",
   "nbconvert_exporter": "python",
   "pygments_lexer": "ipython3",
   "version": "3.8.10"
  }
 },
 "nbformat": 4,
 "nbformat_minor": 5
}
