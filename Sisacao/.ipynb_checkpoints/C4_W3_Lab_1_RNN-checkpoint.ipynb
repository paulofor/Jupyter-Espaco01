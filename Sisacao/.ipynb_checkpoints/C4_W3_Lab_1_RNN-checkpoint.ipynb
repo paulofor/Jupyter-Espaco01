{
 "cells": [
  {
   "cell_type": "markdown",
   "metadata": {},
   "source": [
    "<a href=\"https://colab.research.google.com/github/https-deeplearning-ai/tensorflow-1-public/blob/main/C4/W3/ungraded_labs/C4_W3_Lab_1_RNN.ipynb\" target=\"_parent\"><img src=\"https://colab.research.google.com/assets/colab-badge.svg\" alt=\"Open In Colab\"/></a>"
   ]
  },
  {
   "cell_type": "markdown",
   "metadata": {
    "id": "fO0xC1Cfp5-U"
   },
   "source": [
    "# Ungraded Lab: Using a Simple RNN for forecasting\n",
    "\n",
    "In this lab, you will start to use recurrent neural networks (RNNs) to build a forecasting model. In particular, you will:\n",
    "\n",
    "* build a stacked RNN using `simpleRNN` layers\n",
    "* use `Lambda` layers to reshape the input and scale the output\n",
    "* use the Huber loss during training\n",
    "* use batched data windows to generate model predictions\n",
    "\n",
    "You will train this on the same synthetic dataset from last week so the initial steps will be the same. Let's begin!"
   ]
  },
  {
   "cell_type": "markdown",
   "metadata": {
    "id": "w5kDhl0kp4ML"
   },
   "source": [
    "## Imports"
   ]
  },
  {
   "cell_type": "code",
   "execution_count": 1,
   "metadata": {
    "id": "BOjujz601HcS"
   },
   "outputs": [
    {
     "name": "stderr",
     "output_type": "stream",
     "text": [
      "2022-04-26 11:22:22.804987: W tensorflow/stream_executor/platform/default/dso_loader.cc:64] Could not load dynamic library 'libcudart.so.11.0'; dlerror: libcudart.so.11.0: cannot open shared object file: No such file or directory\n",
      "2022-04-26 11:22:22.805067: I tensorflow/stream_executor/cuda/cudart_stub.cc:29] Ignore above cudart dlerror if you do not have a GPU set up on your machine.\n"
     ]
    }
   ],
   "source": [
    "import tensorflow as tf\n",
    "import numpy as np\n",
    "import matplotlib.pyplot as plt"
   ]
  },
  {
   "cell_type": "markdown",
   "metadata": {
    "id": "ppd0VK_4p1c8"
   },
   "source": [
    "## Utilities"
   ]
  },
  {
   "cell_type": "code",
   "execution_count": 2,
   "metadata": {
    "id": "Zswl7jRtGzkk"
   },
   "outputs": [],
   "source": [
    "def plot_series(time, series, format=\"-\", start=0, end=None):\n",
    "    \"\"\"\n",
    "    Visualizes time series data\n",
    "\n",
    "    Args:\n",
    "      time (array of int) - contains the time steps\n",
    "      series (array of int) - contains the measurements for each time step\n",
    "      format - line style when plotting the graph\n",
    "      start - first time step to plot\n",
    "      end - last time step to plot\n",
    "    \"\"\"\n",
    "\n",
    "    # Setup dimensions of the graph figure\n",
    "    plt.figure(figsize=(10, 6))\n",
    "    \n",
    "    if type(series) is tuple:\n",
    "\n",
    "      for series_num in series:\n",
    "        # Plot the time series data\n",
    "        plt.plot(time[start:end], series_num[start:end], format)\n",
    "\n",
    "    else:\n",
    "      # Plot the time series data\n",
    "      plt.plot(time[start:end], series[start:end], format)\n",
    "\n",
    "    # Label the x-axis\n",
    "    plt.xlabel(\"Time\")\n",
    "\n",
    "    # Label the y-axis\n",
    "    plt.ylabel(\"Value\")\n",
    "\n",
    "    # Overlay a grid on the graph\n",
    "    plt.grid(True)\n",
    "\n",
    "    # Draw the graph on screen\n",
    "    plt.show()\n",
    "\n",
    "def trend(time, slope=0):\n",
    "    \"\"\"\n",
    "    Generates synthetic data that follows a straight line given a slope value.\n",
    "\n",
    "    Args:\n",
    "      time (array of int) - contains the time steps\n",
    "      slope (float) - determines the direction and steepness of the line\n",
    "\n",
    "    Returns:\n",
    "      series (array of float) - measurements that follow a straight line\n",
    "    \"\"\"\n",
    "\n",
    "    # Compute the linear series given the slope\n",
    "    series = slope * time\n",
    "\n",
    "    return series\n",
    "\n",
    "def seasonal_pattern(season_time):\n",
    "    \"\"\"\n",
    "    Just an arbitrary pattern, you can change it if you wish\n",
    "    \n",
    "    Args:\n",
    "      season_time (array of float) - contains the measurements per time step\n",
    "\n",
    "    Returns:\n",
    "      data_pattern (array of float) -  contains revised measurement values according \n",
    "                                  to the defined pattern\n",
    "    \"\"\"\n",
    "\n",
    "    # Generate the values using an arbitrary pattern\n",
    "    data_pattern = np.where(season_time < 0.4,\n",
    "                    np.cos(season_time * 2 * np.pi),\n",
    "                    1 / np.exp(3 * season_time))\n",
    "    \n",
    "    return data_pattern\n",
    "\n",
    "def seasonality(time, period, amplitude=1, phase=0):\n",
    "    \"\"\"\n",
    "    Repeats the same pattern at each period\n",
    "\n",
    "    Args:\n",
    "      time (array of int) - contains the time steps\n",
    "      period (int) - number of time steps before the pattern repeats\n",
    "      amplitude (int) - peak measured value in a period\n",
    "      phase (int) - number of time steps to shift the measured values\n",
    "\n",
    "    Returns:\n",
    "      data_pattern (array of float) - seasonal data scaled by the defined amplitude\n",
    "    \"\"\"\n",
    "    \n",
    "    # Define the measured values per period\n",
    "    season_time = ((time + phase) % period) / period\n",
    "\n",
    "    # Generates the seasonal data scaled by the defined amplitude\n",
    "    data_pattern = amplitude * seasonal_pattern(season_time)\n",
    "\n",
    "    return data_pattern\n",
    "\n",
    "def noise(time, noise_level=1, seed=None):\n",
    "    \"\"\"Generates a normally distributed noisy signal\n",
    "\n",
    "    Args:\n",
    "      time (array of int) - contains the time steps\n",
    "      noise_level (float) - scaling factor for the generated signal\n",
    "      seed (int) - number generator seed for repeatability\n",
    "\n",
    "    Returns:\n",
    "      noise (array of float) - the noisy signal\n",
    "    \"\"\"\n",
    "\n",
    "    # Initialize the random number generator\n",
    "    rnd = np.random.RandomState(seed)\n",
    "\n",
    "    # Generate a random number for each time step and scale by the noise level\n",
    "    noise = rnd.randn(len(time)) * noise_level\n",
    "    \n",
    "    return noise"
   ]
  },
  {
   "cell_type": "markdown",
   "metadata": {
    "id": "B3ZFrzpCpyTo"
   },
   "source": [
    "## Generate the Synthetic Data"
   ]
  },
  {
   "cell_type": "code",
   "execution_count": 3,
   "metadata": {
    "id": "-UJCR61zleGM"
   },
   "outputs": [
    {
     "data": {
      "image/png": "[encoded data removed]",
      "text/plain": [
       "<Figure size 720x432 with 1 Axes>"
      ]
     },
     "metadata": {
      "needs_background": "light"
     },
     "output_type": "display_data"
    }
   ],
   "source": [
    "# Parameters\n",
    "time = np.arange(4 * 365 + 1, dtype=\"float32\")\n",
    "baseline = 10\n",
    "amplitude = 40\n",
    "slope = 0.05\n",
    "noise_level = 5\n",
    "\n",
    "# Create the series\n",
    "series = baseline + trend(time, slope) + seasonality(time, period=365, amplitude=amplitude)\n",
    "\n",
    "# Update with noise\n",
    "series += noise(time, noise_level, seed=42)\n",
    "\n",
    "# Plot the results\n",
    "plot_series(time, series)"
   ]
  },
  {
   "cell_type": "markdown",
   "metadata": {
    "id": "RbW2GxrgpuZF"
   },
   "source": [
    "## Split the Dataset"
   ]
  },
  {
   "cell_type": "code",
   "execution_count": 4,
   "metadata": {
    "id": "jhkuHzlol2VW"
   },
   "outputs": [],
   "source": [
    "# Define the split time\n",
    "split_time = 1000\n",
    "\n",
    "# Get the train set \n",
    "time_train = time[:split_time]\n",
    "x_train = series[:split_time]\n",
    "\n",
    "# Get the validation set\n",
    "time_valid = time[split_time:]\n",
    "x_valid = series[split_time:]"
   ]
  },
  {
   "cell_type": "markdown",
   "metadata": {
    "id": "TP6a2ckVqThP"
   },
   "source": [
    "## Prepare Features and Labels"
   ]
  },
  {
   "cell_type": "code",
   "execution_count": 5,
   "metadata": {
    "id": "SawHhwx3qOMC"
   },
   "outputs": [],
   "source": [
    "# Parameters\n",
    "window_size = 20\n",
    "batch_size = 32\n",
    "shuffle_buffer_size = 1000"
   ]
  },
  {
   "cell_type": "code",
   "execution_count": 6,
   "metadata": {
    "id": "4sTTIOCbyShY"
   },
   "outputs": [],
   "source": [
    "def windowed_dataset(series, window_size, batch_size, shuffle_buffer):\n",
    "    \"\"\"Generates dataset windows\n",
    "\n",
    "    Args:\n",
    "      series (array of float) - contains the values of the time series\n",
    "      window_size (int) - the number of time steps to include in the feature\n",
    "      batch_size (int) - the batch size\n",
    "      shuffle_buffer(int) - buffer size to use for the shuffle method\n",
    "\n",
    "    Returns:\n",
    "      dataset (TF Dataset) - TF Dataset containing time windows\n",
    "    \"\"\"\n",
    "  \n",
    "    # Generate a TF Dataset from the series values\n",
    "    dataset = tf.data.Dataset.from_tensor_slices(series)\n",
    "    \n",
    "    # Window the data but only take those with the specified size\n",
    "    dataset = dataset.window(window_size + 1, shift=1, drop_remainder=True)\n",
    "    \n",
    "    # Flatten the windows by putting its elements in a single batch\n",
    "    dataset = dataset.flat_map(lambda window: window.batch(window_size + 1))\n",
    "\n",
    "    # Create tuples with features and labels \n",
    "    dataset = dataset.map(lambda window: (window[:-1], window[-1]))\n",
    "\n",
    "    # Shuffle the windows\n",
    "    dataset = dataset.shuffle(shuffle_buffer)\n",
    "    \n",
    "    # Create batches of windows\n",
    "    dataset = dataset.batch(batch_size).prefetch(1)\n",
    "    \n",
    "    return dataset"
   ]
  },
  {
   "cell_type": "code",
   "execution_count": 7,
   "metadata": {
    "id": "hvmPMWqhqkUh"
   },
   "outputs": [
    {
     "name": "stderr",
     "output_type": "stream",
     "text": [
      "2022-04-26 11:24:15.159056: E tensorflow/stream_executor/cuda/cuda_driver.cc:271] failed call to cuInit: CUDA_ERROR_NO_DEVICE: no CUDA-capable device is detected\n",
      "2022-04-26 11:24:15.188720: I tensorflow/stream_executor/cuda/cuda_diagnostics.cc:156] kernel driver does not appear to be running on this host (vps34755): /proc/driver/nvidia/version does not exist\n",
      "2022-04-26 11:24:15.642645: I tensorflow/core/platform/cpu_feature_guard.cc:151] This TensorFlow binary is optimized with oneAPI Deep Neural Network Library (oneDNN) to use the following CPU instructions in performance-critical operations:  AVX2 FMA\n",
      "To enable them in other operations, rebuild TensorFlow with the appropriate compiler flags.\n"
     ]
    }
   ],
   "source": [
    "# Generate the dataset windows\n",
    "dataset = windowed_dataset(x_train, window_size, batch_size, shuffle_buffer_size)"
   ]
  },
  {
   "cell_type": "code",
   "execution_count": 8,
   "metadata": {
    "id": "HDUsp8n99Zhd"
   },
   "outputs": [
    {
     "name": "stdout",
     "output_type": "stream",
     "text": [
      "shape of feature: (32, 20)\n",
      "shape of label: (32,)\n"
     ]
    }
   ],
   "source": [
    "# Print shapes of feature and label\n",
    "for window in dataset.take(1):\n",
    "  print(f'shape of feature: {window[0].shape}')\n",
    "  print(f'shape of label: {window[1].shape}')"
   ]
  },
  {
   "cell_type": "markdown",
   "metadata": {
    "id": "hvzrTbBLHTx2"
   },
   "source": [
    "## Build the Model\n",
    "\n",
    "Your model is composed mainly of [SimpleRNN](https://www.tensorflow.org/api_docs/python/tf/keras/layers/SimpleRNN) layers. As mentioned in the lectures, this type of RNN simply routs its output back to the input. You will stack two of these layers in your model so the first one should have `return_sequences` set to `True`. \n",
    "\n",
    "As mentioned in the [documentation](https://www.tensorflow.org/api_docs/python/tf/keras/layers/SimpleRNN#call_arguments), `SimpleRNN` layers expect a 3-dimensional tensor input with the shape `[batch, timesteps, feature`]. With that, you need to reshape your window from `(32, 20)` to `(32, 20, 1)`. This means the 20 datapoints in the window will be mapped to 20 timesteps of the RNN. You can do this reshaping in a separate cell but you can also do this within the model itself by using [Lambda](https://www.tensorflow.org/api_docs/python/tf/keras/layers/Lambda) layers. Notice the first layer below. It defines a lambda function that adds a dimension at the last axis of the input. That's exactly the transformation you need. For the `input_shape`, you can specify `None` (like in the lecture video) if you want to be the model to be more flexible with the number of timesteps. Alternatively, you can set it to `window_size` as shown below if you want to set the `timesteps` dimension to the expected size of your data windows.\n",
    "\n",
    "Normally, you can just a have a `Dense` layer output as shown in the previous labs. However, you can help the training by scaling up the output to around the same figures as your labels. This will depend on the [activation functions](https://en.wikipedia.org/wiki/Activation_function#Table_of_activation_functions) you used in your model. `SimpleRNN` uses *tanh* by default and that has an output range of `[-1,1]`. You will use another `Lambda()` layer to scale the output by 100 before it adjusts the layer weights. Feel free to remove this layer later after this lab and see what results you get."
   ]
  },
  {
   "cell_type": "code",
   "execution_count": 9,
   "metadata": {
    "id": "L4nblWkqg1NL"
   },
   "outputs": [
    {
     "name": "stdout",
     "output_type": "stream",
     "text": [
      "Model: \"sequential\"\n",
      "_________________________________________________________________\n",
      " Layer (type)                Output Shape              Param #   \n",
      "=================================================================\n",
      " lambda (Lambda)             (None, 20, 1)             0         \n",
      "                                                                 \n",
      " simple_rnn (SimpleRNN)      (None, 20, 40)            1680      \n",
      "                                                                 \n",
      " simple_rnn_1 (SimpleRNN)    (None, 40)                3240      \n",
      "                                                                 \n",
      " dense (Dense)               (None, 1)                 41        \n",
      "                                                                 \n",
      " lambda_1 (Lambda)           (None, 1)                 0         \n",
      "                                                                 \n",
      "=================================================================\n",
      "Total params: 4,961\n",
      "Trainable params: 4,961\n",
      "Non-trainable params: 0\n",
      "_________________________________________________________________\n"
     ]
    }
   ],
   "source": [
    "# Build the Model\n",
    "model_tune = tf.keras.models.Sequential([\n",
    "  tf.keras.layers.Lambda(lambda x: tf.expand_dims(x, axis=-1),\n",
    "                      input_shape=[window_size]),\n",
    "  tf.keras.layers.SimpleRNN(40, return_sequences=True),\n",
    "  tf.keras.layers.SimpleRNN(40),\n",
    "  tf.keras.layers.Dense(1),\n",
    "  tf.keras.layers.Lambda(lambda x: x * 100.0)\n",
    "])\n",
    "\n",
    "# Print the model summary\n",
    "model_tune.summary()"
   ]
  },
  {
   "cell_type": "markdown",
   "metadata": {
    "id": "0SI_wtyh4PV1"
   },
   "source": [
    "## Tune the Learning Rate\n",
    "\n",
    "You will then tune the learning rate as before. You will define a learning rate schedule that changes this hyperparameter dynamically. You will use the [Huber Loss](https://en.wikipedia.org/wiki/Huber_loss) as your loss function to minimize sensitivity to outliers."
   ]
  },
  {
   "cell_type": "code",
   "execution_count": 10,
   "metadata": {
    "id": "4JuO12ZOq4Gy"
   },
   "outputs": [
    {
     "name": "stdout",
     "output_type": "stream",
     "text": [
      "Epoch 1/100\n",
      "31/31 [==============================] - 112s 417ms/step - loss: 14.9636 - lr: 1.0000e-08\n",
      "Epoch 2/100\n",
      "31/31 [==============================] - 3s 39ms/step - loss: 14.9181 - lr: 1.1220e-08\n",
      "Epoch 3/100\n",
      "31/31 [==============================] - 1s 31ms/step - loss: 14.8665 - lr: 1.2589e-08\n",
      "Epoch 4/100\n",
      "31/31 [==============================] - 2s 35ms/step - loss: 14.8087 - lr: 1.4125e-08\n",
      "Epoch 5/100\n",
      "31/31 [==============================] - 2s 34ms/step - loss: 14.7459 - lr: 1.5849e-08\n",
      "Epoch 6/100\n",
      "31/31 [==============================] - 1s 32ms/step - loss: 14.6745 - lr: 1.7783e-08\n",
      "Epoch 7/100\n",
      "31/31 [==============================] - 2s 34ms/step - loss: 14.5926 - lr: 1.9953e-08\n",
      "Epoch 8/100\n",
      "31/31 [==============================] - 1s 29ms/step - loss: 14.5003 - lr: 2.2387e-08\n",
      "Epoch 9/100\n",
      "31/31 [==============================] - 2s 39ms/step - loss: 14.3913 - lr: 2.5119e-08\n",
      "Epoch 10/100\n",
      "31/31 [==============================] - 2s 38ms/step - loss: 14.2722 - lr: 2.8184e-08\n",
      "Epoch 11/100\n",
      "31/31 [==============================] - 1s 31ms/step - loss: 14.1366 - lr: 3.1623e-08\n",
      "Epoch 12/100\n",
      "31/31 [==============================] - 1s 28ms/step - loss: 13.9824 - lr: 3.5481e-08\n",
      "Epoch 13/100\n",
      "31/31 [==============================] - 1s 28ms/step - loss: 13.8108 - lr: 3.9811e-08\n",
      "Epoch 14/100\n",
      "31/31 [==============================] - 1s 29ms/step - loss: 13.6169 - lr: 4.4668e-08\n",
      "Epoch 15/100\n",
      "31/31 [==============================] - 1s 29ms/step - loss: 13.3860 - lr: 5.0119e-08\n",
      "Epoch 16/100\n",
      "31/31 [==============================] - 1s 28ms/step - loss: 13.1107 - lr: 5.6234e-08\n",
      "Epoch 17/100\n",
      "31/31 [==============================] - ETA: 0s - loss: 12.78 - 1s 29ms/step - loss: 12.7876 - lr: 6.3096e-08\n",
      "Epoch 18/100\n",
      "31/31 [==============================] - 1s 30ms/step - loss: 12.4169 - lr: 7.0795e-08\n",
      "Epoch 19/100\n",
      "31/31 [==============================] - 1s 32ms/step - loss: 11.9860 - lr: 7.9433e-08\n",
      "Epoch 20/100\n",
      "31/31 [==============================] - 2s 36ms/step - loss: 11.5266 - lr: 8.9125e-08\n",
      "Epoch 21/100\n",
      "31/31 [==============================] - 1s 30ms/step - loss: 11.0609 - lr: 1.0000e-07\n",
      "Epoch 22/100\n",
      "31/31 [==============================] - 2s 33ms/step - loss: 10.6169 - lr: 1.1220e-07\n",
      "Epoch 23/100\n",
      "31/31 [==============================] - 2s 31ms/step - loss: 10.2199 - lr: 1.2589e-07\n",
      "Epoch 24/100\n",
      "31/31 [==============================] - 1s 27ms/step - loss: 9.8821 - lr: 1.4125e-07\n",
      "Epoch 25/100\n",
      "31/31 [==============================] - 1s 29ms/step - loss: 9.5922 - lr: 1.5849e-07\n",
      "Epoch 26/100\n",
      "31/31 [==============================] - 1s 25ms/step - loss: 9.3424 - lr: 1.7783e-07\n",
      "Epoch 27/100\n",
      "31/31 [==============================] - 1s 29ms/step - loss: 9.1379 - lr: 1.9953e-07\n",
      "Epoch 28/100\n",
      "31/31 [==============================] - 1s 29ms/step - loss: 8.8809 - lr: 2.2387e-07\n",
      "Epoch 29/100\n",
      "31/31 [==============================] - 1s 32ms/step - loss: 8.6988 - lr: 2.5119e-07\n",
      "Epoch 30/100\n",
      "31/31 [==============================] - 2s 40ms/step - loss: 8.3006 - lr: 2.8184e-07\n",
      "Epoch 31/100\n",
      "31/31 [==============================] - 2s 42ms/step - loss: 8.0108 - lr: 3.1623e-07\n",
      "Epoch 32/100\n",
      "31/31 [==============================] - 2s 33ms/step - loss: 7.8216 - lr: 3.5481e-07\n",
      "Epoch 33/100\n",
      "31/31 [==============================] - 1s 32ms/step - loss: 7.7717 - lr: 3.9811e-07\n",
      "Epoch 34/100\n",
      "31/31 [==============================] - 1s 33ms/step - loss: 7.8090 - lr: 4.4668e-07\n",
      "Epoch 35/100\n",
      "31/31 [==============================] - 1s 29ms/step - loss: 7.5913 - lr: 5.0119e-07\n",
      "Epoch 36/100\n",
      "31/31 [==============================] - 2s 35ms/step - loss: 7.5175 - lr: 5.6234e-07\n",
      "Epoch 37/100\n",
      "31/31 [==============================] - 1s 28ms/step - loss: 7.3364 - lr: 6.3096e-07\n",
      "Epoch 38/100\n",
      "31/31 [==============================] - 2s 40ms/step - loss: 7.3586 - lr: 7.0795e-07\n",
      "Epoch 39/100\n",
      "31/31 [==============================] - 1s 32ms/step - loss: 7.0999 - lr: 7.9433e-07\n",
      "Epoch 40/100\n",
      "31/31 [==============================] - 1s 28ms/step - loss: 7.2257 - lr: 8.9125e-07\n",
      "Epoch 41/100\n",
      "31/31 [==============================] - 2s 35ms/step - loss: 6.8289 - lr: 1.0000e-06\n",
      "Epoch 42/100\n",
      "31/31 [==============================] - 1s 26ms/step - loss: 7.3721 - lr: 1.1220e-06\n",
      "Epoch 43/100\n",
      "31/31 [==============================] - 1s 32ms/step - loss: 6.8700 - lr: 1.2589e-06\n",
      "Epoch 44/100\n",
      "31/31 [==============================] - 1s 27ms/step - loss: 6.7279 - lr: 1.4125e-06\n",
      "Epoch 45/100\n",
      "31/31 [==============================] - 1s 31ms/step - loss: 6.7309 - lr: 1.5849e-06\n",
      "Epoch 46/100\n",
      "31/31 [==============================] - 1s 26ms/step - loss: 6.6833 - lr: 1.7783e-06\n",
      "Epoch 47/100\n",
      "31/31 [==============================] - 1s 28ms/step - loss: 7.3546 - lr: 1.9953e-06\n",
      "Epoch 48/100\n",
      "31/31 [==============================] - 1s 29ms/step - loss: 6.2272 - lr: 2.2387e-06\n",
      "Epoch 49/100\n",
      "31/31 [==============================] - 1s 25ms/step - loss: 6.4735 - lr: 2.5119e-06\n",
      "Epoch 50/100\n",
      "31/31 [==============================] - 1s 30ms/step - loss: 6.2336 - lr: 2.8184e-06\n",
      "Epoch 51/100\n",
      "31/31 [==============================] - 1s 29ms/step - loss: 5.9585 - lr: 3.1623e-06\n",
      "Epoch 52/100\n",
      "31/31 [==============================] - 1s 30ms/step - loss: 6.0060 - lr: 3.5481e-06\n",
      "Epoch 53/100\n",
      "31/31 [==============================] - 1s 28ms/step - loss: 6.4945 - lr: 3.9811e-06\n",
      "Epoch 54/100\n",
      "31/31 [==============================] - ETA: 0s - loss: 6.351 - 1s 30ms/step - loss: 6.4016 - lr: 4.4668e-06\n",
      "Epoch 55/100\n",
      "31/31 [==============================] - 1s 29ms/step - loss: 6.7045 - lr: 5.0119e-06\n",
      "Epoch 56/100\n",
      "31/31 [==============================] - 2s 34ms/step - loss: 5.7353 - lr: 5.6234e-06\n",
      "Epoch 57/100\n",
      "31/31 [==============================] - 1s 26ms/step - loss: 5.9447 - lr: 6.3096e-06\n",
      "Epoch 58/100\n",
      "31/31 [==============================] - 1s 32ms/step - loss: 6.7828 - lr: 7.0795e-06\n",
      "Epoch 59/100\n",
      "31/31 [==============================] - 1s 27ms/step - loss: 7.7413 - lr: 7.9433e-06\n",
      "Epoch 60/100\n",
      "31/31 [==============================] - 2s 36ms/step - loss: 7.5437 - lr: 8.9125e-06\n",
      "Epoch 61/100\n",
      "31/31 [==============================] - 1s 27ms/step - loss: 7.2584 - lr: 1.0000e-05\n",
      "Epoch 62/100\n",
      "31/31 [==============================] - 1s 28ms/step - loss: 7.9340 - lr: 1.1220e-05\n",
      "Epoch 63/100\n",
      "31/31 [==============================] - 1s 30ms/step - loss: 6.7427 - lr: 1.2589e-05\n",
      "Epoch 64/100\n",
      "31/31 [==============================] - 1s 32ms/step - loss: 7.4633 - lr: 1.4125e-05\n",
      "Epoch 65/100\n",
      "31/31 [==============================] - 1s 29ms/step - loss: 9.7877 - lr: 1.5849e-05\n",
      "Epoch 66/100\n",
      "31/31 [==============================] - 2s 33ms/step - loss: 6.9118 - lr: 1.7783e-05\n",
      "Epoch 67/100\n",
      "31/31 [==============================] - 1s 30ms/step - loss: 7.8146 - lr: 1.9953e-05\n",
      "Epoch 68/100\n",
      "31/31 [==============================] - 1s 29ms/step - loss: 6.6314 - lr: 2.2387e-05\n",
      "Epoch 69/100\n",
      "31/31 [==============================] - 1s 30ms/step - loss: 5.9514 - lr: 2.5119e-05\n",
      "Epoch 70/100\n",
      "31/31 [==============================] - 1s 30ms/step - loss: 7.4824 - lr: 2.8184e-05\n",
      "Epoch 71/100\n",
      "31/31 [==============================] - 1s 29ms/step - loss: 9.8155 - lr: 3.1623e-05\n",
      "Epoch 72/100\n",
      "31/31 [==============================] - 2s 37ms/step - loss: 7.4277 - lr: 3.5481e-05\n",
      "Epoch 73/100\n",
      "31/31 [==============================] - 1s 34ms/step - loss: 10.4981 - lr: 3.9811e-05\n",
      "Epoch 74/100\n",
      "31/31 [==============================] - 1s 34ms/step - loss: 10.6026 - lr: 4.4668e-05\n",
      "Epoch 75/100\n",
      "31/31 [==============================] - 1s 31ms/step - loss: 14.8558 - lr: 5.0119e-05\n",
      "Epoch 76/100\n",
      "31/31 [==============================] - 1s 30ms/step - loss: 13.2751 - lr: 5.6234e-05\n",
      "Epoch 77/100\n",
      "31/31 [==============================] - 1s 29ms/step - loss: 10.9688 - lr: 6.3096e-05\n",
      "Epoch 78/100\n",
      "31/31 [==============================] - 1s 24ms/step - loss: 15.7990 - lr: 7.0795e-05\n",
      "Epoch 79/100\n",
      "31/31 [==============================] - 1s 24ms/step - loss: 19.0876 - lr: 7.9433e-05\n",
      "Epoch 80/100\n",
      "31/31 [==============================] - 2s 38ms/step - loss: 22.5909 - lr: 8.9125e-05\n",
      "Epoch 81/100\n",
      "31/31 [==============================] - 1s 30ms/step - loss: 12.6107 - lr: 1.0000e-04\n",
      "Epoch 82/100\n",
      "31/31 [==============================] - 2s 35ms/step - loss: 15.7957 - lr: 1.1220e-04\n"
     ]
    },
    {
     "name": "stdout",
     "output_type": "stream",
     "text": [
      "Epoch 83/100\n",
      "31/31 [==============================] - 1s 24ms/step - loss: 15.8160 - lr: 1.2589e-04\n",
      "Epoch 84/100\n",
      "31/31 [==============================] - 1s 23ms/step - loss: 16.6136 - lr: 1.4125e-04\n",
      "Epoch 85/100\n",
      "31/31 [==============================] - 1s 23ms/step - loss: 13.8777 - lr: 1.5849e-04\n",
      "Epoch 86/100\n",
      "31/31 [==============================] - 1s 28ms/step - loss: 18.7327 - lr: 1.7783e-04\n",
      "Epoch 87/100\n",
      "31/31 [==============================] - 1s 31ms/step - loss: 12.7217 - lr: 1.9953e-04\n",
      "Epoch 88/100\n",
      "31/31 [==============================] - 1s 28ms/step - loss: 18.3200 - lr: 2.2387e-04\n",
      "Epoch 89/100\n",
      "31/31 [==============================] - 1s 26ms/step - loss: 23.1128 - lr: 2.5119e-04\n",
      "Epoch 90/100\n",
      "31/31 [==============================] - 1s 28ms/step - loss: 23.6122 - lr: 2.8184e-04\n",
      "Epoch 91/100\n",
      "31/31 [==============================] - 1s 26ms/step - loss: 24.6252 - lr: 3.1623e-04\n",
      "Epoch 92/100\n",
      "31/31 [==============================] - 1s 26ms/step - loss: 20.5631 - lr: 3.5481e-04\n",
      "Epoch 93/100\n",
      "31/31 [==============================] - 1s 29ms/step - loss: 17.4303 - lr: 3.9811e-04\n",
      "Epoch 94/100\n",
      "31/31 [==============================] - 1s 29ms/step - loss: 18.9309 - lr: 4.4668e-04\n",
      "Epoch 95/100\n",
      "31/31 [==============================] - 1s 32ms/step - loss: 16.9573 - lr: 5.0119e-04\n",
      "Epoch 96/100\n",
      "31/31 [==============================] - 1s 29ms/step - loss: 15.6933 - lr: 5.6234e-04\n",
      "Epoch 97/100\n",
      "31/31 [==============================] - 1s 30ms/step - loss: 27.3054 - lr: 6.3096e-04\n",
      "Epoch 98/100\n",
      "31/31 [==============================] - 1s 31ms/step - loss: 37.0305 - lr: 7.0795e-04\n",
      "Epoch 99/100\n",
      "31/31 [==============================] - 1s 32ms/step - loss: 21.1268 - lr: 7.9433e-04\n",
      "Epoch 100/100\n",
      "31/31 [==============================] - 2s 36ms/step - loss: 20.3620 - lr: 8.9125e-04\n"
     ]
    }
   ],
   "source": [
    "# Set the learning rate scheduler\n",
    "lr_schedule = tf.keras.callbacks.LearningRateScheduler(\n",
    "    lambda epoch: 1e-8 * 10**(epoch / 20))\n",
    "\n",
    "# Initialize the optimizer\n",
    "optimizer = tf.keras.optimizers.SGD(momentum=0.9)\n",
    "\n",
    "# Set the training parameters\n",
    "model_tune.compile(loss=tf.keras.losses.Huber(), optimizer=optimizer)\n",
    "\n",
    "# Train the model\n",
    "history = model_tune.fit(dataset, epochs=100, callbacks=[lr_schedule])"
   ]
  },
  {
   "cell_type": "markdown",
   "metadata": {
    "id": "JnwxnPNhdwUI"
   },
   "source": [
    "You can visualize the results and pick an optimal learning rate."
   ]
  },
  {
   "cell_type": "code",
   "execution_count": 11,
   "metadata": {
    "id": "5He3pp-Hj758"
   },
   "outputs": [
    {
     "data": {
      "text/plain": [
       "(1e-08, 0.001, 0.0, 50.0)"
      ]
     },
     "execution_count": 11,
     "metadata": {},
     "output_type": "execute_result"
    },
    {
     "data": {
      "image/png": "[encoded data removed]",
      "text/plain": [
       "<Figure size 720x432 with 1 Axes>"
      ]
     },
     "metadata": {
      "needs_background": "light"
     },
     "output_type": "display_data"
    }
   ],
   "source": [
    "# Define the learning rate array\n",
    "lrs = 1e-8 * (10 ** (np.arange(100) / 20))\n",
    "\n",
    "# Set the figure size\n",
    "plt.figure(figsize=(10, 6))\n",
    "\n",
    "# Set the grid\n",
    "plt.grid(True)\n",
    "\n",
    "# Plot the loss in log scale\n",
    "plt.semilogx(lrs, history.history[\"loss\"])\n",
    "\n",
    "# Increase the tickmarks size\n",
    "plt.tick_params('both', length=10, width=1, which='both')\n",
    "\n",
    "# Set the plot boundaries\n",
    "plt.axis([1e-8, 1e-3, 0, 50])"
   ]
  },
  {
   "cell_type": "markdown",
   "metadata": {
    "id": "lKLJz8umd1wO"
   },
   "source": [
    "You can change the boundaries of the graph if you want to zoom in. The cell below chooses a narrower range so you can see more clearly where the graph becomes unstable."
   ]
  },
  {
   "cell_type": "code",
   "execution_count": 12,
   "metadata": {
    "id": "Q-XbgGzpuuVF"
   },
   "outputs": [
    {
     "data": {
      "text/plain": [
       "(1e-07, 0.0001, 0.0, 20.0)"
      ]
     },
     "execution_count": 12,
     "metadata": {},
     "output_type": "execute_result"
    },
    {
     "data": {
      "image/png": "[encoded data removed]",
      "text/plain": [
       "<Figure size 720x432 with 1 Axes>"
      ]
     },
     "metadata": {
      "needs_background": "light"
     },
     "output_type": "display_data"
    }
   ],
   "source": [
    "# Set the figure size\n",
    "plt.figure(figsize=(10, 6))\n",
    "\n",
    "# Set the grid\n",
    "plt.grid(True)\n",
    "\n",
    "# Plot the loss in log scale\n",
    "plt.semilogx(lrs, history.history[\"loss\"])\n",
    "\n",
    "# Increase the tickmarks size\n",
    "plt.tick_params('both', length=10, width=1, which='both')\n",
    "\n",
    "# Set the plot boundaries\n",
    "plt.axis([1e-7, 1e-4, 0, 20])"
   ]
  },
  {
   "cell_type": "markdown",
   "metadata": {
    "id": "PD8-TGbAJUNj"
   },
   "source": [
    "## Train the Model\n",
    "\n",
    "You can then declare the model again and train with the learning rate you picked. It is set to `1e-6`by default but feel free to change it."
   ]
  },
  {
   "cell_type": "code",
   "execution_count": 13,
   "metadata": {
    "id": "6y1KMowRkHkC"
   },
   "outputs": [
    {
     "name": "stdout",
     "output_type": "stream",
     "text": [
      "Epoch 1/100\n",
      "31/31 [==============================] - 36s 621ms/step - loss: 52.3157 - mae: 52.8123\n",
      "Epoch 2/100\n",
      "31/31 [==============================] - 6s 29ms/step - loss: 21.7996 - mae: 22.2963\n",
      "Epoch 3/100\n",
      "31/31 [==============================] - 1s 29ms/step - loss: 19.9120 - mae: 20.4062\n",
      "Epoch 4/100\n",
      "31/31 [==============================] - 1s 28ms/step - loss: 18.8163 - mae: 19.3104\n",
      "Epoch 5/100\n",
      "31/31 [==============================] - 1s 29ms/step - loss: 17.9402 - mae: 18.4344\n",
      "Epoch 6/100\n",
      "31/31 [==============================] - 1s 29ms/step - loss: 17.0249 - mae: 17.5167\n",
      "Epoch 7/100\n",
      "31/31 [==============================] - 1s 28ms/step - loss: 16.1094 - mae: 16.6001\n",
      "Epoch 8/100\n",
      "31/31 [==============================] - 1s 31ms/step - loss: 15.2407 - mae: 15.7312\n",
      "Epoch 9/100\n",
      "31/31 [==============================] - 1s 30ms/step - loss: 14.1717 - mae: 14.6612\n",
      "Epoch 10/100\n",
      "31/31 [==============================] - 2s 48ms/step - loss: 13.1583 - mae: 13.6483\n",
      "Epoch 11/100\n",
      "31/31 [==============================] - 1s 25ms/step - loss: 12.1082 - mae: 12.5952\n",
      "Epoch 12/100\n",
      "31/31 [==============================] - 1s 34ms/step - loss: 10.9020 - mae: 11.3867\n",
      "Epoch 13/100\n",
      "31/31 [==============================] - 1s 29ms/step - loss: 9.9267 - mae: 10.4117\n",
      "Epoch 14/100\n",
      "31/31 [==============================] - 1s 20ms/step - loss: 9.5485 - mae: 10.0326\n",
      "Epoch 15/100\n",
      "31/31 [==============================] - 1s 26ms/step - loss: 8.8838 - mae: 9.3685\n",
      "Epoch 16/100\n",
      "31/31 [==============================] - 1s 27ms/step - loss: 8.6366 - mae: 9.1192\n",
      "Epoch 17/100\n",
      "31/31 [==============================] - 1s 22ms/step - loss: 8.4069 - mae: 8.8911\n",
      "Epoch 18/100\n",
      "31/31 [==============================] - 1s 24ms/step - loss: 8.0858 - mae: 8.5676\n",
      "Epoch 19/100\n",
      "31/31 [==============================] - 1s 20ms/step - loss: 8.1370 - mae: 8.6199\n",
      "Epoch 20/100\n",
      "31/31 [==============================] - 1s 23ms/step - loss: 7.9612 - mae: 8.4438\n",
      "Epoch 21/100\n",
      "31/31 [==============================] - 1s 21ms/step - loss: 7.7441 - mae: 8.2291\n",
      "Epoch 22/100\n",
      "31/31 [==============================] - 1s 25ms/step - loss: 7.7960 - mae: 8.2805\n",
      "Epoch 23/100\n",
      "31/31 [==============================] - 1s 26ms/step - loss: 7.8530 - mae: 8.3344\n",
      "Epoch 24/100\n",
      "31/31 [==============================] - 1s 24ms/step - loss: 7.6316 - mae: 8.1156\n",
      "Epoch 25/100\n",
      "31/31 [==============================] - 1s 29ms/step - loss: 7.5535 - mae: 8.0347\n",
      "Epoch 26/100\n",
      "31/31 [==============================] - 1s 25ms/step - loss: 7.7126 - mae: 8.1955: 0s - loss: 8.1420 - mae: \n",
      "Epoch 27/100\n",
      "31/31 [==============================] - 1s 27ms/step - loss: 7.6940 - mae: 8.1770\n",
      "Epoch 28/100\n",
      "31/31 [==============================] - 1s 27ms/step - loss: 7.9930 - mae: 8.4757\n",
      "Epoch 29/100\n",
      "31/31 [==============================] - 1s 25ms/step - loss: 7.4501 - mae: 7.9331\n",
      "Epoch 30/100\n",
      "31/31 [==============================] - 1s 21ms/step - loss: 8.5884 - mae: 9.0720\n",
      "Epoch 31/100\n",
      "31/31 [==============================] - 1s 25ms/step - loss: 7.5879 - mae: 8.0703\n",
      "Epoch 32/100\n",
      "31/31 [==============================] - 1s 23ms/step - loss: 7.0452 - mae: 7.5274\n",
      "Epoch 33/100\n",
      "31/31 [==============================] - 1s 29ms/step - loss: 6.9268 - mae: 7.4084\n",
      "Epoch 34/100\n",
      "31/31 [==============================] - 1s 23ms/step - loss: 6.9589 - mae: 7.4400\n",
      "Epoch 35/100\n",
      "31/31 [==============================] - 1s 22ms/step - loss: 6.8907 - mae: 7.3694\n",
      "Epoch 36/100\n",
      "31/31 [==============================] - 1s 25ms/step - loss: 6.8604 - mae: 7.3390\n",
      "Epoch 37/100\n",
      "31/31 [==============================] - 1s 27ms/step - loss: 7.0346 - mae: 7.5140\n",
      "Epoch 38/100\n",
      "31/31 [==============================] - 1s 27ms/step - loss: 7.0524 - mae: 7.5305\n",
      "Epoch 39/100\n",
      "31/31 [==============================] - 1s 23ms/step - loss: 6.6186 - mae: 7.1008\n",
      "Epoch 40/100\n",
      "31/31 [==============================] - 1s 25ms/step - loss: 6.7123 - mae: 7.1952\n",
      "Epoch 41/100\n",
      "31/31 [==============================] - 1s 25ms/step - loss: 6.4857 - mae: 6.9645\n",
      "Epoch 42/100\n",
      "31/31 [==============================] - 1s 27ms/step - loss: 6.8238 - mae: 7.3072\n",
      "Epoch 43/100\n",
      "31/31 [==============================] - 1s 21ms/step - loss: 6.5116 - mae: 6.9928\n",
      "Epoch 44/100\n",
      "31/31 [==============================] - 1s 28ms/step - loss: 6.4052 - mae: 6.8823\n",
      "Epoch 45/100\n",
      "31/31 [==============================] - 1s 28ms/step - loss: 6.4087 - mae: 6.8909\n",
      "Epoch 46/100\n",
      "31/31 [==============================] - 1s 22ms/step - loss: 6.7598 - mae: 7.2473\n",
      "Epoch 47/100\n",
      "31/31 [==============================] - 1s 26ms/step - loss: 6.3096 - mae: 6.7887\n",
      "Epoch 48/100\n",
      "31/31 [==============================] - 1s 24ms/step - loss: 6.2962 - mae: 6.7786\n",
      "Epoch 49/100\n",
      "31/31 [==============================] - 1s 22ms/step - loss: 6.3799 - mae: 6.8622\n",
      "Epoch 50/100\n",
      "31/31 [==============================] - 1s 24ms/step - loss: 6.0853 - mae: 6.5639\n",
      "Epoch 51/100\n",
      "31/31 [==============================] - 1s 35ms/step - loss: 6.0649 - mae: 6.5445\n",
      "Epoch 52/100\n",
      "31/31 [==============================] - 1s 25ms/step - loss: 6.0936 - mae: 6.5770\n",
      "Epoch 53/100\n",
      "31/31 [==============================] - 1s 23ms/step - loss: 5.9024 - mae: 6.3838\n",
      "Epoch 54/100\n",
      "31/31 [==============================] - 1s 30ms/step - loss: 6.2724 - mae: 6.7528\n",
      "Epoch 55/100\n",
      "31/31 [==============================] - 2s 35ms/step - loss: 6.0086 - mae: 6.4901\n",
      "Epoch 56/100\n",
      "31/31 [==============================] - 1s 26ms/step - loss: 5.8621 - mae: 6.3414\n",
      "Epoch 57/100\n",
      "31/31 [==============================] - 1s 26ms/step - loss: 5.9216 - mae: 6.4007\n",
      "Epoch 58/100\n",
      "31/31 [==============================] - 1s 27ms/step - loss: 5.7852 - mae: 6.2634\n",
      "Epoch 59/100\n",
      "31/31 [==============================] - 1s 26ms/step - loss: 5.8351 - mae: 6.3139\n",
      "Epoch 60/100\n",
      "31/31 [==============================] - 1s 28ms/step - loss: 5.8486 - mae: 6.3245\n",
      "Epoch 61/100\n",
      "31/31 [==============================] - 1s 26ms/step - loss: 5.9249 - mae: 6.4018\n",
      "Epoch 62/100\n",
      "31/31 [==============================] - 1s 26ms/step - loss: 5.7467 - mae: 6.2282\n",
      "Epoch 63/100\n",
      "31/31 [==============================] - 1s 25ms/step - loss: 5.8807 - mae: 6.3582\n",
      "Epoch 64/100\n",
      "31/31 [==============================] - 1s 25ms/step - loss: 5.7120 - mae: 6.1911\n",
      "Epoch 65/100\n",
      "31/31 [==============================] - 1s 24ms/step - loss: 5.7112 - mae: 6.1923\n",
      "Epoch 66/100\n",
      "31/31 [==============================] - 1s 22ms/step - loss: 5.5872 - mae: 6.0637\n",
      "Epoch 67/100\n",
      "31/31 [==============================] - 1s 28ms/step - loss: 5.7834 - mae: 6.2651\n",
      "Epoch 68/100\n",
      "31/31 [==============================] - 1s 24ms/step - loss: 5.7297 - mae: 6.2078: 0s - loss: 5.7284 - mae: 6.206\n",
      "Epoch 69/100\n",
      "31/31 [==============================] - 1s 24ms/step - loss: 5.6030 - mae: 6.0865\n",
      "Epoch 70/100\n",
      "31/31 [==============================] - 1s 25ms/step - loss: 5.6372 - mae: 6.1158\n",
      "Epoch 71/100\n",
      "31/31 [==============================] - 1s 23ms/step - loss: 5.6155 - mae: 6.0955\n",
      "Epoch 72/100\n",
      "31/31 [==============================] - 1s 19ms/step - loss: 5.6901 - mae: 6.1719\n",
      "Epoch 73/100\n",
      "31/31 [==============================] - 1s 23ms/step - loss: 5.6185 - mae: 6.0976\n",
      "Epoch 74/100\n",
      "31/31 [==============================] - 1s 29ms/step - loss: 5.7383 - mae: 6.2192\n",
      "Epoch 75/100\n",
      "31/31 [==============================] - 1s 27ms/step - loss: 5.5080 - mae: 5.9887\n",
      "Epoch 76/100\n",
      "31/31 [==============================] - 1s 30ms/step - loss: 5.6913 - mae: 6.1752\n",
      "Epoch 77/100\n",
      "31/31 [==============================] - 1s 24ms/step - loss: 5.7277 - mae: 6.2079\n",
      "Epoch 78/100\n",
      "31/31 [==============================] - 1s 24ms/step - loss: 5.6537 - mae: 6.1329\n",
      "Epoch 79/100\n",
      "31/31 [==============================] - 1s 28ms/step - loss: 5.6715 - mae: 6.1539\n",
      "Epoch 80/100\n",
      "31/31 [==============================] - 1s 24ms/step - loss: 5.6913 - mae: 6.1713\n",
      "Epoch 81/100\n",
      "31/31 [==============================] - 1s 23ms/step - loss: 5.4162 - mae: 5.8913\n",
      "Epoch 82/100\n",
      "31/31 [==============================] - 1s 21ms/step - loss: 5.4724 - mae: 5.9541\n",
      "Epoch 83/100\n",
      "31/31 [==============================] - 1s 21ms/step - loss: 5.3258 - mae: 5.8048\n",
      "Epoch 84/100\n",
      "31/31 [==============================] - 1s 22ms/step - loss: 5.3443 - mae: 5.8248\n",
      "Epoch 85/100\n"
     ]
    },
    {
     "name": "stdout",
     "output_type": "stream",
     "text": [
      "31/31 [==============================] - 1s 22ms/step - loss: 5.4640 - mae: 5.9443\n",
      "Epoch 86/100\n",
      "31/31 [==============================] - 1s 21ms/step - loss: 5.3204 - mae: 5.7966\n",
      "Epoch 87/100\n",
      "31/31 [==============================] - 1s 23ms/step - loss: 5.3415 - mae: 5.8190\n",
      "Epoch 88/100\n",
      "31/31 [==============================] - 1s 27ms/step - loss: 5.3081 - mae: 5.7860\n",
      "Epoch 89/100\n",
      "31/31 [==============================] - 2s 31ms/step - loss: 5.5139 - mae: 5.9913\n",
      "Epoch 90/100\n",
      "31/31 [==============================] - 1s 24ms/step - loss: 5.4736 - mae: 5.9492\n",
      "Epoch 91/100\n",
      "31/31 [==============================] - 1s 24ms/step - loss: 5.4846 - mae: 5.9664\n",
      "Epoch 92/100\n",
      "31/31 [==============================] - 1s 33ms/step - loss: 5.3053 - mae: 5.7802\n",
      "Epoch 93/100\n",
      "31/31 [==============================] - 1s 29ms/step - loss: 5.4199 - mae: 5.8983\n",
      "Epoch 94/100\n",
      "31/31 [==============================] - 1s 27ms/step - loss: 5.2494 - mae: 5.7215\n",
      "Epoch 95/100\n",
      "31/31 [==============================] - 1s 26ms/step - loss: 5.2205 - mae: 5.6998\n",
      "Epoch 96/100\n",
      "31/31 [==============================] - 1s 26ms/step - loss: 5.1441 - mae: 5.6237\n",
      "Epoch 97/100\n",
      "31/31 [==============================] - 1s 25ms/step - loss: 5.2717 - mae: 5.7493\n",
      "Epoch 98/100\n",
      "31/31 [==============================] - 1s 23ms/step - loss: 5.1306 - mae: 5.6066\n",
      "Epoch 99/100\n",
      "31/31 [==============================] - 1s 29ms/step - loss: 5.2268 - mae: 5.7079\n",
      "Epoch 100/100\n",
      "31/31 [==============================] - 1s 26ms/step - loss: 5.0894 - mae: 5.5695\n"
     ]
    }
   ],
   "source": [
    "# Build the model\n",
    "model = tf.keras.models.Sequential([\n",
    "  tf.keras.layers.Lambda(lambda x: tf.expand_dims(x, axis=-1),\n",
    "                      input_shape=[window_size]),\n",
    "  tf.keras.layers.SimpleRNN(40, return_sequences=True),\n",
    "  tf.keras.layers.SimpleRNN(40),\n",
    "  tf.keras.layers.Dense(1),\n",
    "  tf.keras.layers.Lambda(lambda x: x * 100.0)\n",
    "])\n",
    "\n",
    "# Set the learning rate\n",
    "learning_rate = 1e-6\n",
    "\n",
    "# Set the optimizer \n",
    "optimizer = tf.keras.optimizers.SGD(learning_rate=learning_rate, momentum=0.9)\n",
    "\n",
    "# Set the training parameters\n",
    "model.compile(loss=tf.keras.losses.Huber(),\n",
    "              optimizer=optimizer,\n",
    "              metrics=[\"mae\"])\n",
    "\n",
    "# Train the model\n",
    "history = model.fit(dataset,epochs=100)"
   ]
  },
  {
   "cell_type": "markdown",
   "metadata": {
    "id": "ewNczbMaJz5Q"
   },
   "source": [
    "## Model Prediction\n",
    "\n",
    "Now it's time to generate the model predictions for the validation set time range. The model is a lot bigger than the ones you used before and the sequential nature of RNNs (i.e. inputs go through a series of time steps as opposed to parallel processing) can make predictions a bit slow. You can observe this when using the code you ran in the previous lab. This will take about a minute to complete."
   ]
  },
  {
   "cell_type": "code",
   "execution_count": null,
   "metadata": {
    "id": "ejBynEKekaKw"
   },
   "outputs": [],
   "source": [
    "# Initialize a list\n",
    "forecast = []\n",
    "\n",
    "# Reduce the original series\n",
    "forecast_series = series[split_time - window_size:]\n",
    "\n",
    "# Use the model to predict data points per window size\n",
    "for time in range(len(forecast_series) - window_size):\n",
    "  forecast.append(model.predict(forecast_series[time:time + window_size][np.newaxis]))\n",
    "\n",
    "# Convert to a numpy array and drop single dimensional axes\n",
    "results = np.array(forecast).squeeze()\n",
    "\n",
    "# Plot the results\n",
    "plot_series(time_valid, (x_valid, results))"
   ]
  },
  {
   "cell_type": "markdown",
   "metadata": {
    "id": "Hn1QZd7LgCcu"
   },
   "source": [
    "You can optimize this step by leveraging Tensorflow models' capability to process batches. Instead of running the for-loop above which processes a single window at a time, you can pass in an entire batch of windows and let the model process that in parallel.\n",
    "\n",
    "The function below does just that. You will notice that it almost mirrors the `windowed_dataset()` function but it does not shuffle the windows. That's because we want the output to be in its proper sequence so we can compare it properly to the validation set."
   ]
  },
  {
   "cell_type": "code",
   "execution_count": null,
   "metadata": {
    "id": "ym73y-pDKp-X"
   },
   "outputs": [],
   "source": [
    "def model_forecast(model, series, window_size, batch_size):\n",
    "    \"\"\"Uses an input model to generate predictions on data windows\n",
    "\n",
    "    Args:\n",
    "      model (TF Keras Model) - model that accepts data windows\n",
    "      series (array of float) - contains the values of the time series\n",
    "      window_size (int) - the number of time steps to include in the window\n",
    "      batch_size (int) - the batch size\n",
    "\n",
    "    Returns:\n",
    "      forecast (numpy array) - array containing predictions\n",
    "    \"\"\"\n",
    "\n",
    "    # Generate a TF Dataset from the series values\n",
    "    dataset = tf.data.Dataset.from_tensor_slices(series)\n",
    "\n",
    "    # Window the data but only take those with the specified size\n",
    "    dataset = dataset.window(window_size, shift=1, drop_remainder=True)\n",
    "\n",
    "    # Flatten the windows by putting its elements in a single batch\n",
    "    dataset = dataset.flat_map(lambda w: w.batch(window_size))\n",
    "    \n",
    "    # Create batches of windows\n",
    "    dataset = dataset.batch(batch_size).prefetch(1)\n",
    "    \n",
    "    # Get predictions on the entire dataset\n",
    "    forecast = model.predict(dataset)\n",
    "    \n",
    "    return forecast"
   ]
  },
  {
   "cell_type": "markdown",
   "metadata": {
    "id": "VrRFuUcfieQN"
   },
   "source": [
    "You can run the function below to use the function. Notice that the predictions are generated almost instantly.\n",
    "\n",
    "*Note: You might notice that the first line slices the `series` at `split_time - window_size:-1` which is a bit different from the slower for-loop code. That is because we want the model to have its last prediction to align with the last point of the validation set (i.e. `t=1460`). You were able to do that with the slower for-loop code by specifying the for-loop's `range()`. With the more efficient function above, you don't have that mechanism so you instead just remove the last point when slicing the `series`. If you don't, then the function will generate a prediction at `t=1461` which is outside the validation set range.*"
   ]
  },
  {
   "cell_type": "code",
   "execution_count": null,
   "metadata": {
    "id": "m23ny5uh8KTt"
   },
   "outputs": [],
   "source": [
    "# Reduce the original series\n",
    "forecast_series = series[split_time - window_size:-1]\n",
    "\n",
    "# Use helper function to generate predictions\n",
    "forecast = model_forecast(model, forecast_series, window_size, batch_size)\n",
    "\n",
    "# Drop single dimensional axis\n",
    "results = forecast.squeeze()\n",
    "\n",
    "# Plot the results\n",
    "plot_series(time_valid, (x_valid, results))"
   ]
  },
  {
   "cell_type": "markdown",
   "metadata": {
    "id": "7cVUoLH7k5NG"
   },
   "source": [
    "You can then compute the MSE and MAE. You can compare the results here when using other RNN architectures which you'll do in the next lab."
   ]
  },
  {
   "cell_type": "code",
   "execution_count": null,
   "metadata": {
    "id": "cxK8haPCL48G"
   },
   "outputs": [],
   "source": [
    "# Compute the MSE and MAE\n",
    "print(tf.keras.metrics.mean_squared_error(x_valid, results).numpy())\n",
    "print(tf.keras.metrics.mean_absolute_error(x_valid, results).numpy())"
   ]
  }
 ],
 "metadata": {
  "colab": {
   "collapsed_sections": [],
   "name": "C4_W3_Lab_1_RNN.ipynb",
   "private_outputs": true,
   "provenance": []
  },
  "kernelspec": {
   "display_name": "Python 3 (ipykernel)",
   "language": "python",
   "name": "python3"
  },
  "language_info": {
   "codemirror_mode": {
    "name": "ipython",
    "version": 3
   },
   "file_extension": ".py",
   "mimetype": "text/x-python",
   "name": "python",
   "nbconvert_exporter": "python",
   "pygments_lexer": "ipython3",
   "version": "3.8.10"
  }
 },
 "nbformat": 4,
 "nbformat_minor": 1
}
