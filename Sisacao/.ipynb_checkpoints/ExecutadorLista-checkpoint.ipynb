{
 "cells": [
  {
   "cell_type": "code",
   "execution_count": 1,
   "id": "8f96bd76",
   "metadata": {},
   "outputs": [
    {
     "name": "stderr",
     "output_type": "stream",
     "text": [
      "2022-07-11 16:06:08.575502: W tensorflow/stream_executor/platform/default/dso_loader.cc:64] Could not load dynamic library 'libcudart.so.11.0'; dlerror: libcudart.so.11.0: cannot open shared object file: No such file or directory\n",
      "2022-07-11 16:06:08.575576: I tensorflow/stream_executor/cuda/cudart_stub.cc:29] Ignore above cudart dlerror if you do not have a GPU set up on your machine.\n"
     ]
    }
   ],
   "source": [
    "import tensorflow as tf"
   ]
  },
  {
   "cell_type": "code",
   "execution_count": 2,
   "id": "39bb3d02",
   "metadata": {},
   "outputs": [
    {
     "name": "stdout",
     "output_type": "stream",
     "text": [
      "2.7.0\n"
     ]
    }
   ],
   "source": [
    "print(tf.__version__)"
   ]
  },
  {
   "cell_type": "code",
   "execution_count": 3,
   "id": "619ebbfb",
   "metadata": {},
   "outputs": [],
   "source": [
    "import requests\n",
    "import pandas as pd\n",
    "import numpy as np"
   ]
  },
  {
   "cell_type": "code",
   "execution_count": 4,
   "id": "7026a1ce",
   "metadata": {},
   "outputs": [],
   "source": [
    "url = \"http://vps-40d69db1.vps.ovh.ca:23004/api/TreinoRedes/obtemListaParaPrevisao\""
   ]
  },
  {
   "cell_type": "code",
   "execution_count": 5,
   "id": "e619cadd",
   "metadata": {},
   "outputs": [],
   "source": [
    "urlExemplos = \"http://vps-40d69db1.vps.ovh.ca:23004/api/ExemploTreinoAcaoEntradas/obtemProximoDia\""
   ]
  },
  {
   "cell_type": "code",
   "execution_count": 6,
   "id": "b82e627e",
   "metadata": {},
   "outputs": [],
   "source": [
    "r = requests.get(url)\n",
    "j = r.json()\n",
    "dfTreino = pd.DataFrame.from_dict(j)"
   ]
  },
  {
   "cell_type": "code",
   "execution_count": 7,
   "id": "44992ff7",
   "metadata": {},
   "outputs": [
    {
     "data": {
      "text/html": [
       "<div>\n",
       "<style scoped>\n",
       "    .dataframe tbody tr th:only-of-type {\n",
       "        vertical-align: middle;\n",
       "    }\n",
       "\n",
       "    .dataframe tbody tr th {\n",
       "        vertical-align: top;\n",
       "    }\n",
       "\n",
       "    .dataframe thead th {\n",
       "        text-align: right;\n",
       "    }\n",
       "</style>\n",
       "<table border=\"1\" class=\"dataframe\">\n",
       "  <thead>\n",
       "    <tr style=\"text-align: right;\">\n",
       "      <th></th>\n",
       "      <th>id</th>\n",
       "      <th>grupoAcaoId</th>\n",
       "      <th>periodoTreinoRedeId</th>\n",
       "      <th>tipoExemploTreinoId</th>\n",
       "      <th>regraProjecaoId</th>\n",
       "      <th>redeNeuralId</th>\n",
       "      <th>ativoPrevisao</th>\n",
       "      <th>tipoCompraVenda</th>\n",
       "    </tr>\n",
       "  </thead>\n",
       "  <tbody>\n",
       "    <tr>\n",
       "      <th>0</th>\n",
       "      <td>2</td>\n",
       "      <td>12</td>\n",
       "      <td>1</td>\n",
       "      <td>1</td>\n",
       "      <td>30</td>\n",
       "      <td>2</td>\n",
       "      <td>1</td>\n",
       "      <td>V</td>\n",
       "    </tr>\n",
       "  </tbody>\n",
       "</table>\n",
       "</div>"
      ],
      "text/plain": [
       "   id  grupoAcaoId  periodoTreinoRedeId  tipoExemploTreinoId  regraProjecaoId  \\\n",
       "0   2           12                    1                    1               30   \n",
       "\n",
       "   redeNeuralId  ativoPrevisao tipoCompraVenda  \n",
       "0             2              1               V  "
      ]
     },
     "execution_count": 7,
     "metadata": {},
     "output_type": "execute_result"
    }
   ],
   "source": [
    "dfTreino.head()"
   ]
  },
  {
   "cell_type": "code",
   "execution_count": 8,
   "id": "a5ab8a95",
   "metadata": {},
   "outputs": [],
   "source": [
    "global dfDados\n",
    "r = requests.get(urlExemplos)\n",
    "j = r.json()\n",
    "dfDados = pd.DataFrame.from_dict(j)"
   ]
  },
  {
   "cell_type": "code",
   "execution_count": 9,
   "id": "6c974bea",
   "metadata": {},
   "outputs": [
    {
     "data": {
      "text/html": [
       "<div>\n",
       "<style scoped>\n",
       "    .dataframe tbody tr th:only-of-type {\n",
       "        vertical-align: middle;\n",
       "    }\n",
       "\n",
       "    .dataframe tbody tr th {\n",
       "        vertical-align: top;\n",
       "    }\n",
       "\n",
       "    .dataframe thead th {\n",
       "        text-align: right;\n",
       "    }\n",
       "</style>\n",
       "<table border=\"1\" class=\"dataframe\">\n",
       "  <thead>\n",
       "    <tr style=\"text-align: right;\">\n",
       "      <th></th>\n",
       "      <th>campoX</th>\n",
       "      <th>ticker</th>\n",
       "      <th>diaNumPrevisao</th>\n",
       "    </tr>\n",
       "  </thead>\n",
       "  <tbody>\n",
       "    <tr>\n",
       "      <th>0</th>\n",
       "      <td>1.043933, 1.044630, 1.041841, 1.046025, 1.055...</td>\n",
       "      <td>ABEV3</td>\n",
       "      <td>20220711</td>\n",
       "    </tr>\n",
       "    <tr>\n",
       "      <th>1</th>\n",
       "      <td>2.266917, 2.240602, 2.218045, 2.240602, 2.259...</td>\n",
       "      <td>AERI3</td>\n",
       "      <td>20220711</td>\n",
       "    </tr>\n",
       "    <tr>\n",
       "      <th>2</th>\n",
       "      <td>1.629017, 1.594450, 1.566699, 1.572055, 1.582...</td>\n",
       "      <td>ALPA4</td>\n",
       "      <td>20220711</td>\n",
       "    </tr>\n",
       "    <tr>\n",
       "      <th>3</th>\n",
       "      <td>1.184588, 1.156511, 1.158303, 1.172640, 1.167...</td>\n",
       "      <td>ALSO3</td>\n",
       "      <td>20220711</td>\n",
       "    </tr>\n",
       "    <tr>\n",
       "      <th>4</th>\n",
       "      <td>1.509524, 1.471429, 1.447619, 1.461905, 1.490...</td>\n",
       "      <td>AMAR3</td>\n",
       "      <td>20220711</td>\n",
       "    </tr>\n",
       "  </tbody>\n",
       "</table>\n",
       "</div>"
      ],
      "text/plain": [
       "                                              campoX ticker  diaNumPrevisao\n",
       "0   1.043933, 1.044630, 1.041841, 1.046025, 1.055...  ABEV3        20220711\n",
       "1   2.266917, 2.240602, 2.218045, 2.240602, 2.259...  AERI3        20220711\n",
       "2   1.629017, 1.594450, 1.566699, 1.572055, 1.582...  ALPA4        20220711\n",
       "3   1.184588, 1.156511, 1.158303, 1.172640, 1.167...  ALSO3        20220711\n",
       "4   1.509524, 1.471429, 1.447619, 1.461905, 1.490...  AMAR3        20220711"
      ]
     },
     "execution_count": 9,
     "metadata": {},
     "output_type": "execute_result"
    }
   ],
   "source": [
    "dfDados.head()"
   ]
  },
  {
   "cell_type": "code",
   "execution_count": 10,
   "id": "4b2f057a",
   "metadata": {},
   "outputs": [],
   "source": [
    "global dfEntradas"
   ]
  },
  {
   "cell_type": "code",
   "execution_count": 22,
   "id": "dd355779",
   "metadata": {},
   "outputs": [],
   "source": [
    "def incluiEntrada(treino):\n",
    "    urlEntrada = \"http://vps-40d69db1.vps.ovh.ca:23004/api/CotacaoIntradayAcaoResultados/listaPrecoEntradaPrevisaoProximoB3?idRegra=\" + str(treino['regraProjecaoId']) + \"&idGrupo=\" + str(treino['grupoAcaoId'])\n",
    "    print(urlEntrada)\n",
    "    r = requests.get(urlEntrada)\n",
    "    j = r.json()\n",
    "    dfEntradas = pd.DataFrame.from_dict(j)\n",
    "    print(dfEntradas.head())\n",
    "    return dfEntradas\n",
    "  "
   ]
  },
  {
   "cell_type": "code",
   "execution_count": 27,
   "id": "3f0d564b",
   "metadata": {},
   "outputs": [],
   "source": [
    "def trataRede(treino):\n",
    "    print('ID:' , treino['id'])\n",
    "    nome_arquivo = 'pesos/treino_rede' + str(treino['id']) + '.h5'\n",
    "    print(nome_arquivo)\n",
    "    modelo = tf.keras.models.load_model(nome_arquivo)\n",
    "    modelo.summary()\n",
    "    result = modelo.predict(X)\n",
    "    dfDados['resultado'] = result\n",
    "    dfDados['treinoRedeId'] = str(treino['id'])\n",
    "    dfDados['tipoCompraVenda'] = treino['tipoCompraVenda']\n",
    "    dfEntradas = incluiEntrada(treino)\n",
    "    dfPrevisao = pd.merge(dfDados,dfEntradas, how='left', left_on='ticker' ,  right_on='ticker')\n",
    "    json = dfPrevisao.to_dict(orient='list')\n",
    "    urlPrevisao = 'http://vps-40d69db1.vps.ovh.ca:23004/api/PrevisaoRedes/recebePrevisaoTreino'\n",
    "    print(json)\n",
    "    response = requests.post(urlPrevisao, data=json)\n",
    "    print(response)"
   ]
  },
  {
   "cell_type": "code",
   "execution_count": 14,
   "id": "f39a310a",
   "metadata": {},
   "outputs": [],
   "source": [
    "def trataLinhaX(linha):\n",
    "    return np.fromstring(linha['campoX'], dtype=float, sep=',')"
   ]
  },
  {
   "cell_type": "code",
   "execution_count": 15,
   "id": "95c8fb3e",
   "metadata": {},
   "outputs": [
    {
     "data": {
      "text/plain": [
       "(87, 1800)"
      ]
     },
     "execution_count": 15,
     "metadata": {},
     "output_type": "execute_result"
    }
   ],
   "source": [
    "dfTratadoX = dfDados.apply(trataLinhaX, axis='columns')\n",
    "X = np.stack(dfTratadoX.values)\n",
    "X.shape"
   ]
  },
  {
   "cell_type": "code",
   "execution_count": 16,
   "id": "49522423",
   "metadata": {},
   "outputs": [],
   "source": [
    "dfDados.drop('campoX', inplace=True, axis=1)"
   ]
  },
  {
   "cell_type": "code",
   "execution_count": 29,
   "id": "906ddbc3",
   "metadata": {},
   "outputs": [
    {
     "name": "stdout",
     "output_type": "stream",
     "text": [
      "ID: 2\n",
      "pesos/treino_rede2.h5\n",
      "Model: \"sequential\"\n",
      "_________________________________________________________________\n",
      " Layer (type)                Output Shape              Param #   \n",
      "=================================================================\n",
      " dense (Dense)               (None, 1800)              3241800   \n",
      "                                                                 \n",
      " dense_1 (Dense)             (None, 1400)              2521400   \n",
      "                                                                 \n",
      " dense_2 (Dense)             (None, 1000)              1401000   \n",
      "                                                                 \n",
      " dense_3 (Dense)             (None, 600)               600600    \n",
      "                                                                 \n",
      " dense_4 (Dense)             (None, 200)               120200    \n",
      "                                                                 \n",
      " dense_5 (Dense)             (None, 1)                 201       \n",
      "                                                                 \n",
      "=================================================================\n",
      "Total params: 7,885,201\n",
      "Trainable params: 7,885,201\n",
      "Non-trainable params: 0\n",
      "_________________________________________________________________\n",
      "http://vps-40d69db1.vps.ovh.ca:23004/api/CotacaoIntradayAcaoResultados/listaPrecoEntradaPrevisaoProximoB3Atrasado?idRegra=30&idGrupo=12\n",
      "  ticker  valorReferencia  valorEntrada\n",
      "0  ABEV3            14.34       14.6268\n",
      "1  AERI3             2.66        2.7132\n",
      "2  ALPA4            20.54       20.9508\n",
      "3  ALSO3            16.74       17.0748\n",
      "4  AMAR3             2.10        2.1420\n",
      "{'ticker': ['ABEV3', 'AERI3', 'ALPA4', 'ALSO3', 'AMAR3', 'ANIM3', 'AZUL4', 'B3SA3', 'BBAS3', 'BBDC4', 'BBSE3', 'BEEF3', 'BKBR3', 'BPAC11', 'BPAN4', 'BRAP4', 'BRFS3', 'BRKM5', 'BRML3', 'CCRO3', 'CIEL3', 'CMIG4', 'COGN3', 'CPFE3', 'CPLE6', 'CRFB3', 'CSAN3', 'CSMG3', 'CSNA3', 'CVCB3', 'CYRE3', 'ECOR3', 'EGIE3', 'ELET3', 'ELET6', 'EMBR3', 'ENBR3', 'ENEV3', 'ENGI11', 'EQTL3', 'EZTC3', 'FLRY3', 'GGBR4', 'GOAU4', 'GOLL4', 'HAPV3', 'HYPE3', 'ITUB4', 'JBSS3', 'JHSF3', 'KLBN11', 'LIGT3', 'LREN3', 'LWSA3', 'MGLU3', 'MOVI3', 'MRFG3', 'MRVE3', 'MULT3', 'MYPK3', 'NEOE3', 'NTCO3', 'PCAR3', 'PETR4', 'POSI3', 'PRIO3', 'PTBL3', 'QUAL3', 'RADL3', 'RAIL3', 'RAPT4', 'RENT3', 'SANB11', 'SBSP3', 'SLCE3', 'SMTO3', 'STBP3', 'SULA11', 'SUZB3', 'TAEE11', 'TOTS3', 'UGPA3', 'USIM5', 'VALE3', 'WEGE3', 'WIZS3', 'YDUQ3'], 'diaNumPrevisao': [20220711, 20220711, 20220711, 20220711, 20220711, 20220711, 20220711, 20220711, 20220711, 20220711, 20220711, 20220711, 20220711, 20220711, 20220711, 20220711, 20220711, 20220711, 20220711, 20220711, 20220711, 20220711, 20220711, 20220711, 20220711, 20220711, 20220711, 20220711, 20220711, 20220711, 20220711, 20220711, 20220711, 20220711, 20220711, 20220711, 20220711, 20220711, 20220711, 20220711, 20220711, 20220711, 20220711, 20220711, 20220711, 20220711, 20220711, 20220711, 20220711, 20220711, 20220711, 20220711, 20220711, 20220711, 20220711, 20220711, 20220711, 20220711, 20220711, 20220711, 20220711, 20220711, 20220711, 20220711, 20220711, 20220711, 20220711, 20220711, 20220711, 20220711, 20220711, 20220711, 20220711, 20220711, 20220711, 20220711, 20220711, 20220711, 20220711, 20220711, 20220711, 20220711, 20220711, 20220711, 20220711, 20220711, 20220711], 'resultado': [0.25290006399154663, 0.46485471725463867, 0.3243024945259094, 0.3872162997722626, 0.4004197120666504, 0.3888108730316162, 0.44263407588005066, 0.374561071395874, 0.268550843000412, 0.2577548623085022, 0.3126601576805115, 0.41090381145477295, 0.3604094982147217, 0.30352914333343506, 0.4533645212650299, 0.3383438289165497, 0.3023304343223572, 0.26045846939086914, 0.32573676109313965, 0.25976595282554626, 0.4807943105697632, 0.40807607769966125, 0.3375440537929535, 0.3514770269393921, 0.26001936197280884, 0.5658811926841736, 0.3032239079475403, 0.311568021774292, 0.3933413028717041, 0.5534945726394653, 0.3888877034187317, 0.27269408106803894, 0.26932191848754883, 0.35608261823654175, 0.35683971643447876, 0.3310996890068054, 0.26145139336586, 0.2896164059638977, 0.3032911419868469, 0.2911530137062073, 0.2900673747062683, 0.2675352692604065, 0.3174314498901367, 0.2712608873844147, 0.4575299322605133, 0.4686909019947052, 0.37027037143707275, 0.26551640033721924, 0.2693813145160675, 0.3321031928062439, 0.263211727142334, 0.36973837018013, 0.25715407729148865, 0.41353145241737366, 0.47940129041671753, 0.388089120388031, 0.4030754864215851, 0.4147246181964874, 0.32871896028518677, 0.2514394521713257, 0.29286104440689087, 0.473456472158432, 0.4683709740638733, 0.3051847219467163, 0.4033125042915344, 0.2620975375175476, 0.4493565857410431, 0.3171784281730652, 0.29312610626220703, 0.25397422909736633, 0.24364027380943298, 0.27787524461746216, 0.2907067537307739, 0.4130580425262451, 0.27937382459640503, 0.3876568078994751, 0.31021225452423096, 0.5069097280502319, 0.23552972078323364, 0.3065486550331116, 0.5124847292900085, 0.26762813329696655, 0.3748735189437866, 0.2888680100440979, 0.35831356048583984, 0.2541446387767792, 0.39924970269203186], 'treinoRedeId': ['2', '2', '2', '2', '2', '2', '2', '2', '2', '2', '2', '2', '2', '2', '2', '2', '2', '2', '2', '2', '2', '2', '2', '2', '2', '2', '2', '2', '2', '2', '2', '2', '2', '2', '2', '2', '2', '2', '2', '2', '2', '2', '2', '2', '2', '2', '2', '2', '2', '2', '2', '2', '2', '2', '2', '2', '2', '2', '2', '2', '2', '2', '2', '2', '2', '2', '2', '2', '2', '2', '2', '2', '2', '2', '2', '2', '2', '2', '2', '2', '2', '2', '2', '2', '2', '2', '2'], 'valorReferencia': [14.34, 2.66, 20.54, 16.74, 2.1, 4.32, 12.45, 11.44, 33.46, 17.39, 25.35, 14.24, 5.95, 22.49, 6.55, 25.05, 15.65, 34.48, 7.85, 12.18, 4.1, 10.28, 2.41, 31.41, 6.85, 17.39, 17.71, 11.39, 15.06, 7.15, 12.66, 5.63, 42.23, 43.9, 44.81, 11.48, 21.36, 15.45, 39.5, 23.03, 16.4, 15.93, 23.4, 9.86, 8.47, 6.36, 39.97, 22.91, 31.02, 5.69, 19.7, 5.59, 24.68, 6.42, 2.63, 12.86, 12.96, 9.34, 24.53, 15.55, 13.79, 14.23, 17.81, 28.77, 6.01, 21.8, 7.07, 12.21, 19.93, 16.06, 9.89, 55.62, 28.52, 42.7, 45.78, 35.54, 6.46, 21.95, 47.61, 39.07, 24.91, 11.93, 8.62, 75.39, 27.26, 7.45, 14.91], 'valorEntrada': [14.6268, 2.7132, 20.9508, 17.0748, 2.142, 4.4064, 12.699, 11.6688, 34.1292, 17.7378, 25.857, 14.5248, 6.069, 22.9398, 6.681, 25.551, 15.963, 35.1696, 8.007, 12.4236, 4.182, 10.4856, 2.4582, 32.0382, 6.987, 17.7378, 18.0642, 11.6178, 15.3612, 7.293, 12.9132, 5.7426, 43.0746, 44.778, 45.7062, 11.7096, 21.7872, 15.759, 40.29, 23.4906, 16.728, 16.2486, 23.868, 10.0572, 8.6394, 6.4872, 40.7694, 23.3682, 31.6404, 5.8038, 20.094, 5.7018, 25.1736, 6.5484, 2.6826, 13.1172, 13.2192, 9.5268, 25.0206, 15.861, 14.0658, 14.5146, 18.1662, 29.3454, 6.1302, 22.236, 7.2114, 12.4542, 20.3286, 16.3812, 10.0878, 56.7324, 29.0904, 43.554, 46.6956, 36.2508, 6.5892, 22.389, 48.5622, 39.8514, 25.4082, 12.1686, 8.7924, 76.8978, 27.8052, 7.599, 15.2082]}\n",
      "<Response [500]>\n"
     ]
    },
    {
     "data": {
      "text/plain": [
       "0    None\n",
       "dtype: object"
      ]
     },
     "execution_count": 29,
     "metadata": {},
     "output_type": "execute_result"
    }
   ],
   "source": [
    "dfTreino.apply(trataRede, axis='columns')"
   ]
  },
  {
   "cell_type": "code",
   "execution_count": null,
   "id": "c494241c",
   "metadata": {},
   "outputs": [],
   "source": []
  }
 ],
 "metadata": {
  "kernelspec": {
   "display_name": "Python 3 (ipykernel)",
   "language": "python",
   "name": "python3"
  },
  "language_info": {
   "codemirror_mode": {
    "name": "ipython",
    "version": 3
   },
   "file_extension": ".py",
   "mimetype": "text/x-python",
   "name": "python",
   "nbconvert_exporter": "python",
   "pygments_lexer": "ipython3",
   "version": "3.8.10"
  }
 },
 "nbformat": 4,
 "nbformat_minor": 5
}
