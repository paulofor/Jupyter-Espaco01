{
 "cells": [
  {
   "cell_type": "code",
   "execution_count": 1,
   "id": "8f96bd76",
   "metadata": {},
   "outputs": [
    {
     "name": "stderr",
     "output_type": "stream",
     "text": [
      "2022-07-01 10:14:40.733580: W tensorflow/stream_executor/platform/default/dso_loader.cc:64] Could not load dynamic library 'libcudart.so.11.0'; dlerror: libcudart.so.11.0: cannot open shared object file: No such file or directory\n",
      "2022-07-01 10:14:40.733653: I tensorflow/stream_executor/cuda/cudart_stub.cc:29] Ignore above cudart dlerror if you do not have a GPU set up on your machine.\n"
     ]
    }
   ],
   "source": [
    "import tensorflow as tf"
   ]
  },
  {
   "cell_type": "code",
   "execution_count": 2,
   "id": "39bb3d02",
   "metadata": {},
   "outputs": [
    {
     "name": "stdout",
     "output_type": "stream",
     "text": [
      "2.7.0\n"
     ]
    }
   ],
   "source": [
    "print(tf.__version__)"
   ]
  },
  {
   "cell_type": "code",
   "execution_count": 3,
   "id": "619ebbfb",
   "metadata": {},
   "outputs": [],
   "source": [
    "import requests\n",
    "import pandas as pd\n",
    "import numpy as np"
   ]
  },
  {
   "cell_type": "code",
   "execution_count": 4,
   "id": "7026a1ce",
   "metadata": {},
   "outputs": [],
   "source": [
    "url = \"http://vps-40d69db1.vps.ovh.ca:23004/api/TreinoRedes/obtemListaParaPrevisao\""
   ]
  },
  {
   "cell_type": "code",
   "execution_count": 5,
   "id": "e619cadd",
   "metadata": {},
   "outputs": [],
   "source": [
    "urlExemplos = \"http://vps-40d69db1.vps.ovh.ca:23004/api/ExemploTreinoAcaoEntradas/obtemProximoDia\""
   ]
  },
  {
   "cell_type": "code",
   "execution_count": 6,
   "id": "b82e627e",
   "metadata": {},
   "outputs": [],
   "source": [
    "r = requests.get(url)\n",
    "j = r.json()\n",
    "dfTreino = pd.DataFrame.from_dict(j)"
   ]
  },
  {
   "cell_type": "code",
   "execution_count": 7,
   "id": "44992ff7",
   "metadata": {},
   "outputs": [
    {
     "data": {
      "text/html": [
       "<div>\n",
       "<style scoped>\n",
       "    .dataframe tbody tr th:only-of-type {\n",
       "        vertical-align: middle;\n",
       "    }\n",
       "\n",
       "    .dataframe tbody tr th {\n",
       "        vertical-align: top;\n",
       "    }\n",
       "\n",
       "    .dataframe thead th {\n",
       "        text-align: right;\n",
       "    }\n",
       "</style>\n",
       "<table border=\"1\" class=\"dataframe\">\n",
       "  <thead>\n",
       "    <tr style=\"text-align: right;\">\n",
       "      <th></th>\n",
       "      <th>ativoPrevisao</th>\n",
       "      <th>id</th>\n",
       "      <th>grupoAcaoId</th>\n",
       "      <th>periodoTreinoRedeId</th>\n",
       "      <th>tipoExemploTreinoId</th>\n",
       "      <th>regraProjecaoId</th>\n",
       "      <th>redeNeuralId</th>\n",
       "    </tr>\n",
       "  </thead>\n",
       "  <tbody>\n",
       "    <tr>\n",
       "      <th>0</th>\n",
       "      <td>1</td>\n",
       "      <td>2</td>\n",
       "      <td>12</td>\n",
       "      <td>1</td>\n",
       "      <td>1</td>\n",
       "      <td>30</td>\n",
       "      <td>2</td>\n",
       "    </tr>\n",
       "  </tbody>\n",
       "</table>\n",
       "</div>"
      ],
      "text/plain": [
       "   ativoPrevisao  id  grupoAcaoId  periodoTreinoRedeId  tipoExemploTreinoId  \\\n",
       "0              1   2           12                    1                    1   \n",
       "\n",
       "   regraProjecaoId  redeNeuralId  \n",
       "0               30             2  "
      ]
     },
     "execution_count": 7,
     "metadata": {},
     "output_type": "execute_result"
    }
   ],
   "source": [
    "dfTreino.head()"
   ]
  },
  {
   "cell_type": "code",
   "execution_count": 8,
   "id": "a5ab8a95",
   "metadata": {},
   "outputs": [],
   "source": [
    "global dfDados\n",
    "r = requests.get(urlExemplos)\n",
    "j = r.json()\n",
    "dfDados = pd.DataFrame.from_dict(j)"
   ]
  },
  {
   "cell_type": "code",
   "execution_count": 9,
   "id": "6c974bea",
   "metadata": {},
   "outputs": [
    {
     "data": {
      "text/html": [
       "<div>\n",
       "<style scoped>\n",
       "    .dataframe tbody tr th:only-of-type {\n",
       "        vertical-align: middle;\n",
       "    }\n",
       "\n",
       "    .dataframe tbody tr th {\n",
       "        vertical-align: top;\n",
       "    }\n",
       "\n",
       "    .dataframe thead th {\n",
       "        text-align: right;\n",
       "    }\n",
       "</style>\n",
       "<table border=\"1\" class=\"dataframe\">\n",
       "  <thead>\n",
       "    <tr style=\"text-align: right;\">\n",
       "      <th></th>\n",
       "      <th>campoX</th>\n",
       "      <th>ticker</th>\n",
       "      <th>diaNumPrevisao</th>\n",
       "    </tr>\n",
       "  </thead>\n",
       "  <tbody>\n",
       "    <tr>\n",
       "      <th>0</th>\n",
       "      <td>1.115442, 1.111694, 1.109445, 1.121439, 1.121...</td>\n",
       "      <td>ABEV3</td>\n",
       "      <td>20220701</td>\n",
       "    </tr>\n",
       "    <tr>\n",
       "      <th>1</th>\n",
       "      <td>2.094203, 2.047101, 2.050725, 2.086957, 2.036...</td>\n",
       "      <td>AERI3</td>\n",
       "      <td>20220701</td>\n",
       "    </tr>\n",
       "    <tr>\n",
       "      <th>2</th>\n",
       "      <td>1.676980, 1.667541, 1.683797, 1.712113, 1.711...</td>\n",
       "      <td>ALPA4</td>\n",
       "      <td>20220701</td>\n",
       "    </tr>\n",
       "    <tr>\n",
       "      <th>3</th>\n",
       "      <td>1.196250, 1.170000, 1.161875, 1.182500, 1.170...</td>\n",
       "      <td>ALSO3</td>\n",
       "      <td>20220701</td>\n",
       "    </tr>\n",
       "    <tr>\n",
       "      <th>4</th>\n",
       "      <td>1.847953, 1.812865, 1.824561, 1.865497, 1.836...</td>\n",
       "      <td>AMAR3</td>\n",
       "      <td>20220701</td>\n",
       "    </tr>\n",
       "  </tbody>\n",
       "</table>\n",
       "</div>"
      ],
      "text/plain": [
       "                                              campoX ticker  diaNumPrevisao\n",
       "0   1.115442, 1.111694, 1.109445, 1.121439, 1.121...  ABEV3        20220701\n",
       "1   2.094203, 2.047101, 2.050725, 2.086957, 2.036...  AERI3        20220701\n",
       "2   1.676980, 1.667541, 1.683797, 1.712113, 1.711...  ALPA4        20220701\n",
       "3   1.196250, 1.170000, 1.161875, 1.182500, 1.170...  ALSO3        20220701\n",
       "4   1.847953, 1.812865, 1.824561, 1.865497, 1.836...  AMAR3        20220701"
      ]
     },
     "execution_count": 9,
     "metadata": {},
     "output_type": "execute_result"
    }
   ],
   "source": [
    "dfDados.head()"
   ]
  },
  {
   "cell_type": "code",
   "execution_count": 10,
   "id": "eefaa8e5",
   "metadata": {},
   "outputs": [],
   "source": [
    "global dfEntradas"
   ]
  },
  {
   "cell_type": "code",
   "execution_count": 11,
   "id": "5646990a",
   "metadata": {},
   "outputs": [],
   "source": [
    "def incluiEntrada(treino):\n",
    "    urlEntrada = \"http://vps-40d69db1.vps.ovh.ca:23004/api/CotacaoIntradayAcaoResultados/listaPrecoEntradaPrevisaoProximoB3?idRegra=\" + str(treino['regraProjecaoId']) + \"&idGrupo=\" + str(treino['grupoAcaoId'])\n",
    "    print(urlEntrada)\n",
    "    r = requests.get(urlEntrada)\n",
    "    j = r.json()\n",
    "    dfEntradas = pd.DataFrame.from_dict(j)\n",
    "    return dfEntradas\n",
    "  "
   ]
  },
  {
   "cell_type": "code",
   "execution_count": 20,
   "id": "3f0d564b",
   "metadata": {},
   "outputs": [],
   "source": [
    "def trataRede(treino):\n",
    "    print('ID:' , treino['id'])\n",
    "    nome_arquivo = 'pesos/treino_rede' + str(treino['id']) + '.h5'\n",
    "    print(nome_arquivo)\n",
    "    modelo = tf.keras.models.load_model(nome_arquivo)\n",
    "    modelo.summary()\n",
    "    result = modelo.predict(X)\n",
    "    dfDados['resultado'] = result\n",
    "    dfDados['treinoRedeId'] = str(treino['id'])\n",
    "    dfEntradas = incluiEntrada(treino)\n",
    "    print(dfEntradas.head())\n",
    "    dfPrevisao = pd.merge(dfDados,dfEntradas, how='left', left_on='ticker' ,  right_on='ticker')\n",
    "    dfPrevisao.drop('campoX', inplace=True, axis=1)\n",
    "    json = dfPrevisao.to_dict(orient='list')\n",
    "    print(json)\n",
    "    urlPrevisao = 'http://vps-40d69db1.vps.ovh.ca:23004/api/PrevisaoRedes/recebePrevisaoTreino'\n",
    "    #response = requests.post(urlPrevisao, data=json)\n",
    "    #print(response)"
   ]
  },
  {
   "cell_type": "code",
   "execution_count": 18,
   "id": "f39a310a",
   "metadata": {},
   "outputs": [],
   "source": [
    "def trataLinhaX(linha):\n",
    "    return np.fromstring(linha['campoX'], dtype=float, sep=',')"
   ]
  },
  {
   "cell_type": "code",
   "execution_count": 14,
   "id": "95c8fb3e",
   "metadata": {},
   "outputs": [
    {
     "data": {
      "text/plain": [
       "(88, 1800)"
      ]
     },
     "execution_count": 14,
     "metadata": {},
     "output_type": "execute_result"
    }
   ],
   "source": [
    "dfTratadoX = dfDados.apply(trataLinhaX, axis='columns')\n",
    "X = np.stack(dfTratadoX.values)\n",
    "X.shape"
   ]
  },
  {
   "cell_type": "code",
   "execution_count": 15,
   "id": "49522423",
   "metadata": {},
   "outputs": [],
   "source": [
    "dfDados.drop('campoX', inplace=True, axis=1)"
   ]
  },
  {
   "cell_type": "code",
   "execution_count": 21,
   "id": "906ddbc3",
   "metadata": {},
   "outputs": [
    {
     "name": "stdout",
     "output_type": "stream",
     "text": [
      "ID: 2\n",
      "pesos/treino_rede2.h5\n",
      "Model: \"sequential\"\n",
      "_________________________________________________________________\n",
      " Layer (type)                Output Shape              Param #   \n",
      "=================================================================\n",
      " dense (Dense)               (None, 1800)              3241800   \n",
      "                                                                 \n",
      " dense_1 (Dense)             (None, 1400)              2521400   \n",
      "                                                                 \n",
      " dense_2 (Dense)             (None, 1000)              1401000   \n",
      "                                                                 \n",
      " dense_3 (Dense)             (None, 600)               600600    \n",
      "                                                                 \n",
      " dense_4 (Dense)             (None, 200)               120200    \n",
      "                                                                 \n",
      " dense_5 (Dense)             (None, 1)                 201       \n",
      "                                                                 \n",
      "=================================================================\n",
      "Total params: 7,885,201\n",
      "Trainable params: 7,885,201\n",
      "Non-trainable params: 0\n",
      "_________________________________________________________________\n",
      "http://vps-40d69db1.vps.ovh.ca:23004/api/CotacaoIntradayAcaoResultados/listaPrecoEntradaPrevisaoProximoB3?idRegra=30&idGrupo=12\n",
      "                                              campoX ticker  diaNumPrevisao\n",
      "0   1.115442, 1.111694, 1.109445, 1.121439, 1.121...  ABEV3        20220701\n",
      "1   2.094203, 2.047101, 2.050725, 2.086957, 2.036...  AERI3        20220701\n",
      "2   1.676980, 1.667541, 1.683797, 1.712113, 1.711...  ALPA4        20220701\n",
      "3   1.196250, 1.170000, 1.161875, 1.182500, 1.170...  ALSO3        20220701\n",
      "4   1.847953, 1.812865, 1.824561, 1.865497, 1.836...  AMAR3        20220701\n",
      "{'ticker': ['ABEV3', 'AERI3', 'ALPA4', 'ALSO3', 'AMAR3', 'ANIM3', 'AZUL4', 'B3SA3', 'BBAS3', 'BBDC4', 'BBSE3', 'BEEF3', 'BKBR3', 'BPAC11', 'BPAN4', 'BRAP4', 'BRFS3', 'BRKM5', 'BRML3', 'CCRO3', 'CIEL3', 'CMIG4', 'COGN3', 'CPFE3', 'CPLE6', 'CRFB3', 'CSAN3', 'CSMG3', 'CSNA3', 'CVCB3', 'CYRE3', 'ECOR3', 'EGIE3', 'ELET3', 'ELET6', 'EMBR3', 'ENBR3', 'ENEV3', 'ENGI11', 'EQTL3', 'EZTC3', 'FLRY3', 'GGBR4', 'GOAU4', 'GOLL4', 'HAPV3', 'HYPE3', 'ITUB4', 'JBSS3', 'JHSF3', 'KLBN11', 'LCAM3', 'LIGT3', 'LREN3', 'LWSA3', 'MGLU3', 'MOVI3', 'MRFG3', 'MRVE3', 'MULT3', 'MYPK3', 'NEOE3', 'NTCO3', 'PCAR3', 'PETR4', 'POSI3', 'PRIO3', 'PTBL3', 'QUAL3', 'RADL3', 'RAIL3', 'RAPT4', 'RENT3', 'SANB11', 'SBSP3', 'SLCE3', 'SMTO3', 'STBP3', 'SULA11', 'SUZB3', 'TAEE11', 'TOTS3', 'UGPA3', 'USIM5', 'VALE3', 'WEGE3', 'WIZS3', 'YDUQ3'], 'diaNumPrevisao_x': [20220701, 20220701, 20220701, 20220701, 20220701, 20220701, 20220701, 20220701, 20220701, 20220701, 20220701, 20220701, 20220701, 20220701, 20220701, 20220701, 20220701, 20220701, 20220701, 20220701, 20220701, 20220701, 20220701, 20220701, 20220701, 20220701, 20220701, 20220701, 20220701, 20220701, 20220701, 20220701, 20220701, 20220701, 20220701, 20220701, 20220701, 20220701, 20220701, 20220701, 20220701, 20220701, 20220701, 20220701, 20220701, 20220701, 20220701, 20220701, 20220701, 20220701, 20220701, 20220701, 20220701, 20220701, 20220701, 20220701, 20220701, 20220701, 20220701, 20220701, 20220701, 20220701, 20220701, 20220701, 20220701, 20220701, 20220701, 20220701, 20220701, 20220701, 20220701, 20220701, 20220701, 20220701, 20220701, 20220701, 20220701, 20220701, 20220701, 20220701, 20220701, 20220701, 20220701, 20220701, 20220701, 20220701, 20220701, 20220701], 'resultado': [0.2447626292705536, 0.473338782787323, 0.3237515985965729, 0.3905870318412781, 0.381777822971344, 0.37204623222351074, 0.42686885595321655, 0.405791312456131, 0.275564968585968, 0.2423790693283081, 0.3371553421020508, 0.4073493480682373, 0.3411324620246887, 0.3267887234687805, 0.4639410674571991, 0.3337927460670471, 0.30643099546432495, 0.23847422003746033, 0.3348134458065033, 0.2696796953678131, 0.4770219027996063, 0.4091705083847046, 0.3068534731864929, 0.36542317271232605, 0.26967108249664307, 0.5770193934440613, 0.2958895266056061, 0.30563122034072876, 0.38528385758399963, 0.5752595663070679, 0.40925922989845276, 0.24522611498832703, 0.2699849009513855, 0.3658485412597656, 0.36683011054992676, 0.3356498181819916, 0.26162227988243103, 0.29240286350250244, 0.29477113485336304, 0.2988857626914978, 0.2852244973182678, 0.2963133156299591, 0.25678950548171997, 0.2263314425945282, 0.4277274012565613, 0.49283522367477417, 0.3859693109989166, 0.2623139023780823, 0.25558704137802124, 0.348801851272583, 0.2573348879814148, 0.27444174885749817, 0.3407926857471466, 0.24383312463760376, 0.4142535924911499, 0.489636093378067, 0.332098126411438, 0.40889063477516174, 0.4331547021865845, 0.3546693027019501, 0.23052701354026794, 0.27974051237106323, 0.4861183762550354, 0.477378785610199, 0.288106232881546, 0.344430148601532, 0.2603115439414978, 0.4361859858036041, 0.34260568022727966, 0.29106301069259644, 0.24871483445167542, 0.23551058769226074, 0.2862666845321655, 0.27665266394615173, 0.4191499948501587, 0.26949140429496765, 0.37991055846214294, 0.3373373746871948, 0.5491788983345032, 0.24628984928131104, 0.30899930000305176, 0.5537590384483337, 0.2608879804611206, 0.37453317642211914, 0.2810937762260437, 0.399236798286438, 0.2708187699317932, 0.39299291372299194], 'treinoRedeId': ['2', '2', '2', '2', '2', '2', '2', '2', '2', '2', '2', '2', '2', '2', '2', '2', '2', '2', '2', '2', '2', '2', '2', '2', '2', '2', '2', '2', '2', '2', '2', '2', '2', '2', '2', '2', '2', '2', '2', '2', '2', '2', '2', '2', '2', '2', '2', '2', '2', '2', '2', '2', '2', '2', '2', '2', '2', '2', '2', '2', '2', '2', '2', '2', '2', '2', '2', '2', '2', '2', '2', '2', '2', '2', '2', '2', '2', '2', '2', '2', '2', '2', '2', '2', '2', '2', '2', '2'], 'diaNumPrevisao_y': [20220701, 20220701, 20220701, 20220701, 20220701, 20220701, 20220701, 20220701, 20220701, 20220701, 20220701, 20220701, 20220701, 20220701, 20220701, 20220701, 20220701, 20220701, 20220701, 20220701, 20220701, 20220701, 20220701, 20220701, 20220701, 20220701, 20220701, 20220701, 20220701, 20220701, 20220701, 20220701, 20220701, 20220701, 20220701, 20220701, 20220701, 20220701, 20220701, 20220701, 20220701, 20220701, 20220701, 20220701, 20220701, 20220701, 20220701, 20220701, 20220701, 20220701, 20220701, 20220701, 20220701, 20220701, 20220701, 20220701, 20220701, 20220701, 20220701, 20220701, 20220701, 20220701, 20220701, 20220701, 20220701, 20220701, 20220701, 20220701, 20220701, 20220701, 20220701, 20220701, 20220701, 20220701, 20220701, 20220701, 20220701, 20220701, 20220701, 20220701, 20220701, 20220701, 20220701, 20220701, 20220701, 20220701, 20220701, 20220701]}\n"
     ]
    },
    {
     "data": {
      "text/plain": [
       "0    None\n",
       "dtype: object"
      ]
     },
     "execution_count": 21,
     "metadata": {},
     "output_type": "execute_result"
    }
   ],
   "source": [
    "dfTreino.apply(trataRede, axis='columns')"
   ]
  },
  {
   "cell_type": "code",
   "execution_count": null,
   "id": "a6e1d355",
   "metadata": {},
   "outputs": [],
   "source": []
  }
 ],
 "metadata": {
  "kernelspec": {
   "display_name": "Python 3 (ipykernel)",
   "language": "python",
   "name": "python3"
  },
  "language_info": {
   "codemirror_mode": {
    "name": "ipython",
    "version": 3
   },
   "file_extension": ".py",
   "mimetype": "text/x-python",
   "name": "python",
   "nbconvert_exporter": "python",
   "pygments_lexer": "ipython3",
   "version": "3.8.10"
  }
 },
 "nbformat": 4,
 "nbformat_minor": 5
}
