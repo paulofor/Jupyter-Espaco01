{
 "cells": [
  {
   "cell_type": "code",
   "execution_count": null,
   "id": "8f96bd76",
   "metadata": {},
   "outputs": [],
   "source": [
    "import tensorflow as tf"
   ]
  },
  {
   "cell_type": "code",
   "execution_count": null,
   "id": "39bb3d02",
   "metadata": {},
   "outputs": [],
   "source": [
    "print(tf.__version__)"
   ]
  },
  {
   "cell_type": "code",
   "execution_count": null,
   "id": "619ebbfb",
   "metadata": {},
   "outputs": [],
   "source": [
    "import requests\n",
    "import pandas as pd\n",
    "import numpy as np"
   ]
  },
  {
   "cell_type": "code",
   "execution_count": null,
   "id": "7026a1ce",
   "metadata": {},
   "outputs": [],
   "source": [
    "url = \"http://vps-40d69db1.vps.ovh.ca:23004/api/TreinoRedes/obtemListaParaPrevisao\""
   ]
  },
  {
   "cell_type": "code",
   "execution_count": null,
   "id": "b82e627e",
   "metadata": {},
   "outputs": [],
   "source": [
    "r = requests.get(url)\n",
    "j = r.json()\n",
    "dfTreino = pd.DataFrame.from_dict(j)"
   ]
  },
  {
   "cell_type": "code",
   "execution_count": null,
   "id": "44992ff7",
   "metadata": {},
   "outputs": [],
   "source": [
    "dfTreino.head()"
   ]
  },
  {
   "cell_type": "code",
   "execution_count": null,
   "id": "3f0d564b",
   "metadata": {},
   "outputs": [],
   "source": [
    "def trataRede(treino):\n",
    "    print('ID:' , treino['id'])\n",
    "    nome_arquivo = 'pesos/treino_rede' + str(treino['id']) + '.h5'\n",
    "    print(nome_arquivo)\n",
    "    modelo = tf.keras.models.load_model(nome_arquivo)\n",
    "    modelo.summary()\n",
    "    result = modelo.predict(X)\n",
    "    dfDados['resultado'] = result\n",
    "    dfDados['treinoRedeId'] = str(treino['id'])\n",
    "    json = dfDados.to_dict(orient='list')\n",
    "    urlPrevisao = 'http://vps-40d69db1.vps.ovh.ca:23004/api/PrevisaoRedes/recebePrevisaoTreino'\n",
    "    response = requests.post(urlPrevisao, data=json)\n",
    "    print(response)"
   ]
  },
  {
   "cell_type": "code",
   "execution_count": null,
   "id": "e619cadd",
   "metadata": {},
   "outputs": [],
   "source": [
    "urlExemplos = \"http://vps-40d69db1.vps.ovh.ca:23004/api/ExemploTreinoAcaoEntradas/obtemProximoDia\""
   ]
  },
  {
   "cell_type": "code",
   "execution_count": null,
   "id": "a5ab8a95",
   "metadata": {},
   "outputs": [],
   "source": [
    "r = requests.get(urlExemplos)\n",
    "j = r.json()\n",
    "dfDados = pd.DataFrame.from_dict(j)"
   ]
  },
  {
   "cell_type": "code",
   "execution_count": null,
   "id": "6c974bea",
   "metadata": {},
   "outputs": [],
   "source": [
    "dfDados.head()"
   ]
  },
  {
   "cell_type": "code",
   "execution_count": null,
   "id": "f39a310a",
   "metadata": {},
   "outputs": [],
   "source": [
    "def trataLinhaX(linha):\n",
    "    return np.fromstring(linha['campoX'], dtype=float, sep=',')"
   ]
  },
  {
   "cell_type": "code",
   "execution_count": null,
   "id": "95c8fb3e",
   "metadata": {},
   "outputs": [],
   "source": [
    "dfTratadoX = dfDados.apply(trataLinhaX, axis='columns')\n",
    "X = np.stack(dfTratadoX.values)\n",
    "X.shape"
   ]
  },
  {
   "cell_type": "code",
   "execution_count": null,
   "id": "49522423",
   "metadata": {},
   "outputs": [],
   "source": [
    "dfDados.drop('campoX', inplace=True, axis=1)"
   ]
  },
  {
   "cell_type": "code",
   "execution_count": null,
   "id": "906ddbc3",
   "metadata": {},
   "outputs": [],
   "source": [
    "dfTreino.apply(trataRede, axis='columns')"
   ]
  },
  {
   "cell_type": "code",
   "execution_count": null,
   "id": "0b4678af",
   "metadata": {},
   "outputs": [],
   "source": []
  }
 ],
 "metadata": {
  "kernelspec": {
   "display_name": "Python 3 (ipykernel)",
   "language": "python",
   "name": "python3"
  },
  "language_info": {
   "codemirror_mode": {
    "name": "ipython",
    "version": 3
   },
   "file_extension": ".py",
   "mimetype": "text/x-python",
   "name": "python",
   "nbconvert_exporter": "python",
   "pygments_lexer": "ipython3",
   "version": "3.8.10"
  }
 },
 "nbformat": 4,
 "nbformat_minor": 5
}
