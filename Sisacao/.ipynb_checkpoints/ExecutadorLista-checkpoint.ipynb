{
 "cells": [
  {
   "cell_type": "code",
   "execution_count": 1,
   "id": "8f96bd76",
   "metadata": {},
   "outputs": [
    {
     "name": "stderr",
     "output_type": "stream",
     "text": [
      "2022-06-23 23:33:31.590846: W tensorflow/stream_executor/platform/default/dso_loader.cc:64] Could not load dynamic library 'libcudart.so.11.0'; dlerror: libcudart.so.11.0: cannot open shared object file: No such file or directory\n",
      "2022-06-23 23:33:31.590929: I tensorflow/stream_executor/cuda/cudart_stub.cc:29] Ignore above cudart dlerror if you do not have a GPU set up on your machine.\n"
     ]
    }
   ],
   "source": [
    "import tensorflow as tf"
   ]
  },
  {
   "cell_type": "code",
   "execution_count": 2,
   "id": "39bb3d02",
   "metadata": {},
   "outputs": [
    {
     "name": "stdout",
     "output_type": "stream",
     "text": [
      "2.7.0\n"
     ]
    }
   ],
   "source": [
    "print(tf.__version__)"
   ]
  },
  {
   "cell_type": "code",
   "execution_count": 3,
   "id": "619ebbfb",
   "metadata": {},
   "outputs": [],
   "source": [
    "import requests\n",
    "import pandas as pd\n",
    "import numpy as np"
   ]
  },
  {
   "cell_type": "code",
   "execution_count": 4,
   "id": "7026a1ce",
   "metadata": {},
   "outputs": [],
   "source": [
    "url = \"http://vps-40d69db1.vps.ovh.ca:23005/api/RedeNeurals/listaExecucaoPrevisao\""
   ]
  },
  {
   "cell_type": "code",
   "execution_count": 5,
   "id": "b82e627e",
   "metadata": {},
   "outputs": [],
   "source": [
    "r = requests.get(url)\n",
    "j = r.json()\n",
    "dfRede = pd.DataFrame.from_dict(j)"
   ]
  },
  {
   "cell_type": "code",
   "execution_count": 6,
   "id": "44992ff7",
   "metadata": {},
   "outputs": [
    {
     "data": {
      "text/html": [
       "<div>\n",
       "<style scoped>\n",
       "    .dataframe tbody tr th:only-of-type {\n",
       "        vertical-align: middle;\n",
       "    }\n",
       "\n",
       "    .dataframe tbody tr th {\n",
       "        vertical-align: top;\n",
       "    }\n",
       "\n",
       "    .dataframe thead th {\n",
       "        text-align: right;\n",
       "    }\n",
       "</style>\n",
       "<table border=\"1\" class=\"dataframe\">\n",
       "  <thead>\n",
       "    <tr style=\"text-align: right;\">\n",
       "      <th></th>\n",
       "      <th>estrutura</th>\n",
       "      <th>compilacao</th>\n",
       "      <th>fitTreinamento</th>\n",
       "      <th>id</th>\n",
       "    </tr>\n",
       "  </thead>\n",
       "  <tbody>\n",
       "    <tr>\n",
       "      <th>0</th>\n",
       "      <td>model = tf.keras.Sequential([\\n    tf.keras.In...</td>\n",
       "      <td>from tensorflow.keras.optimizers import RMSpro...</td>\n",
       "      <td>history = model.fit(x=X,y=Y, validation_data=(...</td>\n",
       "      <td>1</td>\n",
       "    </tr>\n",
       "    <tr>\n",
       "      <th>1</th>\n",
       "      <td>model = tf.keras.Sequential([\\n    tf.keras.In...</td>\n",
       "      <td>from tensorflow.keras.optimizers import RMSpro...</td>\n",
       "      <td>history = model.fit(x=X,y=Y, validation_data=(...</td>\n",
       "      <td>2</td>\n",
       "    </tr>\n",
       "  </tbody>\n",
       "</table>\n",
       "</div>"
      ],
      "text/plain": [
       "                                           estrutura  \\\n",
       "0  model = tf.keras.Sequential([\\n    tf.keras.In...   \n",
       "1  model = tf.keras.Sequential([\\n    tf.keras.In...   \n",
       "\n",
       "                                          compilacao  \\\n",
       "0  from tensorflow.keras.optimizers import RMSpro...   \n",
       "1  from tensorflow.keras.optimizers import RMSpro...   \n",
       "\n",
       "                                      fitTreinamento  id  \n",
       "0  history = model.fit(x=X,y=Y, validation_data=(...   1  \n",
       "1  history = model.fit(x=X,y=Y, validation_data=(...   2  "
      ]
     },
     "execution_count": 6,
     "metadata": {},
     "output_type": "execute_result"
    }
   ],
   "source": [
    "dfRede.head()"
   ]
  },
  {
   "cell_type": "code",
   "execution_count": 33,
   "id": "3f0d564b",
   "metadata": {},
   "outputs": [],
   "source": [
    "def trataRede(rede):\n",
    "    print('ID:' , rede['id'])\n",
    "    nome_arquivo = 'rede' + str(rede['id']) + '.h5'\n",
    "    print(nome_arquivo)\n",
    "    modelo = tf.keras.models.load_model(nome_arquivo)\n",
    "    modelo.summary()\n",
    "    result = modelo.predict(X)\n",
    "    dfDados['resultado'] = result\n",
    "    dfDados['redeId'] = str(rede['id'])\n",
    "    json = dfDados.to_dict(orient='list')\n",
    "    urlPrevisao = 'http://vps-40d69db1.vps.ovh.ca:23005/api/PrevisaoRedes/recebePrevisao'\n",
    "    response = requests.post(urlPrevisao, data=json)\n",
    "    print(response)"
   ]
  },
  {
   "cell_type": "code",
   "execution_count": 34,
   "id": "906ddbc3",
   "metadata": {},
   "outputs": [
    {
     "name": "stdout",
     "output_type": "stream",
     "text": [
      "ID: 1\n",
      "rede1.h5\n",
      "Model: \"sequential\"\n",
      "_________________________________________________________________\n",
      " Layer (type)                Output Shape              Param #   \n",
      "=================================================================\n",
      " dense (Dense)               (None, 1000)              1801000   \n",
      "                                                                 \n",
      " dense_1 (Dense)             (None, 500)               500500    \n",
      "                                                                 \n",
      " dense_2 (Dense)             (None, 1)                 501       \n",
      "                                                                 \n",
      "=================================================================\n",
      "Total params: 2,302,001\n",
      "Trainable params: 2,302,001\n",
      "Non-trainable params: 0\n",
      "_________________________________________________________________\n",
      "<Response [200]>\n",
      "ID: 2\n",
      "rede2.h5\n",
      "Model: \"sequential\"\n",
      "_________________________________________________________________\n",
      " Layer (type)                Output Shape              Param #   \n",
      "=================================================================\n",
      " dense (Dense)               (None, 1800)              3241800   \n",
      "                                                                 \n",
      " dense_1 (Dense)             (None, 1400)              2521400   \n",
      "                                                                 \n",
      " dense_2 (Dense)             (None, 1000)              1401000   \n",
      "                                                                 \n",
      " dense_3 (Dense)             (None, 600)               600600    \n",
      "                                                                 \n",
      " dense_4 (Dense)             (None, 200)               120200    \n",
      "                                                                 \n",
      " dense_5 (Dense)             (None, 1)                 201       \n",
      "                                                                 \n",
      "=================================================================\n",
      "Total params: 7,885,201\n",
      "Trainable params: 7,885,201\n",
      "Non-trainable params: 0\n",
      "_________________________________________________________________\n",
      "<Response [200]>\n"
     ]
    },
    {
     "data": {
      "text/plain": [
       "0    None\n",
       "1    None\n",
       "dtype: object"
      ]
     },
     "execution_count": 34,
     "metadata": {},
     "output_type": "execute_result"
    }
   ],
   "source": [
    "dfRede.apply(trataRede, axis='columns')"
   ]
  },
  {
   "cell_type": "code",
   "execution_count": 18,
   "id": "e619cadd",
   "metadata": {},
   "outputs": [],
   "source": [
    "urlExemplos = \"http://vps-40d69db1.vps.ovh.ca:23005/api/ExemploTreinoAcaoEntradas/obtemProximoDia\""
   ]
  },
  {
   "cell_type": "code",
   "execution_count": 19,
   "id": "a5ab8a95",
   "metadata": {},
   "outputs": [],
   "source": [
    "r = requests.get(urlExemplos)\n",
    "j = r.json()\n",
    "dfDados = pd.DataFrame.from_dict(j)"
   ]
  },
  {
   "cell_type": "code",
   "execution_count": 20,
   "id": "6c974bea",
   "metadata": {},
   "outputs": [
    {
     "data": {
      "text/html": [
       "<div>\n",
       "<style scoped>\n",
       "    .dataframe tbody tr th:only-of-type {\n",
       "        vertical-align: middle;\n",
       "    }\n",
       "\n",
       "    .dataframe tbody tr th {\n",
       "        vertical-align: top;\n",
       "    }\n",
       "\n",
       "    .dataframe thead th {\n",
       "        text-align: right;\n",
       "    }\n",
       "</style>\n",
       "<table border=\"1\" class=\"dataframe\">\n",
       "  <thead>\n",
       "    <tr style=\"text-align: right;\">\n",
       "      <th></th>\n",
       "      <th>campoX</th>\n",
       "      <th>ticker</th>\n",
       "      <th>diaNumPrevisao</th>\n",
       "    </tr>\n",
       "  </thead>\n",
       "  <tbody>\n",
       "    <tr>\n",
       "      <th>0</th>\n",
       "      <td>1.159940, 1.153214, 1.156203, 1.155456, 1.148...</td>\n",
       "      <td>ABEV3</td>\n",
       "      <td>20220624</td>\n",
       "    </tr>\n",
       "    <tr>\n",
       "      <th>1</th>\n",
       "      <td>2.368421, 2.347368, 2.389474, 2.389474, 2.368...</td>\n",
       "      <td>AERI3</td>\n",
       "      <td>20220624</td>\n",
       "    </tr>\n",
       "    <tr>\n",
       "      <th>2</th>\n",
       "      <td>1.829692, 1.815293, 1.841609, 1.835154, 1.828...</td>\n",
       "      <td>ALPA4</td>\n",
       "      <td>20220624</td>\n",
       "    </tr>\n",
       "    <tr>\n",
       "      <th>3</th>\n",
       "      <td>1.307143, 1.305952, 1.313095, 1.318452, 1.298...</td>\n",
       "      <td>ALSO3</td>\n",
       "      <td>20220624</td>\n",
       "    </tr>\n",
       "    <tr>\n",
       "      <th>4</th>\n",
       "      <td>1.779904, 1.755981, 1.770335, 1.751196, 1.741...</td>\n",
       "      <td>AMAR3</td>\n",
       "      <td>20220624</td>\n",
       "    </tr>\n",
       "  </tbody>\n",
       "</table>\n",
       "</div>"
      ],
      "text/plain": [
       "                                              campoX ticker  diaNumPrevisao\n",
       "0   1.159940, 1.153214, 1.156203, 1.155456, 1.148...  ABEV3        20220624\n",
       "1   2.368421, 2.347368, 2.389474, 2.389474, 2.368...  AERI3        20220624\n",
       "2   1.829692, 1.815293, 1.841609, 1.835154, 1.828...  ALPA4        20220624\n",
       "3   1.307143, 1.305952, 1.313095, 1.318452, 1.298...  ALSO3        20220624\n",
       "4   1.779904, 1.755981, 1.770335, 1.751196, 1.741...  AMAR3        20220624"
      ]
     },
     "execution_count": 20,
     "metadata": {},
     "output_type": "execute_result"
    }
   ],
   "source": [
    "dfDados.head()"
   ]
  },
  {
   "cell_type": "code",
   "execution_count": 21,
   "id": "f39a310a",
   "metadata": {},
   "outputs": [],
   "source": [
    "def trataLinhaX(linha):\n",
    "    return np.fromstring(linha['campoX'], dtype=float, sep=',')"
   ]
  },
  {
   "cell_type": "code",
   "execution_count": 23,
   "id": "95c8fb3e",
   "metadata": {},
   "outputs": [
    {
     "data": {
      "text/plain": [
       "(88, 1800)"
      ]
     },
     "execution_count": 23,
     "metadata": {},
     "output_type": "execute_result"
    }
   ],
   "source": [
    "dfTratadoX = dfDados.apply(trataLinhaX, axis='columns')\n",
    "X = np.stack(dfTratadoX.values)\n",
    "X.shape"
   ]
  },
  {
   "cell_type": "code",
   "execution_count": 32,
   "id": "49522423",
   "metadata": {},
   "outputs": [],
   "source": [
    "dfDados.drop('campoX', inplace=True, axis=1)"
   ]
  },
  {
   "cell_type": "code",
   "execution_count": null,
   "id": "0b4678af",
   "metadata": {},
   "outputs": [],
   "source": []
  }
 ],
 "metadata": {
  "kernelspec": {
   "display_name": "Python 3 (ipykernel)",
   "language": "python",
   "name": "python3"
  },
  "language_info": {
   "codemirror_mode": {
    "name": "ipython",
    "version": 3
   },
   "file_extension": ".py",
   "mimetype": "text/x-python",
   "name": "python",
   "nbconvert_exporter": "python",
   "pygments_lexer": "ipython3",
   "version": "3.8.10"
  }
 },
 "nbformat": 4,
 "nbformat_minor": 5
}
