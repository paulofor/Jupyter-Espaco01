{
 "cells": [
  {
   "cell_type": "markdown",
   "id": "227a51cc",
   "metadata": {},
   "source": [
    "# Inicialização"
   ]
  },
  {
   "cell_type": "code",
   "execution_count": null,
   "id": "539a27f1",
   "metadata": {},
   "outputs": [],
   "source": [
    "import tensorflow as tf"
   ]
  },
  {
   "cell_type": "code",
   "execution_count": null,
   "id": "6fbb5187",
   "metadata": {},
   "outputs": [],
   "source": [
    "print(tf.__version__)"
   ]
  },
  {
   "cell_type": "markdown",
   "id": "e64d1133",
   "metadata": {},
   "source": [
    "# Conectando com servidor"
   ]
  },
  {
   "cell_type": "code",
   "execution_count": null,
   "id": "b50a9639",
   "metadata": {},
   "outputs": [],
   "source": [
    "import requests\n",
    "import pandas as pd\n",
    "import numpy as np"
   ]
  },
  {
   "cell_type": "code",
   "execution_count": null,
   "id": "adda5ee5",
   "metadata": {},
   "outputs": [],
   "source": [
    "codigoGrupo = \"Neg-100\"\n",
    "codigoPeriodo = \"11\"\n",
    "codigoRegra = \"t11s17v\"\n",
    "\n",
    "url = \"http://vps-40d69db1.vps.ovh.ca:23005/api/ExemploTreinoAcaos/obtemConjuntoTreino?idPeriodo={}&codigoGrupoAcao={}&codigoRegraProjecao={}\".format(codigoPeriodo,codigoGrupo,codigoRegra)"
   ]
  },
  {
   "cell_type": "code",
   "execution_count": null,
   "id": "9bc86f4d",
   "metadata": {},
   "outputs": [],
   "source": [
    "print(url)"
   ]
  },
  {
   "cell_type": "code",
   "execution_count": null,
   "id": "12e6203d",
   "metadata": {},
   "outputs": [],
   "source": [
    "r = requests.get(url)\n",
    "j = r.json()\n",
    "df = pd.DataFrame.from_dict(j)"
   ]
  },
  {
   "cell_type": "code",
   "execution_count": null,
   "id": "3f2dd5b1",
   "metadata": {},
   "outputs": [],
   "source": [
    "def trataLinhaX(linha):\n",
    "    return np.fromstring(linha['campoX'], dtype=float, sep=',')"
   ]
  },
  {
   "cell_type": "code",
   "execution_count": null,
   "id": "8b20152e",
   "metadata": {},
   "outputs": [],
   "source": [
    "dfTratadoX = df.apply(trataLinhaX, axis='columns')"
   ]
  },
  {
   "cell_type": "code",
   "execution_count": null,
   "id": "813651d8",
   "metadata": {},
   "outputs": [],
   "source": [
    "X = np.stack(dfTratadoX.values)"
   ]
  },
  {
   "cell_type": "code",
   "execution_count": null,
   "id": "8e6d1673",
   "metadata": {},
   "outputs": [],
   "source": [
    "X.shape"
   ]
  },
  {
   "cell_type": "code",
   "execution_count": null,
   "id": "3d39dd51",
   "metadata": {},
   "outputs": [],
   "source": [
    "Y = np.stack(df['campoY'].values)"
   ]
  },
  {
   "cell_type": "code",
   "execution_count": null,
   "id": "d8843193",
   "metadata": {},
   "outputs": [],
   "source": [
    "Y = Y.reshape(-1,1)"
   ]
  },
  {
   "cell_type": "code",
   "execution_count": null,
   "id": "44c2a051",
   "metadata": {},
   "outputs": [],
   "source": [
    "Y.shape"
   ]
  },
  {
   "cell_type": "markdown",
   "id": "063b2243",
   "metadata": {},
   "source": [
    "# Minha Rede Simples"
   ]
  },
  {
   "cell_type": "code",
   "execution_count": null,
   "id": "d08bd02a",
   "metadata": {},
   "outputs": [],
   "source": [
    "model = tf.keras.Sequential([\n",
    "    tf.keras.Input(shape=(1800,)),\n",
    "    tf.keras.layers.Dense(1000, activation=tf.nn.relu),\n",
    "    tf.keras.layers.Dense(500, activation=tf.nn.relu), \n",
    "    tf.keras.layers.Dense(1, activation=tf.nn.sigmoid)\n",
    "])\n"
   ]
  },
  {
   "cell_type": "code",
   "execution_count": null,
   "id": "61baf2c4",
   "metadata": {},
   "outputs": [],
   "source": [
    "model.summary()"
   ]
  },
  {
   "cell_type": "code",
   "execution_count": null,
   "id": "3bbfb8c8",
   "metadata": {},
   "outputs": [],
   "source": [
    "#model.compile(optimizer='adam', loss='binary_crossentropy', metrics=['accuracy'])"
   ]
  },
  {
   "cell_type": "code",
   "execution_count": null,
   "id": "39a2afec",
   "metadata": {},
   "outputs": [],
   "source": [
    "#model.compile(optimizer='adam' , loss='mean_squared_error')"
   ]
  },
  {
   "cell_type": "code",
   "execution_count": null,
   "id": "fbf17d9e",
   "metadata": {},
   "outputs": [],
   "source": [
    "from tensorflow.keras.optimizers import RMSprop\n",
    "\n",
    "model.compile(loss='binary_crossentropy',\n",
    "                optimizer=RMSprop(learning_rate=1e-4),\n",
    "                metrics=['accuracy'])"
   ]
  },
  {
   "cell_type": "markdown",
   "id": "73d7328f",
   "metadata": {},
   "source": [
    "# Dados de Validação"
   ]
  },
  {
   "cell_type": "code",
   "execution_count": null,
   "id": "3b2503f9",
   "metadata": {},
   "outputs": [],
   "source": [
    "urlValida = \"http://vps-40d69db1.vps.ovh.ca:23005/api/ExemploTreinoAcaos/obtemConjuntoDesenvolvimento?idPeriodo={}&codigoGrupoAcao={}&codigoRegraProjecao={}\".format(codigoPeriodo,codigoGrupo,codigoRegra)"
   ]
  },
  {
   "cell_type": "code",
   "execution_count": null,
   "id": "64004ce7",
   "metadata": {},
   "outputs": [],
   "source": [
    "print(urlValida)"
   ]
  },
  {
   "cell_type": "code",
   "execution_count": null,
   "id": "97d16c98",
   "metadata": {},
   "outputs": [],
   "source": [
    "r = requests.get(urlValida)\n",
    "j = r.json()\n",
    "dfValida = pd.DataFrame.from_dict(j)"
   ]
  },
  {
   "cell_type": "code",
   "execution_count": null,
   "id": "37d1af7f",
   "metadata": {},
   "outputs": [],
   "source": [
    "dfValida.head()"
   ]
  },
  {
   "cell_type": "code",
   "execution_count": null,
   "id": "3f45d5f5",
   "metadata": {},
   "outputs": [],
   "source": [
    "dfTratadoValidaX = dfValida.apply(trataLinhaX, axis='columns')\n",
    "XValida = np.stack(dfTratadoValidaX.values)\n",
    "XValida.shape\n"
   ]
  },
  {
   "cell_type": "code",
   "execution_count": null,
   "id": "8f152705",
   "metadata": {},
   "outputs": [],
   "source": [
    "YValida = np.stack(dfValida['campoY'].values)\n"
   ]
  },
  {
   "cell_type": "code",
   "execution_count": null,
   "id": "82c133f2",
   "metadata": {},
   "outputs": [],
   "source": [
    "YValida = YValida.reshape(-1,1)"
   ]
  },
  {
   "cell_type": "code",
   "execution_count": null,
   "id": "4a700b88",
   "metadata": {},
   "outputs": [],
   "source": [
    "YValida.shape"
   ]
  },
  {
   "cell_type": "code",
   "execution_count": null,
   "id": "ee3b0ac8",
   "metadata": {},
   "outputs": [],
   "source": [
    "history = model.fit(x=X,y=Y, validation_data=(XValida, YValida) ,\n",
    "                    steps_per_epoch=100,\n",
    "                    epochs=15,\n",
    "                    validation_steps=50,\n",
    "                    verbose=2)\n",
    "\n",
    "#EPOCHS = 20\n",
    "#history = model.fit(\n",
    "#      train_generator,\n",
    "#      steps_per_epoch=100,  # 2000 images = batch_size * steps\n",
    "#      epochs=EPOCHS,\n",
    "#      validation_data=validation_generator,\n",
    "#      validation_steps=50,  # 1000 images = batch_size * steps\n",
    "#      verbose=2)"
   ]
  },
  {
   "cell_type": "code",
   "execution_count": null,
   "id": "067e17a2",
   "metadata": {},
   "outputs": [],
   "source": [
    "# assign location\n",
    "path='pesos/rede1.h5'\n",
    " \n",
    "# save\n",
    "model.save(path)"
   ]
  },
  {
   "cell_type": "code",
   "execution_count": null,
   "id": "d7c8cb09",
   "metadata": {},
   "outputs": [],
   "source": []
  },
  {
   "cell_type": "code",
   "execution_count": null,
   "id": "18e46f4b",
   "metadata": {},
   "outputs": [],
   "source": []
  }
 ],
 "metadata": {
  "kernelspec": {
   "display_name": "Python 3 (ipykernel)",
   "language": "python",
   "name": "python3"
  },
  "language_info": {
   "codemirror_mode": {
    "name": "ipython",
    "version": 3
   },
   "file_extension": ".py",
   "mimetype": "text/x-python",
   "name": "python",
   "nbconvert_exporter": "python",
   "pygments_lexer": "ipython3",
   "version": "3.8.10"
  }
 },
 "nbformat": 4,
 "nbformat_minor": 5
}
