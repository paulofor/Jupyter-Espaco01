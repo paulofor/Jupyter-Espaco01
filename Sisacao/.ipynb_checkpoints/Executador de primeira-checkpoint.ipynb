{
 "cells": [
  {
   "cell_type": "code",
   "execution_count": 1,
   "id": "dd7c4f90",
   "metadata": {},
   "outputs": [
    {
     "name": "stderr",
     "output_type": "stream",
     "text": [
      "2022-06-04 13:53:29.424016: W tensorflow/stream_executor/platform/default/dso_loader.cc:64] Could not load dynamic library 'libcudart.so.11.0'; dlerror: libcudart.so.11.0: cannot open shared object file: No such file or directory\n",
      "2022-06-04 13:53:29.424080: I tensorflow/stream_executor/cuda/cudart_stub.cc:29] Ignore above cudart dlerror if you do not have a GPU set up on your machine.\n"
     ]
    }
   ],
   "source": [
    "import tensorflow as tf"
   ]
  },
  {
   "cell_type": "code",
   "execution_count": 2,
   "id": "f7ca5676",
   "metadata": {},
   "outputs": [
    {
     "name": "stdout",
     "output_type": "stream",
     "text": [
      "2.7.0\n"
     ]
    }
   ],
   "source": [
    "print(tf.__version__)"
   ]
  },
  {
   "cell_type": "code",
   "execution_count": 3,
   "id": "8c8477d0",
   "metadata": {},
   "outputs": [],
   "source": [
    "import requests\n",
    "import pandas as pd\n",
    "import numpy as np"
   ]
  },
  {
   "cell_type": "code",
   "execution_count": 4,
   "id": "11ffd6b3",
   "metadata": {},
   "outputs": [
    {
     "name": "stderr",
     "output_type": "stream",
     "text": [
      "2022-06-04 13:56:31.066701: E tensorflow/stream_executor/cuda/cuda_driver.cc:271] failed call to cuInit: CUDA_ERROR_NO_DEVICE: no CUDA-capable device is detected\n",
      "2022-06-04 13:56:31.079428: I tensorflow/stream_executor/cuda/cuda_diagnostics.cc:156] kernel driver does not appear to be running on this host (vps34755): /proc/driver/nvidia/version does not exist\n",
      "2022-06-04 13:56:31.160772: I tensorflow/core/platform/cpu_feature_guard.cc:151] This TensorFlow binary is optimized with oneAPI Deep Neural Network Library (oneDNN) to use the following CPU instructions in performance-critical operations:  AVX2 FMA\n",
      "To enable them in other operations, rebuild TensorFlow with the appropriate compiler flags.\n",
      "2022-06-04 13:56:36.171956: W tensorflow/core/framework/cpu_allocator_impl.cc:82] Allocation of 7200000 exceeds 10% of free system memory.\n",
      "2022-06-04 13:56:36.533224: W tensorflow/core/framework/cpu_allocator_impl.cc:82] Allocation of 7200000 exceeds 10% of free system memory.\n",
      "2022-06-04 13:56:36.901679: W tensorflow/core/framework/cpu_allocator_impl.cc:82] Allocation of 7200000 exceeds 10% of free system memory.\n",
      "2022-06-04 13:56:37.369751: W tensorflow/core/framework/cpu_allocator_impl.cc:82] Allocation of 2000000 exceeds 10% of free system memory.\n",
      "2022-06-04 13:56:37.378256: W tensorflow/core/framework/cpu_allocator_impl.cc:82] Allocation of 2000000 exceeds 10% of free system memory.\n"
     ]
    }
   ],
   "source": [
    "modelo = tf.keras.models.load_model('rede1.h5')"
   ]
  },
  {
   "cell_type": "code",
   "execution_count": 5,
   "id": "0274a703",
   "metadata": {},
   "outputs": [
    {
     "name": "stdout",
     "output_type": "stream",
     "text": [
      "Model: \"sequential\"\n",
      "_________________________________________________________________\n",
      " Layer (type)                Output Shape              Param #   \n",
      "=================================================================\n",
      " dense (Dense)               (None, 1000)              1801000   \n",
      "                                                                 \n",
      " dense_1 (Dense)             (None, 500)               500500    \n",
      "                                                                 \n",
      " dense_2 (Dense)             (None, 1)                 501       \n",
      "                                                                 \n",
      "=================================================================\n",
      "Total params: 2,302,001\n",
      "Trainable params: 2,302,001\n",
      "Non-trainable params: 0\n",
      "_________________________________________________________________\n"
     ]
    }
   ],
   "source": [
    "modelo.summary()"
   ]
  },
  {
   "cell_type": "code",
   "execution_count": 6,
   "id": "93f4e412",
   "metadata": {},
   "outputs": [],
   "source": [
    "url = \"http://vps-40d69db1.vps.ovh.ca:23004/api/ExemploTreinoAcaoEntradas/obtemPorDia?diaNum=20220530\""
   ]
  },
  {
   "cell_type": "code",
   "execution_count": 7,
   "id": "65a8af2d",
   "metadata": {},
   "outputs": [],
   "source": [
    "r = requests.get(url)\n",
    "j = r.json()\n",
    "df = pd.DataFrame.from_dict(j)"
   ]
  },
  {
   "cell_type": "code",
   "execution_count": 8,
   "id": "dd23616d",
   "metadata": {},
   "outputs": [
    {
     "data": {
      "text/html": [
       "<div>\n",
       "<style scoped>\n",
       "    .dataframe tbody tr th:only-of-type {\n",
       "        vertical-align: middle;\n",
       "    }\n",
       "\n",
       "    .dataframe tbody tr th {\n",
       "        vertical-align: top;\n",
       "    }\n",
       "\n",
       "    .dataframe thead th {\n",
       "        text-align: right;\n",
       "    }\n",
       "</style>\n",
       "<table border=\"1\" class=\"dataframe\">\n",
       "  <thead>\n",
       "    <tr style=\"text-align: right;\">\n",
       "      <th></th>\n",
       "      <th>campoX</th>\n",
       "      <th>ticker</th>\n",
       "      <th>diaNumPrevisao</th>\n",
       "    </tr>\n",
       "  </thead>\n",
       "  <tbody>\n",
       "    <tr>\n",
       "      <th>0</th>\n",
       "      <td>1.130710, 1.122980, 1.120169, 1.120169, 1.132...</td>\n",
       "      <td>ABEV3</td>\n",
       "      <td>20220530</td>\n",
       "    </tr>\n",
       "    <tr>\n",
       "      <th>1</th>\n",
       "      <td>2.112299, 2.112299, 2.101604, 2.106952, 2.112...</td>\n",
       "      <td>AERI3</td>\n",
       "      <td>20220530</td>\n",
       "    </tr>\n",
       "    <tr>\n",
       "      <th>2</th>\n",
       "      <td>1.698991, 1.657306, 1.678806, 1.668714, 1.673...</td>\n",
       "      <td>ALPA4</td>\n",
       "      <td>20220530</td>\n",
       "    </tr>\n",
       "    <tr>\n",
       "      <th>3</th>\n",
       "      <td>1.033316, 1.010411, 1.023946, 1.028110, 1.034...</td>\n",
       "      <td>ALSO3</td>\n",
       "      <td>20220530</td>\n",
       "    </tr>\n",
       "    <tr>\n",
       "      <th>4</th>\n",
       "      <td>1.395257, 1.367589, 1.375494, 1.375494, 1.391...</td>\n",
       "      <td>AMAR3</td>\n",
       "      <td>20220530</td>\n",
       "    </tr>\n",
       "  </tbody>\n",
       "</table>\n",
       "</div>"
      ],
      "text/plain": [
       "                                              campoX ticker  diaNumPrevisao\n",
       "0   1.130710, 1.122980, 1.120169, 1.120169, 1.132...  ABEV3        20220530\n",
       "1   2.112299, 2.112299, 2.101604, 2.106952, 2.112...  AERI3        20220530\n",
       "2   1.698991, 1.657306, 1.678806, 1.668714, 1.673...  ALPA4        20220530\n",
       "3   1.033316, 1.010411, 1.023946, 1.028110, 1.034...  ALSO3        20220530\n",
       "4   1.395257, 1.367589, 1.375494, 1.375494, 1.391...  AMAR3        20220530"
      ]
     },
     "execution_count": 8,
     "metadata": {},
     "output_type": "execute_result"
    }
   ],
   "source": [
    "df.head()"
   ]
  },
  {
   "cell_type": "code",
   "execution_count": 9,
   "id": "da87d9ec",
   "metadata": {},
   "outputs": [],
   "source": [
    "def trataLinhaX(linha):\n",
    "    return np.fromstring(linha['campoX'], dtype=float, sep=',')"
   ]
  },
  {
   "cell_type": "code",
   "execution_count": 10,
   "id": "75414c41",
   "metadata": {},
   "outputs": [
    {
     "data": {
      "text/plain": [
       "(88, 1800)"
      ]
     },
     "execution_count": 10,
     "metadata": {},
     "output_type": "execute_result"
    }
   ],
   "source": [
    "dfTratadoX = df.apply(trataLinhaX, axis='columns')\n",
    "X = np.stack(dfTratadoX.values)\n",
    "X.shape"
   ]
  },
  {
   "cell_type": "code",
   "execution_count": 11,
   "id": "46becfb4",
   "metadata": {},
   "outputs": [],
   "source": [
    "result = modelo.predict(X)"
   ]
  },
  {
   "cell_type": "code",
   "execution_count": 12,
   "id": "badbb667",
   "metadata": {},
   "outputs": [
    {
     "data": {
      "text/plain": [
       "numpy.ndarray"
      ]
     },
     "execution_count": 12,
     "metadata": {},
     "output_type": "execute_result"
    }
   ],
   "source": [
    "type(result)"
   ]
  },
  {
   "cell_type": "code",
   "execution_count": 13,
   "id": "31ef7d0a",
   "metadata": {},
   "outputs": [],
   "source": [
    "df['resultado'] = result\n",
    "df['redeId'] = \"1\""
   ]
  },
  {
   "cell_type": "code",
   "execution_count": 14,
   "id": "15cf0217",
   "metadata": {},
   "outputs": [],
   "source": [
    "df.drop('campoX', inplace=True, axis=1)"
   ]
  },
  {
   "cell_type": "code",
   "execution_count": 15,
   "id": "a1be2482",
   "metadata": {},
   "outputs": [],
   "source": [
    "json = df.to_dict(orient='list')"
   ]
  },
  {
   "cell_type": "code",
   "execution_count": 16,
   "id": "4dae4792",
   "metadata": {},
   "outputs": [
    {
     "name": "stdout",
     "output_type": "stream",
     "text": [
      "{'ticker': ['ABEV3', 'AERI3', 'ALPA4', 'ALSO3', 'AMAR3', 'ANIM3', 'AZUL4', 'B3SA3', 'BBAS3', 'BBDC4', 'BBSE3', 'BEEF3', 'BKBR3', 'BPAC11', 'BPAN4', 'BRAP4', 'BRFS3', 'BRKM5', 'BRML3', 'CCRO3', 'CIEL3', 'CMIG4', 'COGN3', 'CPFE3', 'CPLE6', 'CRFB3', 'CSAN3', 'CSMG3', 'CSNA3', 'CVCB3', 'CYRE3', 'ECOR3', 'EGIE3', 'ELET3', 'ELET6', 'EMBR3', 'ENBR3', 'ENEV3', 'ENGI11', 'EQTL3', 'EZTC3', 'FLRY3', 'GGBR4', 'GOAU4', 'GOLL4', 'HAPV3', 'HYPE3', 'ITUB4', 'JBSS3', 'JHSF3', 'KLBN11', 'LCAM3', 'LIGT3', 'LREN3', 'LWSA3', 'MGLU3', 'MOVI3', 'MRFG3', 'MRVE3', 'MULT3', 'MYPK3', 'NEOE3', 'NTCO3', 'PCAR3', 'PETR4', 'POSI3', 'PRIO3', 'PTBL3', 'QUAL3', 'RADL3', 'RAIL3', 'RAPT4', 'RENT3', 'SANB11', 'SBSP3', 'SLCE3', 'SMTO3', 'STBP3', 'SULA11', 'SUZB3', 'TAEE11', 'TOTS3', 'UGPA3', 'USIM5', 'VALE3', 'WEGE3', 'WIZS3', 'YDUQ3'], 'diaNumPrevisao': [20220530, 20220530, 20220530, 20220530, 20220530, 20220530, 20220530, 20220530, 20220530, 20220530, 20220530, 20220530, 20220530, 20220530, 20220530, 20220530, 20220530, 20220530, 20220530, 20220530, 20220530, 20220530, 20220530, 20220530, 20220530, 20220530, 20220530, 20220530, 20220530, 20220530, 20220530, 20220530, 20220530, 20220530, 20220530, 20220530, 20220530, 20220530, 20220530, 20220530, 20220530, 20220530, 20220530, 20220530, 20220530, 20220530, 20220530, 20220530, 20220530, 20220530, 20220530, 20220530, 20220530, 20220530, 20220530, 20220530, 20220530, 20220530, 20220530, 20220530, 20220530, 20220530, 20220530, 20220530, 20220530, 20220530, 20220530, 20220530, 20220530, 20220530, 20220530, 20220530, 20220530, 20220530, 20220530, 20220530, 20220530, 20220530, 20220530, 20220530, 20220530, 20220530, 20220530, 20220530, 20220530, 20220530, 20220530, 20220530], 'resultado': [0.16039690375328064, 0.2395460307598114, 0.35204803943634033, 0.12895262241363525, 0.2920513153076172, 0.25012773275375366, 0.18059960007667542, 0.11021339893341064, 0.13145586848258972, 0.17693385481834412, 0.10987022519111633, 0.12138953804969788, 0.1504676342010498, 0.12030923366546631, 0.16673097014427185, 0.1769917905330658, 0.3695010840892792, 0.2606227993965149, 0.10783350467681885, 0.12941569089889526, 0.11227414011955261, 0.1279902458190918, 0.133454829454422, 0.10226970911026001, 0.1234816312789917, 0.08432403206825256, 0.166116863489151, 0.12706059217453003, 0.21060878038406372, 0.1101166307926178, 0.13959023356437683, 0.1880444586277008, 0.1290832757949829, 0.1229274570941925, 0.1222960352897644, 0.34807828068733215, 0.13824144005775452, 0.1547013819217682, 0.11233711242675781, 0.11312985420227051, 0.20486655831336975, 0.2083318531513214, 0.15642812848091125, 0.16368159651756287, 0.1829293966293335, 0.14492258429527283, 0.10876354575157166, 0.13420674204826355, 0.13660475611686707, 0.11987760663032532, 0.20392704010009766, 0.1478215754032135, 0.19730404019355774, 0.15094155073165894, 0.3145485520362854, 0.20979347825050354, 0.13660156726837158, 0.19782587885856628, 0.15828299522399902, 0.09957709908485413, 0.21235817670822144, 0.12713220715522766, 0.19391921162605286, 0.12234330177307129, 0.11743339896202087, 0.1952511966228485, 0.13051187992095947, 0.15009638667106628, 0.1882879137992859, 0.1712973713874817, 0.15556824207305908, 0.15317195653915405, 0.142859548330307, 0.13994303345680237, 0.11757054924964905, 0.1259566843509674, 0.11557590961456299, 0.11807510256767273, 0.12463134527206421, 0.2124183177947998, 0.0991351306438446, 0.09882724285125732, 0.16461125016212463, 0.24316871166229248, 0.14525681734085083, 0.15145018696784973, 0.16154250502586365, 0.21202510595321655]}\n"
     ]
    }
   ],
   "source": [
    "print(json)"
   ]
  },
  {
   "cell_type": "code",
   "execution_count": 17,
   "id": "9955e7c8",
   "metadata": {},
   "outputs": [],
   "source": [
    "url = 'http://vps-40d69db1.vps.ovh.ca:23004/api/PrevisaoRedes/recebePrevisao'\n",
    "\n",
    "response = requests.post(url, data=json)"
   ]
  },
  {
   "cell_type": "code",
   "execution_count": null,
   "id": "bbac64a0",
   "metadata": {},
   "outputs": [],
   "source": [
    "print(type(data))"
   ]
  },
  {
   "cell_type": "markdown",
   "id": "6f4c5162",
   "metadata": {},
   "source": [
    "## Experiencias"
   ]
  },
  {
   "cell_type": "code",
   "execution_count": null,
   "id": "c481670e",
   "metadata": {},
   "outputs": [],
   "source": [
    "dfTicker = df.set_index('ticker')\n",
    "dfTicker.head()"
   ]
  },
  {
   "cell_type": "code",
   "execution_count": null,
   "id": "0d1c2903",
   "metadata": {},
   "outputs": [],
   "source": [
    "dfTratadoX = dfTicker.apply(trataLinhaX, axis='columns')"
   ]
  },
  {
   "cell_type": "code",
   "execution_count": null,
   "id": "913ccb93",
   "metadata": {},
   "outputs": [],
   "source": [
    "dfTratadoX.head()"
   ]
  },
  {
   "cell_type": "code",
   "execution_count": null,
   "id": "f95a24d6",
   "metadata": {},
   "outputs": [],
   "source": [
    "result = modelo.predict(dfTratadoX)"
   ]
  }
 ],
 "metadata": {
  "kernelspec": {
   "display_name": "Python 3 (ipykernel)",
   "language": "python",
   "name": "python3"
  },
  "language_info": {
   "codemirror_mode": {
    "name": "ipython",
    "version": 3
   },
   "file_extension": ".py",
   "mimetype": "text/x-python",
   "name": "python",
   "nbconvert_exporter": "python",
   "pygments_lexer": "ipython3",
   "version": "3.8.10"
  }
 },
 "nbformat": 4,
 "nbformat_minor": 5
}
