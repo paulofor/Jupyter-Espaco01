{
 "cells": [
  {
   "cell_type": "code",
   "execution_count": null,
   "id": "4860e808",
   "metadata": {},
   "outputs": [
    {
     "name": "stderr",
     "output_type": "stream",
     "text": [
      "2022-08-30 11:51:43.867543: W tensorflow/stream_executor/platform/default/dso_loader.cc:64] Could not load dynamic library 'libcudart.so.11.0'; dlerror: libcudart.so.11.0: cannot open shared object file: No such file or directory\n",
      "2022-08-30 11:51:43.868738: I tensorflow/stream_executor/cuda/cudart_stub.cc:29] Ignore above cudart dlerror if you do not have a GPU set up on your machine.\n"
     ]
    }
   ],
   "source": [
    "import tensorflow as tf\n",
    "import requests\n",
    "import pandas as pd\n",
    "import numpy as np"
   ]
  },
  {
   "cell_type": "code",
   "execution_count": null,
   "id": "505ff763",
   "metadata": {},
   "outputs": [],
   "source": [
    "url = \"http://vps-40d69db1.vps.ovh.ca:23004/api/TreinoRedes/obtemListaParaTeste?idGrupo=1\""
   ]
  },
  {
   "cell_type": "code",
   "execution_count": null,
   "id": "bcc6c65a",
   "metadata": {},
   "outputs": [],
   "source": [
    "r = requests.get(url)\n",
    "j = r.json()\n",
    "dfTreino = pd.DataFrame.from_dict(j)\n",
    "dfTreino.head()"
   ]
  },
  {
   "cell_type": "code",
   "execution_count": null,
   "id": "d9cecb31",
   "metadata": {},
   "outputs": [],
   "source": [
    "def trataLinhaX(linha):\n",
    "    return np.fromstring(linha['campoX'], dtype=float, sep=',')"
   ]
  },
  {
   "cell_type": "code",
   "execution_count": null,
   "id": "4e32af54",
   "metadata": {},
   "outputs": [],
   "source": [
    "def incluiEntrada(treino):\n",
    "    urlEntrada = \"http://vps-40d69db1.vps.ovh.ca:23004/api/CotacaoIntradayAcaoResultados/listaPrecoEntradaPrevisaoPorDiaB3?diaNum=\" + str(diaCorrente) +\"&idRegra=\" + str(treino['regraProjecaoId']) + \"&idGrupo=\" + str(treino['grupoAcaoId'])\n",
    "    #print(urlEntrada)\n",
    "    r = requests.get(urlEntrada)\n",
    "    j = r.json()\n",
    "    dfEntradas = pd.DataFrame.from_dict(j)\n",
    "    #print(dfEntradas.head())\n",
    "    return dfEntradas"
   ]
  },
  {
   "cell_type": "code",
   "execution_count": null,
   "id": "3bc3d4fc",
   "metadata": {},
   "outputs": [],
   "source": [
    "def trataRede():\n",
    "    treino = treinoCorrente\n",
    "    #print('ID:' , treino['id'])\n",
    "    #print(nome_arquivo)\n",
    "    #modelo.summary()\n",
    "    result = modelo.predict(X)\n",
    "    dfDados['resultado'] = result\n",
    "    dfDados['treinoRedeId'] = str(treino['id'])\n",
    "    dfDados['tipoCompraVenda'] = treino['tipoCompraVenda']\n",
    "    dfEntradas = incluiEntrada(treino)\n",
    "    dfPrevisao = pd.merge(dfDados,dfEntradas, how='left', left_on='ticker' ,  right_on='ticker')\n",
    "    #print('ticker previsão:' , len(dfPrevisao))\n",
    "    json = dfPrevisao.to_dict(orient='list')\n",
    "    urlPrevisao = 'http://vps-40d69db1.vps.ovh.ca:23004/api/PrevisaoTestes/recebePrevisaoTreinoTeste'\n",
    "    #print(json)\n",
    "    response = requests.post(urlPrevisao, data=json)\n",
    "    print(response)"
   ]
  },
  {
   "cell_type": "code",
   "execution_count": null,
   "id": "ed6536ab",
   "metadata": {},
   "outputs": [],
   "source": [
    "def trataDiaPregao(dia):\n",
    "    print('Tratando Dia: ' , dia.diaNum)\n",
    "    global diaCorrente\n",
    "    diaCorrente = dia.diaNum\n",
    "    urlExemplos = \"http://vps-40d69db1.vps.ovh.ca:23004/api/ExemploTreinoAcaoEntradas/obtemPorDiaNum?diaNum={}\".format(dia.diaNum)\n",
    "    #print(urlExemplos)\n",
    "    r = requests.get(urlExemplos)\n",
    "    j = r.json()\n",
    "    global dfDados\n",
    "    dfDados = pd.DataFrame.from_dict(j)\n",
    "    #print(dfDados.head())\n",
    "    dfTratadoX = dfDados.apply(trataLinhaX, axis='columns')\n",
    "    global X\n",
    "    X = np.stack(dfTratadoX.values)\n",
    "    X.shape\n",
    "    dfDados.drop('campoX', inplace=True, axis=1)\n",
    "    trataRede()"
   ]
  },
  {
   "cell_type": "code",
   "execution_count": null,
   "id": "5188eadc",
   "metadata": {},
   "outputs": [],
   "source": [
    "def trataTreinoRede(treino):\n",
    "    print('Tratando Rede: ' , treino.id)\n",
    "    global treinoCorrente\n",
    "    treinoCorrente = treino\n",
    "    nome_arquivo = 'redes/treino_rede' + str(treino['id']) + '.h5'\n",
    "    global modelo\n",
    "    modelo = tf.keras.models.load_model(nome_arquivo)\n",
    "\n",
    "    #print('TreinoCorrente: ' , treinoCorrente)\n",
    "    urlDias = \"http://vps-40d69db1.vps.ovh.ca:23004/api/DiaPregaos/obtemPeriodoPrevisaoTeste?idPeriodoTreinoRede={}\".format(treino.periodoTreinoRedeId)\n",
    "    r = requests.get(urlDias)\n",
    "    j = r.json()\n",
    "    dfDias = pd.DataFrame.from_dict(j)\n",
    "    #print(dfDias.head())\n",
    "    dfDias.apply(trataDiaPregao, axis='columns')"
   ]
  },
  {
   "cell_type": "code",
   "execution_count": null,
   "id": "8abc1dd5",
   "metadata": {},
   "outputs": [],
   "source": [
    "dfTreino.apply(trataTreinoRede, axis='columns')"
   ]
  }
 ],
 "metadata": {
  "kernelspec": {
   "display_name": "Python 3 (ipykernel)",
   "language": "python",
   "name": "python3"
  },
  "language_info": {
   "codemirror_mode": {
    "name": "ipython",
    "version": 3
   },
   "file_extension": ".py",
   "mimetype": "text/x-python",
   "name": "python",
   "nbconvert_exporter": "python",
   "pygments_lexer": "ipython3",
   "version": "3.8.10"
  }
 },
 "nbformat": 4,
 "nbformat_minor": 5
}
