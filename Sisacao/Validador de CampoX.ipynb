{
 "cells": [
  {
   "cell_type": "code",
   "execution_count": 1,
   "id": "80fad16b",
   "metadata": {},
   "outputs": [],
   "source": [
    "import requests\n",
    "import pandas as pd\n",
    "import numpy as np"
   ]
  },
  {
   "cell_type": "code",
   "execution_count": 2,
   "id": "91e65ba9",
   "metadata": {},
   "outputs": [],
   "source": [
    "url = \"http://vps-40d69db1.vps.ovh.ca:23004/api/ExemploTreinoAcaoEntradas/obtemPorDia?diaNum=20220429\""
   ]
  },
  {
   "cell_type": "code",
   "execution_count": 3,
   "id": "23e6282c",
   "metadata": {},
   "outputs": [],
   "source": [
    "r = requests.get(url)\n",
    "j = r.json()\n",
    "df = pd.DataFrame.from_dict(j)"
   ]
  },
  {
   "cell_type": "code",
   "execution_count": 8,
   "id": "7e05890c",
   "metadata": {},
   "outputs": [],
   "source": [
    "def trataLinhaX(linha):\n",
    "    linha['tamanho'] = np.fromstring(linha['campoX'], dtype=float, sep=',').size\n",
    "    return linha"
   ]
  },
  {
   "cell_type": "code",
   "execution_count": 9,
   "id": "5e9a1563",
   "metadata": {},
   "outputs": [],
   "source": [
    "dfTratadoX = df.apply(trataLinhaX, axis='columns')"
   ]
  },
  {
   "cell_type": "code",
   "execution_count": 10,
   "id": "711633f2",
   "metadata": {},
   "outputs": [
    {
     "data": {
      "text/html": [
       "<div>\n",
       "<style scoped>\n",
       "    .dataframe tbody tr th:only-of-type {\n",
       "        vertical-align: middle;\n",
       "    }\n",
       "\n",
       "    .dataframe tbody tr th {\n",
       "        vertical-align: top;\n",
       "    }\n",
       "\n",
       "    .dataframe thead th {\n",
       "        text-align: right;\n",
       "    }\n",
       "</style>\n",
       "<table border=\"1\" class=\"dataframe\">\n",
       "  <thead>\n",
       "    <tr style=\"text-align: right;\">\n",
       "      <th></th>\n",
       "      <th>campoX</th>\n",
       "      <th>ticker</th>\n",
       "      <th>diaNumPrevisao</th>\n",
       "      <th>tamanho</th>\n",
       "    </tr>\n",
       "  </thead>\n",
       "  <tbody>\n",
       "    <tr>\n",
       "      <th>0</th>\n",
       "      <td>1.186948, 1.192386, 1.210741, 1.211421, 1.210...</td>\n",
       "      <td>ABEV3</td>\n",
       "      <td>20220429</td>\n",
       "      <td>1785</td>\n",
       "    </tr>\n",
       "    <tr>\n",
       "      <th>1</th>\n",
       "      <td>1.548828, 1.550781, 1.585937, 1.603516, 1.562...</td>\n",
       "      <td>AERI3</td>\n",
       "      <td>20220429</td>\n",
       "      <td>1785</td>\n",
       "    </tr>\n",
       "    <tr>\n",
       "      <th>2</th>\n",
       "      <td>1.939109, 1.955941, 1.989109, 2.025248, 1.996...</td>\n",
       "      <td>ALPA4</td>\n",
       "      <td>20220429</td>\n",
       "      <td>1785</td>\n",
       "    </tr>\n",
       "    <tr>\n",
       "      <th>3</th>\n",
       "      <td>0.936110, 0.932797, 0.952674, 0.973024, 0.966...</td>\n",
       "      <td>ALSO3</td>\n",
       "      <td>20220429</td>\n",
       "      <td>1785</td>\n",
       "    </tr>\n",
       "    <tr>\n",
       "      <th>4</th>\n",
       "      <td>1.841880, 1.867521, 1.944444, 1.970085, 1.961...</td>\n",
       "      <td>AMAR3</td>\n",
       "      <td>20220429</td>\n",
       "      <td>1785</td>\n",
       "    </tr>\n",
       "  </tbody>\n",
       "</table>\n",
       "</div>"
      ],
      "text/plain": [
       "                                              campoX ticker  diaNumPrevisao  \\\n",
       "0   1.186948, 1.192386, 1.210741, 1.211421, 1.210...  ABEV3        20220429   \n",
       "1   1.548828, 1.550781, 1.585937, 1.603516, 1.562...  AERI3        20220429   \n",
       "2   1.939109, 1.955941, 1.989109, 2.025248, 1.996...  ALPA4        20220429   \n",
       "3   0.936110, 0.932797, 0.952674, 0.973024, 0.966...  ALSO3        20220429   \n",
       "4   1.841880, 1.867521, 1.944444, 1.970085, 1.961...  AMAR3        20220429   \n",
       "\n",
       "   tamanho  \n",
       "0     1785  \n",
       "1     1785  \n",
       "2     1785  \n",
       "3     1785  \n",
       "4     1785  "
      ]
     },
     "execution_count": 10,
     "metadata": {},
     "output_type": "execute_result"
    }
   ],
   "source": [
    "dfTratadoX.head()"
   ]
  },
  {
   "cell_type": "code",
   "execution_count": null,
   "id": "e7d16be3",
   "metadata": {},
   "outputs": [],
   "source": []
  }
 ],
 "metadata": {
  "kernelspec": {
   "display_name": "Python 3 (ipykernel)",
   "language": "python",
   "name": "python3"
  },
  "language_info": {
   "codemirror_mode": {
    "name": "ipython",
    "version": 3
   },
   "file_extension": ".py",
   "mimetype": "text/x-python",
   "name": "python",
   "nbconvert_exporter": "python",
   "pygments_lexer": "ipython3",
   "version": "3.8.10"
  }
 },
 "nbformat": 4,
 "nbformat_minor": 5
}
