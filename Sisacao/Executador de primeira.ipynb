{
 "cells": [
  {
   "cell_type": "code",
   "execution_count": 1,
   "id": "dd7c4f90",
   "metadata": {},
   "outputs": [
    {
     "name": "stderr",
     "output_type": "stream",
     "text": [
      "2022-06-10 10:52:30.086096: W tensorflow/stream_executor/platform/default/dso_loader.cc:64] Could not load dynamic library 'libcudart.so.11.0'; dlerror: libcudart.so.11.0: cannot open shared object file: No such file or directory\n",
      "2022-06-10 10:52:30.086166: I tensorflow/stream_executor/cuda/cudart_stub.cc:29] Ignore above cudart dlerror if you do not have a GPU set up on your machine.\n"
     ]
    }
   ],
   "source": [
    "import tensorflow as tf"
   ]
  },
  {
   "cell_type": "code",
   "execution_count": 2,
   "id": "f7ca5676",
   "metadata": {},
   "outputs": [
    {
     "name": "stdout",
     "output_type": "stream",
     "text": [
      "2.7.0\n"
     ]
    }
   ],
   "source": [
    "print(tf.__version__)"
   ]
  },
  {
   "cell_type": "code",
   "execution_count": 3,
   "id": "8c8477d0",
   "metadata": {},
   "outputs": [],
   "source": [
    "import requests\n",
    "import pandas as pd\n",
    "import numpy as np"
   ]
  },
  {
   "cell_type": "code",
   "execution_count": 20,
   "id": "11ffd6b3",
   "metadata": {},
   "outputs": [],
   "source": [
    "modelo = tf.keras.models.load_model('rede2.h5')"
   ]
  },
  {
   "cell_type": "code",
   "execution_count": 21,
   "id": "0274a703",
   "metadata": {},
   "outputs": [
    {
     "name": "stdout",
     "output_type": "stream",
     "text": [
      "Model: \"sequential\"\n",
      "_________________________________________________________________\n",
      " Layer (type)                Output Shape              Param #   \n",
      "=================================================================\n",
      " dense (Dense)               (None, 1800)              3241800   \n",
      "                                                                 \n",
      " dense_1 (Dense)             (None, 1400)              2521400   \n",
      "                                                                 \n",
      " dense_2 (Dense)             (None, 1000)              1401000   \n",
      "                                                                 \n",
      " dense_3 (Dense)             (None, 600)               600600    \n",
      "                                                                 \n",
      " dense_4 (Dense)             (None, 200)               120200    \n",
      "                                                                 \n",
      " dense_5 (Dense)             (None, 1)                 201       \n",
      "                                                                 \n",
      "=================================================================\n",
      "Total params: 7,885,201\n",
      "Trainable params: 7,885,201\n",
      "Non-trainable params: 0\n",
      "_________________________________________________________________\n"
     ]
    }
   ],
   "source": [
    "modelo.summary()"
   ]
  },
  {
   "cell_type": "code",
   "execution_count": 36,
   "id": "93f4e412",
   "metadata": {},
   "outputs": [],
   "source": [
    "url = \"http://vps-40d69db1.vps.ovh.ca:23005/api/ExemploTreinoAcaoEntradas/obtemPorDia?diaNum=20220621\""
   ]
  },
  {
   "cell_type": "code",
   "execution_count": 38,
   "id": "65a8af2d",
   "metadata": {},
   "outputs": [],
   "source": [
    "r = requests.get(url)\n",
    "j = r.json()\n",
    "df = pd.DataFrame.from_dict(j)"
   ]
  },
  {
   "cell_type": "code",
   "execution_count": 39,
   "id": "dd23616d",
   "metadata": {},
   "outputs": [
    {
     "data": {
      "text/html": [
       "<div>\n",
       "<style scoped>\n",
       "    .dataframe tbody tr th:only-of-type {\n",
       "        vertical-align: middle;\n",
       "    }\n",
       "\n",
       "    .dataframe tbody tr th {\n",
       "        vertical-align: top;\n",
       "    }\n",
       "\n",
       "    .dataframe thead th {\n",
       "        text-align: right;\n",
       "    }\n",
       "</style>\n",
       "<table border=\"1\" class=\"dataframe\">\n",
       "  <thead>\n",
       "    <tr style=\"text-align: right;\">\n",
       "      <th></th>\n",
       "      <th>campoX</th>\n",
       "      <th>ticker</th>\n",
       "      <th>diaNumPrevisao</th>\n",
       "    </tr>\n",
       "  </thead>\n",
       "  <tbody>\n",
       "    <tr>\n",
       "      <th>0</th>\n",
       "      <td>1.182655, 1.180353, 1.181888, 1.188028, 1.196...</td>\n",
       "      <td>ABEV3</td>\n",
       "      <td>20220621</td>\n",
       "    </tr>\n",
       "    <tr>\n",
       "      <th>1</th>\n",
       "      <td>2.292857, 2.275000, 2.310714, 2.307143, 2.300...</td>\n",
       "      <td>AERI3</td>\n",
       "      <td>20220621</td>\n",
       "    </tr>\n",
       "    <tr>\n",
       "      <th>2</th>\n",
       "      <td>1.908022, 1.909555, 1.878385, 1.869699, 1.862...</td>\n",
       "      <td>ALPA4</td>\n",
       "      <td>20220621</td>\n",
       "    </tr>\n",
       "    <tr>\n",
       "      <th>3</th>\n",
       "      <td>1.228504, 1.220848, 1.216726, 1.221437, 1.216...</td>\n",
       "      <td>ALSO3</td>\n",
       "      <td>20220621</td>\n",
       "    </tr>\n",
       "    <tr>\n",
       "      <th>4</th>\n",
       "      <td>1.864322, 1.849246, 1.819095, 1.829146, 1.824...</td>\n",
       "      <td>AMAR3</td>\n",
       "      <td>20220621</td>\n",
       "    </tr>\n",
       "    <tr>\n",
       "      <th>5</th>\n",
       "      <td>1.595010, 1.591171, 1.571977, 1.568138, 1.556...</td>\n",
       "      <td>ANIM3</td>\n",
       "      <td>20220621</td>\n",
       "    </tr>\n",
       "    <tr>\n",
       "      <th>6</th>\n",
       "      <td>1.946416, 1.928313, 1.926865, 1.929761, 1.922...</td>\n",
       "      <td>AZUL4</td>\n",
       "      <td>20220621</td>\n",
       "    </tr>\n",
       "    <tr>\n",
       "      <th>7</th>\n",
       "      <td>0.993068, 0.992201, 0.988735, 0.980936, 0.986...</td>\n",
       "      <td>B3SA3</td>\n",
       "      <td>20220621</td>\n",
       "    </tr>\n",
       "    <tr>\n",
       "      <th>8</th>\n",
       "      <td>0.851615, 0.850160, 0.849578, 0.853651, 0.855...</td>\n",
       "      <td>BBAS3</td>\n",
       "      <td>20220621</td>\n",
       "    </tr>\n",
       "    <tr>\n",
       "      <th>9</th>\n",
       "      <td>1.012080, 1.008403, 1.002101, 1.019433, 1.016...</td>\n",
       "      <td>BBDC4</td>\n",
       "      <td>20220621</td>\n",
       "    </tr>\n",
       "    <tr>\n",
       "      <th>10</th>\n",
       "      <td>0.818399, 0.820390, 0.823576, 0.826364, 0.830...</td>\n",
       "      <td>BBSE3</td>\n",
       "      <td>20220621</td>\n",
       "    </tr>\n",
       "    <tr>\n",
       "      <th>11</th>\n",
       "      <td>0.825882, 0.823529, 0.827451, 0.828235, 0.824...</td>\n",
       "      <td>BEEF3</td>\n",
       "      <td>20220621</td>\n",
       "    </tr>\n",
       "    <tr>\n",
       "      <th>12</th>\n",
       "      <td>0.977162, 0.973899, 0.959217, 0.960848, 0.959...</td>\n",
       "      <td>BKBR3</td>\n",
       "      <td>20220621</td>\n",
       "    </tr>\n",
       "    <tr>\n",
       "      <th>13</th>\n",
       "      <td>1.028156, 1.016893, 1.013139, 1.007039, 1.008...</td>\n",
       "      <td>BPAC11</td>\n",
       "      <td>20220621</td>\n",
       "    </tr>\n",
       "    <tr>\n",
       "      <th>14</th>\n",
       "      <td>1.724359, 1.714744, 1.693910, 1.681090, 1.690...</td>\n",
       "      <td>BPAN4</td>\n",
       "      <td>20220621</td>\n",
       "    </tr>\n",
       "    <tr>\n",
       "      <th>15</th>\n",
       "      <td>0.933984, 0.931250, 0.934375, 0.940234, 0.935...</td>\n",
       "      <td>BRAP4</td>\n",
       "      <td>20220621</td>\n",
       "    </tr>\n",
       "    <tr>\n",
       "      <th>16</th>\n",
       "      <td>1.804348, 1.820451, 1.833333, 1.831723, 1.835...</td>\n",
       "      <td>BRFS3</td>\n",
       "      <td>20220621</td>\n",
       "    </tr>\n",
       "    <tr>\n",
       "      <th>17</th>\n",
       "      <td>1.569315, 1.561096, 1.559726, 1.554521, 1.579...</td>\n",
       "      <td>BRKM5</td>\n",
       "      <td>20220621</td>\n",
       "    </tr>\n",
       "    <tr>\n",
       "      <th>18</th>\n",
       "      <td>1.024902, 1.018349, 1.014417, 1.015727, 1.014...</td>\n",
       "      <td>BRML3</td>\n",
       "      <td>20220621</td>\n",
       "    </tr>\n",
       "    <tr>\n",
       "      <th>19</th>\n",
       "      <td>0.975689, 0.968395, 0.967585, 0.964344, 0.965...</td>\n",
       "      <td>CCRO3</td>\n",
       "      <td>20220621</td>\n",
       "    </tr>\n",
       "    <tr>\n",
       "      <th>20</th>\n",
       "      <td>0.560526, 0.560526, 0.557895, 0.557895, 0.555...</td>\n",
       "      <td>CIEL3</td>\n",
       "      <td>20220621</td>\n",
       "    </tr>\n",
       "    <tr>\n",
       "      <th>21</th>\n",
       "      <td>1.203327, 1.206100, 1.206100, 1.211645, 1.212...</td>\n",
       "      <td>CMIG4</td>\n",
       "      <td>20220621</td>\n",
       "    </tr>\n",
       "    <tr>\n",
       "      <th>22</th>\n",
       "      <td>1.077922, 1.073593, 1.069264, 1.056277, 1.051...</td>\n",
       "      <td>COGN3</td>\n",
       "      <td>20220621</td>\n",
       "    </tr>\n",
       "    <tr>\n",
       "      <th>23</th>\n",
       "      <td>0.806308, 0.803630, 0.800952, 0.800357, 0.800...</td>\n",
       "      <td>CPFE3</td>\n",
       "      <td>20220621</td>\n",
       "    </tr>\n",
       "    <tr>\n",
       "      <th>24</th>\n",
       "      <td>0.897290, 0.897290, 0.898716, 0.904422, 0.900...</td>\n",
       "      <td>CPLE6</td>\n",
       "      <td>20220621</td>\n",
       "    </tr>\n",
       "    <tr>\n",
       "      <th>25</th>\n",
       "      <td>0.938195, 0.942522, 0.943758, 0.945612, 0.943...</td>\n",
       "      <td>CRFB3</td>\n",
       "      <td>20220621</td>\n",
       "    </tr>\n",
       "    <tr>\n",
       "      <th>26</th>\n",
       "      <td>1.156555, 1.159805, 1.152763, 1.153304, 1.143...</td>\n",
       "      <td>CSAN3</td>\n",
       "      <td>20220621</td>\n",
       "    </tr>\n",
       "    <tr>\n",
       "      <th>27</th>\n",
       "      <td>1.081581, 1.084104, 1.080740, 1.084104, 1.077...</td>\n",
       "      <td>CSMG3</td>\n",
       "      <td>20220621</td>\n",
       "    </tr>\n",
       "    <tr>\n",
       "      <th>28</th>\n",
       "      <td>1.468009, 1.466825, 1.464455, 1.463863, 1.457...</td>\n",
       "      <td>CSNA3</td>\n",
       "      <td>20220621</td>\n",
       "    </tr>\n",
       "    <tr>\n",
       "      <th>29</th>\n",
       "      <td>1.500000, 1.491525, 1.483051, 1.467161, 1.462...</td>\n",
       "      <td>CVCB3</td>\n",
       "      <td>20220621</td>\n",
       "    </tr>\n",
       "    <tr>\n",
       "      <th>30</th>\n",
       "      <td>1.257048, 1.242123, 1.237148, 1.233002, 1.233...</td>\n",
       "      <td>CYRE3</td>\n",
       "      <td>20220621</td>\n",
       "    </tr>\n",
       "    <tr>\n",
       "      <th>31</th>\n",
       "      <td>1.192000, 1.177600, 1.176000, 1.164800, 1.164...</td>\n",
       "      <td>ECOR3</td>\n",
       "      <td>20220621</td>\n",
       "    </tr>\n",
       "    <tr>\n",
       "      <th>32</th>\n",
       "      <td>0.920620, 0.921573, 0.921097, 0.922527, 0.920...</td>\n",
       "      <td>EGIE3</td>\n",
       "      <td>20220621</td>\n",
       "    </tr>\n",
       "    <tr>\n",
       "      <th>33</th>\n",
       "      <td>0.767293, 0.763628, 0.759963, 0.762712, 0.763...</td>\n",
       "      <td>ELET3</td>\n",
       "      <td>20220621</td>\n",
       "    </tr>\n",
       "    <tr>\n",
       "      <th>34</th>\n",
       "      <td>0.765006, 0.761530, 0.757126, 0.760371, 0.761...</td>\n",
       "      <td>ELET6</td>\n",
       "      <td>20220621</td>\n",
       "    </tr>\n",
       "    <tr>\n",
       "      <th>35</th>\n",
       "      <td>2.097002, 2.109347, 2.105820, 2.129630, 2.144...</td>\n",
       "      <td>EMBR3</td>\n",
       "      <td>20220621</td>\n",
       "    </tr>\n",
       "    <tr>\n",
       "      <th>36</th>\n",
       "      <td>0.993263, 1.001925, 1.006737, 1.011068, 1.006...</td>\n",
       "      <td>ENBR3</td>\n",
       "      <td>20220621</td>\n",
       "    </tr>\n",
       "    <tr>\n",
       "      <th>37</th>\n",
       "      <td>0.966892, 0.972973, 0.960135, 0.952703, 0.949...</td>\n",
       "      <td>ENEV3</td>\n",
       "      <td>20220621</td>\n",
       "    </tr>\n",
       "    <tr>\n",
       "      <th>38</th>\n",
       "      <td>1.009297, 1.004082, 1.000227, 1.000000, 0.997...</td>\n",
       "      <td>ENGI11</td>\n",
       "      <td>20220621</td>\n",
       "    </tr>\n",
       "    <tr>\n",
       "      <th>39</th>\n",
       "      <td>0.944421, 0.943592, 0.938200, 0.939859, 0.936...</td>\n",
       "      <td>EQTL3</td>\n",
       "      <td>20220621</td>\n",
       "    </tr>\n",
       "  </tbody>\n",
       "</table>\n",
       "</div>"
      ],
      "text/plain": [
       "                                               campoX  ticker  diaNumPrevisao\n",
       "0    1.182655, 1.180353, 1.181888, 1.188028, 1.196...   ABEV3        20220621\n",
       "1    2.292857, 2.275000, 2.310714, 2.307143, 2.300...   AERI3        20220621\n",
       "2    1.908022, 1.909555, 1.878385, 1.869699, 1.862...   ALPA4        20220621\n",
       "3    1.228504, 1.220848, 1.216726, 1.221437, 1.216...   ALSO3        20220621\n",
       "4    1.864322, 1.849246, 1.819095, 1.829146, 1.824...   AMAR3        20220621\n",
       "5    1.595010, 1.591171, 1.571977, 1.568138, 1.556...   ANIM3        20220621\n",
       "6    1.946416, 1.928313, 1.926865, 1.929761, 1.922...   AZUL4        20220621\n",
       "7    0.993068, 0.992201, 0.988735, 0.980936, 0.986...   B3SA3        20220621\n",
       "8    0.851615, 0.850160, 0.849578, 0.853651, 0.855...   BBAS3        20220621\n",
       "9    1.012080, 1.008403, 1.002101, 1.019433, 1.016...   BBDC4        20220621\n",
       "10   0.818399, 0.820390, 0.823576, 0.826364, 0.830...   BBSE3        20220621\n",
       "11   0.825882, 0.823529, 0.827451, 0.828235, 0.824...   BEEF3        20220621\n",
       "12   0.977162, 0.973899, 0.959217, 0.960848, 0.959...   BKBR3        20220621\n",
       "13   1.028156, 1.016893, 1.013139, 1.007039, 1.008...  BPAC11        20220621\n",
       "14   1.724359, 1.714744, 1.693910, 1.681090, 1.690...   BPAN4        20220621\n",
       "15   0.933984, 0.931250, 0.934375, 0.940234, 0.935...   BRAP4        20220621\n",
       "16   1.804348, 1.820451, 1.833333, 1.831723, 1.835...   BRFS3        20220621\n",
       "17   1.569315, 1.561096, 1.559726, 1.554521, 1.579...   BRKM5        20220621\n",
       "18   1.024902, 1.018349, 1.014417, 1.015727, 1.014...   BRML3        20220621\n",
       "19   0.975689, 0.968395, 0.967585, 0.964344, 0.965...   CCRO3        20220621\n",
       "20   0.560526, 0.560526, 0.557895, 0.557895, 0.555...   CIEL3        20220621\n",
       "21   1.203327, 1.206100, 1.206100, 1.211645, 1.212...   CMIG4        20220621\n",
       "22   1.077922, 1.073593, 1.069264, 1.056277, 1.051...   COGN3        20220621\n",
       "23   0.806308, 0.803630, 0.800952, 0.800357, 0.800...   CPFE3        20220621\n",
       "24   0.897290, 0.897290, 0.898716, 0.904422, 0.900...   CPLE6        20220621\n",
       "25   0.938195, 0.942522, 0.943758, 0.945612, 0.943...   CRFB3        20220621\n",
       "26   1.156555, 1.159805, 1.152763, 1.153304, 1.143...   CSAN3        20220621\n",
       "27   1.081581, 1.084104, 1.080740, 1.084104, 1.077...   CSMG3        20220621\n",
       "28   1.468009, 1.466825, 1.464455, 1.463863, 1.457...   CSNA3        20220621\n",
       "29   1.500000, 1.491525, 1.483051, 1.467161, 1.462...   CVCB3        20220621\n",
       "30   1.257048, 1.242123, 1.237148, 1.233002, 1.233...   CYRE3        20220621\n",
       "31   1.192000, 1.177600, 1.176000, 1.164800, 1.164...   ECOR3        20220621\n",
       "32   0.920620, 0.921573, 0.921097, 0.922527, 0.920...   EGIE3        20220621\n",
       "33   0.767293, 0.763628, 0.759963, 0.762712, 0.763...   ELET3        20220621\n",
       "34   0.765006, 0.761530, 0.757126, 0.760371, 0.761...   ELET6        20220621\n",
       "35   2.097002, 2.109347, 2.105820, 2.129630, 2.144...   EMBR3        20220621\n",
       "36   0.993263, 1.001925, 1.006737, 1.011068, 1.006...   ENBR3        20220621\n",
       "37   0.966892, 0.972973, 0.960135, 0.952703, 0.949...   ENEV3        20220621\n",
       "38   1.009297, 1.004082, 1.000227, 1.000000, 0.997...  ENGI11        20220621\n",
       "39   0.944421, 0.943592, 0.938200, 0.939859, 0.936...   EQTL3        20220621"
      ]
     },
     "execution_count": 39,
     "metadata": {},
     "output_type": "execute_result"
    }
   ],
   "source": [
    "df.head(40)"
   ]
  },
  {
   "cell_type": "code",
   "execution_count": 40,
   "id": "da87d9ec",
   "metadata": {},
   "outputs": [],
   "source": [
    "def trataLinhaX(linha):\n",
    "    return np.fromstring(linha['campoX'], dtype=float, sep=',')"
   ]
  },
  {
   "cell_type": "code",
   "execution_count": 41,
   "id": "75414c41",
   "metadata": {},
   "outputs": [
    {
     "data": {
      "text/plain": [
       "(88, 1800)"
      ]
     },
     "execution_count": 41,
     "metadata": {},
     "output_type": "execute_result"
    }
   ],
   "source": [
    "dfTratadoX = df.apply(trataLinhaX, axis='columns')\n",
    "X = np.stack(dfTratadoX.values)\n",
    "X.shape"
   ]
  },
  {
   "cell_type": "code",
   "execution_count": 42,
   "id": "66632b3c",
   "metadata": {},
   "outputs": [
    {
     "data": {
      "text/plain": [
       "0    [1.182655, 1.180353, 1.181888, 1.188028, 1.196...\n",
       "1    [2.292857, 2.275, 2.310714, 2.307143, 2.3, 2.2...\n",
       "2    [1.908022, 1.909555, 1.878385, 1.869699, 1.862...\n",
       "3    [1.228504, 1.220848, 1.216726, 1.221437, 1.216...\n",
       "4    [1.864322, 1.849246, 1.819095, 1.829146, 1.824...\n",
       "dtype: object"
      ]
     },
     "execution_count": 42,
     "metadata": {},
     "output_type": "execute_result"
    }
   ],
   "source": [
    "dfTratadoX.head()"
   ]
  },
  {
   "cell_type": "code",
   "execution_count": null,
   "id": "46becfb4",
   "metadata": {},
   "outputs": [],
   "source": [
    "result = modelo.predict(X)"
   ]
  },
  {
   "cell_type": "code",
   "execution_count": null,
   "id": "31ef7d0a",
   "metadata": {},
   "outputs": [],
   "source": [
    "df['resultado'] = result\n",
    "df['redeId'] = \"1\""
   ]
  },
  {
   "cell_type": "code",
   "execution_count": null,
   "id": "15cf0217",
   "metadata": {},
   "outputs": [],
   "source": [
    "df.drop('campoX', inplace=True, axis=1)"
   ]
  },
  {
   "cell_type": "code",
   "execution_count": null,
   "id": "a1be2482",
   "metadata": {},
   "outputs": [],
   "source": [
    "json = df.to_dict(orient='list')"
   ]
  },
  {
   "cell_type": "code",
   "execution_count": null,
   "id": "9955e7c8",
   "metadata": {},
   "outputs": [],
   "source": [
    "url = 'http://vps-40d69db1.vps.ovh.ca:23005/api/PrevisaoRedes/recebePrevisao'\n",
    "\n",
    "response = requests.post(url, data=json)"
   ]
  },
  {
   "cell_type": "code",
   "execution_count": null,
   "id": "bbac64a0",
   "metadata": {},
   "outputs": [],
   "source": [
    "print(response)"
   ]
  },
  {
   "cell_type": "code",
   "execution_count": null,
   "id": "500b941b",
   "metadata": {},
   "outputs": [],
   "source": []
  }
 ],
 "metadata": {
  "kernelspec": {
   "display_name": "Python 3 (ipykernel)",
   "language": "python",
   "name": "python3"
  },
  "language_info": {
   "codemirror_mode": {
    "name": "ipython",
    "version": 3
   },
   "file_extension": ".py",
   "mimetype": "text/x-python",
   "name": "python",
   "nbconvert_exporter": "python",
   "pygments_lexer": "ipython3",
   "version": "3.8.10"
  }
 },
 "nbformat": 4,
 "nbformat_minor": 5
}
