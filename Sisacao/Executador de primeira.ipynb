{
 "cells": [
  {
   "cell_type": "code",
   "execution_count": 31,
   "id": "dd7c4f90",
   "metadata": {},
   "outputs": [],
   "source": [
    "import tensorflow as tf"
   ]
  },
  {
   "cell_type": "code",
   "execution_count": 32,
   "id": "f7ca5676",
   "metadata": {},
   "outputs": [
    {
     "name": "stdout",
     "output_type": "stream",
     "text": [
      "2.7.0\n"
     ]
    }
   ],
   "source": [
    "print(tf.__version__)"
   ]
  },
  {
   "cell_type": "code",
   "execution_count": 33,
   "id": "8c8477d0",
   "metadata": {},
   "outputs": [],
   "source": [
    "import requests\n",
    "import pandas as pd\n",
    "import numpy as np"
   ]
  },
  {
   "cell_type": "code",
   "execution_count": 34,
   "id": "11ffd6b3",
   "metadata": {},
   "outputs": [],
   "source": [
    "modelo = tf.keras.models.load_model('rede1.h5')"
   ]
  },
  {
   "cell_type": "code",
   "execution_count": 35,
   "id": "0274a703",
   "metadata": {},
   "outputs": [
    {
     "name": "stdout",
     "output_type": "stream",
     "text": [
      "Model: \"sequential\"\n",
      "_________________________________________________________________\n",
      " Layer (type)                Output Shape              Param #   \n",
      "=================================================================\n",
      " dense (Dense)               (None, 1000)              1801000   \n",
      "                                                                 \n",
      " dense_1 (Dense)             (None, 500)               500500    \n",
      "                                                                 \n",
      " dense_2 (Dense)             (None, 1)                 501       \n",
      "                                                                 \n",
      "=================================================================\n",
      "Total params: 2,302,001\n",
      "Trainable params: 2,302,001\n",
      "Non-trainable params: 0\n",
      "_________________________________________________________________\n"
     ]
    }
   ],
   "source": [
    "modelo.summary()"
   ]
  },
  {
   "cell_type": "code",
   "execution_count": 42,
   "id": "93f4e412",
   "metadata": {},
   "outputs": [],
   "source": [
    "\n",
    "\n",
    "url = \"http://vps-40d69db1.vps.ovh.ca:23004/api/ExemploTreinoAcaoEntradas/obtemPorDia?diaNum=20220530\""
   ]
  },
  {
   "cell_type": "code",
   "execution_count": 43,
   "id": "65a8af2d",
   "metadata": {},
   "outputs": [],
   "source": [
    "r = requests.get(url)\n",
    "j = r.json()\n",
    "df = pd.DataFrame.from_dict(j)"
   ]
  },
  {
   "cell_type": "code",
   "execution_count": 44,
   "id": "dd23616d",
   "metadata": {},
   "outputs": [
    {
     "data": {
      "text/html": [
       "<div>\n",
       "<style scoped>\n",
       "    .dataframe tbody tr th:only-of-type {\n",
       "        vertical-align: middle;\n",
       "    }\n",
       "\n",
       "    .dataframe tbody tr th {\n",
       "        vertical-align: top;\n",
       "    }\n",
       "\n",
       "    .dataframe thead th {\n",
       "        text-align: right;\n",
       "    }\n",
       "</style>\n",
       "<table border=\"1\" class=\"dataframe\">\n",
       "  <thead>\n",
       "    <tr style=\"text-align: right;\">\n",
       "      <th></th>\n",
       "      <th>campoX</th>\n",
       "      <th>ticker</th>\n",
       "    </tr>\n",
       "  </thead>\n",
       "  <tbody>\n",
       "    <tr>\n",
       "      <th>0</th>\n",
       "      <td>1.130710, 1.122980, 1.120169, 1.120169, 1.132...</td>\n",
       "      <td>ABEV3</td>\n",
       "    </tr>\n",
       "    <tr>\n",
       "      <th>1</th>\n",
       "      <td>2.112299, 2.112299, 2.101604, 2.106952, 2.112...</td>\n",
       "      <td>AERI3</td>\n",
       "    </tr>\n",
       "    <tr>\n",
       "      <th>2</th>\n",
       "      <td>1.698991, 1.657306, 1.678806, 1.668714, 1.673...</td>\n",
       "      <td>ALPA4</td>\n",
       "    </tr>\n",
       "    <tr>\n",
       "      <th>3</th>\n",
       "      <td>1.033316, 1.010411, 1.023946, 1.028110, 1.034...</td>\n",
       "      <td>ALSO3</td>\n",
       "    </tr>\n",
       "    <tr>\n",
       "      <th>4</th>\n",
       "      <td>1.395257, 1.367589, 1.375494, 1.375494, 1.391...</td>\n",
       "      <td>AMAR3</td>\n",
       "    </tr>\n",
       "  </tbody>\n",
       "</table>\n",
       "</div>"
      ],
      "text/plain": [
       "                                              campoX ticker\n",
       "0   1.130710, 1.122980, 1.120169, 1.120169, 1.132...  ABEV3\n",
       "1   2.112299, 2.112299, 2.101604, 2.106952, 2.112...  AERI3\n",
       "2   1.698991, 1.657306, 1.678806, 1.668714, 1.673...  ALPA4\n",
       "3   1.033316, 1.010411, 1.023946, 1.028110, 1.034...  ALSO3\n",
       "4   1.395257, 1.367589, 1.375494, 1.375494, 1.391...  AMAR3"
      ]
     },
     "execution_count": 44,
     "metadata": {},
     "output_type": "execute_result"
    }
   ],
   "source": [
    "df.head()"
   ]
  },
  {
   "cell_type": "code",
   "execution_count": 45,
   "id": "da87d9ec",
   "metadata": {},
   "outputs": [],
   "source": [
    "def trataLinhaX(linha):\n",
    "    return np.fromstring(linha['campoX'], dtype=float, sep=',')"
   ]
  },
  {
   "cell_type": "code",
   "execution_count": 46,
   "id": "75414c41",
   "metadata": {},
   "outputs": [
    {
     "data": {
      "text/plain": [
       "(88, 1800)"
      ]
     },
     "execution_count": 46,
     "metadata": {},
     "output_type": "execute_result"
    }
   ],
   "source": [
    "dfTratadoX = df.apply(trataLinhaX, axis='columns')\n",
    "X = np.stack(dfTratadoX.values)\n",
    "X.shape"
   ]
  },
  {
   "cell_type": "code",
   "execution_count": 48,
   "id": "46becfb4",
   "metadata": {},
   "outputs": [],
   "source": [
    "result = modelo.predict(X)"
   ]
  },
  {
   "cell_type": "code",
   "execution_count": 49,
   "id": "badbb667",
   "metadata": {},
   "outputs": [
    {
     "data": {
      "text/plain": [
       "numpy.ndarray"
      ]
     },
     "execution_count": 49,
     "metadata": {},
     "output_type": "execute_result"
    }
   ],
   "source": [
    "type(result)"
   ]
  },
  {
   "cell_type": "code",
   "execution_count": 54,
   "id": "31ef7d0a",
   "metadata": {},
   "outputs": [],
   "source": [
    "df['resultado'] = result"
   ]
  },
  {
   "cell_type": "code",
   "execution_count": 57,
   "id": "8e94b69c",
   "metadata": {},
   "outputs": [
    {
     "data": {
      "text/html": [
       "<div>\n",
       "<style scoped>\n",
       "    .dataframe tbody tr th:only-of-type {\n",
       "        vertical-align: middle;\n",
       "    }\n",
       "\n",
       "    .dataframe tbody tr th {\n",
       "        vertical-align: top;\n",
       "    }\n",
       "\n",
       "    .dataframe thead th {\n",
       "        text-align: right;\n",
       "    }\n",
       "</style>\n",
       "<table border=\"1\" class=\"dataframe\">\n",
       "  <thead>\n",
       "    <tr style=\"text-align: right;\">\n",
       "      <th></th>\n",
       "      <th>ticker</th>\n",
       "      <th>resultado</th>\n",
       "    </tr>\n",
       "  </thead>\n",
       "  <tbody>\n",
       "    <tr>\n",
       "      <th>0</th>\n",
       "      <td>ABEV3</td>\n",
       "      <td>0.160397</td>\n",
       "    </tr>\n",
       "    <tr>\n",
       "      <th>1</th>\n",
       "      <td>AERI3</td>\n",
       "      <td>0.239546</td>\n",
       "    </tr>\n",
       "    <tr>\n",
       "      <th>2</th>\n",
       "      <td>ALPA4</td>\n",
       "      <td>0.352048</td>\n",
       "    </tr>\n",
       "    <tr>\n",
       "      <th>3</th>\n",
       "      <td>ALSO3</td>\n",
       "      <td>0.128953</td>\n",
       "    </tr>\n",
       "    <tr>\n",
       "      <th>4</th>\n",
       "      <td>AMAR3</td>\n",
       "      <td>0.292051</td>\n",
       "    </tr>\n",
       "  </tbody>\n",
       "</table>\n",
       "</div>"
      ],
      "text/plain": [
       "  ticker  resultado\n",
       "0  ABEV3   0.160397\n",
       "1  AERI3   0.239546\n",
       "2  ALPA4   0.352048\n",
       "3  ALSO3   0.128953\n",
       "4  AMAR3   0.292051"
      ]
     },
     "execution_count": 57,
     "metadata": {},
     "output_type": "execute_result"
    }
   ],
   "source": [
    "df.head()"
   ]
  },
  {
   "cell_type": "code",
   "execution_count": 56,
   "id": "15cf0217",
   "metadata": {},
   "outputs": [],
   "source": [
    "df.drop('campoX', inplace=True, axis=1)"
   ]
  },
  {
   "cell_type": "code",
   "execution_count": 58,
   "id": "a1be2482",
   "metadata": {},
   "outputs": [],
   "source": [
    "json = df.to_json()"
   ]
  },
  {
   "cell_type": "code",
   "execution_count": 59,
   "id": "4dae4792",
   "metadata": {},
   "outputs": [
    {
     "name": "stdout",
     "output_type": "stream",
     "text": [
      "{\"ticker\":{\"0\":\"ABEV3\",\"1\":\"AERI3\",\"2\":\"ALPA4\",\"3\":\"ALSO3\",\"4\":\"AMAR3\",\"5\":\"ANIM3\",\"6\":\"AZUL4\",\"7\":\"B3SA3\",\"8\":\"BBAS3\",\"9\":\"BBDC4\",\"10\":\"BBSE3\",\"11\":\"BEEF3\",\"12\":\"BKBR3\",\"13\":\"BPAC11\",\"14\":\"BPAN4\",\"15\":\"BRAP4\",\"16\":\"BRFS3\",\"17\":\"BRKM5\",\"18\":\"BRML3\",\"19\":\"CCRO3\",\"20\":\"CIEL3\",\"21\":\"CMIG4\",\"22\":\"COGN3\",\"23\":\"CPFE3\",\"24\":\"CPLE6\",\"25\":\"CRFB3\",\"26\":\"CSAN3\",\"27\":\"CSMG3\",\"28\":\"CSNA3\",\"29\":\"CVCB3\",\"30\":\"CYRE3\",\"31\":\"ECOR3\",\"32\":\"EGIE3\",\"33\":\"ELET3\",\"34\":\"ELET6\",\"35\":\"EMBR3\",\"36\":\"ENBR3\",\"37\":\"ENEV3\",\"38\":\"ENGI11\",\"39\":\"EQTL3\",\"40\":\"EZTC3\",\"41\":\"FLRY3\",\"42\":\"GGBR4\",\"43\":\"GOAU4\",\"44\":\"GOLL4\",\"45\":\"HAPV3\",\"46\":\"HYPE3\",\"47\":\"ITUB4\",\"48\":\"JBSS3\",\"49\":\"JHSF3\",\"50\":\"KLBN11\",\"51\":\"LCAM3\",\"52\":\"LIGT3\",\"53\":\"LREN3\",\"54\":\"LWSA3\",\"55\":\"MGLU3\",\"56\":\"MOVI3\",\"57\":\"MRFG3\",\"58\":\"MRVE3\",\"59\":\"MULT3\",\"60\":\"MYPK3\",\"61\":\"NEOE3\",\"62\":\"NTCO3\",\"63\":\"PCAR3\",\"64\":\"PETR4\",\"65\":\"POSI3\",\"66\":\"PRIO3\",\"67\":\"PTBL3\",\"68\":\"QUAL3\",\"69\":\"RADL3\",\"70\":\"RAIL3\",\"71\":\"RAPT4\",\"72\":\"RENT3\",\"73\":\"SANB11\",\"74\":\"SBSP3\",\"75\":\"SLCE3\",\"76\":\"SMTO3\",\"77\":\"STBP3\",\"78\":\"SULA11\",\"79\":\"SUZB3\",\"80\":\"TAEE11\",\"81\":\"TOTS3\",\"82\":\"UGPA3\",\"83\":\"USIM5\",\"84\":\"VALE3\",\"85\":\"WEGE3\",\"86\":\"WIZS3\",\"87\":\"YDUQ3\"},\"resultado\":{\"0\":0.1603969038,\"1\":0.2395460308,\"2\":0.3520480394,\"3\":0.1289526224,\"4\":0.2920513153,\"5\":0.2501277328,\"6\":0.1805996001,\"7\":0.1102133989,\"8\":0.1314558685,\"9\":0.1769338548,\"10\":0.1098702252,\"11\":0.121389538,\"12\":0.1504676342,\"13\":0.1203092337,\"14\":0.1667309701,\"15\":0.1769917905,\"16\":0.3695010841,\"17\":0.2606227994,\"18\":0.1078335047,\"19\":0.1294156909,\"20\":0.1122741401,\"21\":0.1279902458,\"22\":0.1334548295,\"23\":0.1022697091,\"24\":0.1234816313,\"25\":0.0843240321,\"26\":0.1661168635,\"27\":0.1270605922,\"28\":0.2106087804,\"29\":0.1101166308,\"30\":0.1395902336,\"31\":0.1880444586,\"32\":0.1290832758,\"33\":0.1229274571,\"34\":0.1222960353,\"35\":0.3480782807,\"36\":0.1382414401,\"37\":0.1547013819,\"38\":0.1123371124,\"39\":0.1131298542,\"40\":0.2048665583,\"41\":0.2083318532,\"42\":0.1564281285,\"43\":0.1636815965,\"44\":0.1829293966,\"45\":0.1449225843,\"46\":0.1087635458,\"47\":0.134206742,\"48\":0.1366047561,\"49\":0.1198776066,\"50\":0.2039270401,\"51\":0.1478215754,\"52\":0.1973040402,\"53\":0.1509415507,\"54\":0.314548552,\"55\":0.2097934783,\"56\":0.1366015673,\"57\":0.1978258789,\"58\":0.1582829952,\"59\":0.0995770991,\"60\":0.2123581767,\"61\":0.1271322072,\"62\":0.1939192116,\"63\":0.1223433018,\"64\":0.117433399,\"65\":0.1952511966,\"66\":0.1305118799,\"67\":0.1500963867,\"68\":0.1882879138,\"69\":0.1712973714,\"70\":0.1555682421,\"71\":0.1531719565,\"72\":0.1428595483,\"73\":0.1399430335,\"74\":0.1175705492,\"75\":0.1259566844,\"76\":0.1155759096,\"77\":0.1180751026,\"78\":0.1246313453,\"79\":0.2124183178,\"80\":0.0991351306,\"81\":0.0988272429,\"82\":0.1646112502,\"83\":0.2431687117,\"84\":0.1452568173,\"85\":0.151450187,\"86\":0.161542505,\"87\":0.212025106}}\n"
     ]
    }
   ],
   "source": [
    "print(json)"
   ]
  },
  {
   "cell_type": "code",
   "execution_count": 60,
   "id": "9955e7c8",
   "metadata": {},
   "outputs": [],
   "source": [
    "url = 'https://www.w3schools.com/python/demopage.php'\n",
    "x = requests.post(url, data = json)"
   ]
  },
  {
   "cell_type": "markdown",
   "id": "6f4c5162",
   "metadata": {},
   "source": [
    "## Experiencias"
   ]
  },
  {
   "cell_type": "code",
   "execution_count": null,
   "id": "56277ae7",
   "metadata": {},
   "outputs": [],
   "source": []
  },
  {
   "cell_type": "code",
   "execution_count": null,
   "id": "4603a6f4",
   "metadata": {},
   "outputs": [],
   "source": []
  },
  {
   "cell_type": "code",
   "execution_count": 50,
   "id": "c481670e",
   "metadata": {},
   "outputs": [
    {
     "data": {
      "text/html": [
       "<div>\n",
       "<style scoped>\n",
       "    .dataframe tbody tr th:only-of-type {\n",
       "        vertical-align: middle;\n",
       "    }\n",
       "\n",
       "    .dataframe tbody tr th {\n",
       "        vertical-align: top;\n",
       "    }\n",
       "\n",
       "    .dataframe thead th {\n",
       "        text-align: right;\n",
       "    }\n",
       "</style>\n",
       "<table border=\"1\" class=\"dataframe\">\n",
       "  <thead>\n",
       "    <tr style=\"text-align: right;\">\n",
       "      <th></th>\n",
       "      <th>campoX</th>\n",
       "    </tr>\n",
       "    <tr>\n",
       "      <th>ticker</th>\n",
       "      <th></th>\n",
       "    </tr>\n",
       "  </thead>\n",
       "  <tbody>\n",
       "    <tr>\n",
       "      <th>ABEV3</th>\n",
       "      <td>1.130710, 1.122980, 1.120169, 1.120169, 1.132...</td>\n",
       "    </tr>\n",
       "    <tr>\n",
       "      <th>AERI3</th>\n",
       "      <td>2.112299, 2.112299, 2.101604, 2.106952, 2.112...</td>\n",
       "    </tr>\n",
       "    <tr>\n",
       "      <th>ALPA4</th>\n",
       "      <td>1.698991, 1.657306, 1.678806, 1.668714, 1.673...</td>\n",
       "    </tr>\n",
       "    <tr>\n",
       "      <th>ALSO3</th>\n",
       "      <td>1.033316, 1.010411, 1.023946, 1.028110, 1.034...</td>\n",
       "    </tr>\n",
       "    <tr>\n",
       "      <th>AMAR3</th>\n",
       "      <td>1.395257, 1.367589, 1.375494, 1.375494, 1.391...</td>\n",
       "    </tr>\n",
       "  </tbody>\n",
       "</table>\n",
       "</div>"
      ],
      "text/plain": [
       "                                                   campoX\n",
       "ticker                                                   \n",
       "ABEV3    1.130710, 1.122980, 1.120169, 1.120169, 1.132...\n",
       "AERI3    2.112299, 2.112299, 2.101604, 2.106952, 2.112...\n",
       "ALPA4    1.698991, 1.657306, 1.678806, 1.668714, 1.673...\n",
       "ALSO3    1.033316, 1.010411, 1.023946, 1.028110, 1.034...\n",
       "AMAR3    1.395257, 1.367589, 1.375494, 1.375494, 1.391..."
      ]
     },
     "execution_count": 50,
     "metadata": {},
     "output_type": "execute_result"
    }
   ],
   "source": [
    "dfTicker = df.set_index('ticker')\n",
    "dfTicker.head()"
   ]
  },
  {
   "cell_type": "code",
   "execution_count": 51,
   "id": "0d1c2903",
   "metadata": {},
   "outputs": [],
   "source": [
    "dfTratadoX = dfTicker.apply(trataLinhaX, axis='columns')"
   ]
  },
  {
   "cell_type": "code",
   "execution_count": 52,
   "id": "913ccb93",
   "metadata": {},
   "outputs": [
    {
     "data": {
      "text/plain": [
       "ticker\n",
       "ABEV3    [1.13071, 1.12298, 1.120169, 1.120169, 1.13211...\n",
       "AERI3    [2.112299, 2.112299, 2.101604, 2.106952, 2.112...\n",
       "ALPA4    [1.698991, 1.657306, 1.678806, 1.668714, 1.673...\n",
       "ALSO3    [1.033316, 1.010411, 1.023946, 1.02811, 1.0348...\n",
       "AMAR3    [1.395257, 1.367589, 1.375494, 1.375494, 1.391...\n",
       "dtype: object"
      ]
     },
     "execution_count": 52,
     "metadata": {},
     "output_type": "execute_result"
    }
   ],
   "source": [
    "dfTratadoX.head()"
   ]
  },
  {
   "cell_type": "code",
   "execution_count": 53,
   "id": "f95a24d6",
   "metadata": {},
   "outputs": [
    {
     "ename": "ValueError",
     "evalue": "Failed to convert a NumPy array to a Tensor (Unsupported object type numpy.ndarray).",
     "output_type": "error",
     "traceback": [
      "\u001b[0;31m---------------------------------------------------------------------------\u001b[0m",
      "\u001b[0;31mValueError\u001b[0m                                Traceback (most recent call last)",
      "\u001b[0;32m/tmp/ipykernel_1713941/798020800.py\u001b[0m in \u001b[0;36m<module>\u001b[0;34m\u001b[0m\n\u001b[0;32m----> 1\u001b[0;31m \u001b[0mresult\u001b[0m \u001b[0;34m=\u001b[0m \u001b[0mmodelo\u001b[0m\u001b[0;34m.\u001b[0m\u001b[0mpredict\u001b[0m\u001b[0;34m(\u001b[0m\u001b[0mdfTratadoX\u001b[0m\u001b[0;34m)\u001b[0m\u001b[0;34m\u001b[0m\u001b[0;34m\u001b[0m\u001b[0m\n\u001b[0m",
      "\u001b[0;32m/usr/local/lib/python3.8/dist-packages/keras/utils/traceback_utils.py\u001b[0m in \u001b[0;36merror_handler\u001b[0;34m(*args, **kwargs)\u001b[0m\n\u001b[1;32m     65\u001b[0m     \u001b[0;32mexcept\u001b[0m \u001b[0mException\u001b[0m \u001b[0;32mas\u001b[0m \u001b[0me\u001b[0m\u001b[0;34m:\u001b[0m  \u001b[0;31m# pylint: disable=broad-except\u001b[0m\u001b[0;34m\u001b[0m\u001b[0;34m\u001b[0m\u001b[0m\n\u001b[1;32m     66\u001b[0m       \u001b[0mfiltered_tb\u001b[0m \u001b[0;34m=\u001b[0m \u001b[0m_process_traceback_frames\u001b[0m\u001b[0;34m(\u001b[0m\u001b[0me\u001b[0m\u001b[0;34m.\u001b[0m\u001b[0m__traceback__\u001b[0m\u001b[0;34m)\u001b[0m\u001b[0;34m\u001b[0m\u001b[0;34m\u001b[0m\u001b[0m\n\u001b[0;32m---> 67\u001b[0;31m       \u001b[0;32mraise\u001b[0m \u001b[0me\u001b[0m\u001b[0;34m.\u001b[0m\u001b[0mwith_traceback\u001b[0m\u001b[0;34m(\u001b[0m\u001b[0mfiltered_tb\u001b[0m\u001b[0;34m)\u001b[0m \u001b[0;32mfrom\u001b[0m \u001b[0;32mNone\u001b[0m\u001b[0;34m\u001b[0m\u001b[0;34m\u001b[0m\u001b[0m\n\u001b[0m\u001b[1;32m     68\u001b[0m     \u001b[0;32mfinally\u001b[0m\u001b[0;34m:\u001b[0m\u001b[0;34m\u001b[0m\u001b[0;34m\u001b[0m\u001b[0m\n\u001b[1;32m     69\u001b[0m       \u001b[0;32mdel\u001b[0m \u001b[0mfiltered_tb\u001b[0m\u001b[0;34m\u001b[0m\u001b[0;34m\u001b[0m\u001b[0m\n",
      "\u001b[0;32m/usr/local/lib/python3.8/dist-packages/tensorflow/python/framework/constant_op.py\u001b[0m in \u001b[0;36mconvert_to_eager_tensor\u001b[0;34m(value, ctx, dtype)\u001b[0m\n\u001b[1;32m    104\u001b[0m       \u001b[0mdtype\u001b[0m \u001b[0;34m=\u001b[0m \u001b[0mdtypes\u001b[0m\u001b[0;34m.\u001b[0m\u001b[0mas_dtype\u001b[0m\u001b[0;34m(\u001b[0m\u001b[0mdtype\u001b[0m\u001b[0;34m)\u001b[0m\u001b[0;34m.\u001b[0m\u001b[0mas_datatype_enum\u001b[0m\u001b[0;34m\u001b[0m\u001b[0;34m\u001b[0m\u001b[0m\n\u001b[1;32m    105\u001b[0m   \u001b[0mctx\u001b[0m\u001b[0;34m.\u001b[0m\u001b[0mensure_initialized\u001b[0m\u001b[0;34m(\u001b[0m\u001b[0;34m)\u001b[0m\u001b[0;34m\u001b[0m\u001b[0;34m\u001b[0m\u001b[0m\n\u001b[0;32m--> 106\u001b[0;31m   \u001b[0;32mreturn\u001b[0m \u001b[0mops\u001b[0m\u001b[0;34m.\u001b[0m\u001b[0mEagerTensor\u001b[0m\u001b[0;34m(\u001b[0m\u001b[0mvalue\u001b[0m\u001b[0;34m,\u001b[0m \u001b[0mctx\u001b[0m\u001b[0;34m.\u001b[0m\u001b[0mdevice_name\u001b[0m\u001b[0;34m,\u001b[0m \u001b[0mdtype\u001b[0m\u001b[0;34m)\u001b[0m\u001b[0;34m\u001b[0m\u001b[0;34m\u001b[0m\u001b[0m\n\u001b[0m\u001b[1;32m    107\u001b[0m \u001b[0;34m\u001b[0m\u001b[0m\n\u001b[1;32m    108\u001b[0m \u001b[0;34m\u001b[0m\u001b[0m\n",
      "\u001b[0;31mValueError\u001b[0m: Failed to convert a NumPy array to a Tensor (Unsupported object type numpy.ndarray)."
     ]
    }
   ],
   "source": [
    "result = modelo.predict(dfTratadoX)"
   ]
  },
  {
   "cell_type": "code",
   "execution_count": null,
   "id": "e8d7a87f",
   "metadata": {},
   "outputs": [],
   "source": []
  }
 ],
 "metadata": {
  "kernelspec": {
   "display_name": "Python 3 (ipykernel)",
   "language": "python",
   "name": "python3"
  },
  "language_info": {
   "codemirror_mode": {
    "name": "ipython",
    "version": 3
   },
   "file_extension": ".py",
   "mimetype": "text/x-python",
   "name": "python",
   "nbconvert_exporter": "python",
   "pygments_lexer": "ipython3",
   "version": "3.8.10"
  }
 },
 "nbformat": 4,
 "nbformat_minor": 5
}
