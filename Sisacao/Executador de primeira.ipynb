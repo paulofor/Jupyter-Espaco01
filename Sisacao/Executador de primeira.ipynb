{
 "cells": [
  {
   "cell_type": "code",
   "execution_count": 1,
   "id": "dd7c4f90",
   "metadata": {},
   "outputs": [
    {
     "name": "stderr",
     "output_type": "stream",
     "text": [
      "2022-06-10 10:52:30.086096: W tensorflow/stream_executor/platform/default/dso_loader.cc:64] Could not load dynamic library 'libcudart.so.11.0'; dlerror: libcudart.so.11.0: cannot open shared object file: No such file or directory\n",
      "2022-06-10 10:52:30.086166: I tensorflow/stream_executor/cuda/cudart_stub.cc:29] Ignore above cudart dlerror if you do not have a GPU set up on your machine.\n"
     ]
    }
   ],
   "source": [
    "import tensorflow as tf"
   ]
  },
  {
   "cell_type": "code",
   "execution_count": 2,
   "id": "f7ca5676",
   "metadata": {},
   "outputs": [
    {
     "name": "stdout",
     "output_type": "stream",
     "text": [
      "2.7.0\n"
     ]
    }
   ],
   "source": [
    "print(tf.__version__)"
   ]
  },
  {
   "cell_type": "code",
   "execution_count": 3,
   "id": "8c8477d0",
   "metadata": {},
   "outputs": [],
   "source": [
    "import requests\n",
    "import pandas as pd\n",
    "import numpy as np"
   ]
  },
  {
   "cell_type": "code",
   "execution_count": 20,
   "id": "11ffd6b3",
   "metadata": {},
   "outputs": [],
   "source": [
    "modelo = tf.keras.models.load_model('rede2.h5')"
   ]
  },
  {
   "cell_type": "code",
   "execution_count": 21,
   "id": "0274a703",
   "metadata": {},
   "outputs": [
    {
     "name": "stdout",
     "output_type": "stream",
     "text": [
      "Model: \"sequential\"\n",
      "_________________________________________________________________\n",
      " Layer (type)                Output Shape              Param #   \n",
      "=================================================================\n",
      " dense (Dense)               (None, 1800)              3241800   \n",
      "                                                                 \n",
      " dense_1 (Dense)             (None, 1400)              2521400   \n",
      "                                                                 \n",
      " dense_2 (Dense)             (None, 1000)              1401000   \n",
      "                                                                 \n",
      " dense_3 (Dense)             (None, 600)               600600    \n",
      "                                                                 \n",
      " dense_4 (Dense)             (None, 200)               120200    \n",
      "                                                                 \n",
      " dense_5 (Dense)             (None, 1)                 201       \n",
      "                                                                 \n",
      "=================================================================\n",
      "Total params: 7,885,201\n",
      "Trainable params: 7,885,201\n",
      "Non-trainable params: 0\n",
      "_________________________________________________________________\n"
     ]
    }
   ],
   "source": [
    "modelo.summary()"
   ]
  },
  {
   "cell_type": "code",
   "execution_count": 49,
   "id": "93f4e412",
   "metadata": {},
   "outputs": [],
   "source": [
    "url = \"http://vps-40d69db1.vps.ovh.ca:23005/api/ExemploTreinoAcaoEntradas/obtemPorDia?diaNum=20220622\""
   ]
  },
  {
   "cell_type": "code",
   "execution_count": 50,
   "id": "65a8af2d",
   "metadata": {},
   "outputs": [],
   "source": [
    "r = requests.get(url)\n",
    "j = r.json()\n",
    "df = pd.DataFrame.from_dict(j)"
   ]
  },
  {
   "cell_type": "code",
   "execution_count": 51,
   "id": "dd23616d",
   "metadata": {},
   "outputs": [
    {
     "data": {
      "text/html": [
       "<div>\n",
       "<style scoped>\n",
       "    .dataframe tbody tr th:only-of-type {\n",
       "        vertical-align: middle;\n",
       "    }\n",
       "\n",
       "    .dataframe tbody tr th {\n",
       "        vertical-align: top;\n",
       "    }\n",
       "\n",
       "    .dataframe thead th {\n",
       "        text-align: right;\n",
       "    }\n",
       "</style>\n",
       "<table border=\"1\" class=\"dataframe\">\n",
       "  <thead>\n",
       "    <tr style=\"text-align: right;\">\n",
       "      <th></th>\n",
       "      <th>campoX</th>\n",
       "      <th>ticker</th>\n",
       "      <th>diaNumPrevisao</th>\n",
       "    </tr>\n",
       "  </thead>\n",
       "  <tbody>\n",
       "    <tr>\n",
       "      <th>0</th>\n",
       "      <td>1.176248, 1.181543, 1.178517, 1.173979, 1.175...</td>\n",
       "      <td>ABEV3</td>\n",
       "      <td>20220622</td>\n",
       "    </tr>\n",
       "    <tr>\n",
       "      <th>1</th>\n",
       "      <td>2.180887, 2.262799, 2.279863, 2.255973, 2.290...</td>\n",
       "      <td>AERI3</td>\n",
       "      <td>20220622</td>\n",
       "    </tr>\n",
       "    <tr>\n",
       "      <th>2</th>\n",
       "      <td>1.837104, 1.859226, 1.861740, 1.853193, 1.844...</td>\n",
       "      <td>ALPA4</td>\n",
       "      <td>20220622</td>\n",
       "    </tr>\n",
       "    <tr>\n",
       "      <th>3</th>\n",
       "      <td>1.218713, 1.250894, 1.241359, 1.240763, 1.228...</td>\n",
       "      <td>ALSO3</td>\n",
       "      <td>20220622</td>\n",
       "    </tr>\n",
       "    <tr>\n",
       "      <th>4</th>\n",
       "      <td>1.857143, 1.887755, 1.943878, 1.928571, 1.913...</td>\n",
       "      <td>AMAR3</td>\n",
       "      <td>20220622</td>\n",
       "    </tr>\n",
       "    <tr>\n",
       "      <th>5</th>\n",
       "      <td>1.589942, 1.599613, 1.617021, 1.605416, 1.595...</td>\n",
       "      <td>ANIM3</td>\n",
       "      <td>20220622</td>\n",
       "    </tr>\n",
       "    <tr>\n",
       "      <th>6</th>\n",
       "      <td>1.954210, 1.934269, 1.931315, 1.926883, 1.930...</td>\n",
       "      <td>AZUL4</td>\n",
       "      <td>20220622</td>\n",
       "    </tr>\n",
       "    <tr>\n",
       "      <th>7</th>\n",
       "      <td>0.984429, 0.977509, 0.978374, 0.972318, 0.986...</td>\n",
       "      <td>B3SA3</td>\n",
       "      <td>20220622</td>\n",
       "    </tr>\n",
       "    <tr>\n",
       "      <th>8</th>\n",
       "      <td>0.883580, 0.890535, 0.890535, 0.883278, 0.886...</td>\n",
       "      <td>BBAS3</td>\n",
       "      <td>20220622</td>\n",
       "    </tr>\n",
       "    <tr>\n",
       "      <th>9</th>\n",
       "      <td>1.030530, 1.035886, 1.033744, 1.028923, 1.039...</td>\n",
       "      <td>BBDC4</td>\n",
       "      <td>20220622</td>\n",
       "    </tr>\n",
       "    <tr>\n",
       "      <th>10</th>\n",
       "      <td>0.811172, 0.817860, 0.819434, 0.815500, 0.818...</td>\n",
       "      <td>BBSE3</td>\n",
       "      <td>20220622</td>\n",
       "    </tr>\n",
       "    <tr>\n",
       "      <th>11</th>\n",
       "      <td>0.830442, 0.826498, 0.821767, 0.820978, 0.817...</td>\n",
       "      <td>BEEF3</td>\n",
       "      <td>20220622</td>\n",
       "    </tr>\n",
       "    <tr>\n",
       "      <th>12</th>\n",
       "      <td>1.001698, 1.025467, 1.059423, 1.047538, 1.039...</td>\n",
       "      <td>BKBR3</td>\n",
       "      <td>20220622</td>\n",
       "    </tr>\n",
       "    <tr>\n",
       "      <th>13</th>\n",
       "      <td>0.989391, 1.005535, 0.997232, 0.983395, 0.988...</td>\n",
       "      <td>BPAC11</td>\n",
       "      <td>20220622</td>\n",
       "    </tr>\n",
       "    <tr>\n",
       "      <th>14</th>\n",
       "      <td>1.695312, 1.735938, 1.700000, 1.689063, 1.679...</td>\n",
       "      <td>BPAN4</td>\n",
       "      <td>20220622</td>\n",
       "    </tr>\n",
       "    <tr>\n",
       "      <th>15</th>\n",
       "      <td>0.923106, 0.927720, 0.936178, 0.932718, 0.936...</td>\n",
       "      <td>BRAP4</td>\n",
       "      <td>20220622</td>\n",
       "    </tr>\n",
       "    <tr>\n",
       "      <th>16</th>\n",
       "      <td>1.811049, 1.812650, 1.805444, 1.798239, 1.791...</td>\n",
       "      <td>BRFS3</td>\n",
       "      <td>20220622</td>\n",
       "    </tr>\n",
       "    <tr>\n",
       "      <th>17</th>\n",
       "      <td>1.534584, 1.527614, 1.534316, 1.532708, 1.538...</td>\n",
       "      <td>BRKM5</td>\n",
       "      <td>20220622</td>\n",
       "    </tr>\n",
       "    <tr>\n",
       "      <th>18</th>\n",
       "      <td>1.015769, 1.052562, 1.049934, 1.049934, 1.028...</td>\n",
       "      <td>BRML3</td>\n",
       "      <td>20220622</td>\n",
       "    </tr>\n",
       "    <tr>\n",
       "      <th>19</th>\n",
       "      <td>0.949045, 0.957006, 0.950637, 0.940287, 0.941...</td>\n",
       "      <td>CCRO3</td>\n",
       "      <td>20220622</td>\n",
       "    </tr>\n",
       "    <tr>\n",
       "      <th>20</th>\n",
       "      <td>0.544987, 0.570694, 0.570694, 0.565553, 0.557...</td>\n",
       "      <td>CIEL3</td>\n",
       "      <td>20220622</td>\n",
       "    </tr>\n",
       "    <tr>\n",
       "      <th>21</th>\n",
       "      <td>1.219012, 1.225536, 1.219944, 1.212488, 1.219...</td>\n",
       "      <td>CMIG4</td>\n",
       "      <td>20220622</td>\n",
       "    </tr>\n",
       "    <tr>\n",
       "      <th>22</th>\n",
       "      <td>1.090498, 1.108597, 1.108597, 1.095023, 1.081...</td>\n",
       "      <td>COGN3</td>\n",
       "      <td>20220622</td>\n",
       "    </tr>\n",
       "    <tr>\n",
       "      <th>23</th>\n",
       "      <td>0.826047, 0.830665, 0.829126, 0.822044, 0.825...</td>\n",
       "      <td>CPFE3</td>\n",
       "      <td>20220622</td>\n",
       "    </tr>\n",
       "    <tr>\n",
       "      <th>24</th>\n",
       "      <td>0.913295, 0.927746, 0.927746, 0.921965, 0.926...</td>\n",
       "      <td>CPLE6</td>\n",
       "      <td>20220622</td>\n",
       "    </tr>\n",
       "    <tr>\n",
       "      <th>25</th>\n",
       "      <td>0.941860, 0.947368, 0.948592, 0.943084, 0.942...</td>\n",
       "      <td>CRFB3</td>\n",
       "      <td>20220622</td>\n",
       "    </tr>\n",
       "    <tr>\n",
       "      <th>26</th>\n",
       "      <td>1.141392, 1.154884, 1.152186, 1.150027, 1.153...</td>\n",
       "      <td>CSAN3</td>\n",
       "      <td>20220622</td>\n",
       "    </tr>\n",
       "    <tr>\n",
       "      <th>27</th>\n",
       "      <td>1.081425, 1.087362, 1.088210, 1.078880, 1.080...</td>\n",
       "      <td>CSMG3</td>\n",
       "      <td>20220622</td>\n",
       "    </tr>\n",
       "    <tr>\n",
       "      <th>28</th>\n",
       "      <td>1.469011, 1.449344, 1.470203, 1.464243, 1.466...</td>\n",
       "      <td>CSNA3</td>\n",
       "      <td>20220622</td>\n",
       "    </tr>\n",
       "    <tr>\n",
       "      <th>29</th>\n",
       "      <td>1.462845, 1.476645, 1.478769, 1.449045, 1.453...</td>\n",
       "      <td>CVCB3</td>\n",
       "      <td>20220622</td>\n",
       "    </tr>\n",
       "    <tr>\n",
       "      <th>30</th>\n",
       "      <td>1.253942, 1.287137, 1.313693, 1.283817, 1.266...</td>\n",
       "      <td>CYRE3</td>\n",
       "      <td>20220622</td>\n",
       "    </tr>\n",
       "    <tr>\n",
       "      <th>31</th>\n",
       "      <td>1.163233, 1.163233, 1.156894, 1.145800, 1.141...</td>\n",
       "      <td>ECOR3</td>\n",
       "      <td>20220622</td>\n",
       "    </tr>\n",
       "    <tr>\n",
       "      <th>32</th>\n",
       "      <td>0.922783, 0.930911, 0.930433, 0.925173, 0.927...</td>\n",
       "      <td>EGIE3</td>\n",
       "      <td>20220622</td>\n",
       "    </tr>\n",
       "    <tr>\n",
       "      <th>33</th>\n",
       "      <td>0.754482, 0.758112, 0.757885, 0.751305, 0.754...</td>\n",
       "      <td>ELET3</td>\n",
       "      <td>20220622</td>\n",
       "    </tr>\n",
       "    <tr>\n",
       "      <th>34</th>\n",
       "      <td>0.749254, 0.753843, 0.754990, 0.749713, 0.754...</td>\n",
       "      <td>ELET6</td>\n",
       "      <td>20220622</td>\n",
       "    </tr>\n",
       "    <tr>\n",
       "      <th>35</th>\n",
       "      <td>2.084760, 2.073630, 2.064212, 2.078767, 2.073...</td>\n",
       "      <td>EMBR3</td>\n",
       "      <td>20220622</td>\n",
       "    </tr>\n",
       "    <tr>\n",
       "      <th>36</th>\n",
       "      <td>0.998558, 1.002883, 1.002883, 0.996636, 0.999...</td>\n",
       "      <td>ENBR3</td>\n",
       "      <td>20220622</td>\n",
       "    </tr>\n",
       "    <tr>\n",
       "      <th>37</th>\n",
       "      <td>0.939799, 0.949833, 0.951171, 0.941806, 0.941...</td>\n",
       "      <td>ENEV3</td>\n",
       "      <td>20220622</td>\n",
       "    </tr>\n",
       "    <tr>\n",
       "      <th>38</th>\n",
       "      <td>1.011689, 1.026358, 1.020170, 1.011231, 1.012...</td>\n",
       "      <td>ENGI11</td>\n",
       "      <td>20220622</td>\n",
       "    </tr>\n",
       "    <tr>\n",
       "      <th>39</th>\n",
       "      <td>0.948492, 0.953936, 0.946817, 0.938442, 0.942...</td>\n",
       "      <td>EQTL3</td>\n",
       "      <td>20220622</td>\n",
       "    </tr>\n",
       "  </tbody>\n",
       "</table>\n",
       "</div>"
      ],
      "text/plain": [
       "                                               campoX  ticker  diaNumPrevisao\n",
       "0    1.176248, 1.181543, 1.178517, 1.173979, 1.175...   ABEV3        20220622\n",
       "1    2.180887, 2.262799, 2.279863, 2.255973, 2.290...   AERI3        20220622\n",
       "2    1.837104, 1.859226, 1.861740, 1.853193, 1.844...   ALPA4        20220622\n",
       "3    1.218713, 1.250894, 1.241359, 1.240763, 1.228...   ALSO3        20220622\n",
       "4    1.857143, 1.887755, 1.943878, 1.928571, 1.913...   AMAR3        20220622\n",
       "5    1.589942, 1.599613, 1.617021, 1.605416, 1.595...   ANIM3        20220622\n",
       "6    1.954210, 1.934269, 1.931315, 1.926883, 1.930...   AZUL4        20220622\n",
       "7    0.984429, 0.977509, 0.978374, 0.972318, 0.986...   B3SA3        20220622\n",
       "8    0.883580, 0.890535, 0.890535, 0.883278, 0.886...   BBAS3        20220622\n",
       "9    1.030530, 1.035886, 1.033744, 1.028923, 1.039...   BBDC4        20220622\n",
       "10   0.811172, 0.817860, 0.819434, 0.815500, 0.818...   BBSE3        20220622\n",
       "11   0.830442, 0.826498, 0.821767, 0.820978, 0.817...   BEEF3        20220622\n",
       "12   1.001698, 1.025467, 1.059423, 1.047538, 1.039...   BKBR3        20220622\n",
       "13   0.989391, 1.005535, 0.997232, 0.983395, 0.988...  BPAC11        20220622\n",
       "14   1.695312, 1.735938, 1.700000, 1.689063, 1.679...   BPAN4        20220622\n",
       "15   0.923106, 0.927720, 0.936178, 0.932718, 0.936...   BRAP4        20220622\n",
       "16   1.811049, 1.812650, 1.805444, 1.798239, 1.791...   BRFS3        20220622\n",
       "17   1.534584, 1.527614, 1.534316, 1.532708, 1.538...   BRKM5        20220622\n",
       "18   1.015769, 1.052562, 1.049934, 1.049934, 1.028...   BRML3        20220622\n",
       "19   0.949045, 0.957006, 0.950637, 0.940287, 0.941...   CCRO3        20220622\n",
       "20   0.544987, 0.570694, 0.570694, 0.565553, 0.557...   CIEL3        20220622\n",
       "21   1.219012, 1.225536, 1.219944, 1.212488, 1.219...   CMIG4        20220622\n",
       "22   1.090498, 1.108597, 1.108597, 1.095023, 1.081...   COGN3        20220622\n",
       "23   0.826047, 0.830665, 0.829126, 0.822044, 0.825...   CPFE3        20220622\n",
       "24   0.913295, 0.927746, 0.927746, 0.921965, 0.926...   CPLE6        20220622\n",
       "25   0.941860, 0.947368, 0.948592, 0.943084, 0.942...   CRFB3        20220622\n",
       "26   1.141392, 1.154884, 1.152186, 1.150027, 1.153...   CSAN3        20220622\n",
       "27   1.081425, 1.087362, 1.088210, 1.078880, 1.080...   CSMG3        20220622\n",
       "28   1.469011, 1.449344, 1.470203, 1.464243, 1.466...   CSNA3        20220622\n",
       "29   1.462845, 1.476645, 1.478769, 1.449045, 1.453...   CVCB3        20220622\n",
       "30   1.253942, 1.287137, 1.313693, 1.283817, 1.266...   CYRE3        20220622\n",
       "31   1.163233, 1.163233, 1.156894, 1.145800, 1.141...   ECOR3        20220622\n",
       "32   0.922783, 0.930911, 0.930433, 0.925173, 0.927...   EGIE3        20220622\n",
       "33   0.754482, 0.758112, 0.757885, 0.751305, 0.754...   ELET3        20220622\n",
       "34   0.749254, 0.753843, 0.754990, 0.749713, 0.754...   ELET6        20220622\n",
       "35   2.084760, 2.073630, 2.064212, 2.078767, 2.073...   EMBR3        20220622\n",
       "36   0.998558, 1.002883, 1.002883, 0.996636, 0.999...   ENBR3        20220622\n",
       "37   0.939799, 0.949833, 0.951171, 0.941806, 0.941...   ENEV3        20220622\n",
       "38   1.011689, 1.026358, 1.020170, 1.011231, 1.012...  ENGI11        20220622\n",
       "39   0.948492, 0.953936, 0.946817, 0.938442, 0.942...   EQTL3        20220622"
      ]
     },
     "execution_count": 51,
     "metadata": {},
     "output_type": "execute_result"
    }
   ],
   "source": [
    "df.head(40)"
   ]
  },
  {
   "cell_type": "code",
   "execution_count": 52,
   "id": "da87d9ec",
   "metadata": {},
   "outputs": [],
   "source": [
    "def trataLinhaX(linha):\n",
    "    return np.fromstring(linha['campoX'], dtype=float, sep=',')"
   ]
  },
  {
   "cell_type": "code",
   "execution_count": 53,
   "id": "75414c41",
   "metadata": {},
   "outputs": [
    {
     "data": {
      "text/plain": [
       "(88, 1800)"
      ]
     },
     "execution_count": 53,
     "metadata": {},
     "output_type": "execute_result"
    }
   ],
   "source": [
    "dfTratadoX = df.apply(trataLinhaX, axis='columns')\n",
    "X = np.stack(dfTratadoX.values)\n",
    "X.shape"
   ]
  },
  {
   "cell_type": "code",
   "execution_count": 54,
   "id": "66632b3c",
   "metadata": {},
   "outputs": [
    {
     "data": {
      "text/plain": [
       "0    [1.176248, 1.181543, 1.178517, 1.173979, 1.175...\n",
       "1    [2.180887, 2.262799, 2.279863, 2.255973, 2.290...\n",
       "2    [1.837104, 1.859226, 1.86174, 1.853193, 1.8446...\n",
       "3    [1.218713, 1.250894, 1.241359, 1.240763, 1.228...\n",
       "4    [1.857143, 1.887755, 1.943878, 1.928571, 1.913...\n",
       "dtype: object"
      ]
     },
     "execution_count": 54,
     "metadata": {},
     "output_type": "execute_result"
    }
   ],
   "source": [
    "dfTratadoX.head()"
   ]
  },
  {
   "cell_type": "code",
   "execution_count": 55,
   "id": "46becfb4",
   "metadata": {},
   "outputs": [],
   "source": [
    "result = modelo.predict(X)"
   ]
  },
  {
   "cell_type": "code",
   "execution_count": 56,
   "id": "31ef7d0a",
   "metadata": {},
   "outputs": [],
   "source": [
    "df['resultado'] = result\n",
    "df['redeId'] = \"1\""
   ]
  },
  {
   "cell_type": "code",
   "execution_count": 57,
   "id": "15cf0217",
   "metadata": {},
   "outputs": [],
   "source": [
    "df.drop('campoX', inplace=True, axis=1)"
   ]
  },
  {
   "cell_type": "code",
   "execution_count": 58,
   "id": "a1be2482",
   "metadata": {},
   "outputs": [],
   "source": [
    "json = df.to_dict(orient='list')"
   ]
  },
  {
   "cell_type": "code",
   "execution_count": 59,
   "id": "9955e7c8",
   "metadata": {},
   "outputs": [],
   "source": [
    "url = 'http://vps-40d69db1.vps.ovh.ca:23005/api/PrevisaoRedes/recebePrevisao'\n",
    "\n",
    "response = requests.post(url, data=json)"
   ]
  },
  {
   "cell_type": "code",
   "execution_count": 60,
   "id": "bbac64a0",
   "metadata": {},
   "outputs": [
    {
     "name": "stdout",
     "output_type": "stream",
     "text": [
      "<Response [200]>\n"
     ]
    }
   ],
   "source": [
    "print(response)"
   ]
  },
  {
   "cell_type": "code",
   "execution_count": null,
   "id": "500b941b",
   "metadata": {},
   "outputs": [],
   "source": []
  }
 ],
 "metadata": {
  "kernelspec": {
   "display_name": "Python 3 (ipykernel)",
   "language": "python",
   "name": "python3"
  },
  "language_info": {
   "codemirror_mode": {
    "name": "ipython",
    "version": 3
   },
   "file_extension": ".py",
   "mimetype": "text/x-python",
   "name": "python",
   "nbconvert_exporter": "python",
   "pygments_lexer": "ipython3",
   "version": "3.8.10"
  }
 },
 "nbformat": 4,
 "nbformat_minor": 5
}
