{
 "cells": [
  {
   "cell_type": "code",
   "execution_count": 2,
   "id": "dd7c4f90",
   "metadata": {},
   "outputs": [],
   "source": [
    "import tensorflow as tf"
   ]
  },
  {
   "cell_type": "code",
   "execution_count": 3,
   "id": "f7ca5676",
   "metadata": {},
   "outputs": [
    {
     "name": "stdout",
     "output_type": "stream",
     "text": [
      "2.7.0\n"
     ]
    }
   ],
   "source": [
    "print(tf.__version__)"
   ]
  },
  {
   "cell_type": "code",
   "execution_count": 4,
   "id": "8c8477d0",
   "metadata": {},
   "outputs": [],
   "source": [
    "import requests\n",
    "import pandas as pd\n",
    "import numpy as np"
   ]
  },
  {
   "cell_type": "code",
   "execution_count": 11,
   "id": "93f4e412",
   "metadata": {},
   "outputs": [],
   "source": [
    "url = \"http://vps-40d69db1.vps.ovh.ca:23004/api/ExemploTreinoAcaoEntradas/obtemProximoDia\""
   ]
  },
  {
   "cell_type": "code",
   "execution_count": 12,
   "id": "65a8af2d",
   "metadata": {},
   "outputs": [],
   "source": [
    "r = requests.get(url)\n",
    "j = r.json()\n",
    "df = pd.DataFrame.from_dict(j)"
   ]
  },
  {
   "cell_type": "code",
   "execution_count": 13,
   "id": "dd23616d",
   "metadata": {},
   "outputs": [
    {
     "data": {
      "text/html": [
       "<div>\n",
       "<style scoped>\n",
       "    .dataframe tbody tr th:only-of-type {\n",
       "        vertical-align: middle;\n",
       "    }\n",
       "\n",
       "    .dataframe tbody tr th {\n",
       "        vertical-align: top;\n",
       "    }\n",
       "\n",
       "    .dataframe thead th {\n",
       "        text-align: right;\n",
       "    }\n",
       "</style>\n",
       "<table border=\"1\" class=\"dataframe\">\n",
       "  <thead>\n",
       "    <tr style=\"text-align: right;\">\n",
       "      <th></th>\n",
       "      <th>campoX</th>\n",
       "      <th>ticker</th>\n",
       "      <th>diaNumPrevisao</th>\n",
       "    </tr>\n",
       "  </thead>\n",
       "  <tbody>\n",
       "    <tr>\n",
       "      <th>0</th>\n",
       "      <td>0.999314, 1.001372, 1.000686, 0.992455, 0.990...</td>\n",
       "      <td>ABEV3</td>\n",
       "      <td>20220714</td>\n",
       "    </tr>\n",
       "    <tr>\n",
       "      <th>1</th>\n",
       "      <td>2.151625, 2.158845, 2.140794, 2.140794, 2.162...</td>\n",
       "      <td>AERI3</td>\n",
       "      <td>20220714</td>\n",
       "    </tr>\n",
       "    <tr>\n",
       "      <th>2</th>\n",
       "      <td>1.505495, 1.504971, 1.486656, 1.513344, 1.510...</td>\n",
       "      <td>ALPA4</td>\n",
       "      <td>20220714</td>\n",
       "    </tr>\n",
       "    <tr>\n",
       "      <th>3</th>\n",
       "      <td>1.196711, 1.211937, 1.218636, 1.231425, 1.223...</td>\n",
       "      <td>ALSO3</td>\n",
       "      <td>20220714</td>\n",
       "    </tr>\n",
       "    <tr>\n",
       "      <th>4</th>\n",
       "      <td>1.321429, 1.339286, 1.330357, 1.325893, 1.343...</td>\n",
       "      <td>AMAR3</td>\n",
       "      <td>20220714</td>\n",
       "    </tr>\n",
       "    <tr>\n",
       "      <th>5</th>\n",
       "      <td>1.608295, 1.626728, 1.605991, 1.624424, 1.629...</td>\n",
       "      <td>ANIM3</td>\n",
       "      <td>20220714</td>\n",
       "    </tr>\n",
       "    <tr>\n",
       "      <th>6</th>\n",
       "      <td>2.137143, 2.147755, 2.118367, 2.123265, 2.129...</td>\n",
       "      <td>AZUL4</td>\n",
       "      <td>20220714</td>\n",
       "    </tr>\n",
       "    <tr>\n",
       "      <th>7</th>\n",
       "      <td>1.202138, 1.207969, 1.200194, 1.200194, 1.204...</td>\n",
       "      <td>B3SA3</td>\n",
       "      <td>20220714</td>\n",
       "    </tr>\n",
       "    <tr>\n",
       "      <th>8</th>\n",
       "      <td>0.943408, 0.951055, 0.947996, 0.945549, 0.946...</td>\n",
       "      <td>BBAS3</td>\n",
       "      <td>20220714</td>\n",
       "    </tr>\n",
       "    <tr>\n",
       "      <th>9</th>\n",
       "      <td>1.286826, 1.288024, 1.276048, 1.270659, 1.268...</td>\n",
       "      <td>BBDC4</td>\n",
       "      <td>20220714</td>\n",
       "    </tr>\n",
       "    <tr>\n",
       "      <th>10</th>\n",
       "      <td>0.809091, 0.809091, 0.805929, 0.808696, 0.805...</td>\n",
       "      <td>BBSE3</td>\n",
       "      <td>20220714</td>\n",
       "    </tr>\n",
       "    <tr>\n",
       "      <th>11</th>\n",
       "      <td>0.720345, 0.721064, 0.725377, 0.723940, 0.724...</td>\n",
       "      <td>BEEF3</td>\n",
       "      <td>20220714</td>\n",
       "    </tr>\n",
       "    <tr>\n",
       "      <th>12</th>\n",
       "      <td>0.944154, 0.966841, 0.965096, 0.966841, 0.980...</td>\n",
       "      <td>BKBR3</td>\n",
       "      <td>20220714</td>\n",
       "    </tr>\n",
       "    <tr>\n",
       "      <th>13</th>\n",
       "      <td>0.869447, 0.883500, 0.874433, 0.876700, 0.876...</td>\n",
       "      <td>BPAC11</td>\n",
       "      <td>20220714</td>\n",
       "    </tr>\n",
       "    <tr>\n",
       "      <th>14</th>\n",
       "      <td>1.530351, 1.570288, 1.549521, 1.549521, 1.547...</td>\n",
       "      <td>BPAN4</td>\n",
       "      <td>20220714</td>\n",
       "    </tr>\n",
       "    <tr>\n",
       "      <th>15</th>\n",
       "      <td>1.202033, 1.216434, 1.217281, 1.222787, 1.219...</td>\n",
       "      <td>BRAP4</td>\n",
       "      <td>20220714</td>\n",
       "    </tr>\n",
       "    <tr>\n",
       "      <th>16</th>\n",
       "      <td>1.445746, 1.434649, 1.437115, 1.447596, 1.445...</td>\n",
       "      <td>BRFS3</td>\n",
       "      <td>20220714</td>\n",
       "    </tr>\n",
       "    <tr>\n",
       "      <th>17</th>\n",
       "      <td>1.461288, 1.483156, 1.504137, 1.479314, 1.484...</td>\n",
       "      <td>BRKM5</td>\n",
       "      <td>20220714</td>\n",
       "    </tr>\n",
       "    <tr>\n",
       "      <th>18</th>\n",
       "      <td>1.109804, 1.112418, 1.115033, 1.121569, 1.116...</td>\n",
       "      <td>BRML3</td>\n",
       "      <td>20220714</td>\n",
       "    </tr>\n",
       "    <tr>\n",
       "      <th>19</th>\n",
       "      <td>0.958961, 0.944724, 0.946399, 0.950586, 0.945...</td>\n",
       "      <td>CCRO3</td>\n",
       "      <td>20220714</td>\n",
       "    </tr>\n",
       "    <tr>\n",
       "      <th>20</th>\n",
       "      <td>0.536269, 0.538860, 0.546632, 0.541451, 0.538...</td>\n",
       "      <td>CIEL3</td>\n",
       "      <td>20220714</td>\n",
       "    </tr>\n",
       "    <tr>\n",
       "      <th>21</th>\n",
       "      <td>1.224353, 1.232023, 1.229147, 1.238734, 1.241...</td>\n",
       "      <td>CMIG4</td>\n",
       "      <td>20220714</td>\n",
       "    </tr>\n",
       "    <tr>\n",
       "      <th>22</th>\n",
       "      <td>0.991342, 0.978355, 0.974026, 0.974026, 0.965...</td>\n",
       "      <td>COGN3</td>\n",
       "      <td>20220714</td>\n",
       "    </tr>\n",
       "    <tr>\n",
       "      <th>23</th>\n",
       "      <td>0.853611, 0.852310, 0.856213, 0.864021, 0.864...</td>\n",
       "      <td>CPFE3</td>\n",
       "      <td>20220714</td>\n",
       "    </tr>\n",
       "    <tr>\n",
       "      <th>24</th>\n",
       "      <td>0.935766, 0.935766, 0.937226, 0.944526, 0.944...</td>\n",
       "      <td>CPLE6</td>\n",
       "      <td>20220714</td>\n",
       "    </tr>\n",
       "    <tr>\n",
       "      <th>25</th>\n",
       "      <td>0.840805, 0.847701, 0.850575, 0.856322, 0.856...</td>\n",
       "      <td>CRFB3</td>\n",
       "      <td>20220714</td>\n",
       "    </tr>\n",
       "    <tr>\n",
       "      <th>26</th>\n",
       "      <td>1.300119, 1.293556, 1.316826, 1.322792, 1.306...</td>\n",
       "      <td>CSAN3</td>\n",
       "      <td>20220714</td>\n",
       "    </tr>\n",
       "    <tr>\n",
       "      <th>27</th>\n",
       "      <td>1.066725, 1.062335, 1.063213, 1.069359, 1.068...</td>\n",
       "      <td>CSMG3</td>\n",
       "      <td>20220714</td>\n",
       "    </tr>\n",
       "    <tr>\n",
       "      <th>28</th>\n",
       "      <td>1.848189, 1.860028, 1.857939, 1.867688, 1.854...</td>\n",
       "      <td>CSNA3</td>\n",
       "      <td>20220714</td>\n",
       "    </tr>\n",
       "    <tr>\n",
       "      <th>29</th>\n",
       "      <td>1.691520, 1.730994, 1.688596, 1.697368, 1.729...</td>\n",
       "      <td>CVCB3</td>\n",
       "      <td>20220714</td>\n",
       "    </tr>\n",
       "    <tr>\n",
       "      <th>30</th>\n",
       "      <td>1.109992, 1.120062, 1.111541, 1.126259, 1.136...</td>\n",
       "      <td>CYRE3</td>\n",
       "      <td>20220714</td>\n",
       "    </tr>\n",
       "    <tr>\n",
       "      <th>31</th>\n",
       "      <td>1.394286, 1.400000, 1.386667, 1.396190, 1.398...</td>\n",
       "      <td>ECOR3</td>\n",
       "      <td>20220714</td>\n",
       "    </tr>\n",
       "    <tr>\n",
       "      <th>32</th>\n",
       "      <td>0.932741, 0.930339, 0.931300, 0.934663, 0.935...</td>\n",
       "      <td>EGIE3</td>\n",
       "      <td>20220714</td>\n",
       "    </tr>\n",
       "    <tr>\n",
       "      <th>33</th>\n",
       "      <td>0.746818, 0.752835, 0.750752, 0.755149, 0.758...</td>\n",
       "      <td>ELET3</td>\n",
       "      <td>20220714</td>\n",
       "    </tr>\n",
       "    <tr>\n",
       "      <th>34</th>\n",
       "      <td>0.719731, 0.719731, 0.718834, 0.723094, 0.722...</td>\n",
       "      <td>ELET6</td>\n",
       "      <td>20220714</td>\n",
       "    </tr>\n",
       "    <tr>\n",
       "      <th>35</th>\n",
       "      <td>1.902504, 1.884615, 1.891771, 1.892665, 1.872...</td>\n",
       "      <td>EMBR3</td>\n",
       "      <td>20220714</td>\n",
       "    </tr>\n",
       "    <tr>\n",
       "      <th>36</th>\n",
       "      <td>1.029126, 1.024272, 1.035437, 1.047573, 1.049...</td>\n",
       "      <td>ENBR3</td>\n",
       "      <td>20220714</td>\n",
       "    </tr>\n",
       "    <tr>\n",
       "      <th>37</th>\n",
       "      <td>0.853495, 0.870296, 0.866935, 0.878360, 0.883...</td>\n",
       "      <td>ENEV3</td>\n",
       "      <td>20220714</td>\n",
       "    </tr>\n",
       "    <tr>\n",
       "      <th>38</th>\n",
       "      <td>1.054439, 1.051386, 1.045790, 1.046807, 1.047...</td>\n",
       "      <td>ENGI11</td>\n",
       "      <td>20220714</td>\n",
       "    </tr>\n",
       "    <tr>\n",
       "      <th>39</th>\n",
       "      <td>0.977609, 0.979848, 0.968204, 0.976265, 0.977...</td>\n",
       "      <td>EQTL3</td>\n",
       "      <td>20220714</td>\n",
       "    </tr>\n",
       "  </tbody>\n",
       "</table>\n",
       "</div>"
      ],
      "text/plain": [
       "                                               campoX  ticker  diaNumPrevisao\n",
       "0    0.999314, 1.001372, 1.000686, 0.992455, 0.990...   ABEV3        20220714\n",
       "1    2.151625, 2.158845, 2.140794, 2.140794, 2.162...   AERI3        20220714\n",
       "2    1.505495, 1.504971, 1.486656, 1.513344, 1.510...   ALPA4        20220714\n",
       "3    1.196711, 1.211937, 1.218636, 1.231425, 1.223...   ALSO3        20220714\n",
       "4    1.321429, 1.339286, 1.330357, 1.325893, 1.343...   AMAR3        20220714\n",
       "5    1.608295, 1.626728, 1.605991, 1.624424, 1.629...   ANIM3        20220714\n",
       "6    2.137143, 2.147755, 2.118367, 2.123265, 2.129...   AZUL4        20220714\n",
       "7    1.202138, 1.207969, 1.200194, 1.200194, 1.204...   B3SA3        20220714\n",
       "8    0.943408, 0.951055, 0.947996, 0.945549, 0.946...   BBAS3        20220714\n",
       "9    1.286826, 1.288024, 1.276048, 1.270659, 1.268...   BBDC4        20220714\n",
       "10   0.809091, 0.809091, 0.805929, 0.808696, 0.805...   BBSE3        20220714\n",
       "11   0.720345, 0.721064, 0.725377, 0.723940, 0.724...   BEEF3        20220714\n",
       "12   0.944154, 0.966841, 0.965096, 0.966841, 0.980...   BKBR3        20220714\n",
       "13   0.869447, 0.883500, 0.874433, 0.876700, 0.876...  BPAC11        20220714\n",
       "14   1.530351, 1.570288, 1.549521, 1.549521, 1.547...   BPAN4        20220714\n",
       "15   1.202033, 1.216434, 1.217281, 1.222787, 1.219...   BRAP4        20220714\n",
       "16   1.445746, 1.434649, 1.437115, 1.447596, 1.445...   BRFS3        20220714\n",
       "17   1.461288, 1.483156, 1.504137, 1.479314, 1.484...   BRKM5        20220714\n",
       "18   1.109804, 1.112418, 1.115033, 1.121569, 1.116...   BRML3        20220714\n",
       "19   0.958961, 0.944724, 0.946399, 0.950586, 0.945...   CCRO3        20220714\n",
       "20   0.536269, 0.538860, 0.546632, 0.541451, 0.538...   CIEL3        20220714\n",
       "21   1.224353, 1.232023, 1.229147, 1.238734, 1.241...   CMIG4        20220714\n",
       "22   0.991342, 0.978355, 0.974026, 0.974026, 0.965...   COGN3        20220714\n",
       "23   0.853611, 0.852310, 0.856213, 0.864021, 0.864...   CPFE3        20220714\n",
       "24   0.935766, 0.935766, 0.937226, 0.944526, 0.944...   CPLE6        20220714\n",
       "25   0.840805, 0.847701, 0.850575, 0.856322, 0.856...   CRFB3        20220714\n",
       "26   1.300119, 1.293556, 1.316826, 1.322792, 1.306...   CSAN3        20220714\n",
       "27   1.066725, 1.062335, 1.063213, 1.069359, 1.068...   CSMG3        20220714\n",
       "28   1.848189, 1.860028, 1.857939, 1.867688, 1.854...   CSNA3        20220714\n",
       "29   1.691520, 1.730994, 1.688596, 1.697368, 1.729...   CVCB3        20220714\n",
       "30   1.109992, 1.120062, 1.111541, 1.126259, 1.136...   CYRE3        20220714\n",
       "31   1.394286, 1.400000, 1.386667, 1.396190, 1.398...   ECOR3        20220714\n",
       "32   0.932741, 0.930339, 0.931300, 0.934663, 0.935...   EGIE3        20220714\n",
       "33   0.746818, 0.752835, 0.750752, 0.755149, 0.758...   ELET3        20220714\n",
       "34   0.719731, 0.719731, 0.718834, 0.723094, 0.722...   ELET6        20220714\n",
       "35   1.902504, 1.884615, 1.891771, 1.892665, 1.872...   EMBR3        20220714\n",
       "36   1.029126, 1.024272, 1.035437, 1.047573, 1.049...   ENBR3        20220714\n",
       "37   0.853495, 0.870296, 0.866935, 0.878360, 0.883...   ENEV3        20220714\n",
       "38   1.054439, 1.051386, 1.045790, 1.046807, 1.047...  ENGI11        20220714\n",
       "39   0.977609, 0.979848, 0.968204, 0.976265, 0.977...   EQTL3        20220714"
      ]
     },
     "execution_count": 13,
     "metadata": {},
     "output_type": "execute_result"
    }
   ],
   "source": [
    "df.head(40)"
   ]
  },
  {
   "cell_type": "code",
   "execution_count": 14,
   "id": "da87d9ec",
   "metadata": {},
   "outputs": [],
   "source": [
    "def trataLinhaX(linha):\n",
    "    return np.fromstring(linha['campoX'], dtype=float, sep=',')"
   ]
  },
  {
   "cell_type": "code",
   "execution_count": 15,
   "id": "75414c41",
   "metadata": {},
   "outputs": [
    {
     "data": {
      "text/plain": [
       "(87, 1800)"
      ]
     },
     "execution_count": 15,
     "metadata": {},
     "output_type": "execute_result"
    }
   ],
   "source": [
    "dfTratadoX = df.apply(trataLinhaX, axis='columns')\n",
    "X = np.stack(dfTratadoX.values)\n",
    "X.shape"
   ]
  },
  {
   "cell_type": "code",
   "execution_count": 16,
   "id": "1ca107b8",
   "metadata": {},
   "outputs": [],
   "source": [
    "X2 = X.reshape(87,1800,1)"
   ]
  },
  {
   "cell_type": "code",
   "execution_count": 17,
   "id": "11ffd6b3",
   "metadata": {},
   "outputs": [
    {
     "name": "stderr",
     "output_type": "stream",
     "text": [
      "2022-07-13 22:54:54.316031: E tensorflow/stream_executor/cuda/cuda_driver.cc:271] failed call to cuInit: CUDA_ERROR_NO_DEVICE: no CUDA-capable device is detected\n",
      "2022-07-13 22:54:54.325018: I tensorflow/stream_executor/cuda/cuda_diagnostics.cc:156] kernel driver does not appear to be running on this host (vps34755): /proc/driver/nvidia/version does not exist\n",
      "2022-07-13 22:54:54.421095: I tensorflow/core/platform/cpu_feature_guard.cc:151] This TensorFlow binary is optimized with oneAPI Deep Neural Network Library (oneDNN) to use the following CPU instructions in performance-critical operations:  AVX2 FMA\n",
      "To enable them in other operations, rebuild TensorFlow with the appropriate compiler flags.\n"
     ]
    }
   ],
   "source": [
    "modelo = tf.keras.models.load_model('best_model.h5')"
   ]
  },
  {
   "cell_type": "code",
   "execution_count": 18,
   "id": "0274a703",
   "metadata": {},
   "outputs": [
    {
     "name": "stdout",
     "output_type": "stream",
     "text": [
      "Model: \"model_1\"\n",
      "_________________________________________________________________\n",
      " Layer (type)                Output Shape              Param #   \n",
      "=================================================================\n",
      " input_2 (InputLayer)        [(None, 1800, 1)]         0         \n",
      "                                                                 \n",
      " conv1d_3 (Conv1D)           (None, 1800, 64)          256       \n",
      "                                                                 \n",
      " batch_normalization_3 (Batc  (None, 1800, 64)         256       \n",
      " hNormalization)                                                 \n",
      "                                                                 \n",
      " re_lu_3 (ReLU)              (None, 1800, 64)          0         \n",
      "                                                                 \n",
      " conv1d_4 (Conv1D)           (None, 1800, 64)          12352     \n",
      "                                                                 \n",
      " batch_normalization_4 (Batc  (None, 1800, 64)         256       \n",
      " hNormalization)                                                 \n",
      "                                                                 \n",
      " re_lu_4 (ReLU)              (None, 1800, 64)          0         \n",
      "                                                                 \n",
      " conv1d_5 (Conv1D)           (None, 1800, 64)          12352     \n",
      "                                                                 \n",
      " batch_normalization_5 (Batc  (None, 1800, 64)         256       \n",
      " hNormalization)                                                 \n",
      "                                                                 \n",
      " re_lu_5 (ReLU)              (None, 1800, 64)          0         \n",
      "                                                                 \n",
      " global_average_pooling1d_1   (None, 64)               0         \n",
      " (GlobalAveragePooling1D)                                        \n",
      "                                                                 \n",
      " dense_1 (Dense)             (None, 2)                 130       \n",
      "                                                                 \n",
      "=================================================================\n",
      "Total params: 25,858\n",
      "Trainable params: 25,474\n",
      "Non-trainable params: 384\n",
      "_________________________________________________________________\n"
     ]
    }
   ],
   "source": [
    "modelo.summary()"
   ]
  },
  {
   "cell_type": "code",
   "execution_count": 19,
   "id": "46becfb4",
   "metadata": {},
   "outputs": [
    {
     "name": "stderr",
     "output_type": "stream",
     "text": [
      "2022-07-13 22:55:15.959617: W tensorflow/core/framework/cpu_allocator_impl.cc:82] Allocation of 626400 exceeds 10% of free system memory.\n",
      "2022-07-13 22:55:22.371314: W tensorflow/core/framework/cpu_allocator_impl.cc:82] Allocation of 14745600 exceeds 10% of free system memory.\n",
      "2022-07-13 22:55:22.756710: W tensorflow/core/framework/cpu_allocator_impl.cc:82] Allocation of 14745600 exceeds 10% of free system memory.\n",
      "2022-07-13 22:55:22.871988: W tensorflow/core/framework/cpu_allocator_impl.cc:82] Allocation of 14745600 exceeds 10% of free system memory.\n",
      "2022-07-13 22:55:23.064326: W tensorflow/core/framework/cpu_allocator_impl.cc:82] Allocation of 14745600 exceeds 10% of free system memory.\n"
     ]
    }
   ],
   "source": [
    "result = modelo.predict(X)"
   ]
  },
  {
   "cell_type": "code",
   "execution_count": 22,
   "id": "ef7e3eb7",
   "metadata": {},
   "outputs": [
    {
     "data": {
      "text/plain": [
       "(87, 2)"
      ]
     },
     "execution_count": 22,
     "metadata": {},
     "output_type": "execute_result"
    }
   ],
   "source": [
    "result.shape"
   ]
  },
  {
   "cell_type": "code",
   "execution_count": 29,
   "id": "03be5a12",
   "metadata": {},
   "outputs": [
    {
     "name": "stdout",
     "output_type": "stream",
     "text": [
      "<class 'numpy.ndarray'>\n"
     ]
    }
   ],
   "source": [
    "print(type(result))"
   ]
  },
  {
   "cell_type": "code",
   "execution_count": 31,
   "id": "177350ae",
   "metadata": {},
   "outputs": [
    {
     "name": "stdout",
     "output_type": "stream",
     "text": [
      "[0.1622171  0.27390003 0.29438794 0.32287326 0.30390716 0.33885765\n",
      " 0.293541   0.36272565 0.18094699 0.31723753 0.16950959 0.24314252\n",
      " 0.26087165 0.2296439  0.3348922  0.34306726 0.2475291  0.3611603\n",
      " 0.28926444 0.205004   0.3190857  0.2857001  0.22377086 0.21026102\n",
      " 0.18392445 0.25039595 0.34114334 0.290414   0.3395495  0.30076042\n",
      " 0.2851526  0.36939085 0.15683195 0.21923904 0.25089258 0.31794682\n",
      " 0.16916452 0.18246053 0.27019432 0.23468362 0.20725931 0.21046971\n",
      " 0.30918765 0.30572584 0.28623527 0.28493905 0.20893568 0.2641973\n",
      " 0.3168719  0.26409543 0.3190111  0.36297703 0.19330913 0.3165232\n",
      " 0.2672446  0.38608658 0.3235072  0.2899113  0.18056421 0.20796023\n",
      " 0.31703782 0.3238995  0.34304672 0.2678492  0.35072336 0.29425794\n",
      " 0.29058564 0.30363998 0.24111706 0.2171828  0.18244436 0.17452006\n",
      " 0.3251668  0.20845117 0.33923414 0.34447095 0.24989001 0.33863476\n",
      " 0.30178156 0.1933808  0.32764563 0.26412585 0.32740167 0.30147502\n",
      " 0.25385293 0.24071848 0.32261804]\n"
     ]
    }
   ],
   "source": [
    "print(result[ :,1])"
   ]
  },
  {
   "cell_type": "code",
   "execution_count": 32,
   "id": "31ef7d0a",
   "metadata": {},
   "outputs": [],
   "source": [
    "df['resultado'] = result[ :,1]\n",
    "df['redeId'] = \"2\""
   ]
  },
  {
   "cell_type": "code",
   "execution_count": 33,
   "id": "15cf0217",
   "metadata": {},
   "outputs": [],
   "source": [
    "df.drop('campoX', inplace=True, axis=1)"
   ]
  },
  {
   "cell_type": "code",
   "execution_count": null,
   "id": "a1be2482",
   "metadata": {},
   "outputs": [],
   "source": [
    "json = df.to_dict(orient='list')"
   ]
  },
  {
   "cell_type": "code",
   "execution_count": null,
   "id": "9955e7c8",
   "metadata": {},
   "outputs": [],
   "source": [
    "url = 'http://vps-40d69db1.vps.ovh.ca:23005/api/PrevisaoRedes/recebePrevisao'\n",
    "\n",
    "response = requests.post(url, data=json)"
   ]
  },
  {
   "cell_type": "code",
   "execution_count": null,
   "id": "bbac64a0",
   "metadata": {},
   "outputs": [],
   "source": [
    "print(response)"
   ]
  },
  {
   "cell_type": "code",
   "execution_count": 34,
   "id": "500b941b",
   "metadata": {},
   "outputs": [
    {
     "data": {
      "text/html": [
       "<div>\n",
       "<style scoped>\n",
       "    .dataframe tbody tr th:only-of-type {\n",
       "        vertical-align: middle;\n",
       "    }\n",
       "\n",
       "    .dataframe tbody tr th {\n",
       "        vertical-align: top;\n",
       "    }\n",
       "\n",
       "    .dataframe thead th {\n",
       "        text-align: right;\n",
       "    }\n",
       "</style>\n",
       "<table border=\"1\" class=\"dataframe\">\n",
       "  <thead>\n",
       "    <tr style=\"text-align: right;\">\n",
       "      <th></th>\n",
       "      <th>ticker</th>\n",
       "      <th>diaNumPrevisao</th>\n",
       "      <th>resultado</th>\n",
       "      <th>redeId</th>\n",
       "    </tr>\n",
       "  </thead>\n",
       "  <tbody>\n",
       "    <tr>\n",
       "      <th>0</th>\n",
       "      <td>ABEV3</td>\n",
       "      <td>20220714</td>\n",
       "      <td>0.162217</td>\n",
       "      <td>2</td>\n",
       "    </tr>\n",
       "    <tr>\n",
       "      <th>1</th>\n",
       "      <td>AERI3</td>\n",
       "      <td>20220714</td>\n",
       "      <td>0.273900</td>\n",
       "      <td>2</td>\n",
       "    </tr>\n",
       "    <tr>\n",
       "      <th>2</th>\n",
       "      <td>ALPA4</td>\n",
       "      <td>20220714</td>\n",
       "      <td>0.294388</td>\n",
       "      <td>2</td>\n",
       "    </tr>\n",
       "    <tr>\n",
       "      <th>3</th>\n",
       "      <td>ALSO3</td>\n",
       "      <td>20220714</td>\n",
       "      <td>0.322873</td>\n",
       "      <td>2</td>\n",
       "    </tr>\n",
       "    <tr>\n",
       "      <th>4</th>\n",
       "      <td>AMAR3</td>\n",
       "      <td>20220714</td>\n",
       "      <td>0.303907</td>\n",
       "      <td>2</td>\n",
       "    </tr>\n",
       "  </tbody>\n",
       "</table>\n",
       "</div>"
      ],
      "text/plain": [
       "  ticker  diaNumPrevisao  resultado redeId\n",
       "0  ABEV3        20220714   0.162217      2\n",
       "1  AERI3        20220714   0.273900      2\n",
       "2  ALPA4        20220714   0.294388      2\n",
       "3  ALSO3        20220714   0.322873      2\n",
       "4  AMAR3        20220714   0.303907      2"
      ]
     },
     "execution_count": 34,
     "metadata": {},
     "output_type": "execute_result"
    }
   ],
   "source": [
    "df.head()"
   ]
  },
  {
   "cell_type": "code",
   "execution_count": 36,
   "id": "8c85eb1b",
   "metadata": {},
   "outputs": [],
   "source": [
    "dfSort = df.sort_values(by='resultado', ascending=False)"
   ]
  },
  {
   "cell_type": "raw",
   "id": "00bb91e7",
   "metadata": {},
   "source": [
    "dfSort.head(10)"
   ]
  },
  {
   "cell_type": "code",
   "execution_count": 37,
   "id": "a9166be1",
   "metadata": {},
   "outputs": [
    {
     "data": {
      "text/html": [
       "<div>\n",
       "<style scoped>\n",
       "    .dataframe tbody tr th:only-of-type {\n",
       "        vertical-align: middle;\n",
       "    }\n",
       "\n",
       "    .dataframe tbody tr th {\n",
       "        vertical-align: top;\n",
       "    }\n",
       "\n",
       "    .dataframe thead th {\n",
       "        text-align: right;\n",
       "    }\n",
       "</style>\n",
       "<table border=\"1\" class=\"dataframe\">\n",
       "  <thead>\n",
       "    <tr style=\"text-align: right;\">\n",
       "      <th></th>\n",
       "      <th>ticker</th>\n",
       "      <th>diaNumPrevisao</th>\n",
       "      <th>resultado</th>\n",
       "      <th>redeId</th>\n",
       "    </tr>\n",
       "  </thead>\n",
       "  <tbody>\n",
       "    <tr>\n",
       "      <th>55</th>\n",
       "      <td>MOVI3</td>\n",
       "      <td>20220714</td>\n",
       "      <td>0.386087</td>\n",
       "      <td>2</td>\n",
       "    </tr>\n",
       "    <tr>\n",
       "      <th>31</th>\n",
       "      <td>ECOR3</td>\n",
       "      <td>20220714</td>\n",
       "      <td>0.369391</td>\n",
       "      <td>2</td>\n",
       "    </tr>\n",
       "    <tr>\n",
       "      <th>51</th>\n",
       "      <td>LIGT3</td>\n",
       "      <td>20220714</td>\n",
       "      <td>0.362977</td>\n",
       "      <td>2</td>\n",
       "    </tr>\n",
       "    <tr>\n",
       "      <th>7</th>\n",
       "      <td>B3SA3</td>\n",
       "      <td>20220714</td>\n",
       "      <td>0.362726</td>\n",
       "      <td>2</td>\n",
       "    </tr>\n",
       "    <tr>\n",
       "      <th>17</th>\n",
       "      <td>BRKM5</td>\n",
       "      <td>20220714</td>\n",
       "      <td>0.361160</td>\n",
       "      <td>2</td>\n",
       "    </tr>\n",
       "    <tr>\n",
       "      <th>64</th>\n",
       "      <td>POSI3</td>\n",
       "      <td>20220714</td>\n",
       "      <td>0.350723</td>\n",
       "      <td>2</td>\n",
       "    </tr>\n",
       "    <tr>\n",
       "      <th>75</th>\n",
       "      <td>SMTO3</td>\n",
       "      <td>20220714</td>\n",
       "      <td>0.344471</td>\n",
       "      <td>2</td>\n",
       "    </tr>\n",
       "    <tr>\n",
       "      <th>15</th>\n",
       "      <td>BRAP4</td>\n",
       "      <td>20220714</td>\n",
       "      <td>0.343067</td>\n",
       "      <td>2</td>\n",
       "    </tr>\n",
       "    <tr>\n",
       "      <th>62</th>\n",
       "      <td>PCAR3</td>\n",
       "      <td>20220714</td>\n",
       "      <td>0.343047</td>\n",
       "      <td>2</td>\n",
       "    </tr>\n",
       "    <tr>\n",
       "      <th>26</th>\n",
       "      <td>CSAN3</td>\n",
       "      <td>20220714</td>\n",
       "      <td>0.341143</td>\n",
       "      <td>2</td>\n",
       "    </tr>\n",
       "  </tbody>\n",
       "</table>\n",
       "</div>"
      ],
      "text/plain": [
       "   ticker  diaNumPrevisao  resultado redeId\n",
       "55  MOVI3        20220714   0.386087      2\n",
       "31  ECOR3        20220714   0.369391      2\n",
       "51  LIGT3        20220714   0.362977      2\n",
       "7   B3SA3        20220714   0.362726      2\n",
       "17  BRKM5        20220714   0.361160      2\n",
       "64  POSI3        20220714   0.350723      2\n",
       "75  SMTO3        20220714   0.344471      2\n",
       "15  BRAP4        20220714   0.343067      2\n",
       "62  PCAR3        20220714   0.343047      2\n",
       "26  CSAN3        20220714   0.341143      2"
      ]
     },
     "execution_count": 37,
     "metadata": {},
     "output_type": "execute_result"
    }
   ],
   "source": [
    "dfSort.head(10)"
   ]
  },
  {
   "cell_type": "code",
   "execution_count": null,
   "id": "c1030b72",
   "metadata": {},
   "outputs": [],
   "source": []
  }
 ],
 "metadata": {
  "kernelspec": {
   "display_name": "Python 3 (ipykernel)",
   "language": "python",
   "name": "python3"
  },
  "language_info": {
   "codemirror_mode": {
    "name": "ipython",
    "version": 3
   },
   "file_extension": ".py",
   "mimetype": "text/x-python",
   "name": "python",
   "nbconvert_exporter": "python",
   "pygments_lexer": "ipython3",
   "version": "3.8.10"
  }
 },
 "nbformat": 4,
 "nbformat_minor": 5
}
