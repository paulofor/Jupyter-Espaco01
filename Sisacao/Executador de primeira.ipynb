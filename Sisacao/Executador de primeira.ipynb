{
 "cells": [
  {
   "cell_type": "code",
   "execution_count": 1,
   "id": "dd7c4f90",
   "metadata": {},
   "outputs": [
    {
     "name": "stderr",
     "output_type": "stream",
     "text": [
      "2022-06-10 10:52:30.086096: W tensorflow/stream_executor/platform/default/dso_loader.cc:64] Could not load dynamic library 'libcudart.so.11.0'; dlerror: libcudart.so.11.0: cannot open shared object file: No such file or directory\n",
      "2022-06-10 10:52:30.086166: I tensorflow/stream_executor/cuda/cudart_stub.cc:29] Ignore above cudart dlerror if you do not have a GPU set up on your machine.\n"
     ]
    }
   ],
   "source": [
    "import tensorflow as tf"
   ]
  },
  {
   "cell_type": "code",
   "execution_count": 2,
   "id": "f7ca5676",
   "metadata": {},
   "outputs": [
    {
     "name": "stdout",
     "output_type": "stream",
     "text": [
      "2.7.0\n"
     ]
    }
   ],
   "source": [
    "print(tf.__version__)"
   ]
  },
  {
   "cell_type": "code",
   "execution_count": 3,
   "id": "8c8477d0",
   "metadata": {},
   "outputs": [],
   "source": [
    "import requests\n",
    "import pandas as pd\n",
    "import numpy as np"
   ]
  },
  {
   "cell_type": "code",
   "execution_count": 4,
   "id": "11ffd6b3",
   "metadata": {},
   "outputs": [
    {
     "name": "stderr",
     "output_type": "stream",
     "text": [
      "2022-06-10 10:54:23.510525: E tensorflow/stream_executor/cuda/cuda_driver.cc:271] failed call to cuInit: CUDA_ERROR_NO_DEVICE: no CUDA-capable device is detected\n",
      "2022-06-10 10:54:23.585295: I tensorflow/stream_executor/cuda/cuda_diagnostics.cc:156] kernel driver does not appear to be running on this host (vps34755): /proc/driver/nvidia/version does not exist\n",
      "2022-06-10 10:54:24.243969: I tensorflow/core/platform/cpu_feature_guard.cc:151] This TensorFlow binary is optimized with oneAPI Deep Neural Network Library (oneDNN) to use the following CPU instructions in performance-critical operations:  AVX2 FMA\n",
      "To enable them in other operations, rebuild TensorFlow with the appropriate compiler flags.\n",
      "2022-06-10 10:54:29.638476: W tensorflow/core/framework/cpu_allocator_impl.cc:82] Allocation of 7200000 exceeds 10% of free system memory.\n",
      "2022-06-10 10:54:30.381237: W tensorflow/core/framework/cpu_allocator_impl.cc:82] Allocation of 7200000 exceeds 10% of free system memory.\n",
      "2022-06-10 10:54:30.607353: W tensorflow/core/framework/cpu_allocator_impl.cc:82] Allocation of 7200000 exceeds 10% of free system memory.\n",
      "2022-06-10 10:54:31.292507: W tensorflow/core/framework/cpu_allocator_impl.cc:82] Allocation of 2000000 exceeds 10% of free system memory.\n",
      "2022-06-10 10:54:31.304627: W tensorflow/core/framework/cpu_allocator_impl.cc:82] Allocation of 2000000 exceeds 10% of free system memory.\n"
     ]
    }
   ],
   "source": [
    "modelo = tf.keras.models.load_model('rede1.h5')"
   ]
  },
  {
   "cell_type": "code",
   "execution_count": 5,
   "id": "0274a703",
   "metadata": {},
   "outputs": [
    {
     "name": "stdout",
     "output_type": "stream",
     "text": [
      "Model: \"sequential\"\n",
      "_________________________________________________________________\n",
      " Layer (type)                Output Shape              Param #   \n",
      "=================================================================\n",
      " dense (Dense)               (None, 1000)              1801000   \n",
      "                                                                 \n",
      " dense_1 (Dense)             (None, 500)               500500    \n",
      "                                                                 \n",
      " dense_2 (Dense)             (None, 1)                 501       \n",
      "                                                                 \n",
      "=================================================================\n",
      "Total params: 2,302,001\n",
      "Trainable params: 2,302,001\n",
      "Non-trainable params: 0\n",
      "_________________________________________________________________\n"
     ]
    }
   ],
   "source": [
    "modelo.summary()"
   ]
  },
  {
   "cell_type": "code",
   "execution_count": 7,
   "id": "93f4e412",
   "metadata": {},
   "outputs": [],
   "source": [
    "url = \"http://vps-40d69db1.vps.ovh.ca:23004/api/ExemploTreinoAcaoEntradas/obtemPorDia?diaNum=20220610\""
   ]
  },
  {
   "cell_type": "code",
   "execution_count": 8,
   "id": "65a8af2d",
   "metadata": {},
   "outputs": [],
   "source": [
    "r = requests.get(url)\n",
    "j = r.json()\n",
    "df = pd.DataFrame.from_dict(j)"
   ]
  },
  {
   "cell_type": "code",
   "execution_count": 9,
   "id": "dd23616d",
   "metadata": {},
   "outputs": [
    {
     "data": {
      "text/html": [
       "<div>\n",
       "<style scoped>\n",
       "    .dataframe tbody tr th:only-of-type {\n",
       "        vertical-align: middle;\n",
       "    }\n",
       "\n",
       "    .dataframe tbody tr th {\n",
       "        vertical-align: top;\n",
       "    }\n",
       "\n",
       "    .dataframe thead th {\n",
       "        text-align: right;\n",
       "    }\n",
       "</style>\n",
       "<table border=\"1\" class=\"dataframe\">\n",
       "  <thead>\n",
       "    <tr style=\"text-align: right;\">\n",
       "      <th></th>\n",
       "      <th>campoX</th>\n",
       "      <th>ticker</th>\n",
       "      <th>diaNumPrevisao</th>\n",
       "    </tr>\n",
       "  </thead>\n",
       "  <tbody>\n",
       "    <tr>\n",
       "      <th>0</th>\n",
       "      <td>1.182749, 1.181287, 1.182018, 1.177632, 1.173...</td>\n",
       "      <td>ABEV3</td>\n",
       "      <td>20220610</td>\n",
       "    </tr>\n",
       "    <tr>\n",
       "      <th>1</th>\n",
       "      <td>2.376176, 2.369906, 2.366771, 2.344828, 2.300...</td>\n",
       "      <td>AERI3</td>\n",
       "      <td>20220610</td>\n",
       "    </tr>\n",
       "    <tr>\n",
       "      <th>2</th>\n",
       "      <td>1.904882, 1.915954, 1.908405, 1.908908, 1.897...</td>\n",
       "      <td>ALPA4</td>\n",
       "      <td>20220610</td>\n",
       "    </tr>\n",
       "    <tr>\n",
       "      <th>3</th>\n",
       "      <td>1.141138, 1.157002, 1.160832, 1.163020, 1.162...</td>\n",
       "      <td>ALSO3</td>\n",
       "      <td>20220610</td>\n",
       "    </tr>\n",
       "    <tr>\n",
       "      <th>4</th>\n",
       "      <td>1.774038, 1.788462, 1.793269, 1.754808, 1.750...</td>\n",
       "      <td>AMAR3</td>\n",
       "      <td>20220610</td>\n",
       "    </tr>\n",
       "    <tr>\n",
       "      <th>5</th>\n",
       "      <td>1.642436, 1.664047, 1.677800, 1.671906, 1.654...</td>\n",
       "      <td>ANIM3</td>\n",
       "      <td>20220610</td>\n",
       "    </tr>\n",
       "    <tr>\n",
       "      <th>6</th>\n",
       "      <td>1.501514, 1.514839, 1.516657, 1.479709, 1.459...</td>\n",
       "      <td>AZUL4</td>\n",
       "      <td>20220610</td>\n",
       "    </tr>\n",
       "    <tr>\n",
       "      <th>7</th>\n",
       "      <td>1.015900, 1.015900, 1.011715, 1.008368, 0.999...</td>\n",
       "      <td>B3SA3</td>\n",
       "      <td>20220610</td>\n",
       "    </tr>\n",
       "    <tr>\n",
       "      <th>8</th>\n",
       "      <td>0.902915, 0.886499, 0.885933, 0.881687, 0.876...</td>\n",
       "      <td>BBAS3</td>\n",
       "      <td>20220610</td>\n",
       "    </tr>\n",
       "    <tr>\n",
       "      <th>9</th>\n",
       "      <td>1.035070, 1.033522, 1.034554, 1.027334, 1.029...</td>\n",
       "      <td>BBDC4</td>\n",
       "      <td>20220610</td>\n",
       "    </tr>\n",
       "    <tr>\n",
       "      <th>10</th>\n",
       "      <td>0.827833, 0.832604, 0.832207, 0.832604, 0.842...</td>\n",
       "      <td>BBSE3</td>\n",
       "      <td>20220610</td>\n",
       "    </tr>\n",
       "    <tr>\n",
       "      <th>11</th>\n",
       "      <td>0.669744, 0.669034, 0.683239, 0.692472, 0.695...</td>\n",
       "      <td>BEEF3</td>\n",
       "      <td>20220610</td>\n",
       "    </tr>\n",
       "    <tr>\n",
       "      <th>12</th>\n",
       "      <td>0.944848, 0.953556, 0.960813, 0.930334, 0.921...</td>\n",
       "      <td>BKBR3</td>\n",
       "      <td>20220610</td>\n",
       "    </tr>\n",
       "    <tr>\n",
       "      <th>13</th>\n",
       "      <td>0.927530, 0.930103, 0.919811, 0.922813, 0.920...</td>\n",
       "      <td>BPAC11</td>\n",
       "      <td>20220610</td>\n",
       "    </tr>\n",
       "    <tr>\n",
       "      <th>14</th>\n",
       "      <td>1.488636, 1.511364, 1.521307, 1.504261, 1.498...</td>\n",
       "      <td>BPAN4</td>\n",
       "      <td>20220610</td>\n",
       "    </tr>\n",
       "    <tr>\n",
       "      <th>15</th>\n",
       "      <td>1.883569, 1.900448, 1.890114, 1.872201, 1.867...</td>\n",
       "      <td>BRAP4</td>\n",
       "      <td>20220610</td>\n",
       "    </tr>\n",
       "    <tr>\n",
       "      <th>16</th>\n",
       "      <td>1.379081, 1.383078, 1.382412, 1.373751, 1.365...</td>\n",
       "      <td>BRFS3</td>\n",
       "      <td>20220610</td>\n",
       "    </tr>\n",
       "    <tr>\n",
       "      <th>17</th>\n",
       "      <td>1.185756, 1.197365, 1.210761, 1.208305, 1.227...</td>\n",
       "      <td>BRKM5</td>\n",
       "      <td>20220610</td>\n",
       "    </tr>\n",
       "    <tr>\n",
       "      <th>18</th>\n",
       "      <td>0.957092, 0.965435, 0.961859, 0.955900, 0.952...</td>\n",
       "      <td>BRML3</td>\n",
       "      <td>20220610</td>\n",
       "    </tr>\n",
       "    <tr>\n",
       "      <th>19</th>\n",
       "      <td>0.928625, 0.932382, 0.933133, 0.945154, 0.942...</td>\n",
       "      <td>CCRO3</td>\n",
       "      <td>20220610</td>\n",
       "    </tr>\n",
       "    <tr>\n",
       "      <th>20</th>\n",
       "      <td>0.598404, 0.601064, 0.601064, 0.595745, 0.598...</td>\n",
       "      <td>CIEL3</td>\n",
       "      <td>20220610</td>\n",
       "    </tr>\n",
       "    <tr>\n",
       "      <th>21</th>\n",
       "      <td>1.252471, 1.261456, 1.257862, 1.256065, 1.261...</td>\n",
       "      <td>CMIG4</td>\n",
       "      <td>20220610</td>\n",
       "    </tr>\n",
       "    <tr>\n",
       "      <th>22</th>\n",
       "      <td>0.976563, 0.980469, 0.984375, 0.984375, 0.972...</td>\n",
       "      <td>COGN3</td>\n",
       "      <td>20220610</td>\n",
       "    </tr>\n",
       "    <tr>\n",
       "      <th>23</th>\n",
       "      <td>0.822766, 0.827295, 0.822162, 0.825181, 0.830...</td>\n",
       "      <td>CPFE3</td>\n",
       "      <td>20220610</td>\n",
       "    </tr>\n",
       "    <tr>\n",
       "      <th>24</th>\n",
       "      <td>0.895480, 0.901130, 0.898305, 0.903955, 0.903...</td>\n",
       "      <td>CPLE6</td>\n",
       "      <td>20220610</td>\n",
       "    </tr>\n",
       "    <tr>\n",
       "      <th>25</th>\n",
       "      <td>0.840810, 0.847921, 0.845733, 0.844639, 0.843...</td>\n",
       "      <td>CRFB3</td>\n",
       "      <td>20220610</td>\n",
       "    </tr>\n",
       "    <tr>\n",
       "      <th>26</th>\n",
       "      <td>1.098759, 1.090819, 1.083871, 1.082878, 1.083...</td>\n",
       "      <td>CSAN3</td>\n",
       "      <td>20220610</td>\n",
       "    </tr>\n",
       "    <tr>\n",
       "      <th>27</th>\n",
       "      <td>1.025377, 1.032514, 1.028549, 1.031721, 1.039...</td>\n",
       "      <td>CSMG3</td>\n",
       "      <td>20220610</td>\n",
       "    </tr>\n",
       "    <tr>\n",
       "      <th>28</th>\n",
       "      <td>1.235234, 1.256110, 1.261202, 1.246436, 1.242...</td>\n",
       "      <td>CSNA3</td>\n",
       "      <td>20220610</td>\n",
       "    </tr>\n",
       "    <tr>\n",
       "      <th>29</th>\n",
       "      <td>1.549696, 1.549696, 1.548682, 1.521298, 1.519...</td>\n",
       "      <td>CVCB3</td>\n",
       "      <td>20220610</td>\n",
       "    </tr>\n",
       "    <tr>\n",
       "      <th>30</th>\n",
       "      <td>1.195313, 1.192969, 1.193750, 1.190625, 1.183...</td>\n",
       "      <td>CYRE3</td>\n",
       "      <td>20220610</td>\n",
       "    </tr>\n",
       "    <tr>\n",
       "      <th>31</th>\n",
       "      <td>1.146974, 1.157061, 1.135447, 1.142651, 1.131...</td>\n",
       "      <td>ECOR3</td>\n",
       "      <td>20220610</td>\n",
       "    </tr>\n",
       "    <tr>\n",
       "      <th>32</th>\n",
       "      <td>0.922455, 0.927212, 0.926974, 0.934110, 0.942...</td>\n",
       "      <td>EGIE3</td>\n",
       "      <td>20220610</td>\n",
       "    </tr>\n",
       "    <tr>\n",
       "      <th>33</th>\n",
       "      <td>0.740981, 0.712303, 0.728492, 0.728261, 0.781...</td>\n",
       "      <td>ELET3</td>\n",
       "      <td>20220610</td>\n",
       "    </tr>\n",
       "    <tr>\n",
       "      <th>34</th>\n",
       "      <td>0.742428, 0.717774, 0.736323, 0.731862, 0.787...</td>\n",
       "      <td>ELET6</td>\n",
       "      <td>20220610</td>\n",
       "    </tr>\n",
       "    <tr>\n",
       "      <th>35</th>\n",
       "      <td>1.601251, 1.627052, 1.618452, 1.591087, 1.573...</td>\n",
       "      <td>EMBR3</td>\n",
       "      <td>20220610</td>\n",
       "    </tr>\n",
       "    <tr>\n",
       "      <th>36</th>\n",
       "      <td>1.000948, 1.005687, 1.000474, 1.000948, 1.001...</td>\n",
       "      <td>ENBR3</td>\n",
       "      <td>20220610</td>\n",
       "    </tr>\n",
       "    <tr>\n",
       "      <th>37</th>\n",
       "      <td>1.044599, 1.062718, 1.039721, 1.039721, 1.033...</td>\n",
       "      <td>ENEV3</td>\n",
       "      <td>20220610</td>\n",
       "    </tr>\n",
       "    <tr>\n",
       "      <th>38</th>\n",
       "      <td>1.064367, 1.074091, 1.065524, 1.068997, 1.076...</td>\n",
       "      <td>ENGI11</td>\n",
       "      <td>20220610</td>\n",
       "    </tr>\n",
       "    <tr>\n",
       "      <th>39</th>\n",
       "      <td>0.979021, 0.988482, 0.985603, 0.985603, 0.987...</td>\n",
       "      <td>EQTL3</td>\n",
       "      <td>20220610</td>\n",
       "    </tr>\n",
       "  </tbody>\n",
       "</table>\n",
       "</div>"
      ],
      "text/plain": [
       "                                               campoX  ticker  diaNumPrevisao\n",
       "0    1.182749, 1.181287, 1.182018, 1.177632, 1.173...   ABEV3        20220610\n",
       "1    2.376176, 2.369906, 2.366771, 2.344828, 2.300...   AERI3        20220610\n",
       "2    1.904882, 1.915954, 1.908405, 1.908908, 1.897...   ALPA4        20220610\n",
       "3    1.141138, 1.157002, 1.160832, 1.163020, 1.162...   ALSO3        20220610\n",
       "4    1.774038, 1.788462, 1.793269, 1.754808, 1.750...   AMAR3        20220610\n",
       "5    1.642436, 1.664047, 1.677800, 1.671906, 1.654...   ANIM3        20220610\n",
       "6    1.501514, 1.514839, 1.516657, 1.479709, 1.459...   AZUL4        20220610\n",
       "7    1.015900, 1.015900, 1.011715, 1.008368, 0.999...   B3SA3        20220610\n",
       "8    0.902915, 0.886499, 0.885933, 0.881687, 0.876...   BBAS3        20220610\n",
       "9    1.035070, 1.033522, 1.034554, 1.027334, 1.029...   BBDC4        20220610\n",
       "10   0.827833, 0.832604, 0.832207, 0.832604, 0.842...   BBSE3        20220610\n",
       "11   0.669744, 0.669034, 0.683239, 0.692472, 0.695...   BEEF3        20220610\n",
       "12   0.944848, 0.953556, 0.960813, 0.930334, 0.921...   BKBR3        20220610\n",
       "13   0.927530, 0.930103, 0.919811, 0.922813, 0.920...  BPAC11        20220610\n",
       "14   1.488636, 1.511364, 1.521307, 1.504261, 1.498...   BPAN4        20220610\n",
       "15   1.883569, 1.900448, 1.890114, 1.872201, 1.867...   BRAP4        20220610\n",
       "16   1.379081, 1.383078, 1.382412, 1.373751, 1.365...   BRFS3        20220610\n",
       "17   1.185756, 1.197365, 1.210761, 1.208305, 1.227...   BRKM5        20220610\n",
       "18   0.957092, 0.965435, 0.961859, 0.955900, 0.952...   BRML3        20220610\n",
       "19   0.928625, 0.932382, 0.933133, 0.945154, 0.942...   CCRO3        20220610\n",
       "20   0.598404, 0.601064, 0.601064, 0.595745, 0.598...   CIEL3        20220610\n",
       "21   1.252471, 1.261456, 1.257862, 1.256065, 1.261...   CMIG4        20220610\n",
       "22   0.976563, 0.980469, 0.984375, 0.984375, 0.972...   COGN3        20220610\n",
       "23   0.822766, 0.827295, 0.822162, 0.825181, 0.830...   CPFE3        20220610\n",
       "24   0.895480, 0.901130, 0.898305, 0.903955, 0.903...   CPLE6        20220610\n",
       "25   0.840810, 0.847921, 0.845733, 0.844639, 0.843...   CRFB3        20220610\n",
       "26   1.098759, 1.090819, 1.083871, 1.082878, 1.083...   CSAN3        20220610\n",
       "27   1.025377, 1.032514, 1.028549, 1.031721, 1.039...   CSMG3        20220610\n",
       "28   1.235234, 1.256110, 1.261202, 1.246436, 1.242...   CSNA3        20220610\n",
       "29   1.549696, 1.549696, 1.548682, 1.521298, 1.519...   CVCB3        20220610\n",
       "30   1.195313, 1.192969, 1.193750, 1.190625, 1.183...   CYRE3        20220610\n",
       "31   1.146974, 1.157061, 1.135447, 1.142651, 1.131...   ECOR3        20220610\n",
       "32   0.922455, 0.927212, 0.926974, 0.934110, 0.942...   EGIE3        20220610\n",
       "33   0.740981, 0.712303, 0.728492, 0.728261, 0.781...   ELET3        20220610\n",
       "34   0.742428, 0.717774, 0.736323, 0.731862, 0.787...   ELET6        20220610\n",
       "35   1.601251, 1.627052, 1.618452, 1.591087, 1.573...   EMBR3        20220610\n",
       "36   1.000948, 1.005687, 1.000474, 1.000948, 1.001...   ENBR3        20220610\n",
       "37   1.044599, 1.062718, 1.039721, 1.039721, 1.033...   ENEV3        20220610\n",
       "38   1.064367, 1.074091, 1.065524, 1.068997, 1.076...  ENGI11        20220610\n",
       "39   0.979021, 0.988482, 0.985603, 0.985603, 0.987...   EQTL3        20220610"
      ]
     },
     "execution_count": 9,
     "metadata": {},
     "output_type": "execute_result"
    }
   ],
   "source": [
    "df.head(40)"
   ]
  },
  {
   "cell_type": "code",
   "execution_count": 10,
   "id": "da87d9ec",
   "metadata": {},
   "outputs": [],
   "source": [
    "def trataLinhaX(linha):\n",
    "    return np.fromstring(linha['campoX'], dtype=float, sep=',')"
   ]
  },
  {
   "cell_type": "code",
   "execution_count": 11,
   "id": "75414c41",
   "metadata": {},
   "outputs": [
    {
     "data": {
      "text/plain": [
       "(88, 1800)"
      ]
     },
     "execution_count": 11,
     "metadata": {},
     "output_type": "execute_result"
    }
   ],
   "source": [
    "dfTratadoX = df.apply(trataLinhaX, axis='columns')\n",
    "X = np.stack(dfTratadoX.values)\n",
    "X.shape"
   ]
  },
  {
   "cell_type": "code",
   "execution_count": 12,
   "id": "66632b3c",
   "metadata": {},
   "outputs": [
    {
     "data": {
      "text/plain": [
       "0    [1.182749, 1.181287, 1.182018, 1.177632, 1.173...\n",
       "1    [2.376176, 2.369906, 2.366771, 2.344828, 2.300...\n",
       "2    [1.904882, 1.915954, 1.908405, 1.908908, 1.897...\n",
       "3    [1.141138, 1.157002, 1.160832, 1.16302, 1.1624...\n",
       "4    [1.774038, 1.788462, 1.793269, 1.754808, 1.75,...\n",
       "dtype: object"
      ]
     },
     "execution_count": 12,
     "metadata": {},
     "output_type": "execute_result"
    }
   ],
   "source": [
    "dfTratadoX.head()"
   ]
  },
  {
   "cell_type": "code",
   "execution_count": 13,
   "id": "46becfb4",
   "metadata": {},
   "outputs": [],
   "source": [
    "result = modelo.predict(X)"
   ]
  },
  {
   "cell_type": "code",
   "execution_count": 14,
   "id": "31ef7d0a",
   "metadata": {},
   "outputs": [],
   "source": [
    "df['resultado'] = result\n",
    "df['redeId'] = \"1\""
   ]
  },
  {
   "cell_type": "code",
   "execution_count": 15,
   "id": "15cf0217",
   "metadata": {},
   "outputs": [],
   "source": [
    "df.drop('campoX', inplace=True, axis=1)"
   ]
  },
  {
   "cell_type": "code",
   "execution_count": 16,
   "id": "a1be2482",
   "metadata": {},
   "outputs": [],
   "source": [
    "json = df.to_dict(orient='list')"
   ]
  },
  {
   "cell_type": "code",
   "execution_count": 17,
   "id": "9955e7c8",
   "metadata": {},
   "outputs": [],
   "source": [
    "url = 'http://vps-40d69db1.vps.ovh.ca:23004/api/PrevisaoRedes/recebePrevisao'\n",
    "\n",
    "response = requests.post(url, data=json)"
   ]
  },
  {
   "cell_type": "code",
   "execution_count": 19,
   "id": "bbac64a0",
   "metadata": {},
   "outputs": [
    {
     "name": "stdout",
     "output_type": "stream",
     "text": [
      "<Response [200]>\n"
     ]
    }
   ],
   "source": [
    "print(response)"
   ]
  },
  {
   "cell_type": "code",
   "execution_count": null,
   "id": "500b941b",
   "metadata": {},
   "outputs": [],
   "source": []
  }
 ],
 "metadata": {
  "kernelspec": {
   "display_name": "Python 3 (ipykernel)",
   "language": "python",
   "name": "python3"
  },
  "language_info": {
   "codemirror_mode": {
    "name": "ipython",
    "version": 3
   },
   "file_extension": ".py",
   "mimetype": "text/x-python",
   "name": "python",
   "nbconvert_exporter": "python",
   "pygments_lexer": "ipython3",
   "version": "3.8.10"
  }
 },
 "nbformat": 4,
 "nbformat_minor": 5
}
