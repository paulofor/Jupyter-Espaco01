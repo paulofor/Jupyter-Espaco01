{
 "cells": [
  {
   "cell_type": "code",
   "execution_count": 1,
   "id": "dd7c4f90",
   "metadata": {},
   "outputs": [
    {
     "name": "stderr",
     "output_type": "stream",
     "text": [
      "2022-06-04 13:53:29.424016: W tensorflow/stream_executor/platform/default/dso_loader.cc:64] Could not load dynamic library 'libcudart.so.11.0'; dlerror: libcudart.so.11.0: cannot open shared object file: No such file or directory\n",
      "2022-06-04 13:53:29.424080: I tensorflow/stream_executor/cuda/cudart_stub.cc:29] Ignore above cudart dlerror if you do not have a GPU set up on your machine.\n"
     ]
    }
   ],
   "source": [
    "import tensorflow as tf"
   ]
  },
  {
   "cell_type": "code",
   "execution_count": 2,
   "id": "f7ca5676",
   "metadata": {},
   "outputs": [
    {
     "name": "stdout",
     "output_type": "stream",
     "text": [
      "2.7.0\n"
     ]
    }
   ],
   "source": [
    "print(tf.__version__)"
   ]
  },
  {
   "cell_type": "code",
   "execution_count": 3,
   "id": "8c8477d0",
   "metadata": {},
   "outputs": [],
   "source": [
    "import requests\n",
    "import pandas as pd\n",
    "import numpy as np"
   ]
  },
  {
   "cell_type": "code",
   "execution_count": 4,
   "id": "11ffd6b3",
   "metadata": {},
   "outputs": [
    {
     "name": "stderr",
     "output_type": "stream",
     "text": [
      "2022-06-04 13:56:31.066701: E tensorflow/stream_executor/cuda/cuda_driver.cc:271] failed call to cuInit: CUDA_ERROR_NO_DEVICE: no CUDA-capable device is detected\n",
      "2022-06-04 13:56:31.079428: I tensorflow/stream_executor/cuda/cuda_diagnostics.cc:156] kernel driver does not appear to be running on this host (vps34755): /proc/driver/nvidia/version does not exist\n",
      "2022-06-04 13:56:31.160772: I tensorflow/core/platform/cpu_feature_guard.cc:151] This TensorFlow binary is optimized with oneAPI Deep Neural Network Library (oneDNN) to use the following CPU instructions in performance-critical operations:  AVX2 FMA\n",
      "To enable them in other operations, rebuild TensorFlow with the appropriate compiler flags.\n",
      "2022-06-04 13:56:36.171956: W tensorflow/core/framework/cpu_allocator_impl.cc:82] Allocation of 7200000 exceeds 10% of free system memory.\n",
      "2022-06-04 13:56:36.533224: W tensorflow/core/framework/cpu_allocator_impl.cc:82] Allocation of 7200000 exceeds 10% of free system memory.\n",
      "2022-06-04 13:56:36.901679: W tensorflow/core/framework/cpu_allocator_impl.cc:82] Allocation of 7200000 exceeds 10% of free system memory.\n",
      "2022-06-04 13:56:37.369751: W tensorflow/core/framework/cpu_allocator_impl.cc:82] Allocation of 2000000 exceeds 10% of free system memory.\n",
      "2022-06-04 13:56:37.378256: W tensorflow/core/framework/cpu_allocator_impl.cc:82] Allocation of 2000000 exceeds 10% of free system memory.\n"
     ]
    }
   ],
   "source": [
    "modelo = tf.keras.models.load_model('rede1.h5')"
   ]
  },
  {
   "cell_type": "code",
   "execution_count": 5,
   "id": "0274a703",
   "metadata": {},
   "outputs": [
    {
     "name": "stdout",
     "output_type": "stream",
     "text": [
      "Model: \"sequential\"\n",
      "_________________________________________________________________\n",
      " Layer (type)                Output Shape              Param #   \n",
      "=================================================================\n",
      " dense (Dense)               (None, 1000)              1801000   \n",
      "                                                                 \n",
      " dense_1 (Dense)             (None, 500)               500500    \n",
      "                                                                 \n",
      " dense_2 (Dense)             (None, 1)                 501       \n",
      "                                                                 \n",
      "=================================================================\n",
      "Total params: 2,302,001\n",
      "Trainable params: 2,302,001\n",
      "Non-trainable params: 0\n",
      "_________________________________________________________________\n"
     ]
    }
   ],
   "source": [
    "modelo.summary()"
   ]
  },
  {
   "cell_type": "code",
   "execution_count": 128,
   "id": "93f4e412",
   "metadata": {},
   "outputs": [],
   "source": [
    "url = \"http://vps-40d69db1.vps.ovh.ca:23004/api/ExemploTreinoAcaoEntradas/obtemPorDia?diaNum=20220429\""
   ]
  },
  {
   "cell_type": "code",
   "execution_count": 129,
   "id": "65a8af2d",
   "metadata": {},
   "outputs": [],
   "source": [
    "r = requests.get(url)\n",
    "j = r.json()\n",
    "df = pd.DataFrame.from_dict(j)"
   ]
  },
  {
   "cell_type": "code",
   "execution_count": 135,
   "id": "dd23616d",
   "metadata": {},
   "outputs": [
    {
     "data": {
      "text/html": [
       "<div>\n",
       "<style scoped>\n",
       "    .dataframe tbody tr th:only-of-type {\n",
       "        vertical-align: middle;\n",
       "    }\n",
       "\n",
       "    .dataframe tbody tr th {\n",
       "        vertical-align: top;\n",
       "    }\n",
       "\n",
       "    .dataframe thead th {\n",
       "        text-align: right;\n",
       "    }\n",
       "</style>\n",
       "<table border=\"1\" class=\"dataframe\">\n",
       "  <thead>\n",
       "    <tr style=\"text-align: right;\">\n",
       "      <th></th>\n",
       "      <th>campoX</th>\n",
       "      <th>ticker</th>\n",
       "      <th>diaNumPrevisao</th>\n",
       "    </tr>\n",
       "  </thead>\n",
       "  <tbody>\n",
       "    <tr>\n",
       "      <th>0</th>\n",
       "      <td>1.186948, 1.192386, 1.210741, 1.211421, 1.210...</td>\n",
       "      <td>ABEV3</td>\n",
       "      <td>20220429</td>\n",
       "    </tr>\n",
       "    <tr>\n",
       "      <th>1</th>\n",
       "      <td>1.548828, 1.550781, 1.585937, 1.603516, 1.562...</td>\n",
       "      <td>AERI3</td>\n",
       "      <td>20220429</td>\n",
       "    </tr>\n",
       "    <tr>\n",
       "      <th>2</th>\n",
       "      <td>1.939109, 1.955941, 1.989109, 2.025248, 1.996...</td>\n",
       "      <td>ALPA4</td>\n",
       "      <td>20220429</td>\n",
       "    </tr>\n",
       "    <tr>\n",
       "      <th>3</th>\n",
       "      <td>0.936110, 0.932797, 0.952674, 0.973024, 0.966...</td>\n",
       "      <td>ALSO3</td>\n",
       "      <td>20220429</td>\n",
       "    </tr>\n",
       "    <tr>\n",
       "      <th>4</th>\n",
       "      <td>1.841880, 1.867521, 1.944444, 1.970085, 1.961...</td>\n",
       "      <td>AMAR3</td>\n",
       "      <td>20220429</td>\n",
       "    </tr>\n",
       "    <tr>\n",
       "      <th>5</th>\n",
       "      <td>1.211538, 1.202797, 1.230769, 1.253497, 1.253...</td>\n",
       "      <td>ANIM3</td>\n",
       "      <td>20220429</td>\n",
       "    </tr>\n",
       "    <tr>\n",
       "      <th>6</th>\n",
       "      <td>1.199370, 1.207471, 1.240774, 1.262826, 1.242...</td>\n",
       "      <td>AZUL4</td>\n",
       "      <td>20220429</td>\n",
       "    </tr>\n",
       "    <tr>\n",
       "      <th>7</th>\n",
       "      <td>0.881569, 0.864545, 0.865285, 0.869726, 0.876...</td>\n",
       "      <td>B3SA3</td>\n",
       "      <td>20220429</td>\n",
       "    </tr>\n",
       "    <tr>\n",
       "      <th>8</th>\n",
       "      <td>0.856553, 0.853896, 0.861865, 0.870130, 0.869...</td>\n",
       "      <td>BBAS3</td>\n",
       "      <td>20220429</td>\n",
       "    </tr>\n",
       "    <tr>\n",
       "      <th>9</th>\n",
       "      <td>1.128233, 1.113374, 1.127133, 1.127683, 1.129...</td>\n",
       "      <td>BBDC4</td>\n",
       "      <td>20220429</td>\n",
       "    </tr>\n",
       "    <tr>\n",
       "      <th>10</th>\n",
       "      <td>0.858252, 0.861359, 0.863301, 0.872621, 0.867...</td>\n",
       "      <td>BBSE3</td>\n",
       "      <td>20220429</td>\n",
       "    </tr>\n",
       "    <tr>\n",
       "      <th>11</th>\n",
       "      <td>0.755418, 0.770898, 0.764706, 0.761610, 0.765...</td>\n",
       "      <td>BEEF3</td>\n",
       "      <td>20220429</td>\n",
       "    </tr>\n",
       "    <tr>\n",
       "      <th>12</th>\n",
       "      <td>1.164063, 1.160938, 1.175000, 1.179688, 1.179...</td>\n",
       "      <td>BKBR3</td>\n",
       "      <td>20220429</td>\n",
       "    </tr>\n",
       "    <tr>\n",
       "      <th>13</th>\n",
       "      <td>0.973772, 0.967943, 0.977519, 0.990841, 0.989...</td>\n",
       "      <td>BPAC11</td>\n",
       "      <td>20220429</td>\n",
       "    </tr>\n",
       "    <tr>\n",
       "      <th>14</th>\n",
       "      <td>1.423506, 1.361702, 1.358663, 1.372847, 1.394...</td>\n",
       "      <td>BPAN4</td>\n",
       "      <td>20220429</td>\n",
       "    </tr>\n",
       "    <tr>\n",
       "      <th>15</th>\n",
       "      <td>1.636000, 1.602000, 1.592333, 1.567000, 1.572...</td>\n",
       "      <td>BRAP4</td>\n",
       "      <td>20220429</td>\n",
       "    </tr>\n",
       "    <tr>\n",
       "      <th>16</th>\n",
       "      <td>1.647776, 1.653515, 1.679340, 1.698709, 1.695...</td>\n",
       "      <td>BRFS3</td>\n",
       "      <td>20220429</td>\n",
       "    </tr>\n",
       "    <tr>\n",
       "      <th>17</th>\n",
       "      <td>1.292342, 1.283751, 1.306333, 1.307069, 1.309...</td>\n",
       "      <td>BRKM5</td>\n",
       "      <td>20220429</td>\n",
       "    </tr>\n",
       "    <tr>\n",
       "      <th>18</th>\n",
       "      <td>0.789979, 0.786780, 0.802772, 0.824094, 0.819...</td>\n",
       "      <td>BRML3</td>\n",
       "      <td>20220429</td>\n",
       "    </tr>\n",
       "    <tr>\n",
       "      <th>19</th>\n",
       "      <td>0.857143, 0.854071, 0.867896, 0.883257, 0.874...</td>\n",
       "      <td>CCRO3</td>\n",
       "      <td>20220429</td>\n",
       "    </tr>\n",
       "    <tr>\n",
       "      <th>20</th>\n",
       "      <td>0.623269, 0.623269, 0.631579, 0.639889, 0.637...</td>\n",
       "      <td>CIEL3</td>\n",
       "      <td>20220429</td>\n",
       "    </tr>\n",
       "    <tr>\n",
       "      <th>21</th>\n",
       "      <td>0.848068, 0.848723, 0.850688, 0.863130, 0.869...</td>\n",
       "      <td>CMIG4</td>\n",
       "      <td>20220429</td>\n",
       "    </tr>\n",
       "    <tr>\n",
       "      <th>22</th>\n",
       "      <td>1.101563, 1.097656, 1.125000, 1.148438, 1.140...</td>\n",
       "      <td>COGN3</td>\n",
       "      <td>20220429</td>\n",
       "    </tr>\n",
       "    <tr>\n",
       "      <th>23</th>\n",
       "      <td>0.717241, 0.724138, 0.728552, 0.730207, 0.725...</td>\n",
       "      <td>CPFE3</td>\n",
       "      <td>20220429</td>\n",
       "    </tr>\n",
       "    <tr>\n",
       "      <th>24</th>\n",
       "      <td>0.779683, 0.781003, 0.791557, 0.794195, 0.795...</td>\n",
       "      <td>CPLE6</td>\n",
       "      <td>20220429</td>\n",
       "    </tr>\n",
       "    <tr>\n",
       "      <th>25</th>\n",
       "      <td>0.831418, 0.821839, 0.827107, 0.834291, 0.829...</td>\n",
       "      <td>CRFB3</td>\n",
       "      <td>20220429</td>\n",
       "    </tr>\n",
       "    <tr>\n",
       "      <th>26</th>\n",
       "      <td>0.933865, 0.933396, 0.943715, 0.951689, 0.945...</td>\n",
       "      <td>CSAN3</td>\n",
       "      <td>20220429</td>\n",
       "    </tr>\n",
       "    <tr>\n",
       "      <th>27</th>\n",
       "      <td>0.969487, 0.974341, 0.984743, 0.992372, 0.993...</td>\n",
       "      <td>CSMG3</td>\n",
       "      <td>20220429</td>\n",
       "    </tr>\n",
       "    <tr>\n",
       "      <th>28</th>\n",
       "      <td>1.066885, 1.036950, 1.035080, 1.029935, 1.036...</td>\n",
       "      <td>CSNA3</td>\n",
       "      <td>20220429</td>\n",
       "    </tr>\n",
       "    <tr>\n",
       "      <th>29</th>\n",
       "      <td>1.214981, 1.209738, 1.241199, 1.274157, 1.255...</td>\n",
       "      <td>CVCB3</td>\n",
       "      <td>20220429</td>\n",
       "    </tr>\n",
       "    <tr>\n",
       "      <th>30</th>\n",
       "      <td>0.987004, 0.987688, 1.020520, 1.041724, 1.036...</td>\n",
       "      <td>CYRE3</td>\n",
       "      <td>20220429</td>\n",
       "    </tr>\n",
       "    <tr>\n",
       "      <th>31</th>\n",
       "      <td>1.141873, 1.147383, 1.179063, 1.201102, 1.190...</td>\n",
       "      <td>ECOR3</td>\n",
       "      <td>20220429</td>\n",
       "    </tr>\n",
       "    <tr>\n",
       "      <th>32</th>\n",
       "      <td>0.920972, 0.926398, 0.930644, 0.940080, 0.938...</td>\n",
       "      <td>EGIE3</td>\n",
       "      <td>20220429</td>\n",
       "    </tr>\n",
       "    <tr>\n",
       "      <th>33</th>\n",
       "      <td>0.858057, 0.844280, 0.846740, 0.866913, 0.857...</td>\n",
       "      <td>ELET3</td>\n",
       "      <td>20220429</td>\n",
       "    </tr>\n",
       "    <tr>\n",
       "      <th>34</th>\n",
       "      <td>0.850635, 0.846403, 0.848394, 0.867563, 0.860...</td>\n",
       "      <td>ELET6</td>\n",
       "      <td>20220429</td>\n",
       "    </tr>\n",
       "    <tr>\n",
       "      <th>35</th>\n",
       "      <td>1.525802, 1.513250, 1.539052, 1.555091, 1.551...</td>\n",
       "      <td>EMBR3</td>\n",
       "      <td>20220429</td>\n",
       "    </tr>\n",
       "    <tr>\n",
       "      <th>36</th>\n",
       "      <td>0.919155, 0.935691, 0.937529, 0.939366, 0.932...</td>\n",
       "      <td>ENBR3</td>\n",
       "      <td>20220429</td>\n",
       "    </tr>\n",
       "    <tr>\n",
       "      <th>37</th>\n",
       "      <td>1.030413, 1.041999, 1.043447, 1.062998, 1.062...</td>\n",
       "      <td>ENEV3</td>\n",
       "      <td>20220429</td>\n",
       "    </tr>\n",
       "    <tr>\n",
       "      <th>38</th>\n",
       "      <td>0.830134, 0.829299, 0.836185, 0.850376, 0.852...</td>\n",
       "      <td>ENGI11</td>\n",
       "      <td>20220429</td>\n",
       "    </tr>\n",
       "    <tr>\n",
       "      <th>39</th>\n",
       "      <td>0.879676, 0.873506, 0.868106, 0.879290, 0.874...</td>\n",
       "      <td>EQTL3</td>\n",
       "      <td>20220429</td>\n",
       "    </tr>\n",
       "  </tbody>\n",
       "</table>\n",
       "</div>"
      ],
      "text/plain": [
       "                                               campoX  ticker  diaNumPrevisao\n",
       "0    1.186948, 1.192386, 1.210741, 1.211421, 1.210...   ABEV3        20220429\n",
       "1    1.548828, 1.550781, 1.585937, 1.603516, 1.562...   AERI3        20220429\n",
       "2    1.939109, 1.955941, 1.989109, 2.025248, 1.996...   ALPA4        20220429\n",
       "3    0.936110, 0.932797, 0.952674, 0.973024, 0.966...   ALSO3        20220429\n",
       "4    1.841880, 1.867521, 1.944444, 1.970085, 1.961...   AMAR3        20220429\n",
       "5    1.211538, 1.202797, 1.230769, 1.253497, 1.253...   ANIM3        20220429\n",
       "6    1.199370, 1.207471, 1.240774, 1.262826, 1.242...   AZUL4        20220429\n",
       "7    0.881569, 0.864545, 0.865285, 0.869726, 0.876...   B3SA3        20220429\n",
       "8    0.856553, 0.853896, 0.861865, 0.870130, 0.869...   BBAS3        20220429\n",
       "9    1.128233, 1.113374, 1.127133, 1.127683, 1.129...   BBDC4        20220429\n",
       "10   0.858252, 0.861359, 0.863301, 0.872621, 0.867...   BBSE3        20220429\n",
       "11   0.755418, 0.770898, 0.764706, 0.761610, 0.765...   BEEF3        20220429\n",
       "12   1.164063, 1.160938, 1.175000, 1.179688, 1.179...   BKBR3        20220429\n",
       "13   0.973772, 0.967943, 0.977519, 0.990841, 0.989...  BPAC11        20220429\n",
       "14   1.423506, 1.361702, 1.358663, 1.372847, 1.394...   BPAN4        20220429\n",
       "15   1.636000, 1.602000, 1.592333, 1.567000, 1.572...   BRAP4        20220429\n",
       "16   1.647776, 1.653515, 1.679340, 1.698709, 1.695...   BRFS3        20220429\n",
       "17   1.292342, 1.283751, 1.306333, 1.307069, 1.309...   BRKM5        20220429\n",
       "18   0.789979, 0.786780, 0.802772, 0.824094, 0.819...   BRML3        20220429\n",
       "19   0.857143, 0.854071, 0.867896, 0.883257, 0.874...   CCRO3        20220429\n",
       "20   0.623269, 0.623269, 0.631579, 0.639889, 0.637...   CIEL3        20220429\n",
       "21   0.848068, 0.848723, 0.850688, 0.863130, 0.869...   CMIG4        20220429\n",
       "22   1.101563, 1.097656, 1.125000, 1.148438, 1.140...   COGN3        20220429\n",
       "23   0.717241, 0.724138, 0.728552, 0.730207, 0.725...   CPFE3        20220429\n",
       "24   0.779683, 0.781003, 0.791557, 0.794195, 0.795...   CPLE6        20220429\n",
       "25   0.831418, 0.821839, 0.827107, 0.834291, 0.829...   CRFB3        20220429\n",
       "26   0.933865, 0.933396, 0.943715, 0.951689, 0.945...   CSAN3        20220429\n",
       "27   0.969487, 0.974341, 0.984743, 0.992372, 0.993...   CSMG3        20220429\n",
       "28   1.066885, 1.036950, 1.035080, 1.029935, 1.036...   CSNA3        20220429\n",
       "29   1.214981, 1.209738, 1.241199, 1.274157, 1.255...   CVCB3        20220429\n",
       "30   0.987004, 0.987688, 1.020520, 1.041724, 1.036...   CYRE3        20220429\n",
       "31   1.141873, 1.147383, 1.179063, 1.201102, 1.190...   ECOR3        20220429\n",
       "32   0.920972, 0.926398, 0.930644, 0.940080, 0.938...   EGIE3        20220429\n",
       "33   0.858057, 0.844280, 0.846740, 0.866913, 0.857...   ELET3        20220429\n",
       "34   0.850635, 0.846403, 0.848394, 0.867563, 0.860...   ELET6        20220429\n",
       "35   1.525802, 1.513250, 1.539052, 1.555091, 1.551...   EMBR3        20220429\n",
       "36   0.919155, 0.935691, 0.937529, 0.939366, 0.932...   ENBR3        20220429\n",
       "37   1.030413, 1.041999, 1.043447, 1.062998, 1.062...   ENEV3        20220429\n",
       "38   0.830134, 0.829299, 0.836185, 0.850376, 0.852...  ENGI11        20220429\n",
       "39   0.879676, 0.873506, 0.868106, 0.879290, 0.874...   EQTL3        20220429"
      ]
     },
     "execution_count": 135,
     "metadata": {},
     "output_type": "execute_result"
    }
   ],
   "source": [
    "df.head(40)"
   ]
  },
  {
   "cell_type": "code",
   "execution_count": 131,
   "id": "da87d9ec",
   "metadata": {},
   "outputs": [],
   "source": [
    "def trataLinhaX(linha):\n",
    "    return np.fromstring(linha['campoX'], dtype=float, sep=',')"
   ]
  },
  {
   "cell_type": "code",
   "execution_count": 132,
   "id": "75414c41",
   "metadata": {},
   "outputs": [
    {
     "data": {
      "text/plain": [
       "(88, 1785)"
      ]
     },
     "execution_count": 132,
     "metadata": {},
     "output_type": "execute_result"
    }
   ],
   "source": [
    "dfTratadoX = df.apply(trataLinhaX, axis='columns')\n",
    "X = np.stack(dfTratadoX.values)\n",
    "X.shape"
   ]
  },
  {
   "cell_type": "code",
   "execution_count": 133,
   "id": "66632b3c",
   "metadata": {},
   "outputs": [
    {
     "data": {
      "text/plain": [
       "0    [1.186948, 1.192386, 1.210741, 1.211421, 1.210...\n",
       "1    [1.548828, 1.550781, 1.585937, 1.603516, 1.562...\n",
       "2    [1.939109, 1.955941, 1.989109, 2.025248, 1.996...\n",
       "3    [0.93611, 0.932797, 0.952674, 0.973024, 0.9668...\n",
       "4    [1.84188, 1.867521, 1.944444, 1.970085, 1.9615...\n",
       "dtype: object"
      ]
     },
     "execution_count": 133,
     "metadata": {},
     "output_type": "execute_result"
    }
   ],
   "source": [
    "dfTratadoX.head()"
   ]
  },
  {
   "cell_type": "code",
   "execution_count": 92,
   "id": "46becfb4",
   "metadata": {},
   "outputs": [],
   "source": [
    "result = modelo.predict(X)"
   ]
  },
  {
   "cell_type": "code",
   "execution_count": 93,
   "id": "31ef7d0a",
   "metadata": {},
   "outputs": [],
   "source": [
    "df['resultado'] = result\n",
    "df['redeId'] = \"1\""
   ]
  },
  {
   "cell_type": "code",
   "execution_count": 94,
   "id": "15cf0217",
   "metadata": {},
   "outputs": [],
   "source": [
    "df.drop('campoX', inplace=True, axis=1)"
   ]
  },
  {
   "cell_type": "code",
   "execution_count": 95,
   "id": "a1be2482",
   "metadata": {},
   "outputs": [],
   "source": [
    "json = df.to_dict(orient='list')"
   ]
  },
  {
   "cell_type": "code",
   "execution_count": 96,
   "id": "9955e7c8",
   "metadata": {},
   "outputs": [],
   "source": [
    "url = 'http://vps-40d69db1.vps.ovh.ca:23004/api/PrevisaoRedes/recebePrevisao'\n",
    "\n",
    "response = requests.post(url, data=json)"
   ]
  },
  {
   "cell_type": "code",
   "execution_count": 97,
   "id": "bbac64a0",
   "metadata": {},
   "outputs": [
    {
     "name": "stdout",
     "output_type": "stream",
     "text": [
      "<class 'dict'>\n"
     ]
    }
   ],
   "source": [
    "print(type(data))"
   ]
  },
  {
   "cell_type": "code",
   "execution_count": null,
   "id": "500b941b",
   "metadata": {},
   "outputs": [],
   "source": []
  }
 ],
 "metadata": {
  "kernelspec": {
   "display_name": "Python 3 (ipykernel)",
   "language": "python",
   "name": "python3"
  },
  "language_info": {
   "codemirror_mode": {
    "name": "ipython",
    "version": 3
   },
   "file_extension": ".py",
   "mimetype": "text/x-python",
   "name": "python",
   "nbconvert_exporter": "python",
   "pygments_lexer": "ipython3",
   "version": "3.8.10"
  }
 },
 "nbformat": 4,
 "nbformat_minor": 5
}
