{
 "cells": [
  {
   "cell_type": "code",
   "execution_count": 1,
   "id": "dd7c4f90",
   "metadata": {},
   "outputs": [
    {
     "name": "stderr",
     "output_type": "stream",
     "text": [
      "2022-06-02 07:58:33.189915: W tensorflow/stream_executor/platform/default/dso_loader.cc:64] Could not load dynamic library 'libcudart.so.11.0'; dlerror: libcudart.so.11.0: cannot open shared object file: No such file or directory\n",
      "2022-06-02 07:58:33.189990: I tensorflow/stream_executor/cuda/cudart_stub.cc:29] Ignore above cudart dlerror if you do not have a GPU set up on your machine.\n"
     ]
    }
   ],
   "source": [
    "import tensorflow as tf"
   ]
  },
  {
   "cell_type": "code",
   "execution_count": 2,
   "id": "f7ca5676",
   "metadata": {},
   "outputs": [
    {
     "name": "stdout",
     "output_type": "stream",
     "text": [
      "2.7.0\n"
     ]
    }
   ],
   "source": [
    "print(tf.__version__)"
   ]
  },
  {
   "cell_type": "code",
   "execution_count": 3,
   "id": "8c8477d0",
   "metadata": {},
   "outputs": [],
   "source": [
    "import requests\n",
    "import pandas as pd\n",
    "import numpy as np"
   ]
  },
  {
   "cell_type": "code",
   "execution_count": 4,
   "id": "11ffd6b3",
   "metadata": {},
   "outputs": [
    {
     "name": "stderr",
     "output_type": "stream",
     "text": [
      "2022-06-02 07:59:49.447843: E tensorflow/stream_executor/cuda/cuda_driver.cc:271] failed call to cuInit: CUDA_ERROR_NO_DEVICE: no CUDA-capable device is detected\n",
      "2022-06-02 07:59:49.468700: I tensorflow/stream_executor/cuda/cuda_diagnostics.cc:156] kernel driver does not appear to be running on this host (vps34755): /proc/driver/nvidia/version does not exist\n",
      "2022-06-02 07:59:49.949167: I tensorflow/core/platform/cpu_feature_guard.cc:151] This TensorFlow binary is optimized with oneAPI Deep Neural Network Library (oneDNN) to use the following CPU instructions in performance-critical operations:  AVX2 FMA\n",
      "To enable them in other operations, rebuild TensorFlow with the appropriate compiler flags.\n",
      "2022-06-02 07:59:59.144640: W tensorflow/core/framework/cpu_allocator_impl.cc:82] Allocation of 7200000 exceeds 10% of free system memory.\n",
      "2022-06-02 07:59:59.363657: W tensorflow/core/framework/cpu_allocator_impl.cc:82] Allocation of 7200000 exceeds 10% of free system memory.\n",
      "2022-06-02 07:59:59.501263: W tensorflow/core/framework/cpu_allocator_impl.cc:82] Allocation of 7200000 exceeds 10% of free system memory.\n",
      "2022-06-02 08:00:00.274513: W tensorflow/core/framework/cpu_allocator_impl.cc:82] Allocation of 2000000 exceeds 10% of free system memory.\n",
      "2022-06-02 08:00:00.284201: W tensorflow/core/framework/cpu_allocator_impl.cc:82] Allocation of 2000000 exceeds 10% of free system memory.\n"
     ]
    }
   ],
   "source": [
    "modelo = tf.keras.models.load_model('rede1.h5')"
   ]
  },
  {
   "cell_type": "code",
   "execution_count": 5,
   "id": "0274a703",
   "metadata": {},
   "outputs": [
    {
     "name": "stdout",
     "output_type": "stream",
     "text": [
      "Model: \"sequential\"\n",
      "_________________________________________________________________\n",
      " Layer (type)                Output Shape              Param #   \n",
      "=================================================================\n",
      " dense (Dense)               (None, 1000)              1801000   \n",
      "                                                                 \n",
      " dense_1 (Dense)             (None, 500)               500500    \n",
      "                                                                 \n",
      " dense_2 (Dense)             (None, 1)                 501       \n",
      "                                                                 \n",
      "=================================================================\n",
      "Total params: 2,302,001\n",
      "Trainable params: 2,302,001\n",
      "Non-trainable params: 0\n",
      "_________________________________________________________________\n"
     ]
    }
   ],
   "source": [
    "modelo.summary()"
   ]
  },
  {
   "cell_type": "code",
   "execution_count": 12,
   "id": "93f4e412",
   "metadata": {},
   "outputs": [],
   "source": [
    "\n",
    "\n",
    "url = \"http://vps-40d69db1.vps.ovh.ca:23004/api/ExemploTreinoAcaoEntradas/obtemPorDia?diaNum=20220530\""
   ]
  },
  {
   "cell_type": "code",
   "execution_count": 14,
   "id": "65a8af2d",
   "metadata": {},
   "outputs": [],
   "source": [
    "r = requests.get(url)\n",
    "j = r.json()\n",
    "df = pd.DataFrame.from_dict(j)"
   ]
  },
  {
   "cell_type": "code",
   "execution_count": 15,
   "id": "dd23616d",
   "metadata": {},
   "outputs": [
    {
     "data": {
      "text/html": [
       "<div>\n",
       "<style scoped>\n",
       "    .dataframe tbody tr th:only-of-type {\n",
       "        vertical-align: middle;\n",
       "    }\n",
       "\n",
       "    .dataframe tbody tr th {\n",
       "        vertical-align: top;\n",
       "    }\n",
       "\n",
       "    .dataframe thead th {\n",
       "        text-align: right;\n",
       "    }\n",
       "</style>\n",
       "<table border=\"1\" class=\"dataframe\">\n",
       "  <thead>\n",
       "    <tr style=\"text-align: right;\">\n",
       "      <th></th>\n",
       "      <th>campoX</th>\n",
       "      <th>ticker</th>\n",
       "      <th>diaNumPrevisao</th>\n",
       "    </tr>\n",
       "  </thead>\n",
       "  <tbody>\n",
       "    <tr>\n",
       "      <th>0</th>\n",
       "      <td>1.130710, 1.122980, 1.120169, 1.120169, 1.132...</td>\n",
       "      <td>ABEV3</td>\n",
       "      <td>20220530</td>\n",
       "    </tr>\n",
       "    <tr>\n",
       "      <th>1</th>\n",
       "      <td>2.112299, 2.112299, 2.101604, 2.106952, 2.112...</td>\n",
       "      <td>AERI3</td>\n",
       "      <td>20220530</td>\n",
       "    </tr>\n",
       "    <tr>\n",
       "      <th>2</th>\n",
       "      <td>1.698991, 1.657306, 1.678806, 1.668714, 1.673...</td>\n",
       "      <td>ALPA4</td>\n",
       "      <td>20220530</td>\n",
       "    </tr>\n",
       "    <tr>\n",
       "      <th>3</th>\n",
       "      <td>1.033316, 1.010411, 1.023946, 1.028110, 1.034...</td>\n",
       "      <td>ALSO3</td>\n",
       "      <td>20220530</td>\n",
       "    </tr>\n",
       "    <tr>\n",
       "      <th>4</th>\n",
       "      <td>1.395257, 1.367589, 1.375494, 1.375494, 1.391...</td>\n",
       "      <td>AMAR3</td>\n",
       "      <td>20220530</td>\n",
       "    </tr>\n",
       "  </tbody>\n",
       "</table>\n",
       "</div>"
      ],
      "text/plain": [
       "                                              campoX ticker  diaNumPrevisao\n",
       "0   1.130710, 1.122980, 1.120169, 1.120169, 1.132...  ABEV3        20220530\n",
       "1   2.112299, 2.112299, 2.101604, 2.106952, 2.112...  AERI3        20220530\n",
       "2   1.698991, 1.657306, 1.678806, 1.668714, 1.673...  ALPA4        20220530\n",
       "3   1.033316, 1.010411, 1.023946, 1.028110, 1.034...  ALSO3        20220530\n",
       "4   1.395257, 1.367589, 1.375494, 1.375494, 1.391...  AMAR3        20220530"
      ]
     },
     "execution_count": 15,
     "metadata": {},
     "output_type": "execute_result"
    }
   ],
   "source": [
    "df.head()"
   ]
  },
  {
   "cell_type": "code",
   "execution_count": 16,
   "id": "da87d9ec",
   "metadata": {},
   "outputs": [],
   "source": [
    "def trataLinhaX(linha):\n",
    "    return np.fromstring(linha['campoX'], dtype=float, sep=',')"
   ]
  },
  {
   "cell_type": "code",
   "execution_count": 17,
   "id": "75414c41",
   "metadata": {},
   "outputs": [
    {
     "data": {
      "text/plain": [
       "(88, 1800)"
      ]
     },
     "execution_count": 17,
     "metadata": {},
     "output_type": "execute_result"
    }
   ],
   "source": [
    "dfTratadoX = df.apply(trataLinhaX, axis='columns')\n",
    "X = np.stack(dfTratadoX.values)\n",
    "X.shape"
   ]
  },
  {
   "cell_type": "code",
   "execution_count": 18,
   "id": "46becfb4",
   "metadata": {},
   "outputs": [],
   "source": [
    "result = modelo.predict(X)"
   ]
  },
  {
   "cell_type": "code",
   "execution_count": 19,
   "id": "badbb667",
   "metadata": {},
   "outputs": [
    {
     "data": {
      "text/plain": [
       "numpy.ndarray"
      ]
     },
     "execution_count": 19,
     "metadata": {},
     "output_type": "execute_result"
    }
   ],
   "source": [
    "type(result)"
   ]
  },
  {
   "cell_type": "code",
   "execution_count": 20,
   "id": "31ef7d0a",
   "metadata": {},
   "outputs": [],
   "source": [
    "df['resultado'] = result"
   ]
  },
  {
   "cell_type": "code",
   "execution_count": 21,
   "id": "8e94b69c",
   "metadata": {},
   "outputs": [
    {
     "data": {
      "text/html": [
       "<div>\n",
       "<style scoped>\n",
       "    .dataframe tbody tr th:only-of-type {\n",
       "        vertical-align: middle;\n",
       "    }\n",
       "\n",
       "    .dataframe tbody tr th {\n",
       "        vertical-align: top;\n",
       "    }\n",
       "\n",
       "    .dataframe thead th {\n",
       "        text-align: right;\n",
       "    }\n",
       "</style>\n",
       "<table border=\"1\" class=\"dataframe\">\n",
       "  <thead>\n",
       "    <tr style=\"text-align: right;\">\n",
       "      <th></th>\n",
       "      <th>campoX</th>\n",
       "      <th>ticker</th>\n",
       "      <th>diaNumPrevisao</th>\n",
       "      <th>resultado</th>\n",
       "    </tr>\n",
       "  </thead>\n",
       "  <tbody>\n",
       "    <tr>\n",
       "      <th>0</th>\n",
       "      <td>1.130710, 1.122980, 1.120169, 1.120169, 1.132...</td>\n",
       "      <td>ABEV3</td>\n",
       "      <td>20220530</td>\n",
       "      <td>0.160397</td>\n",
       "    </tr>\n",
       "    <tr>\n",
       "      <th>1</th>\n",
       "      <td>2.112299, 2.112299, 2.101604, 2.106952, 2.112...</td>\n",
       "      <td>AERI3</td>\n",
       "      <td>20220530</td>\n",
       "      <td>0.239546</td>\n",
       "    </tr>\n",
       "    <tr>\n",
       "      <th>2</th>\n",
       "      <td>1.698991, 1.657306, 1.678806, 1.668714, 1.673...</td>\n",
       "      <td>ALPA4</td>\n",
       "      <td>20220530</td>\n",
       "      <td>0.352048</td>\n",
       "    </tr>\n",
       "    <tr>\n",
       "      <th>3</th>\n",
       "      <td>1.033316, 1.010411, 1.023946, 1.028110, 1.034...</td>\n",
       "      <td>ALSO3</td>\n",
       "      <td>20220530</td>\n",
       "      <td>0.128953</td>\n",
       "    </tr>\n",
       "    <tr>\n",
       "      <th>4</th>\n",
       "      <td>1.395257, 1.367589, 1.375494, 1.375494, 1.391...</td>\n",
       "      <td>AMAR3</td>\n",
       "      <td>20220530</td>\n",
       "      <td>0.292051</td>\n",
       "    </tr>\n",
       "  </tbody>\n",
       "</table>\n",
       "</div>"
      ],
      "text/plain": [
       "                                              campoX ticker  diaNumPrevisao  \\\n",
       "0   1.130710, 1.122980, 1.120169, 1.120169, 1.132...  ABEV3        20220530   \n",
       "1   2.112299, 2.112299, 2.101604, 2.106952, 2.112...  AERI3        20220530   \n",
       "2   1.698991, 1.657306, 1.678806, 1.668714, 1.673...  ALPA4        20220530   \n",
       "3   1.033316, 1.010411, 1.023946, 1.028110, 1.034...  ALSO3        20220530   \n",
       "4   1.395257, 1.367589, 1.375494, 1.375494, 1.391...  AMAR3        20220530   \n",
       "\n",
       "   resultado  \n",
       "0   0.160397  \n",
       "1   0.239546  \n",
       "2   0.352048  \n",
       "3   0.128953  \n",
       "4   0.292051  "
      ]
     },
     "execution_count": 21,
     "metadata": {},
     "output_type": "execute_result"
    }
   ],
   "source": [
    "df.head()"
   ]
  },
  {
   "cell_type": "code",
   "execution_count": 22,
   "id": "15cf0217",
   "metadata": {},
   "outputs": [],
   "source": [
    "df.drop('campoX', inplace=True, axis=1)"
   ]
  },
  {
   "cell_type": "code",
   "execution_count": 23,
   "id": "a1be2482",
   "metadata": {},
   "outputs": [],
   "source": [
    "json = df.to_json()"
   ]
  },
  {
   "cell_type": "code",
   "execution_count": 24,
   "id": "4dae4792",
   "metadata": {},
   "outputs": [
    {
     "name": "stdout",
     "output_type": "stream",
     "text": [
      "{\"ticker\":{\"0\":\"ABEV3\",\"1\":\"AERI3\",\"2\":\"ALPA4\",\"3\":\"ALSO3\",\"4\":\"AMAR3\",\"5\":\"ANIM3\",\"6\":\"AZUL4\",\"7\":\"B3SA3\",\"8\":\"BBAS3\",\"9\":\"BBDC4\",\"10\":\"BBSE3\",\"11\":\"BEEF3\",\"12\":\"BKBR3\",\"13\":\"BPAC11\",\"14\":\"BPAN4\",\"15\":\"BRAP4\",\"16\":\"BRFS3\",\"17\":\"BRKM5\",\"18\":\"BRML3\",\"19\":\"CCRO3\",\"20\":\"CIEL3\",\"21\":\"CMIG4\",\"22\":\"COGN3\",\"23\":\"CPFE3\",\"24\":\"CPLE6\",\"25\":\"CRFB3\",\"26\":\"CSAN3\",\"27\":\"CSMG3\",\"28\":\"CSNA3\",\"29\":\"CVCB3\",\"30\":\"CYRE3\",\"31\":\"ECOR3\",\"32\":\"EGIE3\",\"33\":\"ELET3\",\"34\":\"ELET6\",\"35\":\"EMBR3\",\"36\":\"ENBR3\",\"37\":\"ENEV3\",\"38\":\"ENGI11\",\"39\":\"EQTL3\",\"40\":\"EZTC3\",\"41\":\"FLRY3\",\"42\":\"GGBR4\",\"43\":\"GOAU4\",\"44\":\"GOLL4\",\"45\":\"HAPV3\",\"46\":\"HYPE3\",\"47\":\"ITUB4\",\"48\":\"JBSS3\",\"49\":\"JHSF3\",\"50\":\"KLBN11\",\"51\":\"LCAM3\",\"52\":\"LIGT3\",\"53\":\"LREN3\",\"54\":\"LWSA3\",\"55\":\"MGLU3\",\"56\":\"MOVI3\",\"57\":\"MRFG3\",\"58\":\"MRVE3\",\"59\":\"MULT3\",\"60\":\"MYPK3\",\"61\":\"NEOE3\",\"62\":\"NTCO3\",\"63\":\"PCAR3\",\"64\":\"PETR4\",\"65\":\"POSI3\",\"66\":\"PRIO3\",\"67\":\"PTBL3\",\"68\":\"QUAL3\",\"69\":\"RADL3\",\"70\":\"RAIL3\",\"71\":\"RAPT4\",\"72\":\"RENT3\",\"73\":\"SANB11\",\"74\":\"SBSP3\",\"75\":\"SLCE3\",\"76\":\"SMTO3\",\"77\":\"STBP3\",\"78\":\"SULA11\",\"79\":\"SUZB3\",\"80\":\"TAEE11\",\"81\":\"TOTS3\",\"82\":\"UGPA3\",\"83\":\"USIM5\",\"84\":\"VALE3\",\"85\":\"WEGE3\",\"86\":\"WIZS3\",\"87\":\"YDUQ3\"},\"diaNumPrevisao\":{\"0\":20220530,\"1\":20220530,\"2\":20220530,\"3\":20220530,\"4\":20220530,\"5\":20220530,\"6\":20220530,\"7\":20220530,\"8\":20220530,\"9\":20220530,\"10\":20220530,\"11\":20220530,\"12\":20220530,\"13\":20220530,\"14\":20220530,\"15\":20220530,\"16\":20220530,\"17\":20220530,\"18\":20220530,\"19\":20220530,\"20\":20220530,\"21\":20220530,\"22\":20220530,\"23\":20220530,\"24\":20220530,\"25\":20220530,\"26\":20220530,\"27\":20220530,\"28\":20220530,\"29\":20220530,\"30\":20220530,\"31\":20220530,\"32\":20220530,\"33\":20220530,\"34\":20220530,\"35\":20220530,\"36\":20220530,\"37\":20220530,\"38\":20220530,\"39\":20220530,\"40\":20220530,\"41\":20220530,\"42\":20220530,\"43\":20220530,\"44\":20220530,\"45\":20220530,\"46\":20220530,\"47\":20220530,\"48\":20220530,\"49\":20220530,\"50\":20220530,\"51\":20220530,\"52\":20220530,\"53\":20220530,\"54\":20220530,\"55\":20220530,\"56\":20220530,\"57\":20220530,\"58\":20220530,\"59\":20220530,\"60\":20220530,\"61\":20220530,\"62\":20220530,\"63\":20220530,\"64\":20220530,\"65\":20220530,\"66\":20220530,\"67\":20220530,\"68\":20220530,\"69\":20220530,\"70\":20220530,\"71\":20220530,\"72\":20220530,\"73\":20220530,\"74\":20220530,\"75\":20220530,\"76\":20220530,\"77\":20220530,\"78\":20220530,\"79\":20220530,\"80\":20220530,\"81\":20220530,\"82\":20220530,\"83\":20220530,\"84\":20220530,\"85\":20220530,\"86\":20220530,\"87\":20220530},\"resultado\":{\"0\":0.1603969038,\"1\":0.2395460308,\"2\":0.3520480394,\"3\":0.1289526224,\"4\":0.2920513153,\"5\":0.2501277328,\"6\":0.1805996001,\"7\":0.1102133989,\"8\":0.1314558685,\"9\":0.1769338548,\"10\":0.1098702252,\"11\":0.121389538,\"12\":0.1504676342,\"13\":0.1203092337,\"14\":0.1667309701,\"15\":0.1769917905,\"16\":0.3695010841,\"17\":0.2606227994,\"18\":0.1078335047,\"19\":0.1294156909,\"20\":0.1122741401,\"21\":0.1279902458,\"22\":0.1334548295,\"23\":0.1022697091,\"24\":0.1234816313,\"25\":0.0843240321,\"26\":0.1661168635,\"27\":0.1270605922,\"28\":0.2106087804,\"29\":0.1101166308,\"30\":0.1395902336,\"31\":0.1880444586,\"32\":0.1290832758,\"33\":0.1229274571,\"34\":0.1222960353,\"35\":0.3480782807,\"36\":0.1382414401,\"37\":0.1547013819,\"38\":0.1123371124,\"39\":0.1131298542,\"40\":0.2048665583,\"41\":0.2083318532,\"42\":0.1564281285,\"43\":0.1636815965,\"44\":0.1829293966,\"45\":0.1449225843,\"46\":0.1087635458,\"47\":0.134206742,\"48\":0.1366047561,\"49\":0.1198776066,\"50\":0.2039270401,\"51\":0.1478215754,\"52\":0.1973040402,\"53\":0.1509415507,\"54\":0.314548552,\"55\":0.2097934783,\"56\":0.1366015673,\"57\":0.1978258789,\"58\":0.1582829952,\"59\":0.0995770991,\"60\":0.2123581767,\"61\":0.1271322072,\"62\":0.1939192116,\"63\":0.1223433018,\"64\":0.117433399,\"65\":0.1952511966,\"66\":0.1305118799,\"67\":0.1500963867,\"68\":0.1882879138,\"69\":0.1712973714,\"70\":0.1555682421,\"71\":0.1531719565,\"72\":0.1428595483,\"73\":0.1399430335,\"74\":0.1175705492,\"75\":0.1259566844,\"76\":0.1155759096,\"77\":0.1180751026,\"78\":0.1246313453,\"79\":0.2124183178,\"80\":0.0991351306,\"81\":0.0988272429,\"82\":0.1646112502,\"83\":0.2431687117,\"84\":0.1452568173,\"85\":0.151450187,\"86\":0.161542505,\"87\":0.212025106}}\n"
     ]
    }
   ],
   "source": [
    "print(json)"
   ]
  },
  {
   "cell_type": "code",
   "execution_count": 27,
   "id": "9955e7c8",
   "metadata": {},
   "outputs": [],
   "source": [
    "url = 'http://vps-40d69db1.vps.ovh.ca:23004/api/PrevisaoRedes/recebePrevisao'\n",
    "x = requests.post(url, data = json)"
   ]
  },
  {
   "cell_type": "markdown",
   "id": "6f4c5162",
   "metadata": {},
   "source": [
    "## Experiencias"
   ]
  },
  {
   "cell_type": "code",
   "execution_count": null,
   "id": "c481670e",
   "metadata": {},
   "outputs": [],
   "source": [
    "dfTicker = df.set_index('ticker')\n",
    "dfTicker.head()"
   ]
  },
  {
   "cell_type": "code",
   "execution_count": null,
   "id": "0d1c2903",
   "metadata": {},
   "outputs": [],
   "source": [
    "dfTratadoX = dfTicker.apply(trataLinhaX, axis='columns')"
   ]
  },
  {
   "cell_type": "code",
   "execution_count": null,
   "id": "913ccb93",
   "metadata": {},
   "outputs": [],
   "source": [
    "dfTratadoX.head()"
   ]
  },
  {
   "cell_type": "code",
   "execution_count": null,
   "id": "f95a24d6",
   "metadata": {},
   "outputs": [],
   "source": [
    "result = modelo.predict(dfTratadoX)"
   ]
  }
 ],
 "metadata": {
  "kernelspec": {
   "display_name": "Python 3 (ipykernel)",
   "language": "python",
   "name": "python3"
  },
  "language_info": {
   "codemirror_mode": {
    "name": "ipython",
    "version": 3
   },
   "file_extension": ".py",
   "mimetype": "text/x-python",
   "name": "python",
   "nbconvert_exporter": "python",
   "pygments_lexer": "ipython3",
   "version": "3.8.10"
  }
 },
 "nbformat": 4,
 "nbformat_minor": 5
}
