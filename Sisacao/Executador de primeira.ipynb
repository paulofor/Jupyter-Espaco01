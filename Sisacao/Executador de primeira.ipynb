{
 "cells": [
  {
   "cell_type": "code",
   "execution_count": 1,
   "id": "dd7c4f90",
   "metadata": {},
   "outputs": [
    {
     "name": "stderr",
     "output_type": "stream",
     "text": [
      "2022-06-10 10:52:30.086096: W tensorflow/stream_executor/platform/default/dso_loader.cc:64] Could not load dynamic library 'libcudart.so.11.0'; dlerror: libcudart.so.11.0: cannot open shared object file: No such file or directory\n",
      "2022-06-10 10:52:30.086166: I tensorflow/stream_executor/cuda/cudart_stub.cc:29] Ignore above cudart dlerror if you do not have a GPU set up on your machine.\n"
     ]
    }
   ],
   "source": [
    "import tensorflow as tf"
   ]
  },
  {
   "cell_type": "code",
   "execution_count": 2,
   "id": "f7ca5676",
   "metadata": {},
   "outputs": [
    {
     "name": "stdout",
     "output_type": "stream",
     "text": [
      "2.7.0\n"
     ]
    }
   ],
   "source": [
    "print(tf.__version__)"
   ]
  },
  {
   "cell_type": "code",
   "execution_count": 3,
   "id": "8c8477d0",
   "metadata": {},
   "outputs": [],
   "source": [
    "import requests\n",
    "import pandas as pd\n",
    "import numpy as np"
   ]
  },
  {
   "cell_type": "code",
   "execution_count": 72,
   "id": "93f4e412",
   "metadata": {},
   "outputs": [],
   "source": [
    "url = \"http://vps-40d69db1.vps.ovh.ca:23005/api/ExemploTreinoAcaoEntradas/obtemPorDia?diaNum=20220623\""
   ]
  },
  {
   "cell_type": "code",
   "execution_count": 73,
   "id": "65a8af2d",
   "metadata": {},
   "outputs": [],
   "source": [
    "r = requests.get(url)\n",
    "j = r.json()\n",
    "df = pd.DataFrame.from_dict(j)"
   ]
  },
  {
   "cell_type": "code",
   "execution_count": 74,
   "id": "dd23616d",
   "metadata": {},
   "outputs": [
    {
     "data": {
      "text/html": [
       "<div>\n",
       "<style scoped>\n",
       "    .dataframe tbody tr th:only-of-type {\n",
       "        vertical-align: middle;\n",
       "    }\n",
       "\n",
       "    .dataframe tbody tr th {\n",
       "        vertical-align: top;\n",
       "    }\n",
       "\n",
       "    .dataframe thead th {\n",
       "        text-align: right;\n",
       "    }\n",
       "</style>\n",
       "<table border=\"1\" class=\"dataframe\">\n",
       "  <thead>\n",
       "    <tr style=\"text-align: right;\">\n",
       "      <th></th>\n",
       "      <th>campoX</th>\n",
       "      <th>ticker</th>\n",
       "      <th>diaNumPrevisao</th>\n",
       "    </tr>\n",
       "  </thead>\n",
       "  <tbody>\n",
       "    <tr>\n",
       "      <th>0</th>\n",
       "      <td>1.170566, 1.167547, 1.166038, 1.169811, 1.166...</td>\n",
       "      <td>ABEV3</td>\n",
       "      <td>20220623</td>\n",
       "    </tr>\n",
       "    <tr>\n",
       "      <th>1</th>\n",
       "      <td>2.378947, 2.414035, 2.385965, 2.347368, 2.329...</td>\n",
       "      <td>AERI3</td>\n",
       "      <td>20220623</td>\n",
       "    </tr>\n",
       "    <tr>\n",
       "      <th>2</th>\n",
       "      <td>1.866938, 1.868969, 1.861351, 1.847638, 1.848...</td>\n",
       "      <td>ALPA4</td>\n",
       "      <td>20220623</td>\n",
       "    </tr>\n",
       "    <tr>\n",
       "      <th>3</th>\n",
       "      <td>1.231815, 1.239503, 1.232998, 1.236546, 1.239...</td>\n",
       "      <td>ALSO3</td>\n",
       "      <td>20220623</td>\n",
       "    </tr>\n",
       "    <tr>\n",
       "      <th>4</th>\n",
       "      <td>1.925000, 1.895000, 1.890000, 1.880000, 1.890...</td>\n",
       "      <td>AMAR3</td>\n",
       "      <td>20220623</td>\n",
       "    </tr>\n",
       "    <tr>\n",
       "      <th>5</th>\n",
       "      <td>1.661386, 1.641584, 1.631683, 1.627723, 1.625...</td>\n",
       "      <td>ANIM3</td>\n",
       "      <td>20220623</td>\n",
       "    </tr>\n",
       "    <tr>\n",
       "      <th>6</th>\n",
       "      <td>1.915797, 1.924739, 1.906855, 1.912072, 1.926...</td>\n",
       "      <td>AZUL4</td>\n",
       "      <td>20220623</td>\n",
       "    </tr>\n",
       "    <tr>\n",
       "      <th>7</th>\n",
       "      <td>0.968186, 0.963027, 0.958727, 0.957868, 0.963...</td>\n",
       "      <td>B3SA3</td>\n",
       "      <td>20220623</td>\n",
       "    </tr>\n",
       "    <tr>\n",
       "      <th>8</th>\n",
       "      <td>0.893118, 0.890378, 0.886114, 0.888246, 0.886...</td>\n",
       "      <td>BBAS3</td>\n",
       "      <td>20220623</td>\n",
       "    </tr>\n",
       "    <tr>\n",
       "      <th>9</th>\n",
       "      <td>1.053369, 1.047978, 1.042049, 1.051752, 1.049...</td>\n",
       "      <td>BBDC4</td>\n",
       "      <td>20220623</td>\n",
       "    </tr>\n",
       "    <tr>\n",
       "      <th>10</th>\n",
       "      <td>0.835803, 0.832199, 0.829395, 0.833400, 0.826...</td>\n",
       "      <td>BBSE3</td>\n",
       "      <td>20220623</td>\n",
       "    </tr>\n",
       "    <tr>\n",
       "      <th>11</th>\n",
       "      <td>0.794833, 0.794833, 0.797112, 0.796353, 0.795...</td>\n",
       "      <td>BEEF3</td>\n",
       "      <td>20220623</td>\n",
       "    </tr>\n",
       "    <tr>\n",
       "      <th>12</th>\n",
       "      <td>1.059932, 1.053082, 1.047945, 1.051370, 1.053...</td>\n",
       "      <td>BKBR3</td>\n",
       "      <td>20220623</td>\n",
       "    </tr>\n",
       "    <tr>\n",
       "      <th>13</th>\n",
       "      <td>0.940220, 0.934066, 0.916484, 0.917802, 0.919...</td>\n",
       "      <td>BPAC11</td>\n",
       "      <td>20220623</td>\n",
       "    </tr>\n",
       "    <tr>\n",
       "      <th>14</th>\n",
       "      <td>1.686400, 1.684800, 1.680000, 1.683200, 1.694...</td>\n",
       "      <td>BPAN4</td>\n",
       "      <td>20220623</td>\n",
       "    </tr>\n",
       "    <tr>\n",
       "      <th>15</th>\n",
       "      <td>0.968836, 0.964103, 0.965286, 0.975542, 0.973...</td>\n",
       "      <td>BRAP4</td>\n",
       "      <td>20220623</td>\n",
       "    </tr>\n",
       "    <tr>\n",
       "      <th>16</th>\n",
       "      <td>1.709702, 1.703591, 1.700535, 1.703591, 1.711...</td>\n",
       "      <td>BRFS3</td>\n",
       "      <td>20220623</td>\n",
       "    </tr>\n",
       "    <tr>\n",
       "      <th>17</th>\n",
       "      <td>1.555978, 1.562500, 1.557880, 1.566304, 1.563...</td>\n",
       "      <td>BRKM5</td>\n",
       "      <td>20220623</td>\n",
       "    </tr>\n",
       "    <tr>\n",
       "      <th>18</th>\n",
       "      <td>1.047059, 1.060131, 1.060131, 1.060131, 1.058...</td>\n",
       "      <td>BRML3</td>\n",
       "      <td>20220623</td>\n",
       "    </tr>\n",
       "    <tr>\n",
       "      <th>19</th>\n",
       "      <td>0.932965, 0.932965, 0.929811, 0.926656, 0.923...</td>\n",
       "      <td>CCRO3</td>\n",
       "      <td>20220623</td>\n",
       "    </tr>\n",
       "    <tr>\n",
       "      <th>20</th>\n",
       "      <td>0.560914, 0.558376, 0.553299, 0.555838, 0.555...</td>\n",
       "      <td>CIEL3</td>\n",
       "      <td>20220623</td>\n",
       "    </tr>\n",
       "    <tr>\n",
       "      <th>21</th>\n",
       "      <td>1.229907, 1.228972, 1.222430, 1.227103, 1.230...</td>\n",
       "      <td>CMIG4</td>\n",
       "      <td>20220623</td>\n",
       "    </tr>\n",
       "    <tr>\n",
       "      <th>22</th>\n",
       "      <td>1.075893, 1.071429, 1.071429, 1.071429, 1.066...</td>\n",
       "      <td>COGN3</td>\n",
       "      <td>20220623</td>\n",
       "    </tr>\n",
       "    <tr>\n",
       "      <th>23</th>\n",
       "      <td>0.834840, 0.831100, 0.826426, 0.826426, 0.825...</td>\n",
       "      <td>CPFE3</td>\n",
       "      <td>20220623</td>\n",
       "    </tr>\n",
       "    <tr>\n",
       "      <th>24</th>\n",
       "      <td>0.915954, 0.913105, 0.913105, 0.915954, 0.913...</td>\n",
       "      <td>CPLE6</td>\n",
       "      <td>20220623</td>\n",
       "    </tr>\n",
       "    <tr>\n",
       "      <th>25</th>\n",
       "      <td>0.974651, 0.971483, 0.974651, 0.974018, 0.977...</td>\n",
       "      <td>CRFB3</td>\n",
       "      <td>20220623</td>\n",
       "    </tr>\n",
       "    <tr>\n",
       "      <th>26</th>\n",
       "      <td>1.166757, 1.164041, 1.159153, 1.164041, 1.174...</td>\n",
       "      <td>CSAN3</td>\n",
       "      <td>20220623</td>\n",
       "    </tr>\n",
       "    <tr>\n",
       "      <th>27</th>\n",
       "      <td>1.064027, 1.072452, 1.064027, 1.069924, 1.064...</td>\n",
       "      <td>CSMG3</td>\n",
       "      <td>20220623</td>\n",
       "    </tr>\n",
       "    <tr>\n",
       "      <th>28</th>\n",
       "      <td>1.548468, 1.538462, 1.542839, 1.549719, 1.569...</td>\n",
       "      <td>CSNA3</td>\n",
       "      <td>20220623</td>\n",
       "    </tr>\n",
       "    <tr>\n",
       "      <th>29</th>\n",
       "      <td>1.530905, 1.513245, 1.525386, 1.530905, 1.541...</td>\n",
       "      <td>CVCB3</td>\n",
       "      <td>20220623</td>\n",
       "    </tr>\n",
       "    <tr>\n",
       "      <th>30</th>\n",
       "      <td>1.266831, 1.266010, 1.278325, 1.268473, 1.268...</td>\n",
       "      <td>CYRE3</td>\n",
       "      <td>20220623</td>\n",
       "    </tr>\n",
       "    <tr>\n",
       "      <th>31</th>\n",
       "      <td>1.165862, 1.173913, 1.167472, 1.161031, 1.164...</td>\n",
       "      <td>ECOR3</td>\n",
       "      <td>20220623</td>\n",
       "    </tr>\n",
       "    <tr>\n",
       "      <th>32</th>\n",
       "      <td>0.935678, 0.935196, 0.934715, 0.937605, 0.933...</td>\n",
       "      <td>EGIE3</td>\n",
       "      <td>20220623</td>\n",
       "    </tr>\n",
       "    <tr>\n",
       "      <th>33</th>\n",
       "      <td>0.747863, 0.744040, 0.740666, 0.744714, 0.740...</td>\n",
       "      <td>ELET3</td>\n",
       "      <td>20220623</td>\n",
       "    </tr>\n",
       "    <tr>\n",
       "      <th>34</th>\n",
       "      <td>0.739081, 0.733904, 0.732553, 0.735705, 0.734...</td>\n",
       "      <td>ELET6</td>\n",
       "      <td>20220623</td>\n",
       "    </tr>\n",
       "    <tr>\n",
       "      <th>35</th>\n",
       "      <td>2.070826, 2.069140, 2.069140, 2.064924, 2.067...</td>\n",
       "      <td>EMBR3</td>\n",
       "      <td>20220623</td>\n",
       "    </tr>\n",
       "    <tr>\n",
       "      <th>36</th>\n",
       "      <td>1.008197, 1.008197, 1.003857, 1.004822, 1.002...</td>\n",
       "      <td>ENBR3</td>\n",
       "      <td>20220623</td>\n",
       "    </tr>\n",
       "    <tr>\n",
       "      <th>37</th>\n",
       "      <td>0.958249, 0.952189, 0.946128, 0.942088, 0.940...</td>\n",
       "      <td>ENEV3</td>\n",
       "      <td>20220623</td>\n",
       "    </tr>\n",
       "    <tr>\n",
       "      <th>38</th>\n",
       "      <td>1.043194, 1.038758, 1.031987, 1.038524, 1.037...</td>\n",
       "      <td>ENGI11</td>\n",
       "      <td>20220623</td>\n",
       "    </tr>\n",
       "    <tr>\n",
       "      <th>39</th>\n",
       "      <td>0.969296, 0.964606, 0.959488, 0.965032, 0.961...</td>\n",
       "      <td>EQTL3</td>\n",
       "      <td>20220623</td>\n",
       "    </tr>\n",
       "  </tbody>\n",
       "</table>\n",
       "</div>"
      ],
      "text/plain": [
       "                                               campoX  ticker  diaNumPrevisao\n",
       "0    1.170566, 1.167547, 1.166038, 1.169811, 1.166...   ABEV3        20220623\n",
       "1    2.378947, 2.414035, 2.385965, 2.347368, 2.329...   AERI3        20220623\n",
       "2    1.866938, 1.868969, 1.861351, 1.847638, 1.848...   ALPA4        20220623\n",
       "3    1.231815, 1.239503, 1.232998, 1.236546, 1.239...   ALSO3        20220623\n",
       "4    1.925000, 1.895000, 1.890000, 1.880000, 1.890...   AMAR3        20220623\n",
       "5    1.661386, 1.641584, 1.631683, 1.627723, 1.625...   ANIM3        20220623\n",
       "6    1.915797, 1.924739, 1.906855, 1.912072, 1.926...   AZUL4        20220623\n",
       "7    0.968186, 0.963027, 0.958727, 0.957868, 0.963...   B3SA3        20220623\n",
       "8    0.893118, 0.890378, 0.886114, 0.888246, 0.886...   BBAS3        20220623\n",
       "9    1.053369, 1.047978, 1.042049, 1.051752, 1.049...   BBDC4        20220623\n",
       "10   0.835803, 0.832199, 0.829395, 0.833400, 0.826...   BBSE3        20220623\n",
       "11   0.794833, 0.794833, 0.797112, 0.796353, 0.795...   BEEF3        20220623\n",
       "12   1.059932, 1.053082, 1.047945, 1.051370, 1.053...   BKBR3        20220623\n",
       "13   0.940220, 0.934066, 0.916484, 0.917802, 0.919...  BPAC11        20220623\n",
       "14   1.686400, 1.684800, 1.680000, 1.683200, 1.694...   BPAN4        20220623\n",
       "15   0.968836, 0.964103, 0.965286, 0.975542, 0.973...   BRAP4        20220623\n",
       "16   1.709702, 1.703591, 1.700535, 1.703591, 1.711...   BRFS3        20220623\n",
       "17   1.555978, 1.562500, 1.557880, 1.566304, 1.563...   BRKM5        20220623\n",
       "18   1.047059, 1.060131, 1.060131, 1.060131, 1.058...   BRML3        20220623\n",
       "19   0.932965, 0.932965, 0.929811, 0.926656, 0.923...   CCRO3        20220623\n",
       "20   0.560914, 0.558376, 0.553299, 0.555838, 0.555...   CIEL3        20220623\n",
       "21   1.229907, 1.228972, 1.222430, 1.227103, 1.230...   CMIG4        20220623\n",
       "22   1.075893, 1.071429, 1.071429, 1.071429, 1.066...   COGN3        20220623\n",
       "23   0.834840, 0.831100, 0.826426, 0.826426, 0.825...   CPFE3        20220623\n",
       "24   0.915954, 0.913105, 0.913105, 0.915954, 0.913...   CPLE6        20220623\n",
       "25   0.974651, 0.971483, 0.974651, 0.974018, 0.977...   CRFB3        20220623\n",
       "26   1.166757, 1.164041, 1.159153, 1.164041, 1.174...   CSAN3        20220623\n",
       "27   1.064027, 1.072452, 1.064027, 1.069924, 1.064...   CSMG3        20220623\n",
       "28   1.548468, 1.538462, 1.542839, 1.549719, 1.569...   CSNA3        20220623\n",
       "29   1.530905, 1.513245, 1.525386, 1.530905, 1.541...   CVCB3        20220623\n",
       "30   1.266831, 1.266010, 1.278325, 1.268473, 1.268...   CYRE3        20220623\n",
       "31   1.165862, 1.173913, 1.167472, 1.161031, 1.164...   ECOR3        20220623\n",
       "32   0.935678, 0.935196, 0.934715, 0.937605, 0.933...   EGIE3        20220623\n",
       "33   0.747863, 0.744040, 0.740666, 0.744714, 0.740...   ELET3        20220623\n",
       "34   0.739081, 0.733904, 0.732553, 0.735705, 0.734...   ELET6        20220623\n",
       "35   2.070826, 2.069140, 2.069140, 2.064924, 2.067...   EMBR3        20220623\n",
       "36   1.008197, 1.008197, 1.003857, 1.004822, 1.002...   ENBR3        20220623\n",
       "37   0.958249, 0.952189, 0.946128, 0.942088, 0.940...   ENEV3        20220623\n",
       "38   1.043194, 1.038758, 1.031987, 1.038524, 1.037...  ENGI11        20220623\n",
       "39   0.969296, 0.964606, 0.959488, 0.965032, 0.961...   EQTL3        20220623"
      ]
     },
     "execution_count": 74,
     "metadata": {},
     "output_type": "execute_result"
    }
   ],
   "source": [
    "df.head(40)"
   ]
  },
  {
   "cell_type": "code",
   "execution_count": 75,
   "id": "da87d9ec",
   "metadata": {},
   "outputs": [],
   "source": [
    "def trataLinhaX(linha):\n",
    "    return np.fromstring(linha['campoX'], dtype=float, sep=',')"
   ]
  },
  {
   "cell_type": "code",
   "execution_count": 76,
   "id": "75414c41",
   "metadata": {},
   "outputs": [
    {
     "data": {
      "text/plain": [
       "(88, 1800)"
      ]
     },
     "execution_count": 76,
     "metadata": {},
     "output_type": "execute_result"
    }
   ],
   "source": [
    "dfTratadoX = df.apply(trataLinhaX, axis='columns')\n",
    "X = np.stack(dfTratadoX.values)\n",
    "X.shape"
   ]
  },
  {
   "cell_type": "code",
   "execution_count": 84,
   "id": "11ffd6b3",
   "metadata": {},
   "outputs": [],
   "source": [
    "modelo = tf.keras.models.load_model('rede1.h5')"
   ]
  },
  {
   "cell_type": "code",
   "execution_count": 85,
   "id": "0274a703",
   "metadata": {},
   "outputs": [
    {
     "name": "stdout",
     "output_type": "stream",
     "text": [
      "Model: \"sequential\"\n",
      "_________________________________________________________________\n",
      " Layer (type)                Output Shape              Param #   \n",
      "=================================================================\n",
      " dense (Dense)               (None, 1000)              1801000   \n",
      "                                                                 \n",
      " dense_1 (Dense)             (None, 500)               500500    \n",
      "                                                                 \n",
      " dense_2 (Dense)             (None, 1)                 501       \n",
      "                                                                 \n",
      "=================================================================\n",
      "Total params: 2,302,001\n",
      "Trainable params: 2,302,001\n",
      "Non-trainable params: 0\n",
      "_________________________________________________________________\n"
     ]
    }
   ],
   "source": [
    "modelo.summary()"
   ]
  },
  {
   "cell_type": "code",
   "execution_count": 86,
   "id": "46becfb4",
   "metadata": {},
   "outputs": [],
   "source": [
    "result = modelo.predict(X)"
   ]
  },
  {
   "cell_type": "code",
   "execution_count": 87,
   "id": "31ef7d0a",
   "metadata": {},
   "outputs": [],
   "source": [
    "df['resultado'] = result\n",
    "df['redeId'] = \"2\""
   ]
  },
  {
   "cell_type": "code",
   "execution_count": 88,
   "id": "15cf0217",
   "metadata": {},
   "outputs": [
    {
     "ename": "KeyError",
     "evalue": "\"['campoX'] not found in axis\"",
     "output_type": "error",
     "traceback": [
      "\u001b[0;31m---------------------------------------------------------------------------\u001b[0m",
      "\u001b[0;31mKeyError\u001b[0m                                  Traceback (most recent call last)",
      "\u001b[0;32m/tmp/ipykernel_2136282/119300937.py\u001b[0m in \u001b[0;36m<module>\u001b[0;34m\u001b[0m\n\u001b[0;32m----> 1\u001b[0;31m \u001b[0mdf\u001b[0m\u001b[0;34m.\u001b[0m\u001b[0mdrop\u001b[0m\u001b[0;34m(\u001b[0m\u001b[0;34m'campoX'\u001b[0m\u001b[0;34m,\u001b[0m \u001b[0minplace\u001b[0m\u001b[0;34m=\u001b[0m\u001b[0;32mTrue\u001b[0m\u001b[0;34m,\u001b[0m \u001b[0maxis\u001b[0m\u001b[0;34m=\u001b[0m\u001b[0;36m1\u001b[0m\u001b[0;34m)\u001b[0m\u001b[0;34m\u001b[0m\u001b[0;34m\u001b[0m\u001b[0m\n\u001b[0m",
      "\u001b[0;32m/usr/local/lib/python3.8/dist-packages/pandas/util/_decorators.py\u001b[0m in \u001b[0;36mwrapper\u001b[0;34m(*args, **kwargs)\u001b[0m\n\u001b[1;32m    309\u001b[0m                     \u001b[0mstacklevel\u001b[0m\u001b[0;34m=\u001b[0m\u001b[0mstacklevel\u001b[0m\u001b[0;34m,\u001b[0m\u001b[0;34m\u001b[0m\u001b[0;34m\u001b[0m\u001b[0m\n\u001b[1;32m    310\u001b[0m                 )\n\u001b[0;32m--> 311\u001b[0;31m             \u001b[0;32mreturn\u001b[0m \u001b[0mfunc\u001b[0m\u001b[0;34m(\u001b[0m\u001b[0;34m*\u001b[0m\u001b[0margs\u001b[0m\u001b[0;34m,\u001b[0m \u001b[0;34m**\u001b[0m\u001b[0mkwargs\u001b[0m\u001b[0;34m)\u001b[0m\u001b[0;34m\u001b[0m\u001b[0;34m\u001b[0m\u001b[0m\n\u001b[0m\u001b[1;32m    312\u001b[0m \u001b[0;34m\u001b[0m\u001b[0m\n\u001b[1;32m    313\u001b[0m         \u001b[0;32mreturn\u001b[0m \u001b[0mwrapper\u001b[0m\u001b[0;34m\u001b[0m\u001b[0;34m\u001b[0m\u001b[0m\n",
      "\u001b[0;32m/usr/local/lib/python3.8/dist-packages/pandas/core/frame.py\u001b[0m in \u001b[0;36mdrop\u001b[0;34m(self, labels, axis, index, columns, level, inplace, errors)\u001b[0m\n\u001b[1;32m   4904\u001b[0m                 \u001b[0mweight\u001b[0m  \u001b[0;36m1.0\u001b[0m     \u001b[0;36m0.8\u001b[0m\u001b[0;34m\u001b[0m\u001b[0;34m\u001b[0m\u001b[0m\n\u001b[1;32m   4905\u001b[0m         \"\"\"\n\u001b[0;32m-> 4906\u001b[0;31m         return super().drop(\n\u001b[0m\u001b[1;32m   4907\u001b[0m             \u001b[0mlabels\u001b[0m\u001b[0;34m=\u001b[0m\u001b[0mlabels\u001b[0m\u001b[0;34m,\u001b[0m\u001b[0;34m\u001b[0m\u001b[0;34m\u001b[0m\u001b[0m\n\u001b[1;32m   4908\u001b[0m             \u001b[0maxis\u001b[0m\u001b[0;34m=\u001b[0m\u001b[0maxis\u001b[0m\u001b[0;34m,\u001b[0m\u001b[0;34m\u001b[0m\u001b[0;34m\u001b[0m\u001b[0m\n",
      "\u001b[0;32m/usr/local/lib/python3.8/dist-packages/pandas/core/generic.py\u001b[0m in \u001b[0;36mdrop\u001b[0;34m(self, labels, axis, index, columns, level, inplace, errors)\u001b[0m\n\u001b[1;32m   4148\u001b[0m         \u001b[0;32mfor\u001b[0m \u001b[0maxis\u001b[0m\u001b[0;34m,\u001b[0m \u001b[0mlabels\u001b[0m \u001b[0;32min\u001b[0m \u001b[0maxes\u001b[0m\u001b[0;34m.\u001b[0m\u001b[0mitems\u001b[0m\u001b[0;34m(\u001b[0m\u001b[0;34m)\u001b[0m\u001b[0;34m:\u001b[0m\u001b[0;34m\u001b[0m\u001b[0;34m\u001b[0m\u001b[0m\n\u001b[1;32m   4149\u001b[0m             \u001b[0;32mif\u001b[0m \u001b[0mlabels\u001b[0m \u001b[0;32mis\u001b[0m \u001b[0;32mnot\u001b[0m \u001b[0;32mNone\u001b[0m\u001b[0;34m:\u001b[0m\u001b[0;34m\u001b[0m\u001b[0;34m\u001b[0m\u001b[0m\n\u001b[0;32m-> 4150\u001b[0;31m                 \u001b[0mobj\u001b[0m \u001b[0;34m=\u001b[0m \u001b[0mobj\u001b[0m\u001b[0;34m.\u001b[0m\u001b[0m_drop_axis\u001b[0m\u001b[0;34m(\u001b[0m\u001b[0mlabels\u001b[0m\u001b[0;34m,\u001b[0m \u001b[0maxis\u001b[0m\u001b[0;34m,\u001b[0m \u001b[0mlevel\u001b[0m\u001b[0;34m=\u001b[0m\u001b[0mlevel\u001b[0m\u001b[0;34m,\u001b[0m \u001b[0merrors\u001b[0m\u001b[0;34m=\u001b[0m\u001b[0merrors\u001b[0m\u001b[0;34m)\u001b[0m\u001b[0;34m\u001b[0m\u001b[0;34m\u001b[0m\u001b[0m\n\u001b[0m\u001b[1;32m   4151\u001b[0m \u001b[0;34m\u001b[0m\u001b[0m\n\u001b[1;32m   4152\u001b[0m         \u001b[0;32mif\u001b[0m \u001b[0minplace\u001b[0m\u001b[0;34m:\u001b[0m\u001b[0;34m\u001b[0m\u001b[0;34m\u001b[0m\u001b[0m\n",
      "\u001b[0;32m/usr/local/lib/python3.8/dist-packages/pandas/core/generic.py\u001b[0m in \u001b[0;36m_drop_axis\u001b[0;34m(self, labels, axis, level, errors)\u001b[0m\n\u001b[1;32m   4183\u001b[0m                 \u001b[0mnew_axis\u001b[0m \u001b[0;34m=\u001b[0m \u001b[0maxis\u001b[0m\u001b[0;34m.\u001b[0m\u001b[0mdrop\u001b[0m\u001b[0;34m(\u001b[0m\u001b[0mlabels\u001b[0m\u001b[0;34m,\u001b[0m \u001b[0mlevel\u001b[0m\u001b[0;34m=\u001b[0m\u001b[0mlevel\u001b[0m\u001b[0;34m,\u001b[0m \u001b[0merrors\u001b[0m\u001b[0;34m=\u001b[0m\u001b[0merrors\u001b[0m\u001b[0;34m)\u001b[0m\u001b[0;34m\u001b[0m\u001b[0;34m\u001b[0m\u001b[0m\n\u001b[1;32m   4184\u001b[0m             \u001b[0;32melse\u001b[0m\u001b[0;34m:\u001b[0m\u001b[0;34m\u001b[0m\u001b[0;34m\u001b[0m\u001b[0m\n\u001b[0;32m-> 4185\u001b[0;31m                 \u001b[0mnew_axis\u001b[0m \u001b[0;34m=\u001b[0m \u001b[0maxis\u001b[0m\u001b[0;34m.\u001b[0m\u001b[0mdrop\u001b[0m\u001b[0;34m(\u001b[0m\u001b[0mlabels\u001b[0m\u001b[0;34m,\u001b[0m \u001b[0merrors\u001b[0m\u001b[0;34m=\u001b[0m\u001b[0merrors\u001b[0m\u001b[0;34m)\u001b[0m\u001b[0;34m\u001b[0m\u001b[0;34m\u001b[0m\u001b[0m\n\u001b[0m\u001b[1;32m   4186\u001b[0m             \u001b[0mresult\u001b[0m \u001b[0;34m=\u001b[0m \u001b[0mself\u001b[0m\u001b[0;34m.\u001b[0m\u001b[0mreindex\u001b[0m\u001b[0;34m(\u001b[0m\u001b[0;34m**\u001b[0m\u001b[0;34m{\u001b[0m\u001b[0maxis_name\u001b[0m\u001b[0;34m:\u001b[0m \u001b[0mnew_axis\u001b[0m\u001b[0;34m}\u001b[0m\u001b[0;34m)\u001b[0m\u001b[0;34m\u001b[0m\u001b[0;34m\u001b[0m\u001b[0m\n\u001b[1;32m   4187\u001b[0m \u001b[0;34m\u001b[0m\u001b[0m\n",
      "\u001b[0;32m/usr/local/lib/python3.8/dist-packages/pandas/core/indexes/base.py\u001b[0m in \u001b[0;36mdrop\u001b[0;34m(self, labels, errors)\u001b[0m\n\u001b[1;32m   6015\u001b[0m         \u001b[0;32mif\u001b[0m \u001b[0mmask\u001b[0m\u001b[0;34m.\u001b[0m\u001b[0many\u001b[0m\u001b[0;34m(\u001b[0m\u001b[0;34m)\u001b[0m\u001b[0;34m:\u001b[0m\u001b[0;34m\u001b[0m\u001b[0;34m\u001b[0m\u001b[0m\n\u001b[1;32m   6016\u001b[0m             \u001b[0;32mif\u001b[0m \u001b[0merrors\u001b[0m \u001b[0;34m!=\u001b[0m \u001b[0;34m\"ignore\"\u001b[0m\u001b[0;34m:\u001b[0m\u001b[0;34m\u001b[0m\u001b[0;34m\u001b[0m\u001b[0m\n\u001b[0;32m-> 6017\u001b[0;31m                 \u001b[0;32mraise\u001b[0m \u001b[0mKeyError\u001b[0m\u001b[0;34m(\u001b[0m\u001b[0;34mf\"{labels[mask]} not found in axis\"\u001b[0m\u001b[0;34m)\u001b[0m\u001b[0;34m\u001b[0m\u001b[0;34m\u001b[0m\u001b[0m\n\u001b[0m\u001b[1;32m   6018\u001b[0m             \u001b[0mindexer\u001b[0m \u001b[0;34m=\u001b[0m \u001b[0mindexer\u001b[0m\u001b[0;34m[\u001b[0m\u001b[0;34m~\u001b[0m\u001b[0mmask\u001b[0m\u001b[0;34m]\u001b[0m\u001b[0;34m\u001b[0m\u001b[0;34m\u001b[0m\u001b[0m\n\u001b[1;32m   6019\u001b[0m         \u001b[0;32mreturn\u001b[0m \u001b[0mself\u001b[0m\u001b[0;34m.\u001b[0m\u001b[0mdelete\u001b[0m\u001b[0;34m(\u001b[0m\u001b[0mindexer\u001b[0m\u001b[0;34m)\u001b[0m\u001b[0;34m\u001b[0m\u001b[0;34m\u001b[0m\u001b[0m\n",
      "\u001b[0;31mKeyError\u001b[0m: \"['campoX'] not found in axis\""
     ]
    }
   ],
   "source": [
    "df.drop('campoX', inplace=True, axis=1)"
   ]
  },
  {
   "cell_type": "code",
   "execution_count": null,
   "id": "a1be2482",
   "metadata": {},
   "outputs": [],
   "source": [
    "json = df.to_dict(orient='list')"
   ]
  },
  {
   "cell_type": "code",
   "execution_count": null,
   "id": "9955e7c8",
   "metadata": {},
   "outputs": [],
   "source": [
    "url = 'http://vps-40d69db1.vps.ovh.ca:23005/api/PrevisaoRedes/recebePrevisao'\n",
    "\n",
    "response = requests.post(url, data=json)"
   ]
  },
  {
   "cell_type": "code",
   "execution_count": null,
   "id": "bbac64a0",
   "metadata": {},
   "outputs": [],
   "source": [
    "print(response)"
   ]
  },
  {
   "cell_type": "code",
   "execution_count": null,
   "id": "500b941b",
   "metadata": {},
   "outputs": [],
   "source": []
  }
 ],
 "metadata": {
  "kernelspec": {
   "display_name": "Python 3 (ipykernel)",
   "language": "python",
   "name": "python3"
  },
  "language_info": {
   "codemirror_mode": {
    "name": "ipython",
    "version": 3
   },
   "file_extension": ".py",
   "mimetype": "text/x-python",
   "name": "python",
   "nbconvert_exporter": "python",
   "pygments_lexer": "ipython3",
   "version": "3.8.10"
  }
 },
 "nbformat": 4,
 "nbformat_minor": 5
}
