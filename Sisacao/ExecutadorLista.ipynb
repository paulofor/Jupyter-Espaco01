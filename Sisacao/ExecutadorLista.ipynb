{
 "cells": [
  {
   "cell_type": "code",
   "execution_count": 1,
   "id": "8f96bd76",
   "metadata": {},
   "outputs": [
    {
     "name": "stderr",
     "output_type": "stream",
     "text": [
      "2022-07-01 11:45:03.605741: W tensorflow/stream_executor/platform/default/dso_loader.cc:64] Could not load dynamic library 'libcudart.so.11.0'; dlerror: libcudart.so.11.0: cannot open shared object file: No such file or directory\n",
      "2022-07-01 11:45:03.605810: I tensorflow/stream_executor/cuda/cudart_stub.cc:29] Ignore above cudart dlerror if you do not have a GPU set up on your machine.\n"
     ]
    }
   ],
   "source": [
    "import tensorflow as tf"
   ]
  },
  {
   "cell_type": "code",
   "execution_count": 2,
   "id": "39bb3d02",
   "metadata": {},
   "outputs": [
    {
     "name": "stdout",
     "output_type": "stream",
     "text": [
      "2.7.0\n"
     ]
    }
   ],
   "source": [
    "print(tf.__version__)"
   ]
  },
  {
   "cell_type": "code",
   "execution_count": 3,
   "id": "619ebbfb",
   "metadata": {},
   "outputs": [],
   "source": [
    "import requests\n",
    "import pandas as pd\n",
    "import numpy as np"
   ]
  },
  {
   "cell_type": "code",
   "execution_count": 4,
   "id": "7026a1ce",
   "metadata": {},
   "outputs": [],
   "source": [
    "url = \"http://vps-40d69db1.vps.ovh.ca:23004/api/TreinoRedes/obtemListaParaPrevisao\""
   ]
  },
  {
   "cell_type": "code",
   "execution_count": 5,
   "id": "e619cadd",
   "metadata": {},
   "outputs": [],
   "source": [
    "urlExemplos = \"http://vps-40d69db1.vps.ovh.ca:23004/api/ExemploTreinoAcaoEntradas/obtemProximoDia\""
   ]
  },
  {
   "cell_type": "code",
   "execution_count": 6,
   "id": "b82e627e",
   "metadata": {},
   "outputs": [],
   "source": [
    "r = requests.get(url)\n",
    "j = r.json()\n",
    "dfTreino = pd.DataFrame.from_dict(j)"
   ]
  },
  {
   "cell_type": "code",
   "execution_count": 7,
   "id": "44992ff7",
   "metadata": {},
   "outputs": [
    {
     "data": {
      "text/html": [
       "<div>\n",
       "<style scoped>\n",
       "    .dataframe tbody tr th:only-of-type {\n",
       "        vertical-align: middle;\n",
       "    }\n",
       "\n",
       "    .dataframe tbody tr th {\n",
       "        vertical-align: top;\n",
       "    }\n",
       "\n",
       "    .dataframe thead th {\n",
       "        text-align: right;\n",
       "    }\n",
       "</style>\n",
       "<table border=\"1\" class=\"dataframe\">\n",
       "  <thead>\n",
       "    <tr style=\"text-align: right;\">\n",
       "      <th></th>\n",
       "      <th>ativoPrevisao</th>\n",
       "      <th>id</th>\n",
       "      <th>grupoAcaoId</th>\n",
       "      <th>periodoTreinoRedeId</th>\n",
       "      <th>tipoExemploTreinoId</th>\n",
       "      <th>regraProjecaoId</th>\n",
       "      <th>redeNeuralId</th>\n",
       "    </tr>\n",
       "  </thead>\n",
       "  <tbody>\n",
       "    <tr>\n",
       "      <th>0</th>\n",
       "      <td>1</td>\n",
       "      <td>2</td>\n",
       "      <td>12</td>\n",
       "      <td>1</td>\n",
       "      <td>1</td>\n",
       "      <td>30</td>\n",
       "      <td>2</td>\n",
       "    </tr>\n",
       "  </tbody>\n",
       "</table>\n",
       "</div>"
      ],
      "text/plain": [
       "   ativoPrevisao  id  grupoAcaoId  periodoTreinoRedeId  tipoExemploTreinoId  \\\n",
       "0              1   2           12                    1                    1   \n",
       "\n",
       "   regraProjecaoId  redeNeuralId  \n",
       "0               30             2  "
      ]
     },
     "execution_count": 7,
     "metadata": {},
     "output_type": "execute_result"
    }
   ],
   "source": [
    "dfTreino.head()"
   ]
  },
  {
   "cell_type": "code",
   "execution_count": 8,
   "id": "a5ab8a95",
   "metadata": {},
   "outputs": [],
   "source": [
    "global dfDados\n",
    "r = requests.get(urlExemplos)\n",
    "j = r.json()\n",
    "dfDados = pd.DataFrame.from_dict(j)"
   ]
  },
  {
   "cell_type": "code",
   "execution_count": 9,
   "id": "6c974bea",
   "metadata": {},
   "outputs": [
    {
     "data": {
      "text/html": [
       "<div>\n",
       "<style scoped>\n",
       "    .dataframe tbody tr th:only-of-type {\n",
       "        vertical-align: middle;\n",
       "    }\n",
       "\n",
       "    .dataframe tbody tr th {\n",
       "        vertical-align: top;\n",
       "    }\n",
       "\n",
       "    .dataframe thead th {\n",
       "        text-align: right;\n",
       "    }\n",
       "</style>\n",
       "<table border=\"1\" class=\"dataframe\">\n",
       "  <thead>\n",
       "    <tr style=\"text-align: right;\">\n",
       "      <th></th>\n",
       "      <th>campoX</th>\n",
       "      <th>ticker</th>\n",
       "      <th>diaNumPrevisao</th>\n",
       "    </tr>\n",
       "  </thead>\n",
       "  <tbody>\n",
       "    <tr>\n",
       "      <th>0</th>\n",
       "      <td>1.115442, 1.111694, 1.109445, 1.121439, 1.121...</td>\n",
       "      <td>ABEV3</td>\n",
       "      <td>20220701</td>\n",
       "    </tr>\n",
       "    <tr>\n",
       "      <th>1</th>\n",
       "      <td>2.094203, 2.047101, 2.050725, 2.086957, 2.036...</td>\n",
       "      <td>AERI3</td>\n",
       "      <td>20220701</td>\n",
       "    </tr>\n",
       "    <tr>\n",
       "      <th>2</th>\n",
       "      <td>1.676980, 1.667541, 1.683797, 1.712113, 1.711...</td>\n",
       "      <td>ALPA4</td>\n",
       "      <td>20220701</td>\n",
       "    </tr>\n",
       "    <tr>\n",
       "      <th>3</th>\n",
       "      <td>1.196250, 1.170000, 1.161875, 1.182500, 1.170...</td>\n",
       "      <td>ALSO3</td>\n",
       "      <td>20220701</td>\n",
       "    </tr>\n",
       "    <tr>\n",
       "      <th>4</th>\n",
       "      <td>1.847953, 1.812865, 1.824561, 1.865497, 1.836...</td>\n",
       "      <td>AMAR3</td>\n",
       "      <td>20220701</td>\n",
       "    </tr>\n",
       "  </tbody>\n",
       "</table>\n",
       "</div>"
      ],
      "text/plain": [
       "                                              campoX ticker  diaNumPrevisao\n",
       "0   1.115442, 1.111694, 1.109445, 1.121439, 1.121...  ABEV3        20220701\n",
       "1   2.094203, 2.047101, 2.050725, 2.086957, 2.036...  AERI3        20220701\n",
       "2   1.676980, 1.667541, 1.683797, 1.712113, 1.711...  ALPA4        20220701\n",
       "3   1.196250, 1.170000, 1.161875, 1.182500, 1.170...  ALSO3        20220701\n",
       "4   1.847953, 1.812865, 1.824561, 1.865497, 1.836...  AMAR3        20220701"
      ]
     },
     "execution_count": 9,
     "metadata": {},
     "output_type": "execute_result"
    }
   ],
   "source": [
    "dfDados.head()"
   ]
  },
  {
   "cell_type": "code",
   "execution_count": 10,
   "id": "4b2f057a",
   "metadata": {},
   "outputs": [],
   "source": [
    "global dfEntradas"
   ]
  },
  {
   "cell_type": "code",
   "execution_count": 11,
   "id": "dd355779",
   "metadata": {},
   "outputs": [],
   "source": [
    "def incluiEntrada(treino):\n",
    "    urlEntrada = \"http://vps-40d69db1.vps.ovh.ca:23004/api/CotacaoIntradayAcaoResultados/listaPrecoEntradaPrevisaoProximoB3?idRegra=\" + str(treino['regraProjecaoId']) + \"&idGrupo=\" + str(treino['grupoAcaoId'])\n",
    "    print(urlEntrada)\n",
    "    r = requests.get(urlEntrada)\n",
    "    j = r.json()\n",
    "    dfEntradas = pd.DataFrame.from_dict(j)\n",
    "    return dfEntradas\n",
    "  "
   ]
  },
  {
   "cell_type": "code",
   "execution_count": 12,
   "id": "3f0d564b",
   "metadata": {},
   "outputs": [],
   "source": [
    "def trataRede(treino):\n",
    "    print('ID:' , treino['id'])\n",
    "    nome_arquivo = 'pesos/treino_rede' + str(treino['id']) + '.h5'\n",
    "    print(nome_arquivo)\n",
    "    modelo = tf.keras.models.load_model(nome_arquivo)\n",
    "    modelo.summary()\n",
    "    result = modelo.predict(X)\n",
    "    dfDados['resultado'] = result\n",
    "    dfDados['treinoRedeId'] = str(treino['id'])\n",
    "    dfEntradas = incluiEntrada(treino)\n",
    "    dfPrevisao = pd.merge(dfDados,dfEntradas, how='left', left_on='ticker' ,  right_on='ticker')\n",
    "    json = dfPrevisao.to_dict(orient='list')\n",
    "    urlPrevisao = 'http://vps-40d69db1.vps.ovh.ca:23004/api/PrevisaoRedes/recebePrevisaoTreino'\n",
    "    #response = requests.post(urlPrevisao, data=json)\n",
    "    #print(response)"
   ]
  },
  {
   "cell_type": "code",
   "execution_count": 13,
   "id": "f39a310a",
   "metadata": {},
   "outputs": [],
   "source": [
    "def trataLinhaX(linha):\n",
    "    return np.fromstring(linha['campoX'], dtype=float, sep=',')"
   ]
  },
  {
   "cell_type": "code",
   "execution_count": 14,
   "id": "95c8fb3e",
   "metadata": {},
   "outputs": [
    {
     "data": {
      "text/plain": [
       "(88, 1800)"
      ]
     },
     "execution_count": 14,
     "metadata": {},
     "output_type": "execute_result"
    }
   ],
   "source": [
    "dfTratadoX = dfDados.apply(trataLinhaX, axis='columns')\n",
    "X = np.stack(dfTratadoX.values)\n",
    "X.shape"
   ]
  },
  {
   "cell_type": "code",
   "execution_count": 15,
   "id": "49522423",
   "metadata": {},
   "outputs": [],
   "source": [
    "dfDados.drop('campoX', inplace=True, axis=1)"
   ]
  },
  {
   "cell_type": "code",
   "execution_count": 16,
   "id": "906ddbc3",
   "metadata": {},
   "outputs": [
    {
     "name": "stdout",
     "output_type": "stream",
     "text": [
      "ID: 2\n",
      "pesos/treino_rede2.h5\n"
     ]
    },
    {
     "name": "stderr",
     "output_type": "stream",
     "text": [
      "2022-07-01 11:45:40.498857: E tensorflow/stream_executor/cuda/cuda_driver.cc:271] failed call to cuInit: CUDA_ERROR_NO_DEVICE: no CUDA-capable device is detected\n",
      "2022-07-01 11:45:40.507303: I tensorflow/stream_executor/cuda/cuda_diagnostics.cc:156] kernel driver does not appear to be running on this host (vps34755): /proc/driver/nvidia/version does not exist\n",
      "2022-07-01 11:45:40.570502: I tensorflow/core/platform/cpu_feature_guard.cc:151] This TensorFlow binary is optimized with oneAPI Deep Neural Network Library (oneDNN) to use the following CPU instructions in performance-critical operations:  AVX2 FMA\n",
      "To enable them in other operations, rebuild TensorFlow with the appropriate compiler flags.\n",
      "2022-07-01 11:45:41.675072: W tensorflow/core/framework/cpu_allocator_impl.cc:82] Allocation of 12960000 exceeds 10% of free system memory.\n",
      "2022-07-01 11:45:41.946860: W tensorflow/core/framework/cpu_allocator_impl.cc:82] Allocation of 12960000 exceeds 10% of free system memory.\n",
      "2022-07-01 11:45:42.183708: W tensorflow/core/framework/cpu_allocator_impl.cc:82] Allocation of 12960000 exceeds 10% of free system memory.\n",
      "2022-07-01 11:45:42.848966: W tensorflow/core/framework/cpu_allocator_impl.cc:82] Allocation of 10080000 exceeds 10% of free system memory.\n",
      "2022-07-01 11:45:42.884761: W tensorflow/core/framework/cpu_allocator_impl.cc:82] Allocation of 10080000 exceeds 10% of free system memory.\n"
     ]
    },
    {
     "name": "stdout",
     "output_type": "stream",
     "text": [
      "Model: \"sequential\"\n",
      "_________________________________________________________________\n",
      " Layer (type)                Output Shape              Param #   \n",
      "=================================================================\n",
      " dense (Dense)               (None, 1800)              3241800   \n",
      "                                                                 \n",
      " dense_1 (Dense)             (None, 1400)              2521400   \n",
      "                                                                 \n",
      " dense_2 (Dense)             (None, 1000)              1401000   \n",
      "                                                                 \n",
      " dense_3 (Dense)             (None, 600)               600600    \n",
      "                                                                 \n",
      " dense_4 (Dense)             (None, 200)               120200    \n",
      "                                                                 \n",
      " dense_5 (Dense)             (None, 1)                 201       \n",
      "                                                                 \n",
      "=================================================================\n",
      "Total params: 7,885,201\n",
      "Trainable params: 7,885,201\n",
      "Non-trainable params: 0\n",
      "_________________________________________________________________\n",
      "http://vps-40d69db1.vps.ovh.ca:23004/api/CotacaoIntradayAcaoResultados/listaPrecoEntradaPrevisaoProximoB3?idRegra=30&idGrupo=12\n",
      "  ticker  valor  valorEntrada\n",
      "0  ABEV3  13.34       13.6068\n",
      "1  AERI3   2.76        2.8152\n",
      "2  ALPA4  19.07       19.4514\n",
      "3  ALSO3  16.00       16.3200\n",
      "4  AMAR3   1.71        1.7442\n",
      "{'ticker': ['ABEV3', 'AERI3', 'ALPA4', 'ALSO3', 'AMAR3', 'ANIM3', 'AZUL4', 'B3SA3', 'BBAS3', 'BBDC4', 'BBSE3', 'BEEF3', 'BKBR3', 'BPAC11', 'BPAN4', 'BRAP4', 'BRFS3', 'BRKM5', 'BRML3', 'CCRO3', 'CIEL3', 'CMIG4', 'COGN3', 'CPFE3', 'CPLE6', 'CRFB3', 'CSAN3', 'CSMG3', 'CSNA3', 'CVCB3', 'CYRE3', 'ECOR3', 'EGIE3', 'ELET3', 'ELET6', 'EMBR3', 'ENBR3', 'ENEV3', 'ENGI11', 'EQTL3', 'EZTC3', 'FLRY3', 'GGBR4', 'GOAU4', 'GOLL4', 'HAPV3', 'HYPE3', 'ITUB4', 'JBSS3', 'JHSF3', 'KLBN11', 'LCAM3', 'LIGT3', 'LREN3', 'LWSA3', 'MGLU3', 'MOVI3', 'MRFG3', 'MRVE3', 'MULT3', 'MYPK3', 'NEOE3', 'NTCO3', 'PCAR3', 'PETR4', 'POSI3', 'PRIO3', 'PTBL3', 'QUAL3', 'RADL3', 'RAIL3', 'RAPT4', 'RENT3', 'SANB11', 'SBSP3', 'SLCE3', 'SMTO3', 'STBP3', 'SULA11', 'SUZB3', 'TAEE11', 'TOTS3', 'UGPA3', 'USIM5', 'VALE3', 'WEGE3', 'WIZS3', 'YDUQ3'], 'diaNumPrevisao': [20220701, 20220701, 20220701, 20220701, 20220701, 20220701, 20220701, 20220701, 20220701, 20220701, 20220701, 20220701, 20220701, 20220701, 20220701, 20220701, 20220701, 20220701, 20220701, 20220701, 20220701, 20220701, 20220701, 20220701, 20220701, 20220701, 20220701, 20220701, 20220701, 20220701, 20220701, 20220701, 20220701, 20220701, 20220701, 20220701, 20220701, 20220701, 20220701, 20220701, 20220701, 20220701, 20220701, 20220701, 20220701, 20220701, 20220701, 20220701, 20220701, 20220701, 20220701, 20220701, 20220701, 20220701, 20220701, 20220701, 20220701, 20220701, 20220701, 20220701, 20220701, 20220701, 20220701, 20220701, 20220701, 20220701, 20220701, 20220701, 20220701, 20220701, 20220701, 20220701, 20220701, 20220701, 20220701, 20220701, 20220701, 20220701, 20220701, 20220701, 20220701, 20220701, 20220701, 20220701, 20220701, 20220701, 20220701, 20220701], 'resultado': [0.2447626292705536, 0.473338782787323, 0.3237515985965729, 0.3905870318412781, 0.381777822971344, 0.37204623222351074, 0.42686885595321655, 0.405791312456131, 0.275564968585968, 0.2423790693283081, 0.3371553421020508, 0.4073493480682373, 0.3411324620246887, 0.3267887234687805, 0.4639410674571991, 0.3337927460670471, 0.30643099546432495, 0.23847422003746033, 0.3348134458065033, 0.2696796953678131, 0.4770219027996063, 0.4091705083847046, 0.3068534731864929, 0.36542317271232605, 0.26967108249664307, 0.5770193934440613, 0.2958895266056061, 0.30563122034072876, 0.38528385758399963, 0.5752595663070679, 0.40925922989845276, 0.24522611498832703, 0.2699849009513855, 0.3658485412597656, 0.36683011054992676, 0.3356498181819916, 0.26162227988243103, 0.29240286350250244, 0.29477113485336304, 0.2988857626914978, 0.2852244973182678, 0.2963133156299591, 0.25678950548171997, 0.2263314425945282, 0.4277274012565613, 0.49283522367477417, 0.3859693109989166, 0.2623139023780823, 0.25558704137802124, 0.348801851272583, 0.2573348879814148, 0.27444174885749817, 0.3407926857471466, 0.24383312463760376, 0.4142535924911499, 0.489636093378067, 0.332098126411438, 0.40889063477516174, 0.4331547021865845, 0.3546693027019501, 0.23052701354026794, 0.27974051237106323, 0.4861183762550354, 0.477378785610199, 0.288106232881546, 0.344430148601532, 0.2603115439414978, 0.4361859858036041, 0.34260568022727966, 0.29106301069259644, 0.24871483445167542, 0.23551058769226074, 0.2862666845321655, 0.27665266394615173, 0.4191499948501587, 0.26949140429496765, 0.37991055846214294, 0.3373373746871948, 0.5491788983345032, 0.24628984928131104, 0.30899930000305176, 0.5537590384483337, 0.2608879804611206, 0.37453317642211914, 0.2810937762260437, 0.399236798286438, 0.2708187699317932, 0.39299291372299194], 'treinoRedeId': ['2', '2', '2', '2', '2', '2', '2', '2', '2', '2', '2', '2', '2', '2', '2', '2', '2', '2', '2', '2', '2', '2', '2', '2', '2', '2', '2', '2', '2', '2', '2', '2', '2', '2', '2', '2', '2', '2', '2', '2', '2', '2', '2', '2', '2', '2', '2', '2', '2', '2', '2', '2', '2', '2', '2', '2', '2', '2', '2', '2', '2', '2', '2', '2', '2', '2', '2', '2', '2', '2', '2', '2', '2', '2', '2', '2', '2', '2', '2', '2', '2', '2', '2', '2', '2', '2', '2', '2'], 'valor': [13.34, 2.76, 19.07, 16.0, 1.71, 3.9, 12.37, 10.93, 33.37, 17.19, 25.9, 13.27, 5.56, 22.2, 6.1, 25.19, 13.52, 37.06, 7.52, 12.35, 3.74, 10.36, 2.12, 30.73, 6.83, 16.65, 18.13, 11.52, 15.44, 6.97, 11.82, 5.74, 41.12, 46.02, 46.72, 11.45, 20.42, 14.67, 40.1, 22.73, 14.39, 16.25, 22.38, 9.53, 9.06, 5.45, 37.8, 22.65, 31.59, 5.81, 20.17, 23.67, 5.81, 22.49, 5.6, 2.34, 13.11, 12.12, 7.8, 21.92, 15.67, 14.93, 13.42, 16.28, 27.89, 5.46, 21.9, 6.36, 11.1, 19.14, 15.88, 9.37, 52.08, 28.8, 41.8, 44.12, 36.33, 6.48, 22.0, 49.52, 38.59, 23.04, 12.28, 8.64, 76.41, 26.36, 7.86, 13.05], 'valorEntrada': [13.6068, 2.8152, 19.4514, 16.32, 1.7442, 3.978, 12.6174, 11.1486, 34.0374, 17.5338, 26.418, 13.5354, 5.6712, 22.644, 6.222, 25.6938, 13.7904, 37.8012, 7.6704, 12.597, 3.8148, 10.5672, 2.1624, 31.3446, 6.9666, 16.983, 18.4926, 11.7504, 15.7488, 7.1094, 12.0564, 5.8548, 41.9424, 46.9404, 47.6544, 11.679, 20.8284, 14.9634, 40.902, 23.1846, 14.6778, 16.575, 22.8276, 9.7206, 9.2412, 5.559, 38.556, 23.103, 32.2218, 5.9262, 20.5734, 24.1434, 5.9262, 22.9398, 5.712, 2.3868, 13.3722, 12.3624, 7.956, 22.3584, 15.9834, 15.2286, 13.6884, 16.6056, 28.4478, 5.5692, 22.338, 6.4872, 11.322, 19.5228, 16.1976, 9.5574, 53.1216, 29.376, 42.636, 45.0024, 37.0566, 6.6096, 22.44, 50.5104, 39.3618, 23.5008, 12.5256, 8.8128, 77.9382, 26.8872, 8.0172, 13.311]}\n"
     ]
    },
    {
     "data": {
      "text/plain": [
       "0    None\n",
       "dtype: object"
      ]
     },
     "execution_count": 16,
     "metadata": {},
     "output_type": "execute_result"
    }
   ],
   "source": [
    "dfTreino.apply(trataRede, axis='columns')"
   ]
  },
  {
   "cell_type": "code",
   "execution_count": null,
   "id": "18e58944",
   "metadata": {},
   "outputs": [],
   "source": []
  }
 ],
 "metadata": {
  "kernelspec": {
   "display_name": "Python 3 (ipykernel)",
   "language": "python",
   "name": "python3"
  },
  "language_info": {
   "codemirror_mode": {
    "name": "ipython",
    "version": 3
   },
   "file_extension": ".py",
   "mimetype": "text/x-python",
   "name": "python",
   "nbconvert_exporter": "python",
   "pygments_lexer": "ipython3",
   "version": "3.8.10"
  }
 },
 "nbformat": 4,
 "nbformat_minor": 5
}
