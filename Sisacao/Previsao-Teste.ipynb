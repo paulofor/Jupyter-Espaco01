{
 "cells": [
  {
   "cell_type": "code",
   "execution_count": 3,
   "id": "01ce9929",
   "metadata": {},
   "outputs": [
    {
     "name": "stderr",
     "output_type": "stream",
     "text": [
      "2022-08-30 13:14:30.495386: W tensorflow/stream_executor/platform/default/dso_loader.cc:64] Could not load dynamic library 'libcudart.so.11.0'; dlerror: libcudart.so.11.0: cannot open shared object file: No such file or directory\n",
      "2022-08-30 13:14:30.495465: I tensorflow/stream_executor/cuda/cudart_stub.cc:29] Ignore above cudart dlerror if you do not have a GPU set up on your machine.\n"
     ]
    }
   ],
   "source": [
    "import tensorflow as tf\n",
    "import requests\n",
    "import pandas as pd\n",
    "import numpy as np"
   ]
  },
  {
   "cell_type": "code",
   "execution_count": 4,
   "id": "80fa9b3b",
   "metadata": {},
   "outputs": [],
   "source": [
    "url = \"http://vps-40d69db1.vps.ovh.ca:23004/api/TreinoRedes/obtemListaParaTestePorGrupo?idGrupo=1\""
   ]
  },
  {
   "cell_type": "code",
   "execution_count": 5,
   "id": "45d1682e",
   "metadata": {},
   "outputs": [
    {
     "data": {
      "text/html": [
       "<div>\n",
       "<style scoped>\n",
       "    .dataframe tbody tr th:only-of-type {\n",
       "        vertical-align: middle;\n",
       "    }\n",
       "\n",
       "    .dataframe tbody tr th {\n",
       "        vertical-align: top;\n",
       "    }\n",
       "\n",
       "    .dataframe thead th {\n",
       "        text-align: right;\n",
       "    }\n",
       "</style>\n",
       "<table border=\"1\" class=\"dataframe\">\n",
       "  <thead>\n",
       "    <tr style=\"text-align: right;\">\n",
       "      <th></th>\n",
       "      <th>id</th>\n",
       "      <th>grupoAcaoId</th>\n",
       "      <th>periodoTreinoRedeId</th>\n",
       "      <th>tipoExemploTreinoId</th>\n",
       "      <th>regraProjecaoId</th>\n",
       "      <th>redeNeuralId</th>\n",
       "      <th>ativoPrevisao</th>\n",
       "      <th>limiteParaEntrada</th>\n",
       "      <th>qtdeLucroTeste</th>\n",
       "      <th>qtdePrejuizoTeste</th>\n",
       "      <th>pontuacaoTeste</th>\n",
       "      <th>treinoGrupoRedeId</th>\n",
       "      <th>dataCriacaoGmt</th>\n",
       "      <th>dataTreinamento</th>\n",
       "      <th>ativoTeste</th>\n",
       "      <th>dataTeste</th>\n",
       "      <th>tipoCompraVenda</th>\n",
       "      <th>diaNumInicioTeste</th>\n",
       "      <th>diaNumFinalTeste</th>\n",
       "    </tr>\n",
       "  </thead>\n",
       "  <tbody>\n",
       "    <tr>\n",
       "      <th>0</th>\n",
       "      <td>9</td>\n",
       "      <td>12</td>\n",
       "      <td>1</td>\n",
       "      <td>None</td>\n",
       "      <td>35</td>\n",
       "      <td>2</td>\n",
       "      <td>0</td>\n",
       "      <td>None</td>\n",
       "      <td>None</td>\n",
       "      <td>None</td>\n",
       "      <td>None</td>\n",
       "      <td>1</td>\n",
       "      <td>2022-08-20T13:42:56.000Z</td>\n",
       "      <td>2022-08-24T08:35:08.000Z</td>\n",
       "      <td>1</td>\n",
       "      <td>None</td>\n",
       "      <td>V</td>\n",
       "      <td>20220601</td>\n",
       "      <td>20220831</td>\n",
       "    </tr>\n",
       "  </tbody>\n",
       "</table>\n",
       "</div>"
      ],
      "text/plain": [
       "   id  grupoAcaoId  periodoTreinoRedeId tipoExemploTreinoId  regraProjecaoId  \\\n",
       "0   9           12                    1                None               35   \n",
       "\n",
       "   redeNeuralId  ativoPrevisao limiteParaEntrada qtdeLucroTeste  \\\n",
       "0             2              0              None           None   \n",
       "\n",
       "  qtdePrejuizoTeste pontuacaoTeste  treinoGrupoRedeId  \\\n",
       "0              None           None                  1   \n",
       "\n",
       "             dataCriacaoGmt           dataTreinamento  ativoTeste dataTeste  \\\n",
       "0  2022-08-20T13:42:56.000Z  2022-08-24T08:35:08.000Z           1      None   \n",
       "\n",
       "  tipoCompraVenda  diaNumInicioTeste  diaNumFinalTeste  \n",
       "0               V           20220601          20220831  "
      ]
     },
     "execution_count": 5,
     "metadata": {},
     "output_type": "execute_result"
    }
   ],
   "source": [
    "r = requests.get(url)\n",
    "j = r.json()\n",
    "dfTreino = pd.DataFrame.from_dict(j)\n",
    "dfTreino.head()"
   ]
  },
  {
   "cell_type": "code",
   "execution_count": 19,
   "id": "ed739ed0",
   "metadata": {},
   "outputs": [],
   "source": [
    "#json = dfTreino['id'].to_dict()\n",
    "df= pd.DataFrame (dfTreino['id'], columns = ['id'])\n",
    "df= df.rename(columns={\"id\": \"listaId\"})"
   ]
  },
  {
   "cell_type": "code",
   "execution_count": 20,
   "id": "3c87651b",
   "metadata": {},
   "outputs": [],
   "source": [
    "json = df.to_dict(orient='list')"
   ]
  },
  {
   "cell_type": "code",
   "execution_count": 21,
   "id": "dccf0cbb",
   "metadata": {},
   "outputs": [
    {
     "name": "stdout",
     "output_type": "stream",
     "text": [
      "{'listaId': [9]}\n"
     ]
    }
   ],
   "source": [
    "print(json)"
   ]
  },
  {
   "cell_type": "code",
   "execution_count": null,
   "id": "53adfc6d",
   "metadata": {},
   "outputs": [],
   "source": [
    "def trataLinhaX(linha):\n",
    "    return np.fromstring(linha['campoX'], dtype=float, sep=',')"
   ]
  },
  {
   "cell_type": "code",
   "execution_count": null,
   "id": "ed16c8a2",
   "metadata": {},
   "outputs": [],
   "source": [
    "def incluiEntrada(treino):\n",
    "    urlEntrada = \"http://vps-40d69db1.vps.ovh.ca:23004/api/CotacaoIntradayAcaoResultados/listaPrecoEntradaPrevisaoPorDiaB3?diaNum=\" + str(diaCorrente) +\"&idRegra=\" + str(treino['regraProjecaoId']) + \"&idGrupo=\" + str(treino['grupoAcaoId'])\n",
    "    #print(urlEntrada)\n",
    "    r = requests.get(urlEntrada)\n",
    "    j = r.json()\n",
    "    dfEntradas = pd.DataFrame.from_dict(j)\n",
    "    #print(dfEntradas.head())\n",
    "    return dfEntradas"
   ]
  },
  {
   "cell_type": "code",
   "execution_count": null,
   "id": "be06b068",
   "metadata": {},
   "outputs": [],
   "source": [
    "def trataRede():\n",
    "    treino = treinoCorrente\n",
    "    #print('ID:' , treino['id'])\n",
    "    #print(nome_arquivo)\n",
    "    #modelo.summary()\n",
    "    result = modelo.predict(X)\n",
    "    dfDados['resultado'] = result\n",
    "    dfDados['treinoRedeId'] = str(treino['id'])\n",
    "    dfDados['tipoCompraVenda'] = treino['tipoCompraVenda']\n",
    "    dfEntradas = incluiEntrada(treino)\n",
    "    dfPrevisao = pd.merge(dfDados,dfEntradas, how='left', left_on='ticker' ,  right_on='ticker')\n",
    "    #print('ticker previsão:' , len(dfPrevisao))\n",
    "    json = dfPrevisao.to_dict(orient='list')\n",
    "    urlPrevisao = 'http://vps-40d69db1.vps.ovh.ca:23004/api/PrevisaoTestes/recebePrevisaoTreinoTeste'\n",
    "    #print(json)\n",
    "    response = requests.post(urlPrevisao, data=json)\n",
    "    print(response)"
   ]
  },
  {
   "cell_type": "code",
   "execution_count": null,
   "id": "53b397b4",
   "metadata": {},
   "outputs": [],
   "source": [
    "def trataDiaPregao(dia):\n",
    "    print('Tratando Dia: ' , dia.diaNum)\n",
    "    global diaCorrente\n",
    "    diaCorrente = dia.diaNum\n",
    "    urlExemplos = \"http://vps-40d69db1.vps.ovh.ca:23004/api/ExemploTreinoAcaoEntradas/obtemPorDiaNum?diaNum={}\".format(dia.diaNum)\n",
    "    #print(urlExemplos)\n",
    "    r = requests.get(urlExemplos)\n",
    "    j = r.json()\n",
    "    global dfDados\n",
    "    dfDados = pd.DataFrame.from_dict(j)\n",
    "    #print(dfDados.head())\n",
    "    dfTratadoX = dfDados.apply(trataLinhaX, axis='columns')\n",
    "    global X\n",
    "    X = np.stack(dfTratadoX.values)\n",
    "    X.shape\n",
    "    dfDados.drop('campoX', inplace=True, axis=1)\n",
    "    trataRede()"
   ]
  },
  {
   "cell_type": "code",
   "execution_count": null,
   "id": "76affca2",
   "metadata": {},
   "outputs": [],
   "source": [
    "def trataTreinoRede(treino):\n",
    "    print('Tratando Rede: ' , treino.id)\n",
    "    global treinoCorrente\n",
    "    treinoCorrente = treino\n",
    "    nome_arquivo = 'redes/treino_rede' + str(treino['id']) + '.h5'\n",
    "    global modelo\n",
    "    modelo = tf.keras.models.load_model(nome_arquivo)\n",
    "\n",
    "    #print('TreinoCorrente: ' , treinoCorrente)\n",
    "    urlDias = \"http://vps-40d69db1.vps.ovh.ca:23004/api/DiaPregaos/obtemPeriodoPrevisaoTeste?idPeriodoTreinoRede={}\".format(treino.periodoTreinoRedeId)\n",
    "    r = requests.get(urlDias)\n",
    "    j = r.json()\n",
    "    dfDias = pd.DataFrame.from_dict(j)\n",
    "    #print(dfDias.head())\n",
    "    dfDias.apply(trataDiaPregao, axis='columns')"
   ]
  },
  {
   "cell_type": "code",
   "execution_count": null,
   "id": "dbaaaeba",
   "metadata": {},
   "outputs": [],
   "source": [
    "dfTreino.apply(trataTreinoRede, axis='columns')"
   ]
  }
 ],
 "metadata": {
  "kernelspec": {
   "display_name": "Python 3 (ipykernel)",
   "language": "python",
   "name": "python3"
  },
  "language_info": {
   "codemirror_mode": {
    "name": "ipython",
    "version": 3
   },
   "file_extension": ".py",
   "mimetype": "text/x-python",
   "name": "python",
   "nbconvert_exporter": "python",
   "pygments_lexer": "ipython3",
   "version": "3.8.10"
  }
 },
 "nbformat": 4,
 "nbformat_minor": 5
}
