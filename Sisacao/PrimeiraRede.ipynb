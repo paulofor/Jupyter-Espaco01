{
 "cells": [
  {
   "cell_type": "markdown",
   "id": "227a51cc",
   "metadata": {},
   "source": [
    "# Inicialização"
   ]
  },
  {
   "cell_type": "code",
   "execution_count": 1,
   "id": "539a27f1",
   "metadata": {},
   "outputs": [
    {
     "name": "stderr",
     "output_type": "stream",
     "text": [
      "2022-05-30 04:39:48.654460: W tensorflow/stream_executor/platform/default/dso_loader.cc:64] Could not load dynamic library 'libcudart.so.11.0'; dlerror: libcudart.so.11.0: cannot open shared object file: No such file or directory\n",
      "2022-05-30 04:39:48.654508: I tensorflow/stream_executor/cuda/cudart_stub.cc:29] Ignore above cudart dlerror if you do not have a GPU set up on your machine.\n"
     ]
    }
   ],
   "source": [
    "import tensorflow as tf"
   ]
  },
  {
   "cell_type": "code",
   "execution_count": 2,
   "id": "6fbb5187",
   "metadata": {},
   "outputs": [
    {
     "name": "stdout",
     "output_type": "stream",
     "text": [
      "2.7.0\n"
     ]
    }
   ],
   "source": [
    "print(tf.__version__)"
   ]
  },
  {
   "cell_type": "markdown",
   "id": "e64d1133",
   "metadata": {},
   "source": [
    "# Conectando com servidor"
   ]
  },
  {
   "cell_type": "code",
   "execution_count": 3,
   "id": "b50a9639",
   "metadata": {},
   "outputs": [],
   "source": [
    "import requests\n",
    "import pandas as pd\n",
    "import numpy as np"
   ]
  },
  {
   "cell_type": "code",
   "execution_count": 4,
   "id": "adda5ee5",
   "metadata": {},
   "outputs": [],
   "source": [
    "codigoGrupo = \"Neg-100\"\n",
    "codigoPeriodo = \"11\"\n",
    "codigoRegra = \"t11s17v\"\n",
    "\n",
    "url = \"http://vps-40d69db1.vps.ovh.ca:23005/api/ExemploTreinoAcaos/obtemConjuntoTreino?idPeriodo={}&codigoGrupoAcao={}&codigoRegraProjecao={}\".format(codigoPeriodo,codigoGrupo,codigoRegra)"
   ]
  },
  {
   "cell_type": "code",
   "execution_count": 5,
   "id": "9bc86f4d",
   "metadata": {},
   "outputs": [
    {
     "name": "stdout",
     "output_type": "stream",
     "text": [
      "http://vps-40d69db1.vps.ovh.ca:23005/api/ExemploTreinoAcaos/obtemConjuntoTreino?idPeriodo=11&codigoGrupoAcao=Neg-100&codigoRegraProjecao=t11s17v\n"
     ]
    }
   ],
   "source": [
    "print(url)"
   ]
  },
  {
   "cell_type": "code",
   "execution_count": 6,
   "id": "12e6203d",
   "metadata": {},
   "outputs": [],
   "source": [
    "r = requests.get(url)\n",
    "j = r.json()\n",
    "df = pd.DataFrame.from_dict(j)"
   ]
  },
  {
   "cell_type": "code",
   "execution_count": 7,
   "id": "3f2dd5b1",
   "metadata": {},
   "outputs": [],
   "source": [
    "def trataLinhaX(linha):\n",
    "    return np.fromstring(linha['campoX'], dtype=float, sep=',')"
   ]
  },
  {
   "cell_type": "code",
   "execution_count": 8,
   "id": "8b20152e",
   "metadata": {},
   "outputs": [],
   "source": [
    "dfTratadoX = df.apply(trataLinhaX, axis='columns')"
   ]
  },
  {
   "cell_type": "code",
   "execution_count": 9,
   "id": "813651d8",
   "metadata": {},
   "outputs": [],
   "source": [
    "X = np.stack(dfTratadoX.values)"
   ]
  },
  {
   "cell_type": "code",
   "execution_count": 10,
   "id": "8e6d1673",
   "metadata": {},
   "outputs": [
    {
     "data": {
      "text/plain": [
       "(5280, 1800)"
      ]
     },
     "execution_count": 10,
     "metadata": {},
     "output_type": "execute_result"
    }
   ],
   "source": [
    "X.shape"
   ]
  },
  {
   "cell_type": "code",
   "execution_count": 11,
   "id": "3d39dd51",
   "metadata": {},
   "outputs": [],
   "source": [
    "Y = np.stack(df['campoY'].values)"
   ]
  },
  {
   "cell_type": "code",
   "execution_count": 12,
   "id": "d8843193",
   "metadata": {},
   "outputs": [],
   "source": [
    "Y = Y.reshape(-1,1)"
   ]
  },
  {
   "cell_type": "code",
   "execution_count": 13,
   "id": "44c2a051",
   "metadata": {},
   "outputs": [
    {
     "data": {
      "text/plain": [
       "(5280, 1)"
      ]
     },
     "execution_count": 13,
     "metadata": {},
     "output_type": "execute_result"
    }
   ],
   "source": [
    "Y.shape"
   ]
  },
  {
   "cell_type": "markdown",
   "id": "063b2243",
   "metadata": {},
   "source": [
    "# Minha Rede Simples"
   ]
  },
  {
   "cell_type": "code",
   "execution_count": 14,
   "id": "d08bd02a",
   "metadata": {},
   "outputs": [
    {
     "name": "stderr",
     "output_type": "stream",
     "text": [
      "2022-05-30 04:42:23.517138: E tensorflow/stream_executor/cuda/cuda_driver.cc:271] failed call to cuInit: CUDA_ERROR_NO_DEVICE: no CUDA-capable device is detected\n",
      "2022-05-30 04:42:23.528252: I tensorflow/stream_executor/cuda/cuda_diagnostics.cc:156] kernel driver does not appear to be running on this host (vps34755): /proc/driver/nvidia/version does not exist\n",
      "2022-05-30 04:42:23.720078: I tensorflow/core/platform/cpu_feature_guard.cc:151] This TensorFlow binary is optimized with oneAPI Deep Neural Network Library (oneDNN) to use the following CPU instructions in performance-critical operations:  AVX2 FMA\n",
      "To enable them in other operations, rebuild TensorFlow with the appropriate compiler flags.\n",
      "2022-05-30 04:42:27.304626: W tensorflow/core/framework/cpu_allocator_impl.cc:82] Allocation of 6480000 exceeds 10% of free system memory.\n",
      "2022-05-30 04:42:27.938464: W tensorflow/core/framework/cpu_allocator_impl.cc:82] Allocation of 6480000 exceeds 10% of free system memory.\n",
      "2022-05-30 04:42:28.211790: W tensorflow/core/framework/cpu_allocator_impl.cc:82] Allocation of 6480000 exceeds 10% of free system memory.\n"
     ]
    }
   ],
   "source": [
    "model = tf.keras.Sequential([\n",
    "    tf.keras.Input(shape=(1800,)),\n",
    "    tf.keras.layers.Dense(900, activation=tf.nn.relu), \n",
    "    tf.keras.layers.Dense(1, activation=tf.nn.sigmoid)\n",
    "])\n"
   ]
  },
  {
   "cell_type": "code",
   "execution_count": 15,
   "id": "61baf2c4",
   "metadata": {},
   "outputs": [
    {
     "name": "stdout",
     "output_type": "stream",
     "text": [
      "Model: \"sequential\"\n",
      "_________________________________________________________________\n",
      " Layer (type)                Output Shape              Param #   \n",
      "=================================================================\n",
      " dense (Dense)               (None, 900)               1620900   \n",
      "                                                                 \n",
      " dense_1 (Dense)             (None, 1)                 901       \n",
      "                                                                 \n",
      "=================================================================\n",
      "Total params: 1,621,801\n",
      "Trainable params: 1,621,801\n",
      "Non-trainable params: 0\n",
      "_________________________________________________________________\n"
     ]
    }
   ],
   "source": [
    "model.summary()"
   ]
  },
  {
   "cell_type": "code",
   "execution_count": 16,
   "id": "3bbfb8c8",
   "metadata": {},
   "outputs": [],
   "source": [
    "#model.compile(optimizer='adam', loss='binary_crossentropy', metrics=['accuracy'])"
   ]
  },
  {
   "cell_type": "code",
   "execution_count": 17,
   "id": "39a2afec",
   "metadata": {},
   "outputs": [],
   "source": [
    "model.compile(optimizer='adam' , loss='mean_squared_error')"
   ]
  },
  {
   "cell_type": "markdown",
   "id": "73d7328f",
   "metadata": {},
   "source": [
    "# Dados de Validação"
   ]
  },
  {
   "cell_type": "code",
   "execution_count": 18,
   "id": "3b2503f9",
   "metadata": {},
   "outputs": [],
   "source": [
    "urlValida = \"http://vps-40d69db1.vps.ovh.ca:23005/api/ExemploTreinoAcaos/obtemConjuntoDesenvolvimento?idPeriodo={}&codigoGrupoAcao={}&codigoRegraProjecao={}\".format(codigoPeriodo,codigoGrupo,codigoRegra)"
   ]
  },
  {
   "cell_type": "code",
   "execution_count": 19,
   "id": "64004ce7",
   "metadata": {},
   "outputs": [
    {
     "name": "stdout",
     "output_type": "stream",
     "text": [
      "http://vps-40d69db1.vps.ovh.ca:23005/api/ExemploTreinoAcaos/obtemConjuntoDesenvolvimento?idPeriodo=11&codigoGrupoAcao=Neg-100&codigoRegraProjecao=t11s17v\n"
     ]
    }
   ],
   "source": [
    "print(urlValida)"
   ]
  },
  {
   "cell_type": "code",
   "execution_count": 20,
   "id": "97d16c98",
   "metadata": {},
   "outputs": [],
   "source": [
    "r = requests.get(urlValida)\n",
    "j = r.json()\n",
    "dfValida = pd.DataFrame.from_dict(j)"
   ]
  },
  {
   "cell_type": "code",
   "execution_count": 21,
   "id": "37d1af7f",
   "metadata": {},
   "outputs": [
    {
     "data": {
      "text/html": [
       "<div>\n",
       "<style scoped>\n",
       "    .dataframe tbody tr th:only-of-type {\n",
       "        vertical-align: middle;\n",
       "    }\n",
       "\n",
       "    .dataframe tbody tr th {\n",
       "        vertical-align: top;\n",
       "    }\n",
       "\n",
       "    .dataframe thead th {\n",
       "        text-align: right;\n",
       "    }\n",
       "</style>\n",
       "<table border=\"1\" class=\"dataframe\">\n",
       "  <thead>\n",
       "    <tr style=\"text-align: right;\">\n",
       "      <th></th>\n",
       "      <th>campoX</th>\n",
       "      <th>campoY</th>\n",
       "    </tr>\n",
       "  </thead>\n",
       "  <tbody>\n",
       "    <tr>\n",
       "      <th>0</th>\n",
       "      <td>1.110304, 1.114927, 1.108322, 1.103038, 1.103...</td>\n",
       "      <td>0</td>\n",
       "    </tr>\n",
       "    <tr>\n",
       "      <th>1</th>\n",
       "      <td>1.130732, 1.136893, 1.135524, 1.133470, 1.135...</td>\n",
       "      <td>0</td>\n",
       "    </tr>\n",
       "    <tr>\n",
       "      <th>2</th>\n",
       "      <td>1.151473, 1.172511, 1.172511, 1.179523, 1.174...</td>\n",
       "      <td>0</td>\n",
       "    </tr>\n",
       "    <tr>\n",
       "      <th>3</th>\n",
       "      <td>1.213515, 1.210640, 1.207045, 1.187635, 1.193...</td>\n",
       "      <td>0</td>\n",
       "    </tr>\n",
       "    <tr>\n",
       "      <th>4</th>\n",
       "      <td>1.198813, 1.206973, 1.204006, 1.203264, 1.201...</td>\n",
       "      <td>0</td>\n",
       "    </tr>\n",
       "  </tbody>\n",
       "</table>\n",
       "</div>"
      ],
      "text/plain": [
       "                                              campoX  campoY\n",
       "0   1.110304, 1.114927, 1.108322, 1.103038, 1.103...       0\n",
       "1   1.130732, 1.136893, 1.135524, 1.133470, 1.135...       0\n",
       "2   1.151473, 1.172511, 1.172511, 1.179523, 1.174...       0\n",
       "3   1.213515, 1.210640, 1.207045, 1.187635, 1.193...       0\n",
       "4   1.198813, 1.206973, 1.204006, 1.203264, 1.201...       0"
      ]
     },
     "execution_count": 21,
     "metadata": {},
     "output_type": "execute_result"
    }
   ],
   "source": [
    "dfValida.head()"
   ]
  },
  {
   "cell_type": "code",
   "execution_count": 22,
   "id": "3f45d5f5",
   "metadata": {},
   "outputs": [
    {
     "data": {
      "text/plain": [
       "(1936, 1800)"
      ]
     },
     "execution_count": 22,
     "metadata": {},
     "output_type": "execute_result"
    }
   ],
   "source": [
    "dfTratadoValidaX = dfValida.apply(trataLinhaX, axis='columns')\n",
    "XValida = np.stack(dfTratadoValidaX.values)\n",
    "XValida.shape\n"
   ]
  },
  {
   "cell_type": "code",
   "execution_count": 23,
   "id": "8f152705",
   "metadata": {},
   "outputs": [],
   "source": [
    "YValida = np.stack(dfValida['campoY'].values)\n"
   ]
  },
  {
   "cell_type": "code",
   "execution_count": 24,
   "id": "82c133f2",
   "metadata": {},
   "outputs": [],
   "source": [
    "YValida = YValida.reshape(-1,1)"
   ]
  },
  {
   "cell_type": "code",
   "execution_count": 25,
   "id": "4a700b88",
   "metadata": {},
   "outputs": [
    {
     "data": {
      "text/plain": [
       "(1936, 1)"
      ]
     },
     "execution_count": 25,
     "metadata": {},
     "output_type": "execute_result"
    }
   ],
   "source": [
    "YValida.shape"
   ]
  },
  {
   "cell_type": "code",
   "execution_count": 26,
   "id": "ee3b0ac8",
   "metadata": {},
   "outputs": [],
   "source": [
    "#history = model.fit(x=X,y=Y, validation_data=(XValida, YValida) ,\n",
    "#                    steps_per_epoch=100,\n",
    "#                    epochs=15,\n",
    "#                    validation_steps=50,\n",
    "#                    verbose=2)"
   ]
  },
  {
   "cell_type": "code",
   "execution_count": 27,
   "id": "d5ea9d85",
   "metadata": {},
   "outputs": [
    {
     "name": "stderr",
     "output_type": "stream",
     "text": [
      "2022-05-30 04:43:17.495559: W tensorflow/core/framework/cpu_allocator_impl.cc:82] Allocation of 38016000 exceeds 10% of free system memory.\n"
     ]
    },
    {
     "name": "stdout",
     "output_type": "stream",
     "text": [
      "Epoch 1/100\n"
     ]
    },
    {
     "name": "stderr",
     "output_type": "stream",
     "text": [
      "2022-05-30 04:43:36.973248: W tensorflow/core/framework/cpu_allocator_impl.cc:82] Allocation of 6480000 exceeds 10% of free system memory.\n"
     ]
    },
    {
     "name": "stdout",
     "output_type": "stream",
     "text": [
      "165/165 [==============================] - 35s 163ms/step - loss: 0.2320 - val_loss: 0.0857\n",
      "Epoch 2/100\n",
      "165/165 [==============================] - 15s 82ms/step - loss: 0.2297 - val_loss: 0.0857\n",
      "Epoch 3/100\n",
      "165/165 [==============================] - 6s 29ms/step - loss: 0.2297 - val_loss: 0.0857\n",
      "Epoch 4/100\n",
      "165/165 [==============================] - 4s 21ms/step - loss: 0.2297 - val_loss: 0.0857\n",
      "Epoch 5/100\n",
      "165/165 [==============================] - 3s 21ms/step - loss: 0.2297 - val_loss: 0.0857\n",
      "Epoch 6/100\n",
      "165/165 [==============================] - 4s 22ms/step - loss: 0.2297 - val_loss: 0.0857\n",
      "Epoch 7/100\n",
      "165/165 [==============================] - 4s 21ms/step - loss: 0.2297 - val_loss: 0.0857\n",
      "Epoch 8/100\n",
      "165/165 [==============================] - 3s 21ms/step - loss: 0.2297 - val_loss: 0.0857\n",
      "Epoch 9/100\n",
      "165/165 [==============================] - 3s 21ms/step - loss: 0.2297 - val_loss: 0.0857\n",
      "Epoch 10/100\n",
      "165/165 [==============================] - 3s 20ms/step - loss: 0.2297 - val_loss: 0.0857\n",
      "Epoch 11/100\n",
      "165/165 [==============================] - 3s 20ms/step - loss: 0.2297 - val_loss: 0.0857\n",
      "Epoch 12/100\n",
      "165/165 [==============================] - 3s 21ms/step - loss: 0.2297 - val_loss: 0.0857\n",
      "Epoch 13/100\n",
      "165/165 [==============================] - 4s 22ms/step - loss: 0.2297 - val_loss: 0.0857\n",
      "Epoch 14/100\n",
      "165/165 [==============================] - 3s 21ms/step - loss: 0.2297 - val_loss: 0.0857\n",
      "Epoch 15/100\n",
      "165/165 [==============================] - 3s 20ms/step - loss: 0.2297 - val_loss: 0.0857\n",
      "Epoch 16/100\n",
      "165/165 [==============================] - 3s 21ms/step - loss: 0.2297 - val_loss: 0.0857\n",
      "Epoch 17/100\n",
      "165/165 [==============================] - 3s 20ms/step - loss: 0.2297 - val_loss: 0.0857\n",
      "Epoch 18/100\n",
      "165/165 [==============================] - 4s 27ms/step - loss: 0.2297 - val_loss: 0.0857\n",
      "Epoch 19/100\n",
      "165/165 [==============================] - 3s 20ms/step - loss: 0.2297 - val_loss: 0.0857\n",
      "Epoch 20/100\n",
      "165/165 [==============================] - 3s 21ms/step - loss: 0.2297 - val_loss: 0.0857\n",
      "Epoch 21/100\n",
      "165/165 [==============================] - 4s 22ms/step - loss: 0.2297 - val_loss: 0.0857\n",
      "Epoch 22/100\n",
      "165/165 [==============================] - 4s 26ms/step - loss: 0.2297 - val_loss: 0.0857\n",
      "Epoch 23/100\n",
      "165/165 [==============================] - 4s 21ms/step - loss: 0.2297 - val_loss: 0.0857\n",
      "Epoch 24/100\n",
      "165/165 [==============================] - 3s 20ms/step - loss: 0.2297 - val_loss: 0.0857\n",
      "Epoch 25/100\n",
      "165/165 [==============================] - 3s 21ms/step - loss: 0.2297 - val_loss: 0.0857\n",
      "Epoch 26/100\n",
      "165/165 [==============================] - 3s 20ms/step - loss: 0.2297 - val_loss: 0.0857\n",
      "Epoch 27/100\n",
      "165/165 [==============================] - 3s 20ms/step - loss: 0.2297 - val_loss: 0.0857\n",
      "Epoch 28/100\n",
      "165/165 [==============================] - 3s 21ms/step - loss: 0.2297 - val_loss: 0.0857\n",
      "Epoch 29/100\n",
      "165/165 [==============================] - 4s 22ms/step - loss: 0.2297 - val_loss: 0.0857\n",
      "Epoch 30/100\n",
      "165/165 [==============================] - 3s 21ms/step - loss: 0.2297 - val_loss: 0.0857\n",
      "Epoch 31/100\n",
      "165/165 [==============================] - 3s 21ms/step - loss: 0.2297 - val_loss: 0.0857\n",
      "Epoch 32/100\n",
      "165/165 [==============================] - 3s 20ms/step - loss: 0.2297 - val_loss: 0.0857\n",
      "Epoch 33/100\n",
      "165/165 [==============================] - 3s 21ms/step - loss: 0.2297 - val_loss: 0.0857\n",
      "Epoch 34/100\n",
      "165/165 [==============================] - 3s 20ms/step - loss: 0.2297 - val_loss: 0.0857\n",
      "Epoch 35/100\n",
      "165/165 [==============================] - 4s 24ms/step - loss: 0.2297 - val_loss: 0.0857\n",
      "Epoch 36/100\n",
      "165/165 [==============================] - 3s 21ms/step - loss: 0.2297 - val_loss: 0.0857\n",
      "Epoch 37/100\n",
      "165/165 [==============================] - 3s 21ms/step - loss: 0.2297 - val_loss: 0.0857\n",
      "Epoch 38/100\n",
      "165/165 [==============================] - 3s 20ms/step - loss: 0.2297 - val_loss: 0.0857\n",
      "Epoch 39/100\n",
      "165/165 [==============================] - 3s 21ms/step - loss: 0.2297 - val_loss: 0.0857\n",
      "Epoch 40/100\n",
      "165/165 [==============================] - 4s 21ms/step - loss: 0.2297 - val_loss: 0.0857\n",
      "Epoch 41/100\n",
      "165/165 [==============================] - 3s 20ms/step - loss: 0.2297 - val_loss: 0.0857\n",
      "Epoch 42/100\n",
      "165/165 [==============================] - 3s 21ms/step - loss: 0.2297 - val_loss: 0.0857\n",
      "Epoch 43/100\n",
      "165/165 [==============================] - 4s 22ms/step - loss: 0.2297 - val_loss: 0.0857\n",
      "Epoch 44/100\n",
      "165/165 [==============================] - 3s 20ms/step - loss: 0.2297 - val_loss: 0.0857\n",
      "Epoch 45/100\n",
      "165/165 [==============================] - 3s 20ms/step - loss: 0.2297 - val_loss: 0.0857\n",
      "Epoch 46/100\n",
      "165/165 [==============================] - 3s 20ms/step - loss: 0.2297 - val_loss: 0.0857\n",
      "Epoch 47/100\n",
      "165/165 [==============================] - 3s 21ms/step - loss: 0.2297 - val_loss: 0.0857\n",
      "Epoch 48/100\n",
      "165/165 [==============================] - 3s 21ms/step - loss: 0.2297 - val_loss: 0.0857\n",
      "Epoch 49/100\n",
      "165/165 [==============================] - 3s 21ms/step - loss: 0.2297 - val_loss: 0.0857\n",
      "Epoch 50/100\n",
      "165/165 [==============================] - 3s 21ms/step - loss: 0.2297 - val_loss: 0.0857\n",
      "Epoch 51/100\n",
      "165/165 [==============================] - 4s 23ms/step - loss: 0.2297 - val_loss: 0.0857\n",
      "Epoch 52/100\n",
      "165/165 [==============================] - 13s 77ms/step - loss: 0.2297 - val_loss: 0.0857\n",
      "Epoch 53/100\n",
      "165/165 [==============================] - 6s 25ms/step - loss: 0.2297 - val_loss: 0.0857\n",
      "Epoch 54/100\n",
      "165/165 [==============================] - 4s 23ms/step - loss: 0.2297 - val_loss: 0.0857\n",
      "Epoch 55/100\n",
      "165/165 [==============================] - 4s 22ms/step - loss: 0.2297 - val_loss: 0.0857\n",
      "Epoch 56/100\n",
      "165/165 [==============================] - 4s 23ms/step - loss: 0.2297 - val_loss: 0.0857\n",
      "Epoch 57/100\n",
      "165/165 [==============================] - 4s 23ms/step - loss: 0.2297 - val_loss: 0.0857\n",
      "Epoch 58/100\n",
      "165/165 [==============================] - 4s 22ms/step - loss: 0.2297 - val_loss: 0.0857\n",
      "Epoch 59/100\n",
      "165/165 [==============================] - 4s 22ms/step - loss: 0.2297 - val_loss: 0.0857\n",
      "Epoch 60/100\n",
      "165/165 [==============================] - 4s 23ms/step - loss: 0.2297 - val_loss: 0.0857\n",
      "Epoch 61/100\n",
      "165/165 [==============================] - 4s 22ms/step - loss: 0.2297 - val_loss: 0.0857\n",
      "Epoch 62/100\n",
      "165/165 [==============================] - 4s 22ms/step - loss: 0.2297 - val_loss: 0.0857\n",
      "Epoch 63/100\n",
      "165/165 [==============================] - 4s 24ms/step - loss: 0.2297 - val_loss: 0.0857\n",
      "Epoch 64/100\n",
      "165/165 [==============================] - 4s 23ms/step - loss: 0.2297 - val_loss: 0.0857\n",
      "Epoch 65/100\n",
      "165/165 [==============================] - 4s 23ms/step - loss: 0.2297 - val_loss: 0.0857\n",
      "Epoch 66/100\n",
      "165/165 [==============================] - 4s 23ms/step - loss: 0.2297 - val_loss: 0.0857\n",
      "Epoch 67/100\n",
      "165/165 [==============================] - 4s 22ms/step - loss: 0.2297 - val_loss: 0.0857\n",
      "Epoch 68/100\n",
      "165/165 [==============================] - 6s 38ms/step - loss: 0.2297 - val_loss: 0.0857\n",
      "Epoch 69/100\n",
      "165/165 [==============================] - 6s 33ms/step - loss: 0.2297 - val_loss: 0.0857\n",
      "Epoch 70/100\n",
      "165/165 [==============================] - 4s 25ms/step - loss: 0.2297 - val_loss: 0.0857\n",
      "Epoch 71/100\n",
      "165/165 [==============================] - 3s 21ms/step - loss: 0.2297 - val_loss: 0.0857\n",
      "Epoch 72/100\n",
      "165/165 [==============================] - 3s 20ms/step - loss: 0.2297 - val_loss: 0.0857\n",
      "Epoch 73/100\n",
      "165/165 [==============================] - 4s 21ms/step - loss: 0.2297 - val_loss: 0.0857\n",
      "Epoch 74/100\n",
      "165/165 [==============================] - 3s 21ms/step - loss: 0.2297 - val_loss: 0.0857\n",
      "Epoch 75/100\n",
      "165/165 [==============================] - 4s 22ms/step - loss: 0.2297 - val_loss: 0.0857\n",
      "Epoch 76/100\n",
      "165/165 [==============================] - 4s 22ms/step - loss: 0.2297 - val_loss: 0.0857\n",
      "Epoch 77/100\n",
      "165/165 [==============================] - 4s 21ms/step - loss: 0.2297 - val_loss: 0.0857\n",
      "Epoch 78/100\n",
      "165/165 [==============================] - 3s 20ms/step - loss: 0.2297 - val_loss: 0.0857\n",
      "Epoch 79/100\n",
      "165/165 [==============================] - 4s 22ms/step - loss: 0.2297 - val_loss: 0.0857\n",
      "Epoch 80/100\n"
     ]
    },
    {
     "name": "stdout",
     "output_type": "stream",
     "text": [
      "165/165 [==============================] - 3s 21ms/step - loss: 0.2297 - val_loss: 0.0857\n",
      "Epoch 81/100\n",
      "165/165 [==============================] - 3s 21ms/step - loss: 0.2297 - val_loss: 0.0857\n",
      "Epoch 82/100\n",
      "165/165 [==============================] - 3s 20ms/step - loss: 0.2297 - val_loss: 0.0857\n",
      "Epoch 83/100\n",
      "165/165 [==============================] - 6s 34ms/step - loss: 0.2297 - val_loss: 0.0857\n",
      "Epoch 84/100\n",
      "165/165 [==============================] - 4s 21ms/step - loss: 0.2297 - val_loss: 0.0857\n",
      "Epoch 85/100\n",
      "165/165 [==============================] - 4s 22ms/step - loss: 0.2297 - val_loss: 0.0857\n",
      "Epoch 86/100\n",
      "165/165 [==============================] - 4s 22ms/step - loss: 0.2297 - val_loss: 0.0857\n",
      "Epoch 87/100\n",
      "165/165 [==============================] - 4s 22ms/step - loss: 0.2297 - val_loss: 0.0857\n",
      "Epoch 88/100\n",
      "165/165 [==============================] - 4s 22ms/step - loss: 0.2297 - val_loss: 0.0857\n",
      "Epoch 89/100\n",
      "165/165 [==============================] - 4s 23ms/step - loss: 0.2297 - val_loss: 0.0857\n",
      "Epoch 90/100\n",
      "165/165 [==============================] - 4s 24ms/step - loss: 0.2297 - val_loss: 0.0857\n",
      "Epoch 91/100\n",
      "165/165 [==============================] - 4s 23ms/step - loss: 0.2297 - val_loss: 0.0857\n",
      "Epoch 92/100\n",
      "165/165 [==============================] - 4s 22ms/step - loss: 0.2297 - val_loss: 0.0857\n",
      "Epoch 93/100\n",
      "165/165 [==============================] - 4s 22ms/step - loss: 0.2297 - val_loss: 0.0857\n",
      "Epoch 94/100\n",
      "165/165 [==============================] - 3s 21ms/step - loss: 0.2297 - val_loss: 0.0857\n",
      "Epoch 95/100\n",
      "165/165 [==============================] - 3s 21ms/step - loss: 0.2297 - val_loss: 0.0857\n",
      "Epoch 96/100\n",
      "165/165 [==============================] - 3s 21ms/step - loss: 0.2297 - val_loss: 0.0857\n",
      "Epoch 97/100\n",
      "165/165 [==============================] - 3s 21ms/step - loss: 0.2297 - val_loss: 0.0857\n",
      "Epoch 98/100\n",
      "165/165 [==============================] - 3s 21ms/step - loss: 0.2297 - val_loss: 0.0857\n",
      "Epoch 99/100\n",
      "165/165 [==============================] - 3s 21ms/step - loss: 0.2297 - val_loss: 0.0857\n",
      "Epoch 100/100\n",
      "165/165 [==============================] - 10s 64ms/step - loss: 0.2297 - val_loss: 0.0857\n"
     ]
    }
   ],
   "source": [
    "history = model.fit(x=X,y=Y, validation_data=(XValida, YValida) ,\n",
    "                    epochs=100)"
   ]
  },
  {
   "cell_type": "code",
   "execution_count": 28,
   "id": "067e17a2",
   "metadata": {},
   "outputs": [],
   "source": [
    "# assign location\n",
    "path='pesos/rede1.h5'\n",
    " \n",
    "# save\n",
    "model.save(path)"
   ]
  },
  {
   "cell_type": "code",
   "execution_count": null,
   "id": "d7c8cb09",
   "metadata": {},
   "outputs": [],
   "source": []
  },
  {
   "cell_type": "code",
   "execution_count": null,
   "id": "18e46f4b",
   "metadata": {},
   "outputs": [],
   "source": []
  }
 ],
 "metadata": {
  "kernelspec": {
   "display_name": "Python 3 (ipykernel)",
   "language": "python",
   "name": "python3"
  },
  "language_info": {
   "codemirror_mode": {
    "name": "ipython",
    "version": 3
   },
   "file_extension": ".py",
   "mimetype": "text/x-python",
   "name": "python",
   "nbconvert_exporter": "python",
   "pygments_lexer": "ipython3",
   "version": "3.8.10"
  }
 },
 "nbformat": 4,
 "nbformat_minor": 5
}
