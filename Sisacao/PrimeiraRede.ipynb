{
 "cells": [
  {
   "cell_type": "markdown",
   "id": "227a51cc",
   "metadata": {},
   "source": [
    "# Inicialização"
   ]
  },
  {
   "cell_type": "code",
   "execution_count": 1,
   "id": "539a27f1",
   "metadata": {},
   "outputs": [
    {
     "name": "stderr",
     "output_type": "stream",
     "text": [
      "2022-05-01 17:55:54.859369: W tensorflow/stream_executor/platform/default/dso_loader.cc:64] Could not load dynamic library 'libcudart.so.11.0'; dlerror: libcudart.so.11.0: cannot open shared object file: No such file or directory\n",
      "2022-05-01 17:55:54.859471: I tensorflow/stream_executor/cuda/cudart_stub.cc:29] Ignore above cudart dlerror if you do not have a GPU set up on your machine.\n"
     ]
    }
   ],
   "source": [
    "import tensorflow as tf"
   ]
  },
  {
   "cell_type": "code",
   "execution_count": 2,
   "id": "6fbb5187",
   "metadata": {},
   "outputs": [
    {
     "name": "stdout",
     "output_type": "stream",
     "text": [
      "2.7.0\n"
     ]
    }
   ],
   "source": [
    "print(tf.__version__)"
   ]
  },
  {
   "cell_type": "markdown",
   "id": "e64d1133",
   "metadata": {},
   "source": [
    "# Conectando com servidor"
   ]
  },
  {
   "cell_type": "code",
   "execution_count": 3,
   "id": "b50a9639",
   "metadata": {},
   "outputs": [],
   "source": [
    "import requests\n",
    "import pandas as pd\n",
    "import numpy as np"
   ]
  },
  {
   "cell_type": "code",
   "execution_count": 4,
   "id": "adda5ee5",
   "metadata": {},
   "outputs": [],
   "source": [
    "codigoGrupo = \"Neg-100\"\n",
    "codigoPeriodo = \"11\"\n",
    "codigoRegra = \"t11s17v\"\n",
    "\n",
    "url = \"http://vps-40d69db1.vps.ovh.ca:23004/api/ExemploTreinoAcaos/obtemConjuntoTreino?idPeriodo={}&codigoGrupoAcao={}&codigoRegraProjecao={}\".format(codigoPeriodo,codigoGrupo,codigoRegra)"
   ]
  },
  {
   "cell_type": "code",
   "execution_count": 5,
   "id": "9bc86f4d",
   "metadata": {},
   "outputs": [
    {
     "name": "stdout",
     "output_type": "stream",
     "text": [
      "http://vps-40d69db1.vps.ovh.ca:23004/api/ExemploTreinoAcaos/obtemConjuntoTreino?idPeriodo=11&codigoGrupoAcao=Neg-100&codigoRegraProjecao=t11s17v\n"
     ]
    }
   ],
   "source": [
    "print(url)"
   ]
  },
  {
   "cell_type": "code",
   "execution_count": 6,
   "id": "12e6203d",
   "metadata": {},
   "outputs": [],
   "source": [
    "r = requests.get(url)\n",
    "j = r.json()\n",
    "df = pd.DataFrame.from_dict(j)"
   ]
  },
  {
   "cell_type": "code",
   "execution_count": 7,
   "id": "3f2dd5b1",
   "metadata": {},
   "outputs": [],
   "source": [
    "def trataLinhaX(linha):\n",
    "    return np.fromstring(linha['campoX'], dtype=float, sep=',')"
   ]
  },
  {
   "cell_type": "code",
   "execution_count": 8,
   "id": "8b20152e",
   "metadata": {},
   "outputs": [],
   "source": [
    "dfTratadoX = df.apply(trataLinhaX, axis='columns')"
   ]
  },
  {
   "cell_type": "code",
   "execution_count": 9,
   "id": "813651d8",
   "metadata": {},
   "outputs": [],
   "source": [
    "X = np.stack(dfTratadoX.values)"
   ]
  },
  {
   "cell_type": "code",
   "execution_count": 10,
   "id": "8e6d1673",
   "metadata": {},
   "outputs": [
    {
     "data": {
      "text/plain": [
       "(5280, 1800)"
      ]
     },
     "execution_count": 10,
     "metadata": {},
     "output_type": "execute_result"
    }
   ],
   "source": [
    "X.shape"
   ]
  },
  {
   "cell_type": "code",
   "execution_count": 11,
   "id": "3d39dd51",
   "metadata": {},
   "outputs": [],
   "source": [
    "Y = np.stack(df['campoY'].values)"
   ]
  },
  {
   "cell_type": "code",
   "execution_count": 19,
   "id": "d8843193",
   "metadata": {},
   "outputs": [],
   "source": [
    "Y = Y.reshape(-1,1)"
   ]
  },
  {
   "cell_type": "code",
   "execution_count": 20,
   "id": "44c2a051",
   "metadata": {},
   "outputs": [
    {
     "data": {
      "text/plain": [
       "(5280, 1)"
      ]
     },
     "execution_count": 20,
     "metadata": {},
     "output_type": "execute_result"
    }
   ],
   "source": [
    "Y.shape"
   ]
  },
  {
   "cell_type": "markdown",
   "id": "063b2243",
   "metadata": {},
   "source": [
    "# Minha Rede Simples"
   ]
  },
  {
   "cell_type": "code",
   "execution_count": 23,
   "id": "d08bd02a",
   "metadata": {},
   "outputs": [
    {
     "name": "stderr",
     "output_type": "stream",
     "text": [
      "2022-05-02 13:16:47.120180: E tensorflow/stream_executor/cuda/cuda_driver.cc:271] failed call to cuInit: CUDA_ERROR_NO_DEVICE: no CUDA-capable device is detected\n",
      "2022-05-02 13:16:47.154374: I tensorflow/stream_executor/cuda/cuda_diagnostics.cc:156] kernel driver does not appear to be running on this host (vps34755): /proc/driver/nvidia/version does not exist\n",
      "2022-05-02 13:16:47.806480: I tensorflow/core/platform/cpu_feature_guard.cc:151] This TensorFlow binary is optimized with oneAPI Deep Neural Network Library (oneDNN) to use the following CPU instructions in performance-critical operations:  AVX2 FMA\n",
      "To enable them in other operations, rebuild TensorFlow with the appropriate compiler flags.\n",
      "2022-05-02 13:16:53.938656: W tensorflow/core/framework/cpu_allocator_impl.cc:82] Allocation of 6480000 exceeds 10% of free system memory.\n",
      "2022-05-02 13:16:54.201188: W tensorflow/core/framework/cpu_allocator_impl.cc:82] Allocation of 6480000 exceeds 10% of free system memory.\n",
      "2022-05-02 13:16:54.264765: W tensorflow/core/framework/cpu_allocator_impl.cc:82] Allocation of 6480000 exceeds 10% of free system memory.\n"
     ]
    }
   ],
   "source": [
    "model = tf.keras.Sequential([\n",
    "    tf.keras.Input(shape=(1800,)),\n",
    "    tf.keras.layers.Dense(900, activation=tf.nn.relu), \n",
    "    tf.keras.layers.Dense(10, activation=tf.nn.softmax)\n",
    "])\n"
   ]
  },
  {
   "cell_type": "code",
   "execution_count": 24,
   "id": "a29db445",
   "metadata": {},
   "outputs": [],
   "source": [
    "model.build()"
   ]
  },
  {
   "cell_type": "code",
   "execution_count": 25,
   "id": "61baf2c4",
   "metadata": {},
   "outputs": [
    {
     "name": "stdout",
     "output_type": "stream",
     "text": [
      "Model: \"sequential\"\n",
      "_________________________________________________________________\n",
      " Layer (type)                Output Shape              Param #   \n",
      "=================================================================\n",
      " dense (Dense)               (None, 900)               1620900   \n",
      "                                                                 \n",
      " dense_1 (Dense)             (None, 10)                9010      \n",
      "                                                                 \n",
      "=================================================================\n",
      "Total params: 1,629,910\n",
      "Trainable params: 1,629,910\n",
      "Non-trainable params: 0\n",
      "_________________________________________________________________\n"
     ]
    }
   ],
   "source": [
    "model.summary()"
   ]
  },
  {
   "cell_type": "code",
   "execution_count": 26,
   "id": "3bbfb8c8",
   "metadata": {},
   "outputs": [],
   "source": [
    "model.compile(optimizer='adam', loss='sparse_categorical_crossentropy', metrics=['accuracy'])"
   ]
  },
  {
   "cell_type": "code",
   "execution_count": null,
   "id": "16ae1b74",
   "metadata": {},
   "outputs": [],
   "source": []
  },
  {
   "cell_type": "markdown",
   "id": "73d7328f",
   "metadata": {},
   "source": [
    "# Dados de Validação"
   ]
  },
  {
   "cell_type": "code",
   "execution_count": 13,
   "id": "3b2503f9",
   "metadata": {},
   "outputs": [],
   "source": [
    "urlValida = \"http://vps-40d69db1.vps.ovh.ca:23004/api/ExemploTreinoAcaos/obtemConjuntoDesenvolvimento?idPeriodo={}&codigoGrupoAcao={}&codigoRegraProjecao={}\".format(codigoPeriodo,codigoGrupo,codigoRegra)"
   ]
  },
  {
   "cell_type": "code",
   "execution_count": 14,
   "id": "64004ce7",
   "metadata": {},
   "outputs": [
    {
     "name": "stdout",
     "output_type": "stream",
     "text": [
      "http://vps-40d69db1.vps.ovh.ca:23004/api/ExemploTreinoAcaos/obtemConjuntoDesenvolvimento?idPeriodo=11&codigoGrupoAcao=Neg-100&codigoRegraProjecao=t11s17v\n"
     ]
    }
   ],
   "source": [
    "print(urlValida)"
   ]
  },
  {
   "cell_type": "code",
   "execution_count": 15,
   "id": "97d16c98",
   "metadata": {},
   "outputs": [],
   "source": [
    "r = requests.get(urlValida)\n",
    "j = r.json()\n",
    "dfValida = pd.DataFrame.from_dict(j)"
   ]
  },
  {
   "cell_type": "code",
   "execution_count": 16,
   "id": "37d1af7f",
   "metadata": {},
   "outputs": [
    {
     "data": {
      "text/html": [
       "<div>\n",
       "<style scoped>\n",
       "    .dataframe tbody tr th:only-of-type {\n",
       "        vertical-align: middle;\n",
       "    }\n",
       "\n",
       "    .dataframe tbody tr th {\n",
       "        vertical-align: top;\n",
       "    }\n",
       "\n",
       "    .dataframe thead th {\n",
       "        text-align: right;\n",
       "    }\n",
       "</style>\n",
       "<table border=\"1\" class=\"dataframe\">\n",
       "  <thead>\n",
       "    <tr style=\"text-align: right;\">\n",
       "      <th></th>\n",
       "      <th>campoX</th>\n",
       "      <th>campoY</th>\n",
       "    </tr>\n",
       "  </thead>\n",
       "  <tbody>\n",
       "    <tr>\n",
       "      <th>0</th>\n",
       "      <td>1.110304, 1.114927, 1.108322, 1.103038, 1.103...</td>\n",
       "      <td>0</td>\n",
       "    </tr>\n",
       "    <tr>\n",
       "      <th>1</th>\n",
       "      <td>1.130732, 1.136893, 1.135524, 1.133470, 1.135...</td>\n",
       "      <td>0</td>\n",
       "    </tr>\n",
       "    <tr>\n",
       "      <th>2</th>\n",
       "      <td>1.151473, 1.172511, 1.172511, 1.179523, 1.174...</td>\n",
       "      <td>0</td>\n",
       "    </tr>\n",
       "    <tr>\n",
       "      <th>3</th>\n",
       "      <td>1.213515, 1.210640, 1.207045, 1.187635, 1.193...</td>\n",
       "      <td>0</td>\n",
       "    </tr>\n",
       "    <tr>\n",
       "      <th>4</th>\n",
       "      <td>1.198813, 1.206973, 1.204006, 1.203264, 1.201...</td>\n",
       "      <td>0</td>\n",
       "    </tr>\n",
       "  </tbody>\n",
       "</table>\n",
       "</div>"
      ],
      "text/plain": [
       "                                              campoX  campoY\n",
       "0   1.110304, 1.114927, 1.108322, 1.103038, 1.103...       0\n",
       "1   1.130732, 1.136893, 1.135524, 1.133470, 1.135...       0\n",
       "2   1.151473, 1.172511, 1.172511, 1.179523, 1.174...       0\n",
       "3   1.213515, 1.210640, 1.207045, 1.187635, 1.193...       0\n",
       "4   1.198813, 1.206973, 1.204006, 1.203264, 1.201...       0"
      ]
     },
     "execution_count": 16,
     "metadata": {},
     "output_type": "execute_result"
    }
   ],
   "source": [
    "dfValida.head()"
   ]
  },
  {
   "cell_type": "code",
   "execution_count": 17,
   "id": "3f45d5f5",
   "metadata": {},
   "outputs": [
    {
     "data": {
      "text/plain": [
       "(1936, 1800)"
      ]
     },
     "execution_count": 17,
     "metadata": {},
     "output_type": "execute_result"
    }
   ],
   "source": [
    "dfTratadoValidaX = dfValida.apply(trataLinhaX, axis='columns')\n",
    "XValida = np.stack(dfTratadoValidaX.values)\n",
    "XValida.shape\n"
   ]
  },
  {
   "cell_type": "code",
   "execution_count": 30,
   "id": "8f152705",
   "metadata": {},
   "outputs": [],
   "source": [
    "YValida = np.stack(dfValida['campoY'].values)\n"
   ]
  },
  {
   "cell_type": "code",
   "execution_count": 32,
   "id": "82c133f2",
   "metadata": {},
   "outputs": [],
   "source": [
    "YValida = YValida.reshape(-1,1)"
   ]
  },
  {
   "cell_type": "code",
   "execution_count": 33,
   "id": "4a700b88",
   "metadata": {},
   "outputs": [
    {
     "data": {
      "text/plain": [
       "(1936, 1)"
      ]
     },
     "execution_count": 33,
     "metadata": {},
     "output_type": "execute_result"
    }
   ],
   "source": [
    "YValida.shape"
   ]
  },
  {
   "cell_type": "code",
   "execution_count": 29,
   "id": "ee3b0ac8",
   "metadata": {},
   "outputs": [
    {
     "name": "stdout",
     "output_type": "stream",
     "text": [
      "Epoch 1/15\n",
      "100/100 - 62s - loss: 0.6321 - accuracy: 0.7381 - val_loss: 0.4492 - val_accuracy: 0.8864 - 62s/epoch - 618ms/step\n",
      "Epoch 2/15\n",
      "100/100 - 31s - loss: 0.6922 - accuracy: 0.7178 - val_loss: 0.2863 - val_accuracy: 0.9091 - 31s/epoch - 307ms/step\n",
      "Epoch 3/15\n",
      "100/100 - 6s - loss: 0.6489 - accuracy: 0.7278 - val_loss: 0.3024 - val_accuracy: 0.9086 - 6s/epoch - 57ms/step\n",
      "Epoch 4/15\n",
      "100/100 - 3s - loss: 0.7084 - accuracy: 0.7104 - val_loss: 0.2865 - val_accuracy: 0.9143 - 3s/epoch - 27ms/step\n",
      "Epoch 5/15\n",
      "100/100 - 3s - loss: 0.5564 - accuracy: 0.7614 - val_loss: 0.2925 - val_accuracy: 0.9143 - 3s/epoch - 28ms/step\n",
      "Epoch 6/15\n",
      "100/100 - 3s - loss: 0.6020 - accuracy: 0.7377 - val_loss: 0.3684 - val_accuracy: 0.8988 - 3s/epoch - 28ms/step\n",
      "Epoch 7/15\n",
      "100/100 - 3s - loss: 0.5725 - accuracy: 0.7487 - val_loss: 0.3896 - val_accuracy: 0.9143 - 3s/epoch - 33ms/step\n",
      "Epoch 8/15\n",
      "100/100 - 3s - loss: 0.6338 - accuracy: 0.7390 - val_loss: 0.3855 - val_accuracy: 0.8951 - 3s/epoch - 26ms/step\n",
      "Epoch 9/15\n",
      "100/100 - 3s - loss: 0.5790 - accuracy: 0.7506 - val_loss: 0.3368 - val_accuracy: 0.8988 - 3s/epoch - 29ms/step\n",
      "Epoch 10/15\n",
      "100/100 - 3s - loss: 0.5545 - accuracy: 0.7604 - val_loss: 0.4998 - val_accuracy: 0.8574 - 3s/epoch - 26ms/step\n",
      "Epoch 11/15\n",
      "100/100 - 3s - loss: 0.5777 - accuracy: 0.7502 - val_loss: 0.5944 - val_accuracy: 0.8022 - 3s/epoch - 27ms/step\n",
      "Epoch 12/15\n",
      "100/100 - 3s - loss: 0.5484 - accuracy: 0.7629 - val_loss: 0.5117 - val_accuracy: 0.8574 - 3s/epoch - 26ms/step\n",
      "Epoch 13/15\n",
      "100/100 - 3s - loss: 0.5553 - accuracy: 0.7616 - val_loss: 0.2942 - val_accuracy: 0.9143 - 3s/epoch - 26ms/step\n",
      "Epoch 14/15\n",
      "100/100 - 3s - loss: 0.5337 - accuracy: 0.7678 - val_loss: 0.3220 - val_accuracy: 0.9065 - 3s/epoch - 26ms/step\n",
      "Epoch 15/15\n",
      "100/100 - 3s - loss: 0.5370 - accuracy: 0.7680 - val_loss: 0.3115 - val_accuracy: 0.9143 - 3s/epoch - 27ms/step\n"
     ]
    }
   ],
   "source": [
    "history = model.fit(x=X,y=Y, validation_data=(XValida, YValida) ,\n",
    "                    steps_per_epoch=100,\n",
    "                    epochs=15,\n",
    "                    validation_steps=50,\n",
    "                    verbose=2)"
   ]
  },
  {
   "cell_type": "code",
   "execution_count": null,
   "id": "067e17a2",
   "metadata": {},
   "outputs": [],
   "source": []
  }
 ],
 "metadata": {
  "kernelspec": {
   "display_name": "Python 3 (ipykernel)",
   "language": "python",
   "name": "python3"
  },
  "language_info": {
   "codemirror_mode": {
    "name": "ipython",
    "version": 3
   },
   "file_extension": ".py",
   "mimetype": "text/x-python",
   "name": "python",
   "nbconvert_exporter": "python",
   "pygments_lexer": "ipython3",
   "version": "3.8.10"
  }
 },
 "nbformat": 4,
 "nbformat_minor": 5
}
