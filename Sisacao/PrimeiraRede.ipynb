{
 "cells": [
  {
   "cell_type": "markdown",
   "id": "227a51cc",
   "metadata": {},
   "source": [
    "# Inicialização"
   ]
  },
  {
   "cell_type": "code",
   "execution_count": 1,
   "id": "539a27f1",
   "metadata": {},
   "outputs": [
    {
     "name": "stderr",
     "output_type": "stream",
     "text": [
      "2022-05-28 00:34:31.176072: W tensorflow/stream_executor/platform/default/dso_loader.cc:64] Could not load dynamic library 'libcudart.so.11.0'; dlerror: libcudart.so.11.0: cannot open shared object file: No such file or directory\n",
      "2022-05-28 00:34:31.176126: I tensorflow/stream_executor/cuda/cudart_stub.cc:29] Ignore above cudart dlerror if you do not have a GPU set up on your machine.\n"
     ]
    }
   ],
   "source": [
    "import tensorflow as tf"
   ]
  },
  {
   "cell_type": "code",
   "execution_count": 2,
   "id": "6fbb5187",
   "metadata": {},
   "outputs": [
    {
     "name": "stdout",
     "output_type": "stream",
     "text": [
      "2.7.0\n"
     ]
    }
   ],
   "source": [
    "print(tf.__version__)"
   ]
  },
  {
   "cell_type": "markdown",
   "id": "e64d1133",
   "metadata": {},
   "source": [
    "# Conectando com servidor"
   ]
  },
  {
   "cell_type": "code",
   "execution_count": 3,
   "id": "b50a9639",
   "metadata": {},
   "outputs": [],
   "source": [
    "import requests\n",
    "import pandas as pd\n",
    "import numpy as np"
   ]
  },
  {
   "cell_type": "code",
   "execution_count": 4,
   "id": "adda5ee5",
   "metadata": {},
   "outputs": [],
   "source": [
    "codigoGrupo = \"Neg-100\"\n",
    "codigoPeriodo = \"11\"\n",
    "codigoRegra = \"t11s17v\"\n",
    "\n",
    "url = \"http://vps-40d69db1.vps.ovh.ca:23004/api/ExemploTreinoAcaos/obtemConjuntoTreino?idPeriodo={}&codigoGrupoAcao={}&codigoRegraProjecao={}\".format(codigoPeriodo,codigoGrupo,codigoRegra)"
   ]
  },
  {
   "cell_type": "code",
   "execution_count": 5,
   "id": "9bc86f4d",
   "metadata": {},
   "outputs": [
    {
     "name": "stdout",
     "output_type": "stream",
     "text": [
      "http://vps-40d69db1.vps.ovh.ca:23004/api/ExemploTreinoAcaos/obtemConjuntoTreino?idPeriodo=11&codigoGrupoAcao=Neg-100&codigoRegraProjecao=t11s17v\n"
     ]
    }
   ],
   "source": [
    "print(url)"
   ]
  },
  {
   "cell_type": "code",
   "execution_count": 6,
   "id": "12e6203d",
   "metadata": {},
   "outputs": [],
   "source": [
    "r = requests.get(url)\n",
    "j = r.json()\n",
    "df = pd.DataFrame.from_dict(j)"
   ]
  },
  {
   "cell_type": "code",
   "execution_count": 7,
   "id": "3f2dd5b1",
   "metadata": {},
   "outputs": [],
   "source": [
    "def trataLinhaX(linha):\n",
    "    return np.fromstring(linha['campoX'], dtype=float, sep=',')"
   ]
  },
  {
   "cell_type": "code",
   "execution_count": 8,
   "id": "8b20152e",
   "metadata": {},
   "outputs": [],
   "source": [
    "dfTratadoX = df.apply(trataLinhaX, axis='columns')"
   ]
  },
  {
   "cell_type": "code",
   "execution_count": 9,
   "id": "813651d8",
   "metadata": {},
   "outputs": [],
   "source": [
    "X = np.stack(dfTratadoX.values)"
   ]
  },
  {
   "cell_type": "code",
   "execution_count": 10,
   "id": "8e6d1673",
   "metadata": {},
   "outputs": [
    {
     "data": {
      "text/plain": [
       "(5280, 1800)"
      ]
     },
     "execution_count": 10,
     "metadata": {},
     "output_type": "execute_result"
    }
   ],
   "source": [
    "X.shape"
   ]
  },
  {
   "cell_type": "code",
   "execution_count": 11,
   "id": "3d39dd51",
   "metadata": {},
   "outputs": [],
   "source": [
    "Y = np.stack(df['campoY'].values)"
   ]
  },
  {
   "cell_type": "code",
   "execution_count": 12,
   "id": "d8843193",
   "metadata": {},
   "outputs": [],
   "source": [
    "Y = Y.reshape(-1,1)"
   ]
  },
  {
   "cell_type": "code",
   "execution_count": 13,
   "id": "44c2a051",
   "metadata": {},
   "outputs": [
    {
     "data": {
      "text/plain": [
       "(5280, 1)"
      ]
     },
     "execution_count": 13,
     "metadata": {},
     "output_type": "execute_result"
    }
   ],
   "source": [
    "Y.shape"
   ]
  },
  {
   "cell_type": "markdown",
   "id": "063b2243",
   "metadata": {},
   "source": [
    "# Minha Rede Simples"
   ]
  },
  {
   "cell_type": "code",
   "execution_count": 14,
   "id": "d08bd02a",
   "metadata": {},
   "outputs": [
    {
     "name": "stderr",
     "output_type": "stream",
     "text": [
      "2022-05-28 00:39:08.020609: E tensorflow/stream_executor/cuda/cuda_driver.cc:271] failed call to cuInit: CUDA_ERROR_NO_DEVICE: no CUDA-capable device is detected\n",
      "2022-05-28 00:39:08.031632: I tensorflow/stream_executor/cuda/cuda_diagnostics.cc:156] kernel driver does not appear to be running on this host (vps34755): /proc/driver/nvidia/version does not exist\n",
      "2022-05-28 00:39:08.155374: I tensorflow/core/platform/cpu_feature_guard.cc:151] This TensorFlow binary is optimized with oneAPI Deep Neural Network Library (oneDNN) to use the following CPU instructions in performance-critical operations:  AVX2 FMA\n",
      "To enable them in other operations, rebuild TensorFlow with the appropriate compiler flags.\n",
      "2022-05-28 00:39:11.266784: W tensorflow/core/framework/cpu_allocator_impl.cc:82] Allocation of 14400000 exceeds 10% of free system memory.\n",
      "2022-05-28 00:39:11.648623: W tensorflow/core/framework/cpu_allocator_impl.cc:82] Allocation of 14400000 exceeds 10% of free system memory.\n",
      "2022-05-28 00:39:11.894968: W tensorflow/core/framework/cpu_allocator_impl.cc:82] Allocation of 14400000 exceeds 10% of free system memory.\n",
      "2022-05-28 00:39:12.414173: W tensorflow/core/framework/cpu_allocator_impl.cc:82] Allocation of 8000000 exceeds 10% of free system memory.\n",
      "2022-05-28 00:39:12.446438: W tensorflow/core/framework/cpu_allocator_impl.cc:82] Allocation of 8000000 exceeds 10% of free system memory.\n"
     ]
    }
   ],
   "source": [
    "model = tf.keras.Sequential([\n",
    "    tf.keras.Input(shape=(1800,)),\n",
    "    tf.keras.layers.Dense(2000, activation=tf.nn.relu), \n",
    "    tf.keras.layers.Dense(1000, activation=tf.nn.relu), \n",
    "    tf.keras.layers.Dense(500, activation=tf.nn.relu), \n",
    "    tf.keras.layers.Dense(10, activation=tf.nn.softmax)\n",
    "])\n"
   ]
  },
  {
   "cell_type": "code",
   "execution_count": 15,
   "id": "a29db445",
   "metadata": {},
   "outputs": [],
   "source": [
    "model.build()"
   ]
  },
  {
   "cell_type": "code",
   "execution_count": 16,
   "id": "61baf2c4",
   "metadata": {},
   "outputs": [
    {
     "name": "stdout",
     "output_type": "stream",
     "text": [
      "Model: \"sequential\"\n",
      "_________________________________________________________________\n",
      " Layer (type)                Output Shape              Param #   \n",
      "=================================================================\n",
      " dense (Dense)               (None, 2000)              3602000   \n",
      "                                                                 \n",
      " dense_1 (Dense)             (None, 1000)              2001000   \n",
      "                                                                 \n",
      " dense_2 (Dense)             (None, 500)               500500    \n",
      "                                                                 \n",
      " dense_3 (Dense)             (None, 10)                5010      \n",
      "                                                                 \n",
      "=================================================================\n",
      "Total params: 6,108,510\n",
      "Trainable params: 6,108,510\n",
      "Non-trainable params: 0\n",
      "_________________________________________________________________\n"
     ]
    }
   ],
   "source": [
    "model.summary()"
   ]
  },
  {
   "cell_type": "code",
   "execution_count": 17,
   "id": "3bbfb8c8",
   "metadata": {},
   "outputs": [],
   "source": [
    "model.compile(optimizer='adam', loss='sparse_categorical_crossentropy', metrics=['accuracy'])"
   ]
  },
  {
   "cell_type": "code",
   "execution_count": null,
   "id": "16ae1b74",
   "metadata": {},
   "outputs": [],
   "source": []
  },
  {
   "cell_type": "markdown",
   "id": "73d7328f",
   "metadata": {},
   "source": [
    "# Dados de Validação"
   ]
  },
  {
   "cell_type": "code",
   "execution_count": 18,
   "id": "3b2503f9",
   "metadata": {},
   "outputs": [],
   "source": [
    "urlValida = \"http://vps-40d69db1.vps.ovh.ca:23004/api/ExemploTreinoAcaos/obtemConjuntoDesenvolvimento?idPeriodo={}&codigoGrupoAcao={}&codigoRegraProjecao={}\".format(codigoPeriodo,codigoGrupo,codigoRegra)"
   ]
  },
  {
   "cell_type": "code",
   "execution_count": 19,
   "id": "64004ce7",
   "metadata": {},
   "outputs": [
    {
     "name": "stdout",
     "output_type": "stream",
     "text": [
      "http://vps-40d69db1.vps.ovh.ca:23004/api/ExemploTreinoAcaos/obtemConjuntoDesenvolvimento?idPeriodo=11&codigoGrupoAcao=Neg-100&codigoRegraProjecao=t11s17v\n"
     ]
    }
   ],
   "source": [
    "print(urlValida)"
   ]
  },
  {
   "cell_type": "code",
   "execution_count": 20,
   "id": "97d16c98",
   "metadata": {},
   "outputs": [],
   "source": [
    "r = requests.get(urlValida)\n",
    "j = r.json()\n",
    "dfValida = pd.DataFrame.from_dict(j)"
   ]
  },
  {
   "cell_type": "code",
   "execution_count": 21,
   "id": "37d1af7f",
   "metadata": {},
   "outputs": [
    {
     "data": {
      "text/html": [
       "<div>\n",
       "<style scoped>\n",
       "    .dataframe tbody tr th:only-of-type {\n",
       "        vertical-align: middle;\n",
       "    }\n",
       "\n",
       "    .dataframe tbody tr th {\n",
       "        vertical-align: top;\n",
       "    }\n",
       "\n",
       "    .dataframe thead th {\n",
       "        text-align: right;\n",
       "    }\n",
       "</style>\n",
       "<table border=\"1\" class=\"dataframe\">\n",
       "  <thead>\n",
       "    <tr style=\"text-align: right;\">\n",
       "      <th></th>\n",
       "      <th>campoX</th>\n",
       "      <th>campoY</th>\n",
       "    </tr>\n",
       "  </thead>\n",
       "  <tbody>\n",
       "    <tr>\n",
       "      <th>0</th>\n",
       "      <td>1.110304, 1.114927, 1.108322, 1.103038, 1.103...</td>\n",
       "      <td>0</td>\n",
       "    </tr>\n",
       "    <tr>\n",
       "      <th>1</th>\n",
       "      <td>1.130732, 1.136893, 1.135524, 1.133470, 1.135...</td>\n",
       "      <td>0</td>\n",
       "    </tr>\n",
       "    <tr>\n",
       "      <th>2</th>\n",
       "      <td>1.151473, 1.172511, 1.172511, 1.179523, 1.174...</td>\n",
       "      <td>0</td>\n",
       "    </tr>\n",
       "    <tr>\n",
       "      <th>3</th>\n",
       "      <td>1.213515, 1.210640, 1.207045, 1.187635, 1.193...</td>\n",
       "      <td>0</td>\n",
       "    </tr>\n",
       "    <tr>\n",
       "      <th>4</th>\n",
       "      <td>1.198813, 1.206973, 1.204006, 1.203264, 1.201...</td>\n",
       "      <td>0</td>\n",
       "    </tr>\n",
       "  </tbody>\n",
       "</table>\n",
       "</div>"
      ],
      "text/plain": [
       "                                              campoX  campoY\n",
       "0   1.110304, 1.114927, 1.108322, 1.103038, 1.103...       0\n",
       "1   1.130732, 1.136893, 1.135524, 1.133470, 1.135...       0\n",
       "2   1.151473, 1.172511, 1.172511, 1.179523, 1.174...       0\n",
       "3   1.213515, 1.210640, 1.207045, 1.187635, 1.193...       0\n",
       "4   1.198813, 1.206973, 1.204006, 1.203264, 1.201...       0"
      ]
     },
     "execution_count": 21,
     "metadata": {},
     "output_type": "execute_result"
    }
   ],
   "source": [
    "dfValida.head()"
   ]
  },
  {
   "cell_type": "code",
   "execution_count": 22,
   "id": "3f45d5f5",
   "metadata": {},
   "outputs": [
    {
     "data": {
      "text/plain": [
       "(1936, 1800)"
      ]
     },
     "execution_count": 22,
     "metadata": {},
     "output_type": "execute_result"
    }
   ],
   "source": [
    "dfTratadoValidaX = dfValida.apply(trataLinhaX, axis='columns')\n",
    "XValida = np.stack(dfTratadoValidaX.values)\n",
    "XValida.shape\n"
   ]
  },
  {
   "cell_type": "code",
   "execution_count": 23,
   "id": "8f152705",
   "metadata": {},
   "outputs": [],
   "source": [
    "YValida = np.stack(dfValida['campoY'].values)\n"
   ]
  },
  {
   "cell_type": "code",
   "execution_count": 24,
   "id": "82c133f2",
   "metadata": {},
   "outputs": [],
   "source": [
    "YValida = YValida.reshape(-1,1)"
   ]
  },
  {
   "cell_type": "code",
   "execution_count": 25,
   "id": "4a700b88",
   "metadata": {},
   "outputs": [
    {
     "data": {
      "text/plain": [
       "(1936, 1)"
      ]
     },
     "execution_count": 25,
     "metadata": {},
     "output_type": "execute_result"
    }
   ],
   "source": [
    "YValida.shape"
   ]
  },
  {
   "cell_type": "code",
   "execution_count": 26,
   "id": "ee3b0ac8",
   "metadata": {},
   "outputs": [
    {
     "name": "stdout",
     "output_type": "stream",
     "text": [
      "Epoch 1/15\n",
      "100/100 - 147s - loss: 1.1259 - accuracy: 0.7269 - val_loss: 0.3204 - val_accuracy: 0.9143 - 147s/epoch - 1s/step\n",
      "Epoch 2/15\n",
      "100/100 - 208s - loss: 0.5403 - accuracy: 0.7697 - val_loss: 0.3572 - val_accuracy: 0.9143 - 208s/epoch - 2s/step\n",
      "Epoch 3/15\n",
      "100/100 - 153s - loss: 0.5302 - accuracy: 0.7699 - val_loss: 0.4178 - val_accuracy: 0.9143 - 153s/epoch - 2s/step\n",
      "Epoch 4/15\n",
      "100/100 - 170s - loss: 0.5303 - accuracy: 0.7695 - val_loss: 0.3555 - val_accuracy: 0.9143 - 170s/epoch - 2s/step\n",
      "Epoch 5/15\n",
      "100/100 - 170s - loss: 0.5359 - accuracy: 0.7682 - val_loss: 0.3077 - val_accuracy: 0.9143 - 170s/epoch - 2s/step\n",
      "Epoch 6/15\n",
      "100/100 - 219s - loss: 0.5298 - accuracy: 0.7712 - val_loss: 0.2873 - val_accuracy: 0.9143 - 219s/epoch - 2s/step\n",
      "Epoch 7/15\n",
      "100/100 - 206s - loss: 0.5296 - accuracy: 0.7706 - val_loss: 0.3232 - val_accuracy: 0.9143 - 206s/epoch - 2s/step\n",
      "Epoch 8/15\n",
      "100/100 - 204s - loss: 0.5293 - accuracy: 0.7697 - val_loss: 0.3683 - val_accuracy: 0.9143 - 204s/epoch - 2s/step\n",
      "Epoch 9/15\n",
      "100/100 - 265s - loss: 0.5306 - accuracy: 0.7699 - val_loss: 0.4160 - val_accuracy: 0.9143 - 265s/epoch - 3s/step\n",
      "Epoch 10/15\n",
      "100/100 - 159s - loss: 0.5247 - accuracy: 0.7712 - val_loss: 0.3019 - val_accuracy: 0.9143 - 159s/epoch - 2s/step\n",
      "Epoch 11/15\n",
      "100/100 - 229s - loss: 0.5302 - accuracy: 0.7714 - val_loss: 0.3646 - val_accuracy: 0.9143 - 229s/epoch - 2s/step\n",
      "Epoch 12/15\n",
      "100/100 - 173s - loss: 0.5242 - accuracy: 0.7688 - val_loss: 0.3108 - val_accuracy: 0.9143 - 173s/epoch - 2s/step\n",
      "Epoch 13/15\n",
      "100/100 - 176s - loss: 0.5307 - accuracy: 0.7708 - val_loss: 0.3214 - val_accuracy: 0.9143 - 176s/epoch - 2s/step\n",
      "Epoch 14/15\n",
      "100/100 - 183s - loss: 0.5233 - accuracy: 0.7701 - val_loss: 0.3576 - val_accuracy: 0.9143 - 183s/epoch - 2s/step\n",
      "Epoch 15/15\n",
      "100/100 - 220s - loss: 0.5261 - accuracy: 0.7703 - val_loss: 0.3480 - val_accuracy: 0.9143 - 220s/epoch - 2s/step\n"
     ]
    }
   ],
   "source": [
    "history = model.fit(x=X,y=Y, validation_data=(XValida, YValida) ,\n",
    "                    steps_per_epoch=100,\n",
    "                    epochs=15,\n",
    "                    validation_steps=50,\n",
    "                    verbose=2)"
   ]
  },
  {
   "cell_type": "code",
   "execution_count": 27,
   "id": "067e17a2",
   "metadata": {},
   "outputs": [],
   "source": [
    "# assign location\n",
    "path='pesos/rede1'\n",
    " \n",
    "# save\n",
    "model.save_weights(path)"
   ]
  },
  {
   "cell_type": "code",
   "execution_count": null,
   "id": "d7c8cb09",
   "metadata": {},
   "outputs": [],
   "source": []
  },
  {
   "cell_type": "code",
   "execution_count": null,
   "id": "18e46f4b",
   "metadata": {},
   "outputs": [],
   "source": []
  }
 ],
 "metadata": {
  "kernelspec": {
   "display_name": "Python 3 (ipykernel)",
   "language": "python",
   "name": "python3"
  },
  "language_info": {
   "codemirror_mode": {
    "name": "ipython",
    "version": 3
   },
   "file_extension": ".py",
   "mimetype": "text/x-python",
   "name": "python",
   "nbconvert_exporter": "python",
   "pygments_lexer": "ipython3",
   "version": "3.8.10"
  }
 },
 "nbformat": 4,
 "nbformat_minor": 5
}
