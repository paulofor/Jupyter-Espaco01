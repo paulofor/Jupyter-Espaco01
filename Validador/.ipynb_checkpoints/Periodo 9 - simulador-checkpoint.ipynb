{
 "cells": [
  {
   "cell_type": "markdown",
   "id": "e5998bc3",
   "metadata": {},
   "source": [
    "# De: 01-06-2021 Até 30-10-2021 - 5 meses (#9)"
   ]
  },
  {
   "cell_type": "markdown",
   "id": "92af10f3",
   "metadata": {},
   "source": [
    "## Validação: 20211101 até 20211231 - 2 mes(es)"
   ]
  },
  {
   "cell_type": "markdown",
   "id": "c2f11996",
   "metadata": {},
   "source": [
    "### (#54) Topo Venda 3M-gr02 (Ago-21) - em execução"
   ]
  },
  {
   "cell_type": "code",
   "execution_count": null,
   "id": "4556d60d",
   "metadata": {},
   "outputs": [],
   "source": []
  }
 ],
 "metadata": {
  "kernelspec": {
   "display_name": "Python 3 (ipykernel)",
   "language": "python",
   "name": "python3"
  },
  "language_info": {
   "codemirror_mode": {
    "name": "ipython",
    "version": 3
   },
   "file_extension": ".py",
   "mimetype": "text/x-python",
   "name": "python",
   "nbconvert_exporter": "python",
   "pygments_lexer": "ipython3",
   "version": "3.8.10"
  }
 },
 "nbformat": 4,
 "nbformat_minor": 5
}
