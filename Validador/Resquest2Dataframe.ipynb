{
 "cells": [
  {
   "cell_type": "code",
   "execution_count": 7,
   "id": "78c05854",
   "metadata": {},
   "outputs": [],
   "source": [
    "import requests\n",
    "import pandas as pd\n",
    "\n",
    "r = requests.get('http://api.open-notify.org/astros.json')\n",
    "\n",
    "j = r.json()\n",
    "\n",
    "df = pd.DataFrame.from_dict(j)"
   ]
  },
  {
   "cell_type": "code",
   "execution_count": 3,
   "id": "7bab692c",
   "metadata": {},
   "outputs": [
    {
     "name": "stdout",
     "output_type": "stream",
     "text": [
      "   message                                            people  number\n",
      "0  success        {'name': 'Mark Vande Hei', 'craft': 'ISS'}      10\n",
      "1  success          {'name': 'Pyotr Dubrov', 'craft': 'ISS'}      10\n",
      "2  success      {'name': 'Anton Shkaplerov', 'craft': 'ISS'}      10\n",
      "3  success  {'name': 'Zhai Zhigang', 'craft': 'Shenzhou 13'}      10\n",
      "4  success   {'name': 'Wang Yaping', 'craft': 'Shenzhou 13'}      10\n",
      "5  success    {'name': 'Ye Guangfu', 'craft': 'Shenzhou 13'}      10\n",
      "6  success            {'name': 'Raja Chari', 'craft': 'ISS'}      10\n",
      "7  success         {'name': 'Tom Marshburn', 'craft': 'ISS'}      10\n",
      "8  success          {'name': 'Kayla Barron', 'craft': 'ISS'}      10\n",
      "9  success       {'name': 'Matthias Maurer', 'craft': 'ISS'}      10\n"
     ]
    }
   ],
   "source": [
    "print(df)"
   ]
  },
  {
   "cell_type": "code",
   "execution_count": null,
   "id": "ecf61d5a",
   "metadata": {},
   "outputs": [],
   "source": [
    "import requests\n",
    "import pandas as pd\n",
    "\n",
    "r = requests.get('http://vps-40d69db1.vps.ovh.ca:21046/api/ExecucaoSimulacaos/melhorValidacaoPeriodoFlat?idPeriodo=7')\n",
    "\n",
    "j = r.json()\n",
    "\n",
    "df2 = pd.DataFrame.from_dict(j)"
   ]
  },
  {
   "cell_type": "code",
   "execution_count": 5,
   "id": "2f8daa65",
   "metadata": {},
   "outputs": [
    {
     "name": "stdout",
     "output_type": "stream",
     "text": [
      "      ticker  quantidadeLucro  quantidadePrejuizo  target  stop  resultado  \\\n",
      "0      ABEV3                2                   0    0.10  0.06         26   \n",
      "1      ABEV3                2                   0    0.10  0.06         26   \n",
      "2      ABEV3                2                   0    0.10  0.06         26   \n",
      "3      ABEV3                2                   0    0.10  0.06         26   \n",
      "4      ABEV3                2                   0    0.10  0.06         26   \n",
      "...      ...              ...                 ...     ...   ...        ...   \n",
      "40461  YDUQ3                2                   0    0.14  0.08         36   \n",
      "40462  YDUQ3                2                   0    0.14  0.08         36   \n",
      "40463  YDUQ3                1                   0    0.20  0.06         36   \n",
      "40464  YDUQ3                1                   0    0.20  0.06         36   \n",
      "40465  YDUQ3                1                   0    0.20  0.06         36   \n",
      "\n",
      "       monitorar  precoEntrada  dataNumEntrada  mediaDiaTrade  ...  favorito  \\\n",
      "0              0           NaN             NaN            NaN  ...      None   \n",
      "1              0           NaN             NaN            NaN  ...      None   \n",
      "2              0           NaN             NaN            NaN  ...      None   \n",
      "3              0           NaN             NaN            NaN  ...      None   \n",
      "4              0           NaN             NaN            NaN  ...      None   \n",
      "...          ...           ...             ...            ...  ...       ...   \n",
      "40461          0           NaN             NaN            NaN  ...      None   \n",
      "40462          0           NaN             NaN            NaN  ...      None   \n",
      "40463          0           NaN             NaN            NaN  ...      None   \n",
      "40464          0           NaN             NaN            NaN  ...      None   \n",
      "40465          0           NaN             NaN            NaN  ...      None   \n",
      "\n",
      "          primeiraEntrada tipo        id  combinacaoParametroId  \\\n",
      "0      2021-07-14 (18.13)    V   9910480                1100747   \n",
      "1      2021-07-14 (18.13)    V   9910505                1100748   \n",
      "2      2021-07-14 (18.13)    V   9910530                1100749   \n",
      "3      2021-07-14 (18.13)    V   9910630                1100753   \n",
      "4      2021-07-14 (18.13)    V   9910655                1100754   \n",
      "...                   ...  ...       ...                    ...   \n",
      "40461   2021-06-24 (35.8)    V  10536933                1114177   \n",
      "40462   2021-06-24 (35.8)    V  10537033                1114181   \n",
      "40463  2021-08-26 (28.12)    V  10624160                1117670   \n",
      "40464  2021-08-26 (28.12)    V  10629535                1117885   \n",
      "40465  2021-08-26 (28.12)    V  10632260                1117994   \n",
      "\n",
      "       regraSimulacaoId  experimentoSimulacaoId  periodoExperimentoId  \\\n",
      "0                     8                      57                     7   \n",
      "1                     8                      57                     7   \n",
      "2                     8                      57                     7   \n",
      "3                     8                      57                     7   \n",
      "4                     8                      57                     7   \n",
      "...                 ...                     ...                   ...   \n",
      "40461                 8                      58                     7   \n",
      "40462                 8                      58                     7   \n",
      "40463                 8                      58                     7   \n",
      "40464                 8                      58                     7   \n",
      "40465                 8                      58                     7   \n",
      "\n",
      "                             execucaoSimulacaoValidacaos  \\\n",
      "0      [{'ticker': 'ABEV3', 'quantidadeLucro': 0, 'qu...   \n",
      "1      [{'ticker': 'ABEV3', 'quantidadeLucro': 0, 'qu...   \n",
      "2      [{'ticker': 'ABEV3', 'quantidadeLucro': 0, 'qu...   \n",
      "3      [{'ticker': 'ABEV3', 'quantidadeLucro': 0, 'qu...   \n",
      "4      [{'ticker': 'ABEV3', 'quantidadeLucro': 0, 'qu...   \n",
      "...                                                  ...   \n",
      "40461  [{'ticker': 'YDUQ3', 'quantidadeLucro': 0, 'qu...   \n",
      "40462  [{'ticker': 'YDUQ3', 'quantidadeLucro': 0, 'qu...   \n",
      "40463  [{'ticker': 'YDUQ3', 'quantidadeLucro': 0, 'qu...   \n",
      "40464  [{'ticker': 'YDUQ3', 'quantidadeLucro': 0, 'qu...   \n",
      "40465  [{'ticker': 'YDUQ3', 'quantidadeLucro': 0, 'qu...   \n",
      "\n",
      "                                    experimentoSimulacao  \n",
      "0      {'codigo': 'Topo Venda 3M-gr01 (Ago-21)', 'dat...  \n",
      "1      {'codigo': 'Topo Venda 3M-gr01 (Ago-21)', 'dat...  \n",
      "2      {'codigo': 'Topo Venda 3M-gr01 (Ago-21)', 'dat...  \n",
      "3      {'codigo': 'Topo Venda 3M-gr01 (Ago-21)', 'dat...  \n",
      "4      {'codigo': 'Topo Venda 3M-gr01 (Ago-21)', 'dat...  \n",
      "...                                                  ...  \n",
      "40461  {'codigo': 'Topo Venda 3M-gr03 (Ago-21)', 'dat...  \n",
      "40462  {'codigo': 'Topo Venda 3M-gr03 (Ago-21)', 'dat...  \n",
      "40463  {'codigo': 'Topo Venda 3M-gr03 (Ago-21)', 'dat...  \n",
      "40464  {'codigo': 'Topo Venda 3M-gr03 (Ago-21)', 'dat...  \n",
      "40465  {'codigo': 'Topo Venda 3M-gr03 (Ago-21)', 'dat...  \n",
      "\n",
      "[40466 rows x 21 columns]\n"
     ]
    }
   ],
   "source": [
    "print(df2)"
   ]
  },
  {
   "cell_type": "code",
   "execution_count": null,
   "id": "2c7f0763",
   "metadata": {},
   "outputs": [],
   "source": []
  }
 ],
 "metadata": {
  "kernelspec": {
   "display_name": "Python 3 (ipykernel)",
   "language": "python",
   "name": "python3"
  },
  "language_info": {
   "codemirror_mode": {
    "name": "ipython",
    "version": 3
   },
   "file_extension": ".py",
   "mimetype": "text/x-python",
   "name": "python",
   "nbconvert_exporter": "python",
   "pygments_lexer": "ipython3",
   "version": "3.8.10"
  }
 },
 "nbformat": 4,
 "nbformat_minor": 5
}
