{
 "cells": [
  {
   "cell_type": "markdown",
   "id": "e5998bc3",
   "metadata": {},
   "source": [
    "# De: 01-06-2021 Até 30-10-2021 - 5 meses (#9)"
   ]
  },
  {
   "cell_type": "markdown",
   "id": "92af10f3",
   "metadata": {},
   "source": [
    "## Validação: 20211101 até 20211231 - 2 mes(es)"
   ]
  },
  {
   "cell_type": "markdown",
   "id": "c2f11996",
   "metadata": {},
   "source": [
    "### (#54) Topo Venda 3M-gr02 (Ago-21) - em execução"
   ]
  },
  {
   "cell_type": "code",
   "execution_count": 5,
   "id": "f7c0ecb8",
   "metadata": {},
   "outputs": [],
   "source": [
    "url = \"http://vps-40d69db1.vps.ovh.ca:21446/api/ExecucaoSimulacaos/consolidadoPorResultado?idPeriodo=9\"\n"
   ]
  },
  {
   "cell_type": "code",
   "execution_count": 6,
   "id": "1a80a687",
   "metadata": {},
   "outputs": [],
   "source": [
    "import numpy as np\n",
    "from datetime import datetime\n",
    "import requests\n",
    "import pandas as pd"
   ]
  },
  {
   "cell_type": "code",
   "execution_count": 7,
   "id": "87b12d04",
   "metadata": {},
   "outputs": [],
   "source": [
    "r = requests.get(url)\n",
    "j = r.json()\n",
    "df = pd.DataFrame.from_dict(j)"
   ]
  },
  {
   "cell_type": "code",
   "execution_count": 8,
   "id": "22078dff",
   "metadata": {},
   "outputs": [
    {
     "data": {
      "text/plain": [
       "5796"
      ]
     },
     "execution_count": 8,
     "metadata": {},
     "output_type": "execute_result"
    }
   ],
   "source": [
    "len(df)"
   ]
  },
  {
   "cell_type": "code",
   "execution_count": 9,
   "id": "a98bc32f",
   "metadata": {},
   "outputs": [
    {
     "data": {
      "text/plain": [
       "Index(['resultado', 'ticker', 'experimentoSimulacaoId', 'target', 'stop',\n",
       "       'qtde'],\n",
       "      dtype='object')"
      ]
     },
     "execution_count": 9,
     "metadata": {},
     "output_type": "execute_result"
    }
   ],
   "source": [
    "df.columns"
   ]
  },
  {
   "cell_type": "markdown",
   "id": "1e7877dc",
   "metadata": {},
   "source": [
    "### Experimentos Processados"
   ]
  },
  {
   "cell_type": "code",
   "execution_count": 12,
   "id": "942a3191",
   "metadata": {},
   "outputs": [
    {
     "data": {
      "text/html": [
       "<div>\n",
       "<style scoped>\n",
       "    .dataframe tbody tr th:only-of-type {\n",
       "        vertical-align: middle;\n",
       "    }\n",
       "\n",
       "    .dataframe tbody tr th {\n",
       "        vertical-align: top;\n",
       "    }\n",
       "\n",
       "    .dataframe thead th {\n",
       "        text-align: right;\n",
       "    }\n",
       "</style>\n",
       "<table border=\"1\" class=\"dataframe\">\n",
       "  <thead>\n",
       "    <tr style=\"text-align: right;\">\n",
       "      <th></th>\n",
       "      <th>resultado</th>\n",
       "      <th>target</th>\n",
       "      <th>stop</th>\n",
       "      <th>qtde</th>\n",
       "    </tr>\n",
       "    <tr>\n",
       "      <th>experimentoSimulacaoId</th>\n",
       "      <th></th>\n",
       "      <th></th>\n",
       "      <th></th>\n",
       "      <th></th>\n",
       "    </tr>\n",
       "  </thead>\n",
       "  <tbody>\n",
       "    <tr>\n",
       "      <th>54</th>\n",
       "      <td>25580</td>\n",
       "      <td>299.58</td>\n",
       "      <td>238.30</td>\n",
       "      <td>172800</td>\n",
       "    </tr>\n",
       "    <tr>\n",
       "      <th>56</th>\n",
       "      <td>26876</td>\n",
       "      <td>284.74</td>\n",
       "      <td>230.16</td>\n",
       "      <td>144000</td>\n",
       "    </tr>\n",
       "    <tr>\n",
       "      <th>57</th>\n",
       "      <td>14158</td>\n",
       "      <td>184.74</td>\n",
       "      <td>115.38</td>\n",
       "      <td>175344</td>\n",
       "    </tr>\n",
       "  </tbody>\n",
       "</table>\n",
       "</div>"
      ],
      "text/plain": [
       "                        resultado  target    stop    qtde\n",
       "experimentoSimulacaoId                                   \n",
       "54                          25580  299.58  238.30  172800\n",
       "56                          26876  284.74  230.16  144000\n",
       "57                          14158  184.74  115.38  175344"
      ]
     },
     "execution_count": 12,
     "metadata": {},
     "output_type": "execute_result"
    }
   ],
   "source": [
    "df.groupby('experimentoSimulacaoId').sum()"
   ]
  },
  {
   "cell_type": "code",
   "execution_count": null,
   "id": "1c5d2771",
   "metadata": {},
   "outputs": [],
   "source": []
  }
 ],
 "metadata": {
  "kernelspec": {
   "display_name": "Python 3 (ipykernel)",
   "language": "python",
   "name": "python3"
  },
  "language_info": {
   "codemirror_mode": {
    "name": "ipython",
    "version": 3
   },
   "file_extension": ".py",
   "mimetype": "text/x-python",
   "name": "python",
   "nbconvert_exporter": "python",
   "pygments_lexer": "ipython3",
   "version": "3.8.10"
  }
 },
 "nbformat": 4,
 "nbformat_minor": 5
}
