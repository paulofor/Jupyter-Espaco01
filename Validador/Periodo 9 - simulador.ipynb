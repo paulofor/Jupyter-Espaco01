{
 "cells": [
  {
   "cell_type": "markdown",
   "id": "e5998bc3",
   "metadata": {},
   "source": [
    "# De: 01-06-2021 Até 30-10-2021 - 5 meses (#9)"
   ]
  },
  {
   "cell_type": "markdown",
   "id": "92af10f3",
   "metadata": {},
   "source": [
    "## Validação: 20211101 até 20211231 - 2 mes(es)"
   ]
  },
  {
   "cell_type": "code",
   "execution_count": 1,
   "id": "f7c0ecb8",
   "metadata": {},
   "outputs": [],
   "source": [
    "url = \"http://vps-40d69db1.vps.ovh.ca:21446/api/ExecucaoSimulacaos/consolidadoPorResultado?idPeriodo=9\"\n"
   ]
  },
  {
   "cell_type": "code",
   "execution_count": 41,
   "id": "1a80a687",
   "metadata": {},
   "outputs": [],
   "source": [
    "import numpy as np\n",
    "from datetime import datetime\n",
    "import requests\n",
    "import pandas as pd\n",
    "import matplotlib.pyplot as plt"
   ]
  },
  {
   "cell_type": "code",
   "execution_count": 3,
   "id": "87b12d04",
   "metadata": {},
   "outputs": [],
   "source": [
    "r = requests.get(url)\n",
    "j = r.json()\n",
    "df = pd.DataFrame.from_dict(j)"
   ]
  },
  {
   "cell_type": "code",
   "execution_count": 4,
   "id": "22078dff",
   "metadata": {},
   "outputs": [
    {
     "data": {
      "text/plain": [
       "6053"
      ]
     },
     "execution_count": 4,
     "metadata": {},
     "output_type": "execute_result"
    }
   ],
   "source": [
    "len(df)"
   ]
  },
  {
   "cell_type": "code",
   "execution_count": 5,
   "id": "a98bc32f",
   "metadata": {},
   "outputs": [
    {
     "data": {
      "text/plain": [
       "Index(['resultado', 'ticker', 'experimentoSimulacaoId', 'target', 'stop',\n",
       "       'qtde'],\n",
       "      dtype='object')"
      ]
     },
     "execution_count": 5,
     "metadata": {},
     "output_type": "execute_result"
    }
   ],
   "source": [
    "df.columns"
   ]
  },
  {
   "cell_type": "markdown",
   "id": "1e7877dc",
   "metadata": {},
   "source": [
    "### Experimentos Processados"
   ]
  },
  {
   "cell_type": "code",
   "execution_count": 36,
   "id": "804d6354",
   "metadata": {},
   "outputs": [],
   "source": [
    "#pegando somente cogn3\n",
    "dfCogn3 = df.loc[df['ticker'] == 'COGN3']"
   ]
  },
  {
   "cell_type": "code",
   "execution_count": 37,
   "id": "fbfeb3a9",
   "metadata": {},
   "outputs": [],
   "source": [
    "#pegando somente quem preformou acima de 30 pontos\n",
    "dfCogn3 = dfCogn3.loc[dfCogn3['resultado'] > 30] "
   ]
  },
  {
   "cell_type": "code",
   "execution_count": 38,
   "id": "3837bb5c",
   "metadata": {},
   "outputs": [],
   "source": [
    "#agrupar por quantidade - usar como exemplo 32 pontos\n",
    "dfCogn3 = dfCogn3.filter(items=['resultado', 'ticker' , 'qtde'])\n"
   ]
  },
  {
   "cell_type": "code",
   "execution_count": 43,
   "id": "d2ed407b",
   "metadata": {},
   "outputs": [
    {
     "data": {
      "text/plain": [
       "Index(['qtde'], dtype='object')"
      ]
     },
     "execution_count": 43,
     "metadata": {},
     "output_type": "execute_result"
    }
   ],
   "source": [
    "dfSum = dfCogn3.groupby(['resultado']).sum()\n",
    "dfSum.columns\n"
   ]
  },
  {
   "cell_type": "code",
   "execution_count": null,
   "id": "41261931",
   "metadata": {},
   "outputs": [],
   "source": [
    "dfSum.plot.bar(x='resultado', y='qtde', rot=0, figsize=(18,5), legend=None)\n",
    "plt.show()"
   ]
  },
  {
   "cell_type": "code",
   "execution_count": null,
   "id": "287c3a7a",
   "metadata": {},
   "outputs": [],
   "source": []
  }
 ],
 "metadata": {
  "kernelspec": {
   "display_name": "Python 3 (ipykernel)",
   "language": "python",
   "name": "python3"
  },
  "language_info": {
   "codemirror_mode": {
    "name": "ipython",
    "version": 3
   },
   "file_extension": ".py",
   "mimetype": "text/x-python",
   "name": "python",
   "nbconvert_exporter": "python",
   "pygments_lexer": "ipython3",
   "version": "3.8.10"
  }
 },
 "nbformat": 4,
 "nbformat_minor": 5
}
