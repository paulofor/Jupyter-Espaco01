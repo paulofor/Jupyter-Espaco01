{
 "cells": [
  {
   "cell_type": "markdown",
   "id": "7b3a0464",
   "metadata": {},
   "source": [
    "# Obtendo os dados"
   ]
  },
  {
   "cell_type": "code",
   "execution_count": 33,
   "id": "a41ee6a6",
   "metadata": {},
   "outputs": [],
   "source": [
    "import numpy as np"
   ]
  },
  {
   "cell_type": "code",
   "execution_count": 34,
   "id": "29f9a760",
   "metadata": {},
   "outputs": [],
   "source": [
    "import requests\n",
    "import pandas as pd\n",
    "\n",
    "r = requests.get('http://vps-40d69db1.vps.ovh.ca:21046/api/ExecucaoSimulacaos/melhorValidacaoPeriodoFlat?idPeriodo=7')\n",
    "\n",
    "j = r.json()\n",
    "\n",
    "df = pd.DataFrame.from_dict(j)"
   ]
  },
  {
   "cell_type": "code",
   "execution_count": 35,
   "id": "494e542f",
   "metadata": {},
   "outputs": [
    {
     "name": "stdout",
     "output_type": "stream",
     "text": [
      "Index(['simulacaoId', 'ticker', 'simulacaoResultado', 'simulacaoLucro',\n",
      "       'simulacaoPrejuizo', 'target', 'stop', 'tipo', 'experimentoSimulacaoId',\n",
      "       'validacaoLucro', 'validacaoPrejuizo', 'saldoValidacao'],\n",
      "      dtype='object')\n",
      "40466\n",
      "<class 'requests.models.Response'>\n",
      "<class 'list'>\n",
      "<class 'pandas.core.frame.DataFrame'>\n"
     ]
    }
   ],
   "source": [
    "print(df.columns)\n",
    "print(len(df))\n",
    "print(type(r))\n",
    "print(type(j))\n",
    "print(type(df))"
   ]
  },
  {
   "cell_type": "markdown",
   "id": "559a7b50",
   "metadata": {},
   "source": [
    "# Experimentos Presentes"
   ]
  },
  {
   "cell_type": "code",
   "execution_count": 37,
   "id": "aa17b9ed",
   "metadata": {},
   "outputs": [
    {
     "data": {
      "text/plain": [
       "experimentoSimulacaoId\n",
       "54     5833\n",
       "56     6242\n",
       "57     9898\n",
       "58    18493\n",
       "dtype: int64"
      ]
     },
     "execution_count": 37,
     "metadata": {},
     "output_type": "execute_result"
    }
   ],
   "source": [
    " df.groupby(['experimentoSimulacaoId']).size()"
   ]
  },
  {
   "cell_type": "code",
   "execution_count": 38,
   "id": "92c0e77c",
   "metadata": {},
   "outputs": [
    {
     "data": {
      "text/plain": [
       "array([nan,  0.])"
      ]
     },
     "execution_count": 38,
     "metadata": {},
     "output_type": "execute_result"
    }
   ],
   "source": [
    "df['saldoValidacao'].unique()\n"
   ]
  },
  {
   "cell_type": "code",
   "execution_count": 22,
   "id": "8fcbb97d",
   "metadata": {},
   "outputs": [],
   "source": [
    "df['colunaNov'] = np.isnan(df['saldoValidacao'])"
   ]
  },
  {
   "cell_type": "code",
   "execution_count": 23,
   "id": "27dd0c1e",
   "metadata": {},
   "outputs": [
    {
     "data": {
      "text/plain": [
       "array([False,  True])"
      ]
     },
     "execution_count": 23,
     "metadata": {},
     "output_type": "execute_result"
    }
   ],
   "source": [
    "df['colunaNov'].unique()"
   ]
  },
  {
   "cell_type": "code",
   "execution_count": 24,
   "id": "9a7de085",
   "metadata": {},
   "outputs": [
    {
     "data": {
      "text/plain": [
       "experimentoSimulacaoId  colunaNov\n",
       "54                      False         5828\n",
       "                        True             6\n",
       "56                      True          6242\n",
       "57                      False         2036\n",
       "                        True          7862\n",
       "58                      False        18471\n",
       "                        True            32\n",
       "dtype: int64"
      ]
     },
     "execution_count": 24,
     "metadata": {},
     "output_type": "execute_result"
    }
   ],
   "source": [
    " df.groupby(['experimentoSimulacaoId','colunaNov']).size()"
   ]
  },
  {
   "cell_type": "markdown",
   "id": "5db74348",
   "metadata": {},
   "source": [
    "## Evolução do trabalho de validação com datas"
   ]
  },
  {
   "cell_type": "markdown",
   "id": "6a5d9861",
   "metadata": {},
   "source": [
    "### Importar"
   ]
  },
  {
   "cell_type": "code",
   "execution_count": 48,
   "id": "6de1f6f2",
   "metadata": {},
   "outputs": [],
   "source": [
    "import numpy as np\n",
    "from datetime import datetime\n",
    "import requests\n",
    "import pandas as pd"
   ]
  },
  {
   "cell_type": "markdown",
   "id": "f10b122f",
   "metadata": {},
   "source": [
    "### Execuções"
   ]
  },
  {
   "cell_type": "code",
   "execution_count": 47,
   "id": "fadaf70e",
   "metadata": {
    "scrolled": true
   },
   "outputs": [
    {
     "name": "stdout",
     "output_type": "stream",
     "text": [
      "11/12/2021 11:18:09\n",
      "experimentoSimulacaoId  saldoValidacao\n",
      "58                      0.0               1952\n",
      "dtype: int64\n"
     ]
    }
   ],
   "source": [
    "r = requests.get('http://vps-40d69db1.vps.ovh.ca:21046/api/ExecucaoSimulacaos/melhorValidacaoPeriodoFlat?idPeriodo=7')\n",
    "j = r.json()\n",
    "df = pd.DataFrame.from_dict(j)\n",
    "now = datetime.now()\n",
    "dt_string = now.strftime(\"%d/%m/%Y %H:%M:%S\")\n",
    "df2 =  df.groupby(['experimentoSimulacaoId','saldoValidacao']).size()\n",
    "print(dt_string)\n",
    "print(df2)\n"
   ]
  },
  {
   "cell_type": "code",
   "execution_count": 49,
   "id": "1b9f4aab",
   "metadata": {
    "scrolled": true
   },
   "outputs": [
    {
     "name": "stdout",
     "output_type": "stream",
     "text": [
      "12/12/2021 07:42:14\n",
      "experimentoSimulacaoId  saldoValidacao\n",
      "58                      0.0               9087\n",
      "                        1.0                189\n",
      "dtype: int64\n"
     ]
    }
   ],
   "source": [
    "r = requests.get('http://vps-40d69db1.vps.ovh.ca:21046/api/ExecucaoSimulacaos/melhorValidacaoPeriodoFlat?idPeriodo=7')\n",
    "j = r.json()\n",
    "df = pd.DataFrame.from_dict(j)\n",
    "now = datetime.now()\n",
    "dt_string = now.strftime(\"%d/%m/%Y %H:%M:%S\")\n",
    "df2 =  df.groupby(['experimentoSimulacaoId','saldoValidacao']).size()\n",
    "print(dt_string)\n",
    "print(df2)\n"
   ]
  },
  {
   "cell_type": "code",
   "execution_count": 50,
   "id": "d8d3cf65",
   "metadata": {
    "scrolled": true
   },
   "outputs": [
    {
     "name": "stdout",
     "output_type": "stream",
     "text": [
      "12/12/2021 07:49:07\n",
      "experimentoSimulacaoId  saldoValidacao\n",
      "58                      0.0               9130\n",
      "                        1.0                189\n",
      "dtype: int64\n"
     ]
    }
   ],
   "source": [
    "r = requests.get('http://vps-40d69db1.vps.ovh.ca:21046/api/ExecucaoSimulacaos/melhorValidacaoPeriodoFlat?idPeriodo=7')\n",
    "j = r.json()\n",
    "df = pd.DataFrame.from_dict(j)\n",
    "now = datetime.now()\n",
    "dt_string = now.strftime(\"%d/%m/%Y %H:%M:%S\")\n",
    "df2 =  df.groupby(['experimentoSimulacaoId','saldoValidacao']).size()\n",
    "print(dt_string)\n",
    "print(df2)\n"
   ]
  },
  {
   "cell_type": "code",
   "execution_count": null,
   "id": "a811cb43",
   "metadata": {},
   "outputs": [],
   "source": []
  }
 ],
 "metadata": {
  "kernelspec": {
   "display_name": "Python 3 (ipykernel)",
   "language": "python",
   "name": "python3"
  },
  "language_info": {
   "codemirror_mode": {
    "name": "ipython",
    "version": 3
   },
   "file_extension": ".py",
   "mimetype": "text/x-python",
   "name": "python",
   "nbconvert_exporter": "python",
   "pygments_lexer": "ipython3",
   "version": "3.8.10"
  }
 },
 "nbformat": 4,
 "nbformat_minor": 5
}
