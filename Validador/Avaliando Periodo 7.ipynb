{
 "cells": [
  {
   "cell_type": "markdown",
   "id": "7b3a0464",
   "metadata": {},
   "source": [
    "# Obtendo os dados"
   ]
  },
  {
   "cell_type": "code",
   "execution_count": 11,
   "id": "a41ee6a6",
   "metadata": {},
   "outputs": [],
   "source": [
    "import numpy as np"
   ]
  },
  {
   "cell_type": "code",
   "execution_count": 1,
   "id": "29f9a760",
   "metadata": {},
   "outputs": [],
   "source": [
    "import requests\n",
    "import pandas as pd\n",
    "\n",
    "r = requests.get('http://vps-40d69db1.vps.ovh.ca:21046/api/ExecucaoSimulacaos/melhorValidacaoPeriodoFlat?idPeriodo=7')\n",
    "\n",
    "j = r.json()\n",
    "\n",
    "df = pd.DataFrame.from_dict(j)"
   ]
  },
  {
   "cell_type": "code",
   "execution_count": 4,
   "id": "494e542f",
   "metadata": {},
   "outputs": [
    {
     "name": "stdout",
     "output_type": "stream",
     "text": [
      "Index(['simulacaoId', 'ticker', 'simulacaoResultado', 'simulacaoLucro',\n",
      "       'simulacaoPrejuizo', 'target', 'stop', 'tipo', 'experimentoSimulacaoId',\n",
      "       'validacaoLucro', 'validacaoPrejuizo', 'saldoValidacao'],\n",
      "      dtype='object')\n",
      "40477\n"
     ]
    }
   ],
   "source": [
    "print(df.columns)\n",
    "print(len(df))"
   ]
  },
  {
   "cell_type": "markdown",
   "id": "559a7b50",
   "metadata": {},
   "source": [
    "# Experimentos Presentes"
   ]
  },
  {
   "cell_type": "code",
   "execution_count": 5,
   "id": "aa17b9ed",
   "metadata": {},
   "outputs": [
    {
     "data": {
      "text/plain": [
       "experimentoSimulacaoId\n",
       "54     5834\n",
       "56     6242\n",
       "57     9898\n",
       "58    18503\n",
       "dtype: int64"
      ]
     },
     "execution_count": 5,
     "metadata": {},
     "output_type": "execute_result"
    }
   ],
   "source": [
    " df.groupby(['experimentoSimulacaoId']).size()"
   ]
  },
  {
   "cell_type": "code",
   "execution_count": 7,
   "id": "92c0e77c",
   "metadata": {},
   "outputs": [
    {
     "data": {
      "text/plain": [
       "array([ 1., nan,  0., -1.])"
      ]
     },
     "execution_count": 7,
     "metadata": {},
     "output_type": "execute_result"
    }
   ],
   "source": [
    "df['saldoValidacao'].unique()\n"
   ]
  },
  {
   "cell_type": "code",
   "execution_count": 14,
   "id": "8fcbb97d",
   "metadata": {},
   "outputs": [],
   "source": [
    "df['colunaNov'] = np.isnan(df['saldoValidacao'])"
   ]
  },
  {
   "cell_type": "code",
   "execution_count": 15,
   "id": "27dd0c1e",
   "metadata": {},
   "outputs": [
    {
     "data": {
      "text/plain": [
       "array([False,  True])"
      ]
     },
     "execution_count": 15,
     "metadata": {},
     "output_type": "execute_result"
    }
   ],
   "source": [
    "df['colunaNov'].unique()"
   ]
  },
  {
   "cell_type": "code",
   "execution_count": 16,
   "id": "9a7de085",
   "metadata": {},
   "outputs": [
    {
     "data": {
      "text/plain": [
       "experimentoSimulacaoId  colunaNov\n",
       "54                      False         5828\n",
       "                        True             6\n",
       "56                      True          6242\n",
       "57                      False         2036\n",
       "                        True          7862\n",
       "58                      False        18471\n",
       "                        True            32\n",
       "dtype: int64"
      ]
     },
     "execution_count": 16,
     "metadata": {},
     "output_type": "execute_result"
    }
   ],
   "source": [
    " df.groupby(['experimentoSimulacaoId','colunaNov']).size()"
   ]
  },
  {
   "cell_type": "markdown",
   "id": "5db74348",
   "metadata": {},
   "source": [
    "## Faltando dados em 3 dos 4 experimentos"
   ]
  },
  {
   "cell_type": "code",
   "execution_count": null,
   "id": "66625929",
   "metadata": {},
   "outputs": [],
   "source": []
  }
 ],
 "metadata": {
  "kernelspec": {
   "display_name": "Python 3 (ipykernel)",
   "language": "python",
   "name": "python3"
  },
  "language_info": {
   "codemirror_mode": {
    "name": "ipython",
    "version": 3
   },
   "file_extension": ".py",
   "mimetype": "text/x-python",
   "name": "python",
   "nbconvert_exporter": "python",
   "pygments_lexer": "ipython3",
   "version": "3.8.10"
  }
 },
 "nbformat": 4,
 "nbformat_minor": 5
}
