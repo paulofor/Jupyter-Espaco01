{
 "cells": [
  {
   "cell_type": "markdown",
   "id": "559a7b50",
   "metadata": {},
   "source": [
    "# Experimentos Presentes"
   ]
  },
  {
   "cell_type": "code",
   "execution_count": 3,
   "id": "aa17b9ed",
   "metadata": {},
   "outputs": [
    {
     "data": {
      "text/plain": [
       "experimentoSimulacaoId\n",
       "54     5833\n",
       "56     6242\n",
       "57     9898\n",
       "58    18493\n",
       "dtype: int64"
      ]
     },
     "execution_count": 3,
     "metadata": {},
     "output_type": "execute_result"
    }
   ],
   "source": [
    " df.groupby(['experimentoSimulacaoId']).size()"
   ]
  },
  {
   "cell_type": "code",
   "execution_count": 4,
   "id": "92c0e77c",
   "metadata": {},
   "outputs": [
    {
     "data": {
      "text/plain": [
       "array([nan,  0.,  1.])"
      ]
     },
     "execution_count": 4,
     "metadata": {},
     "output_type": "execute_result"
    }
   ],
   "source": [
    "df['saldoValidacao'].unique()\n"
   ]
  },
  {
   "cell_type": "code",
   "execution_count": 5,
   "id": "8fcbb97d",
   "metadata": {},
   "outputs": [],
   "source": [
    "df['colunaNov'] = np.isnan(df['saldoValidacao'])"
   ]
  },
  {
   "cell_type": "code",
   "execution_count": 6,
   "id": "27dd0c1e",
   "metadata": {},
   "outputs": [
    {
     "data": {
      "text/plain": [
       "array([ True, False])"
      ]
     },
     "execution_count": 6,
     "metadata": {},
     "output_type": "execute_result"
    }
   ],
   "source": [
    "df['colunaNov'].unique()"
   ]
  },
  {
   "cell_type": "code",
   "execution_count": 7,
   "id": "9a7de085",
   "metadata": {},
   "outputs": [
    {
     "data": {
      "text/plain": [
       "experimentoSimulacaoId  colunaNov\n",
       "54                      False         5821\n",
       "                        True            12\n",
       "56                      False         6242\n",
       "57                      True          9898\n",
       "58                      False        18474\n",
       "                        True            19\n",
       "dtype: int64"
      ]
     },
     "execution_count": 7,
     "metadata": {},
     "output_type": "execute_result"
    }
   ],
   "source": [
    " df.groupby(['experimentoSimulacaoId','colunaNov']).size()"
   ]
  },
  {
   "cell_type": "code",
   "execution_count": 84,
   "id": "4e9047a2",
   "metadata": {},
   "outputs": [],
   "source": [
    "dfTrue = df[ (df['colunaNov']==True) & (df[\"experimentoSimulacaoId\"]==54) ] "
   ]
  },
  {
   "cell_type": "code",
   "execution_count": 87,
   "id": "fcb9d71b",
   "metadata": {},
   "outputs": [
    {
     "name": "stdout",
     "output_type": "stream",
     "text": [
      "12\n",
      "      simulacaoId ticker  simulacaoResultado  simulacaoLucro  \\\n",
      "3292     10309401  BBSE3                  26               2   \n",
      "3296     10309451  BBSE3                  26               2   \n",
      "3326     10309901  BBSE3                  26               2   \n",
      "3330     10309926  BBSE3                  26               2   \n",
      "3352     10310251  BBSE3                  26               2   \n",
      "3362     10310401  BBSE3                  26               2   \n",
      "3389     10310726  BBSE3                  26               2   \n",
      "3398     10310951  BBSE3                  26               2   \n",
      "3421     10311201  BBSE3                  26               2   \n",
      "3427     10311301  BBSE3                  26               2   \n",
      "3447     10311601  BBSE3                  26               2   \n",
      "3456     10311751  BBSE3                  26               2   \n",
      "\n",
      "      simulacaoPrejuizo  target  stop tipo  experimentoSimulacaoId  \\\n",
      "3292                  0    0.12  0.12    V                      54   \n",
      "3296                  0    0.12  0.12    V                      54   \n",
      "3326                  0    0.12  0.12    V                      54   \n",
      "3330                  0    0.12  0.12    V                      54   \n",
      "3352                  0    0.12  0.12    V                      54   \n",
      "3362                  0    0.12  0.12    V                      54   \n",
      "3389                  0    0.12  0.12    V                      54   \n",
      "3398                  0    0.12  0.12    V                      54   \n",
      "3421                  0    0.12  0.12    V                      54   \n",
      "3427                  0    0.12  0.12    V                      54   \n",
      "3447                  0    0.12  0.12    V                      54   \n",
      "3456                  0    0.12  0.12    V                      54   \n",
      "\n",
      "      validacaoLucro  validacaoPrejuizo  saldoValidacao  colunaNov  \n",
      "3292             NaN                NaN             NaN       True  \n",
      "3296             NaN                NaN             NaN       True  \n",
      "3326             NaN                NaN             NaN       True  \n",
      "3330             NaN                NaN             NaN       True  \n",
      "3352             NaN                NaN             NaN       True  \n",
      "3362             NaN                NaN             NaN       True  \n",
      "3389             NaN                NaN             NaN       True  \n",
      "3398             NaN                NaN             NaN       True  \n",
      "3421             NaN                NaN             NaN       True  \n",
      "3427             NaN                NaN             NaN       True  \n",
      "3447             NaN                NaN             NaN       True  \n",
      "3456             NaN                NaN             NaN       True  \n"
     ]
    }
   ],
   "source": [
    "print(len(dfTrue))\n",
    "print(dfTrue)"
   ]
  },
  {
   "cell_type": "raw",
   "id": "bbb2831a",
   "metadata": {},
   "source": [
    "df = pd.DataFrame({'state': ['CA', 'WA', 'CO', 'AZ'] * 3,\n",
    "                   'office_id': list(range(1, 7)) * 2,\n",
    "                   'sales': [np.random.randint(100000, 999999)\n",
    "                             for _ in range(12)]})\n",
    "state_office = df.groupby(['state', 'office_id']).agg({'sales': 'sum'})\n",
    "#Change: groupby state_office and divide by sum\n",
    "state_pcts = state_office.groupby(level=0).apply(lambda x:\n",
    "                                                 100 * x / float(x.sum()))"
   ]
  },
  {
   "cell_type": "markdown",
   "id": "5db74348",
   "metadata": {},
   "source": [
    "## Evolução do trabalho de validação com datas"
   ]
  },
  {
   "cell_type": "markdown",
   "id": "6a5d9861",
   "metadata": {},
   "source": [
    "### Importar"
   ]
  },
  {
   "cell_type": "code",
   "execution_count": 1,
   "id": "6de1f6f2",
   "metadata": {},
   "outputs": [],
   "source": [
    "import numpy as np\n",
    "from datetime import datetime\n",
    "import requests\n",
    "import pandas as pd"
   ]
  },
  {
   "cell_type": "code",
   "execution_count": 8,
   "id": "4edb0a31",
   "metadata": {
    "scrolled": true
   },
   "outputs": [
    {
     "name": "stdout",
     "output_type": "stream",
     "text": [
      "22/12/2021 12:15:19\n",
      "                                        qtde\n",
      "experimentoSimulacaoId saldoValidacao       \n",
      "54                     0.0              4970\n",
      "                       1.0               851\n",
      "56                     0.0              6109\n",
      "                       1.0               133\n",
      "57                     0.0                 2\n",
      "58                     0.0             18159\n",
      "                       1.0               315\n",
      "30539\n",
      "                       qtde\n",
      "ticker saldoValidacao      \n",
      "ABEV3  0.0                2\n",
      "AERI3  0.0              654\n",
      "ALSO3  0.0               27\n",
      "AMAR3  0.0             1102\n",
      "ANIM3  0.0              457\n",
      "AZUL4  0.0               48\n",
      "BBSE3  0.0               42\n",
      "BKBR3  0.0             1764\n",
      "       1.0              133\n",
      "BPAN4  0.0             2308\n",
      "BRAP4  0.0             2226\n",
      "BRKM5  0.0              104\n",
      "CCRO3  0.0              144\n",
      "CIEL3  0.0              110\n",
      "COGN3  0.0             1126\n",
      "CVCB3  0.0              270\n",
      "CYRE3  0.0              683\n",
      "ECOR3  0.0              312\n",
      "ELET3  0.0              308\n",
      "       1.0              102\n",
      "ELET6  0.0              516\n",
      "       1.0              189\n",
      "EZTC3  0.0              390\n",
      "GNDI3  0.0              144\n",
      "GOAU4  0.0               40\n",
      "IGTA3  0.0              394\n",
      "JHSF3  0.0              202\n",
      "KLBN11 0.0               15\n",
      "LCAM3  0.0             1024\n",
      "LIGT3  0.0              107\n",
      "LWSA3  0.0             1873\n",
      "       1.0              749\n",
      "MOVI3  0.0               18\n",
      "MULT3  0.0               92\n",
      "PCAR3  0.0               72\n",
      "POSI3  0.0             4816\n",
      "       1.0              126\n",
      "PTBL3  0.0             1295\n",
      "RAIL3  0.0              168\n",
      "RAPT4  0.0               54\n",
      "RENT3  0.0              305\n",
      "SANB11 0.0                5\n",
      "SLCE3  0.0               39\n",
      "STBP3  0.0              528\n",
      "SULA11 0.0               32\n",
      "UGPA3  0.0               32\n",
      "WIZS3  0.0             4092\n",
      "YDUQ3  0.0             1300\n"
     ]
    }
   ],
   "source": [
    "r = requests.get('http://vps-40d69db1.vps.ovh.ca:21046/api/ExecucaoSimulacaos/melhorValidacaoPeriodoFlat?idPeriodo=7')\n",
    "j = r.json()\n",
    "df = pd.DataFrame.from_dict(j)\n",
    "now = datetime.now()\n",
    "dt_string = now.strftime(\"%d/%m/%Y %H:%M:%S\")\n",
    "df2 =  df.groupby(['experimentoSimulacaoId','saldoValidacao']).size().to_frame('qtde')\n",
    "print(dt_string)\n",
    "print(df2)\n",
    "total = df2['qtde'].sum()\n",
    "print(total)\n",
    "\n",
    "dfTicker =  df.groupby(['ticker','saldoValidacao']).size().to_frame('qtde')\n",
    "print(dfTicker)"
   ]
  },
  {
   "cell_type": "code",
   "execution_count": 89,
   "id": "90c8b29b",
   "metadata": {
    "scrolled": true
   },
   "outputs": [
    {
     "name": "stdout",
     "output_type": "stream",
     "text": [
      "16/12/2021 11:47:16\n",
      "                                        qtde\n",
      "experimentoSimulacaoId saldoValidacao       \n",
      "54                     0.0              4970\n",
      "                       1.0               851\n",
      "56                     0.0               302\n",
      "58                     0.0             18159\n",
      "                       1.0               315\n",
      "24597\n",
      "                       qtde\n",
      "ticker saldoValidacao      \n",
      "AERI3  0.0              302\n",
      "AZUL4  0.0               48\n",
      "BBSE3  0.0               42\n",
      "BPAN4  0.0             2308\n",
      "BRAP4  0.0             2226\n",
      "BRKM5  0.0              104\n",
      "CCRO3  0.0              144\n",
      "CIEL3  0.0              110\n",
      "COGN3  0.0             1126\n",
      "CVCB3  0.0              270\n",
      "CYRE3  0.0              683\n",
      "ECOR3  0.0              312\n",
      "ELET3  0.0              308\n",
      "       1.0              102\n",
      "ELET6  0.0              516\n",
      "       1.0              189\n",
      "GNDI3  0.0              144\n",
      "GOAU4  0.0               40\n",
      "IGTA3  0.0              394\n",
      "KLBN11 0.0               15\n",
      "LCAM3  0.0             1024\n",
      "LWSA3  0.0             1873\n",
      "       1.0              749\n",
      "MULT3  0.0               92\n",
      "PCAR3  0.0               72\n",
      "POSI3  0.0             4816\n",
      "       1.0              126\n",
      "RAIL3  0.0              168\n",
      "RENT3  0.0              305\n",
      "SANB11 0.0                5\n",
      "STBP3  0.0              528\n",
      "SULA11 0.0               32\n",
      "UGPA3  0.0               32\n",
      "WIZS3  0.0             4092\n",
      "YDUQ3  0.0             1300\n"
     ]
    }
   ],
   "source": [
    "r = requests.get('http://vps-40d69db1.vps.ovh.ca:21046/api/ExecucaoSimulacaos/melhorValidacaoPeriodoFlat?idPeriodo=7')\n",
    "j = r.json()\n",
    "df = pd.DataFrame.from_dict(j)\n",
    "now = datetime.now()\n",
    "dt_string = now.strftime(\"%d/%m/%Y %H:%M:%S\")\n",
    "df2 =  df.groupby(['experimentoSimulacaoId','saldoValidacao']).size().to_frame('qtde')\n",
    "print(dt_string)\n",
    "print(df2)\n",
    "total = df2['qtde'].sum()\n",
    "print(total)\n",
    "\n",
    "dfTicker =  df.groupby(['ticker','saldoValidacao']).size().to_frame('qtde')\n",
    "print(dfTicker)"
   ]
  },
  {
   "cell_type": "code",
   "execution_count": 88,
   "id": "462856fd",
   "metadata": {
    "scrolled": true
   },
   "outputs": [
    {
     "name": "stdout",
     "output_type": "stream",
     "text": [
      "16/12/2021 11:03:07\n",
      "                                        qtde\n",
      "experimentoSimulacaoId saldoValidacao       \n",
      "54                     0.0              4970\n",
      "                       1.0               851\n",
      "56                     0.0                37\n",
      "58                     0.0             18159\n",
      "                       1.0               315\n",
      "24332\n"
     ]
    }
   ],
   "source": [
    "r = requests.get('http://vps-40d69db1.vps.ovh.ca:21046/api/ExecucaoSimulacaos/melhorValidacaoPeriodoFlat?idPeriodo=7')\n",
    "j = r.json()\n",
    "df = pd.DataFrame.from_dict(j)\n",
    "now = datetime.now()\n",
    "dt_string = now.strftime(\"%d/%m/%Y %H:%M:%S\")\n",
    "df2 =  df.groupby(['experimentoSimulacaoId','saldoValidacao']).size().to_frame('qtde')\n",
    "print(dt_string)\n",
    "print(df2)\n",
    "total = df2['qtde'].sum()\n",
    "print(total)"
   ]
  },
  {
   "cell_type": "code",
   "execution_count": 69,
   "id": "85bb0509",
   "metadata": {
    "scrolled": true
   },
   "outputs": [
    {
     "name": "stdout",
     "output_type": "stream",
     "text": [
      "16/12/2021 10:48:04\n",
      "                                        qtde\n",
      "experimentoSimulacaoId saldoValidacao       \n",
      "54                     0.0              4970\n",
      "                       1.0               851\n",
      "58                     0.0             18159\n",
      "                       1.0               315\n",
      "24295\n"
     ]
    }
   ],
   "source": [
    "r = requests.get('http://vps-40d69db1.vps.ovh.ca:21046/api/ExecucaoSimulacaos/melhorValidacaoPeriodoFlat?idPeriodo=7')\n",
    "j = r.json()\n",
    "df = pd.DataFrame.from_dict(j)\n",
    "now = datetime.now()\n",
    "dt_string = now.strftime(\"%d/%m/%Y %H:%M:%S\")\n",
    "df2 =  df.groupby(['experimentoSimulacaoId','saldoValidacao']).size().to_frame('qtde')\n",
    "print(dt_string)\n",
    "print(df2)\n",
    "total = df2['qtde'].sum()\n",
    "print(total)"
   ]
  },
  {
   "cell_type": "code",
   "execution_count": 63,
   "id": "2a99ad35",
   "metadata": {
    "scrolled": true
   },
   "outputs": [
    {
     "name": "stdout",
     "output_type": "stream",
     "text": [
      "16/12/2021 10:43:14\n",
      "                                        qtde\n",
      "experimentoSimulacaoId saldoValidacao       \n",
      "54                     0.0              4970\n",
      "                       1.0               851\n",
      "58                     0.0             18159\n",
      "                       1.0               315\n",
      "24295\n"
     ]
    }
   ],
   "source": [
    "r = requests.get('http://vps-40d69db1.vps.ovh.ca:21046/api/ExecucaoSimulacaos/melhorValidacaoPeriodoFlat?idPeriodo=7')\n",
    "j = r.json()\n",
    "df = pd.DataFrame.from_dict(j)\n",
    "now = datetime.now()\n",
    "dt_string = now.strftime(\"%d/%m/%Y %H:%M:%S\")\n",
    "df2 =  df.groupby(['experimentoSimulacaoId','saldoValidacao']).size().to_frame('qtde')\n",
    "print(dt_string)\n",
    "print(df2)\n",
    "total = df2['qtde'].sum()\n",
    "print(total)"
   ]
  },
  {
   "cell_type": "markdown",
   "id": "f10b122f",
   "metadata": {},
   "source": [
    "### Execuções"
   ]
  },
  {
   "cell_type": "code",
   "execution_count": 61,
   "id": "bee36842",
   "metadata": {
    "scrolled": true
   },
   "outputs": [
    {
     "name": "stdout",
     "output_type": "stream",
     "text": [
      "15/12/2021 12:26:54\n",
      "                                        qtde\n",
      "experimentoSimulacaoId saldoValidacao       \n",
      "54                     0.0                15\n",
      "58                     0.0             18159\n",
      "                       1.0               315\n",
      "18489\n"
     ]
    }
   ],
   "source": [
    "r = requests.get('http://vps-40d69db1.vps.ovh.ca:21046/api/ExecucaoSimulacaos/melhorValidacaoPeriodoFlat?idPeriodo=7')\n",
    "j = r.json()\n",
    "df = pd.DataFrame.from_dict(j)\n",
    "now = datetime.now()\n",
    "dt_string = now.strftime(\"%d/%m/%Y %H:%M:%S\")\n",
    "df2 =  df.groupby(['experimentoSimulacaoId','saldoValidacao']).size().to_frame('qtde')\n",
    "print(dt_string)\n",
    "print(df2)\n",
    "total = df2['qtde'].sum()\n",
    "print(total)"
   ]
  },
  {
   "cell_type": "code",
   "execution_count": 60,
   "id": "7f6ebe4e",
   "metadata": {
    "scrolled": true
   },
   "outputs": [
    {
     "name": "stdout",
     "output_type": "stream",
     "text": [
      "15/12/2021 12:09:25\n",
      "                                        Qtde\n",
      "experimentoSimulacaoId saldoValidacao       \n",
      "58                     0.0             18159\n",
      "                       1.0               315\n",
      "18474\n"
     ]
    }
   ],
   "source": [
    "r = requests.get('http://vps-40d69db1.vps.ovh.ca:21046/api/ExecucaoSimulacaos/melhorValidacaoPeriodoFlat?idPeriodo=7')\n",
    "j = r.json()\n",
    "df = pd.DataFrame.from_dict(j)\n",
    "now = datetime.now()\n",
    "dt_string = now.strftime(\"%d/%m/%Y %H:%M:%S\")\n",
    "df2 =  df.groupby(['experimentoSimulacaoId','saldoValidacao']).size().to_frame('qtde')\n",
    "print(dt_string)\n",
    "print(df2)\n",
    "total = df2['qtde'].sum()\n",
    "print(total)"
   ]
  },
  {
   "cell_type": "code",
   "execution_count": 47,
   "id": "fadaf70e",
   "metadata": {
    "scrolled": true
   },
   "outputs": [
    {
     "name": "stdout",
     "output_type": "stream",
     "text": [
      "11/12/2021 11:18:09\n",
      "experimentoSimulacaoId  saldoValidacao\n",
      "58                      0.0               1952\n",
      "dtype: int64\n"
     ]
    }
   ],
   "source": [
    "r = requests.get('http://vps-40d69db1.vps.ovh.ca:21046/api/ExecucaoSimulacaos/melhorValidacaoPeriodoFlat?idPeriodo=7')\n",
    "j = r.json()\n",
    "df = pd.DataFrame.from_dict(j)\n",
    "now = datetime.now()\n",
    "dt_string = now.strftime(\"%d/%m/%Y %H:%M:%S\")\n",
    "df2 =  df.groupby(['experimentoSimulacaoId','saldoValidacao']).size()\n",
    "print(dt_string)\n",
    "print(df2)\n"
   ]
  },
  {
   "cell_type": "code",
   "execution_count": 49,
   "id": "1b9f4aab",
   "metadata": {
    "scrolled": true
   },
   "outputs": [
    {
     "name": "stdout",
     "output_type": "stream",
     "text": [
      "12/12/2021 07:42:14\n",
      "experimentoSimulacaoId  saldoValidacao\n",
      "58                      0.0               9087\n",
      "                        1.0                189\n",
      "dtype: int64\n"
     ]
    }
   ],
   "source": [
    "r = requests.get('http://vps-40d69db1.vps.ovh.ca:21046/api/ExecucaoSimulacaos/melhorValidacaoPeriodoFlat?idPeriodo=7')\n",
    "j = r.json()\n",
    "df = pd.DataFrame.from_dict(j)\n",
    "now = datetime.now()\n",
    "dt_string = now.strftime(\"%d/%m/%Y %H:%M:%S\")\n",
    "df2 =  df.groupby(['experimentoSimulacaoId','saldoValidacao']).size()\n",
    "print(dt_string)\n",
    "print(df2)\n"
   ]
  },
  {
   "cell_type": "code",
   "execution_count": 50,
   "id": "d8d3cf65",
   "metadata": {
    "scrolled": true
   },
   "outputs": [
    {
     "name": "stdout",
     "output_type": "stream",
     "text": [
      "12/12/2021 07:49:07\n",
      "experimentoSimulacaoId  saldoValidacao\n",
      "58                      0.0               9130\n",
      "                        1.0                189\n",
      "dtype: int64\n"
     ]
    }
   ],
   "source": [
    "r = requests.get('http://vps-40d69db1.vps.ovh.ca:21046/api/ExecucaoSimulacaos/melhorValidacaoPeriodoFlat?idPeriodo=7')\n",
    "j = r.json()\n",
    "df = pd.DataFrame.from_dict(j)\n",
    "now = datetime.now()\n",
    "dt_string = now.strftime(\"%d/%m/%Y %H:%M:%S\")\n",
    "df2 =  df.groupby(['experimentoSimulacaoId','saldoValidacao']).size()\n",
    "print(dt_string)\n",
    "print(df2)\n"
   ]
  },
  {
   "cell_type": "code",
   "execution_count": 52,
   "id": "fdb61243",
   "metadata": {
    "scrolled": true
   },
   "outputs": [
    {
     "name": "stdout",
     "output_type": "stream",
     "text": [
      "15/12/2021 12:03:30\n",
      "experimentoSimulacaoId  saldoValidacao\n",
      "58                      0.0               18159\n",
      "                        1.0                 315\n",
      "dtype: int64\n"
     ]
    }
   ],
   "source": [
    "r = requests.get('http://vps-40d69db1.vps.ovh.ca:21046/api/ExecucaoSimulacaos/melhorValidacaoPeriodoFlat?idPeriodo=7')\n",
    "j = r.json()\n",
    "df = pd.DataFrame.from_dict(j)\n",
    "now = datetime.now()\n",
    "dt_string = now.strftime(\"%d/%m/%Y %H:%M:%S\")\n",
    "df2 =  df.groupby(['experimentoSimulacaoId','saldoValidacao']).size().to_frame('Qtde')\n",
    "print(dt_string)\n",
    "print(df2)\n"
   ]
  }
 ],
 "metadata": {
  "kernelspec": {
   "display_name": "Python 3 (ipykernel)",
   "language": "python",
   "name": "python3"
  },
  "language_info": {
   "codemirror_mode": {
    "name": "ipython",
    "version": 3
   },
   "file_extension": ".py",
   "mimetype": "text/x-python",
   "name": "python",
   "nbconvert_exporter": "python",
   "pygments_lexer": "ipython3",
   "version": "3.8.10"
  }
 },
 "nbformat": 4,
 "nbformat_minor": 5
}
