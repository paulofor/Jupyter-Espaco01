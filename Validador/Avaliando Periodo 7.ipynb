{
 "cells": [
  {
   "cell_type": "markdown",
   "id": "559a7b50",
   "metadata": {},
   "source": [
    "# Experimentos Presentes"
   ]
  },
  {
   "cell_type": "code",
   "execution_count": 53,
   "id": "aa17b9ed",
   "metadata": {},
   "outputs": [
    {
     "data": {
      "text/plain": [
       "experimentoSimulacaoId\n",
       "54     5833\n",
       "56     6242\n",
       "57     9898\n",
       "58    18493\n",
       "dtype: int64"
      ]
     },
     "execution_count": 53,
     "metadata": {},
     "output_type": "execute_result"
    }
   ],
   "source": [
    " df.groupby(['experimentoSimulacaoId']).size()"
   ]
  },
  {
   "cell_type": "code",
   "execution_count": 54,
   "id": "92c0e77c",
   "metadata": {},
   "outputs": [
    {
     "data": {
      "text/plain": [
       "array([nan,  0.,  1.])"
      ]
     },
     "execution_count": 54,
     "metadata": {},
     "output_type": "execute_result"
    }
   ],
   "source": [
    "df['saldoValidacao'].unique()\n"
   ]
  },
  {
   "cell_type": "code",
   "execution_count": 55,
   "id": "8fcbb97d",
   "metadata": {},
   "outputs": [],
   "source": [
    "df['colunaNov'] = np.isnan(df['saldoValidacao'])"
   ]
  },
  {
   "cell_type": "code",
   "execution_count": 56,
   "id": "27dd0c1e",
   "metadata": {},
   "outputs": [
    {
     "data": {
      "text/plain": [
       "array([ True, False])"
      ]
     },
     "execution_count": 56,
     "metadata": {},
     "output_type": "execute_result"
    }
   ],
   "source": [
    "df['colunaNov'].unique()"
   ]
  },
  {
   "cell_type": "code",
   "execution_count": 57,
   "id": "9a7de085",
   "metadata": {},
   "outputs": [
    {
     "data": {
      "text/plain": [
       "experimentoSimulacaoId  colunaNov\n",
       "54                      True          5833\n",
       "56                      True          6242\n",
       "57                      True          9898\n",
       "58                      False        18474\n",
       "                        True            19\n",
       "dtype: int64"
      ]
     },
     "execution_count": 57,
     "metadata": {},
     "output_type": "execute_result"
    }
   ],
   "source": [
    " df.groupby(['experimentoSimulacaoId','colunaNov']).size()"
   ]
  },
  {
   "cell_type": "raw",
   "id": "bbb2831a",
   "metadata": {},
   "source": [
    "df = pd.DataFrame({'state': ['CA', 'WA', 'CO', 'AZ'] * 3,\n",
    "                   'office_id': list(range(1, 7)) * 2,\n",
    "                   'sales': [np.random.randint(100000, 999999)\n",
    "                             for _ in range(12)]})\n",
    "state_office = df.groupby(['state', 'office_id']).agg({'sales': 'sum'})\n",
    "#Change: groupby state_office and divide by sum\n",
    "state_pcts = state_office.groupby(level=0).apply(lambda x:\n",
    "                                                 100 * x / float(x.sum()))"
   ]
  },
  {
   "cell_type": "markdown",
   "id": "5db74348",
   "metadata": {},
   "source": [
    "## Evolução do trabalho de validação com datas"
   ]
  },
  {
   "cell_type": "markdown",
   "id": "6a5d9861",
   "metadata": {},
   "source": [
    "### Importar"
   ]
  },
  {
   "cell_type": "code",
   "execution_count": 51,
   "id": "6de1f6f2",
   "metadata": {},
   "outputs": [],
   "source": [
    "import numpy as np\n",
    "from datetime import datetime\n",
    "import requests\n",
    "import pandas as pd"
   ]
  },
  {
   "cell_type": "markdown",
   "id": "f10b122f",
   "metadata": {},
   "source": [
    "### Execuções"
   ]
  },
  {
   "cell_type": "code",
   "execution_count": 61,
   "id": "bee36842",
   "metadata": {
    "scrolled": true
   },
   "outputs": [
    {
     "name": "stdout",
     "output_type": "stream",
     "text": [
      "15/12/2021 12:26:54\n",
      "                                        qtde\n",
      "experimentoSimulacaoId saldoValidacao       \n",
      "54                     0.0                15\n",
      "58                     0.0             18159\n",
      "                       1.0               315\n",
      "18489\n"
     ]
    }
   ],
   "source": [
    "r = requests.get('http://vps-40d69db1.vps.ovh.ca:21046/api/ExecucaoSimulacaos/melhorValidacaoPeriodoFlat?idPeriodo=7')\n",
    "j = r.json()\n",
    "df = pd.DataFrame.from_dict(j)\n",
    "now = datetime.now()\n",
    "dt_string = now.strftime(\"%d/%m/%Y %H:%M:%S\")\n",
    "df2 =  df.groupby(['experimentoSimulacaoId','saldoValidacao']).size().to_frame('qtde')\n",
    "print(dt_string)\n",
    "print(df2)\n",
    "total = df2['qtde'].sum()\n",
    "print(total)"
   ]
  },
  {
   "cell_type": "code",
   "execution_count": 60,
   "id": "7f6ebe4e",
   "metadata": {
    "scrolled": true
   },
   "outputs": [
    {
     "name": "stdout",
     "output_type": "stream",
     "text": [
      "15/12/2021 12:09:25\n",
      "                                        Qtde\n",
      "experimentoSimulacaoId saldoValidacao       \n",
      "58                     0.0             18159\n",
      "                       1.0               315\n",
      "18474\n"
     ]
    }
   ],
   "source": [
    "r = requests.get('http://vps-40d69db1.vps.ovh.ca:21046/api/ExecucaoSimulacaos/melhorValidacaoPeriodoFlat?idPeriodo=7')\n",
    "j = r.json()\n",
    "df = pd.DataFrame.from_dict(j)\n",
    "now = datetime.now()\n",
    "dt_string = now.strftime(\"%d/%m/%Y %H:%M:%S\")\n",
    "df2 =  df.groupby(['experimentoSimulacaoId','saldoValidacao']).size().to_frame('qtde')\n",
    "print(dt_string)\n",
    "print(df2)\n",
    "total = df2['qtde'].sum()\n",
    "print(total)"
   ]
  },
  {
   "cell_type": "code",
   "execution_count": 47,
   "id": "fadaf70e",
   "metadata": {
    "scrolled": true
   },
   "outputs": [
    {
     "name": "stdout",
     "output_type": "stream",
     "text": [
      "11/12/2021 11:18:09\n",
      "experimentoSimulacaoId  saldoValidacao\n",
      "58                      0.0               1952\n",
      "dtype: int64\n"
     ]
    }
   ],
   "source": [
    "r = requests.get('http://vps-40d69db1.vps.ovh.ca:21046/api/ExecucaoSimulacaos/melhorValidacaoPeriodoFlat?idPeriodo=7')\n",
    "j = r.json()\n",
    "df = pd.DataFrame.from_dict(j)\n",
    "now = datetime.now()\n",
    "dt_string = now.strftime(\"%d/%m/%Y %H:%M:%S\")\n",
    "df2 =  df.groupby(['experimentoSimulacaoId','saldoValidacao']).size()\n",
    "print(dt_string)\n",
    "print(df2)\n"
   ]
  },
  {
   "cell_type": "code",
   "execution_count": 49,
   "id": "1b9f4aab",
   "metadata": {
    "scrolled": true
   },
   "outputs": [
    {
     "name": "stdout",
     "output_type": "stream",
     "text": [
      "12/12/2021 07:42:14\n",
      "experimentoSimulacaoId  saldoValidacao\n",
      "58                      0.0               9087\n",
      "                        1.0                189\n",
      "dtype: int64\n"
     ]
    }
   ],
   "source": [
    "r = requests.get('http://vps-40d69db1.vps.ovh.ca:21046/api/ExecucaoSimulacaos/melhorValidacaoPeriodoFlat?idPeriodo=7')\n",
    "j = r.json()\n",
    "df = pd.DataFrame.from_dict(j)\n",
    "now = datetime.now()\n",
    "dt_string = now.strftime(\"%d/%m/%Y %H:%M:%S\")\n",
    "df2 =  df.groupby(['experimentoSimulacaoId','saldoValidacao']).size()\n",
    "print(dt_string)\n",
    "print(df2)\n"
   ]
  },
  {
   "cell_type": "code",
   "execution_count": 50,
   "id": "d8d3cf65",
   "metadata": {
    "scrolled": true
   },
   "outputs": [
    {
     "name": "stdout",
     "output_type": "stream",
     "text": [
      "12/12/2021 07:49:07\n",
      "experimentoSimulacaoId  saldoValidacao\n",
      "58                      0.0               9130\n",
      "                        1.0                189\n",
      "dtype: int64\n"
     ]
    }
   ],
   "source": [
    "r = requests.get('http://vps-40d69db1.vps.ovh.ca:21046/api/ExecucaoSimulacaos/melhorValidacaoPeriodoFlat?idPeriodo=7')\n",
    "j = r.json()\n",
    "df = pd.DataFrame.from_dict(j)\n",
    "now = datetime.now()\n",
    "dt_string = now.strftime(\"%d/%m/%Y %H:%M:%S\")\n",
    "df2 =  df.groupby(['experimentoSimulacaoId','saldoValidacao']).size()\n",
    "print(dt_string)\n",
    "print(df2)\n"
   ]
  },
  {
   "cell_type": "code",
   "execution_count": 52,
   "id": "fdb61243",
   "metadata": {
    "scrolled": true
   },
   "outputs": [
    {
     "name": "stdout",
     "output_type": "stream",
     "text": [
      "15/12/2021 12:03:30\n",
      "experimentoSimulacaoId  saldoValidacao\n",
      "58                      0.0               18159\n",
      "                        1.0                 315\n",
      "dtype: int64\n"
     ]
    }
   ],
   "source": [
    "r = requests.get('http://vps-40d69db1.vps.ovh.ca:21046/api/ExecucaoSimulacaos/melhorValidacaoPeriodoFlat?idPeriodo=7')\n",
    "j = r.json()\n",
    "df = pd.DataFrame.from_dict(j)\n",
    "now = datetime.now()\n",
    "dt_string = now.strftime(\"%d/%m/%Y %H:%M:%S\")\n",
    "df2 =  df.groupby(['experimentoSimulacaoId','saldoValidacao']).size().to_frame('Qtde')\n",
    "print(dt_string)\n",
    "print(df2)\n"
   ]
  }
 ],
 "metadata": {
  "kernelspec": {
   "display_name": "Python 3 (ipykernel)",
   "language": "python",
   "name": "python3"
  },
  "language_info": {
   "codemirror_mode": {
    "name": "ipython",
    "version": 3
   },
   "file_extension": ".py",
   "mimetype": "text/x-python",
   "name": "python",
   "nbconvert_exporter": "python",
   "pygments_lexer": "ipython3",
   "version": "3.8.10"
  }
 },
 "nbformat": 4,
 "nbformat_minor": 5
}
