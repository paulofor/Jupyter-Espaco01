{
 "cells": [
  {
   "cell_type": "markdown",
   "id": "5d937131",
   "metadata": {},
   "source": [
    "# Período 9"
   ]
  },
  {
   "cell_type": "code",
   "execution_count": 108,
   "id": "9c44727a",
   "metadata": {},
   "outputs": [],
   "source": [
    "import numpy as np\n",
    "from datetime import datetime\n",
    "import requests\n",
    "import pandas as pd\n",
    "import matplotlib.pyplot as plt"
   ]
  },
  {
   "cell_type": "markdown",
   "id": "acbf2664",
   "metadata": {},
   "source": [
    "## Analisando apenas 3 casos por ticker"
   ]
  },
  {
   "cell_type": "code",
   "execution_count": 109,
   "id": "dc4ebe6e",
   "metadata": {},
   "outputs": [],
   "source": [
    "url = \"http://vps-40d69db1.vps.ovh.ca:22001/api/ExecucaoSimulacaos/melhorValidacaoPeriodoFlatPorTicker?idPeriodo=9&limitePorTicker=3\""
   ]
  },
  {
   "cell_type": "code",
   "execution_count": 120,
   "id": "a49353e2",
   "metadata": {},
   "outputs": [],
   "source": [
    "r = requests.get(url)\n",
    "j = r.json()\n",
    "df = pd.DataFrame.from_dict(j)"
   ]
  },
  {
   "cell_type": "code",
   "execution_count": 121,
   "id": "635b805b",
   "metadata": {},
   "outputs": [
    {
     "name": "stdout",
     "output_type": "stream",
     "text": [
      "Total de casos: 144\n"
     ]
    }
   ],
   "source": [
    "print('Total de casos: %d'%(len(df)))"
   ]
  },
  {
   "cell_type": "code",
   "execution_count": 122,
   "id": "bac39a0d",
   "metadata": {},
   "outputs": [],
   "source": [
    "dfTicker = df.groupby(['ticker']).size()"
   ]
  },
  {
   "cell_type": "code",
   "execution_count": 123,
   "id": "68deffe2",
   "metadata": {},
   "outputs": [],
   "source": [
    "dfTarget = df.groupby(['target']).size().to_frame()"
   ]
  },
  {
   "cell_type": "code",
   "execution_count": 124,
   "id": "1b1c6f68",
   "metadata": {},
   "outputs": [
    {
     "name": "stdout",
     "output_type": "stream",
     "text": [
      "Total de tickers: 48\n"
     ]
    }
   ],
   "source": [
    "print('Total de tickers: %d' % (len(dfTicker)))"
   ]
  },
  {
   "cell_type": "code",
   "execution_count": 125,
   "id": "e18162f2",
   "metadata": {},
   "outputs": [
    {
     "data": {
      "text/plain": [
       "array([-1.,  1.,  0., nan, -3., -2.])"
      ]
     },
     "execution_count": 125,
     "metadata": {},
     "output_type": "execute_result"
    }
   ],
   "source": [
    "df['saldoValidacao'].unique()"
   ]
  },
  {
   "cell_type": "markdown",
   "id": "5bf4c4b7",
   "metadata": {},
   "source": [
    "## Casos que não deram certo"
   ]
  },
  {
   "cell_type": "code",
   "execution_count": 126,
   "id": "045e47bc",
   "metadata": {},
   "outputs": [],
   "source": [
    "dfRuim = df[df['saldoValidacao']<0]"
   ]
  },
  {
   "cell_type": "code",
   "execution_count": 127,
   "id": "1bd25d0f",
   "metadata": {},
   "outputs": [
    {
     "name": "stdout",
     "output_type": "stream",
     "text": [
      "Total de casos com erro: 50 (34.72) \n"
     ]
    }
   ],
   "source": [
    "print('Total de casos com erro: %d (%.2f) '%(len(dfRuim) , (100*(len(dfRuim) / len(df)) )))"
   ]
  },
  {
   "cell_type": "code",
   "execution_count": 128,
   "id": "a4fdd60b",
   "metadata": {},
   "outputs": [],
   "source": [
    "dfRuimTicker =  dfRuim.groupby(['ticker']).size()"
   ]
  },
  {
   "cell_type": "code",
   "execution_count": 156,
   "id": "1f98a284",
   "metadata": {},
   "outputs": [
    {
     "name": "stdout",
     "output_type": "stream",
     "text": [
      "Total de ticker com erro: 5 (10.42) \n"
     ]
    }
   ],
   "source": [
    "print('Total de ticker com erro: %d (%.2f) '%(len(dfRuimTicker) , (100*(len(dfRuimTicker) / len(dfTicker)) )))"
   ]
  },
  {
   "cell_type": "code",
   "execution_count": 105,
   "id": "c5b9f518",
   "metadata": {},
   "outputs": [
    {
     "data": {
      "text/html": [
       "<div>\n",
       "<style scoped>\n",
       "    .dataframe tbody tr th:only-of-type {\n",
       "        vertical-align: middle;\n",
       "    }\n",
       "\n",
       "    .dataframe tbody tr th {\n",
       "        vertical-align: top;\n",
       "    }\n",
       "\n",
       "    .dataframe thead th {\n",
       "        text-align: right;\n",
       "    }\n",
       "</style>\n",
       "<table border=\"1\" class=\"dataframe\">\n",
       "  <thead>\n",
       "    <tr style=\"text-align: right;\">\n",
       "      <th></th>\n",
       "      <th>0</th>\n",
       "    </tr>\n",
       "    <tr>\n",
       "      <th>target</th>\n",
       "      <th></th>\n",
       "    </tr>\n",
       "  </thead>\n",
       "  <tbody>\n",
       "    <tr>\n",
       "      <th>0.10</th>\n",
       "      <td>3</td>\n",
       "    </tr>\n",
       "    <tr>\n",
       "      <th>0.12</th>\n",
       "      <td>9</td>\n",
       "    </tr>\n",
       "    <tr>\n",
       "      <th>0.14</th>\n",
       "      <td>7</td>\n",
       "    </tr>\n",
       "    <tr>\n",
       "      <th>0.16</th>\n",
       "      <td>9</td>\n",
       "    </tr>\n",
       "    <tr>\n",
       "      <th>0.18</th>\n",
       "      <td>4</td>\n",
       "    </tr>\n",
       "    <tr>\n",
       "      <th>0.20</th>\n",
       "      <td>4</td>\n",
       "    </tr>\n",
       "    <tr>\n",
       "      <th>0.22</th>\n",
       "      <td>3</td>\n",
       "    </tr>\n",
       "  </tbody>\n",
       "</table>\n",
       "</div>"
      ],
      "text/plain": [
       "        0\n",
       "target   \n",
       "0.10    3\n",
       "0.12    9\n",
       "0.14    7\n",
       "0.16    9\n",
       "0.18    4\n",
       "0.20    4\n",
       "0.22    3"
      ]
     },
     "execution_count": 105,
     "metadata": {},
     "output_type": "execute_result"
    }
   ],
   "source": [
    "dfRuim.groupby(['target']).size().to_frame()"
   ]
  },
  {
   "cell_type": "code",
   "execution_count": 106,
   "id": "20ec06fe",
   "metadata": {},
   "outputs": [
    {
     "data": {
      "text/html": [
       "<div>\n",
       "<style scoped>\n",
       "    .dataframe tbody tr th:only-of-type {\n",
       "        vertical-align: middle;\n",
       "    }\n",
       "\n",
       "    .dataframe tbody tr th {\n",
       "        vertical-align: top;\n",
       "    }\n",
       "\n",
       "    .dataframe thead th {\n",
       "        text-align: right;\n",
       "    }\n",
       "</style>\n",
       "<table border=\"1\" class=\"dataframe\">\n",
       "  <thead>\n",
       "    <tr style=\"text-align: right;\">\n",
       "      <th></th>\n",
       "      <th>0</th>\n",
       "    </tr>\n",
       "    <tr>\n",
       "      <th>stop</th>\n",
       "      <th></th>\n",
       "    </tr>\n",
       "  </thead>\n",
       "  <tbody>\n",
       "    <tr>\n",
       "      <th>0.06</th>\n",
       "      <td>18</td>\n",
       "    </tr>\n",
       "    <tr>\n",
       "      <th>0.08</th>\n",
       "      <td>17</td>\n",
       "    </tr>\n",
       "    <tr>\n",
       "      <th>0.10</th>\n",
       "      <td>4</td>\n",
       "    </tr>\n",
       "  </tbody>\n",
       "</table>\n",
       "</div>"
      ],
      "text/plain": [
       "       0\n",
       "stop    \n",
       "0.06  18\n",
       "0.08  17\n",
       "0.10   4"
      ]
     },
     "execution_count": 106,
     "metadata": {},
     "output_type": "execute_result"
    }
   ],
   "source": [
    "dfRuim.groupby(['stop']).size().to_frame()"
   ]
  },
  {
   "cell_type": "code",
   "execution_count": 107,
   "id": "8e4b03e0",
   "metadata": {},
   "outputs": [
    {
     "data": {
      "text/html": [
       "<div>\n",
       "<style scoped>\n",
       "    .dataframe tbody tr th:only-of-type {\n",
       "        vertical-align: middle;\n",
       "    }\n",
       "\n",
       "    .dataframe tbody tr th {\n",
       "        vertical-align: top;\n",
       "    }\n",
       "\n",
       "    .dataframe thead th {\n",
       "        text-align: right;\n",
       "    }\n",
       "</style>\n",
       "<table border=\"1\" class=\"dataframe\">\n",
       "  <thead>\n",
       "    <tr style=\"text-align: right;\">\n",
       "      <th></th>\n",
       "      <th>0</th>\n",
       "    </tr>\n",
       "    <tr>\n",
       "      <th>stop</th>\n",
       "      <th></th>\n",
       "    </tr>\n",
       "  </thead>\n",
       "  <tbody>\n",
       "    <tr>\n",
       "      <th>0.06</th>\n",
       "      <td>45</td>\n",
       "    </tr>\n",
       "    <tr>\n",
       "      <th>0.08</th>\n",
       "      <td>54</td>\n",
       "    </tr>\n",
       "    <tr>\n",
       "      <th>0.10</th>\n",
       "      <td>12</td>\n",
       "    </tr>\n",
       "    <tr>\n",
       "      <th>0.12</th>\n",
       "      <td>2</td>\n",
       "    </tr>\n",
       "  </tbody>\n",
       "</table>\n",
       "</div>"
      ],
      "text/plain": [
       "       0\n",
       "stop    \n",
       "0.06  45\n",
       "0.08  54\n",
       "0.10  12\n",
       "0.12   2"
      ]
     },
     "execution_count": 107,
     "metadata": {},
     "output_type": "execute_result"
    }
   ],
   "source": [
    "df.groupby(['stop']).size().to_frame()"
   ]
  },
  {
   "cell_type": "markdown",
   "id": "aa4ed10a",
   "metadata": {},
   "source": [
    "# Situação dos Tickers"
   ]
  },
  {
   "cell_type": "code",
   "execution_count": 130,
   "id": "c6a32dfa",
   "metadata": {},
   "outputs": [],
   "source": [
    "urlRegraProj = \"http://vps-40d69db1.vps.ovh.ca:22001/api/CotacaoIntradayAcaoResultadoValors/obtemResultadoRegraData?codigoRegra=geral&diaNumInicial=20210901&diaNumFinal=20211010\""
   ]
  },
  {
   "cell_type": "code",
   "execution_count": 146,
   "id": "598c96d8",
   "metadata": {},
   "outputs": [],
   "source": [
    "r = requests.get(urlRegraProj)\n",
    "j = r.json()\n",
    "dfRegraProj = pd.DataFrame.from_dict(j)"
   ]
  },
  {
   "cell_type": "code",
   "execution_count": 132,
   "id": "171bc009",
   "metadata": {},
   "outputs": [
    {
     "data": {
      "text/html": [
       "<div>\n",
       "<style scoped>\n",
       "    .dataframe tbody tr th:only-of-type {\n",
       "        vertical-align: middle;\n",
       "    }\n",
       "\n",
       "    .dataframe tbody tr th {\n",
       "        vertical-align: top;\n",
       "    }\n",
       "\n",
       "    .dataframe thead th {\n",
       "        text-align: right;\n",
       "    }\n",
       "</style>\n",
       "<table border=\"1\" class=\"dataframe\">\n",
       "  <thead>\n",
       "    <tr style=\"text-align: right;\">\n",
       "      <th></th>\n",
       "      <th>ano</th>\n",
       "      <th>mes</th>\n",
       "      <th>ticker</th>\n",
       "      <th>total</th>\n",
       "      <th>lucro</th>\n",
       "      <th>nulo</th>\n",
       "      <th>prejuizo</th>\n",
       "    </tr>\n",
       "  </thead>\n",
       "  <tbody>\n",
       "    <tr>\n",
       "      <th>0</th>\n",
       "      <td>2021</td>\n",
       "      <td>9</td>\n",
       "      <td>ABEV3</td>\n",
       "      <td>315</td>\n",
       "      <td>96</td>\n",
       "      <td>204</td>\n",
       "      <td>15</td>\n",
       "    </tr>\n",
       "    <tr>\n",
       "      <th>1</th>\n",
       "      <td>2021</td>\n",
       "      <td>9</td>\n",
       "      <td>AERI3</td>\n",
       "      <td>315</td>\n",
       "      <td>204</td>\n",
       "      <td>47</td>\n",
       "      <td>64</td>\n",
       "    </tr>\n",
       "    <tr>\n",
       "      <th>2</th>\n",
       "      <td>2021</td>\n",
       "      <td>9</td>\n",
       "      <td>ALPA4</td>\n",
       "      <td>315</td>\n",
       "      <td>0</td>\n",
       "      <td>0</td>\n",
       "      <td>315</td>\n",
       "    </tr>\n",
       "    <tr>\n",
       "      <th>3</th>\n",
       "      <td>2021</td>\n",
       "      <td>9</td>\n",
       "      <td>ALSO3</td>\n",
       "      <td>315</td>\n",
       "      <td>0</td>\n",
       "      <td>0</td>\n",
       "      <td>315</td>\n",
       "    </tr>\n",
       "    <tr>\n",
       "      <th>4</th>\n",
       "      <td>2021</td>\n",
       "      <td>9</td>\n",
       "      <td>AMAR3</td>\n",
       "      <td>315</td>\n",
       "      <td>0</td>\n",
       "      <td>0</td>\n",
       "      <td>315</td>\n",
       "    </tr>\n",
       "  </tbody>\n",
       "</table>\n",
       "</div>"
      ],
      "text/plain": [
       "    ano  mes ticker  total  lucro  nulo  prejuizo\n",
       "0  2021    9  ABEV3    315     96   204        15\n",
       "1  2021    9  AERI3    315    204    47        64\n",
       "2  2021    9  ALPA4    315      0     0       315\n",
       "3  2021    9  ALSO3    315      0     0       315\n",
       "4  2021    9  AMAR3    315      0     0       315"
      ]
     },
     "execution_count": 132,
     "metadata": {},
     "output_type": "execute_result"
    }
   ],
   "source": [
    "dfRegraProj.head()"
   ]
  },
  {
   "cell_type": "code",
   "execution_count": 148,
   "id": "51de2a91",
   "metadata": {},
   "outputs": [],
   "source": [
    "dfTickerRP = dfRegraProj.groupby(['ticker']).sum()"
   ]
  },
  {
   "cell_type": "code",
   "execution_count": 149,
   "id": "a929dd9b",
   "metadata": {},
   "outputs": [
    {
     "data": {
      "text/html": [
       "<div>\n",
       "<style scoped>\n",
       "    .dataframe tbody tr th:only-of-type {\n",
       "        vertical-align: middle;\n",
       "    }\n",
       "\n",
       "    .dataframe tbody tr th {\n",
       "        vertical-align: top;\n",
       "    }\n",
       "\n",
       "    .dataframe thead th {\n",
       "        text-align: right;\n",
       "    }\n",
       "</style>\n",
       "<table border=\"1\" class=\"dataframe\">\n",
       "  <thead>\n",
       "    <tr style=\"text-align: right;\">\n",
       "      <th></th>\n",
       "      <th>ano</th>\n",
       "      <th>mes</th>\n",
       "      <th>total</th>\n",
       "      <th>lucro</th>\n",
       "      <th>nulo</th>\n",
       "      <th>prejuizo</th>\n",
       "    </tr>\n",
       "    <tr>\n",
       "      <th>ticker</th>\n",
       "      <th></th>\n",
       "      <th></th>\n",
       "      <th></th>\n",
       "      <th></th>\n",
       "      <th></th>\n",
       "      <th></th>\n",
       "    </tr>\n",
       "  </thead>\n",
       "  <tbody>\n",
       "    <tr>\n",
       "      <th>ABEV3</th>\n",
       "      <td>4042</td>\n",
       "      <td>19</td>\n",
       "      <td>405</td>\n",
       "      <td>186</td>\n",
       "      <td>204</td>\n",
       "      <td>15</td>\n",
       "    </tr>\n",
       "    <tr>\n",
       "      <th>AERI3</th>\n",
       "      <td>4042</td>\n",
       "      <td>19</td>\n",
       "      <td>405</td>\n",
       "      <td>217</td>\n",
       "      <td>124</td>\n",
       "      <td>64</td>\n",
       "    </tr>\n",
       "    <tr>\n",
       "      <th>ALPA4</th>\n",
       "      <td>4042</td>\n",
       "      <td>19</td>\n",
       "      <td>405</td>\n",
       "      <td>0</td>\n",
       "      <td>0</td>\n",
       "      <td>405</td>\n",
       "    </tr>\n",
       "    <tr>\n",
       "      <th>ALSO3</th>\n",
       "      <td>4042</td>\n",
       "      <td>19</td>\n",
       "      <td>405</td>\n",
       "      <td>0</td>\n",
       "      <td>46</td>\n",
       "      <td>359</td>\n",
       "    </tr>\n",
       "    <tr>\n",
       "      <th>AMAR3</th>\n",
       "      <td>4042</td>\n",
       "      <td>19</td>\n",
       "      <td>405</td>\n",
       "      <td>0</td>\n",
       "      <td>0</td>\n",
       "      <td>405</td>\n",
       "    </tr>\n",
       "  </tbody>\n",
       "</table>\n",
       "</div>"
      ],
      "text/plain": [
       "         ano  mes  total  lucro  nulo  prejuizo\n",
       "ticker                                         \n",
       "ABEV3   4042   19    405    186   204        15\n",
       "AERI3   4042   19    405    217   124        64\n",
       "ALPA4   4042   19    405      0     0       405\n",
       "ALSO3   4042   19    405      0    46       359\n",
       "AMAR3   4042   19    405      0     0       405"
      ]
     },
     "execution_count": 149,
     "metadata": {},
     "output_type": "execute_result"
    }
   ],
   "source": [
    "dfTickerRP.head()"
   ]
  },
  {
   "cell_type": "code",
   "execution_count": 152,
   "id": "e19f8629",
   "metadata": {},
   "outputs": [],
   "source": [
    "dfMerge = pd.merge(dfRuimTicker,dfTickerRP,how='left' , left_index=True, right_index=True)"
   ]
  },
  {
   "cell_type": "code",
   "execution_count": 153,
   "id": "9650cba5",
   "metadata": {},
   "outputs": [
    {
     "data": {
      "text/html": [
       "<div>\n",
       "<style scoped>\n",
       "    .dataframe tbody tr th:only-of-type {\n",
       "        vertical-align: middle;\n",
       "    }\n",
       "\n",
       "    .dataframe tbody tr th {\n",
       "        vertical-align: top;\n",
       "    }\n",
       "\n",
       "    .dataframe thead th {\n",
       "        text-align: right;\n",
       "    }\n",
       "</style>\n",
       "<table border=\"1\" class=\"dataframe\">\n",
       "  <thead>\n",
       "    <tr style=\"text-align: right;\">\n",
       "      <th></th>\n",
       "      <th>0</th>\n",
       "      <th>ano</th>\n",
       "      <th>mes</th>\n",
       "      <th>total</th>\n",
       "      <th>lucro</th>\n",
       "      <th>nulo</th>\n",
       "      <th>prejuizo</th>\n",
       "    </tr>\n",
       "    <tr>\n",
       "      <th>ticker</th>\n",
       "      <th></th>\n",
       "      <th></th>\n",
       "      <th></th>\n",
       "      <th></th>\n",
       "      <th></th>\n",
       "      <th></th>\n",
       "      <th></th>\n",
       "    </tr>\n",
       "  </thead>\n",
       "  <tbody>\n",
       "    <tr>\n",
       "      <th>ANIM3</th>\n",
       "      <td>3</td>\n",
       "      <td>4042</td>\n",
       "      <td>19</td>\n",
       "      <td>405</td>\n",
       "      <td>2</td>\n",
       "      <td>0</td>\n",
       "      <td>403</td>\n",
       "    </tr>\n",
       "    <tr>\n",
       "      <th>BPAC11</th>\n",
       "      <td>3</td>\n",
       "      <td>4042</td>\n",
       "      <td>19</td>\n",
       "      <td>405</td>\n",
       "      <td>0</td>\n",
       "      <td>0</td>\n",
       "      <td>405</td>\n",
       "    </tr>\n",
       "    <tr>\n",
       "      <th>CCRO3</th>\n",
       "      <td>3</td>\n",
       "      <td>4042</td>\n",
       "      <td>19</td>\n",
       "      <td>405</td>\n",
       "      <td>0</td>\n",
       "      <td>405</td>\n",
       "      <td>0</td>\n",
       "    </tr>\n",
       "    <tr>\n",
       "      <th>COGN3</th>\n",
       "      <td>2</td>\n",
       "      <td>4042</td>\n",
       "      <td>19</td>\n",
       "      <td>405</td>\n",
       "      <td>79</td>\n",
       "      <td>12</td>\n",
       "      <td>314</td>\n",
       "    </tr>\n",
       "    <tr>\n",
       "      <th>CSNA3</th>\n",
       "      <td>3</td>\n",
       "      <td>4042</td>\n",
       "      <td>19</td>\n",
       "      <td>405</td>\n",
       "      <td>0</td>\n",
       "      <td>0</td>\n",
       "      <td>405</td>\n",
       "    </tr>\n",
       "  </tbody>\n",
       "</table>\n",
       "</div>"
      ],
      "text/plain": [
       "        0   ano  mes  total  lucro  nulo  prejuizo\n",
       "ticker                                            \n",
       "ANIM3   3  4042   19    405      2     0       403\n",
       "BPAC11  3  4042   19    405      0     0       405\n",
       "CCRO3   3  4042   19    405      0   405         0\n",
       "COGN3   2  4042   19    405     79    12       314\n",
       "CSNA3   3  4042   19    405      0     0       405"
      ]
     },
     "execution_count": 153,
     "metadata": {},
     "output_type": "execute_result"
    }
   ],
   "source": [
    "dfMerge.head(40)"
   ]
  },
  {
   "cell_type": "code",
   "execution_count": 155,
   "id": "db995cd3",
   "metadata": {},
   "outputs": [
    {
     "data": {
      "text/plain": [
       "5"
      ]
     },
     "execution_count": 155,
     "metadata": {},
     "output_type": "execute_result"
    }
   ],
   "source": [
    "len(dfRuimTicker)"
   ]
  },
  {
   "cell_type": "code",
   "execution_count": null,
   "id": "4eb942d3",
   "metadata": {},
   "outputs": [],
   "source": []
  }
 ],
 "metadata": {
  "kernelspec": {
   "display_name": "Python 3 (ipykernel)",
   "language": "python",
   "name": "python3"
  },
  "language_info": {
   "codemirror_mode": {
    "name": "ipython",
    "version": 3
   },
   "file_extension": ".py",
   "mimetype": "text/x-python",
   "name": "python",
   "nbconvert_exporter": "python",
   "pygments_lexer": "ipython3",
   "version": "3.8.10"
  }
 },
 "nbformat": 4,
 "nbformat_minor": 5
}
