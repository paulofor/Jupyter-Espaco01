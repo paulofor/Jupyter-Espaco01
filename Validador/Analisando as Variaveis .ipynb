{
 "cells": [
  {
   "cell_type": "markdown",
   "id": "5d937131",
   "metadata": {},
   "source": [
    "# Período 9"
   ]
  },
  {
   "cell_type": "code",
   "execution_count": 1,
   "id": "9c44727a",
   "metadata": {},
   "outputs": [],
   "source": [
    "import numpy as np\n",
    "from datetime import datetime\n",
    "import requests\n",
    "import pandas as pd\n",
    "import matplotlib.pyplot as plt"
   ]
  },
  {
   "cell_type": "markdown",
   "id": "acbf2664",
   "metadata": {},
   "source": [
    "## Analisando apenas 3 casos por ticker"
   ]
  },
  {
   "cell_type": "code",
   "execution_count": 79,
   "id": "dc4ebe6e",
   "metadata": {},
   "outputs": [],
   "source": [
    "url = \"http://vps-40d69db1.vps.ovh.ca:22001/api/ExecucaoSimulacaos/melhorValidacaoPeriodoFlatPorTicker?idPeriodo=9&limitePorTicker=3\""
   ]
  },
  {
   "cell_type": "code",
   "execution_count": 80,
   "id": "a49353e2",
   "metadata": {},
   "outputs": [],
   "source": [
    "r = requests.get(url)\n",
    "j = r.json()\n",
    "df = pd.DataFrame.from_dict(j)"
   ]
  },
  {
   "cell_type": "code",
   "execution_count": 81,
   "id": "635b805b",
   "metadata": {},
   "outputs": [
    {
     "name": "stdout",
     "output_type": "stream",
     "text": [
      "Total de casos: 180\n"
     ]
    }
   ],
   "source": [
    "print('Total de casos: %d'%(len(df)))"
   ]
  },
  {
   "cell_type": "code",
   "execution_count": 82,
   "id": "bac39a0d",
   "metadata": {},
   "outputs": [],
   "source": [
    "dfTicker = df.groupby(['ticker']).size()"
   ]
  },
  {
   "cell_type": "code",
   "execution_count": 83,
   "id": "68deffe2",
   "metadata": {},
   "outputs": [],
   "source": [
    "dfTarget = df.groupby(['target']).size().to_frame()"
   ]
  },
  {
   "cell_type": "code",
   "execution_count": 84,
   "id": "1b1c6f68",
   "metadata": {},
   "outputs": [
    {
     "name": "stdout",
     "output_type": "stream",
     "text": [
      "Total de tickers: 60\n"
     ]
    }
   ],
   "source": [
    "print('Total de tickers: %d' % (len(dfTicker)))"
   ]
  },
  {
   "cell_type": "code",
   "execution_count": 85,
   "id": "e18162f2",
   "metadata": {},
   "outputs": [
    {
     "data": {
      "text/plain": [
       "array([ 0., -1.,  1., nan,  2., -2., -3.])"
      ]
     },
     "execution_count": 85,
     "metadata": {},
     "output_type": "execute_result"
    }
   ],
   "source": [
    "df['saldoValidacao'].unique()"
   ]
  },
  {
   "cell_type": "markdown",
   "id": "5bf4c4b7",
   "metadata": {},
   "source": [
    "## Casos que não deram certo"
   ]
  },
  {
   "cell_type": "code",
   "execution_count": 86,
   "id": "045e47bc",
   "metadata": {},
   "outputs": [],
   "source": [
    "dfRuim = df[df['saldoValidacao']<0]"
   ]
  },
  {
   "cell_type": "code",
   "execution_count": 87,
   "id": "1bd25d0f",
   "metadata": {},
   "outputs": [
    {
     "name": "stdout",
     "output_type": "stream",
     "text": [
      "Total de casos com erro: 50 (27.78) \n"
     ]
    }
   ],
   "source": [
    "print('Total de casos com erro: %d (%.2f) '%(len(dfRuim) , (100*(len(dfRuim) / len(df)) )))"
   ]
  },
  {
   "cell_type": "code",
   "execution_count": 88,
   "id": "a4fdd60b",
   "metadata": {},
   "outputs": [],
   "source": [
    "dfRuimTicker =  dfRuim.groupby(['ticker']).size()"
   ]
  },
  {
   "cell_type": "code",
   "execution_count": 89,
   "id": "1f98a284",
   "metadata": {},
   "outputs": [
    {
     "name": "stdout",
     "output_type": "stream",
     "text": [
      "Total de ticker com erro: 20 (33.33) \n"
     ]
    }
   ],
   "source": [
    "print('Total de ticker com erro: %d (%.2f) '%(len(dfRuimTicker) , (100*(len(dfRuimTicker) / len(dfTicker)) )))"
   ]
  },
  {
   "cell_type": "code",
   "execution_count": 90,
   "id": "c5b9f518",
   "metadata": {},
   "outputs": [
    {
     "data": {
      "text/html": [
       "<div>\n",
       "<style scoped>\n",
       "    .dataframe tbody tr th:only-of-type {\n",
       "        vertical-align: middle;\n",
       "    }\n",
       "\n",
       "    .dataframe tbody tr th {\n",
       "        vertical-align: top;\n",
       "    }\n",
       "\n",
       "    .dataframe thead th {\n",
       "        text-align: right;\n",
       "    }\n",
       "</style>\n",
       "<table border=\"1\" class=\"dataframe\">\n",
       "  <thead>\n",
       "    <tr style=\"text-align: right;\">\n",
       "      <th></th>\n",
       "      <th>0</th>\n",
       "    </tr>\n",
       "    <tr>\n",
       "      <th>target</th>\n",
       "      <th></th>\n",
       "    </tr>\n",
       "  </thead>\n",
       "  <tbody>\n",
       "    <tr>\n",
       "      <th>0.08</th>\n",
       "      <td>1</td>\n",
       "    </tr>\n",
       "    <tr>\n",
       "      <th>0.10</th>\n",
       "      <td>3</td>\n",
       "    </tr>\n",
       "    <tr>\n",
       "      <th>0.12</th>\n",
       "      <td>9</td>\n",
       "    </tr>\n",
       "    <tr>\n",
       "      <th>0.14</th>\n",
       "      <td>13</td>\n",
       "    </tr>\n",
       "    <tr>\n",
       "      <th>0.16</th>\n",
       "      <td>8</td>\n",
       "    </tr>\n",
       "    <tr>\n",
       "      <th>0.18</th>\n",
       "      <td>4</td>\n",
       "    </tr>\n",
       "    <tr>\n",
       "      <th>0.20</th>\n",
       "      <td>7</td>\n",
       "    </tr>\n",
       "    <tr>\n",
       "      <th>0.22</th>\n",
       "      <td>5</td>\n",
       "    </tr>\n",
       "  </tbody>\n",
       "</table>\n",
       "</div>"
      ],
      "text/plain": [
       "         0\n",
       "target    \n",
       "0.08     1\n",
       "0.10     3\n",
       "0.12     9\n",
       "0.14    13\n",
       "0.16     8\n",
       "0.18     4\n",
       "0.20     7\n",
       "0.22     5"
      ]
     },
     "execution_count": 90,
     "metadata": {},
     "output_type": "execute_result"
    }
   ],
   "source": [
    "dfRuim.groupby(['target']).size().to_frame()"
   ]
  },
  {
   "cell_type": "code",
   "execution_count": 91,
   "id": "20ec06fe",
   "metadata": {},
   "outputs": [
    {
     "data": {
      "text/html": [
       "<div>\n",
       "<style scoped>\n",
       "    .dataframe tbody tr th:only-of-type {\n",
       "        vertical-align: middle;\n",
       "    }\n",
       "\n",
       "    .dataframe tbody tr th {\n",
       "        vertical-align: top;\n",
       "    }\n",
       "\n",
       "    .dataframe thead th {\n",
       "        text-align: right;\n",
       "    }\n",
       "</style>\n",
       "<table border=\"1\" class=\"dataframe\">\n",
       "  <thead>\n",
       "    <tr style=\"text-align: right;\">\n",
       "      <th></th>\n",
       "      <th>0</th>\n",
       "    </tr>\n",
       "    <tr>\n",
       "      <th>stop</th>\n",
       "      <th></th>\n",
       "    </tr>\n",
       "  </thead>\n",
       "  <tbody>\n",
       "    <tr>\n",
       "      <th>0.06</th>\n",
       "      <td>25</td>\n",
       "    </tr>\n",
       "    <tr>\n",
       "      <th>0.08</th>\n",
       "      <td>21</td>\n",
       "    </tr>\n",
       "    <tr>\n",
       "      <th>0.10</th>\n",
       "      <td>4</td>\n",
       "    </tr>\n",
       "  </tbody>\n",
       "</table>\n",
       "</div>"
      ],
      "text/plain": [
       "       0\n",
       "stop    \n",
       "0.06  25\n",
       "0.08  21\n",
       "0.10   4"
      ]
     },
     "execution_count": 91,
     "metadata": {},
     "output_type": "execute_result"
    }
   ],
   "source": [
    "dfRuim.groupby(['stop']).size().to_frame()"
   ]
  },
  {
   "cell_type": "code",
   "execution_count": 92,
   "id": "8e4b03e0",
   "metadata": {},
   "outputs": [
    {
     "data": {
      "text/html": [
       "<div>\n",
       "<style scoped>\n",
       "    .dataframe tbody tr th:only-of-type {\n",
       "        vertical-align: middle;\n",
       "    }\n",
       "\n",
       "    .dataframe tbody tr th {\n",
       "        vertical-align: top;\n",
       "    }\n",
       "\n",
       "    .dataframe thead th {\n",
       "        text-align: right;\n",
       "    }\n",
       "</style>\n",
       "<table border=\"1\" class=\"dataframe\">\n",
       "  <thead>\n",
       "    <tr style=\"text-align: right;\">\n",
       "      <th></th>\n",
       "      <th>0</th>\n",
       "    </tr>\n",
       "    <tr>\n",
       "      <th>stop</th>\n",
       "      <th></th>\n",
       "    </tr>\n",
       "  </thead>\n",
       "  <tbody>\n",
       "    <tr>\n",
       "      <th>0.06</th>\n",
       "      <td>72</td>\n",
       "    </tr>\n",
       "    <tr>\n",
       "      <th>0.08</th>\n",
       "      <td>93</td>\n",
       "    </tr>\n",
       "    <tr>\n",
       "      <th>0.10</th>\n",
       "      <td>12</td>\n",
       "    </tr>\n",
       "    <tr>\n",
       "      <th>0.12</th>\n",
       "      <td>3</td>\n",
       "    </tr>\n",
       "  </tbody>\n",
       "</table>\n",
       "</div>"
      ],
      "text/plain": [
       "       0\n",
       "stop    \n",
       "0.06  72\n",
       "0.08  93\n",
       "0.10  12\n",
       "0.12   3"
      ]
     },
     "execution_count": 92,
     "metadata": {},
     "output_type": "execute_result"
    }
   ],
   "source": [
    "df.groupby(['stop']).size().to_frame()"
   ]
  },
  {
   "cell_type": "code",
   "execution_count": null,
   "id": "47b631be",
   "metadata": {},
   "outputs": [],
   "source": []
  }
 ],
 "metadata": {
  "kernelspec": {
   "display_name": "Python 3 (ipykernel)",
   "language": "python",
   "name": "python3"
  },
  "language_info": {
   "codemirror_mode": {
    "name": "ipython",
    "version": 3
   },
   "file_extension": ".py",
   "mimetype": "text/x-python",
   "name": "python",
   "nbconvert_exporter": "python",
   "pygments_lexer": "ipython3",
   "version": "3.8.10"
  }
 },
 "nbformat": 4,
 "nbformat_minor": 5
}
