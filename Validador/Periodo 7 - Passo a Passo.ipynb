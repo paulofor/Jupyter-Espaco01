{
 "cells": [
  {
   "cell_type": "code",
   "execution_count": 1,
   "id": "b400dbc2",
   "metadata": {},
   "outputs": [],
   "source": [
    "import numpy as np"
   ]
  },
  {
   "cell_type": "code",
   "execution_count": 2,
   "id": "f77c90bc",
   "metadata": {},
   "outputs": [],
   "source": [
    "import requests\n",
    "import pandas as pd\n",
    "\n",
    "r = requests.get('http://vps-40d69db1.vps.ovh.ca:21046/api/ExecucaoSimulacaos/melhorValidacaoPeriodoFlat?idPeriodo=7')\n",
    "\n",
    "j = r.json()\n",
    "\n",
    "df = pd.DataFrame.from_dict(j)"
   ]
  },
  {
   "cell_type": "code",
   "execution_count": 3,
   "id": "e077e4a3",
   "metadata": {},
   "outputs": [
    {
     "name": "stdout",
     "output_type": "stream",
     "text": [
      "Index(['simulacaoId', 'ticker', 'simulacaoResultado', 'simulacaoLucro',\n",
      "       'simulacaoPrejuizo', 'target', 'stop', 'tipo', 'experimentoSimulacaoId',\n",
      "       'validacaoLucro', 'validacaoPrejuizo', 'saldoValidacao'],\n",
      "      dtype='object')\n",
      "40466\n"
     ]
    }
   ],
   "source": [
    "print(df.columns)\n",
    "print(len(df))"
   ]
  },
  {
   "cell_type": "markdown",
   "id": "3abe8006",
   "metadata": {},
   "source": [
    "# Por Experimento"
   ]
  },
  {
   "cell_type": "code",
   "execution_count": 5,
   "id": "6c0c24f9",
   "metadata": {},
   "outputs": [
    {
     "data": {
      "text/plain": [
       "experimentoSimulacaoId\n",
       "54     5833\n",
       "56     6242\n",
       "57     9898\n",
       "58    18493\n",
       "dtype: int64"
      ]
     },
     "execution_count": 5,
     "metadata": {},
     "output_type": "execute_result"
    }
   ],
   "source": [
    " df.groupby(['experimentoSimulacaoId']).size()"
   ]
  },
  {
   "cell_type": "code",
   "execution_count": 6,
   "id": "655b7b6a",
   "metadata": {},
   "outputs": [
    {
     "data": {
      "text/plain": [
       "array([None], dtype=object)"
      ]
     },
     "execution_count": 6,
     "metadata": {},
     "output_type": "execute_result"
    }
   ],
   "source": [
    "df['saldoValidacao'].unique()"
   ]
  },
  {
   "cell_type": "code",
   "execution_count": 7,
   "id": "895cfb8f",
   "metadata": {},
   "outputs": [
    {
     "data": {
      "text/plain": [
       "array([None], dtype=object)"
      ]
     },
     "execution_count": 7,
     "metadata": {},
     "output_type": "execute_result"
    }
   ],
   "source": [
    "df['validacaoLucro'].unique()"
   ]
  },
  {
   "cell_type": "code",
   "execution_count": 9,
   "id": "06cabbb0",
   "metadata": {},
   "outputs": [
    {
     "data": {
      "text/plain": [
       "Series([], dtype: int64)"
      ]
     },
     "execution_count": 9,
     "metadata": {},
     "output_type": "execute_result"
    }
   ],
   "source": [
    " df.groupby(['experimentoSimulacaoId','saldoValidacao']).size()"
   ]
  },
  {
   "cell_type": "code",
   "execution_count": 10,
   "id": "9c883621",
   "metadata": {},
   "outputs": [
    {
     "data": {
      "text/html": [
       "<div>\n",
       "<style scoped>\n",
       "    .dataframe tbody tr th:only-of-type {\n",
       "        vertical-align: middle;\n",
       "    }\n",
       "\n",
       "    .dataframe tbody tr th {\n",
       "        vertical-align: top;\n",
       "    }\n",
       "\n",
       "    .dataframe thead th {\n",
       "        text-align: right;\n",
       "    }\n",
       "</style>\n",
       "<table border=\"1\" class=\"dataframe\">\n",
       "  <thead>\n",
       "    <tr style=\"text-align: right;\">\n",
       "      <th></th>\n",
       "      <th>simulacaoId</th>\n",
       "      <th>ticker</th>\n",
       "      <th>simulacaoResultado</th>\n",
       "      <th>simulacaoLucro</th>\n",
       "      <th>simulacaoPrejuizo</th>\n",
       "      <th>target</th>\n",
       "      <th>stop</th>\n",
       "      <th>tipo</th>\n",
       "      <th>experimentoSimulacaoId</th>\n",
       "      <th>validacaoLucro</th>\n",
       "      <th>validacaoPrejuizo</th>\n",
       "      <th>saldoValidacao</th>\n",
       "    </tr>\n",
       "  </thead>\n",
       "  <tbody>\n",
       "    <tr>\n",
       "      <th>40461</th>\n",
       "      <td>10364406</td>\n",
       "      <td>COGN3</td>\n",
       "      <td>66</td>\n",
       "      <td>3</td>\n",
       "      <td>0</td>\n",
       "      <td>0.18</td>\n",
       "      <td>0.08</td>\n",
       "      <td>V</td>\n",
       "      <td>54</td>\n",
       "      <td>None</td>\n",
       "      <td>None</td>\n",
       "      <td>None</td>\n",
       "    </tr>\n",
       "    <tr>\n",
       "      <th>40462</th>\n",
       "      <td>10364856</td>\n",
       "      <td>COGN3</td>\n",
       "      <td>66</td>\n",
       "      <td>3</td>\n",
       "      <td>0</td>\n",
       "      <td>0.18</td>\n",
       "      <td>0.08</td>\n",
       "      <td>V</td>\n",
       "      <td>54</td>\n",
       "      <td>None</td>\n",
       "      <td>None</td>\n",
       "      <td>None</td>\n",
       "    </tr>\n",
       "    <tr>\n",
       "      <th>40463</th>\n",
       "      <td>10563107</td>\n",
       "      <td>WIZS3</td>\n",
       "      <td>68</td>\n",
       "      <td>4</td>\n",
       "      <td>1</td>\n",
       "      <td>0.16</td>\n",
       "      <td>0.06</td>\n",
       "      <td>V</td>\n",
       "      <td>58</td>\n",
       "      <td>None</td>\n",
       "      <td>None</td>\n",
       "      <td>None</td>\n",
       "    </tr>\n",
       "    <tr>\n",
       "      <th>40464</th>\n",
       "      <td>10563232</td>\n",
       "      <td>WIZS3</td>\n",
       "      <td>68</td>\n",
       "      <td>4</td>\n",
       "      <td>1</td>\n",
       "      <td>0.16</td>\n",
       "      <td>0.06</td>\n",
       "      <td>V</td>\n",
       "      <td>58</td>\n",
       "      <td>None</td>\n",
       "      <td>None</td>\n",
       "      <td>None</td>\n",
       "    </tr>\n",
       "    <tr>\n",
       "      <th>40465</th>\n",
       "      <td>10564032</td>\n",
       "      <td>WIZS3</td>\n",
       "      <td>68</td>\n",
       "      <td>4</td>\n",
       "      <td>1</td>\n",
       "      <td>0.16</td>\n",
       "      <td>0.06</td>\n",
       "      <td>V</td>\n",
       "      <td>58</td>\n",
       "      <td>None</td>\n",
       "      <td>None</td>\n",
       "      <td>None</td>\n",
       "    </tr>\n",
       "  </tbody>\n",
       "</table>\n",
       "</div>"
      ],
      "text/plain": [
       "       simulacaoId ticker  simulacaoResultado  simulacaoLucro  \\\n",
       "40461     10364406  COGN3                  66               3   \n",
       "40462     10364856  COGN3                  66               3   \n",
       "40463     10563107  WIZS3                  68               4   \n",
       "40464     10563232  WIZS3                  68               4   \n",
       "40465     10564032  WIZS3                  68               4   \n",
       "\n",
       "       simulacaoPrejuizo  target  stop tipo  experimentoSimulacaoId  \\\n",
       "40461                  0    0.18  0.08    V                      54   \n",
       "40462                  0    0.18  0.08    V                      54   \n",
       "40463                  1    0.16  0.06    V                      58   \n",
       "40464                  1    0.16  0.06    V                      58   \n",
       "40465                  1    0.16  0.06    V                      58   \n",
       "\n",
       "      validacaoLucro validacaoPrejuizo saldoValidacao  \n",
       "40461           None              None           None  \n",
       "40462           None              None           None  \n",
       "40463           None              None           None  \n",
       "40464           None              None           None  \n",
       "40465           None              None           None  "
      ]
     },
     "execution_count": 10,
     "metadata": {},
     "output_type": "execute_result"
    }
   ],
   "source": [
    "df.tail()"
   ]
  },
  {
   "cell_type": "markdown",
   "id": "8a1687b2",
   "metadata": {},
   "source": [
    "# Executar Validação do Experimento 58"
   ]
  },
  {
   "cell_type": "code",
   "execution_count": null,
   "id": "e7311b85",
   "metadata": {},
   "outputs": [],
   "source": []
  }
 ],
 "metadata": {
  "kernelspec": {
   "display_name": "Python 3 (ipykernel)",
   "language": "python",
   "name": "python3"
  },
  "language_info": {
   "codemirror_mode": {
    "name": "ipython",
    "version": 3
   },
   "file_extension": ".py",
   "mimetype": "text/x-python",
   "name": "python",
   "nbconvert_exporter": "python",
   "pygments_lexer": "ipython3",
   "version": "3.8.10"
  }
 },
 "nbformat": 4,
 "nbformat_minor": 5
}
