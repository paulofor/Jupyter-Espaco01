{
 "cells": [
  {
   "cell_type": "markdown",
   "id": "7d022493",
   "metadata": {},
   "source": [
    "# Período 7"
   ]
  },
  {
   "cell_type": "code",
   "execution_count": 14,
   "id": "a3b78de6",
   "metadata": {},
   "outputs": [],
   "source": [
    "import numpy as np\n",
    "from datetime import datetime\n",
    "import requests\n",
    "import pandas as pd"
   ]
  },
  {
   "cell_type": "code",
   "execution_count": 15,
   "id": "c7042a09",
   "metadata": {},
   "outputs": [],
   "source": [
    "r = requests.get('http://vps-40d69db1.vps.ovh.ca:21046/api/ExecucaoSimulacaos/melhorValidacaoPeriodoFlat?idPeriodo=7')\n",
    "j = r.json()\n",
    "df = pd.DataFrame.from_dict(j)"
   ]
  },
  {
   "cell_type": "markdown",
   "id": "2ce902b3",
   "metadata": {},
   "source": [
    "### Quantidade de simulações dentro do conceito de melhores pelo indicador do período"
   ]
  },
  {
   "cell_type": "code",
   "execution_count": 16,
   "id": "411aec76",
   "metadata": {},
   "outputs": [
    {
     "name": "stdout",
     "output_type": "stream",
     "text": [
      "Simulações com pontos mínimos:  40467\n"
     ]
    }
   ],
   "source": [
    "print(\"Simulações com pontos mínimos: \" , len(df))"
   ]
  },
  {
   "cell_type": "code",
   "execution_count": 17,
   "id": "4aa1c1eb",
   "metadata": {},
   "outputs": [
    {
     "data": {
      "text/plain": [
       "experimentoSimulacaoId  saldoValidacao\n",
       "54                       0.0               4970\n",
       "                         1.0                851\n",
       "56                       0.0               6109\n",
       "                         1.0                133\n",
       "57                      -1.0                 43\n",
       "                         0.0               9785\n",
       "                         1.0                 70\n",
       "58                       0.0              18159\n",
       "                         1.0                315\n",
       "dtype: int64"
      ]
     },
     "execution_count": 17,
     "metadata": {},
     "output_type": "execute_result"
    }
   ],
   "source": [
    "df.groupby(['experimentoSimulacaoId','saldoValidacao']).size()"
   ]
  },
  {
   "cell_type": "code",
   "execution_count": 20,
   "id": "6dbc5814",
   "metadata": {},
   "outputs": [],
   "source": [
    "dfTotais =  df.groupby(['saldoValidacao']).size().to_frame('qtde')"
   ]
  },
  {
   "cell_type": "code",
   "execution_count": 21,
   "id": "b6f7799b",
   "metadata": {},
   "outputs": [],
   "source": [
    "dfTotais['percentual'] = dfTotais.qtde / dfTotais.qtde.sum()"
   ]
  },
  {
   "cell_type": "code",
   "execution_count": 22,
   "id": "5e755be8",
   "metadata": {},
   "outputs": [
    {
     "data": {
      "text/html": [
       "<div>\n",
       "<style scoped>\n",
       "    .dataframe tbody tr th:only-of-type {\n",
       "        vertical-align: middle;\n",
       "    }\n",
       "\n",
       "    .dataframe tbody tr th {\n",
       "        vertical-align: top;\n",
       "    }\n",
       "\n",
       "    .dataframe thead th {\n",
       "        text-align: right;\n",
       "    }\n",
       "</style>\n",
       "<table border=\"1\" class=\"dataframe\">\n",
       "  <thead>\n",
       "    <tr style=\"text-align: right;\">\n",
       "      <th></th>\n",
       "      <th>qtde</th>\n",
       "      <th>percentual</th>\n",
       "    </tr>\n",
       "    <tr>\n",
       "      <th>saldoValidacao</th>\n",
       "      <th></th>\n",
       "      <th></th>\n",
       "    </tr>\n",
       "  </thead>\n",
       "  <tbody>\n",
       "    <tr>\n",
       "      <th>-1.0</th>\n",
       "      <td>43</td>\n",
       "      <td>0.001063</td>\n",
       "    </tr>\n",
       "    <tr>\n",
       "      <th>0.0</th>\n",
       "      <td>39023</td>\n",
       "      <td>0.965080</td>\n",
       "    </tr>\n",
       "    <tr>\n",
       "      <th>1.0</th>\n",
       "      <td>1369</td>\n",
       "      <td>0.033857</td>\n",
       "    </tr>\n",
       "  </tbody>\n",
       "</table>\n",
       "</div>"
      ],
      "text/plain": [
       "                 qtde  percentual\n",
       "saldoValidacao                   \n",
       "-1.0               43    0.001063\n",
       " 0.0            39023    0.965080\n",
       " 1.0             1369    0.033857"
      ]
     },
     "execution_count": 22,
     "metadata": {},
     "output_type": "execute_result"
    }
   ],
   "source": [
    "dfTotais"
   ]
  },
  {
   "cell_type": "code",
   "execution_count": 24,
   "id": "3ad5cafc",
   "metadata": {},
   "outputs": [
    {
     "data": {
      "text/plain": [
       "<AxesSubplot:ylabel='percentual'>"
      ]
     },
     "execution_count": 24,
     "metadata": {},
     "output_type": "execute_result"
    },
    {
     "data": {
      "image/png": "[encoded data removed]",
      "text/plain": [
       "<Figure size 432x288 with 1 Axes>"
      ]
     },
     "metadata": {},
     "output_type": "display_data"
    }
   ],
   "source": [
    "dfTotais.plot(kind='pie', y = 'percentual', autopct='%1.1f%%', \n",
    " startangle=90, shadow=False, labels=df['saldoValidacao'], legend = False, fontsize=14)"
   ]
  },
  {
   "cell_type": "code",
   "execution_count": null,
   "id": "0bc3e65f",
   "metadata": {},
   "outputs": [],
   "source": []
  }
 ],
 "metadata": {
  "kernelspec": {
   "display_name": "Python 3 (ipykernel)",
   "language": "python",
   "name": "python3"
  },
  "language_info": {
   "codemirror_mode": {
    "name": "ipython",
    "version": 3
   },
   "file_extension": ".py",
   "mimetype": "text/x-python",
   "name": "python",
   "nbconvert_exporter": "python",
   "pygments_lexer": "ipython3",
   "version": "3.8.10"
  }
 },
 "nbformat": 4,
 "nbformat_minor": 5
}
