{
 "cells": [
  {
   "cell_type": "markdown",
   "id": "7d022493",
   "metadata": {},
   "source": [
    "# Período 9"
   ]
  },
  {
   "cell_type": "code",
   "execution_count": 9,
   "id": "a3b78de6",
   "metadata": {},
   "outputs": [],
   "source": [
    "import numpy as np\n",
    "from datetime import datetime\n",
    "import requests\n",
    "import pandas as pd"
   ]
  },
  {
   "cell_type": "code",
   "execution_count": 25,
   "id": "c7042a09",
   "metadata": {},
   "outputs": [],
   "source": [
    "r = requests.get('http://vps-40d69db1.vps.ovh.ca:21046/api/ExecucaoSimulacaos/melhorValidacaoPeriodoFlat?idPeriodo=9')\n",
    "j = r.json()\n",
    "df = pd.DataFrame.from_dict(j)"
   ]
  },
  {
   "cell_type": "code",
   "execution_count": 12,
   "id": "881efa3c",
   "metadata": {},
   "outputs": [
    {
     "data": {
      "text/plain": [
       "Index(['simulacaoId', 'ticker', 'simulacaoResultado', 'simulacaoLucro',\n",
       "       'simulacaoPrejuizo', 'target', 'stop', 'tipo', 'experimentoSimulacaoId',\n",
       "       'validacaoLucro', 'validacaoPrejuizo', 'saldoValidacao'],\n",
       "      dtype='object')"
      ]
     },
     "execution_count": 12,
     "metadata": {},
     "output_type": "execute_result"
    }
   ],
   "source": [
    "df.columns\n"
   ]
  },
  {
   "cell_type": "markdown",
   "id": "e36a6985",
   "metadata": {},
   "source": [
    "# Evolução da Execução do Validador"
   ]
  },
  {
   "cell_type": "code",
   "execution_count": 26,
   "id": "42bbdbdc",
   "metadata": {
    "scrolled": true
   },
   "outputs": [
    {
     "name": "stdout",
     "output_type": "stream",
     "text": [
      "08/01/2022 15:34:07\n"
     ]
    },
    {
     "data": {
      "text/html": [
       "<div>\n",
       "<style scoped>\n",
       "    .dataframe tbody tr th:only-of-type {\n",
       "        vertical-align: middle;\n",
       "    }\n",
       "\n",
       "    .dataframe tbody tr th {\n",
       "        vertical-align: top;\n",
       "    }\n",
       "\n",
       "    .dataframe thead th {\n",
       "        text-align: right;\n",
       "    }\n",
       "</style>\n",
       "<table border=\"1\" class=\"dataframe\">\n",
       "  <thead>\n",
       "    <tr style=\"text-align: right;\">\n",
       "      <th></th>\n",
       "      <th>simulacaoId</th>\n",
       "      <th>ticker</th>\n",
       "      <th>simulacaoResultado</th>\n",
       "      <th>simulacaoLucro</th>\n",
       "      <th>simulacaoPrejuizo</th>\n",
       "      <th>target</th>\n",
       "      <th>stop</th>\n",
       "      <th>tipo</th>\n",
       "      <th>validacaoLucro</th>\n",
       "      <th>validacaoPrejuizo</th>\n",
       "      <th>saldoValidacao</th>\n",
       "    </tr>\n",
       "    <tr>\n",
       "      <th>experimentoSimulacaoId</th>\n",
       "      <th></th>\n",
       "      <th></th>\n",
       "      <th></th>\n",
       "      <th></th>\n",
       "      <th></th>\n",
       "      <th></th>\n",
       "      <th></th>\n",
       "      <th></th>\n",
       "      <th></th>\n",
       "      <th></th>\n",
       "      <th></th>\n",
       "    </tr>\n",
       "  </thead>\n",
       "  <tbody>\n",
       "    <tr>\n",
       "      <th>54</th>\n",
       "      <td>14458</td>\n",
       "      <td>14458</td>\n",
       "      <td>14458</td>\n",
       "      <td>14458</td>\n",
       "      <td>14458</td>\n",
       "      <td>14458</td>\n",
       "      <td>14458</td>\n",
       "      <td>14458</td>\n",
       "      <td>14422</td>\n",
       "      <td>14422</td>\n",
       "      <td>14422</td>\n",
       "    </tr>\n",
       "    <tr>\n",
       "      <th>56</th>\n",
       "      <td>11335</td>\n",
       "      <td>11335</td>\n",
       "      <td>11335</td>\n",
       "      <td>11335</td>\n",
       "      <td>11335</td>\n",
       "      <td>11335</td>\n",
       "      <td>11335</td>\n",
       "      <td>11335</td>\n",
       "      <td>24</td>\n",
       "      <td>24</td>\n",
       "      <td>24</td>\n",
       "    </tr>\n",
       "    <tr>\n",
       "      <th>57</th>\n",
       "      <td>13439</td>\n",
       "      <td>13439</td>\n",
       "      <td>13439</td>\n",
       "      <td>13439</td>\n",
       "      <td>13439</td>\n",
       "      <td>13439</td>\n",
       "      <td>13439</td>\n",
       "      <td>13439</td>\n",
       "      <td>0</td>\n",
       "      <td>0</td>\n",
       "      <td>0</td>\n",
       "    </tr>\n",
       "    <tr>\n",
       "      <th>58</th>\n",
       "      <td>13297</td>\n",
       "      <td>13297</td>\n",
       "      <td>13297</td>\n",
       "      <td>13297</td>\n",
       "      <td>13297</td>\n",
       "      <td>13297</td>\n",
       "      <td>13297</td>\n",
       "      <td>13297</td>\n",
       "      <td>0</td>\n",
       "      <td>0</td>\n",
       "      <td>0</td>\n",
       "    </tr>\n",
       "  </tbody>\n",
       "</table>\n",
       "</div>"
      ],
      "text/plain": [
       "                        simulacaoId  ticker  simulacaoResultado  \\\n",
       "experimentoSimulacaoId                                            \n",
       "54                            14458   14458               14458   \n",
       "56                            11335   11335               11335   \n",
       "57                            13439   13439               13439   \n",
       "58                            13297   13297               13297   \n",
       "\n",
       "                        simulacaoLucro  simulacaoPrejuizo  target   stop  \\\n",
       "experimentoSimulacaoId                                                     \n",
       "54                               14458              14458   14458  14458   \n",
       "56                               11335              11335   11335  11335   \n",
       "57                               13439              13439   13439  13439   \n",
       "58                               13297              13297   13297  13297   \n",
       "\n",
       "                         tipo  validacaoLucro  validacaoPrejuizo  \\\n",
       "experimentoSimulacaoId                                             \n",
       "54                      14458           14422              14422   \n",
       "56                      11335              24                 24   \n",
       "57                      13439               0                  0   \n",
       "58                      13297               0                  0   \n",
       "\n",
       "                        saldoValidacao  \n",
       "experimentoSimulacaoId                  \n",
       "54                               14422  \n",
       "56                                  24  \n",
       "57                                   0  \n",
       "58                                   0  "
      ]
     },
     "execution_count": 26,
     "metadata": {},
     "output_type": "execute_result"
    }
   ],
   "source": [
    "now = datetime.now()\n",
    "dt_string = now.strftime(\"%d/%m/%Y %H:%M:%S\")\n",
    "print(dt_string)\n",
    "df.groupby('experimentoSimulacaoId').count()"
   ]
  },
  {
   "cell_type": "code",
   "execution_count": 14,
   "id": "b6fd6c29",
   "metadata": {},
   "outputs": [
    {
     "name": "stdout",
     "output_type": "stream",
     "text": [
      "08/01/2022 15:17:18\n"
     ]
    },
    {
     "data": {
      "text/html": [
       "<div>\n",
       "<style scoped>\n",
       "    .dataframe tbody tr th:only-of-type {\n",
       "        vertical-align: middle;\n",
       "    }\n",
       "\n",
       "    .dataframe tbody tr th {\n",
       "        vertical-align: top;\n",
       "    }\n",
       "\n",
       "    .dataframe thead th {\n",
       "        text-align: right;\n",
       "    }\n",
       "</style>\n",
       "<table border=\"1\" class=\"dataframe\">\n",
       "  <thead>\n",
       "    <tr style=\"text-align: right;\">\n",
       "      <th></th>\n",
       "      <th>simulacaoId</th>\n",
       "      <th>ticker</th>\n",
       "      <th>simulacaoResultado</th>\n",
       "      <th>simulacaoLucro</th>\n",
       "      <th>simulacaoPrejuizo</th>\n",
       "      <th>target</th>\n",
       "      <th>stop</th>\n",
       "      <th>tipo</th>\n",
       "      <th>validacaoLucro</th>\n",
       "      <th>validacaoPrejuizo</th>\n",
       "      <th>saldoValidacao</th>\n",
       "    </tr>\n",
       "    <tr>\n",
       "      <th>experimentoSimulacaoId</th>\n",
       "      <th></th>\n",
       "      <th></th>\n",
       "      <th></th>\n",
       "      <th></th>\n",
       "      <th></th>\n",
       "      <th></th>\n",
       "      <th></th>\n",
       "      <th></th>\n",
       "      <th></th>\n",
       "      <th></th>\n",
       "      <th></th>\n",
       "    </tr>\n",
       "  </thead>\n",
       "  <tbody>\n",
       "    <tr>\n",
       "      <th>54</th>\n",
       "      <td>14458</td>\n",
       "      <td>14458</td>\n",
       "      <td>14458</td>\n",
       "      <td>14458</td>\n",
       "      <td>14458</td>\n",
       "      <td>14458</td>\n",
       "      <td>14458</td>\n",
       "      <td>14458</td>\n",
       "      <td>14422</td>\n",
       "      <td>14422</td>\n",
       "      <td>14422</td>\n",
       "    </tr>\n",
       "    <tr>\n",
       "      <th>56</th>\n",
       "      <td>11335</td>\n",
       "      <td>11335</td>\n",
       "      <td>11335</td>\n",
       "      <td>11335</td>\n",
       "      <td>11335</td>\n",
       "      <td>11335</td>\n",
       "      <td>11335</td>\n",
       "      <td>11335</td>\n",
       "      <td>0</td>\n",
       "      <td>0</td>\n",
       "      <td>0</td>\n",
       "    </tr>\n",
       "    <tr>\n",
       "      <th>57</th>\n",
       "      <td>13439</td>\n",
       "      <td>13439</td>\n",
       "      <td>13439</td>\n",
       "      <td>13439</td>\n",
       "      <td>13439</td>\n",
       "      <td>13439</td>\n",
       "      <td>13439</td>\n",
       "      <td>13439</td>\n",
       "      <td>0</td>\n",
       "      <td>0</td>\n",
       "      <td>0</td>\n",
       "    </tr>\n",
       "    <tr>\n",
       "      <th>58</th>\n",
       "      <td>13297</td>\n",
       "      <td>13297</td>\n",
       "      <td>13297</td>\n",
       "      <td>13297</td>\n",
       "      <td>13297</td>\n",
       "      <td>13297</td>\n",
       "      <td>13297</td>\n",
       "      <td>13297</td>\n",
       "      <td>0</td>\n",
       "      <td>0</td>\n",
       "      <td>0</td>\n",
       "    </tr>\n",
       "  </tbody>\n",
       "</table>\n",
       "</div>"
      ],
      "text/plain": [
       "                        simulacaoId  ticker  simulacaoResultado  \\\n",
       "experimentoSimulacaoId                                            \n",
       "54                            14458   14458               14458   \n",
       "56                            11335   11335               11335   \n",
       "57                            13439   13439               13439   \n",
       "58                            13297   13297               13297   \n",
       "\n",
       "                        simulacaoLucro  simulacaoPrejuizo  target   stop  \\\n",
       "experimentoSimulacaoId                                                     \n",
       "54                               14458              14458   14458  14458   \n",
       "56                               11335              11335   11335  11335   \n",
       "57                               13439              13439   13439  13439   \n",
       "58                               13297              13297   13297  13297   \n",
       "\n",
       "                         tipo  validacaoLucro  validacaoPrejuizo  \\\n",
       "experimentoSimulacaoId                                             \n",
       "54                      14458           14422              14422   \n",
       "56                      11335               0                  0   \n",
       "57                      13439               0                  0   \n",
       "58                      13297               0                  0   \n",
       "\n",
       "                        saldoValidacao  \n",
       "experimentoSimulacaoId                  \n",
       "54                               14422  \n",
       "56                                   0  \n",
       "57                                   0  \n",
       "58                                   0  "
      ]
     },
     "execution_count": 14,
     "metadata": {},
     "output_type": "execute_result"
    }
   ],
   "source": [
    "now = datetime.now()\n",
    "dt_string = now.strftime(\"%d/%m/%Y %H:%M:%S\")\n",
    "print(dt_string)\n",
    "df.groupby('experimentoSimulacaoId').count()"
   ]
  },
  {
   "cell_type": "markdown",
   "id": "2ce902b3",
   "metadata": {},
   "source": [
    "### Quantidade de simulações dentro do conceito de melhores pelo indicador do período"
   ]
  },
  {
   "cell_type": "code",
   "execution_count": 15,
   "id": "411aec76",
   "metadata": {},
   "outputs": [
    {
     "name": "stdout",
     "output_type": "stream",
     "text": [
      "Simulações com pontos mínimos:  52529\n"
     ]
    }
   ],
   "source": [
    "print(\"Simulações com pontos mínimos: \" , len(df))"
   ]
  },
  {
   "cell_type": "code",
   "execution_count": 16,
   "id": "4aa1c1eb",
   "metadata": {},
   "outputs": [
    {
     "data": {
      "text/plain": [
       "experimentoSimulacaoId  saldoValidacao\n",
       "54                      -2.0                46\n",
       "                        -1.0              2452\n",
       "                         0.0              8642\n",
       "                         1.0              3228\n",
       "                         2.0                54\n",
       "dtype: int64"
      ]
     },
     "execution_count": 16,
     "metadata": {},
     "output_type": "execute_result"
    }
   ],
   "source": [
    "df.groupby(['experimentoSimulacaoId','saldoValidacao']).size()"
   ]
  },
  {
   "cell_type": "code",
   "execution_count": 17,
   "id": "6dbc5814",
   "metadata": {},
   "outputs": [],
   "source": [
    "dfTotais =  df.groupby(['saldoValidacao']).size().to_frame('qtde')"
   ]
  },
  {
   "cell_type": "code",
   "execution_count": 18,
   "id": "b6f7799b",
   "metadata": {},
   "outputs": [],
   "source": [
    "dfTotais['percentual'] = dfTotais.qtde / dfTotais.qtde.sum()"
   ]
  },
  {
   "cell_type": "code",
   "execution_count": 19,
   "id": "5e755be8",
   "metadata": {},
   "outputs": [
    {
     "data": {
      "text/html": [
       "<div>\n",
       "<style scoped>\n",
       "    .dataframe tbody tr th:only-of-type {\n",
       "        vertical-align: middle;\n",
       "    }\n",
       "\n",
       "    .dataframe tbody tr th {\n",
       "        vertical-align: top;\n",
       "    }\n",
       "\n",
       "    .dataframe thead th {\n",
       "        text-align: right;\n",
       "    }\n",
       "</style>\n",
       "<table border=\"1\" class=\"dataframe\">\n",
       "  <thead>\n",
       "    <tr style=\"text-align: right;\">\n",
       "      <th></th>\n",
       "      <th>qtde</th>\n",
       "      <th>percentual</th>\n",
       "    </tr>\n",
       "    <tr>\n",
       "      <th>saldoValidacao</th>\n",
       "      <th></th>\n",
       "      <th></th>\n",
       "    </tr>\n",
       "  </thead>\n",
       "  <tbody>\n",
       "    <tr>\n",
       "      <th>-2.0</th>\n",
       "      <td>46</td>\n",
       "      <td>0.003190</td>\n",
       "    </tr>\n",
       "    <tr>\n",
       "      <th>-1.0</th>\n",
       "      <td>2452</td>\n",
       "      <td>0.170018</td>\n",
       "    </tr>\n",
       "    <tr>\n",
       "      <th>0.0</th>\n",
       "      <td>8642</td>\n",
       "      <td>0.599223</td>\n",
       "    </tr>\n",
       "    <tr>\n",
       "      <th>1.0</th>\n",
       "      <td>3228</td>\n",
       "      <td>0.223825</td>\n",
       "    </tr>\n",
       "    <tr>\n",
       "      <th>2.0</th>\n",
       "      <td>54</td>\n",
       "      <td>0.003744</td>\n",
       "    </tr>\n",
       "  </tbody>\n",
       "</table>\n",
       "</div>"
      ],
      "text/plain": [
       "                qtde  percentual\n",
       "saldoValidacao                  \n",
       "-2.0              46    0.003190\n",
       "-1.0            2452    0.170018\n",
       " 0.0            8642    0.599223\n",
       " 1.0            3228    0.223825\n",
       " 2.0              54    0.003744"
      ]
     },
     "execution_count": 19,
     "metadata": {},
     "output_type": "execute_result"
    }
   ],
   "source": [
    "dfTotais"
   ]
  },
  {
   "cell_type": "code",
   "execution_count": 20,
   "id": "3ad5cafc",
   "metadata": {},
   "outputs": [
    {
     "data": {
      "text/plain": [
       "<AxesSubplot:ylabel='percentual'>"
      ]
     },
     "execution_count": 20,
     "metadata": {},
     "output_type": "execute_result"
    },
    {
     "data": {
      "image/png": "[encoded data removed]",
      "text/plain": [
       "<Figure size 432x288 with 1 Axes>"
      ]
     },
     "metadata": {},
     "output_type": "display_data"
    }
   ],
   "source": [
    "dfTotais.plot(kind='pie', y = 'percentual', autopct='%1.1f%%', \n",
    " startangle=90, shadow=False, labels=df['saldoValidacao'], legend = False, fontsize=14)"
   ]
  },
  {
   "cell_type": "code",
   "execution_count": null,
   "id": "0bc3e65f",
   "metadata": {},
   "outputs": [],
   "source": []
  }
 ],
 "metadata": {
  "kernelspec": {
   "display_name": "Python 3 (ipykernel)",
   "language": "python",
   "name": "python3"
  },
  "language_info": {
   "codemirror_mode": {
    "name": "ipython",
    "version": 3
   },
   "file_extension": ".py",
   "mimetype": "text/x-python",
   "name": "python",
   "nbconvert_exporter": "python",
   "pygments_lexer": "ipython3",
   "version": "3.8.10"
  }
 },
 "nbformat": 4,
 "nbformat_minor": 5
}
