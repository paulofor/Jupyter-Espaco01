{
 "cells": [
  {
   "cell_type": "markdown",
   "id": "7d022493",
   "metadata": {},
   "source": [
    "# Período 7"
   ]
  },
  {
   "cell_type": "code",
   "execution_count": 1,
   "id": "a3b78de6",
   "metadata": {},
   "outputs": [],
   "source": [
    "import numpy as np\n",
    "from datetime import datetime\n",
    "import requests\n",
    "import pandas as pd"
   ]
  },
  {
   "cell_type": "code",
   "execution_count": 2,
   "id": "c7042a09",
   "metadata": {},
   "outputs": [],
   "source": [
    "r = requests.get('http://vps-40d69db1.vps.ovh.ca:21046/api/ExecucaoSimulacaos/melhorValidacaoPeriodoFlat?idPeriodo=7')\n",
    "j = r.json()\n",
    "df = pd.DataFrame.from_dict(j)"
   ]
  },
  {
   "cell_type": "markdown",
   "id": "2ce902b3",
   "metadata": {},
   "source": [
    "### Quantidade de simulações dentro do conceito de melhores pelo indicador do período"
   ]
  },
  {
   "cell_type": "code",
   "execution_count": 4,
   "id": "411aec76",
   "metadata": {},
   "outputs": [
    {
     "name": "stdout",
     "output_type": "stream",
     "text": [
      "Simulações com pontos mínimos:  40466\n"
     ]
    }
   ],
   "source": [
    "print(\"Simulações com pontos mínimos: \" , len(df))"
   ]
  },
  {
   "cell_type": "code",
   "execution_count": null,
   "id": "4aa1c1eb",
   "metadata": {},
   "outputs": [],
   "source": []
  }
 ],
 "metadata": {
  "kernelspec": {
   "display_name": "Python 3 (ipykernel)",
   "language": "python",
   "name": "python3"
  },
  "language_info": {
   "codemirror_mode": {
    "name": "ipython",
    "version": 3
   },
   "file_extension": ".py",
   "mimetype": "text/x-python",
   "name": "python",
   "nbconvert_exporter": "python",
   "pygments_lexer": "ipython3",
   "version": "3.8.10"
  }
 },
 "nbformat": 4,
 "nbformat_minor": 5
}
