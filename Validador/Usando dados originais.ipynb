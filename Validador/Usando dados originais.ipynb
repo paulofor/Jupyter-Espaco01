{
 "cells": [
  {
   "cell_type": "markdown",
   "id": "16bc1370",
   "metadata": {},
   "source": [
    "# Período 9"
   ]
  },
  {
   "cell_type": "code",
   "execution_count": 1,
   "id": "ff2dc2c6",
   "metadata": {},
   "outputs": [],
   "source": [
    "import numpy as np\n",
    "from datetime import datetime\n",
    "import requests\n",
    "import pandas as pd\n",
    "import matplotlib.pyplot as plt"
   ]
  },
  {
   "cell_type": "code",
   "execution_count": 2,
   "id": "dc13d74e",
   "metadata": {},
   "outputs": [],
   "source": [
    "url = \"http://vps-40d69db1.vps.ovh.ca:22001/api/ExecucaoSimulacaos/melhorValidacaoPeriodoFlat?idPeriodo=9\""
   ]
  },
  {
   "cell_type": "code",
   "execution_count": 3,
   "id": "5179dbaa",
   "metadata": {},
   "outputs": [],
   "source": [
    "r = requests.get(url)\n",
    "j = r.json()\n",
    "df = pd.DataFrame.from_dict(j)"
   ]
  },
  {
   "cell_type": "code",
   "execution_count": 4,
   "id": "0657c353",
   "metadata": {},
   "outputs": [
    {
     "data": {
      "text/html": [
       "<div>\n",
       "<style scoped>\n",
       "    .dataframe tbody tr th:only-of-type {\n",
       "        vertical-align: middle;\n",
       "    }\n",
       "\n",
       "    .dataframe tbody tr th {\n",
       "        vertical-align: top;\n",
       "    }\n",
       "\n",
       "    .dataframe thead th {\n",
       "        text-align: right;\n",
       "    }\n",
       "</style>\n",
       "<table border=\"1\" class=\"dataframe\">\n",
       "  <thead>\n",
       "    <tr style=\"text-align: right;\">\n",
       "      <th></th>\n",
       "      <th>simulacaoId</th>\n",
       "      <th>ticker</th>\n",
       "      <th>simulacaoResultado</th>\n",
       "      <th>simulacaoLucro</th>\n",
       "      <th>simulacaoPrejuizo</th>\n",
       "      <th>target</th>\n",
       "      <th>stop</th>\n",
       "      <th>tipo</th>\n",
       "      <th>experimentoSimulacaoId</th>\n",
       "      <th>validacaoLucro</th>\n",
       "      <th>validacaoPrejuizo</th>\n",
       "      <th>saldoValidacao</th>\n",
       "    </tr>\n",
       "  </thead>\n",
       "  <tbody>\n",
       "    <tr>\n",
       "      <th>0</th>\n",
       "      <td>10841814</td>\n",
       "      <td>CIEL3</td>\n",
       "      <td>30</td>\n",
       "      <td>4</td>\n",
       "      <td>0</td>\n",
       "      <td>0.08</td>\n",
       "      <td>0.12</td>\n",
       "      <td>V</td>\n",
       "      <td>54</td>\n",
       "      <td>0.0</td>\n",
       "      <td>0.0</td>\n",
       "      <td>0.0</td>\n",
       "    </tr>\n",
       "    <tr>\n",
       "      <th>1</th>\n",
       "      <td>10841819</td>\n",
       "      <td>ELET3</td>\n",
       "      <td>30</td>\n",
       "      <td>4</td>\n",
       "      <td>0</td>\n",
       "      <td>0.08</td>\n",
       "      <td>0.12</td>\n",
       "      <td>V</td>\n",
       "      <td>54</td>\n",
       "      <td>1.0</td>\n",
       "      <td>0.0</td>\n",
       "      <td>1.0</td>\n",
       "    </tr>\n",
       "    <tr>\n",
       "      <th>2</th>\n",
       "      <td>10841832</td>\n",
       "      <td>RENT3</td>\n",
       "      <td>30</td>\n",
       "      <td>4</td>\n",
       "      <td>0</td>\n",
       "      <td>0.08</td>\n",
       "      <td>0.12</td>\n",
       "      <td>V</td>\n",
       "      <td>54</td>\n",
       "      <td>1.0</td>\n",
       "      <td>0.0</td>\n",
       "      <td>1.0</td>\n",
       "    </tr>\n",
       "    <tr>\n",
       "      <th>3</th>\n",
       "      <td>10841835</td>\n",
       "      <td>UGPA3</td>\n",
       "      <td>30</td>\n",
       "      <td>4</td>\n",
       "      <td>0</td>\n",
       "      <td>0.08</td>\n",
       "      <td>0.12</td>\n",
       "      <td>V</td>\n",
       "      <td>54</td>\n",
       "      <td>0.0</td>\n",
       "      <td>1.0</td>\n",
       "      <td>-1.0</td>\n",
       "    </tr>\n",
       "    <tr>\n",
       "      <th>4</th>\n",
       "      <td>10841839</td>\n",
       "      <td>CIEL3</td>\n",
       "      <td>30</td>\n",
       "      <td>4</td>\n",
       "      <td>0</td>\n",
       "      <td>0.08</td>\n",
       "      <td>0.12</td>\n",
       "      <td>V</td>\n",
       "      <td>54</td>\n",
       "      <td>0.0</td>\n",
       "      <td>0.0</td>\n",
       "      <td>0.0</td>\n",
       "    </tr>\n",
       "  </tbody>\n",
       "</table>\n",
       "</div>"
      ],
      "text/plain": [
       "   simulacaoId ticker  simulacaoResultado  simulacaoLucro  simulacaoPrejuizo  \\\n",
       "0     10841814  CIEL3                  30               4                  0   \n",
       "1     10841819  ELET3                  30               4                  0   \n",
       "2     10841832  RENT3                  30               4                  0   \n",
       "3     10841835  UGPA3                  30               4                  0   \n",
       "4     10841839  CIEL3                  30               4                  0   \n",
       "\n",
       "   target  stop tipo  experimentoSimulacaoId  validacaoLucro  \\\n",
       "0    0.08  0.12    V                      54             0.0   \n",
       "1    0.08  0.12    V                      54             1.0   \n",
       "2    0.08  0.12    V                      54             1.0   \n",
       "3    0.08  0.12    V                      54             0.0   \n",
       "4    0.08  0.12    V                      54             0.0   \n",
       "\n",
       "   validacaoPrejuizo  saldoValidacao  \n",
       "0                0.0             0.0  \n",
       "1                0.0             1.0  \n",
       "2                0.0             1.0  \n",
       "3                1.0            -1.0  \n",
       "4                0.0             0.0  "
      ]
     },
     "execution_count": 4,
     "metadata": {},
     "output_type": "execute_result"
    }
   ],
   "source": [
    "df.head()"
   ]
  },
  {
   "cell_type": "code",
   "execution_count": 5,
   "id": "4ef564ea",
   "metadata": {},
   "outputs": [
    {
     "data": {
      "text/plain": [
       "array([ 0.,  1., -1., nan,  2., -2., -3.])"
      ]
     },
     "execution_count": 5,
     "metadata": {},
     "output_type": "execute_result"
    }
   ],
   "source": [
    "df['saldoValidacao'].unique()"
   ]
  },
  {
   "cell_type": "markdown",
   "id": "f276f9a8",
   "metadata": {},
   "source": [
    "### Criar dataframe com os errados\n",
    "### Ir retirando casos até zerar tudo."
   ]
  },
  {
   "cell_type": "code",
   "execution_count": 12,
   "id": "f024b30a",
   "metadata": {},
   "outputs": [
    {
     "name": "stdout",
     "output_type": "stream",
     "text": [
      "Total de casos: 66637\n"
     ]
    }
   ],
   "source": [
    "print('Total de casos: %d'%(len(df)))"
   ]
  },
  {
   "cell_type": "markdown",
   "id": "a9a6f045",
   "metadata": {},
   "source": [
    "## Montando os que deram errado"
   ]
  },
  {
   "cell_type": "code",
   "execution_count": 14,
   "id": "6eb4d9a4",
   "metadata": {},
   "outputs": [],
   "source": [
    "dfRuim = df[df['saldoValidacao']<0]"
   ]
  },
  {
   "cell_type": "code",
   "execution_count": 24,
   "id": "650cd069",
   "metadata": {},
   "outputs": [
    {
     "name": "stdout",
     "output_type": "stream",
     "text": [
      "Total de casos com erro: 13566 (20.36) \n"
     ]
    }
   ],
   "source": [
    "print('Total de casos com erro: %d (%.2f) '%(len(dfRuim) , (100*(len(dfRuim) / len(df)) )))"
   ]
  },
  {
   "cell_type": "code",
   "execution_count": 26,
   "id": "130682ac",
   "metadata": {},
   "outputs": [
    {
     "data": {
      "text/plain": [
       "74"
      ]
     },
     "execution_count": 26,
     "metadata": {},
     "output_type": "execute_result"
    }
   ],
   "source": [
    "dfRuim['simulacaoResultado'].max()"
   ]
  },
  {
   "cell_type": "code",
   "execution_count": 27,
   "id": "354285c9",
   "metadata": {},
   "outputs": [
    {
     "data": {
      "text/plain": [
       "74"
      ]
     },
     "execution_count": 27,
     "metadata": {},
     "output_type": "execute_result"
    }
   ],
   "source": [
    "df['simulacaoResultado'].max()"
   ]
  },
  {
   "cell_type": "code",
   "execution_count": 28,
   "id": "52dbfe9f",
   "metadata": {},
   "outputs": [
    {
     "data": {
      "text/plain": [
       "target  stop\n",
       "0.08    0.06      31\n",
       "        0.08     330\n",
       "        0.10     165\n",
       "        0.12      72\n",
       "0.10    0.06     381\n",
       "        0.08     783\n",
       "        0.10     426\n",
       "        0.12     127\n",
       "        0.14      64\n",
       "0.12    0.06    1186\n",
       "        0.08    1649\n",
       "        0.10     136\n",
       "        0.12     122\n",
       "        0.14     110\n",
       "0.14    0.06     593\n",
       "        0.08     860\n",
       "        0.10     380\n",
       "        0.12     281\n",
       "        0.14     114\n",
       "0.16    0.06     282\n",
       "        0.08     753\n",
       "        0.10     343\n",
       "        0.12     231\n",
       "        0.14     143\n",
       "0.18    0.06     617\n",
       "        0.08    1038\n",
       "        0.10      99\n",
       "        0.12      66\n",
       "        0.14      27\n",
       "0.20    0.06     382\n",
       "        0.08     560\n",
       "        0.10     371\n",
       "        0.12     121\n",
       "0.22    0.06     171\n",
       "        0.08     273\n",
       "        0.10     189\n",
       "        0.12      42\n",
       "        0.14      48\n",
       "dtype: int64"
      ]
     },
     "execution_count": 28,
     "metadata": {},
     "output_type": "execute_result"
    }
   ],
   "source": [
    "dfRuim.groupby(['target','stop']).size()"
   ]
  },
  {
   "cell_type": "markdown",
   "id": "2b59be36",
   "metadata": {},
   "source": [
    "## Trabalhando Target"
   ]
  },
  {
   "cell_type": "code",
   "execution_count": 44,
   "id": "a2936454",
   "metadata": {},
   "outputs": [],
   "source": [
    "dfTargetRuim = dfRuim.groupby(['target']).size().reset_index(name ='qtdeRuim')\n",
    "dfTarget = df.groupby(['target']).size().reset_index(name ='qtde')"
   ]
  },
  {
   "cell_type": "code",
   "execution_count": 47,
   "id": "1afb9b5d",
   "metadata": {},
   "outputs": [],
   "source": [
    "dfJoin = pd.merge(dfTarget,dfTargetRuim, how='outer' , left_index=True, right_index=True)"
   ]
  },
  {
   "cell_type": "code",
   "execution_count": 48,
   "id": "555ae25d",
   "metadata": {},
   "outputs": [
    {
     "data": {
      "text/html": [
       "<div>\n",
       "<style scoped>\n",
       "    .dataframe tbody tr th:only-of-type {\n",
       "        vertical-align: middle;\n",
       "    }\n",
       "\n",
       "    .dataframe tbody tr th {\n",
       "        vertical-align: top;\n",
       "    }\n",
       "\n",
       "    .dataframe thead th {\n",
       "        text-align: right;\n",
       "    }\n",
       "</style>\n",
       "<table border=\"1\" class=\"dataframe\">\n",
       "  <thead>\n",
       "    <tr style=\"text-align: right;\">\n",
       "      <th></th>\n",
       "      <th>target_x</th>\n",
       "      <th>qtde</th>\n",
       "      <th>target_y</th>\n",
       "      <th>qtdeRuim</th>\n",
       "    </tr>\n",
       "  </thead>\n",
       "  <tbody>\n",
       "    <tr>\n",
       "      <th>0</th>\n",
       "      <td>0.08</td>\n",
       "      <td>8504</td>\n",
       "      <td>0.08</td>\n",
       "      <td>598</td>\n",
       "    </tr>\n",
       "    <tr>\n",
       "      <th>1</th>\n",
       "      <td>0.10</td>\n",
       "      <td>14515</td>\n",
       "      <td>0.10</td>\n",
       "      <td>1781</td>\n",
       "    </tr>\n",
       "    <tr>\n",
       "      <th>2</th>\n",
       "      <td>0.12</td>\n",
       "      <td>15332</td>\n",
       "      <td>0.12</td>\n",
       "      <td>3203</td>\n",
       "    </tr>\n",
       "    <tr>\n",
       "      <th>3</th>\n",
       "      <td>0.14</td>\n",
       "      <td>10946</td>\n",
       "      <td>0.14</td>\n",
       "      <td>2228</td>\n",
       "    </tr>\n",
       "    <tr>\n",
       "      <th>4</th>\n",
       "      <td>0.16</td>\n",
       "      <td>5253</td>\n",
       "      <td>0.16</td>\n",
       "      <td>1752</td>\n",
       "    </tr>\n",
       "  </tbody>\n",
       "</table>\n",
       "</div>"
      ],
      "text/plain": [
       "   target_x   qtde  target_y  qtdeRuim\n",
       "0      0.08   8504      0.08       598\n",
       "1      0.10  14515      0.10      1781\n",
       "2      0.12  15332      0.12      3203\n",
       "3      0.14  10946      0.14      2228\n",
       "4      0.16   5253      0.16      1752"
      ]
     },
     "execution_count": 48,
     "metadata": {},
     "output_type": "execute_result"
    }
   ],
   "source": [
    "dfJoin.head()"
   ]
  },
  {
   "cell_type": "code",
   "execution_count": 51,
   "id": "327dc97e",
   "metadata": {},
   "outputs": [],
   "source": [
    "dfJoin['percentual'] = (dfJoin['qtdeRuim'] / dfJoin['qtde']) * 100"
   ]
  },
  {
   "cell_type": "code",
   "execution_count": 52,
   "id": "ce7746f8",
   "metadata": {},
   "outputs": [
    {
     "data": {
      "text/html": [
       "<div>\n",
       "<style scoped>\n",
       "    .dataframe tbody tr th:only-of-type {\n",
       "        vertical-align: middle;\n",
       "    }\n",
       "\n",
       "    .dataframe tbody tr th {\n",
       "        vertical-align: top;\n",
       "    }\n",
       "\n",
       "    .dataframe thead th {\n",
       "        text-align: right;\n",
       "    }\n",
       "</style>\n",
       "<table border=\"1\" class=\"dataframe\">\n",
       "  <thead>\n",
       "    <tr style=\"text-align: right;\">\n",
       "      <th></th>\n",
       "      <th>target_x</th>\n",
       "      <th>qtde</th>\n",
       "      <th>target_y</th>\n",
       "      <th>qtdeRuim</th>\n",
       "      <th>percentual</th>\n",
       "    </tr>\n",
       "  </thead>\n",
       "  <tbody>\n",
       "    <tr>\n",
       "      <th>0</th>\n",
       "      <td>0.08</td>\n",
       "      <td>8504</td>\n",
       "      <td>0.08</td>\n",
       "      <td>598</td>\n",
       "      <td>7.031985</td>\n",
       "    </tr>\n",
       "    <tr>\n",
       "      <th>1</th>\n",
       "      <td>0.10</td>\n",
       "      <td>14515</td>\n",
       "      <td>0.10</td>\n",
       "      <td>1781</td>\n",
       "      <td>12.270065</td>\n",
       "    </tr>\n",
       "    <tr>\n",
       "      <th>2</th>\n",
       "      <td>0.12</td>\n",
       "      <td>15332</td>\n",
       "      <td>0.12</td>\n",
       "      <td>3203</td>\n",
       "      <td>20.890947</td>\n",
       "    </tr>\n",
       "    <tr>\n",
       "      <th>3</th>\n",
       "      <td>0.14</td>\n",
       "      <td>10946</td>\n",
       "      <td>0.14</td>\n",
       "      <td>2228</td>\n",
       "      <td>20.354467</td>\n",
       "    </tr>\n",
       "    <tr>\n",
       "      <th>4</th>\n",
       "      <td>0.16</td>\n",
       "      <td>5253</td>\n",
       "      <td>0.16</td>\n",
       "      <td>1752</td>\n",
       "      <td>33.352370</td>\n",
       "    </tr>\n",
       "    <tr>\n",
       "      <th>5</th>\n",
       "      <td>0.18</td>\n",
       "      <td>5277</td>\n",
       "      <td>0.18</td>\n",
       "      <td>1847</td>\n",
       "      <td>35.000948</td>\n",
       "    </tr>\n",
       "    <tr>\n",
       "      <th>6</th>\n",
       "      <td>0.20</td>\n",
       "      <td>4536</td>\n",
       "      <td>0.20</td>\n",
       "      <td>1434</td>\n",
       "      <td>31.613757</td>\n",
       "    </tr>\n",
       "    <tr>\n",
       "      <th>7</th>\n",
       "      <td>0.22</td>\n",
       "      <td>2274</td>\n",
       "      <td>0.22</td>\n",
       "      <td>723</td>\n",
       "      <td>31.794195</td>\n",
       "    </tr>\n",
       "  </tbody>\n",
       "</table>\n",
       "</div>"
      ],
      "text/plain": [
       "   target_x   qtde  target_y  qtdeRuim  percentual\n",
       "0      0.08   8504      0.08       598    7.031985\n",
       "1      0.10  14515      0.10      1781   12.270065\n",
       "2      0.12  15332      0.12      3203   20.890947\n",
       "3      0.14  10946      0.14      2228   20.354467\n",
       "4      0.16   5253      0.16      1752   33.352370\n",
       "5      0.18   5277      0.18      1847   35.000948\n",
       "6      0.20   4536      0.20      1434   31.613757\n",
       "7      0.22   2274      0.22       723   31.794195"
      ]
     },
     "execution_count": 52,
     "metadata": {},
     "output_type": "execute_result"
    }
   ],
   "source": [
    "dfJoin.head(20)"
   ]
  },
  {
   "cell_type": "code",
   "execution_count": 53,
   "id": "b651ef51",
   "metadata": {},
   "outputs": [
    {
     "data": {
      "text/plain": [
       "<AxesSubplot:xlabel='target_x'>"
      ]
     },
     "execution_count": 53,
     "metadata": {},
     "output_type": "execute_result"
    },
    {
     "data": {
      "image/png": "[encoded data removed]",
      "text/plain": [
       "<Figure size 1296x360 with 1 Axes>"
      ]
     },
     "metadata": {
      "needs_background": "light"
     },
     "output_type": "display_data"
    }
   ],
   "source": [
    "dfJoin.plot.bar(x='target_x', y='percentual', rot=0, figsize=(18,5), legend=None)"
   ]
  },
  {
   "cell_type": "markdown",
   "id": "0f4f326a",
   "metadata": {},
   "source": [
    "## Trabalhando Stop"
   ]
  },
  {
   "cell_type": "code",
   "execution_count": 54,
   "id": "75a34c64",
   "metadata": {},
   "outputs": [],
   "source": [
    "dfTargetRuim = dfRuim.groupby(['stop']).size().reset_index(name ='qtdeRuim')\n",
    "dfTarget = df.groupby(['stop']).size().reset_index(name ='qtde')"
   ]
  },
  {
   "cell_type": "code",
   "execution_count": 55,
   "id": "f966eb73",
   "metadata": {},
   "outputs": [],
   "source": [
    "dfJoin = pd.merge(dfTarget,dfTargetRuim, how='outer' , left_index=True, right_index=True)"
   ]
  },
  {
   "cell_type": "code",
   "execution_count": 56,
   "id": "5f547971",
   "metadata": {},
   "outputs": [
    {
     "data": {
      "text/html": [
       "<div>\n",
       "<style scoped>\n",
       "    .dataframe tbody tr th:only-of-type {\n",
       "        vertical-align: middle;\n",
       "    }\n",
       "\n",
       "    .dataframe tbody tr th {\n",
       "        vertical-align: top;\n",
       "    }\n",
       "\n",
       "    .dataframe thead th {\n",
       "        text-align: right;\n",
       "    }\n",
       "</style>\n",
       "<table border=\"1\" class=\"dataframe\">\n",
       "  <thead>\n",
       "    <tr style=\"text-align: right;\">\n",
       "      <th></th>\n",
       "      <th>stop_x</th>\n",
       "      <th>qtde</th>\n",
       "      <th>stop_y</th>\n",
       "      <th>qtdeRuim</th>\n",
       "    </tr>\n",
       "  </thead>\n",
       "  <tbody>\n",
       "    <tr>\n",
       "      <th>0</th>\n",
       "      <td>0.06</td>\n",
       "      <td>15242</td>\n",
       "      <td>0.06</td>\n",
       "      <td>3643</td>\n",
       "    </tr>\n",
       "    <tr>\n",
       "      <th>1</th>\n",
       "      <td>0.08</td>\n",
       "      <td>24565</td>\n",
       "      <td>0.08</td>\n",
       "      <td>6246</td>\n",
       "    </tr>\n",
       "    <tr>\n",
       "      <th>2</th>\n",
       "      <td>0.10</td>\n",
       "      <td>16093</td>\n",
       "      <td>0.10</td>\n",
       "      <td>2109</td>\n",
       "    </tr>\n",
       "    <tr>\n",
       "      <th>3</th>\n",
       "      <td>0.12</td>\n",
       "      <td>6924</td>\n",
       "      <td>0.12</td>\n",
       "      <td>1062</td>\n",
       "    </tr>\n",
       "    <tr>\n",
       "      <th>4</th>\n",
       "      <td>0.14</td>\n",
       "      <td>3813</td>\n",
       "      <td>0.14</td>\n",
       "      <td>506</td>\n",
       "    </tr>\n",
       "  </tbody>\n",
       "</table>\n",
       "</div>"
      ],
      "text/plain": [
       "   stop_x   qtde  stop_y  qtdeRuim\n",
       "0    0.06  15242    0.06      3643\n",
       "1    0.08  24565    0.08      6246\n",
       "2    0.10  16093    0.10      2109\n",
       "3    0.12   6924    0.12      1062\n",
       "4    0.14   3813    0.14       506"
      ]
     },
     "execution_count": 56,
     "metadata": {},
     "output_type": "execute_result"
    }
   ],
   "source": [
    "dfJoin.head()"
   ]
  },
  {
   "cell_type": "code",
   "execution_count": 57,
   "id": "f9bbde79",
   "metadata": {},
   "outputs": [],
   "source": [
    "dfJoin['percentual'] = (dfJoin['qtdeRuim'] / dfJoin['qtde']) * 100"
   ]
  },
  {
   "cell_type": "code",
   "execution_count": 58,
   "id": "792150fb",
   "metadata": {},
   "outputs": [
    {
     "data": {
      "text/plain": [
       "<AxesSubplot:xlabel='stop_x'>"
      ]
     },
     "execution_count": 58,
     "metadata": {},
     "output_type": "execute_result"
    },
    {
     "data": {
      "image/png": "[encoded data removed]",
      "text/plain": [
       "<Figure size 1296x360 with 1 Axes>"
      ]
     },
     "metadata": {
      "needs_background": "light"
     },
     "output_type": "display_data"
    }
   ],
   "source": [
    "dfJoin.plot.bar(x='stop_x', y='percentual', rot=0, figsize=(18,5), legend=None)"
   ]
  },
  {
   "cell_type": "code",
   "execution_count": null,
   "id": "d0538044",
   "metadata": {},
   "outputs": [],
   "source": []
  }
 ],
 "metadata": {
  "kernelspec": {
   "display_name": "Python 3 (ipykernel)",
   "language": "python",
   "name": "python3"
  },
  "language_info": {
   "codemirror_mode": {
    "name": "ipython",
    "version": 3
   },
   "file_extension": ".py",
   "mimetype": "text/x-python",
   "name": "python",
   "nbconvert_exporter": "python",
   "pygments_lexer": "ipython3",
   "version": "3.8.10"
  }
 },
 "nbformat": 4,
 "nbformat_minor": 5
}
