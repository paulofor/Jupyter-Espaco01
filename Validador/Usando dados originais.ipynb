{
 "cells": [
  {
   "cell_type": "markdown",
   "id": "16bc1370",
   "metadata": {},
   "source": [
    "# Período 9"
   ]
  },
  {
   "cell_type": "code",
   "execution_count": 59,
   "id": "ff2dc2c6",
   "metadata": {},
   "outputs": [],
   "source": [
    "import numpy as np\n",
    "from datetime import datetime\n",
    "import requests\n",
    "import pandas as pd\n",
    "import matplotlib.pyplot as plt"
   ]
  },
  {
   "cell_type": "code",
   "execution_count": 87,
   "id": "dc13d74e",
   "metadata": {},
   "outputs": [],
   "source": [
    "#url = \"http://vps-40d69db1.vps.ovh.ca:22001/api/ExecucaoSimulacaos/melhorValidacaoPeriodoFlat?idPeriodo=9\"\n",
    "url = \"http://vps-40d69db1.vps.ovh.ca:22001/api/ExecucaoSimulacaos/melhorValidacaoPeriodoFlatPorTicker?idPeriodo=9&limitePorTicker=3\""
   ]
  },
  {
   "cell_type": "code",
   "execution_count": 88,
   "id": "5179dbaa",
   "metadata": {},
   "outputs": [],
   "source": [
    "r = requests.get(url)\n",
    "j = r.json()\n",
    "df = pd.DataFrame.from_dict(j)"
   ]
  },
  {
   "cell_type": "code",
   "execution_count": 63,
   "id": "0657c353",
   "metadata": {},
   "outputs": [
    {
     "data": {
      "text/html": [
       "<div>\n",
       "<style scoped>\n",
       "    .dataframe tbody tr th:only-of-type {\n",
       "        vertical-align: middle;\n",
       "    }\n",
       "\n",
       "    .dataframe tbody tr th {\n",
       "        vertical-align: top;\n",
       "    }\n",
       "\n",
       "    .dataframe thead th {\n",
       "        text-align: right;\n",
       "    }\n",
       "</style>\n",
       "<table border=\"1\" class=\"dataframe\">\n",
       "  <thead>\n",
       "    <tr style=\"text-align: right;\">\n",
       "      <th></th>\n",
       "      <th>simulacaoId</th>\n",
       "      <th>ticker</th>\n",
       "      <th>simulacaoResultado</th>\n",
       "      <th>simulacaoLucro</th>\n",
       "      <th>simulacaoPrejuizo</th>\n",
       "      <th>target</th>\n",
       "      <th>stop</th>\n",
       "      <th>tipo</th>\n",
       "      <th>experimentoSimulacaoId</th>\n",
       "      <th>validacaoLucro</th>\n",
       "      <th>validacaoPrejuizo</th>\n",
       "      <th>saldoValidacao</th>\n",
       "    </tr>\n",
       "  </thead>\n",
       "  <tbody>\n",
       "    <tr>\n",
       "      <th>0</th>\n",
       "      <td>11058336</td>\n",
       "      <td>AERI3</td>\n",
       "      <td>44</td>\n",
       "      <td>4</td>\n",
       "      <td>2</td>\n",
       "      <td>0.14</td>\n",
       "      <td>0.08</td>\n",
       "      <td>V</td>\n",
       "      <td>56</td>\n",
       "      <td>1.0</td>\n",
       "      <td>0.0</td>\n",
       "      <td>1.0</td>\n",
       "    </tr>\n",
       "    <tr>\n",
       "      <th>1</th>\n",
       "      <td>11058436</td>\n",
       "      <td>AERI3</td>\n",
       "      <td>40</td>\n",
       "      <td>3</td>\n",
       "      <td>1</td>\n",
       "      <td>0.14</td>\n",
       "      <td>0.08</td>\n",
       "      <td>V</td>\n",
       "      <td>56</td>\n",
       "      <td>0.0</td>\n",
       "      <td>0.0</td>\n",
       "      <td>0.0</td>\n",
       "    </tr>\n",
       "    <tr>\n",
       "      <th>2</th>\n",
       "      <td>11095236</td>\n",
       "      <td>AERI3</td>\n",
       "      <td>38</td>\n",
       "      <td>2</td>\n",
       "      <td>1</td>\n",
       "      <td>0.18</td>\n",
       "      <td>0.08</td>\n",
       "      <td>V</td>\n",
       "      <td>56</td>\n",
       "      <td>0.0</td>\n",
       "      <td>0.0</td>\n",
       "      <td>0.0</td>\n",
       "    </tr>\n",
       "    <tr>\n",
       "      <th>3</th>\n",
       "      <td>11094311</td>\n",
       "      <td>AERI3</td>\n",
       "      <td>38</td>\n",
       "      <td>2</td>\n",
       "      <td>1</td>\n",
       "      <td>0.18</td>\n",
       "      <td>0.08</td>\n",
       "      <td>V</td>\n",
       "      <td>56</td>\n",
       "      <td>0.0</td>\n",
       "      <td>0.0</td>\n",
       "      <td>0.0</td>\n",
       "    </tr>\n",
       "    <tr>\n",
       "      <th>4</th>\n",
       "      <td>11098036</td>\n",
       "      <td>AERI3</td>\n",
       "      <td>38</td>\n",
       "      <td>2</td>\n",
       "      <td>1</td>\n",
       "      <td>0.18</td>\n",
       "      <td>0.08</td>\n",
       "      <td>V</td>\n",
       "      <td>56</td>\n",
       "      <td>0.0</td>\n",
       "      <td>0.0</td>\n",
       "      <td>0.0</td>\n",
       "    </tr>\n",
       "    <tr>\n",
       "      <th>5</th>\n",
       "      <td>11057866</td>\n",
       "      <td>BKBR3</td>\n",
       "      <td>50</td>\n",
       "      <td>3</td>\n",
       "      <td>0</td>\n",
       "      <td>0.14</td>\n",
       "      <td>0.08</td>\n",
       "      <td>V</td>\n",
       "      <td>56</td>\n",
       "      <td>0.0</td>\n",
       "      <td>0.0</td>\n",
       "      <td>0.0</td>\n",
       "    </tr>\n",
       "    <tr>\n",
       "      <th>6</th>\n",
       "      <td>11057891</td>\n",
       "      <td>BKBR3</td>\n",
       "      <td>50</td>\n",
       "      <td>3</td>\n",
       "      <td>0</td>\n",
       "      <td>0.14</td>\n",
       "      <td>0.08</td>\n",
       "      <td>V</td>\n",
       "      <td>56</td>\n",
       "      <td>0.0</td>\n",
       "      <td>0.0</td>\n",
       "      <td>0.0</td>\n",
       "    </tr>\n",
       "  </tbody>\n",
       "</table>\n",
       "</div>"
      ],
      "text/plain": [
       "   simulacaoId ticker  simulacaoResultado  simulacaoLucro  simulacaoPrejuizo  \\\n",
       "0     11058336  AERI3                  44               4                  2   \n",
       "1     11058436  AERI3                  40               3                  1   \n",
       "2     11095236  AERI3                  38               2                  1   \n",
       "3     11094311  AERI3                  38               2                  1   \n",
       "4     11098036  AERI3                  38               2                  1   \n",
       "5     11057866  BKBR3                  50               3                  0   \n",
       "6     11057891  BKBR3                  50               3                  0   \n",
       "\n",
       "   target  stop tipo  experimentoSimulacaoId  validacaoLucro  \\\n",
       "0    0.14  0.08    V                      56             1.0   \n",
       "1    0.14  0.08    V                      56             0.0   \n",
       "2    0.18  0.08    V                      56             0.0   \n",
       "3    0.18  0.08    V                      56             0.0   \n",
       "4    0.18  0.08    V                      56             0.0   \n",
       "5    0.14  0.08    V                      56             0.0   \n",
       "6    0.14  0.08    V                      56             0.0   \n",
       "\n",
       "   validacaoPrejuizo  saldoValidacao  \n",
       "0                0.0             1.0  \n",
       "1                0.0             0.0  \n",
       "2                0.0             0.0  \n",
       "3                0.0             0.0  \n",
       "4                0.0             0.0  \n",
       "5                0.0             0.0  \n",
       "6                0.0             0.0  "
      ]
     },
     "execution_count": 63,
     "metadata": {},
     "output_type": "execute_result"
    }
   ],
   "source": [
    "df.head(7)"
   ]
  },
  {
   "cell_type": "code",
   "execution_count": 64,
   "id": "4ef564ea",
   "metadata": {},
   "outputs": [
    {
     "data": {
      "text/plain": [
       "array([ 1.,  0., -1., nan,  2., -2., -3.])"
      ]
     },
     "execution_count": 64,
     "metadata": {},
     "output_type": "execute_result"
    }
   ],
   "source": [
    "df['saldoValidacao'].unique()"
   ]
  },
  {
   "cell_type": "markdown",
   "id": "f276f9a8",
   "metadata": {},
   "source": [
    "### Criar dataframe com os errados\n",
    "### Ir retirando casos até zerar tudo."
   ]
  },
  {
   "cell_type": "code",
   "execution_count": 89,
   "id": "f024b30a",
   "metadata": {},
   "outputs": [
    {
     "name": "stdout",
     "output_type": "stream",
     "text": [
      "Total de casos: 177\n"
     ]
    }
   ],
   "source": [
    "print('Total de casos: %d'%(len(df)))"
   ]
  },
  {
   "cell_type": "markdown",
   "id": "a9a6f045",
   "metadata": {},
   "source": [
    "## Montando os que deram errado"
   ]
  },
  {
   "cell_type": "code",
   "execution_count": 90,
   "id": "6eb4d9a4",
   "metadata": {},
   "outputs": [],
   "source": [
    "dfRuim = df[df['saldoValidacao']<0]"
   ]
  },
  {
   "cell_type": "code",
   "execution_count": 91,
   "id": "650cd069",
   "metadata": {},
   "outputs": [
    {
     "name": "stdout",
     "output_type": "stream",
     "text": [
      "Total de casos com erro: 50 (28.25) \n"
     ]
    }
   ],
   "source": [
    "print('Total de casos com erro: %d (%.2f) '%(len(dfRuim) , (100*(len(dfRuim) / len(df)) )))"
   ]
  },
  {
   "cell_type": "code",
   "execution_count": 68,
   "id": "130682ac",
   "metadata": {},
   "outputs": [
    {
     "data": {
      "text/plain": [
       "74"
      ]
     },
     "execution_count": 68,
     "metadata": {},
     "output_type": "execute_result"
    }
   ],
   "source": [
    "dfRuim['simulacaoResultado'].max()"
   ]
  },
  {
   "cell_type": "code",
   "execution_count": 69,
   "id": "354285c9",
   "metadata": {},
   "outputs": [
    {
     "data": {
      "text/plain": [
       "74"
      ]
     },
     "execution_count": 69,
     "metadata": {},
     "output_type": "execute_result"
    }
   ],
   "source": [
    "df['simulacaoResultado'].max()"
   ]
  },
  {
   "cell_type": "code",
   "execution_count": 70,
   "id": "52dbfe9f",
   "metadata": {},
   "outputs": [
    {
     "data": {
      "text/plain": [
       "target  stop\n",
       "0.08    0.06     3\n",
       "0.10    0.06     5\n",
       "0.12    0.06     5\n",
       "        0.08     5\n",
       "        0.10     5\n",
       "0.14    0.06    10\n",
       "        0.08    11\n",
       "0.16    0.06     5\n",
       "        0.08     9\n",
       "0.18    0.08     6\n",
       "        0.10     2\n",
       "0.20    0.06    10\n",
       "        0.10     1\n",
       "0.22    0.06     5\n",
       "        0.08     4\n",
       "dtype: int64"
      ]
     },
     "execution_count": 70,
     "metadata": {},
     "output_type": "execute_result"
    }
   ],
   "source": [
    "dfRuim.groupby(['target','stop']).size()"
   ]
  },
  {
   "cell_type": "markdown",
   "id": "2b59be36",
   "metadata": {},
   "source": [
    "## Trabalhando Target"
   ]
  },
  {
   "cell_type": "code",
   "execution_count": 71,
   "id": "a2936454",
   "metadata": {},
   "outputs": [],
   "source": [
    "dfTargetRuim = dfRuim.groupby(['target']).size().reset_index(name ='qtdeRuim')\n",
    "dfTarget = df.groupby(['target']).size().reset_index(name ='qtde')"
   ]
  },
  {
   "cell_type": "code",
   "execution_count": 72,
   "id": "1afb9b5d",
   "metadata": {},
   "outputs": [],
   "source": [
    "dfJoin = pd.merge(dfTarget,dfTargetRuim, how='outer' , left_index=True, right_index=True)"
   ]
  },
  {
   "cell_type": "code",
   "execution_count": 73,
   "id": "555ae25d",
   "metadata": {},
   "outputs": [
    {
     "data": {
      "text/html": [
       "<div>\n",
       "<style scoped>\n",
       "    .dataframe tbody tr th:only-of-type {\n",
       "        vertical-align: middle;\n",
       "    }\n",
       "\n",
       "    .dataframe tbody tr th {\n",
       "        vertical-align: top;\n",
       "    }\n",
       "\n",
       "    .dataframe thead th {\n",
       "        text-align: right;\n",
       "    }\n",
       "</style>\n",
       "<table border=\"1\" class=\"dataframe\">\n",
       "  <thead>\n",
       "    <tr style=\"text-align: right;\">\n",
       "      <th></th>\n",
       "      <th>target_x</th>\n",
       "      <th>qtde</th>\n",
       "      <th>target_y</th>\n",
       "      <th>qtdeRuim</th>\n",
       "    </tr>\n",
       "  </thead>\n",
       "  <tbody>\n",
       "    <tr>\n",
       "      <th>0</th>\n",
       "      <td>0.08</td>\n",
       "      <td>13</td>\n",
       "      <td>0.08</td>\n",
       "      <td>3</td>\n",
       "    </tr>\n",
       "    <tr>\n",
       "      <th>1</th>\n",
       "      <td>0.10</td>\n",
       "      <td>47</td>\n",
       "      <td>0.10</td>\n",
       "      <td>5</td>\n",
       "    </tr>\n",
       "    <tr>\n",
       "      <th>2</th>\n",
       "      <td>0.12</td>\n",
       "      <td>72</td>\n",
       "      <td>0.12</td>\n",
       "      <td>15</td>\n",
       "    </tr>\n",
       "    <tr>\n",
       "      <th>3</th>\n",
       "      <td>0.14</td>\n",
       "      <td>35</td>\n",
       "      <td>0.14</td>\n",
       "      <td>21</td>\n",
       "    </tr>\n",
       "    <tr>\n",
       "      <th>4</th>\n",
       "      <td>0.16</td>\n",
       "      <td>51</td>\n",
       "      <td>0.16</td>\n",
       "      <td>14</td>\n",
       "    </tr>\n",
       "  </tbody>\n",
       "</table>\n",
       "</div>"
      ],
      "text/plain": [
       "   target_x  qtde  target_y  qtdeRuim\n",
       "0      0.08    13      0.08         3\n",
       "1      0.10    47      0.10         5\n",
       "2      0.12    72      0.12        15\n",
       "3      0.14    35      0.14        21\n",
       "4      0.16    51      0.16        14"
      ]
     },
     "execution_count": 73,
     "metadata": {},
     "output_type": "execute_result"
    }
   ],
   "source": [
    "dfJoin.head()"
   ]
  },
  {
   "cell_type": "code",
   "execution_count": 74,
   "id": "327dc97e",
   "metadata": {},
   "outputs": [],
   "source": [
    "dfJoin['percentual'] = (dfJoin['qtdeRuim'] / dfJoin['qtde']) * 100"
   ]
  },
  {
   "cell_type": "code",
   "execution_count": 75,
   "id": "ce7746f8",
   "metadata": {},
   "outputs": [
    {
     "data": {
      "text/html": [
       "<div>\n",
       "<style scoped>\n",
       "    .dataframe tbody tr th:only-of-type {\n",
       "        vertical-align: middle;\n",
       "    }\n",
       "\n",
       "    .dataframe tbody tr th {\n",
       "        vertical-align: top;\n",
       "    }\n",
       "\n",
       "    .dataframe thead th {\n",
       "        text-align: right;\n",
       "    }\n",
       "</style>\n",
       "<table border=\"1\" class=\"dataframe\">\n",
       "  <thead>\n",
       "    <tr style=\"text-align: right;\">\n",
       "      <th></th>\n",
       "      <th>target_x</th>\n",
       "      <th>qtde</th>\n",
       "      <th>target_y</th>\n",
       "      <th>qtdeRuim</th>\n",
       "      <th>percentual</th>\n",
       "    </tr>\n",
       "  </thead>\n",
       "  <tbody>\n",
       "    <tr>\n",
       "      <th>0</th>\n",
       "      <td>0.08</td>\n",
       "      <td>13</td>\n",
       "      <td>0.08</td>\n",
       "      <td>3</td>\n",
       "      <td>23.076923</td>\n",
       "    </tr>\n",
       "    <tr>\n",
       "      <th>1</th>\n",
       "      <td>0.10</td>\n",
       "      <td>47</td>\n",
       "      <td>0.10</td>\n",
       "      <td>5</td>\n",
       "      <td>10.638298</td>\n",
       "    </tr>\n",
       "    <tr>\n",
       "      <th>2</th>\n",
       "      <td>0.12</td>\n",
       "      <td>72</td>\n",
       "      <td>0.12</td>\n",
       "      <td>15</td>\n",
       "      <td>20.833333</td>\n",
       "    </tr>\n",
       "    <tr>\n",
       "      <th>3</th>\n",
       "      <td>0.14</td>\n",
       "      <td>35</td>\n",
       "      <td>0.14</td>\n",
       "      <td>21</td>\n",
       "      <td>60.000000</td>\n",
       "    </tr>\n",
       "    <tr>\n",
       "      <th>4</th>\n",
       "      <td>0.16</td>\n",
       "      <td>51</td>\n",
       "      <td>0.16</td>\n",
       "      <td>14</td>\n",
       "      <td>27.450980</td>\n",
       "    </tr>\n",
       "    <tr>\n",
       "      <th>5</th>\n",
       "      <td>0.18</td>\n",
       "      <td>30</td>\n",
       "      <td>0.18</td>\n",
       "      <td>8</td>\n",
       "      <td>26.666667</td>\n",
       "    </tr>\n",
       "    <tr>\n",
       "      <th>6</th>\n",
       "      <td>0.20</td>\n",
       "      <td>23</td>\n",
       "      <td>0.20</td>\n",
       "      <td>11</td>\n",
       "      <td>47.826087</td>\n",
       "    </tr>\n",
       "    <tr>\n",
       "      <th>7</th>\n",
       "      <td>0.22</td>\n",
       "      <td>19</td>\n",
       "      <td>0.22</td>\n",
       "      <td>9</td>\n",
       "      <td>47.368421</td>\n",
       "    </tr>\n",
       "  </tbody>\n",
       "</table>\n",
       "</div>"
      ],
      "text/plain": [
       "   target_x  qtde  target_y  qtdeRuim  percentual\n",
       "0      0.08    13      0.08         3   23.076923\n",
       "1      0.10    47      0.10         5   10.638298\n",
       "2      0.12    72      0.12        15   20.833333\n",
       "3      0.14    35      0.14        21   60.000000\n",
       "4      0.16    51      0.16        14   27.450980\n",
       "5      0.18    30      0.18         8   26.666667\n",
       "6      0.20    23      0.20        11   47.826087\n",
       "7      0.22    19      0.22         9   47.368421"
      ]
     },
     "execution_count": 75,
     "metadata": {},
     "output_type": "execute_result"
    }
   ],
   "source": [
    "dfJoin.head(20)"
   ]
  },
  {
   "cell_type": "code",
   "execution_count": 76,
   "id": "b651ef51",
   "metadata": {},
   "outputs": [
    {
     "data": {
      "text/plain": [
       "<AxesSubplot:xlabel='target_x'>"
      ]
     },
     "execution_count": 76,
     "metadata": {},
     "output_type": "execute_result"
    },
    {
     "data": {
      "image/png": "[encoded data removed]",
      "text/plain": [
       "<Figure size 1296x360 with 1 Axes>"
      ]
     },
     "metadata": {
      "needs_background": "light"
     },
     "output_type": "display_data"
    }
   ],
   "source": [
    "dfJoin.plot.bar(x='target_x', y='percentual', rot=0, figsize=(18,5), legend=None)"
   ]
  },
  {
   "cell_type": "markdown",
   "id": "0f4f326a",
   "metadata": {},
   "source": [
    "## Trabalhando Stop"
   ]
  },
  {
   "cell_type": "code",
   "execution_count": 77,
   "id": "75a34c64",
   "metadata": {},
   "outputs": [],
   "source": [
    "dfTargetRuim = dfRuim.groupby(['stop']).size().reset_index(name ='qtdeRuim')\n",
    "dfTarget = df.groupby(['stop']).size().reset_index(name ='qtde')"
   ]
  },
  {
   "cell_type": "code",
   "execution_count": 78,
   "id": "f966eb73",
   "metadata": {},
   "outputs": [],
   "source": [
    "dfJoin = pd.merge(dfTarget,dfTargetRuim, how='outer' , left_index=True, right_index=True)"
   ]
  },
  {
   "cell_type": "code",
   "execution_count": 79,
   "id": "5f547971",
   "metadata": {},
   "outputs": [
    {
     "data": {
      "text/html": [
       "<div>\n",
       "<style scoped>\n",
       "    .dataframe tbody tr th:only-of-type {\n",
       "        vertical-align: middle;\n",
       "    }\n",
       "\n",
       "    .dataframe tbody tr th {\n",
       "        vertical-align: top;\n",
       "    }\n",
       "\n",
       "    .dataframe thead th {\n",
       "        text-align: right;\n",
       "    }\n",
       "</style>\n",
       "<table border=\"1\" class=\"dataframe\">\n",
       "  <thead>\n",
       "    <tr style=\"text-align: right;\">\n",
       "      <th></th>\n",
       "      <th>stop_x</th>\n",
       "      <th>qtde</th>\n",
       "      <th>stop_y</th>\n",
       "      <th>qtdeRuim</th>\n",
       "    </tr>\n",
       "  </thead>\n",
       "  <tbody>\n",
       "    <tr>\n",
       "      <th>0</th>\n",
       "      <td>0.06</td>\n",
       "      <td>115</td>\n",
       "      <td>0.06</td>\n",
       "      <td>43.0</td>\n",
       "    </tr>\n",
       "    <tr>\n",
       "      <th>1</th>\n",
       "      <td>0.08</td>\n",
       "      <td>143</td>\n",
       "      <td>0.08</td>\n",
       "      <td>35.0</td>\n",
       "    </tr>\n",
       "    <tr>\n",
       "      <th>2</th>\n",
       "      <td>0.10</td>\n",
       "      <td>27</td>\n",
       "      <td>0.10</td>\n",
       "      <td>8.0</td>\n",
       "    </tr>\n",
       "    <tr>\n",
       "      <th>3</th>\n",
       "      <td>0.12</td>\n",
       "      <td>5</td>\n",
       "      <td>NaN</td>\n",
       "      <td>NaN</td>\n",
       "    </tr>\n",
       "  </tbody>\n",
       "</table>\n",
       "</div>"
      ],
      "text/plain": [
       "   stop_x  qtde  stop_y  qtdeRuim\n",
       "0    0.06   115    0.06      43.0\n",
       "1    0.08   143    0.08      35.0\n",
       "2    0.10    27    0.10       8.0\n",
       "3    0.12     5     NaN       NaN"
      ]
     },
     "execution_count": 79,
     "metadata": {},
     "output_type": "execute_result"
    }
   ],
   "source": [
    "dfJoin.head()"
   ]
  },
  {
   "cell_type": "code",
   "execution_count": 80,
   "id": "f9bbde79",
   "metadata": {},
   "outputs": [],
   "source": [
    "dfJoin['percentual'] = (dfJoin['qtdeRuim'] / dfJoin['qtde']) * 100"
   ]
  },
  {
   "cell_type": "code",
   "execution_count": 81,
   "id": "792150fb",
   "metadata": {},
   "outputs": [
    {
     "data": {
      "text/plain": [
       "<AxesSubplot:xlabel='stop_x'>"
      ]
     },
     "execution_count": 81,
     "metadata": {},
     "output_type": "execute_result"
    },
    {
     "data": {
      "image/png": "[encoded data removed]",
      "text/plain": [
       "<Figure size 1296x360 with 1 Axes>"
      ]
     },
     "metadata": {
      "needs_background": "light"
     },
     "output_type": "display_data"
    }
   ],
   "source": [
    "dfJoin.plot.bar(x='stop_x', y='percentual', rot=0, figsize=(18,5), legend=None)"
   ]
  },
  {
   "cell_type": "markdown",
   "id": "f541c41b",
   "metadata": {},
   "source": [
    "## Por Ticker"
   ]
  },
  {
   "cell_type": "code",
   "execution_count": 92,
   "id": "f81054c3",
   "metadata": {},
   "outputs": [
    {
     "data": {
      "text/html": [
       "<div>\n",
       "<style scoped>\n",
       "    .dataframe tbody tr th:only-of-type {\n",
       "        vertical-align: middle;\n",
       "    }\n",
       "\n",
       "    .dataframe tbody tr th {\n",
       "        vertical-align: top;\n",
       "    }\n",
       "\n",
       "    .dataframe thead th {\n",
       "        text-align: right;\n",
       "    }\n",
       "</style>\n",
       "<table border=\"1\" class=\"dataframe\">\n",
       "  <thead>\n",
       "    <tr style=\"text-align: right;\">\n",
       "      <th></th>\n",
       "      <th>simulacaoId</th>\n",
       "      <th>ticker</th>\n",
       "      <th>simulacaoResultado</th>\n",
       "      <th>simulacaoLucro</th>\n",
       "      <th>simulacaoPrejuizo</th>\n",
       "      <th>target</th>\n",
       "      <th>stop</th>\n",
       "      <th>tipo</th>\n",
       "      <th>experimentoSimulacaoId</th>\n",
       "      <th>validacaoLucro</th>\n",
       "      <th>validacaoPrejuizo</th>\n",
       "      <th>saldoValidacao</th>\n",
       "    </tr>\n",
       "  </thead>\n",
       "  <tbody>\n",
       "    <tr>\n",
       "      <th>9</th>\n",
       "      <td>11044815</td>\n",
       "      <td>ANIM3</td>\n",
       "      <td>52</td>\n",
       "      <td>4</td>\n",
       "      <td>0</td>\n",
       "      <td>0.12</td>\n",
       "      <td>0.10</td>\n",
       "      <td>V</td>\n",
       "      <td>56</td>\n",
       "      <td>0.0</td>\n",
       "      <td>1.0</td>\n",
       "      <td>-1.0</td>\n",
       "    </tr>\n",
       "    <tr>\n",
       "      <th>10</th>\n",
       "      <td>11044840</td>\n",
       "      <td>ANIM3</td>\n",
       "      <td>52</td>\n",
       "      <td>4</td>\n",
       "      <td>0</td>\n",
       "      <td>0.12</td>\n",
       "      <td>0.10</td>\n",
       "      <td>V</td>\n",
       "      <td>56</td>\n",
       "      <td>0.0</td>\n",
       "      <td>1.0</td>\n",
       "      <td>-1.0</td>\n",
       "    </tr>\n",
       "    <tr>\n",
       "      <th>11</th>\n",
       "      <td>11045515</td>\n",
       "      <td>ANIM3</td>\n",
       "      <td>52</td>\n",
       "      <td>4</td>\n",
       "      <td>0</td>\n",
       "      <td>0.12</td>\n",
       "      <td>0.10</td>\n",
       "      <td>V</td>\n",
       "      <td>56</td>\n",
       "      <td>0.0</td>\n",
       "      <td>1.0</td>\n",
       "      <td>-1.0</td>\n",
       "    </tr>\n",
       "    <tr>\n",
       "      <th>21</th>\n",
       "      <td>11237611</td>\n",
       "      <td>BPAC11</td>\n",
       "      <td>66</td>\n",
       "      <td>4</td>\n",
       "      <td>0</td>\n",
       "      <td>0.14</td>\n",
       "      <td>0.06</td>\n",
       "      <td>V</td>\n",
       "      <td>57</td>\n",
       "      <td>0.0</td>\n",
       "      <td>1.0</td>\n",
       "      <td>-1.0</td>\n",
       "    </tr>\n",
       "    <tr>\n",
       "      <th>22</th>\n",
       "      <td>11237611</td>\n",
       "      <td>BPAC11</td>\n",
       "      <td>66</td>\n",
       "      <td>4</td>\n",
       "      <td>0</td>\n",
       "      <td>0.14</td>\n",
       "      <td>0.06</td>\n",
       "      <td>V</td>\n",
       "      <td>57</td>\n",
       "      <td>0.0</td>\n",
       "      <td>1.0</td>\n",
       "      <td>-1.0</td>\n",
       "    </tr>\n",
       "    <tr>\n",
       "      <th>23</th>\n",
       "      <td>11237611</td>\n",
       "      <td>BPAC11</td>\n",
       "      <td>66</td>\n",
       "      <td>4</td>\n",
       "      <td>0</td>\n",
       "      <td>0.14</td>\n",
       "      <td>0.06</td>\n",
       "      <td>V</td>\n",
       "      <td>57</td>\n",
       "      <td>0.0</td>\n",
       "      <td>1.0</td>\n",
       "      <td>-1.0</td>\n",
       "    </tr>\n",
       "    <tr>\n",
       "      <th>35</th>\n",
       "      <td>10939389</td>\n",
       "      <td>CIEL3</td>\n",
       "      <td>30</td>\n",
       "      <td>1</td>\n",
       "      <td>0</td>\n",
       "      <td>0.18</td>\n",
       "      <td>0.08</td>\n",
       "      <td>V</td>\n",
       "      <td>54</td>\n",
       "      <td>0.0</td>\n",
       "      <td>1.0</td>\n",
       "      <td>-1.0</td>\n",
       "    </tr>\n",
       "    <tr>\n",
       "      <th>36</th>\n",
       "      <td>10895863</td>\n",
       "      <td>CCRO3</td>\n",
       "      <td>36</td>\n",
       "      <td>2</td>\n",
       "      <td>0</td>\n",
       "      <td>0.14</td>\n",
       "      <td>0.08</td>\n",
       "      <td>V</td>\n",
       "      <td>54</td>\n",
       "      <td>0.0</td>\n",
       "      <td>1.0</td>\n",
       "      <td>-1.0</td>\n",
       "    </tr>\n",
       "    <tr>\n",
       "      <th>37</th>\n",
       "      <td>10900788</td>\n",
       "      <td>CCRO3</td>\n",
       "      <td>36</td>\n",
       "      <td>2</td>\n",
       "      <td>0</td>\n",
       "      <td>0.14</td>\n",
       "      <td>0.08</td>\n",
       "      <td>V</td>\n",
       "      <td>54</td>\n",
       "      <td>0.0</td>\n",
       "      <td>1.0</td>\n",
       "      <td>-1.0</td>\n",
       "    </tr>\n",
       "    <tr>\n",
       "      <th>38</th>\n",
       "      <td>10900363</td>\n",
       "      <td>CCRO3</td>\n",
       "      <td>36</td>\n",
       "      <td>2</td>\n",
       "      <td>0</td>\n",
       "      <td>0.14</td>\n",
       "      <td>0.08</td>\n",
       "      <td>V</td>\n",
       "      <td>54</td>\n",
       "      <td>0.0</td>\n",
       "      <td>1.0</td>\n",
       "      <td>-1.0</td>\n",
       "    </tr>\n",
       "  </tbody>\n",
       "</table>\n",
       "</div>"
      ],
      "text/plain": [
       "    simulacaoId  ticker  simulacaoResultado  simulacaoLucro  \\\n",
       "9      11044815   ANIM3                  52               4   \n",
       "10     11044840   ANIM3                  52               4   \n",
       "11     11045515   ANIM3                  52               4   \n",
       "21     11237611  BPAC11                  66               4   \n",
       "22     11237611  BPAC11                  66               4   \n",
       "23     11237611  BPAC11                  66               4   \n",
       "35     10939389   CIEL3                  30               1   \n",
       "36     10895863   CCRO3                  36               2   \n",
       "37     10900788   CCRO3                  36               2   \n",
       "38     10900363   CCRO3                  36               2   \n",
       "\n",
       "    simulacaoPrejuizo  target  stop tipo  experimentoSimulacaoId  \\\n",
       "9                   0    0.12  0.10    V                      56   \n",
       "10                  0    0.12  0.10    V                      56   \n",
       "11                  0    0.12  0.10    V                      56   \n",
       "21                  0    0.14  0.06    V                      57   \n",
       "22                  0    0.14  0.06    V                      57   \n",
       "23                  0    0.14  0.06    V                      57   \n",
       "35                  0    0.18  0.08    V                      54   \n",
       "36                  0    0.14  0.08    V                      54   \n",
       "37                  0    0.14  0.08    V                      54   \n",
       "38                  0    0.14  0.08    V                      54   \n",
       "\n",
       "    validacaoLucro  validacaoPrejuizo  saldoValidacao  \n",
       "9              0.0                1.0            -1.0  \n",
       "10             0.0                1.0            -1.0  \n",
       "11             0.0                1.0            -1.0  \n",
       "21             0.0                1.0            -1.0  \n",
       "22             0.0                1.0            -1.0  \n",
       "23             0.0                1.0            -1.0  \n",
       "35             0.0                1.0            -1.0  \n",
       "36             0.0                1.0            -1.0  \n",
       "37             0.0                1.0            -1.0  \n",
       "38             0.0                1.0            -1.0  "
      ]
     },
     "execution_count": 92,
     "metadata": {},
     "output_type": "execute_result"
    }
   ],
   "source": [
    "dfRuim.head(10)"
   ]
  },
  {
   "cell_type": "code",
   "execution_count": 93,
   "id": "6e4b757a",
   "metadata": {},
   "outputs": [],
   "source": [
    "dfRuim2 = dfRuim.groupby(['ticker']).size().reset_index(name ='qtde')"
   ]
  },
  {
   "cell_type": "code",
   "execution_count": 94,
   "id": "6558396a",
   "metadata": {},
   "outputs": [
    {
     "data": {
      "text/plain": [
       "qtde\n",
       "1     3\n",
       "2     4\n",
       "3    13\n",
       "dtype: int64"
      ]
     },
     "execution_count": 94,
     "metadata": {},
     "output_type": "execute_result"
    }
   ],
   "source": [
    "dfRuim2.groupby(['qtde']).size()"
   ]
  },
  {
   "cell_type": "code",
   "execution_count": null,
   "id": "ad4c78b5",
   "metadata": {},
   "outputs": [],
   "source": []
  }
 ],
 "metadata": {
  "kernelspec": {
   "display_name": "Python 3 (ipykernel)",
   "language": "python",
   "name": "python3"
  },
  "language_info": {
   "codemirror_mode": {
    "name": "ipython",
    "version": 3
   },
   "file_extension": ".py",
   "mimetype": "text/x-python",
   "name": "python",
   "nbconvert_exporter": "python",
   "pygments_lexer": "ipython3",
   "version": "3.8.10"
  }
 },
 "nbformat": 4,
 "nbformat_minor": 5
}
