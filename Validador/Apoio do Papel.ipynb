{
 "cells": [
  {
   "cell_type": "code",
   "execution_count": 17,
   "id": "b335395c",
   "metadata": {},
   "outputs": [],
   "source": [
    "import numpy as np\n",
    "from datetime import datetime\n",
    "import requests\n",
    "import pandas as pd\n",
    "import matplotlib.pyplot as plt"
   ]
  },
  {
   "cell_type": "code",
   "execution_count": 18,
   "id": "50449fee",
   "metadata": {},
   "outputs": [],
   "source": [
    "url = \"http://vps-40d69db1.vps.ovh.ca:21046/api/ExecucaoSimulacaos/melhorValidacaoPeriodoFlat?idPeriodo=9\""
   ]
  },
  {
   "cell_type": "code",
   "execution_count": 19,
   "id": "1ac6cde9",
   "metadata": {},
   "outputs": [],
   "source": [
    "r = requests.get(url)\n",
    "j = r.json()\n",
    "df = pd.DataFrame.from_dict(j)"
   ]
  },
  {
   "cell_type": "code",
   "execution_count": 20,
   "id": "3fcf0666",
   "metadata": {},
   "outputs": [
    {
     "data": {
      "text/plain": [
       "Index(['simulacaoId', 'ticker', 'simulacaoResultado', 'simulacaoLucro',\n",
       "       'simulacaoPrejuizo', 'target', 'stop', 'tipo', 'experimentoSimulacaoId',\n",
       "       'validacaoLucro', 'validacaoPrejuizo', 'saldoValidacao'],\n",
       "      dtype='object')"
      ]
     },
     "execution_count": 20,
     "metadata": {},
     "output_type": "execute_result"
    }
   ],
   "source": [
    "df.columns"
   ]
  },
  {
   "cell_type": "markdown",
   "id": "be4ed1d8",
   "metadata": {},
   "source": [
    "Qual o período ?\n",
    "Quantos experimentos ?\n",
    "Total de casos ?"
   ]
  },
  {
   "cell_type": "code",
   "execution_count": 24,
   "id": "811e3b2b",
   "metadata": {},
   "outputs": [
    {
     "data": {
      "text/html": [
       "<div>\n",
       "<style scoped>\n",
       "    .dataframe tbody tr th:only-of-type {\n",
       "        vertical-align: middle;\n",
       "    }\n",
       "\n",
       "    .dataframe tbody tr th {\n",
       "        vertical-align: top;\n",
       "    }\n",
       "\n",
       "    .dataframe thead th {\n",
       "        text-align: right;\n",
       "    }\n",
       "</style>\n",
       "<table border=\"1\" class=\"dataframe\">\n",
       "  <thead>\n",
       "    <tr style=\"text-align: right;\">\n",
       "      <th></th>\n",
       "      <th>ticker</th>\n",
       "      <th>validacaoLucro</th>\n",
       "      <th>saldoValidacao</th>\n",
       "      <th>percentual</th>\n",
       "    </tr>\n",
       "    <tr>\n",
       "      <th>experimentoSimulacaoId</th>\n",
       "      <th></th>\n",
       "      <th></th>\n",
       "      <th></th>\n",
       "      <th></th>\n",
       "    </tr>\n",
       "  </thead>\n",
       "  <tbody>\n",
       "    <tr>\n",
       "      <th>54</th>\n",
       "      <td>14458</td>\n",
       "      <td>14422</td>\n",
       "      <td>14422</td>\n",
       "      <td>99.751003</td>\n",
       "    </tr>\n",
       "    <tr>\n",
       "      <th>56</th>\n",
       "      <td>11339</td>\n",
       "      <td>11329</td>\n",
       "      <td>11329</td>\n",
       "      <td>99.911809</td>\n",
       "    </tr>\n",
       "    <tr>\n",
       "      <th>57</th>\n",
       "      <td>27537</td>\n",
       "      <td>27528</td>\n",
       "      <td>27528</td>\n",
       "      <td>99.967317</td>\n",
       "    </tr>\n",
       "    <tr>\n",
       "      <th>58</th>\n",
       "      <td>13297</td>\n",
       "      <td>0</td>\n",
       "      <td>0</td>\n",
       "      <td>0.000000</td>\n",
       "    </tr>\n",
       "  </tbody>\n",
       "</table>\n",
       "</div>"
      ],
      "text/plain": [
       "                        ticker  validacaoLucro  saldoValidacao  percentual\n",
       "experimentoSimulacaoId                                                    \n",
       "54                       14458           14422           14422   99.751003\n",
       "56                       11339           11329           11329   99.911809\n",
       "57                       27537           27528           27528   99.967317\n",
       "58                       13297               0               0    0.000000"
      ]
     },
     "execution_count": 24,
     "metadata": {},
     "output_type": "execute_result"
    }
   ],
   "source": [
    "dfResumo = df.groupby('experimentoSimulacaoId').count()\n",
    "dfResumo = dfResumo.filter(items=['ticker', 'validacaoLucro','saldoValidacao'])\n",
    "dfResumo['percentual'] = (dfResumo['validacaoLucro'] / dfResumo['ticker']) * 100\n",
    "dfResumo.head()"
   ]
  },
  {
   "cell_type": "markdown",
   "id": "6fe896e0",
   "metadata": {},
   "source": [
    "Tickers "
   ]
  },
  {
   "cell_type": "code",
   "execution_count": 30,
   "id": "d96bf374",
   "metadata": {},
   "outputs": [
    {
     "name": "stdout",
     "output_type": "stream",
     "text": [
      "Quantidade total de tickers: 60 \n"
     ]
    }
   ],
   "source": [
    "print(\"Quantidade total de tickers: %2d \"%(len(df['ticker'].unique())))"
   ]
  },
  {
   "cell_type": "code",
   "execution_count": 31,
   "id": "8e7296a6",
   "metadata": {},
   "outputs": [],
   "source": [
    "dfTicker = df.groupby(['ticker','saldoValidacao']).size().reset_index(name ='qtde')"
   ]
  },
  {
   "cell_type": "code",
   "execution_count": 32,
   "id": "88ef9f29",
   "metadata": {},
   "outputs": [
    {
     "data": {
      "text/html": [
       "<div>\n",
       "<style scoped>\n",
       "    .dataframe tbody tr th:only-of-type {\n",
       "        vertical-align: middle;\n",
       "    }\n",
       "\n",
       "    .dataframe tbody tr th {\n",
       "        vertical-align: top;\n",
       "    }\n",
       "\n",
       "    .dataframe thead th {\n",
       "        text-align: right;\n",
       "    }\n",
       "</style>\n",
       "<table border=\"1\" class=\"dataframe\">\n",
       "  <thead>\n",
       "    <tr style=\"text-align: right;\">\n",
       "      <th></th>\n",
       "      <th>ticker</th>\n",
       "      <th>saldoValidacao</th>\n",
       "      <th>qtde</th>\n",
       "    </tr>\n",
       "  </thead>\n",
       "  <tbody>\n",
       "    <tr>\n",
       "      <th>0</th>\n",
       "      <td>AERI3</td>\n",
       "      <td>0.0</td>\n",
       "      <td>227</td>\n",
       "    </tr>\n",
       "    <tr>\n",
       "      <th>1</th>\n",
       "      <td>AERI3</td>\n",
       "      <td>1.0</td>\n",
       "      <td>22</td>\n",
       "    </tr>\n",
       "    <tr>\n",
       "      <th>2</th>\n",
       "      <td>AERI3</td>\n",
       "      <td>2.0</td>\n",
       "      <td>50</td>\n",
       "    </tr>\n",
       "    <tr>\n",
       "      <th>3</th>\n",
       "      <td>ALPA4</td>\n",
       "      <td>0.0</td>\n",
       "      <td>695</td>\n",
       "    </tr>\n",
       "    <tr>\n",
       "      <th>4</th>\n",
       "      <td>ALSO3</td>\n",
       "      <td>0.0</td>\n",
       "      <td>21</td>\n",
       "    </tr>\n",
       "  </tbody>\n",
       "</table>\n",
       "</div>"
      ],
      "text/plain": [
       "  ticker  saldoValidacao  qtde\n",
       "0  AERI3             0.0   227\n",
       "1  AERI3             1.0    22\n",
       "2  AERI3             2.0    50\n",
       "3  ALPA4             0.0   695\n",
       "4  ALSO3             0.0    21"
      ]
     },
     "execution_count": 32,
     "metadata": {},
     "output_type": "execute_result"
    }
   ],
   "source": [
    "dfTicker.head()"
   ]
  },
  {
   "cell_type": "code",
   "execution_count": 33,
   "id": "6cb5dc30",
   "metadata": {},
   "outputs": [
    {
     "name": "stdout",
     "output_type": "stream",
     "text": [
      "Quantidade de tickers já tratados: 46 \n"
     ]
    }
   ],
   "source": [
    "print(\"Quantidade de tickers já tratados: %2d \"%(len(dfTicker['ticker'].unique())))"
   ]
  },
  {
   "cell_type": "code",
   "execution_count": 57,
   "id": "3a6de74b",
   "metadata": {},
   "outputs": [
    {
     "data": {
      "text/html": [
       "<div>\n",
       "<style scoped>\n",
       "    .dataframe tbody tr th:only-of-type {\n",
       "        vertical-align: middle;\n",
       "    }\n",
       "\n",
       "    .dataframe tbody tr th {\n",
       "        vertical-align: top;\n",
       "    }\n",
       "\n",
       "    .dataframe thead th {\n",
       "        text-align: right;\n",
       "    }\n",
       "</style>\n",
       "<table border=\"1\" class=\"dataframe\">\n",
       "  <thead>\n",
       "    <tr style=\"text-align: right;\">\n",
       "      <th>saldoValidacao</th>\n",
       "      <th>0.0</th>\n",
       "      <th>positivo</th>\n",
       "      <th>negativo</th>\n",
       "    </tr>\n",
       "    <tr>\n",
       "      <th>ticker</th>\n",
       "      <th></th>\n",
       "      <th></th>\n",
       "      <th></th>\n",
       "    </tr>\n",
       "  </thead>\n",
       "  <tbody>\n",
       "    <tr>\n",
       "      <th>AERI3</th>\n",
       "      <td>227.0</td>\n",
       "      <td>72.0</td>\n",
       "      <td>0.0</td>\n",
       "    </tr>\n",
       "    <tr>\n",
       "      <th>ALPA4</th>\n",
       "      <td>695.0</td>\n",
       "      <td>0.0</td>\n",
       "      <td>0.0</td>\n",
       "    </tr>\n",
       "    <tr>\n",
       "      <th>ALSO3</th>\n",
       "      <td>21.0</td>\n",
       "      <td>120.0</td>\n",
       "      <td>0.0</td>\n",
       "    </tr>\n",
       "    <tr>\n",
       "      <th>AMAR3</th>\n",
       "      <td>658.0</td>\n",
       "      <td>155.0</td>\n",
       "      <td>261.0</td>\n",
       "    </tr>\n",
       "    <tr>\n",
       "      <th>ANIM3</th>\n",
       "      <td>364.0</td>\n",
       "      <td>68.0</td>\n",
       "      <td>1182.0</td>\n",
       "    </tr>\n",
       "    <tr>\n",
       "      <th>B3SA3</th>\n",
       "      <td>3300.0</td>\n",
       "      <td>405.0</td>\n",
       "      <td>0.0</td>\n",
       "    </tr>\n",
       "    <tr>\n",
       "      <th>BKBR3</th>\n",
       "      <td>705.0</td>\n",
       "      <td>1107.0</td>\n",
       "      <td>0.0</td>\n",
       "    </tr>\n",
       "    <tr>\n",
       "      <th>BPAC11</th>\n",
       "      <td>5371.0</td>\n",
       "      <td>0.0</td>\n",
       "      <td>2217.0</td>\n",
       "    </tr>\n",
       "    <tr>\n",
       "      <th>BRDT3</th>\n",
       "      <td>4330.0</td>\n",
       "      <td>0.0</td>\n",
       "      <td>0.0</td>\n",
       "    </tr>\n",
       "    <tr>\n",
       "      <th>BRFS3</th>\n",
       "      <td>890.0</td>\n",
       "      <td>0.0</td>\n",
       "      <td>0.0</td>\n",
       "    </tr>\n",
       "    <tr>\n",
       "      <th>BRML3</th>\n",
       "      <td>2280.0</td>\n",
       "      <td>72.0</td>\n",
       "      <td>0.0</td>\n",
       "    </tr>\n",
       "  </tbody>\n",
       "</table>\n",
       "</div>"
      ],
      "text/plain": [
       "saldoValidacao     0.0  positivo  negativo\n",
       "ticker                                    \n",
       "AERI3            227.0      72.0       0.0\n",
       "ALPA4            695.0       0.0       0.0\n",
       "ALSO3             21.0     120.0       0.0\n",
       "AMAR3            658.0     155.0     261.0\n",
       "ANIM3            364.0      68.0    1182.0\n",
       "B3SA3           3300.0     405.0       0.0\n",
       "BKBR3            705.0    1107.0       0.0\n",
       "BPAC11          5371.0       0.0    2217.0\n",
       "BRDT3           4330.0       0.0       0.0\n",
       "BRFS3            890.0       0.0       0.0\n",
       "BRML3           2280.0      72.0       0.0"
      ]
     },
     "execution_count": 57,
     "metadata": {},
     "output_type": "execute_result"
    }
   ],
   "source": [
    "dfTicker2 = dfTicker.pivot_table('qtde','ticker','saldoValidacao')\n",
    "dfTicker2.fillna(0, inplace=True)\n",
    "dfTicker2['positivo'] = dfTicker2[1.0] + dfTicker2[2.0]\n",
    "dfTicker2['negativo'] = dfTicker2[-1.0] + dfTicker2[-2.0] + dfTicker2[-3.0]\n",
    "dfTicker2.drop(columns=[-3.0, -2.0, -1.0, 1.0, 2.0], inplace=True)\n",
    "dfTicker2.head(11)"
   ]
  },
  {
   "cell_type": "code",
   "execution_count": 53,
   "id": "d7e6e469",
   "metadata": {},
   "outputs": [],
   "source": [
    "\n",
    "dfBom = dfTicker2[(dfTicker2['negativo']==0) & (dfTicker2['positivo']>0)]"
   ]
  },
  {
   "cell_type": "code",
   "execution_count": 54,
   "id": "acfd1282",
   "metadata": {},
   "outputs": [
    {
     "data": {
      "text/plain": [
       "12"
      ]
     },
     "execution_count": 54,
     "metadata": {},
     "output_type": "execute_result"
    }
   ],
   "source": [
    "len(dfBom)"
   ]
  },
  {
   "cell_type": "code",
   "execution_count": 55,
   "id": "693c2ee2",
   "metadata": {},
   "outputs": [
    {
     "data": {
      "text/html": [
       "<div>\n",
       "<style scoped>\n",
       "    .dataframe tbody tr th:only-of-type {\n",
       "        vertical-align: middle;\n",
       "    }\n",
       "\n",
       "    .dataframe tbody tr th {\n",
       "        vertical-align: top;\n",
       "    }\n",
       "\n",
       "    .dataframe thead th {\n",
       "        text-align: right;\n",
       "    }\n",
       "</style>\n",
       "<table border=\"1\" class=\"dataframe\">\n",
       "  <thead>\n",
       "    <tr style=\"text-align: right;\">\n",
       "      <th>saldoValidacao</th>\n",
       "      <th>0.0</th>\n",
       "      <th>positivo</th>\n",
       "      <th>negativo</th>\n",
       "    </tr>\n",
       "    <tr>\n",
       "      <th>ticker</th>\n",
       "      <th></th>\n",
       "      <th></th>\n",
       "      <th></th>\n",
       "    </tr>\n",
       "  </thead>\n",
       "  <tbody>\n",
       "    <tr>\n",
       "      <th>AERI3</th>\n",
       "      <td>227.0</td>\n",
       "      <td>72.0</td>\n",
       "      <td>0.0</td>\n",
       "    </tr>\n",
       "    <tr>\n",
       "      <th>ALSO3</th>\n",
       "      <td>21.0</td>\n",
       "      <td>120.0</td>\n",
       "      <td>0.0</td>\n",
       "    </tr>\n",
       "    <tr>\n",
       "      <th>B3SA3</th>\n",
       "      <td>3300.0</td>\n",
       "      <td>405.0</td>\n",
       "      <td>0.0</td>\n",
       "    </tr>\n",
       "    <tr>\n",
       "      <th>BKBR3</th>\n",
       "      <td>705.0</td>\n",
       "      <td>1107.0</td>\n",
       "      <td>0.0</td>\n",
       "    </tr>\n",
       "    <tr>\n",
       "      <th>BRML3</th>\n",
       "      <td>2280.0</td>\n",
       "      <td>72.0</td>\n",
       "      <td>0.0</td>\n",
       "    </tr>\n",
       "    <tr>\n",
       "      <th>ELET3</th>\n",
       "      <td>126.0</td>\n",
       "      <td>435.0</td>\n",
       "      <td>0.0</td>\n",
       "    </tr>\n",
       "    <tr>\n",
       "      <th>ENEV3</th>\n",
       "      <td>302.0</td>\n",
       "      <td>147.0</td>\n",
       "      <td>0.0</td>\n",
       "    </tr>\n",
       "    <tr>\n",
       "      <th>HAPV3</th>\n",
       "      <td>44.0</td>\n",
       "      <td>53.0</td>\n",
       "      <td>0.0</td>\n",
       "    </tr>\n",
       "    <tr>\n",
       "      <th>LIGT3</th>\n",
       "      <td>10.0</td>\n",
       "      <td>306.0</td>\n",
       "      <td>0.0</td>\n",
       "    </tr>\n",
       "    <tr>\n",
       "      <th>MULT3</th>\n",
       "      <td>603.0</td>\n",
       "      <td>416.0</td>\n",
       "      <td>0.0</td>\n",
       "    </tr>\n",
       "    <tr>\n",
       "      <th>RAPT4</th>\n",
       "      <td>983.0</td>\n",
       "      <td>390.0</td>\n",
       "      <td>0.0</td>\n",
       "    </tr>\n",
       "    <tr>\n",
       "      <th>TOTS3</th>\n",
       "      <td>88.0</td>\n",
       "      <td>60.0</td>\n",
       "      <td>0.0</td>\n",
       "    </tr>\n",
       "  </tbody>\n",
       "</table>\n",
       "</div>"
      ],
      "text/plain": [
       "saldoValidacao     0.0  positivo  negativo\n",
       "ticker                                    \n",
       "AERI3            227.0      72.0       0.0\n",
       "ALSO3             21.0     120.0       0.0\n",
       "B3SA3           3300.0     405.0       0.0\n",
       "BKBR3            705.0    1107.0       0.0\n",
       "BRML3           2280.0      72.0       0.0\n",
       "ELET3            126.0     435.0       0.0\n",
       "ENEV3            302.0     147.0       0.0\n",
       "HAPV3             44.0      53.0       0.0\n",
       "LIGT3             10.0     306.0       0.0\n",
       "MULT3            603.0     416.0       0.0\n",
       "RAPT4            983.0     390.0       0.0\n",
       "TOTS3             88.0      60.0       0.0"
      ]
     },
     "execution_count": 55,
     "metadata": {},
     "output_type": "execute_result"
    }
   ],
   "source": [
    "dfBom.head(25)"
   ]
  },
  {
   "cell_type": "markdown",
   "id": "fedb0d2f",
   "metadata": {},
   "source": [
    "# Relacionar isso com os dados de regra-projecao."
   ]
  },
  {
   "cell_type": "markdown",
   "id": "13acabc5",
   "metadata": {},
   "source": [
    "### <<dataframe>>resultadoTickerComRegraProjecao(in regraProjecao, in dataInicio)"
   ]
  },
  {
   "cell_type": "code",
   "execution_count": null,
   "id": "0a4f5091",
   "metadata": {},
   "outputs": [],
   "source": []
  }
 ],
 "metadata": {
  "kernelspec": {
   "display_name": "Python 3 (ipykernel)",
   "language": "python",
   "name": "python3"
  },
  "language_info": {
   "codemirror_mode": {
    "name": "ipython",
    "version": 3
   },
   "file_extension": ".py",
   "mimetype": "text/x-python",
   "name": "python",
   "nbconvert_exporter": "python",
   "pygments_lexer": "ipython3",
   "version": "3.8.10"
  }
 },
 "nbformat": 4,
 "nbformat_minor": 5
}
