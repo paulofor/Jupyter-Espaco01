{
 "cells": [
  {
   "cell_type": "code",
   "execution_count": 1,
   "id": "06f90369",
   "metadata": {},
   "outputs": [],
   "source": [
    "import numpy as np\n",
    "from datetime import datetime\n",
    "import requests\n",
    "import pandas as pd\n",
    "import matplotlib.pyplot as plt"
   ]
  },
  {
   "cell_type": "code",
   "execution_count": null,
   "id": "43f86db4",
   "metadata": {},
   "outputs": [],
   "source": [
    "url = \"http://186.202.57.214:22006/api/ExecucaoSimulacaos/melhorValidacaoPeriodoFlatPorTicker?idPeriodo=9&limitePorTicker=3\""
   ]
  },
  {
   "cell_type": "code",
   "execution_count": null,
   "id": "ba4a7e66",
   "metadata": {},
   "outputs": [],
   "source": [
    "r = requests.get(url)\n",
    "j = r.json()\n",
    "df = pd.DataFrame.from_dict(j)"
   ]
  }
 ],
 "metadata": {
  "kernelspec": {
   "display_name": "Python 3 (ipykernel)",
   "language": "python",
   "name": "python3"
  },
  "language_info": {
   "codemirror_mode": {
    "name": "ipython",
    "version": 3
   },
   "file_extension": ".py",
   "mimetype": "text/x-python",
   "name": "python",
   "nbconvert_exporter": "python",
   "pygments_lexer": "ipython3",
   "version": "3.8.10"
  }
 },
 "nbformat": 4,
 "nbformat_minor": 5
}
