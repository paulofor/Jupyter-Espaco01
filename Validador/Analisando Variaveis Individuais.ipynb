{
 "cells": [
  {
   "cell_type": "code",
   "execution_count": 1,
   "id": "06f90369",
   "metadata": {},
   "outputs": [],
   "source": [
    "import numpy as np\n",
    "from datetime import datetime\n",
    "import requests\n",
    "import pandas as pd\n",
    "import matplotlib.pyplot as plt"
   ]
  },
  {
   "cell_type": "code",
   "execution_count": 4,
   "id": "43f86db4",
   "metadata": {},
   "outputs": [],
   "source": [
    "url = \"http://vps-40d69db1.vps.ovh.ca:23005/api/ExecucaoSimulacaos/melhorValidacaoPeriodoFlatPorTicker?idPeriodo=9&limitePorTicker=3&tipo=V\""
   ]
  },
  {
   "cell_type": "code",
   "execution_count": 5,
   "id": "ba4a7e66",
   "metadata": {},
   "outputs": [],
   "source": [
    "r = requests.get(url)\n",
    "j = r.json()\n",
    "df = pd.DataFrame.from_dict(j)"
   ]
  },
  {
   "cell_type": "code",
   "execution_count": 6,
   "id": "e4f15500",
   "metadata": {},
   "outputs": [
    {
     "data": {
      "text/html": [
       "<div>\n",
       "<style scoped>\n",
       "    .dataframe tbody tr th:only-of-type {\n",
       "        vertical-align: middle;\n",
       "    }\n",
       "\n",
       "    .dataframe tbody tr th {\n",
       "        vertical-align: top;\n",
       "    }\n",
       "\n",
       "    .dataframe thead th {\n",
       "        text-align: right;\n",
       "    }\n",
       "</style>\n",
       "<table border=\"1\" class=\"dataframe\">\n",
       "  <thead>\n",
       "    <tr style=\"text-align: right;\">\n",
       "      <th></th>\n",
       "      <th>simulacaoId</th>\n",
       "      <th>ticker</th>\n",
       "      <th>simulacaoResultado</th>\n",
       "      <th>simulacaoLucro</th>\n",
       "      <th>simulacaoPrejuizo</th>\n",
       "      <th>target</th>\n",
       "      <th>stop</th>\n",
       "      <th>tipo</th>\n",
       "      <th>monitorar</th>\n",
       "      <th>experimentoSimulacaoId</th>\n",
       "      <th>validacaoLucro</th>\n",
       "      <th>validacaoPrejuizo</th>\n",
       "      <th>saldoValidacao</th>\n",
       "    </tr>\n",
       "  </thead>\n",
       "  <tbody>\n",
       "    <tr>\n",
       "      <th>0</th>\n",
       "      <td>10922777</td>\n",
       "      <td>LWSA3</td>\n",
       "      <td>58</td>\n",
       "      <td>3</td>\n",
       "      <td>0</td>\n",
       "      <td>0.16</td>\n",
       "      <td>0.08</td>\n",
       "      <td>V</td>\n",
       "      <td>0</td>\n",
       "      <td>54</td>\n",
       "      <td>0</td>\n",
       "      <td>1</td>\n",
       "      <td>-1</td>\n",
       "    </tr>\n",
       "    <tr>\n",
       "      <th>1</th>\n",
       "      <td>10922552</td>\n",
       "      <td>LWSA3</td>\n",
       "      <td>58</td>\n",
       "      <td>3</td>\n",
       "      <td>0</td>\n",
       "      <td>0.16</td>\n",
       "      <td>0.08</td>\n",
       "      <td>V</td>\n",
       "      <td>0</td>\n",
       "      <td>54</td>\n",
       "      <td>0</td>\n",
       "      <td>0</td>\n",
       "      <td>0</td>\n",
       "    </tr>\n",
       "    <tr>\n",
       "      <th>2</th>\n",
       "      <td>10922302</td>\n",
       "      <td>LWSA3</td>\n",
       "      <td>58</td>\n",
       "      <td>3</td>\n",
       "      <td>0</td>\n",
       "      <td>0.16</td>\n",
       "      <td>0.08</td>\n",
       "      <td>V</td>\n",
       "      <td>0</td>\n",
       "      <td>54</td>\n",
       "      <td>0</td>\n",
       "      <td>1</td>\n",
       "      <td>-1</td>\n",
       "    </tr>\n",
       "    <tr>\n",
       "      <th>3</th>\n",
       "      <td>10855244</td>\n",
       "      <td>ELET3</td>\n",
       "      <td>44</td>\n",
       "      <td>4</td>\n",
       "      <td>0</td>\n",
       "      <td>0.10</td>\n",
       "      <td>0.08</td>\n",
       "      <td>V</td>\n",
       "      <td>1</td>\n",
       "      <td>54</td>\n",
       "      <td>1</td>\n",
       "      <td>1</td>\n",
       "      <td>0</td>\n",
       "    </tr>\n",
       "    <tr>\n",
       "      <th>4</th>\n",
       "      <td>10855219</td>\n",
       "      <td>ELET3</td>\n",
       "      <td>44</td>\n",
       "      <td>4</td>\n",
       "      <td>0</td>\n",
       "      <td>0.10</td>\n",
       "      <td>0.08</td>\n",
       "      <td>V</td>\n",
       "      <td>0</td>\n",
       "      <td>54</td>\n",
       "      <td>1</td>\n",
       "      <td>1</td>\n",
       "      <td>0</td>\n",
       "    </tr>\n",
       "  </tbody>\n",
       "</table>\n",
       "</div>"
      ],
      "text/plain": [
       "   simulacaoId ticker  simulacaoResultado  simulacaoLucro  simulacaoPrejuizo  \\\n",
       "0     10922777  LWSA3                  58               3                  0   \n",
       "1     10922552  LWSA3                  58               3                  0   \n",
       "2     10922302  LWSA3                  58               3                  0   \n",
       "3     10855244  ELET3                  44               4                  0   \n",
       "4     10855219  ELET3                  44               4                  0   \n",
       "\n",
       "   target  stop tipo  monitorar  experimentoSimulacaoId  validacaoLucro  \\\n",
       "0    0.16  0.08    V          0                      54               0   \n",
       "1    0.16  0.08    V          0                      54               0   \n",
       "2    0.16  0.08    V          0                      54               0   \n",
       "3    0.10  0.08    V          1                      54               1   \n",
       "4    0.10  0.08    V          0                      54               1   \n",
       "\n",
       "   validacaoPrejuizo  saldoValidacao  \n",
       "0                  1              -1  \n",
       "1                  0               0  \n",
       "2                  1              -1  \n",
       "3                  1               0  \n",
       "4                  1               0  "
      ]
     },
     "execution_count": 6,
     "metadata": {},
     "output_type": "execute_result"
    }
   ],
   "source": [
    "df.head()"
   ]
  },
  {
   "cell_type": "markdown",
   "id": "399ef8cb",
   "metadata": {},
   "source": [
    "# As 3 Melhores combinações por ticker - venda (periodo: 9)"
   ]
  },
  {
   "cell_type": "code",
   "execution_count": 18,
   "id": "f1ee0b98",
   "metadata": {},
   "outputs": [
    {
     "name": "stdout",
     "output_type": "stream",
     "text": [
      "Quantidade Ticker: 49\n",
      "Quantidade Items: 147\n",
      "Estimada: 49\n"
     ]
    }
   ],
   "source": [
    "print('Quantidade Ticker: %d' % len(df['ticker'].unique()))\n",
    "print('Quantidade Items: %d' % len(df))\n",
    "print('Estimada: %d' % (len(df) / 3))"
   ]
  },
  {
   "cell_type": "code",
   "execution_count": 22,
   "id": "0a4dd15d",
   "metadata": {},
   "outputs": [],
   "source": [
    "dfSaldo = df.groupby('saldoValidacao').count()"
   ]
  },
  {
   "cell_type": "code",
   "execution_count": 23,
   "id": "db8fd3d0",
   "metadata": {},
   "outputs": [
    {
     "data": {
      "text/html": [
       "<div>\n",
       "<style scoped>\n",
       "    .dataframe tbody tr th:only-of-type {\n",
       "        vertical-align: middle;\n",
       "    }\n",
       "\n",
       "    .dataframe tbody tr th {\n",
       "        vertical-align: top;\n",
       "    }\n",
       "\n",
       "    .dataframe thead th {\n",
       "        text-align: right;\n",
       "    }\n",
       "</style>\n",
       "<table border=\"1\" class=\"dataframe\">\n",
       "  <thead>\n",
       "    <tr style=\"text-align: right;\">\n",
       "      <th></th>\n",
       "    </tr>\n",
       "    <tr>\n",
       "      <th>saldoValidacao</th>\n",
       "    </tr>\n",
       "  </thead>\n",
       "  <tbody>\n",
       "    <tr>\n",
       "      <th>-2</th>\n",
       "    </tr>\n",
       "    <tr>\n",
       "      <th>-1</th>\n",
       "    </tr>\n",
       "    <tr>\n",
       "      <th>0</th>\n",
       "    </tr>\n",
       "    <tr>\n",
       "      <th>1</th>\n",
       "    </tr>\n",
       "  </tbody>\n",
       "</table>\n",
       "</div>"
      ],
      "text/plain": [
       "Empty DataFrame\n",
       "Columns: []\n",
       "Index: [-2, -1, 0, 1]"
      ]
     },
     "execution_count": 23,
     "metadata": {},
     "output_type": "execute_result"
    }
   ],
   "source": [
    "dfSaldo = dfSaldo.filter('simulacaoId')\n",
    "dfSaldo.head()"
   ]
  },
  {
   "cell_type": "code",
   "execution_count": null,
   "id": "1826740e",
   "metadata": {},
   "outputs": [],
   "source": []
  }
 ],
 "metadata": {
  "kernelspec": {
   "display_name": "Python 3 (ipykernel)",
   "language": "python",
   "name": "python3"
  },
  "language_info": {
   "codemirror_mode": {
    "name": "ipython",
    "version": 3
   },
   "file_extension": ".py",
   "mimetype": "text/x-python",
   "name": "python",
   "nbconvert_exporter": "python",
   "pygments_lexer": "ipython3",
   "version": "3.8.10"
  }
 },
 "nbformat": 4,
 "nbformat_minor": 5
}
