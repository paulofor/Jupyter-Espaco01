{
 "cells": [
  {
   "cell_type": "markdown",
   "id": "d34e42b0",
   "metadata": {},
   "source": [
    "Períodos: \n",
    "Treino: 08,09,10 \n",
    "Execução: 11,12"
   ]
  },
  {
   "cell_type": "code",
   "execution_count": null,
   "id": "03c9fff8",
   "metadata": {},
   "outputs": [],
   "source": []
  }
 ],
 "metadata": {
  "kernelspec": {
   "display_name": "Python 3 (ipykernel)",
   "language": "python",
   "name": "python3"
  },
  "language_info": {
   "codemirror_mode": {
    "name": "ipython",
    "version": 3
   },
   "file_extension": ".py",
   "mimetype": "text/x-python",
   "name": "python",
   "nbconvert_exporter": "python",
   "pygments_lexer": "ipython3",
   "version": "3.8.10"
  }
 },
 "nbformat": 4,
 "nbformat_minor": 5
}
