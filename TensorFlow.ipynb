{
 "cells": [
  {
   "cell_type": "code",
   "execution_count": 1,
   "id": "2a4fb89d",
   "metadata": {},
   "outputs": [
    {
     "name": "stdout",
     "output_type": "stream",
     "text": [
      "Collecting tensorflow\n",
      "  Downloading tensorflow-2.6.0-cp38-cp38-manylinux2010_x86_64.whl (458.4 MB)\n",
      "\u001b[K     |███████████████████████▉        | 341.2 MB 8.1 MB/s eta 0:00:152   |                                | 245 kB 14.3 MB/s eta 0:00:33     |▏                               | 2.4 MB 14.3 MB/s eta 0:00:32     |▋                               | 8.4 MB 14.3 MB/s eta 0:00:32     |▉                               | 11.3 MB 14.3 MB/s eta 0:00:32     |█                               | 12.9 MB 14.3 MB/s eta 0:00:32     |█▎                              | 18.4 MB 14.3 MB/s eta 0:00:31     |█▊                              | 24.1 MB 23.0 MB/s eta 0:00:19     |██▍                             | 34.2 MB 23.0 MB/s eta 0:00:19     |██▊                             | 39.6 MB 23.0 MB/s eta 0:00:19     |███                             | 42.0 MB 23.0 MB/s eta 0:00:19     |███▍                            | 48.2 MB 15.9 MB/s eta 0:00:26     |███▋                            | 51.1 MB 15.9 MB/s eta 0:00:26     |███▉                            | 55.2 MB 15.9 MB/s eta 0:00:26     |████                            | 56.0 MB 15.9 MB/s eta 0:00:26     |████                            | 58.2 MB 15.9 MB/s eta 0:00:26     |████▍                           | 62.3 MB 15.9 MB/s eta 0:00:25     |████▍                           | 63.3 MB 5.9 MB/s eta 0:01:07     |████▌                           | 64.3 MB 5.9 MB/s eta 0:01:07     |████▊                           | 68.3 MB 5.9 MB/s eta 0:01:06     |█████▎                          | 75.4 MB 5.9 MB/s eta 0:01:05     |█████▌                          | 78.1 MB 5.9 MB/s eta 0:01:05     |█████▊                          | 82.3 MB 4.1 MB/s eta 0:01:33     |██████                          | 84.9 MB 4.1 MB/s eta 0:01:32     |██████▊                         | 95.8 MB 30.9 MB/s eta 0:00:12     |███████                         | 99.2 MB 30.9 MB/s eta 0:00:12     |███████                         | 99.4 MB 30.9 MB/s eta 0:00:12     |███████▎                        | 104.1 MB 30.9 MB/s eta 0:00:12     |███████▌                        | 106.7 MB 30.9 MB/s eta 0:00:12     |███████▋                        | 109.2 MB 1.4 MB/s eta 0:04:04     |███████▊                        | 110.9 MB 1.4 MB/s eta 0:04:03     |████████                        | 113.3 MB 1.4 MB/s eta 0:04:01     |████████                        | 114.1 MB 1.4 MB/s eta 0:04:01     |████████▎                       | 119.2 MB 1.4 MB/s eta 0:03:57     |████████▋                       | 123.8 MB 52.0 MB/s eta 0:00:07     |████████▉                       | 127.1 MB 52.0 MB/s eta 0:00:07     |█████████                       | 127.8 MB 52.0 MB/s eta 0:00:07     |█████████▏                      | 132.0 MB 52.0 MB/s eta 0:00:07��███▍                      | 134.1 MB 52.0 MB/s eta 0:00:07     |█████████▍                      | 134.9 MB 52.0 MB/s eta 0:00:07     |█████████▋                      | 137.7 MB 26.8 MB/s eta 0:00:12     |█████████▋                      | 138.3 MB 26.8 MB/s eta 0:00:12     |██████████                      | 144.5 MB 26.8 MB/s eta 0:00:12     |██████████▎                     | 146.9 MB 26.8 MB/s eta 0:00:12     |██████████▎                     | 147.3 MB 26.8 MB/s eta 0:00:12     |██████████▌                     | 150.7 MB 13.5 MB/s eta 0:00:23     |██████████▋                     | 151.7 MB 13.5 MB/s eta 0:00:23     |██████████▋                     | 152.6 MB 13.5 MB/s eta 0:00:23     |███████████                     | 157.1 MB 13.5 MB/s eta 0:00:23     |███████████                     | 158.2 MB 13.5 MB/s eta 0:00:23     |███████████▏                    | 160.4 MB 13.5 MB/s eta 0:00:23     |███████████▎                    | 161.4 MB 13.5 MB/s eta 0:00:22     |███████████▋                    | 166.6 MB 13.5 MB/s eta 0:00:22     |███████████▊                    | 168.2 MB 13.5 MB/s eta 0:00:22     |████████████▎                   | 176.3 MB 3.1 MB/s eta 0:01:30     |████████████▋                   | 181.1 MB 3.1 MB/s eta 0:01:29     |████████████▊                   | 182.6 MB 3.1 MB/s eta 0:01:28     |█████████████                   | 186.1 MB 61.9 MB/s eta 0:00:05        | 191.6 MB 61.9 MB/s eta 0:00:05     |█████████████▍                  | 192.5 MB 61.9 MB/s eta 0:00:05     |█████████████▌                  | 192.8 MB 61.9 MB/s eta 0:00:05     |█████████████▌                  | 193.3 MB 61.9 MB/s eta 0:00:05     |█████████████▊                  | 196.0 MB 61.9 MB/s eta 0:00:05     |██████████████                  | 201.9 MB 4.2 MB/s eta 0:01:01     |██████████████▍                 | 205.6 MB 4.2 MB/s eta 0:01:00     |██████████████▍                 | 206.2 MB 4.2 MB/s eta 0:01:00     |██████████████▍                 | 206.6 MB 4.2 MB/s eta 0:01:00     |██████████████▌                 | 207.6 MB 4.2 MB/s eta 0:01:00     |██████████████▋                 | 208.9 MB 3.0 MB/s eta 0:01:24     |██████████████▋                 | 209.8 MB 3.0 MB/s eta 0:01:24     |██████████████▊                 | 210.7 MB 3.0 MB/s eta 0:01:24     |███████████████                 | 213.3 MB 3.0 MB/s eta 0:01:23     |███████████████                 | 214.5 MB 3.0 MB/s eta 0:01:23     |███████████████                 | 215.1 MB 3.0 MB/s eta 0:01:22     |███████████████                 | 215.9 MB 3.0 MB/s eta 0:01:22     |███████████████▏                | 216.6 MB 3.0 MB/s eta 0:01:22     |███████████████▏                | 216.7 MB 1.5 MB/s eta 0:02:37     |███████████████▏                | 217.0 MB 1.5 MB/s eta 0:02:36     |███████████████▏                | 217.2 MB 1.5 MB/s eta 0:02:36     |███████████████▎                | 218.7 MB 1.5 MB/s eta 0:02:35     |███████████████▌                | 222.1 MB 1.5 MB/s eta 0:02:33     |████████████████                | 228.2 MB 1.5 MB/s eta 0:02:29     |████████████████                | 229.2 MB 1.5 MB/s eta 0:02:29     |████████████████▏               | 231.4 MB 1.4 MB/s eta 0:02:41     |████████████████▋               | 238.2 MB 1.4 MB/s eta 0:02:37     |████████████████▊               | 238.9 MB 1.4 MB/s eta 0:02:36     |████████████████▉               | 241.2 MB 1.4 MB/s eta 0:02:35     |█████████████████▎              | 247.6 MB 5.5 MB/s eta 0:00:39     |█████████████████▍              | 248.4 MB 5.5 MB/s eta 0:00:38     |██████████████████              | 257.5 MB 5.5 MB/s eta 0:00:37     |██████████████████▎             | 261.6 MB 35.6 MB/s eta 0:00:06     |██████████████████▌             | 265.5 MB 35.6 MB/s eta 0:00:06     |██████████████████▋             | 266.6 MB 35.6 MB/s eta 0:00:06     |██████████████████▊             | 268.4 MB 35.6 MB/s eta 0:00:06     |███████████████████             | 271.0 MB 35.6 MB/s eta 0:00:06     |███████████████████             | 272.1 MB 35.6 MB/s eta 0:00:06     |███████████████████▌            | 279.1 MB 6.0 MB/s eta 0:00:30     |███████████████████▌            | 279.8 MB 6.0 MB/s eta 0:00:30     |███████████████████▋            | 281.5 MB 6.0 MB/s eta 0:00:30     |███████████████████▉            | 284.7 MB 6.0 MB/s eta 0:00:29     |████████████████████            | 287.9 MB 6.0 MB/s eta 0:00:29     |████████████████████▍           | 292.5 MB 44.5 MB/s eta 0:00:04     |████████████████████▌           | 293.2 MB 44.5 MB/s eta 0:00:04     |████████████████████▉           | 298.9 MB 44.5 MB/s eta 0:00:04     |█████████████████████           | 301.2 MB 44.5 MB/s eta 0:00:04     |█████████████████████           | 302.1 MB 44.5 MB/s eta 0:00:04     |█████████████████████▏          | 303.5 MB 44.5 MB/s eta 0:00:04     |█████████████████████▍          | 306.4 MB 5.7 MB/s eta 0:00:27     |██████████████████████▏         | 318.2 MB 5.7 MB/s eta 0:00:25     |██████████████████████▎         | 319.1 MB 5.7 MB/s eta 0:00:25     |██████████████████████▌         | 321.7 MB 5.7 MB/s eta 0:00:25     |██████████████████████▋         | 323.6 MB 10.7 MB/s eta 0:00:13     |██████████████████████▊         | 325.5 MB 10.7 MB/s eta 0:00:13     |██████████████████████▉         | 327.2 MB 10.7 MB/s eta 0:00:13     |███████████████████████         | 329.1 MB 10.7 MB/s eta 0:00:13     |███████████████████████▍        | 334.5 MB 10.7 MB/s eta 0:00:12     |███████████████████████▋        | 337.6 MB 10.7 MB/s eta 0:00:12     |███████████████████████▉        | 340.9 MB 8.1 MB/s eta 0:00:15\u001b[K     |████████████████████████████████| 458.4 MB 1.2 kB/s  eta 0:00:01    |████████████████████████▎       | 347.2 MB 8.1 MB/s eta 0:00:14     |████████████████████████▌       | 350.8 MB 8.1 MB/s eta 0:00:14     |████████████████████████▋       | 352.1 MB 8.1 MB/s eta 0:00:14     |████████████████████████▊       | 354.4 MB 49.8 MB/s eta 0:00:03     |████████████████████████▊       | 354.7 MB 49.8 MB/s eta 0:00:03     |█████████████████████████       | 357.6 MB 49.8 MB/s eta 0:00:03     |█████████████████████████       | 358.2 MB 49.8 MB/s eta 0:00:03��█████████████████████       | 358.3 MB 49.8 MB/s eta 0:00:03     |█████████████████████████▏      | 360.3 MB 49.8 MB/s eta 0:00:02     |█████████████████████████▎      | 362.6 MB 6.9 MB/s eta 0:00:14     |█████████████████████████▍      | 363.6 MB 6.9 MB/s eta 0:00:14     |█████████████████████████▌      | 364.5 MB 6.9 MB/s eta 0:00:14     |█████████████████████████▌      | 365.9 MB 6.9 MB/s eta 0:00:14     |█████████████████████████▋      | 366.4 MB 6.9 MB/s eta 0:00:14     |█████████████████████████▉      | 369.7 MB 5.1 MB/s eta 0:00:18     |██████████████████████████      | 373.0 MB 5.1 MB/s eta 0:00:17     |██████████████████████████▏     | 374.1 MB 5.1 MB/s eta 0:00:17     |██████████████████████████▎     | 376.6 MB 5.1 MB/s eta 0:00:16     |██████████████████████████▎     | 377.0 MB 5.4 MB/s eta 0:00:16     |██████████████████████████▍     | 377.2 MB 5.4 MB/s eta 0:00:16 | 377.7 MB 5.4 MB/s eta 0:00:15     |██████████████████████████▌     | 379.4 MB 5.4 MB/s eta 0:00:15     |██████████████████████████▊     | 382.1 MB 5.4 MB/s eta 0:00:15     |██████████████████████████▊     | 382.9 MB 5.4 MB/s eta 0:00:14     |███████████████████████████     | 386.0 MB 1.2 MB/s eta 0:00:59     |███████████████████████████     | 387.2 MB 1.2 MB/s eta 0:00:58     |███████████████████████████     | 387.3 MB 1.2 MB/s eta 0:00:58     |███████████████████████████     | 387.8 MB 1.2 MB/s eta 0:00:58     |███████████████████████████     | 387.9 MB 1.2 MB/s eta 0:00:58     |███████████████████████████▏    | 388.9 MB 1.2 MB/s eta 0:00:57     |███████████████████████████▎    | 390.0 MB 1.2 MB/s eta 0:00:56     |███████████████████████████▎    | 390.6 MB 1.2 MB/s eta 0:00:55     |███████████████████████████▍    | 392.4 MB 2.0 MB/s eta 0:00:34     |███████████████████████████▌    | 393.1 MB 2.0 MB/s eta 0:00:33     |███████████████████████████▌    | 394.0 MB 2.0 MB/s eta 0:00:33�███████▌    | 394.1 MB 2.0 MB/s eta 0:00:33     |███████████████████████████▋    | 395.4 MB 2.0 MB/s eta 0:00:32��████████▊    | 396.7 MB 2.0 MB/s eta 0:00:32[K     |███████████████████████████▊    | 397.2 MB 2.0 MB/s eta 0:00:31��████████▊    | 397.3 MB 708 kB/s eta 0:01:27     |███████████████████████████▉    | 399.2 MB 708 kB/s eta 0:01:24     |████████████████████████████    | 401.8 MB 708 kB/s eta 0:01:20     |████████████████████████████▏   | 402.9 MB 708 kB/s eta 0:01:19     |████████████████████████████▏   | 403.6 MB 708 kB/s eta 0:01:18     |████████████████████████████▌   | 407.6 MB 12.1 MB/s eta 0:00:05     |████████████████████████████▌   | 408.9 MB 12.1 MB/s eta 0:00:05     |████████████████████████████▊   | 410.7 MB 12.1 MB/s eta 0:00:04     |████████████████████████████▊   | 412.0 MB 12.1 MB/s eta 0:00:04     |████████████████████████████▉   | 412.7 MB 12.1 MB/s eta 0:00:04     |█████████████████████████████   | 415.1 MB 12.1 MB/s eta 0:00:04     |█████████████████████████████   | 415.9 MB 1.2 MB/s eta 0:00:36     |█████████████████████████████   | 416.2 MB 1.2 MB/s eta 0:00:36�███████████████████   | 416.3 MB 1.2 MB/s eta 0:00:36    |█████████████████████████████▎  | 419.8 MB 1.2 MB/s eta 0:00:33     |█████████████████████████████▋  | 424.3 MB 1.2 MB/s eta 0:00:29     |█████████████████████████████▋  | 424.6 MB 7.1 MB/s eta 0:00:05     |█████████████████████████████▊  | 426.0 MB 7.1 MB/s eta 0:00:05     |█████████████████████████████▉  | 427.3 MB 7.1 MB/s eta 0:00:05     |██████████████████████████████▎ | 433.7 MB 7.1 MB/s eta 0:00:04     |██████████████████████████████▌ | 437.7 MB 7.1 MB/s eta 0:00:03     |██████████████████████████████▋ | 438.9 MB 7.1 MB/s eta 0:00:03     |██████████████████████████████▊ | 439.4 MB 7.1 MB/s eta 0:00:03     |██████████████████████████████▊ | 440.3 MB 4.8 MB/s eta 0:00:04     |██████████████████████████████▉ | 442.2 MB 4.8 MB/s eta 0:00:04     |███████████████████████████████ | 442.4 MB 4.8 MB/s eta 0:00:04     |███████████████████████████████ | 443.6 MB 4.8 MB/s eta 0:00:04     |███████████████████████████████▏| 446.7 MB 4.8 MB/s eta 0:00:03     |███████████████████████████████▎| 447.4 MB 4.8 MB/s eta 0:00:03     |███████████████████████████████▌| 450.6 MB 4.8 MB/s eta 0:00:02     |███████████████████████████████▌| 451.6 MB 4.8 MB/s eta 0:00:02     |███████████████████████████████▋| 452.3 MB 28.9 MB/s eta 0:00:01     |███████████████████████████████▋| 453.3 MB 28.9 MB/s eta 0:00:01     |███████████████████████████████▉| 456.0 MB 28.9 MB/s eta 0:00:01\n",
      "\u001b[?25hRequirement already satisfied: wheel~=0.35 in /root/notebook/jupyterenv/lib/python3.8/site-packages (from tensorflow) (0.37.0)\n",
      "Collecting tensorboard~=2.6\n",
      "  Downloading tensorboard-2.7.0-py3-none-any.whl (5.8 MB)\n",
      "\u001b[K     |████████████████████████████████| 5.8 MB 46.4 MB/s eta 0:00:01     |██████████████                  | 2.5 MB 46.4 MB/s eta 0:00:01\n",
      "\u001b[?25hCollecting clang~=5.0\n",
      "  Downloading clang-5.0.tar.gz (30 kB)\n",
      "Collecting numpy~=1.19.2\n",
      "  Downloading numpy-1.19.5-cp38-cp38-manylinux2010_x86_64.whl (14.9 MB)\n",
      "\u001b[K     |████████████████████████████████| 14.9 MB 189 kB/s  eta 0:00:01    |██████████████▎                 | 6.6 MB 26.1 MB/s eta 0:00:01     |███████████████████████████▉    | 12.9 MB 26.1 MB/s eta 0:00:01\n",
      "\u001b[?25hCollecting google-pasta~=0.2\n",
      "  Downloading google_pasta-0.2.0-py3-none-any.whl (57 kB)\n",
      "\u001b[K     |████████████████████████████████| 57 kB 3.9 MB/s  eta 0:00:01\n",
      "\u001b[?25hCollecting absl-py~=0.10\n",
      "  Downloading absl_py-0.15.0-py3-none-any.whl (132 kB)\n",
      "\u001b[K     |████████████████████████████████| 132 kB 26.6 MB/s eta 0:00:01\n",
      "\u001b[?25hCollecting tensorflow-estimator~=2.6\n",
      "  Downloading tensorflow_estimator-2.6.0-py2.py3-none-any.whl (462 kB)\n",
      "\u001b[K     |████████████████████████████████| 462 kB 31.9 MB/s eta 0:00:01\n",
      "\u001b[?25hCollecting astunparse~=1.6.3\n",
      "  Downloading astunparse-1.6.3-py2.py3-none-any.whl (12 kB)\n",
      "Collecting h5py~=3.1.0\n",
      "  Downloading h5py-3.1.0-cp38-cp38-manylinux1_x86_64.whl (4.4 MB)\n",
      "\u001b[K     |████████████████████████████████| 4.4 MB 8.1 MB/s eta 0:00:01     |████████████▊                   | 1.7 MB 8.1 MB/s eta 0:00:01\n",
      "\u001b[?25hCollecting flatbuffers~=1.12.0\n",
      "  Downloading flatbuffers-1.12-py2.py3-none-any.whl (15 kB)\n",
      "Collecting protobuf>=3.9.2\n",
      "  Downloading protobuf-3.19.0-cp38-cp38-manylinux_2_17_x86_64.manylinux2014_x86_64.whl (1.1 MB)\n",
      "\u001b[K     |████████████████████████████████| 1.1 MB 22.7 MB/s eta 0:00:01     |██████▌                         | 215 kB 22.7 MB/s eta 0:00:01\n",
      "\u001b[?25hCollecting termcolor~=1.1.0\n",
      "  Downloading termcolor-1.1.0.tar.gz (3.9 kB)\n",
      "Collecting keras~=2.6\n",
      "  Downloading keras-2.6.0-py2.py3-none-any.whl (1.3 MB)\n",
      "\u001b[K     |████████████████████████████████| 1.3 MB 6.7 MB/s eta 0:00:01\n",
      "\u001b[?25hCollecting keras-preprocessing~=1.1.2\n",
      "  Downloading Keras_Preprocessing-1.1.2-py2.py3-none-any.whl (42 kB)\n",
      "\u001b[K     |████████████████████████████████| 42 kB 1.5 MB/s  eta 0:00:01\n",
      "\u001b[?25hCollecting gast==0.4.0\n",
      "  Downloading gast-0.4.0-py3-none-any.whl (9.8 kB)\n",
      "Collecting six~=1.15.0\n",
      "  Downloading six-1.15.0-py2.py3-none-any.whl (10 kB)\n",
      "Collecting grpcio<2.0,>=1.37.0\n",
      "  Downloading grpcio-1.41.0-cp38-cp38-manylinux_2_17_x86_64.manylinux2014_x86_64.whl (3.9 MB)\n",
      "\u001b[K     |████████████████████████████████| 3.9 MB 13.9 MB/s eta 0:00:01     |█████████████████████           | 2.6 MB 13.9 MB/s eta 0:00:01\n",
      "\u001b[?25hCollecting wrapt~=1.12.1\n",
      "  Downloading wrapt-1.12.1.tar.gz (27 kB)\n",
      "Collecting typing-extensions~=3.7.4\n",
      "  Downloading typing_extensions-3.7.4.3-py3-none-any.whl (22 kB)\n",
      "Collecting opt-einsum~=3.3.0\n",
      "  Downloading opt_einsum-3.3.0-py3-none-any.whl (65 kB)\n",
      "\u001b[K     |████████████████████████████████| 65 kB 4.2 MB/s  eta 0:00:01\n",
      "\u001b[?25hCollecting google-auth-oauthlib<0.5,>=0.4.1\n",
      "  Downloading google_auth_oauthlib-0.4.6-py2.py3-none-any.whl (18 kB)\n"
     ]
    },
    {
     "name": "stdout",
     "output_type": "stream",
     "text": [
      "Collecting tensorboard-plugin-wit>=1.6.0\n",
      "  Downloading tensorboard_plugin_wit-1.8.0-py3-none-any.whl (781 kB)\n",
      "\u001b[K     |████████████████████████████████| 781 kB 21.5 MB/s eta 0:00:01\n",
      "\u001b[?25hCollecting google-auth<3,>=1.6.3\n",
      "  Downloading google_auth-2.3.0-py2.py3-none-any.whl (154 kB)\n",
      "\u001b[K     |████████████████████████████████| 154 kB 40.0 MB/s eta 0:00:01\n",
      "\u001b[?25hRequirement already satisfied: setuptools>=41.0.0 in /root/notebook/jupyterenv/lib/python3.8/site-packages (from tensorboard~=2.6->tensorflow) (58.1.0)\n",
      "Collecting tensorboard-data-server<0.7.0,>=0.6.0\n",
      "  Downloading tensorboard_data_server-0.6.1-py3-none-manylinux2010_x86_64.whl (4.9 MB)\n",
      "\u001b[K     |████████████████████████████████| 4.9 MB 10.6 MB/s eta 0:00:01     |██████████▌                     | 1.6 MB 10.6 MB/s eta 0:00:01     |████████████████████████████████| 4.9 MB 10.6 MB/s \n",
      "\u001b[?25hCollecting requests<3,>=2.21.0\n",
      "  Downloading requests-2.26.0-py2.py3-none-any.whl (62 kB)\n",
      "\u001b[K     |████████████████████████████████| 62 kB 990 kB/s  eta 0:00:01\n",
      "\u001b[?25hCollecting markdown>=2.6.8\n",
      "  Downloading Markdown-3.3.4-py3-none-any.whl (97 kB)\n",
      "\u001b[K     |████████████████████████████████| 97 kB 5.8 MB/s  eta 0:00:01\n",
      "\u001b[?25hCollecting werkzeug>=0.11.15\n",
      "  Downloading Werkzeug-2.0.2-py3-none-any.whl (288 kB)\n",
      "\u001b[K     |████████████████████████████████| 288 kB 34.6 MB/s eta 0:00:01\n",
      "\u001b[?25hCollecting pyasn1-modules>=0.2.1\n",
      "  Downloading pyasn1_modules-0.2.8-py2.py3-none-any.whl (155 kB)\n",
      "\u001b[K     |████████████████████████████████| 155 kB 39.4 MB/s eta 0:00:01\n",
      "\u001b[?25hCollecting cachetools<5.0,>=2.0.0\n",
      "  Downloading cachetools-4.2.4-py3-none-any.whl (10 kB)\n",
      "Collecting rsa<5,>=3.1.4\n",
      "  Downloading rsa-4.7.2-py3-none-any.whl (34 kB)\n",
      "Collecting requests-oauthlib>=0.7.0\n",
      "  Downloading requests_oauthlib-1.3.0-py2.py3-none-any.whl (23 kB)\n",
      "Collecting pyasn1<0.5.0,>=0.4.6\n",
      "  Downloading pyasn1-0.4.8-py2.py3-none-any.whl (77 kB)\n",
      "\u001b[K     |████████████████████████████████| 77 kB 7.0 MB/s  eta 0:00:01\n",
      "\u001b[?25hCollecting urllib3<1.27,>=1.21.1\n",
      "  Downloading urllib3-1.26.7-py2.py3-none-any.whl (138 kB)\n",
      "\u001b[K     |████████████████████████████████| 138 kB 17.5 MB/s eta 0:00:01\n",
      "\u001b[?25hCollecting idna<4,>=2.5\n",
      "  Downloading idna-3.3-py3-none-any.whl (61 kB)\n",
      "\u001b[K     |████████████████████████████████| 61 kB 11.2 MB/s eta 0:00:01\n",
      "\u001b[?25hCollecting certifi>=2017.4.17\n",
      "  Downloading certifi-2021.10.8-py2.py3-none-any.whl (149 kB)\n",
      "\u001b[K     |████████████████████████████████| 149 kB 27.0 MB/s eta 0:00:01\n",
      "\u001b[?25hCollecting charset-normalizer~=2.0.0\n",
      "  Downloading charset_normalizer-2.0.7-py3-none-any.whl (38 kB)\n",
      "Collecting oauthlib>=3.0.0\n",
      "  Downloading oauthlib-3.1.1-py2.py3-none-any.whl (146 kB)\n",
      "\u001b[K     |████████████████████████████████| 146 kB 12.9 MB/s eta 0:00:01\n",
      "\u001b[?25hBuilding wheels for collected packages: clang, termcolor, wrapt\n",
      "  Building wheel for clang (setup.py) ... \u001b[?25ldone\n",
      "\u001b[?25h  Created wheel for clang: filename=clang-5.0-py3-none-any.whl size=30692 sha256=bbf0546cf743a987b6c32c0f972026a8242a80a6ed8b53f56eaa5640a7127c2c\n",
      "  Stored in directory: /root/.cache/pip/wheels/f1/60/77/22b9b5887bd47801796a856f47650d9789c74dc3161a26d608\n",
      "  Building wheel for termcolor (setup.py) ... \u001b[?25ldone\n",
      "\u001b[?25h  Created wheel for termcolor: filename=termcolor-1.1.0-py3-none-any.whl size=4847 sha256=ea9b825e5f136fa344caed56518a423207b37181affa7f81de48bc12d750a502\n",
      "  Stored in directory: /root/.cache/pip/wheels/a0/16/9c/5473df82468f958445479c59e784896fa24f4a5fc024b0f501\n",
      "  Building wheel for wrapt (setup.py) ... \u001b[?25ldone\n",
      "\u001b[?25h  Created wheel for wrapt: filename=wrapt-1.12.1-cp38-cp38-linux_x86_64.whl size=78577 sha256=fec6f3e39e230af306c3c34a318675ad10a25934aeb4cbeae3cbe1cdb71cc134\n",
      "  Stored in directory: /root/.cache/pip/wheels/5f/fd/9e/b6cf5890494cb8ef0b5eaff72e5d55a70fb56316007d6dfe73\n",
      "Successfully built clang termcolor wrapt\n",
      "Installing collected packages: urllib3, pyasn1, idna, charset-normalizer, certifi, rsa, requests, pyasn1-modules, oauthlib, cachetools, six, requests-oauthlib, google-auth, werkzeug, tensorboard-plugin-wit, tensorboard-data-server, protobuf, numpy, markdown, grpcio, google-auth-oauthlib, absl-py, wrapt, typing-extensions, termcolor, tensorflow-estimator, tensorboard, opt-einsum, keras-preprocessing, keras, h5py, google-pasta, gast, flatbuffers, clang, astunparse, tensorflow\n",
      "  Attempting uninstall: six\n",
      "    Found existing installation: six 1.16.0\n",
      "    Uninstalling six-1.16.0:\n",
      "      Successfully uninstalled six-1.16.0\n",
      "  Attempting uninstall: numpy\n",
      "    Found existing installation: numpy 1.21.2\n",
      "    Uninstalling numpy-1.21.2:\n",
      "      Successfully uninstalled numpy-1.21.2\n",
      "Successfully installed absl-py-0.15.0 astunparse-1.6.3 cachetools-4.2.4 certifi-2021.10.8 charset-normalizer-2.0.7 clang-5.0 flatbuffers-1.12 gast-0.4.0 google-auth-2.3.0 google-auth-oauthlib-0.4.6 google-pasta-0.2.0 grpcio-1.41.0 h5py-3.1.0 idna-3.3 keras-2.6.0 keras-preprocessing-1.1.2 markdown-3.3.4 numpy-1.19.5 oauthlib-3.1.1 opt-einsum-3.3.0 protobuf-3.19.0 pyasn1-0.4.8 pyasn1-modules-0.2.8 requests-2.26.0 requests-oauthlib-1.3.0 rsa-4.7.2 six-1.15.0 tensorboard-2.7.0 tensorboard-data-server-0.6.1 tensorboard-plugin-wit-1.8.0 tensorflow-2.6.0 tensorflow-estimator-2.6.0 termcolor-1.1.0 typing-extensions-3.7.4.3 urllib3-1.26.7 werkzeug-2.0.2 wrapt-1.12.1\n",
      "\u001b[33mWARNING: You are using pip version 21.2.4; however, version 21.3 is available.\n",
      "You should consider upgrading via the '/root/notebook/jupyterenv/bin/python -m pip install --upgrade pip' command.\u001b[0m\n",
      "Note: you may need to restart the kernel to use updated packages.\n"
     ]
    }
   ],
   "source": [
    "pip install --upgrade tensorflow"
   ]
  },
  {
   "cell_type": "code",
   "execution_count": 1,
   "id": "cb6d9969",
   "metadata": {},
   "outputs": [
    {
     "name": "stderr",
     "output_type": "stream",
     "text": [
      "2021-11-10 00:49:00.052556: W tensorflow/stream_executor/platform/default/dso_loader.cc:64] Could not load dynamic library 'libcudart.so.11.0'; dlerror: libcudart.so.11.0: cannot open shared object file: No such file or directory\n"
     ]
    }
   ],
   "source": [
    "import tensorflow as tf "
   ]
  },
  {
   "cell_type": "code",
   "execution_count": 3,
   "id": "dc0a977b",
   "metadata": {},
   "outputs": [
    {
     "name": "stdout",
     "output_type": "stream",
     "text": [
      "2.6.1\n"
     ]
    }
   ],
   "source": [
    "print(tf.__version__)"
   ]
  },
  {
   "cell_type": "code",
   "execution_count": 2,
   "id": "1a58ddbf",
   "metadata": {
    "scrolled": true
   },
   "outputs": [
    {
     "name": "stdout",
     "output_type": "stream",
     "text": [
      "Requirement already satisfied: tensorflow in /root/notebook/jupyterenv/lib/python3.8/site-packages (2.6.0)\n",
      "Requirement already satisfied: gast==0.4.0 in /root/notebook/jupyterenv/lib/python3.8/site-packages (from tensorflow) (0.4.0)\n",
      "Requirement already satisfied: six~=1.15.0 in /root/notebook/jupyterenv/lib/python3.8/site-packages (from tensorflow) (1.15.0)\n",
      "Requirement already satisfied: wheel~=0.35 in /root/notebook/jupyterenv/lib/python3.8/site-packages (from tensorflow) (0.37.0)\n",
      "Requirement already satisfied: clang~=5.0 in /root/notebook/jupyterenv/lib/python3.8/site-packages (from tensorflow) (5.0)\n",
      "Requirement already satisfied: google-pasta~=0.2 in /root/notebook/jupyterenv/lib/python3.8/site-packages (from tensorflow) (0.2.0)\n",
      "Requirement already satisfied: tensorflow-estimator~=2.6 in /root/notebook/jupyterenv/lib/python3.8/site-packages (from tensorflow) (2.6.0)\n",
      "Requirement already satisfied: keras-preprocessing~=1.1.2 in /root/notebook/jupyterenv/lib/python3.8/site-packages (from tensorflow) (1.1.2)\n",
      "Requirement already satisfied: tensorboard~=2.6 in /root/notebook/jupyterenv/lib/python3.8/site-packages (from tensorflow) (2.7.0)\n",
      "Requirement already satisfied: typing-extensions~=3.7.4 in /root/notebook/jupyterenv/lib/python3.8/site-packages (from tensorflow) (3.7.4.3)\n",
      "Requirement already satisfied: grpcio<2.0,>=1.37.0 in /root/notebook/jupyterenv/lib/python3.8/site-packages (from tensorflow) (1.41.0)\n",
      "Requirement already satisfied: h5py~=3.1.0 in /root/notebook/jupyterenv/lib/python3.8/site-packages (from tensorflow) (3.1.0)\n",
      "Requirement already satisfied: numpy~=1.19.2 in /root/notebook/jupyterenv/lib/python3.8/site-packages (from tensorflow) (1.19.5)\n",
      "Requirement already satisfied: protobuf>=3.9.2 in /root/notebook/jupyterenv/lib/python3.8/site-packages (from tensorflow) (3.19.0)\n",
      "Requirement already satisfied: termcolor~=1.1.0 in /root/notebook/jupyterenv/lib/python3.8/site-packages (from tensorflow) (1.1.0)\n",
      "Requirement already satisfied: flatbuffers~=1.12.0 in /root/notebook/jupyterenv/lib/python3.8/site-packages (from tensorflow) (1.12)\n",
      "Requirement already satisfied: astunparse~=1.6.3 in /root/notebook/jupyterenv/lib/python3.8/site-packages (from tensorflow) (1.6.3)\n",
      "Requirement already satisfied: wrapt~=1.12.1 in /root/notebook/jupyterenv/lib/python3.8/site-packages (from tensorflow) (1.12.1)\n",
      "Requirement already satisfied: keras~=2.6 in /root/notebook/jupyterenv/lib/python3.8/site-packages (from tensorflow) (2.6.0)\n",
      "Requirement already satisfied: absl-py~=0.10 in /root/notebook/jupyterenv/lib/python3.8/site-packages (from tensorflow) (0.15.0)\n",
      "Requirement already satisfied: opt-einsum~=3.3.0 in /root/notebook/jupyterenv/lib/python3.8/site-packages (from tensorflow) (3.3.0)\n",
      "Requirement already satisfied: werkzeug>=0.11.15 in /root/notebook/jupyterenv/lib/python3.8/site-packages (from tensorboard~=2.6->tensorflow) (2.0.2)\n",
      "Requirement already satisfied: google-auth<3,>=1.6.3 in /root/notebook/jupyterenv/lib/python3.8/site-packages (from tensorboard~=2.6->tensorflow) (2.3.0)\n",
      "Requirement already satisfied: tensorboard-data-server<0.7.0,>=0.6.0 in /root/notebook/jupyterenv/lib/python3.8/site-packages (from tensorboard~=2.6->tensorflow) (0.6.1)\n",
      "Requirement already satisfied: tensorboard-plugin-wit>=1.6.0 in /root/notebook/jupyterenv/lib/python3.8/site-packages (from tensorboard~=2.6->tensorflow) (1.8.0)\n",
      "Requirement already satisfied: requests<3,>=2.21.0 in /root/notebook/jupyterenv/lib/python3.8/site-packages (from tensorboard~=2.6->tensorflow) (2.26.0)\n",
      "Requirement already satisfied: markdown>=2.6.8 in /root/notebook/jupyterenv/lib/python3.8/site-packages (from tensorboard~=2.6->tensorflow) (3.3.4)\n",
      "Requirement already satisfied: google-auth-oauthlib<0.5,>=0.4.1 in /root/notebook/jupyterenv/lib/python3.8/site-packages (from tensorboard~=2.6->tensorflow) (0.4.6)\n",
      "Requirement already satisfied: setuptools>=41.0.0 in /root/notebook/jupyterenv/lib/python3.8/site-packages (from tensorboard~=2.6->tensorflow) (58.1.0)\n",
      "Requirement already satisfied: pyasn1-modules>=0.2.1 in /root/notebook/jupyterenv/lib/python3.8/site-packages (from google-auth<3,>=1.6.3->tensorboard~=2.6->tensorflow) (0.2.8)\n",
      "Requirement already satisfied: rsa<5,>=3.1.4 in /root/notebook/jupyterenv/lib/python3.8/site-packages (from google-auth<3,>=1.6.3->tensorboard~=2.6->tensorflow) (4.7.2)\n",
      "Requirement already satisfied: cachetools<5.0,>=2.0.0 in /root/notebook/jupyterenv/lib/python3.8/site-packages (from google-auth<3,>=1.6.3->tensorboard~=2.6->tensorflow) (4.2.4)\n",
      "Requirement already satisfied: requests-oauthlib>=0.7.0 in /root/notebook/jupyterenv/lib/python3.8/site-packages (from google-auth-oauthlib<0.5,>=0.4.1->tensorboard~=2.6->tensorflow) (1.3.0)\n",
      "Requirement already satisfied: pyasn1<0.5.0,>=0.4.6 in /root/notebook/jupyterenv/lib/python3.8/site-packages (from pyasn1-modules>=0.2.1->google-auth<3,>=1.6.3->tensorboard~=2.6->tensorflow) (0.4.8)\n",
      "Requirement already satisfied: certifi>=2017.4.17 in /root/notebook/jupyterenv/lib/python3.8/site-packages (from requests<3,>=2.21.0->tensorboard~=2.6->tensorflow) (2021.10.8)\n",
      "Requirement already satisfied: urllib3<1.27,>=1.21.1 in /root/notebook/jupyterenv/lib/python3.8/site-packages (from requests<3,>=2.21.0->tensorboard~=2.6->tensorflow) (1.26.7)\n",
      "Requirement already satisfied: idna<4,>=2.5 in /root/notebook/jupyterenv/lib/python3.8/site-packages (from requests<3,>=2.21.0->tensorboard~=2.6->tensorflow) (3.3)\n",
      "Requirement already satisfied: charset-normalizer~=2.0.0 in /root/notebook/jupyterenv/lib/python3.8/site-packages (from requests<3,>=2.21.0->tensorboard~=2.6->tensorflow) (2.0.7)\n",
      "Requirement already satisfied: oauthlib>=3.0.0 in /root/notebook/jupyterenv/lib/python3.8/site-packages (from requests-oauthlib>=0.7.0->google-auth-oauthlib<0.5,>=0.4.1->tensorboard~=2.6->tensorflow) (3.1.1)\n",
      "\u001b[33mWARNING: You are using pip version 21.2.4; however, version 21.3 is available.\n",
      "You should consider upgrading via the '/root/notebook/jupyterenv/bin/python -m pip install --upgrade pip' command.\u001b[0m\n",
      "Note: you may need to restart the kernel to use updated packages.\n"
     ]
    }
   ],
   "source": [
    "pip install tensorflow"
   ]
  },
  {
   "cell_type": "code",
   "execution_count": 1,
   "id": "9cf368d4",
   "metadata": {},
   "outputs": [
    {
     "name": "stderr",
     "output_type": "stream",
     "text": [
      "2021-11-10 00:50:32.678000: W tensorflow/stream_executor/platform/default/dso_loader.cc:64] Could not load dynamic library 'libcudart.so.11.0'; dlerror: libcudart.so.11.0: cannot open shared object file: No such file or directory\n"
     ]
    }
   ],
   "source": [
    "import tensorflow as tf"
   ]
  },
  {
   "cell_type": "code",
   "execution_count": 6,
   "id": "c5724b64",
   "metadata": {},
   "outputs": [
    {
     "name": "stdout",
     "output_type": "stream",
     "text": [
      "\u001b[31mERROR: Could not find a version that satisfies the requirement tensorflow_dataset (from versions: none)\u001b[0m\n",
      "\u001b[31mERROR: No matching distribution found for tensorflow_dataset\u001b[0m\n",
      "\u001b[33mWARNING: You are using pip version 21.2.4; however, version 21.3.1 is available.\n",
      "You should consider upgrading via the '/root/notebook/jupyterenv/bin/python -m pip install --upgrade pip' command.\u001b[0m\n",
      "Note: you may need to restart the kernel to use updated packages.\n"
     ]
    }
   ],
   "source": [
    "pip install -q tensorflow_dataset"
   ]
  },
  {
   "cell_type": "code",
   "execution_count": null,
   "id": "4bff6c76",
   "metadata": {},
   "outputs": [],
   "source": []
  }
 ],
 "metadata": {
  "kernelspec": {
   "display_name": "Python 3 (ipykernel)",
   "language": "python",
   "name": "python3"
  },
  "language_info": {
   "codemirror_mode": {
    "name": "ipython",
    "version": 3
   },
   "file_extension": ".py",
   "mimetype": "text/x-python",
   "name": "python",
   "nbconvert_exporter": "python",
   "pygments_lexer": "ipython3",
   "version": "3.8.10"
  }
 },
 "nbformat": 4,
 "nbformat_minor": 5
}
