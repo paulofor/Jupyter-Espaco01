{
 "cells": [
  {
   "cell_type": "markdown",
   "metadata": {
    "id": "Sftrr2nE5QAd"
   },
   "source": [
    "# Importacoes"
   ]
  },
  {
   "cell_type": "code",
   "execution_count": 1,
   "metadata": {
    "executionInfo": {
     "elapsed": 4791,
     "status": "ok",
     "timestamp": 1675147161661,
     "user": {
      "displayName": "Paulo Alexandre",
      "userId": "14114574883320580151"
     },
     "user_tz": 180
    },
    "id": "Erry9wU55QAm"
   },
   "outputs": [],
   "source": [
    "import tensorflow as tf\n"
   ]
  },
  {
   "cell_type": "code",
   "execution_count": 2,
   "metadata": {
    "colab": {
     "base_uri": "https://localhost:8080/"
    },
    "executionInfo": {
     "elapsed": 421,
     "status": "ok",
     "timestamp": 1675147177168,
     "user": {
      "displayName": "Paulo Alexandre",
      "userId": "14114574883320580151"
     },
     "user_tz": 180
    },
    "id": "8A3lUVku5QAp",
    "outputId": "dd07848b-c5b7-4c6a-a4c5-f33fcebd32f1"
   },
   "outputs": [
    {
     "name": "stdout",
     "output_type": "stream",
     "text": [
      "2.9.2\n"
     ]
    }
   ],
   "source": [
    "print(tf.__version__)\n"
   ]
  },
  {
   "cell_type": "code",
   "execution_count": 19,
   "metadata": {
    "executionInfo": {
     "elapsed": 288,
     "status": "ok",
     "timestamp": 1675148629601,
     "user": {
      "displayName": "Paulo Alexandre",
      "userId": "14114574883320580151"
     },
     "user_tz": 180
    },
    "id": "PcM1a24N5QAr"
   },
   "outputs": [],
   "source": [
    "import requests\n",
    "import pandas as pd\n",
    "import numpy as np\n",
    "import matplotlib.pyplot as plt\n",
    "from tensorflow import keras"
   ]
  },
  {
   "cell_type": "markdown",
   "metadata": {
    "id": "huIjg4lL5QAs"
   },
   "source": [
    "# Conectando com servidor"
   ]
  },
  {
   "cell_type": "code",
   "execution_count": 4,
   "metadata": {
    "executionInfo": {
     "elapsed": 4,
     "status": "ok",
     "timestamp": 1675147274860,
     "user": {
      "displayName": "Paulo Alexandre",
      "userId": "14114574883320580151"
     },
     "user_tz": 180
    },
    "id": "AN3Bj1kw5QAt"
   },
   "outputs": [],
   "source": [
    "diaInicio = '20210301'\n",
    "diaFinal = '20220831'\n",
    "idGrupo = '12'\n",
    "idRegra = '88'\n",
    "idTipo = '3'\n",
    "url = 'http://vps-40d69db1.vps.ovh.ca:23004/api/ExemploTreinoAcaoSaidas/listaParaTreino?diaNumInicio={}&diaNumFinal={}&idGrupoAcao={}&idRegraProjecao={}&idTipoExemplo={}'.format(diaInicio,diaFinal,idGrupo,idRegra,idTipo)\n"
   ]
  },
  {
   "cell_type": "code",
   "execution_count": 5,
   "metadata": {
    "colab": {
     "base_uri": "https://localhost:8080/"
    },
    "executionInfo": {
     "elapsed": 250,
     "status": "ok",
     "timestamp": 1675147278893,
     "user": {
      "displayName": "Paulo Alexandre",
      "userId": "14114574883320580151"
     },
     "user_tz": 180
    },
    "id": "cIP0omZY5QAu",
    "outputId": "adc5e993-0321-4541-b483-3d2dc858838d"
   },
   "outputs": [
    {
     "name": "stdout",
     "output_type": "stream",
     "text": [
      "http://vps-40d69db1.vps.ovh.ca:23004/api/ExemploTreinoAcaoSaidas/listaParaTreino?diaNumInicio=20210301&diaNumFinal=20220831&idGrupoAcao=12&idRegraProjecao=88&idTipoExemplo=3\n"
     ]
    }
   ],
   "source": [
    "print(url)\n"
   ]
  },
  {
   "cell_type": "code",
   "execution_count": 6,
   "metadata": {
    "executionInfo": {
     "elapsed": 17956,
     "status": "ok",
     "timestamp": 1675147299427,
     "user": {
      "displayName": "Paulo Alexandre",
      "userId": "14114574883320580151"
     },
     "user_tz": 180
    },
    "id": "6U93uumn5QAv"
   },
   "outputs": [],
   "source": [
    "r = requests.get(url)\n",
    "j = r.json()\n",
    "df = pd.DataFrame.from_dict(j)\n"
   ]
  },
  {
   "cell_type": "code",
   "execution_count": 7,
   "metadata": {
    "executionInfo": {
     "elapsed": 282,
     "status": "ok",
     "timestamp": 1675147348965,
     "user": {
      "displayName": "Paulo Alexandre",
      "userId": "14114574883320580151"
     },
     "user_tz": 180
    },
    "id": "70ytkMU05QAw"
   },
   "outputs": [],
   "source": [
    "def trataLinhaX(linha):\n",
    "    return np.fromstring(linha['campoX'], dtype=float, sep=',')\n"
   ]
  },
  {
   "cell_type": "code",
   "execution_count": 8,
   "metadata": {
    "colab": {
     "base_uri": "https://localhost:8080/"
    },
    "executionInfo": {
     "elapsed": 1101,
     "status": "ok",
     "timestamp": 1675147352860,
     "user": {
      "displayName": "Paulo Alexandre",
      "userId": "14114574883320580151"
     },
     "user_tz": 180
    },
    "id": "3N1XI0sQ5QAx",
    "outputId": "de855c25-76c0-4177-8795-bcd8f1d49b22"
   },
   "outputs": [
    {
     "data": {
      "text/plain": [
       "(7833, 300)"
      ]
     },
     "execution_count": 8,
     "metadata": {},
     "output_type": "execute_result"
    }
   ],
   "source": [
    "dfTratadoX = df.apply(trataLinhaX, axis='columns')\n",
    "X = np.stack(dfTratadoX.values)\n",
    "X.shape\n"
   ]
  },
  {
   "cell_type": "code",
   "execution_count": 9,
   "metadata": {
    "colab": {
     "base_uri": "https://localhost:8080/"
    },
    "executionInfo": {
     "elapsed": 289,
     "status": "ok",
     "timestamp": 1675147362356,
     "user": {
      "displayName": "Paulo Alexandre",
      "userId": "14114574883320580151"
     },
     "user_tz": 180
    },
    "id": "e2Zuy1UG5QBM",
    "outputId": "e34f4db3-568e-418f-9e76-73b15759a3bf"
   },
   "outputs": [
    {
     "data": {
      "text/plain": [
       "(7833, 1)"
      ]
     },
     "execution_count": 9,
     "metadata": {},
     "output_type": "execute_result"
    }
   ],
   "source": [
    "Y = np.stack(df['campoY'].values)\n",
    "Y = Y.reshape(-1,1)\n",
    "Y.shape\n"
   ]
  },
  {
   "cell_type": "markdown",
   "metadata": {
    "id": "olI3_LmP5QBS"
   },
   "source": [
    "# Minha Rede"
   ]
  },
  {
   "cell_type": "markdown",
   "metadata": {
    "id": "KXkoUECd5QBT"
   },
   "source": [
    "## Estrutra"
   ]
  },
  {
   "cell_type": "code",
   "execution_count": 23,
   "metadata": {
    "colab": {
     "base_uri": "https://localhost:8080/"
    },
    "executionInfo": {
     "elapsed": 299,
     "status": "ok",
     "timestamp": 1675149381145,
     "user": {
      "displayName": "Paulo Alexandre",
      "userId": "14114574883320580151"
     },
     "user_tz": 180
    },
    "id": "GvPjNZ235QBT",
    "outputId": "e177a373-ec5f-48b2-ddf9-2dd3db5bf28b"
   },
   "outputs": [
    {
     "name": "stdout",
     "output_type": "stream",
     "text": [
      "Model: \"sequential_2\"\n",
      "_________________________________________________________________\n",
      " Layer (type)                Output Shape              Param #   \n",
      "=================================================================\n",
      " simple_rnn_2 (SimpleRNN)    (None, 128)               16640     \n",
      "                                                                 \n",
      " dense_4 (Dense)             (None, 1)                 129       \n",
      "                                                                 \n",
      "=================================================================\n",
      "Total params: 16,769\n",
      "Trainable params: 16,769\n",
      "Non-trainable params: 0\n",
      "_________________________________________________________________\n"
     ]
    }
   ],
   "source": [
    "model = tf.keras.Sequential()\n",
    "model.add(tf.keras.layers.SimpleRNN(units=128, input_shape=(300,1), activation='relu'))\n",
    "model.add(tf.keras.layers.Dense(1, activation=\"relu\"))\n",
    "model.summary()\n"
   ]
  },
  {
   "cell_type": "code",
   "execution_count": 37,
   "metadata": {
    "colab": {
     "base_uri": "https://localhost:8080/",
     "height": 312
    },
    "executionInfo": {
     "elapsed": 349,
     "status": "ok",
     "timestamp": 1675149897823,
     "user": {
      "displayName": "Paulo Alexandre",
      "userId": "14114574883320580151"
     },
     "user_tz": 180
    },
    "id": "ZECc0OV3pBJR",
    "outputId": "e5c9a78c-397d-47ab-b046-16f75ee80001"
   },
   "outputs": [
    {
     "data": {
      "image/png": "[encoded data removed]",
      "text/plain": [
       "<IPython.core.display.Image object>"
      ]
     },
     "execution_count": 37,
     "metadata": {},
     "output_type": "execute_result"
    }
   ],
   "source": [
    "keras.utils.plot_model(model, show_shapes=True)"
   ]
  },
  {
   "cell_type": "markdown",
   "metadata": {
    "id": "-kEekaL15QBU"
   },
   "source": [
    "## Compilacao"
   ]
  },
  {
   "cell_type": "code",
   "execution_count": 24,
   "metadata": {
    "executionInfo": {
     "elapsed": 342,
     "status": "ok",
     "timestamp": 1675149401059,
     "user": {
      "displayName": "Paulo Alexandre",
      "userId": "14114574883320580151"
     },
     "user_tz": 180
    },
    "id": "01ZnMeVt5QBU"
   },
   "outputs": [],
   "source": [
    "model.compile(loss='mean_squared_error', optimizer='rmsprop')\n"
   ]
  },
  {
   "cell_type": "markdown",
   "metadata": {
    "id": "UtUEvBCb5QBV"
   },
   "source": [
    "## Fit - Treino"
   ]
  },
  {
   "cell_type": "code",
   "execution_count": 33,
   "metadata": {
    "colab": {
     "base_uri": "https://localhost:8080/"
    },
    "executionInfo": {
     "elapsed": 333,
     "status": "ok",
     "timestamp": 1675149760434,
     "user": {
      "displayName": "Paulo Alexandre",
      "userId": "14114574883320580151"
     },
     "user_tz": 180
    },
    "id": "p0cwq793sGKV",
    "outputId": "0c00fe0b-8634-4c73-df8b-1865c8fe6348"
   },
   "outputs": [
    {
     "data": {
      "text/plain": [
       "(7833, 300, 1)"
      ]
     },
     "execution_count": 33,
     "metadata": {},
     "output_type": "execute_result"
    }
   ],
   "source": [
    "X2 = X.T\n",
    "X2 = X2[np.newaxis,...]\n",
    "X2.T.shape"
   ]
  },
  {
   "cell_type": "code",
   "execution_count": 40,
   "metadata": {
    "colab": {
     "base_uri": "https://localhost:8080/"
    },
    "executionInfo": {
     "elapsed": 713,
     "status": "ok",
     "timestamp": 1675150142710,
     "user": {
      "displayName": "Paulo Alexandre",
      "userId": "14114574883320580151"
     },
     "user_tz": 180
    },
    "id": "OJZ8jknDsHHx",
    "outputId": "b53afdde-c88e-4130-8a5e-767a5d2e5aaf"
   },
   "outputs": [
    {
     "data": {
      "text/plain": [
       "(7833, 1, 1)"
      ]
     },
     "execution_count": 40,
     "metadata": {},
     "output_type": "execute_result"
    }
   ],
   "source": [
    "Y2 = Y.T\n",
    "Y2 = Y2[np.newaxis,...]\n",
    "Y2.T.shape"
   ]
  },
  {
   "cell_type": "code",
   "execution_count": 41,
   "metadata": {
    "colab": {
     "base_uri": "https://localhost:8080/",
     "height": 328
    },
    "executionInfo": {
     "elapsed": 374,
     "status": "error",
     "timestamp": 1675150153365,
     "user": {
      "displayName": "Paulo Alexandre",
      "userId": "14114574883320580151"
     },
     "user_tz": 180
    },
    "id": "AiD9VRBD5QBV",
    "outputId": "9a7f8d71-b859-44b4-f370-d69b821d259e"
   },
   "outputs": [
    {
     "name": "stdout",
     "output_type": "stream",
     "text": [
      "Epoch 1/10\n"
     ]
    },
    {
     "ename": "TypeError",
     "evalue": "ignored",
     "output_type": "error",
     "traceback": [
      "\u001b[0;31m---------------------------------------------------------------------------\u001b[0m",
      "\u001b[0;31mTypeError\u001b[0m                                 Traceback (most recent call last)",
      "\u001b[0;32m<ipython-input-41-b75fc43d883e>\u001b[0m in \u001b[0;36m<module>\u001b[0;34m\u001b[0m\n\u001b[0;32m----> 1\u001b[0;31m \u001b[0mhistory\u001b[0m \u001b[0;34m=\u001b[0m \u001b[0mmodel\u001b[0m\u001b[0;34m.\u001b[0m\u001b[0mfit\u001b[0m\u001b[0;34m(\u001b[0m\u001b[0mx\u001b[0m\u001b[0;34m=\u001b[0m\u001b[0mX2\u001b[0m\u001b[0;34m.\u001b[0m\u001b[0mT\u001b[0m\u001b[0;34m,\u001b[0m\u001b[0my\u001b[0m\u001b[0;34m=\u001b[0m\u001b[0mY2\u001b[0m\u001b[0;34m.\u001b[0m\u001b[0mT\u001b[0m\u001b[0;34m,\u001b[0m\u001b[0mepochs\u001b[0m\u001b[0;34m=\u001b[0m\u001b[0;36m10\u001b[0m\u001b[0;34m,\u001b[0m\u001b[0mverbose\u001b[0m\u001b[0;34m=\u001b[0m\u001b[0;36m2\u001b[0m\u001b[0;34m)\u001b[0m\u001b[0;34m\u001b[0m\u001b[0;34m\u001b[0m\u001b[0m\n\u001b[0m",
      "\u001b[0;32m/usr/local/lib/python3.8/dist-packages/keras/utils/traceback_utils.py\u001b[0m in \u001b[0;36merror_handler\u001b[0;34m(*args, **kwargs)\u001b[0m\n\u001b[1;32m     65\u001b[0m     \u001b[0;32mexcept\u001b[0m \u001b[0mException\u001b[0m \u001b[0;32mas\u001b[0m \u001b[0me\u001b[0m\u001b[0;34m:\u001b[0m  \u001b[0;31m# pylint: disable=broad-except\u001b[0m\u001b[0;34m\u001b[0m\u001b[0;34m\u001b[0m\u001b[0m\n\u001b[1;32m     66\u001b[0m       \u001b[0mfiltered_tb\u001b[0m \u001b[0;34m=\u001b[0m \u001b[0m_process_traceback_frames\u001b[0m\u001b[0;34m(\u001b[0m\u001b[0me\u001b[0m\u001b[0;34m.\u001b[0m\u001b[0m__traceback__\u001b[0m\u001b[0;34m)\u001b[0m\u001b[0;34m\u001b[0m\u001b[0;34m\u001b[0m\u001b[0m\n\u001b[0;32m---> 67\u001b[0;31m       \u001b[0;32mraise\u001b[0m \u001b[0me\u001b[0m\u001b[0;34m.\u001b[0m\u001b[0mwith_traceback\u001b[0m\u001b[0;34m(\u001b[0m\u001b[0mfiltered_tb\u001b[0m\u001b[0;34m)\u001b[0m \u001b[0;32mfrom\u001b[0m \u001b[0;32mNone\u001b[0m\u001b[0;34m\u001b[0m\u001b[0;34m\u001b[0m\u001b[0m\n\u001b[0m\u001b[1;32m     68\u001b[0m     \u001b[0;32mfinally\u001b[0m\u001b[0;34m:\u001b[0m\u001b[0;34m\u001b[0m\u001b[0;34m\u001b[0m\u001b[0m\n\u001b[1;32m     69\u001b[0m       \u001b[0;32mdel\u001b[0m \u001b[0mfiltered_tb\u001b[0m\u001b[0;34m\u001b[0m\u001b[0;34m\u001b[0m\u001b[0m\n",
      "\u001b[0;32m/usr/local/lib/python3.8/dist-packages/tensorflow/python/eager/def_function.py\u001b[0m in \u001b[0;36m_call\u001b[0;34m(self, *args, **kwds)\u001b[0m\n\u001b[1;32m    945\u001b[0m       \u001b[0;31m# In this case we have created variables on the first call, so we run the\u001b[0m\u001b[0;34m\u001b[0m\u001b[0;34m\u001b[0m\u001b[0;34m\u001b[0m\u001b[0m\n\u001b[1;32m    946\u001b[0m       \u001b[0;31m# defunned version which is guaranteed to never create variables.\u001b[0m\u001b[0;34m\u001b[0m\u001b[0;34m\u001b[0m\u001b[0;34m\u001b[0m\u001b[0m\n\u001b[0;32m--> 947\u001b[0;31m       \u001b[0;32mreturn\u001b[0m \u001b[0mself\u001b[0m\u001b[0;34m.\u001b[0m\u001b[0m_stateless_fn\u001b[0m\u001b[0;34m(\u001b[0m\u001b[0;34m*\u001b[0m\u001b[0margs\u001b[0m\u001b[0;34m,\u001b[0m \u001b[0;34m**\u001b[0m\u001b[0mkwds\u001b[0m\u001b[0;34m)\u001b[0m  \u001b[0;31m# pylint: disable=not-callable\u001b[0m\u001b[0;34m\u001b[0m\u001b[0;34m\u001b[0m\u001b[0m\n\u001b[0m\u001b[1;32m    948\u001b[0m     \u001b[0;32melif\u001b[0m \u001b[0mself\u001b[0m\u001b[0;34m.\u001b[0m\u001b[0m_stateful_fn\u001b[0m \u001b[0;32mis\u001b[0m \u001b[0;32mnot\u001b[0m \u001b[0;32mNone\u001b[0m\u001b[0;34m:\u001b[0m\u001b[0;34m\u001b[0m\u001b[0;34m\u001b[0m\u001b[0m\n\u001b[1;32m    949\u001b[0m       \u001b[0;31m# Release the lock early so that multiple threads can perform the call\u001b[0m\u001b[0;34m\u001b[0m\u001b[0;34m\u001b[0m\u001b[0;34m\u001b[0m\u001b[0m\n",
      "\u001b[0;31mTypeError\u001b[0m: 'NoneType' object is not callable"
     ]
    }
   ],
   "source": [
    "history = model.fit(x=X2.T,y=Y2.T,epochs=10,verbose=2)\n"
   ]
  },
  {
   "cell_type": "code",
   "execution_count": null,
   "metadata": {
    "id": "h1xP1tyYpVcZ"
   },
   "outputs": [],
   "source": []
  },
  {
   "cell_type": "markdown",
   "metadata": {
    "id": "cVN9H6c45QBW"
   },
   "source": [
    "## Salva Rede"
   ]
  },
  {
   "cell_type": "code",
   "execution_count": null,
   "metadata": {
    "id": "zx8cC65-5QBW"
   },
   "outputs": [],
   "source": [
    "path='pesos/treino_rede666.h5'\n",
    "model.save(path)\n"
   ]
  },
  {
   "cell_type": "markdown",
   "metadata": {
    "id": "s4QLq71-5QBX"
   },
   "source": [
    "# Enviando Rede"
   ]
  },
  {
   "cell_type": "code",
   "execution_count": null,
   "metadata": {
    "id": "Pqka772Z5QBX"
   },
   "outputs": [],
   "source": [
    "!pip install paramiko\n"
   ]
  },
  {
   "cell_type": "code",
   "execution_count": null,
   "metadata": {
    "id": "U2E81kc-5QBY"
   },
   "outputs": [],
   "source": [
    "import os\n",
    "import paramiko\n"
   ]
  },
  {
   "cell_type": "code",
   "execution_count": null,
   "metadata": {
    "id": "M46wrUQA5QBY"
   },
   "outputs": [],
   "source": [
    "ssh = paramiko.SSHClient()\n",
    "ssh.set_missing_host_key_policy(paramiko.AutoAddPolicy())\n",
    "ssh.connect(\"191.252.219.136\", username=\"root\", password=\"Digicom2004$\")\n",
    "sftp = ssh.open_sftp()\n",
    "sftp.put(\"pesos/treino_rede666.h5\", \"/root/executa-rede/redes/treino_rede666.h5\")\n",
    "sftp.close()\n",
    "ssh.close()\n"
   ]
  },
  {
   "cell_type": "markdown",
   "metadata": {
    "id": "6Eq_3_JX5QBZ"
   },
   "source": [
    "# Registra Treinamento"
   ]
  },
  {
   "cell_type": "code",
   "execution_count": null,
   "metadata": {
    "id": "XVk7Sl6H5QBZ"
   },
   "outputs": [],
   "source": [
    "#import requests\n",
    "url = 'http://vps-40d69db1.vps.ovh.ca:23004/api/TreinoRedes/executouTreinamento'\n",
    "myobj = {'id': 666}\n",
    "x = requests.post(url, json = myobj)\n",
    "print(x.text)\n"
   ]
  }
 ],
 "metadata": {
  "colab": {
   "provenance": []
  },
  "kernelspec": {
   "display_name": "Python 3",
   "language": "python",
   "name": "python3"
  },
  "language_info": {
   "name": " "
  }
 },
 "nbformat": 4,
 "nbformat_minor": 0
}
