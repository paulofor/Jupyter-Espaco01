{
 "cells": [
  {
   "cell_type": "code",
   "execution_count": 1,
   "id": "58e36173",
   "metadata": {},
   "outputs": [
    {
     "name": "stderr",
     "output_type": "stream",
     "text": [
      "2023-01-17 00:54:54.125013: W tensorflow/stream_executor/platform/default/dso_loader.cc:64] Could not load dynamic library 'libcudart.so.11.0'; dlerror: libcudart.so.11.0: cannot open shared object file: No such file or directory\n",
      "2023-01-17 00:54:54.125085: I tensorflow/stream_executor/cuda/cudart_stub.cc:29] Ignore above cudart dlerror if you do not have a GPU set up on your machine.\n"
     ]
    }
   ],
   "source": [
    "import tensorflow as tf"
   ]
  },
  {
   "cell_type": "code",
   "execution_count": 2,
   "id": "31a71424",
   "metadata": {},
   "outputs": [],
   "source": [
    "import requests\n",
    "import pandas as pd\n",
    "import numpy as np"
   ]
  },
  {
   "cell_type": "code",
   "execution_count": 9,
   "id": "59c48cad",
   "metadata": {},
   "outputs": [],
   "source": [
    "data = {'campoX' : ['0.12,0.25,0.18,0.32,0.48,0.45' , \n",
    "                    '0.25,0.13,0.07,0.15,0.03,0.18', \n",
    "                    '0.45,0.35,0.55,0.18,0.25,0.13', \n",
    "                    '0.35,0.37,0.56,0.45,0.6,0.61'],\n",
    "        'campoY' : [1,0,0,1] }\n",
    "df = pd.DataFrame(data)"
   ]
  },
  {
   "cell_type": "code",
   "execution_count": 10,
   "id": "82747a2e",
   "metadata": {},
   "outputs": [],
   "source": [
    "def trataLinhaX(linha):\n",
    "    return np.fromstring(linha['campoX'], dtype=float, sep=',')"
   ]
  },
  {
   "cell_type": "code",
   "execution_count": 11,
   "id": "466bb9dc",
   "metadata": {},
   "outputs": [
    {
     "data": {
      "text/plain": [
       "(4, 6)"
      ]
     },
     "execution_count": 11,
     "metadata": {},
     "output_type": "execute_result"
    }
   ],
   "source": [
    "dfTratadoX = df.apply(trataLinhaX, axis='columns')\n",
    "X = np.stack(dfTratadoX.values)\n",
    "X.shape"
   ]
  },
  {
   "cell_type": "code",
   "execution_count": 12,
   "id": "26208d59",
   "metadata": {},
   "outputs": [
    {
     "data": {
      "text/plain": [
       "(4, 1)"
      ]
     },
     "execution_count": 12,
     "metadata": {},
     "output_type": "execute_result"
    }
   ],
   "source": [
    "Y = np.stack(df['campoY'].values)\n",
    "Y = Y.reshape(-1,1)\n",
    "Y.shape"
   ]
  },
  {
   "cell_type": "code",
   "execution_count": 68,
   "id": "d448eee2",
   "metadata": {},
   "outputs": [
    {
     "name": "stdout",
     "output_type": "stream",
     "text": [
      "Model: \"sequential_6\"\n",
      "_________________________________________________________________\n",
      " Layer (type)                Output Shape              Param #   \n",
      "=================================================================\n",
      " simple_rnn_1 (SimpleRNN)    (None, 32)                1088      \n",
      "                                                                 \n",
      " dense_12 (Dense)            (None, 8)                 264       \n",
      "                                                                 \n",
      " dense_13 (Dense)            (None, 1)                 9         \n",
      "                                                                 \n",
      "=================================================================\n",
      "Total params: 1,361\n",
      "Trainable params: 1,361\n",
      "Non-trainable params: 0\n",
      "_________________________________________________________________\n"
     ]
    }
   ],
   "source": [
    "model = tf.keras.Sequential()\n",
    "model.add(tf.keras.layers.SimpleRNN(units=32, input_shape=(1,6), activation=\"relu\"))\n",
    "model.add(tf.keras.layers.Dense(8, activation=\"relu\")) \n",
    "model.add(tf.keras.layers.Dense(1))\n",
    "model.compile(loss='mean_squared_error', optimizer='rmsprop')\n",
    "model.summary()"
   ]
  },
  {
   "cell_type": "code",
   "execution_count": 69,
   "id": "07d6a9e7",
   "metadata": {},
   "outputs": [],
   "source": [
    "from tensorflow.keras.optimizers import RMSprop\n",
    "\n",
    "model.compile(loss='binary_crossentropy',\n",
    "                optimizer=RMSprop(learning_rate=1e-4),\n",
    "                metrics=['accuracy'])"
   ]
  },
  {
   "cell_type": "code",
   "execution_count": 70,
   "id": "cd7684e2",
   "metadata": {},
   "outputs": [],
   "source": [
    "X2 =  X[...,None]"
   ]
  },
  {
   "cell_type": "code",
   "execution_count": 71,
   "id": "413cc903",
   "metadata": {},
   "outputs": [
    {
     "name": "stdout",
     "output_type": "stream",
     "text": [
      "Epoch 1/10\n",
      "1/1 - 7s - loss: 1.1619 - accuracy: 0.5000 - 7s/epoch - 7s/step\n",
      "Epoch 2/10\n",
      "1/1 - 0s - loss: 1.1309 - accuracy: 0.5000 - 38ms/epoch - 38ms/step\n",
      "Epoch 3/10\n",
      "1/1 - 0s - loss: 1.1104 - accuracy: 0.5000 - 9ms/epoch - 9ms/step\n",
      "Epoch 4/10\n",
      "1/1 - 0s - loss: 1.0942 - accuracy: 0.5000 - 5ms/epoch - 5ms/step\n",
      "Epoch 5/10\n",
      "1/1 - 0s - loss: 1.0806 - accuracy: 0.5000 - 6ms/epoch - 6ms/step\n",
      "Epoch 6/10\n",
      "1/1 - 0s - loss: 1.0687 - accuracy: 0.5000 - 8ms/epoch - 8ms/step\n",
      "Epoch 7/10\n",
      "1/1 - 0s - loss: 1.0579 - accuracy: 0.5000 - 6ms/epoch - 6ms/step\n",
      "Epoch 8/10\n",
      "1/1 - 0s - loss: 1.0480 - accuracy: 0.5000 - 6ms/epoch - 6ms/step\n",
      "Epoch 9/10\n",
      "1/1 - 0s - loss: 1.0387 - accuracy: 0.5000 - 5ms/epoch - 5ms/step\n",
      "Epoch 10/10\n",
      "1/1 - 0s - loss: 1.0296 - accuracy: 0.5000 - 5ms/epoch - 5ms/step\n"
     ]
    }
   ],
   "source": [
    "history = model.fit(x=X2.T,y=Y,\n",
    "                    epochs=10,\n",
    "                    verbose=2)"
   ]
  },
  {
   "cell_type": "code",
   "execution_count": 72,
   "id": "d624c925",
   "metadata": {},
   "outputs": [
    {
     "name": "stdout",
     "output_type": "stream",
     "text": [
      "<class 'numpy.ndarray'>\n"
     ]
    }
   ],
   "source": [
    "print(type(X))"
   ]
  },
  {
   "cell_type": "code",
   "execution_count": 73,
   "id": "d9773035",
   "metadata": {},
   "outputs": [],
   "source": [
    "previsao = np.array([[0.1, 0.2, 0.3, 0.4,0.5,0.6]])"
   ]
  },
  {
   "cell_type": "code",
   "execution_count": 74,
   "id": "b231d329",
   "metadata": {},
   "outputs": [
    {
     "name": "stdout",
     "output_type": "stream",
     "text": [
      "[[0.1 0.2 0.3 0.4 0.5 0.6]]\n"
     ]
    }
   ],
   "source": [
    "print(previsao)"
   ]
  },
  {
   "cell_type": "code",
   "execution_count": 75,
   "id": "28dc08cd",
   "metadata": {},
   "outputs": [
    {
     "name": "stdout",
     "output_type": "stream",
     "text": [
      "WARNING:tensorflow:6 out of the last 6 calls to <function Model.make_predict_function.<locals>.predict_function at 0x7fab3ea579d0> triggered tf.function retracing. Tracing is expensive and the excessive number of tracings could be due to (1) creating @tf.function repeatedly in a loop, (2) passing tensors with different shapes, (3) passing Python objects instead of tensors. For (1), please define your @tf.function outside of the loop. For (2), @tf.function has experimental_relax_shapes=True option that relaxes argument shapes that can avoid unnecessary retracing. For (3), please refer to https://www.tensorflow.org/guide/function#controlling_retracing and https://www.tensorflow.org/api_docs/python/tf/function for  more details.\n"
     ]
    },
    {
     "data": {
      "text/plain": [
       "array([[0.12695576]], dtype=float32)"
      ]
     },
     "execution_count": 75,
     "metadata": {},
     "output_type": "execute_result"
    }
   ],
   "source": [
    "model.predict(previsao)"
   ]
  },
  {
   "cell_type": "code",
   "execution_count": null,
   "id": "e7cc1304",
   "metadata": {},
   "outputs": [],
   "source": []
  }
 ],
 "metadata": {
  "kernelspec": {
   "display_name": "Python 3 (ipykernel)",
   "language": "python",
   "name": "python3"
  },
  "language_info": {
   "codemirror_mode": {
    "name": "ipython",
    "version": 3
   },
   "file_extension": ".py",
   "mimetype": "text/x-python",
   "name": "python",
   "nbconvert_exporter": "python",
   "pygments_lexer": "ipython3",
   "version": "3.8.10"
  }
 },
 "nbformat": 4,
 "nbformat_minor": 5
}
