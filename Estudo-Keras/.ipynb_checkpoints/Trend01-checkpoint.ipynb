{
 "cells": [
  {
   "cell_type": "code",
   "execution_count": null,
   "id": "cfffe33c",
   "metadata": {},
   "outputs": [],
   "source": [
    "import tensorflow as tf"
   ]
  },
  {
   "cell_type": "code",
   "execution_count": null,
   "id": "b09ac9fe",
   "metadata": {},
   "outputs": [],
   "source": [
    "import requests\n",
    "import pandas as pd\n",
    "import numpy as np"
   ]
  },
  {
   "cell_type": "code",
   "execution_count": null,
   "id": "8da5cb44",
   "metadata": {},
   "outputs": [],
   "source": [
    "data = {'campox' : ['0.12,0.25,0.18,0.32,0.48,0.45' , \n",
    "                    '0.25,0.13,0.07,0.15,0.03,0.18', \n",
    "                    '0.45,0.35,0.55,0.18,0.25,0.13', \n",
    "                    '0.35,0.37,0.56,0.45,0.6,0.61'],\n",
    "        'campoY' : [1,0,0,1] }"
   ]
  }
 ],
 "metadata": {
  "kernelspec": {
   "display_name": "Python 3 (ipykernel)",
   "language": "python",
   "name": "python3"
  },
  "language_info": {
   "codemirror_mode": {
    "name": "ipython",
    "version": 3
   },
   "file_extension": ".py",
   "mimetype": "text/x-python",
   "name": "python",
   "nbconvert_exporter": "python",
   "pygments_lexer": "ipython3",
   "version": "3.8.10"
  }
 },
 "nbformat": 4,
 "nbformat_minor": 5
}
