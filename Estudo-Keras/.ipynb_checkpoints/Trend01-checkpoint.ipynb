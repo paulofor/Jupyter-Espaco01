{
 "cells": [
  {
   "cell_type": "code",
   "execution_count": 1,
   "id": "58e36173",
   "metadata": {},
   "outputs": [
    {
     "name": "stderr",
     "output_type": "stream",
     "text": [
      "2023-01-17 00:54:54.125013: W tensorflow/stream_executor/platform/default/dso_loader.cc:64] Could not load dynamic library 'libcudart.so.11.0'; dlerror: libcudart.so.11.0: cannot open shared object file: No such file or directory\n",
      "2023-01-17 00:54:54.125085: I tensorflow/stream_executor/cuda/cudart_stub.cc:29] Ignore above cudart dlerror if you do not have a GPU set up on your machine.\n"
     ]
    }
   ],
   "source": [
    "import tensorflow as tf"
   ]
  },
  {
   "cell_type": "code",
   "execution_count": 2,
   "id": "31a71424",
   "metadata": {},
   "outputs": [],
   "source": [
    "import requests\n",
    "import pandas as pd\n",
    "import numpy as np"
   ]
  },
  {
   "cell_type": "code",
   "execution_count": 9,
   "id": "59c48cad",
   "metadata": {},
   "outputs": [],
   "source": [
    "data = {'campoX' : ['0.12,0.25,0.18,0.32,0.48,0.45' , \n",
    "                    '0.25,0.13,0.07,0.15,0.03,0.18', \n",
    "                    '0.45,0.35,0.55,0.18,0.25,0.13', \n",
    "                    '0.35,0.37,0.56,0.45,0.6,0.61'],\n",
    "        'campoY' : [1,0,0,1] }\n",
    "df = pd.DataFrame(data)"
   ]
  },
  {
   "cell_type": "code",
   "execution_count": 10,
   "id": "82747a2e",
   "metadata": {},
   "outputs": [],
   "source": [
    "def trataLinhaX(linha):\n",
    "    return np.fromstring(linha['campoX'], dtype=float, sep=',')"
   ]
  },
  {
   "cell_type": "code",
   "execution_count": 11,
   "id": "466bb9dc",
   "metadata": {},
   "outputs": [
    {
     "data": {
      "text/plain": [
       "(4, 6)"
      ]
     },
     "execution_count": 11,
     "metadata": {},
     "output_type": "execute_result"
    }
   ],
   "source": [
    "dfTratadoX = df.apply(trataLinhaX, axis='columns')\n",
    "X = np.stack(dfTratadoX.values)\n",
    "X.shape"
   ]
  },
  {
   "cell_type": "code",
   "execution_count": 12,
   "id": "26208d59",
   "metadata": {},
   "outputs": [
    {
     "data": {
      "text/plain": [
       "(4, 1)"
      ]
     },
     "execution_count": 12,
     "metadata": {},
     "output_type": "execute_result"
    }
   ],
   "source": [
    "Y = np.stack(df['campoY'].values)\n",
    "Y = Y.reshape(-1,1)\n",
    "Y.shape"
   ]
  },
  {
   "cell_type": "code",
   "execution_count": 37,
   "id": "d448eee2",
   "metadata": {},
   "outputs": [
    {
     "name": "stdout",
     "output_type": "stream",
     "text": [
      "Model: \"sequential_2\"\n",
      "_________________________________________________________________\n",
      " Layer (type)                Output Shape              Param #   \n",
      "=================================================================\n",
      " conv1d_2 (Conv1D)           (None, 3, 8)              40        \n",
      "                                                                 \n",
      " flatten_2 (Flatten)         (None, 24)                0         \n",
      "                                                                 \n",
      " dense_4 (Dense)             (None, 10)                250       \n",
      "                                                                 \n",
      " dense_5 (Dense)             (None, 1)                 11        \n",
      "                                                                 \n",
      "=================================================================\n",
      "Total params: 301\n",
      "Trainable params: 301\n",
      "Non-trainable params: 0\n",
      "_________________________________________________________________\n"
     ]
    }
   ],
   "source": [
    "model = tf.keras.Sequential()\n",
    "model.add(tf.keras.layers.Conv1D(filters=16, kernel_size=2, activation='relu',input_shape=(6,1)))\n",
    "model.add(tf.keras.layers.Flatten())\n",
    "model.add(tf.keras.layers.Dense(20, activation='relu'))\n",
    "model.add(tf.keras.layers.Dense(1, activation='sigmoid'))\n",
    "model.summary()"
   ]
  },
  {
   "cell_type": "code",
   "execution_count": 38,
   "id": "07d6a9e7",
   "metadata": {},
   "outputs": [],
   "source": [
    "from tensorflow.keras.optimizers import RMSprop\n",
    "\n",
    "model.compile(loss='binary_crossentropy',\n",
    "                optimizer=RMSprop(learning_rate=1e-4),\n",
    "                metrics=['accuracy'])"
   ]
  },
  {
   "cell_type": "code",
   "execution_count": 39,
   "id": "cd7684e2",
   "metadata": {},
   "outputs": [],
   "source": [
    "X2 =  X[...,None]"
   ]
  },
  {
   "cell_type": "code",
   "execution_count": 40,
   "id": "413cc903",
   "metadata": {},
   "outputs": [
    {
     "name": "stdout",
     "output_type": "stream",
     "text": [
      "Epoch 1/10\n",
      "1/1 - 1s - loss: 0.7072 - accuracy: 0.5000 - 1s/epoch - 1s/step\n",
      "Epoch 2/10\n",
      "1/1 - 0s - loss: 0.7067 - accuracy: 0.5000 - 7ms/epoch - 7ms/step\n",
      "Epoch 3/10\n",
      "1/1 - 0s - loss: 0.7063 - accuracy: 0.5000 - 5ms/epoch - 5ms/step\n",
      "Epoch 4/10\n",
      "1/1 - 0s - loss: 0.7060 - accuracy: 0.5000 - 4ms/epoch - 4ms/step\n",
      "Epoch 5/10\n",
      "1/1 - 0s - loss: 0.7057 - accuracy: 0.5000 - 4ms/epoch - 4ms/step\n",
      "Epoch 6/10\n",
      "1/1 - 0s - loss: 0.7054 - accuracy: 0.5000 - 5ms/epoch - 5ms/step\n",
      "Epoch 7/10\n",
      "1/1 - 0s - loss: 0.7052 - accuracy: 0.5000 - 4ms/epoch - 4ms/step\n",
      "Epoch 8/10\n",
      "1/1 - 0s - loss: 0.7050 - accuracy: 0.5000 - 4ms/epoch - 4ms/step\n",
      "Epoch 9/10\n",
      "1/1 - 0s - loss: 0.7048 - accuracy: 0.5000 - 3ms/epoch - 3ms/step\n",
      "Epoch 10/10\n",
      "1/1 - 0s - loss: 0.7045 - accuracy: 0.5000 - 3ms/epoch - 3ms/step\n"
     ]
    }
   ],
   "source": [
    "history = model.fit(x=X2,y=Y,\n",
    "                    epochs=10,\n",
    "                    verbose=2)"
   ]
  },
  {
   "cell_type": "code",
   "execution_count": 41,
   "id": "d624c925",
   "metadata": {},
   "outputs": [
    {
     "name": "stdout",
     "output_type": "stream",
     "text": [
      "<class 'numpy.ndarray'>\n"
     ]
    }
   ],
   "source": [
    "print(type(X))"
   ]
  },
  {
   "cell_type": "code",
   "execution_count": 42,
   "id": "076aef54",
   "metadata": {},
   "outputs": [],
   "source": [
    "previsao = np.array([[0.1, 0.2, 0.3, 0.4,0.5,0.6]])"
   ]
  },
  {
   "cell_type": "code",
   "execution_count": 43,
   "id": "678c8ef3",
   "metadata": {},
   "outputs": [
    {
     "name": "stdout",
     "output_type": "stream",
     "text": [
      "[[0.1 0.2 0.3 0.4 0.5 0.6]]\n"
     ]
    }
   ],
   "source": [
    "print(previsao)"
   ]
  },
  {
   "cell_type": "code",
   "execution_count": 44,
   "id": "3600d0b3",
   "metadata": {},
   "outputs": [
    {
     "data": {
      "text/plain": [
       "array([[0.47591388]], dtype=float32)"
      ]
     },
     "execution_count": 44,
     "metadata": {},
     "output_type": "execute_result"
    }
   ],
   "source": [
    "model.predict(previsao)"
   ]
  },
  {
   "cell_type": "code",
   "execution_count": null,
   "id": "91849f74",
   "metadata": {},
   "outputs": [],
   "source": []
  }
 ],
 "metadata": {
  "kernelspec": {
   "display_name": "Python 3 (ipykernel)",
   "language": "python",
   "name": "python3"
  },
  "language_info": {
   "codemirror_mode": {
    "name": "ipython",
    "version": 3
   },
   "file_extension": ".py",
   "mimetype": "text/x-python",
   "name": "python",
   "nbconvert_exporter": "python",
   "pygments_lexer": "ipython3",
   "version": "3.8.10"
  }
 },
 "nbformat": 4,
 "nbformat_minor": 5
}
