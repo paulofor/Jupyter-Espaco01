{
 "cells": [
  {
   "cell_type": "markdown",
   "metadata": {
    "id": "Sftrr2nE5QAd"
   },
   "source": [
    "# Importacoes"
   ]
  },
  {
   "cell_type": "code",
   "execution_count": 1,
   "metadata": {
    "executionInfo": {
     "elapsed": 4791,
     "status": "ok",
     "timestamp": 1675147161661,
     "user": {
      "displayName": "Paulo Alexandre",
      "userId": "14114574883320580151"
     },
     "user_tz": 180
    },
    "id": "Erry9wU55QAm"
   },
   "outputs": [
    {
     "name": "stderr",
     "output_type": "stream",
     "text": [
      "2023-01-31 11:51:34.072078: W tensorflow/stream_executor/platform/default/dso_loader.cc:64] Could not load dynamic library 'libcudart.so.11.0'; dlerror: libcudart.so.11.0: cannot open shared object file: No such file or directory\n",
      "2023-01-31 11:51:34.072167: I tensorflow/stream_executor/cuda/cudart_stub.cc:29] Ignore above cudart dlerror if you do not have a GPU set up on your machine.\n"
     ]
    }
   ],
   "source": [
    "import tensorflow as tf\n"
   ]
  },
  {
   "cell_type": "code",
   "execution_count": 2,
   "metadata": {
    "colab": {
     "base_uri": "https://localhost:8080/"
    },
    "executionInfo": {
     "elapsed": 421,
     "status": "ok",
     "timestamp": 1675147177168,
     "user": {
      "displayName": "Paulo Alexandre",
      "userId": "14114574883320580151"
     },
     "user_tz": 180
    },
    "id": "8A3lUVku5QAp",
    "outputId": "dd07848b-c5b7-4c6a-a4c5-f33fcebd32f1"
   },
   "outputs": [
    {
     "name": "stdout",
     "output_type": "stream",
     "text": [
      "2.7.0\n"
     ]
    }
   ],
   "source": [
    "print(tf.__version__)\n"
   ]
  },
  {
   "cell_type": "code",
   "execution_count": 3,
   "metadata": {
    "executionInfo": {
     "elapsed": 288,
     "status": "ok",
     "timestamp": 1675148629601,
     "user": {
      "displayName": "Paulo Alexandre",
      "userId": "14114574883320580151"
     },
     "user_tz": 180
    },
    "id": "PcM1a24N5QAr"
   },
   "outputs": [],
   "source": [
    "import requests\n",
    "import pandas as pd\n",
    "import numpy as np\n",
    "import matplotlib.pyplot as plt\n",
    "from tensorflow import keras"
   ]
  },
  {
   "cell_type": "markdown",
   "metadata": {
    "id": "huIjg4lL5QAs"
   },
   "source": [
    "# Conectando com servidor"
   ]
  },
  {
   "cell_type": "code",
   "execution_count": 4,
   "metadata": {
    "executionInfo": {
     "elapsed": 4,
     "status": "ok",
     "timestamp": 1675147274860,
     "user": {
      "displayName": "Paulo Alexandre",
      "userId": "14114574883320580151"
     },
     "user_tz": 180
    },
    "id": "AN3Bj1kw5QAt"
   },
   "outputs": [],
   "source": [
    "diaInicio = '20210301'\n",
    "diaFinal = '20220831'\n",
    "idGrupo = '12'\n",
    "idRegra = '88'\n",
    "idTipo = '3'\n",
    "url = 'http://vps-40d69db1.vps.ovh.ca:23004/api/ExemploTreinoAcaoSaidas/listaParaTreino?diaNumInicio={}&diaNumFinal={}&idGrupoAcao={}&idRegraProjecao={}&idTipoExemplo={}'.format(diaInicio,diaFinal,idGrupo,idRegra,idTipo)\n"
   ]
  },
  {
   "cell_type": "code",
   "execution_count": 5,
   "metadata": {
    "colab": {
     "base_uri": "https://localhost:8080/"
    },
    "executionInfo": {
     "elapsed": 250,
     "status": "ok",
     "timestamp": 1675147278893,
     "user": {
      "displayName": "Paulo Alexandre",
      "userId": "14114574883320580151"
     },
     "user_tz": 180
    },
    "id": "cIP0omZY5QAu",
    "outputId": "adc5e993-0321-4541-b483-3d2dc858838d"
   },
   "outputs": [
    {
     "name": "stdout",
     "output_type": "stream",
     "text": [
      "http://vps-40d69db1.vps.ovh.ca:23004/api/ExemploTreinoAcaoSaidas/listaParaTreino?diaNumInicio=20210301&diaNumFinal=20220831&idGrupoAcao=12&idRegraProjecao=88&idTipoExemplo=3\n"
     ]
    }
   ],
   "source": [
    "print(url)\n"
   ]
  },
  {
   "cell_type": "code",
   "execution_count": 6,
   "metadata": {
    "executionInfo": {
     "elapsed": 17956,
     "status": "ok",
     "timestamp": 1675147299427,
     "user": {
      "displayName": "Paulo Alexandre",
      "userId": "14114574883320580151"
     },
     "user_tz": 180
    },
    "id": "6U93uumn5QAv"
   },
   "outputs": [],
   "source": [
    "r = requests.get(url)\n",
    "j = r.json()\n",
    "df = pd.DataFrame.from_dict(j)\n"
   ]
  },
  {
   "cell_type": "code",
   "execution_count": 7,
   "metadata": {
    "executionInfo": {
     "elapsed": 282,
     "status": "ok",
     "timestamp": 1675147348965,
     "user": {
      "displayName": "Paulo Alexandre",
      "userId": "14114574883320580151"
     },
     "user_tz": 180
    },
    "id": "70ytkMU05QAw"
   },
   "outputs": [],
   "source": [
    "def trataLinhaX(linha):\n",
    "    return np.fromstring(linha['campoX'], dtype=float, sep=',')\n"
   ]
  },
  {
   "cell_type": "code",
   "execution_count": 8,
   "metadata": {
    "colab": {
     "base_uri": "https://localhost:8080/"
    },
    "executionInfo": {
     "elapsed": 1101,
     "status": "ok",
     "timestamp": 1675147352860,
     "user": {
      "displayName": "Paulo Alexandre",
      "userId": "14114574883320580151"
     },
     "user_tz": 180
    },
    "id": "3N1XI0sQ5QAx",
    "outputId": "de855c25-76c0-4177-8795-bcd8f1d49b22"
   },
   "outputs": [
    {
     "data": {
      "text/plain": [
       "(7833, 300)"
      ]
     },
     "execution_count": 8,
     "metadata": {},
     "output_type": "execute_result"
    }
   ],
   "source": [
    "dfTratadoX = df.apply(trataLinhaX, axis='columns')\n",
    "X = np.stack(dfTratadoX.values)\n",
    "X.shape\n"
   ]
  },
  {
   "cell_type": "code",
   "execution_count": 9,
   "metadata": {
    "colab": {
     "base_uri": "https://localhost:8080/"
    },
    "executionInfo": {
     "elapsed": 289,
     "status": "ok",
     "timestamp": 1675147362356,
     "user": {
      "displayName": "Paulo Alexandre",
      "userId": "14114574883320580151"
     },
     "user_tz": 180
    },
    "id": "e2Zuy1UG5QBM",
    "outputId": "e34f4db3-568e-418f-9e76-73b15759a3bf"
   },
   "outputs": [
    {
     "data": {
      "text/plain": [
       "(7833, 1)"
      ]
     },
     "execution_count": 9,
     "metadata": {},
     "output_type": "execute_result"
    }
   ],
   "source": [
    "Y = np.stack(df['campoY'].values)\n",
    "Y = Y.reshape(-1,1)\n",
    "Y.shape\n"
   ]
  },
  {
   "cell_type": "markdown",
   "metadata": {
    "id": "olI3_LmP5QBS"
   },
   "source": [
    "# Minha Rede"
   ]
  },
  {
   "cell_type": "markdown",
   "metadata": {
    "id": "KXkoUECd5QBT"
   },
   "source": [
    "## Estrutra"
   ]
  },
  {
   "cell_type": "code",
   "execution_count": 10,
   "metadata": {
    "colab": {
     "base_uri": "https://localhost:8080/"
    },
    "executionInfo": {
     "elapsed": 299,
     "status": "ok",
     "timestamp": 1675149381145,
     "user": {
      "displayName": "Paulo Alexandre",
      "userId": "14114574883320580151"
     },
     "user_tz": 180
    },
    "id": "GvPjNZ235QBT",
    "outputId": "e177a373-ec5f-48b2-ddf9-2dd3db5bf28b"
   },
   "outputs": [
    {
     "name": "stderr",
     "output_type": "stream",
     "text": [
      "2023-01-31 11:53:38.500824: E tensorflow/stream_executor/cuda/cuda_driver.cc:271] failed call to cuInit: CUDA_ERROR_NO_DEVICE: no CUDA-capable device is detected\n",
      "2023-01-31 11:53:38.515085: I tensorflow/stream_executor/cuda/cuda_diagnostics.cc:156] kernel driver does not appear to be running on this host (vps34755): /proc/driver/nvidia/version does not exist\n",
      "2023-01-31 11:53:38.819600: I tensorflow/core/platform/cpu_feature_guard.cc:151] This TensorFlow binary is optimized with oneAPI Deep Neural Network Library (oneDNN) to use the following CPU instructions in performance-critical operations:  AVX2 FMA\n",
      "To enable them in other operations, rebuild TensorFlow with the appropriate compiler flags.\n"
     ]
    },
    {
     "name": "stdout",
     "output_type": "stream",
     "text": [
      "Model: \"sequential\"\n",
      "_________________________________________________________________\n",
      " Layer (type)                Output Shape              Param #   \n",
      "=================================================================\n",
      " simple_rnn (SimpleRNN)      (None, 128)               16640     \n",
      "                                                                 \n",
      " dense (Dense)               (None, 1)                 129       \n",
      "                                                                 \n",
      "=================================================================\n",
      "Total params: 16,769\n",
      "Trainable params: 16,769\n",
      "Non-trainable params: 0\n",
      "_________________________________________________________________\n"
     ]
    }
   ],
   "source": [
    "model = tf.keras.Sequential()\n",
    "model.add(tf.keras.layers.SimpleRNN(units=128, input_shape=(300,1), activation='relu'))\n",
    "model.add(tf.keras.layers.Dense(1, activation=\"relu\"))\n",
    "model.summary()\n"
   ]
  },
  {
   "cell_type": "code",
   "execution_count": 11,
   "metadata": {
    "colab": {
     "base_uri": "https://localhost:8080/",
     "height": 312
    },
    "executionInfo": {
     "elapsed": 349,
     "status": "ok",
     "timestamp": 1675149897823,
     "user": {
      "displayName": "Paulo Alexandre",
      "userId": "14114574883320580151"
     },
     "user_tz": 180
    },
    "id": "ZECc0OV3pBJR",
    "outputId": "e5c9a78c-397d-47ab-b046-16f75ee80001"
   },
   "outputs": [
    {
     "data": {
      "image/png": "[encoded data removed]",
      "text/plain": [
       "<IPython.core.display.Image object>"
      ]
     },
     "execution_count": 11,
     "metadata": {},
     "output_type": "execute_result"
    }
   ],
   "source": [
    "keras.utils.plot_model(model, show_shapes=True)"
   ]
  },
  {
   "cell_type": "markdown",
   "metadata": {
    "id": "-kEekaL15QBU"
   },
   "source": [
    "## Compilacao"
   ]
  },
  {
   "cell_type": "code",
   "execution_count": 12,
   "metadata": {
    "executionInfo": {
     "elapsed": 342,
     "status": "ok",
     "timestamp": 1675149401059,
     "user": {
      "displayName": "Paulo Alexandre",
      "userId": "14114574883320580151"
     },
     "user_tz": 180
    },
    "id": "01ZnMeVt5QBU"
   },
   "outputs": [],
   "source": [
    "model.compile(loss='mean_squared_error', optimizer='rmsprop')\n"
   ]
  },
  {
   "cell_type": "markdown",
   "metadata": {
    "id": "UtUEvBCb5QBV"
   },
   "source": [
    "## Fit - Treino"
   ]
  },
  {
   "cell_type": "code",
   "execution_count": 13,
   "metadata": {
    "colab": {
     "base_uri": "https://localhost:8080/"
    },
    "executionInfo": {
     "elapsed": 333,
     "status": "ok",
     "timestamp": 1675149760434,
     "user": {
      "displayName": "Paulo Alexandre",
      "userId": "14114574883320580151"
     },
     "user_tz": 180
    },
    "id": "p0cwq793sGKV",
    "outputId": "0c00fe0b-8634-4c73-df8b-1865c8fe6348"
   },
   "outputs": [
    {
     "data": {
      "text/plain": [
       "(7833, 300, 1)"
      ]
     },
     "execution_count": 13,
     "metadata": {},
     "output_type": "execute_result"
    }
   ],
   "source": [
    "X2 = X.T\n",
    "X2 = X2[np.newaxis,...]\n",
    "X2.T.shape"
   ]
  },
  {
   "cell_type": "code",
   "execution_count": 40,
   "metadata": {
    "colab": {
     "base_uri": "https://localhost:8080/"
    },
    "executionInfo": {
     "elapsed": 713,
     "status": "ok",
     "timestamp": 1675150142710,
     "user": {
      "displayName": "Paulo Alexandre",
      "userId": "14114574883320580151"
     },
     "user_tz": 180
    },
    "id": "OJZ8jknDsHHx",
    "outputId": "b53afdde-c88e-4130-8a5e-767a5d2e5aaf"
   },
   "outputs": [
    {
     "data": {
      "text/plain": [
       "(7833, 1, 1)"
      ]
     },
     "execution_count": 40,
     "metadata": {},
     "output_type": "execute_result"
    }
   ],
   "source": [
    "Y2 = Y.T\n",
    "Y2 = Y2[np.newaxis,...]\n",
    "Y2.T.shape"
   ]
  },
  {
   "cell_type": "code",
   "execution_count": 14,
   "metadata": {
    "colab": {
     "base_uri": "https://localhost:8080/",
     "height": 328
    },
    "executionInfo": {
     "elapsed": 374,
     "status": "error",
     "timestamp": 1675150153365,
     "user": {
      "displayName": "Paulo Alexandre",
      "userId": "14114574883320580151"
     },
     "user_tz": 180
    },
    "id": "AiD9VRBD5QBV",
    "outputId": "9a7f8d71-b859-44b4-f370-d69b821d259e"
   },
   "outputs": [
    {
     "name": "stderr",
     "output_type": "stream",
     "text": [
      "2023-01-31 11:54:33.661371: W tensorflow/core/framework/cpu_allocator_impl.cc:82] Allocation of 9399600 exceeds 10% of free system memory.\n"
     ]
    },
    {
     "name": "stdout",
     "output_type": "stream",
     "text": [
      "Epoch 1/10\n"
     ]
    },
    {
     "name": "stderr",
     "output_type": "stream",
     "text": [
      "2023-01-31 11:56:57.499411: W tensorflow/core/framework/cpu_allocator_impl.cc:82] Allocation of 4915200 exceeds 10% of free system memory.\n",
      "2023-01-31 11:56:57.997255: W tensorflow/core/framework/cpu_allocator_impl.cc:82] Allocation of 4915200 exceeds 10% of free system memory.\n",
      "2023-01-31 11:56:59.635365: W tensorflow/core/framework/cpu_allocator_impl.cc:82] Allocation of 4915200 exceeds 10% of free system memory.\n",
      "2023-01-31 11:56:59.638181: W tensorflow/core/framework/cpu_allocator_impl.cc:82] Allocation of 4915200 exceeds 10% of free system memory.\n"
     ]
    },
    {
     "name": "stdout",
     "output_type": "stream",
     "text": [
      "245/245 - 176s - loss: 0.0925 - 176s/epoch - 717ms/step\n",
      "Epoch 2/10\n",
      "245/245 - 36s - loss: 0.0919 - 36s/epoch - 147ms/step\n",
      "Epoch 3/10\n",
      "245/245 - 33s - loss: 0.0918 - 33s/epoch - 136ms/step\n",
      "Epoch 4/10\n",
      "245/245 - 35s - loss: 0.0917 - 35s/epoch - 141ms/step\n",
      "Epoch 5/10\n",
      "245/245 - 35s - loss: 0.0914 - 35s/epoch - 144ms/step\n",
      "Epoch 6/10\n",
      "245/245 - 34s - loss: 0.0915 - 34s/epoch - 139ms/step\n",
      "Epoch 7/10\n",
      "245/245 - 36s - loss: 0.0916 - 36s/epoch - 145ms/step\n",
      "Epoch 8/10\n",
      "245/245 - 36s - loss: 0.0916 - 36s/epoch - 146ms/step\n",
      "Epoch 9/10\n",
      "245/245 - 36s - loss: 0.0915 - 36s/epoch - 146ms/step\n",
      "Epoch 10/10\n",
      "245/245 - 34s - loss: 0.0915 - 34s/epoch - 140ms/step\n"
     ]
    }
   ],
   "source": [
    "history = model.fit(x=X2.T,y=Y,epochs=10,verbose=2)\n"
   ]
  },
  {
   "cell_type": "code",
   "execution_count": null,
   "metadata": {
    "id": "h1xP1tyYpVcZ"
   },
   "outputs": [],
   "source": []
  },
  {
   "cell_type": "markdown",
   "metadata": {
    "id": "cVN9H6c45QBW"
   },
   "source": [
    "## Salva Rede"
   ]
  },
  {
   "cell_type": "code",
   "execution_count": null,
   "metadata": {
    "id": "zx8cC65-5QBW"
   },
   "outputs": [],
   "source": [
    "path='pesos/treino_rede666.h5'\n",
    "model.save(path)\n"
   ]
  },
  {
   "cell_type": "markdown",
   "metadata": {
    "id": "s4QLq71-5QBX"
   },
   "source": [
    "# Enviando Rede"
   ]
  },
  {
   "cell_type": "code",
   "execution_count": null,
   "metadata": {
    "id": "Pqka772Z5QBX"
   },
   "outputs": [],
   "source": [
    "!pip install paramiko\n"
   ]
  },
  {
   "cell_type": "code",
   "execution_count": null,
   "metadata": {
    "id": "U2E81kc-5QBY"
   },
   "outputs": [],
   "source": [
    "import os\n",
    "import paramiko\n"
   ]
  },
  {
   "cell_type": "code",
   "execution_count": null,
   "metadata": {
    "id": "M46wrUQA5QBY"
   },
   "outputs": [],
   "source": [
    "ssh = paramiko.SSHClient()\n",
    "ssh.set_missing_host_key_policy(paramiko.AutoAddPolicy())\n",
    "ssh.connect(\"191.252.219.136\", username=\"root\", password=\"Digicom2004$\")\n",
    "sftp = ssh.open_sftp()\n",
    "sftp.put(\"pesos/treino_rede666.h5\", \"/root/executa-rede/redes/treino_rede666.h5\")\n",
    "sftp.close()\n",
    "ssh.close()\n"
   ]
  },
  {
   "cell_type": "markdown",
   "metadata": {
    "id": "6Eq_3_JX5QBZ"
   },
   "source": [
    "# Registra Treinamento"
   ]
  },
  {
   "cell_type": "code",
   "execution_count": null,
   "metadata": {
    "id": "XVk7Sl6H5QBZ"
   },
   "outputs": [],
   "source": [
    "#import requests\n",
    "url = 'http://vps-40d69db1.vps.ovh.ca:23004/api/TreinoRedes/executouTreinamento'\n",
    "myobj = {'id': 666}\n",
    "x = requests.post(url, json = myobj)\n",
    "print(x.text)\n"
   ]
  }
 ],
 "metadata": {
  "colab": {
   "provenance": []
  },
  "kernelspec": {
   "display_name": "Python 3 (ipykernel)",
   "language": "python",
   "name": "python3"
  },
  "language_info": {
   "codemirror_mode": {
    "name": "ipython",
    "version": 3
   },
   "file_extension": ".py",
   "mimetype": "text/x-python",
   "name": "python",
   "nbconvert_exporter": "python",
   "pygments_lexer": "ipython3",
   "version": "3.8.10"
  }
 },
 "nbformat": 4,
 "nbformat_minor": 1
}
