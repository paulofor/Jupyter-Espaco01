{
 "cells": [
  {
   "cell_type": "code",
   "execution_count": 1,
   "id": "58e36173",
   "metadata": {},
   "outputs": [
    {
     "name": "stderr",
     "output_type": "stream",
     "text": [
      "2023-01-17 00:54:54.125013: W tensorflow/stream_executor/platform/default/dso_loader.cc:64] Could not load dynamic library 'libcudart.so.11.0'; dlerror: libcudart.so.11.0: cannot open shared object file: No such file or directory\n",
      "2023-01-17 00:54:54.125085: I tensorflow/stream_executor/cuda/cudart_stub.cc:29] Ignore above cudart dlerror if you do not have a GPU set up on your machine.\n"
     ]
    }
   ],
   "source": [
    "import tensorflow as tf"
   ]
  },
  {
   "cell_type": "code",
   "execution_count": 2,
   "id": "31a71424",
   "metadata": {},
   "outputs": [],
   "source": [
    "import requests\n",
    "import pandas as pd\n",
    "import numpy as np"
   ]
  },
  {
   "cell_type": "code",
   "execution_count": 9,
   "id": "59c48cad",
   "metadata": {},
   "outputs": [],
   "source": [
    "data = {'campoX' : ['0.12,0.25,0.18,0.32,0.48,0.45' , \n",
    "                    '0.25,0.13,0.07,0.15,0.03,0.18', \n",
    "                    '0.45,0.35,0.55,0.18,0.25,0.13', \n",
    "                    '0.35,0.37,0.56,0.45,0.6,0.61'],\n",
    "        'campoY' : [1,0,0,1] }\n",
    "df = pd.DataFrame(data)"
   ]
  },
  {
   "cell_type": "code",
   "execution_count": 10,
   "id": "82747a2e",
   "metadata": {},
   "outputs": [],
   "source": [
    "def trataLinhaX(linha):\n",
    "    return np.fromstring(linha['campoX'], dtype=float, sep=',')"
   ]
  },
  {
   "cell_type": "code",
   "execution_count": 11,
   "id": "466bb9dc",
   "metadata": {},
   "outputs": [
    {
     "data": {
      "text/plain": [
       "(4, 6)"
      ]
     },
     "execution_count": 11,
     "metadata": {},
     "output_type": "execute_result"
    }
   ],
   "source": [
    "dfTratadoX = df.apply(trataLinhaX, axis='columns')\n",
    "X = np.stack(dfTratadoX.values)\n",
    "X.shape"
   ]
  },
  {
   "cell_type": "code",
   "execution_count": 12,
   "id": "26208d59",
   "metadata": {},
   "outputs": [
    {
     "data": {
      "text/plain": [
       "(4, 1)"
      ]
     },
     "execution_count": 12,
     "metadata": {},
     "output_type": "execute_result"
    }
   ],
   "source": [
    "Y = np.stack(df['campoY'].values)\n",
    "Y = Y.reshape(-1,1)\n",
    "Y.shape"
   ]
  },
  {
   "cell_type": "code",
   "execution_count": 13,
   "id": "d448eee2",
   "metadata": {},
   "outputs": [
    {
     "name": "stderr",
     "output_type": "stream",
     "text": [
      "2023-01-17 00:59:15.709110: E tensorflow/stream_executor/cuda/cuda_driver.cc:271] failed call to cuInit: CUDA_ERROR_NO_DEVICE: no CUDA-capable device is detected\n",
      "2023-01-17 00:59:15.722497: I tensorflow/stream_executor/cuda/cuda_diagnostics.cc:156] kernel driver does not appear to be running on this host (vps34755): /proc/driver/nvidia/version does not exist\n"
     ]
    },
    {
     "name": "stdout",
     "output_type": "stream",
     "text": [
      "Model: \"sequential\"\n",
      "_________________________________________________________________\n",
      " Layer (type)                Output Shape              Param #   \n",
      "=================================================================\n",
      " conv1d (Conv1D)             (None, 5, 8)              24        \n",
      "                                                                 \n",
      " dropout (Dropout)           (None, 5, 8)              0         \n",
      "                                                                 \n",
      " max_pooling1d (MaxPooling1D  (None, 2, 8)             0         \n",
      " )                                                               \n",
      "                                                                 \n",
      " flatten (Flatten)           (None, 16)                0         \n",
      "                                                                 \n",
      " dense (Dense)               (None, 10)                170       \n",
      "                                                                 \n",
      " dense_1 (Dense)             (None, 1)                 11        \n",
      "                                                                 \n",
      "=================================================================\n",
      "Total params: 205\n",
      "Trainable params: 205\n",
      "Non-trainable params: 0\n",
      "_________________________________________________________________\n"
     ]
    },
    {
     "name": "stderr",
     "output_type": "stream",
     "text": [
      "2023-01-17 00:59:15.929323: I tensorflow/core/platform/cpu_feature_guard.cc:151] This TensorFlow binary is optimized with oneAPI Deep Neural Network Library (oneDNN) to use the following CPU instructions in performance-critical operations:  AVX2 FMA\n",
      "To enable them in other operations, rebuild TensorFlow with the appropriate compiler flags.\n"
     ]
    }
   ],
   "source": [
    "model = tf.keras.Sequential()\n",
    "model.add(tf.keras.layers.Conv1D(filters=8, kernel_size=2, activation='relu',input_shape=(6,1)))\n",
    "model.add(tf.keras.layers.Dropout(0.5))\n",
    "model.add(tf.keras.layers.MaxPooling1D(pool_size=2))\n",
    "model.add(tf.keras.layers.Flatten())\n",
    "model.add(tf.keras.layers.Dense(10, activation='relu'))\n",
    "model.add(tf.keras.layers.Dense(1, activation='sigmoid'))\n",
    "model.summary()"
   ]
  },
  {
   "cell_type": "code",
   "execution_count": 14,
   "id": "07d6a9e7",
   "metadata": {},
   "outputs": [],
   "source": [
    "from tensorflow.keras.optimizers import RMSprop\n",
    "\n",
    "model.compile(loss='binary_crossentropy',\n",
    "                optimizer=RMSprop(learning_rate=1e-4),\n",
    "                metrics=['accuracy'])"
   ]
  },
  {
   "cell_type": "code",
   "execution_count": 15,
   "id": "cd7684e2",
   "metadata": {},
   "outputs": [],
   "source": [
    "X2 =  X[...,None]"
   ]
  },
  {
   "cell_type": "code",
   "execution_count": 16,
   "id": "413cc903",
   "metadata": {},
   "outputs": [
    {
     "name": "stdout",
     "output_type": "stream",
     "text": [
      "Epoch 1/10\n",
      "1/1 - 5s - loss: 0.6824 - accuracy: 0.2500 - 5s/epoch - 5s/step\n"
     ]
    },
    {
     "name": "stderr",
     "output_type": "stream",
     "text": [
      "2023-01-17 01:04:43.680412: W tensorflow/core/framework/cpu_allocator_impl.cc:82] Allocation of 4766280 exceeds 10% of free system memory.\n"
     ]
    },
    {
     "name": "stdout",
     "output_type": "stream",
     "text": [
      "Epoch 2/10\n",
      "1/1 - 0s - loss: 0.7065 - accuracy: 0.2500 - 8ms/epoch - 8ms/step\n",
      "Epoch 3/10\n",
      "1/1 - 0s - loss: 0.6995 - accuracy: 0.5000 - 4ms/epoch - 4ms/step\n",
      "Epoch 4/10\n",
      "1/1 - 0s - loss: 0.7246 - accuracy: 0.2500 - 9ms/epoch - 9ms/step\n",
      "Epoch 5/10\n",
      "1/1 - 0s - loss: 0.7130 - accuracy: 0.2500 - 6ms/epoch - 6ms/step\n",
      "Epoch 6/10\n",
      "1/1 - 0s - loss: 0.7216 - accuracy: 0.0000e+00 - 4ms/epoch - 4ms/step\n",
      "Epoch 7/10\n",
      "1/1 - 0s - loss: 0.7528 - accuracy: 0.2500 - 4ms/epoch - 4ms/step\n",
      "Epoch 8/10\n",
      "1/1 - 0s - loss: 0.6964 - accuracy: 0.2500 - 4ms/epoch - 4ms/step\n",
      "Epoch 9/10\n",
      "1/1 - 0s - loss: 0.6866 - accuracy: 0.5000 - 4ms/epoch - 4ms/step\n",
      "Epoch 10/10\n",
      "1/1 - 0s - loss: 0.6871 - accuracy: 0.5000 - 4ms/epoch - 4ms/step\n"
     ]
    },
    {
     "name": "stderr",
     "output_type": "stream",
     "text": [
      "2023-01-17 01:04:43.946468: W tensorflow/core/framework/cpu_allocator_impl.cc:82] Allocation of 4766280 exceeds 10% of free system memory.\n",
      "2023-01-17 01:04:43.955509: W tensorflow/core/framework/cpu_allocator_impl.cc:82] Allocation of 4766280 exceeds 10% of free system memory.\n",
      "2023-01-17 01:04:43.964356: W tensorflow/core/framework/cpu_allocator_impl.cc:82] Allocation of 4766280 exceeds 10% of free system memory.\n",
      "2023-01-17 01:04:43.985019: W tensorflow/core/framework/cpu_allocator_impl.cc:82] Allocation of 4766280 exceeds 10% of free system memory.\n"
     ]
    }
   ],
   "source": [
    "history = model.fit(x=X2,y=Y,\n",
    "                    epochs=10,\n",
    "                    verbose=2)"
   ]
  },
  {
   "cell_type": "code",
   "execution_count": null,
   "id": "d624c925",
   "metadata": {},
   "outputs": [],
   "source": []
  }
 ],
 "metadata": {
  "kernelspec": {
   "display_name": "Python 3 (ipykernel)",
   "language": "python",
   "name": "python3"
  },
  "language_info": {
   "codemirror_mode": {
    "name": "ipython",
    "version": 3
   },
   "file_extension": ".py",
   "mimetype": "text/x-python",
   "name": "python",
   "nbconvert_exporter": "python",
   "pygments_lexer": "ipython3",
   "version": "3.8.10"
  }
 },
 "nbformat": 4,
 "nbformat_minor": 5
}
