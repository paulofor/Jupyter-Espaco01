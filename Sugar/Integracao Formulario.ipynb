{
 "cells": [
  {
   "cell_type": "code",
   "execution_count": 1,
   "id": "04556635",
   "metadata": {},
   "outputs": [],
   "source": [
    "import csv"
   ]
  },
  {
   "cell_type": "code",
   "execution_count": 2,
   "id": "c80e12a4",
   "metadata": {},
   "outputs": [],
   "source": [
    "import pandas as pd"
   ]
  },
  {
   "cell_type": "code",
   "execution_count": 3,
   "id": "f879109f",
   "metadata": {},
   "outputs": [],
   "source": [
    "df = pd.read_csv (r'SugarPersonalidade.csv')"
   ]
  },
  {
   "cell_type": "code",
   "execution_count": 4,
   "id": "2fae8351",
   "metadata": {},
   "outputs": [
    {
     "data": {
      "text/html": [
       "<div>\n",
       "<style scoped>\n",
       "    .dataframe tbody tr th:only-of-type {\n",
       "        vertical-align: middle;\n",
       "    }\n",
       "\n",
       "    .dataframe tbody tr th {\n",
       "        vertical-align: top;\n",
       "    }\n",
       "\n",
       "    .dataframe thead th {\n",
       "        text-align: right;\n",
       "    }\n",
       "</style>\n",
       "<table border=\"1\" class=\"dataframe\">\n",
       "  <thead>\n",
       "    <tr style=\"text-align: right;\">\n",
       "      <th></th>\n",
       "      <th>Carimbo de data/hora</th>\n",
       "      <th>Eu sou a alma da festa.</th>\n",
       "      <th>Eu sinto pouca preocupação pelos outros.</th>\n",
       "      <th>Eu estou sempre pronta.</th>\n",
       "      <th>Eu me estresso facilmente.</th>\n",
       "      <th>Eu tenho um vocabulário rico.</th>\n",
       "      <th>Eu não falo muito.</th>\n",
       "      <th>Eu desejo saber mais sobre as pessoas.</th>\n",
       "      <th>Eu largo minhas coisas em qualquer lugar.</th>\n",
       "      <th>Eu me sinto descontraída, leve, solta a maior parte do tempo.</th>\n",
       "      <th>...</th>\n",
       "      <th>Gosto de ficar no comando</th>\n",
       "      <th>Gosto de ficar sozinha pensando</th>\n",
       "      <th>Me sinto bonita na maior parte do tempo</th>\n",
       "      <th>Tenho muita vontade de ter um negócio próprio.</th>\n",
       "      <th>Tenho muita vontade de ter um bom emprego.</th>\n",
       "      <th>Gosto de me arriscar</th>\n",
       "      <th>Me sinto segura na maior parte do tempo</th>\n",
       "      <th>Sou bem animada e divertida.</th>\n",
       "      <th>Gosto mais da noite que do dia</th>\n",
       "      <th>Gosto mais do dia que da noite</th>\n",
       "    </tr>\n",
       "  </thead>\n",
       "  <tbody>\n",
       "    <tr>\n",
       "      <th>0</th>\n",
       "      <td>2022/06/29 12:36:13 AM GMT-3</td>\n",
       "      <td>1</td>\n",
       "      <td>2</td>\n",
       "      <td>2</td>\n",
       "      <td>4</td>\n",
       "      <td>3</td>\n",
       "      <td>5</td>\n",
       "      <td>3</td>\n",
       "      <td>2</td>\n",
       "      <td>2</td>\n",
       "      <td>...</td>\n",
       "      <td>2</td>\n",
       "      <td>4</td>\n",
       "      <td>4</td>\n",
       "      <td>4</td>\n",
       "      <td>4</td>\n",
       "      <td>2</td>\n",
       "      <td>2</td>\n",
       "      <td>4</td>\n",
       "      <td>3</td>\n",
       "      <td>3</td>\n",
       "    </tr>\n",
       "  </tbody>\n",
       "</table>\n",
       "<p>1 rows × 62 columns</p>\n",
       "</div>"
      ],
      "text/plain": [
       "           Carimbo de data/hora  Eu sou a alma da festa.  \\\n",
       "0  2022/06/29 12:36:13 AM GMT-3                        1   \n",
       "\n",
       "   Eu sinto pouca preocupação pelos outros.  Eu estou sempre pronta.  \\\n",
       "0                                         2                        2   \n",
       "\n",
       "   Eu me estresso facilmente.  Eu tenho um vocabulário rico.  \\\n",
       "0                           4                              3   \n",
       "\n",
       "   Eu não falo muito.  Eu desejo saber mais sobre as pessoas.  \\\n",
       "0                   5                                       3   \n",
       "\n",
       "   Eu largo minhas coisas em qualquer lugar.  \\\n",
       "0                                          2   \n",
       "\n",
       "   Eu me sinto descontraída, leve, solta a maior parte do tempo.  ...  \\\n",
       "0                                                  2              ...   \n",
       "\n",
       "   Gosto de ficar no comando  Gosto de ficar sozinha pensando  \\\n",
       "0                          2                                4   \n",
       "\n",
       "   Me sinto bonita na maior parte do tempo  \\\n",
       "0                                        4   \n",
       "\n",
       "   Tenho muita vontade de ter um negócio próprio.  \\\n",
       "0                                               4   \n",
       "\n",
       "   Tenho muita vontade de ter um bom emprego.  Gosto de me arriscar  \\\n",
       "0                                           4                     2   \n",
       "\n",
       "   Me sinto segura na maior parte do tempo  Sou bem animada e divertida.  \\\n",
       "0                                        2                             4   \n",
       "\n",
       "   Gosto mais da noite que do dia  Gosto mais do dia que da noite  \n",
       "0                               3                               3  \n",
       "\n",
       "[1 rows x 62 columns]"
      ]
     },
     "execution_count": 4,
     "metadata": {},
     "output_type": "execute_result"
    }
   ],
   "source": [
    "df.head()"
   ]
  },
  {
   "cell_type": "code",
   "execution_count": 6,
   "id": "b95b93ca",
   "metadata": {},
   "outputs": [],
   "source": [
    "df2 = df.T"
   ]
  },
  {
   "cell_type": "code",
   "execution_count": 7,
   "id": "21f1c671",
   "metadata": {},
   "outputs": [
    {
     "data": {
      "text/html": [
       "<div>\n",
       "<style scoped>\n",
       "    .dataframe tbody tr th:only-of-type {\n",
       "        vertical-align: middle;\n",
       "    }\n",
       "\n",
       "    .dataframe tbody tr th {\n",
       "        vertical-align: top;\n",
       "    }\n",
       "\n",
       "    .dataframe thead th {\n",
       "        text-align: right;\n",
       "    }\n",
       "</style>\n",
       "<table border=\"1\" class=\"dataframe\">\n",
       "  <thead>\n",
       "    <tr style=\"text-align: right;\">\n",
       "      <th></th>\n",
       "      <th>0</th>\n",
       "    </tr>\n",
       "  </thead>\n",
       "  <tbody>\n",
       "    <tr>\n",
       "      <th>Carimbo de data/hora</th>\n",
       "      <td>2022/06/29 12:36:13 AM GMT-3</td>\n",
       "    </tr>\n",
       "    <tr>\n",
       "      <th>Eu sou a alma da festa.</th>\n",
       "      <td>1</td>\n",
       "    </tr>\n",
       "    <tr>\n",
       "      <th>Eu sinto pouca preocupação pelos outros.</th>\n",
       "      <td>2</td>\n",
       "    </tr>\n",
       "    <tr>\n",
       "      <th>Eu estou sempre pronta.</th>\n",
       "      <td>2</td>\n",
       "    </tr>\n",
       "    <tr>\n",
       "      <th>Eu me estresso facilmente.</th>\n",
       "      <td>4</td>\n",
       "    </tr>\n",
       "  </tbody>\n",
       "</table>\n",
       "</div>"
      ],
      "text/plain": [
       "                                                                     0\n",
       "Carimbo de data/hora                      2022/06/29 12:36:13 AM GMT-3\n",
       "Eu sou a alma da festa.                                              1\n",
       "Eu sinto pouca preocupação pelos outros.                             2\n",
       "Eu estou sempre pronta.                                              2\n",
       "Eu me estresso facilmente.                                           4"
      ]
     },
     "execution_count": 7,
     "metadata": {},
     "output_type": "execute_result"
    }
   ],
   "source": [
    "df2.head()"
   ]
  },
  {
   "cell_type": "code",
   "execution_count": null,
   "id": "70cae29f",
   "metadata": {},
   "outputs": [],
   "source": []
  }
 ],
 "metadata": {
  "kernelspec": {
   "display_name": "Python 3 (ipykernel)",
   "language": "python",
   "name": "python3"
  },
  "language_info": {
   "codemirror_mode": {
    "name": "ipython",
    "version": 3
   },
   "file_extension": ".py",
   "mimetype": "text/x-python",
   "name": "python",
   "nbconvert_exporter": "python",
   "pygments_lexer": "ipython3",
   "version": "3.8.10"
  }
 },
 "nbformat": 4,
 "nbformat_minor": 5
}
