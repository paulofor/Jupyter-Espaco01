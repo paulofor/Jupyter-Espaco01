{
 "cells": [
  {
   "cell_type": "code",
   "execution_count": 1,
   "id": "bcb6547e",
   "metadata": {},
   "outputs": [],
   "source": [
    "import numpy as np\n",
    "import pandas as pd\n",
    "\n"
   ]
  },
  {
   "cell_type": "code",
   "execution_count": 2,
   "id": "adec5745",
   "metadata": {},
   "outputs": [],
   "source": [
    "from scipy import stats"
   ]
  },
  {
   "cell_type": "code",
   "execution_count": 5,
   "id": "eba8f17c",
   "metadata": {},
   "outputs": [],
   "source": [
    "import requests"
   ]
  },
  {
   "cell_type": "code",
   "execution_count": 10,
   "id": "699b44e7",
   "metadata": {},
   "outputs": [],
   "source": [
    "url = \"http://vps-40d69db1.vps.ovh.ca:23005/api/ExecucaoSimulacaos/melhorValidacaoPeriodoFlatPorTicker?idPeriodo=9&limitePorTicker=3&tipo=V\""
   ]
  },
  {
   "cell_type": "code",
   "execution_count": 11,
   "id": "2b347333",
   "metadata": {},
   "outputs": [],
   "source": [
    "r = requests.get(url)\n",
    "j = r.json()\n",
    "dfStop15 = pd.DataFrame.from_dict(j)"
   ]
  },
  {
   "cell_type": "code",
   "execution_count": 12,
   "id": "5eb98eff",
   "metadata": {},
   "outputs": [
    {
     "name": "stdout",
     "output_type": "stream",
     "text": [
      "Temos 147 linhas e 13 colunas\n"
     ]
    }
   ],
   "source": [
    "print(\"Temos {} linhas e {} colunas\".format(dfStop15.shape[0],dfStop15.shape[1]))"
   ]
  },
  {
   "cell_type": "code",
   "execution_count": 13,
   "id": "4023cc83",
   "metadata": {},
   "outputs": [
    {
     "data": {
      "text/html": [
       "<div>\n",
       "<style scoped>\n",
       "    .dataframe tbody tr th:only-of-type {\n",
       "        vertical-align: middle;\n",
       "    }\n",
       "\n",
       "    .dataframe tbody tr th {\n",
       "        vertical-align: top;\n",
       "    }\n",
       "\n",
       "    .dataframe thead th {\n",
       "        text-align: right;\n",
       "    }\n",
       "</style>\n",
       "<table border=\"1\" class=\"dataframe\">\n",
       "  <thead>\n",
       "    <tr style=\"text-align: right;\">\n",
       "      <th></th>\n",
       "      <th>simulacaoId</th>\n",
       "      <th>ticker</th>\n",
       "      <th>simulacaoResultado</th>\n",
       "      <th>simulacaoLucro</th>\n",
       "      <th>simulacaoPrejuizo</th>\n",
       "      <th>target</th>\n",
       "      <th>stop</th>\n",
       "      <th>tipo</th>\n",
       "      <th>monitorar</th>\n",
       "      <th>experimentoSimulacaoId</th>\n",
       "      <th>validacaoLucro</th>\n",
       "      <th>validacaoPrejuizo</th>\n",
       "      <th>saldoValidacao</th>\n",
       "    </tr>\n",
       "  </thead>\n",
       "  <tbody>\n",
       "    <tr>\n",
       "      <th>0</th>\n",
       "      <td>10920016</td>\n",
       "      <td>COGN3</td>\n",
       "      <td>74</td>\n",
       "      <td>4</td>\n",
       "      <td>0</td>\n",
       "      <td>0.16</td>\n",
       "      <td>0.08</td>\n",
       "      <td>V</td>\n",
       "      <td>0</td>\n",
       "      <td>54</td>\n",
       "      <td>0</td>\n",
       "      <td>1</td>\n",
       "      <td>-1</td>\n",
       "    </tr>\n",
       "    <tr>\n",
       "      <th>1</th>\n",
       "      <td>10919591</td>\n",
       "      <td>COGN3</td>\n",
       "      <td>74</td>\n",
       "      <td>4</td>\n",
       "      <td>0</td>\n",
       "      <td>0.16</td>\n",
       "      <td>0.08</td>\n",
       "      <td>V</td>\n",
       "      <td>0</td>\n",
       "      <td>54</td>\n",
       "      <td>0</td>\n",
       "      <td>1</td>\n",
       "      <td>-1</td>\n",
       "    </tr>\n",
       "    <tr>\n",
       "      <th>2</th>\n",
       "      <td>10919116</td>\n",
       "      <td>COGN3</td>\n",
       "      <td>74</td>\n",
       "      <td>4</td>\n",
       "      <td>0</td>\n",
       "      <td>0.16</td>\n",
       "      <td>0.08</td>\n",
       "      <td>V</td>\n",
       "      <td>0</td>\n",
       "      <td>54</td>\n",
       "      <td>0</td>\n",
       "      <td>1</td>\n",
       "      <td>-1</td>\n",
       "    </tr>\n",
       "    <tr>\n",
       "      <th>3</th>\n",
       "      <td>10901118</td>\n",
       "      <td>CYRE3</td>\n",
       "      <td>50</td>\n",
       "      <td>3</td>\n",
       "      <td>0</td>\n",
       "      <td>0.14</td>\n",
       "      <td>0.08</td>\n",
       "      <td>V</td>\n",
       "      <td>0</td>\n",
       "      <td>54</td>\n",
       "      <td>0</td>\n",
       "      <td>1</td>\n",
       "      <td>-1</td>\n",
       "    </tr>\n",
       "    <tr>\n",
       "      <th>4</th>\n",
       "      <td>10900768</td>\n",
       "      <td>CYRE3</td>\n",
       "      <td>50</td>\n",
       "      <td>3</td>\n",
       "      <td>0</td>\n",
       "      <td>0.14</td>\n",
       "      <td>0.08</td>\n",
       "      <td>V</td>\n",
       "      <td>0</td>\n",
       "      <td>54</td>\n",
       "      <td>0</td>\n",
       "      <td>1</td>\n",
       "      <td>-1</td>\n",
       "    </tr>\n",
       "  </tbody>\n",
       "</table>\n",
       "</div>"
      ],
      "text/plain": [
       "   simulacaoId ticker  simulacaoResultado  simulacaoLucro  simulacaoPrejuizo  \\\n",
       "0     10920016  COGN3                  74               4                  0   \n",
       "1     10919591  COGN3                  74               4                  0   \n",
       "2     10919116  COGN3                  74               4                  0   \n",
       "3     10901118  CYRE3                  50               3                  0   \n",
       "4     10900768  CYRE3                  50               3                  0   \n",
       "\n",
       "   target  stop tipo  monitorar  experimentoSimulacaoId  validacaoLucro  \\\n",
       "0    0.16  0.08    V          0                      54               0   \n",
       "1    0.16  0.08    V          0                      54               0   \n",
       "2    0.16  0.08    V          0                      54               0   \n",
       "3    0.14  0.08    V          0                      54               0   \n",
       "4    0.14  0.08    V          0                      54               0   \n",
       "\n",
       "   validacaoPrejuizo  saldoValidacao  \n",
       "0                  1              -1  \n",
       "1                  1              -1  \n",
       "2                  1              -1  \n",
       "3                  1              -1  \n",
       "4                  1              -1  "
      ]
     },
     "execution_count": 13,
     "metadata": {},
     "output_type": "execute_result"
    }
   ],
   "source": [
    "dfStop15.head()"
   ]
  },
  {
   "cell_type": "code",
   "execution_count": null,
   "id": "d0ffa03a",
   "metadata": {},
   "outputs": [],
   "source": []
  }
 ],
 "metadata": {
  "kernelspec": {
   "display_name": "Python 3 (ipykernel)",
   "language": "python",
   "name": "python3"
  },
  "language_info": {
   "codemirror_mode": {
    "name": "ipython",
    "version": 3
   },
   "file_extension": ".py",
   "mimetype": "text/x-python",
   "name": "python",
   "nbconvert_exporter": "python",
   "pygments_lexer": "ipython3",
   "version": "3.8.10"
  }
 },
 "nbformat": 4,
 "nbformat_minor": 5
}
