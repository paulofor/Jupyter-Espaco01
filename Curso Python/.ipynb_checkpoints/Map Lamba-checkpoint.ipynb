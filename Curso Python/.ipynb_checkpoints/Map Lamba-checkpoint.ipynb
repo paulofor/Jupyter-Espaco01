{
 "cells": [
  {
   "cell_type": "markdown",
   "id": "4dbfcd24",
   "metadata": {},
   "source": [
    "# Map"
   ]
  },
  {
   "cell_type": "code",
   "execution_count": 7,
   "id": "cf4e39dc",
   "metadata": {},
   "outputs": [],
   "source": [
    "store1 = [10.00 , 11.00 , 92.34, 2.34]\n",
    "store2 = [9.00, 11.10, 12.34, 2.01]"
   ]
  },
  {
   "cell_type": "code",
   "execution_count": 8,
   "id": "3261da6d",
   "metadata": {},
   "outputs": [
    {
     "data": {
      "text/plain": [
       "<map at 0x7f13dc3b7820>"
      ]
     },
     "execution_count": 8,
     "metadata": {},
     "output_type": "execute_result"
    }
   ],
   "source": [
    "mais_barato = map(min, store1, store2)\n",
    "mais_barato"
   ]
  },
  {
   "cell_type": "code",
   "execution_count": 9,
   "id": "6b3750b0",
   "metadata": {},
   "outputs": [
    {
     "name": "stdout",
     "output_type": "stream",
     "text": [
      "9.0\n",
      "11.0\n",
      "12.34\n",
      "2.01\n"
     ]
    }
   ],
   "source": [
    "for item in mais_barato:\n",
    "    print(item)"
   ]
  },
  {
   "cell_type": "markdown",
   "id": "4515ccd8",
   "metadata": {},
   "source": [
    "# Lambda"
   ]
  },
  {
   "cell_type": "code",
   "execution_count": 10,
   "id": "a6bcbeb4",
   "metadata": {},
   "outputs": [],
   "source": [
    "minha_funcao = lambda a, b, c : a + b"
   ]
  },
  {
   "cell_type": "code",
   "execution_count": 13,
   "id": "e3605aa6",
   "metadata": {},
   "outputs": [
    {
     "data": {
      "text/plain": [
       "7"
      ]
     },
     "execution_count": 13,
     "metadata": {},
     "output_type": "execute_result"
    }
   ],
   "source": [
    "minha_funcao(5,2,9)"
   ]
  },
  {
   "cell_type": "code",
   "execution_count": null,
   "id": "c46e0352",
   "metadata": {},
   "outputs": [],
   "source": []
  }
 ],
 "metadata": {
  "kernelspec": {
   "display_name": "Python 3 (ipykernel)",
   "language": "python",
   "name": "python3"
  },
  "language_info": {
   "codemirror_mode": {
    "name": "ipython",
    "version": 3
   },
   "file_extension": ".py",
   "mimetype": "text/x-python",
   "name": "python",
   "nbconvert_exporter": "python",
   "pygments_lexer": "ipython3",
   "version": "3.8.10"
  }
 },
 "nbformat": 4,
 "nbformat_minor": 5
}
