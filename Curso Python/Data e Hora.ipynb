{
 "cells": [
  {
   "cell_type": "code",
   "execution_count": 1,
   "id": "e0e0a1af",
   "metadata": {},
   "outputs": [],
   "source": [
    "import pandas as pd\n",
    "import numpy as np"
   ]
  },
  {
   "cell_type": "markdown",
   "id": "5bf8102b",
   "metadata": {},
   "source": [
    "## Timestamp"
   ]
  },
  {
   "cell_type": "markdown",
   "id": "e12794fe",
   "metadata": {},
   "source": [
    "### um ponto no tempo"
   ]
  },
  {
   "cell_type": "code",
   "execution_count": 2,
   "id": "4901b394",
   "metadata": {},
   "outputs": [
    {
     "data": {
      "text/plain": [
       "Timestamp('2019-09-01 10:05:00')"
      ]
     },
     "execution_count": 2,
     "metadata": {},
     "output_type": "execute_result"
    }
   ],
   "source": [
    "pd.Timestamp('9/1/2019 10:05AM')"
   ]
  },
  {
   "cell_type": "code",
   "execution_count": 3,
   "id": "6bf98638",
   "metadata": {},
   "outputs": [
    {
     "data": {
      "text/plain": [
       "Timestamp('2022-02-28 19:49:00')"
      ]
     },
     "execution_count": 3,
     "metadata": {},
     "output_type": "execute_result"
    }
   ],
   "source": [
    "pd.Timestamp(2022,2,28,19,49)"
   ]
  },
  {
   "cell_type": "code",
   "execution_count": 4,
   "id": "a5c4f6c0",
   "metadata": {},
   "outputs": [
    {
     "data": {
      "text/plain": [
       "1"
      ]
     },
     "execution_count": 4,
     "metadata": {},
     "output_type": "execute_result"
    }
   ],
   "source": [
    "pd.Timestamp(2022,2,28,19,49).isoweekday()"
   ]
  },
  {
   "cell_type": "markdown",
   "id": "e38bd2a2",
   "metadata": {},
   "source": [
    "## Periodo"
   ]
  },
  {
   "cell_type": "markdown",
   "id": "b65849ee",
   "metadata": {},
   "source": [
    "### Um espaço no tempo"
   ]
  },
  {
   "cell_type": "code",
   "execution_count": 6,
   "id": "2cd2c753",
   "metadata": {},
   "outputs": [],
   "source": [
    "p1 = pd.Period('2/2022')"
   ]
  },
  {
   "cell_type": "code",
   "execution_count": 7,
   "id": "ad399091",
   "metadata": {},
   "outputs": [
    {
     "data": {
      "text/plain": [
       "Period('2022-02', 'M')"
      ]
     },
     "execution_count": 7,
     "metadata": {},
     "output_type": "execute_result"
    }
   ],
   "source": [
    "p1"
   ]
  },
  {
   "cell_type": "code",
   "execution_count": 8,
   "id": "9ee75487",
   "metadata": {},
   "outputs": [
    {
     "data": {
      "text/plain": [
       "Period('2022-07', 'M')"
      ]
     },
     "execution_count": 8,
     "metadata": {},
     "output_type": "execute_result"
    }
   ],
   "source": [
    "p1 + 5"
   ]
  },
  {
   "cell_type": "code",
   "execution_count": 9,
   "id": "c083561b",
   "metadata": {},
   "outputs": [
    {
     "data": {
      "text/plain": [
       "Period('2022-02-28', 'D')"
      ]
     },
     "execution_count": 9,
     "metadata": {},
     "output_type": "execute_result"
    }
   ],
   "source": [
    "p2 = pd.Period('28/2/2022')\n",
    "p2"
   ]
  },
  {
   "cell_type": "code",
   "execution_count": 10,
   "id": "f265e0ac",
   "metadata": {},
   "outputs": [
    {
     "data": {
      "text/plain": [
       "Period('2021-12-30', 'D')"
      ]
     },
     "execution_count": 10,
     "metadata": {},
     "output_type": "execute_result"
    }
   ],
   "source": [
    "p2 - 60"
   ]
  },
  {
   "cell_type": "markdown",
   "id": "15a8b65a",
   "metadata": {},
   "source": [
    "### DatetimeIndex e PeriodIndex"
   ]
  },
  {
   "cell_type": "code",
   "execution_count": 13,
   "id": "f5db8d73",
   "metadata": {},
   "outputs": [],
   "source": [
    "t1 = pd.Series(list('abc'), [pd.Timestamp('2022-02-28'),pd.Timestamp('2022-02-27'),pd.Timestamp('2022-02-26')])"
   ]
  },
  {
   "cell_type": "code",
   "execution_count": 14,
   "id": "c96c5d77",
   "metadata": {},
   "outputs": [
    {
     "data": {
      "text/plain": [
       "2022-02-28    a\n",
       "2022-02-27    b\n",
       "2022-02-26    c\n",
       "dtype: object"
      ]
     },
     "execution_count": 14,
     "metadata": {},
     "output_type": "execute_result"
    }
   ],
   "source": [
    "t1"
   ]
  },
  {
   "cell_type": "code",
   "execution_count": 15,
   "id": "fe0996e6",
   "metadata": {},
   "outputs": [
    {
     "data": {
      "text/plain": [
       "pandas.core.indexes.datetimes.DatetimeIndex"
      ]
     },
     "execution_count": 15,
     "metadata": {},
     "output_type": "execute_result"
    }
   ],
   "source": [
    "type(t1.index)"
   ]
  },
  {
   "cell_type": "code",
   "execution_count": 17,
   "id": "b8a40bae",
   "metadata": {},
   "outputs": [
    {
     "data": {
      "text/plain": [
       "2022-02    d\n",
       "2022-03    e\n",
       "2022-04    f\n",
       "Freq: M, dtype: object"
      ]
     },
     "execution_count": 17,
     "metadata": {},
     "output_type": "execute_result"
    }
   ],
   "source": [
    "t2 = pd.Series(list('def'), [pd.Period('2022-02'),pd.Period('2022-03'),pd.Period('2022-04')])\n",
    "t2"
   ]
  },
  {
   "cell_type": "code",
   "execution_count": 18,
   "id": "1ea9eb28",
   "metadata": {},
   "outputs": [
    {
     "data": {
      "text/plain": [
       "pandas.core.indexes.period.PeriodIndex"
      ]
     },
     "execution_count": 18,
     "metadata": {},
     "output_type": "execute_result"
    }
   ],
   "source": [
    "type(t2.index)"
   ]
  },
  {
   "cell_type": "markdown",
   "id": "b5346484",
   "metadata": {},
   "source": [
    "### Convertendo para DateTime"
   ]
  },
  {
   "cell_type": "code",
   "execution_count": null,
   "id": "03e7f3a5",
   "metadata": {},
   "outputs": [],
   "source": []
  }
 ],
 "metadata": {
  "kernelspec": {
   "display_name": "Python 3 (ipykernel)",
   "language": "python",
   "name": "python3"
  },
  "language_info": {
   "codemirror_mode": {
    "name": "ipython",
    "version": 3
   },
   "file_extension": ".py",
   "mimetype": "text/x-python",
   "name": "python",
   "nbconvert_exporter": "python",
   "pygments_lexer": "ipython3",
   "version": "3.8.10"
  }
 },
 "nbformat": 4,
 "nbformat_minor": 5
}
