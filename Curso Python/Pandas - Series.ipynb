{
 "cells": [
  {
   "cell_type": "code",
   "execution_count": 1,
   "id": "b7ccbe4a",
   "metadata": {},
   "outputs": [],
   "source": [
    "import pandas as pd"
   ]
  },
  {
   "cell_type": "markdown",
   "id": "130b7486",
   "metadata": {},
   "source": [
    "# Transformando list em Series - Strings"
   ]
  },
  {
   "cell_type": "code",
   "execution_count": 2,
   "id": "8ce790e7",
   "metadata": {},
   "outputs": [],
   "source": [
    "alunos = ['Alice' , 'Jack' , 'Molly']"
   ]
  },
  {
   "cell_type": "code",
   "execution_count": 3,
   "id": "a20726b0",
   "metadata": {},
   "outputs": [
    {
     "data": {
      "text/plain": [
       "0    Alice\n",
       "1     Jack\n",
       "2    Molly\n",
       "dtype: object"
      ]
     },
     "execution_count": 3,
     "metadata": {},
     "output_type": "execute_result"
    }
   ],
   "source": [
    "pd.Series(alunos)"
   ]
  },
  {
   "cell_type": "code",
   "execution_count": 4,
   "id": "31731102",
   "metadata": {},
   "outputs": [
    {
     "data": {
      "text/plain": [
       "list"
      ]
     },
     "execution_count": 4,
     "metadata": {},
     "output_type": "execute_result"
    }
   ],
   "source": [
    "type(alunos)"
   ]
  },
  {
   "cell_type": "code",
   "execution_count": 5,
   "id": "84df44d3",
   "metadata": {},
   "outputs": [
    {
     "data": {
      "text/plain": [
       "pandas.core.series.Series"
      ]
     },
     "execution_count": 5,
     "metadata": {},
     "output_type": "execute_result"
    }
   ],
   "source": [
    "serie = pd.Series(alunos)\n",
    "type(serie)"
   ]
  },
  {
   "cell_type": "markdown",
   "id": "7106797d",
   "metadata": {},
   "source": [
    "### Serie de object"
   ]
  },
  {
   "cell_type": "code",
   "execution_count": 11,
   "id": "da568fc2",
   "metadata": {},
   "outputs": [
    {
     "data": {
      "text/plain": [
       "0    Alice\n",
       "1     Jack\n",
       "2    Molly\n",
       "dtype: object"
      ]
     },
     "execution_count": 11,
     "metadata": {},
     "output_type": "execute_result"
    }
   ],
   "source": [
    "serie"
   ]
  },
  {
   "cell_type": "markdown",
   "id": "ec2b14f4",
   "metadata": {},
   "source": [
    "# Transformando list em Series - Números"
   ]
  },
  {
   "cell_type": "code",
   "execution_count": 6,
   "id": "e0a4c290",
   "metadata": {},
   "outputs": [],
   "source": [
    "numeros = [10, 20, 34]"
   ]
  },
  {
   "cell_type": "code",
   "execution_count": 7,
   "id": "80dee11b",
   "metadata": {},
   "outputs": [
    {
     "data": {
      "text/plain": [
       "list"
      ]
     },
     "execution_count": 7,
     "metadata": {},
     "output_type": "execute_result"
    }
   ],
   "source": [
    "type(numeros)"
   ]
  },
  {
   "cell_type": "code",
   "execution_count": 9,
   "id": "988b7f3c",
   "metadata": {},
   "outputs": [
    {
     "data": {
      "text/plain": [
       "pandas.core.series.Series"
      ]
     },
     "execution_count": 9,
     "metadata": {},
     "output_type": "execute_result"
    }
   ],
   "source": [
    "serie2 = pd.Series(numeros)\n",
    "type(serie2)"
   ]
  },
  {
   "cell_type": "markdown",
   "id": "faed5e38",
   "metadata": {},
   "source": [
    "### Serie de int64"
   ]
  },
  {
   "cell_type": "code",
   "execution_count": 10,
   "id": "0f17637f",
   "metadata": {},
   "outputs": [
    {
     "data": {
      "text/plain": [
       "0    10\n",
       "1    20\n",
       "2    34\n",
       "dtype: int64"
      ]
     },
     "execution_count": 10,
     "metadata": {},
     "output_type": "execute_result"
    }
   ],
   "source": [
    "serie2"
   ]
  },
  {
   "cell_type": "code",
   "execution_count": null,
   "id": "796d0b9d",
   "metadata": {},
   "outputs": [],
   "source": []
  }
 ],
 "metadata": {
  "kernelspec": {
   "display_name": "Python 3 (ipykernel)",
   "language": "python",
   "name": "python3"
  },
  "language_info": {
   "codemirror_mode": {
    "name": "ipython",
    "version": 3
   },
   "file_extension": ".py",
   "mimetype": "text/x-python",
   "name": "python",
   "nbconvert_exporter": "python",
   "pygments_lexer": "ipython3",
   "version": "3.8.10"
  }
 },
 "nbformat": 4,
 "nbformat_minor": 5
}
