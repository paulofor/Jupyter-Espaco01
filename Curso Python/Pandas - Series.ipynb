{
 "cells": [
  {
   "cell_type": "code",
   "execution_count": 2,
   "id": "b7ccbe4a",
   "metadata": {},
   "outputs": [],
   "source": [
    "import pandas as pd\n",
    "import numpy as np"
   ]
  },
  {
   "cell_type": "markdown",
   "id": "130b7486",
   "metadata": {},
   "source": [
    "# Transformando list em Series - Strings"
   ]
  },
  {
   "cell_type": "code",
   "execution_count": 10,
   "id": "8ce790e7",
   "metadata": {},
   "outputs": [],
   "source": [
    "alunos = ['Alice' , 'Jack' , 'Molly']"
   ]
  },
  {
   "cell_type": "code",
   "execution_count": 11,
   "id": "a20726b0",
   "metadata": {},
   "outputs": [
    {
     "data": {
      "text/plain": [
       "0    Alice\n",
       "1     Jack\n",
       "2    Molly\n",
       "dtype: object"
      ]
     },
     "execution_count": 11,
     "metadata": {},
     "output_type": "execute_result"
    }
   ],
   "source": [
    "pd.Series(alunos)"
   ]
  },
  {
   "cell_type": "code",
   "execution_count": 12,
   "id": "31731102",
   "metadata": {},
   "outputs": [
    {
     "data": {
      "text/plain": [
       "list"
      ]
     },
     "execution_count": 12,
     "metadata": {},
     "output_type": "execute_result"
    }
   ],
   "source": [
    "type(alunos)"
   ]
  },
  {
   "cell_type": "code",
   "execution_count": 13,
   "id": "84df44d3",
   "metadata": {},
   "outputs": [
    {
     "data": {
      "text/plain": [
       "pandas.core.series.Series"
      ]
     },
     "execution_count": 13,
     "metadata": {},
     "output_type": "execute_result"
    }
   ],
   "source": [
    "serie = pd.Series(alunos)\n",
    "type(serie)"
   ]
  },
  {
   "cell_type": "code",
   "execution_count": 14,
   "id": "a578870c",
   "metadata": {},
   "outputs": [
    {
     "data": {
      "text/plain": [
       "RangeIndex(start=0, stop=3, step=1)"
      ]
     },
     "execution_count": 14,
     "metadata": {},
     "output_type": "execute_result"
    }
   ],
   "source": [
    "serie.index"
   ]
  },
  {
   "cell_type": "code",
   "execution_count": 16,
   "id": "142f9d71",
   "metadata": {},
   "outputs": [
    {
     "data": {
      "text/plain": [
       "pandas.core.indexes.range.RangeIndex"
      ]
     },
     "execution_count": 16,
     "metadata": {},
     "output_type": "execute_result"
    }
   ],
   "source": [
    "type(serie.index)"
   ]
  },
  {
   "cell_type": "markdown",
   "id": "7106797d",
   "metadata": {},
   "source": [
    "### Serie de object"
   ]
  },
  {
   "cell_type": "code",
   "execution_count": 11,
   "id": "da568fc2",
   "metadata": {},
   "outputs": [
    {
     "data": {
      "text/plain": [
       "0    Alice\n",
       "1     Jack\n",
       "2    Molly\n",
       "dtype: object"
      ]
     },
     "execution_count": 11,
     "metadata": {},
     "output_type": "execute_result"
    }
   ],
   "source": [
    "serie"
   ]
  },
  {
   "cell_type": "markdown",
   "id": "ec2b14f4",
   "metadata": {},
   "source": [
    "# Transformando list em Series - Números"
   ]
  },
  {
   "cell_type": "code",
   "execution_count": 6,
   "id": "e0a4c290",
   "metadata": {},
   "outputs": [],
   "source": [
    "numeros = [10, 20, 34]"
   ]
  },
  {
   "cell_type": "code",
   "execution_count": 7,
   "id": "80dee11b",
   "metadata": {},
   "outputs": [
    {
     "data": {
      "text/plain": [
       "list"
      ]
     },
     "execution_count": 7,
     "metadata": {},
     "output_type": "execute_result"
    }
   ],
   "source": [
    "type(numeros)"
   ]
  },
  {
   "cell_type": "code",
   "execution_count": 9,
   "id": "988b7f3c",
   "metadata": {},
   "outputs": [
    {
     "data": {
      "text/plain": [
       "pandas.core.series.Series"
      ]
     },
     "execution_count": 9,
     "metadata": {},
     "output_type": "execute_result"
    }
   ],
   "source": [
    "serie2 = pd.Series(numeros)\n",
    "type(serie2)"
   ]
  },
  {
   "cell_type": "markdown",
   "id": "faed5e38",
   "metadata": {},
   "source": [
    "### Serie de int64"
   ]
  },
  {
   "cell_type": "code",
   "execution_count": 10,
   "id": "0f17637f",
   "metadata": {},
   "outputs": [
    {
     "data": {
      "text/plain": [
       "0    10\n",
       "1    20\n",
       "2    34\n",
       "dtype: int64"
      ]
     },
     "execution_count": 10,
     "metadata": {},
     "output_type": "execute_result"
    }
   ],
   "source": [
    "serie2"
   ]
  },
  {
   "cell_type": "markdown",
   "id": "130e191d",
   "metadata": {},
   "source": [
    "### nan"
   ]
  },
  {
   "cell_type": "code",
   "execution_count": 3,
   "id": "2d937925",
   "metadata": {},
   "outputs": [
    {
     "data": {
      "text/plain": [
       "False"
      ]
     },
     "execution_count": 3,
     "metadata": {},
     "output_type": "execute_result"
    }
   ],
   "source": [
    "np.nan == None"
   ]
  },
  {
   "cell_type": "code",
   "execution_count": 4,
   "id": "75dd4f7a",
   "metadata": {},
   "outputs": [
    {
     "data": {
      "text/plain": [
       "False"
      ]
     },
     "execution_count": 4,
     "metadata": {},
     "output_type": "execute_result"
    }
   ],
   "source": [
    "np.nan == np.nan"
   ]
  },
  {
   "cell_type": "code",
   "execution_count": 5,
   "id": "76b82c48",
   "metadata": {},
   "outputs": [
    {
     "data": {
      "text/plain": [
       "True"
      ]
     },
     "execution_count": 5,
     "metadata": {},
     "output_type": "execute_result"
    }
   ],
   "source": [
    "np.isnan(np.nan)"
   ]
  },
  {
   "cell_type": "markdown",
   "id": "91c563df",
   "metadata": {},
   "source": [
    "### Dicionário para serie"
   ]
  },
  {
   "cell_type": "code",
   "execution_count": 7,
   "id": "7d29c418",
   "metadata": {},
   "outputs": [
    {
     "data": {
      "text/plain": [
       "Alice     Física\n",
       "Jack     Química\n",
       "Molly     Inglês\n",
       "dtype: object"
      ]
     },
     "execution_count": 7,
     "metadata": {},
     "output_type": "execute_result"
    }
   ],
   "source": [
    "nota_aluno = {'Alice' : 'Física' , 'Jack' : 'Química' , 'Molly' : 'Inglês'}\n",
    "s = pd.Series(nota_aluno)\n",
    "s"
   ]
  },
  {
   "cell_type": "code",
   "execution_count": 8,
   "id": "9968f37a",
   "metadata": {},
   "outputs": [
    {
     "data": {
      "text/plain": [
       "dict"
      ]
     },
     "execution_count": 8,
     "metadata": {},
     "output_type": "execute_result"
    }
   ],
   "source": [
    "type(nota_aluno)"
   ]
  },
  {
   "cell_type": "code",
   "execution_count": 9,
   "id": "d2878eba",
   "metadata": {},
   "outputs": [
    {
     "data": {
      "text/plain": [
       "Index(['Alice', 'Jack', 'Molly'], dtype='object')"
      ]
     },
     "execution_count": 9,
     "metadata": {},
     "output_type": "execute_result"
    }
   ],
   "source": [
    "s.index"
   ]
  },
  {
   "cell_type": "code",
   "execution_count": 15,
   "id": "8ae83ab1",
   "metadata": {},
   "outputs": [
    {
     "data": {
      "text/plain": [
       "pandas.core.indexes.base.Index"
      ]
     },
     "execution_count": 15,
     "metadata": {},
     "output_type": "execute_result"
    }
   ],
   "source": [
    "type(s.index)"
   ]
  },
  {
   "cell_type": "code",
   "execution_count": null,
   "id": "87f3c18a",
   "metadata": {},
   "outputs": [],
   "source": []
  }
 ],
 "metadata": {
  "kernelspec": {
   "display_name": "Python 3 (ipykernel)",
   "language": "python",
   "name": "python3"
  },
  "language_info": {
   "codemirror_mode": {
    "name": "ipython",
    "version": 3
   },
   "file_extension": ".py",
   "mimetype": "text/x-python",
   "name": "python",
   "nbconvert_exporter": "python",
   "pygments_lexer": "ipython3",
   "version": "3.8.10"
  }
 },
 "nbformat": 4,
 "nbformat_minor": 5
}
