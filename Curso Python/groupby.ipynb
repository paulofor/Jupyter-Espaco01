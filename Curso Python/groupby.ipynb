{
 "cells": [
  {
   "cell_type": "code",
   "execution_count": 1,
   "id": "07c09a4e",
   "metadata": {},
   "outputs": [],
   "source": [
    "import numpy as np\n",
    "from datetime import datetime\n",
    "import requests\n",
    "import pandas as pd\n",
    "import matplotlib.pyplot as plt"
   ]
  },
  {
   "cell_type": "code",
   "execution_count": 2,
   "id": "50f65797",
   "metadata": {},
   "outputs": [],
   "source": [
    "urlGeral = \"http://vps-40d69db1.vps.ovh.ca:22001/api/CotacaoIntradayAcaoResultadoValors/obtemResultadoRegraData?codigoRegra=geral&diaNumInicial=20210801&diaNumFinal=20220131\""
   ]
  },
  {
   "cell_type": "code",
   "execution_count": 3,
   "id": "3f1e15c5",
   "metadata": {},
   "outputs": [],
   "source": [
    "r = requests.get(urlGeral)\n",
    "j = r.json()\n",
    "dfGeral = pd.DataFrame.from_dict(j)"
   ]
  },
  {
   "cell_type": "code",
   "execution_count": null,
   "id": "a3d5d46b",
   "metadata": {},
   "outputs": [],
   "source": []
  }
 ],
 "metadata": {
  "kernelspec": {
   "display_name": "Python 3 (ipykernel)",
   "language": "python",
   "name": "python3"
  },
  "language_info": {
   "codemirror_mode": {
    "name": "ipython",
    "version": 3
   },
   "file_extension": ".py",
   "mimetype": "text/x-python",
   "name": "python",
   "nbconvert_exporter": "python",
   "pygments_lexer": "ipython3",
   "version": "3.8.10"
  }
 },
 "nbformat": 4,
 "nbformat_minor": 5
}
