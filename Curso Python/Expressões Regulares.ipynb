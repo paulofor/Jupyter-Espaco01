{
 "cells": [
  {
   "cell_type": "code",
   "execution_count": 1,
   "id": "e2acbec4",
   "metadata": {},
   "outputs": [],
   "source": [
    "import re"
   ]
  },
  {
   "cell_type": "code",
   "execution_count": 2,
   "id": "42c11142",
   "metadata": {},
   "outputs": [],
   "source": [
    "texto = \"Hoje está muito calor\""
   ]
  },
  {
   "cell_type": "markdown",
   "id": "6e81a709",
   "metadata": {},
   "source": [
    "### Match"
   ]
  },
  {
   "cell_type": "code",
   "execution_count": 4,
   "id": "b42cfd0f",
   "metadata": {},
   "outputs": [
    {
     "name": "stdout",
     "output_type": "stream",
     "text": [
      "colocar ventilador\n"
     ]
    }
   ],
   "source": [
    "if (re.search(\"calor\",texto)) :\n",
    "    print(\"colocar ventilador\")\n",
    "else:\n",
    "    print(\"ainda bem\")"
   ]
  },
  {
   "cell_type": "markdown",
   "id": "bb961645",
   "metadata": {},
   "source": [
    "### Tokenizer"
   ]
  },
  {
   "cell_type": "code",
   "execution_count": 5,
   "id": "9fc584cc",
   "metadata": {},
   "outputs": [],
   "source": [
    "texto = \"Amy gosta de música. Amy gosta de viajar. Amy é muito estudiosa\""
   ]
  },
  {
   "cell_type": "code",
   "execution_count": 6,
   "id": "7c34bb1f",
   "metadata": {},
   "outputs": [
    {
     "data": {
      "text/plain": [
       "['', ' gosta de música. ', ' gosta de viajar. ', ' é muito estudiosa']"
      ]
     },
     "execution_count": 6,
     "metadata": {},
     "output_type": "execute_result"
    }
   ],
   "source": [
    "re.split(\"Amy\",texto)"
   ]
  },
  {
   "cell_type": "code",
   "execution_count": 8,
   "id": "072a2064",
   "metadata": {},
   "outputs": [
    {
     "data": {
      "text/plain": [
       "['Amy', 'Amy', 'Amy']"
      ]
     },
     "execution_count": 8,
     "metadata": {},
     "output_type": "execute_result"
    }
   ],
   "source": [
    "re.findall(\"Amy\", texto)"
   ]
  },
  {
   "cell_type": "markdown",
   "id": "b1b214db",
   "metadata": {},
   "source": [
    "### Teste de inicio de texto com ^"
   ]
  },
  {
   "cell_type": "code",
   "execution_count": 10,
   "id": "9bbb6d63",
   "metadata": {},
   "outputs": [
    {
     "data": {
      "text/plain": [
       "<re.Match object; span=(0, 3), match='Amy'>"
      ]
     },
     "execution_count": 10,
     "metadata": {},
     "output_type": "execute_result"
    }
   ],
   "source": [
    "re.search(\"^Amy\", texto)"
   ]
  },
  {
   "cell_type": "markdown",
   "id": "f62a581d",
   "metadata": {},
   "source": [
    "### Teste de final de texto com $"
   ]
  },
  {
   "cell_type": "code",
   "execution_count": 14,
   "id": "b7708ec1",
   "metadata": {},
   "outputs": [],
   "source": [
    "re.search(\"$estudiosa\", texto)"
   ]
  },
  {
   "cell_type": "markdown",
   "id": "53b6af65",
   "metadata": {},
   "source": [
    "### Pesquisando com 'ou'"
   ]
  },
  {
   "cell_type": "code",
   "execution_count": 19,
   "id": "34364716",
   "metadata": {},
   "outputs": [],
   "source": [
    "notas = \"AAABBCBAABBCAC\""
   ]
  },
  {
   "cell_type": "code",
   "execution_count": 20,
   "id": "890326e2",
   "metadata": {},
   "outputs": [
    {
     "data": {
      "text/plain": [
       "['A', 'A', 'A', 'B', 'B', 'B', 'A', 'A', 'B', 'B', 'A']"
      ]
     },
     "execution_count": 20,
     "metadata": {},
     "output_type": "execute_result"
    }
   ],
   "source": [
    "re.findall(\"[AB]\", notas)"
   ]
  },
  {
   "cell_type": "markdown",
   "id": "f7706eb0",
   "metadata": {},
   "source": [
    "### Pesquisando com intervalos usando padrão estilo A-z"
   ]
  },
  {
   "cell_type": "code",
   "execution_count": 21,
   "id": "00d6a19a",
   "metadata": {},
   "outputs": [
    {
     "data": {
      "text/plain": [
       "['AB', 'AB', 'AC']"
      ]
     },
     "execution_count": 21,
     "metadata": {},
     "output_type": "execute_result"
    }
   ],
   "source": [
    "re.findall(\"[A][B-C]\", notas)"
   ]
  },
  {
   "cell_type": "markdown",
   "id": "e4d87aec",
   "metadata": {},
   "source": [
    "### Pesquisando com not"
   ]
  },
  {
   "cell_type": "code",
   "execution_count": 22,
   "id": "5f78efcd",
   "metadata": {},
   "outputs": [
    {
     "data": {
      "text/plain": [
       "['B', 'B', 'C', 'B', 'B', 'B', 'C', 'C']"
      ]
     },
     "execution_count": 22,
     "metadata": {},
     "output_type": "execute_result"
    }
   ],
   "source": [
    "re.findall(\"[^A]\", notas)"
   ]
  },
  {
   "cell_type": "code",
   "execution_count": 23,
   "id": "8c514150",
   "metadata": {},
   "outputs": [
    {
     "data": {
      "text/plain": [
       "[]"
      ]
     },
     "execution_count": 23,
     "metadata": {},
     "output_type": "execute_result"
    }
   ],
   "source": [
    "re.findall(\"^[^A]\", notas)\n",
    "# strings que não começam com A"
   ]
  },
  {
   "cell_type": "markdown",
   "id": "5bafe3e0",
   "metadata": {},
   "source": [
    "### Quantificadores de pesquisas"
   ]
  },
  {
   "cell_type": "code",
   "execution_count": 24,
   "id": "70bd2edc",
   "metadata": {},
   "outputs": [
    {
     "data": {
      "text/plain": [
       "['AAA', 'AA']"
      ]
     },
     "execution_count": 24,
     "metadata": {},
     "output_type": "execute_result"
    }
   ],
   "source": [
    "# Ocorrências onde temos sequencia de 'A' podendo ser minimo de 2 e maximo de 10\n",
    "re.findall(\"A{2,10}\", notas)"
   ]
  },
  {
   "cell_type": "code",
   "execution_count": 25,
   "id": "d6da6be7",
   "metadata": {},
   "outputs": [
    {
     "data": {
      "text/plain": [
       "['AA', 'AA']"
      ]
     },
     "execution_count": 25,
     "metadata": {},
     "output_type": "execute_result"
    }
   ],
   "source": [
    "re.findall(\"A{1,1}A{1,1}\", notas)"
   ]
  },
  {
   "cell_type": "code",
   "execution_count": 26,
   "id": "407f4eea",
   "metadata": {},
   "outputs": [
    {
     "data": {
      "text/plain": [
       "[]"
      ]
     },
     "execution_count": 26,
     "metadata": {},
     "output_type": "execute_result"
    }
   ],
   "source": [
    "# nao podemos colocar espaços\n",
    "re.findall(\"A{1, 1}\", notas)"
   ]
  },
  {
   "cell_type": "code",
   "execution_count": 27,
   "id": "b13e16b7",
   "metadata": {},
   "outputs": [
    {
     "data": {
      "text/plain": [
       "['AA', 'AA']"
      ]
     },
     "execution_count": 27,
     "metadata": {},
     "output_type": "execute_result"
    }
   ],
   "source": [
    "re.findall(\"AA\", notas)"
   ]
  },
  {
   "cell_type": "code",
   "execution_count": 28,
   "id": "87ea4ba0",
   "metadata": {},
   "outputs": [
    {
     "data": {
      "text/plain": [
       "['AA', 'AA']"
      ]
     },
     "execution_count": 28,
     "metadata": {},
     "output_type": "execute_result"
    }
   ],
   "source": [
    "# minimo e maximo iguais\n",
    "re.findall(\"A{2}\", notas)"
   ]
  },
  {
   "cell_type": "code",
   "execution_count": 31,
   "id": "d987e06c",
   "metadata": {},
   "outputs": [
    {
     "data": {
      "text/plain": [
       "['AAABBC', 'AABBC']"
      ]
     },
     "execution_count": 31,
     "metadata": {},
     "output_type": "execute_result"
    }
   ],
   "source": [
    "re.findall(\"A{1,10}B{1,10}C{1,10}\", notas)"
   ]
  },
  {
   "cell_type": "code",
   "execution_count": null,
   "id": "bfcea769",
   "metadata": {},
   "outputs": [],
   "source": []
  }
 ],
 "metadata": {
  "kernelspec": {
   "display_name": "Python 3 (ipykernel)",
   "language": "python",
   "name": "python3"
  },
  "language_info": {
   "codemirror_mode": {
    "name": "ipython",
    "version": 3
   },
   "file_extension": ".py",
   "mimetype": "text/x-python",
   "name": "python",
   "nbconvert_exporter": "python",
   "pygments_lexer": "ipython3",
   "version": "3.8.10"
  }
 },
 "nbformat": 4,
 "nbformat_minor": 5
}
