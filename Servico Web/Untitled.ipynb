{
 "cells": [
  {
   "cell_type": "code",
   "execution_count": 1,
   "id": "58dfc8f7",
   "metadata": {},
   "outputs": [],
   "source": [
    "import numpy as np\n",
    "import pandas as pd"
   ]
  },
  {
   "cell_type": "code",
   "execution_count": 2,
   "id": "2badb865",
   "metadata": {},
   "outputs": [],
   "source": [
    "df2 = pd.DataFrame({'A': 1.,\n",
    "                        'C': pd.Series(1, index=list(range(4)), dtype='float32'),\n",
    "                        'D': np.array([3] * 4, dtype='int32'),\n",
    "                        'E': pd.Categorical([\"test\", \"train\", \"test\", \"train\"]),                    \n",
    "                        'F': 'foo'})\n",
    "\n",
    "df2['G'] = [100,200,300,400]\n",
    "df2.set_index('G', inplace=True)\n",
    "result = {}\n",
    "for index, row in df2.iterrows():\n",
    "    #result[index] = row.to_json() \n",
    "    result[index] = dict(row)"
   ]
  },
  {
   "cell_type": "code",
   "execution_count": 3,
   "id": "16a7e27c",
   "metadata": {},
   "outputs": [
    {
     "data": {
      "text/plain": [
       "{100: {'A': 1.0, 'C': 1.0, 'D': 3, 'E': 'test', 'F': 'foo'},\n",
       " 200: {'A': 1.0, 'C': 1.0, 'D': 3, 'E': 'train', 'F': 'foo'},\n",
       " 300: {'A': 1.0, 'C': 1.0, 'D': 3, 'E': 'test', 'F': 'foo'},\n",
       " 400: {'A': 1.0, 'C': 1.0, 'D': 3, 'E': 'train', 'F': 'foo'}}"
      ]
     },
     "execution_count": 3,
     "metadata": {},
     "output_type": "execute_result"
    }
   ],
   "source": [
    "result"
   ]
  },
  {
   "cell_type": "code",
   "execution_count": null,
   "id": "1e4b9ef6",
   "metadata": {},
   "outputs": [],
   "source": []
  }
 ],
 "metadata": {
  "kernelspec": {
   "display_name": "Python 3 (ipykernel)",
   "language": "python",
   "name": "python3"
  },
  "language_info": {
   "codemirror_mode": {
    "name": "ipython",
    "version": 3
   },
   "file_extension": ".py",
   "mimetype": "text/x-python",
   "name": "python",
   "nbconvert_exporter": "python",
   "pygments_lexer": "ipython3",
   "version": "3.8.10"
  }
 },
 "nbformat": 4,
 "nbformat_minor": 5
}
