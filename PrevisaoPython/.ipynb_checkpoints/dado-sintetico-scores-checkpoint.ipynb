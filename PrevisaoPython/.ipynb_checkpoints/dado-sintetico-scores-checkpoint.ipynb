{
 "cells": [
  {
   "cell_type": "markdown",
   "id": "03d0999e",
   "metadata": {},
   "source": [
    "# Importações"
   ]
  },
  {
   "cell_type": "code",
   "execution_count": 1,
   "id": "ac9dd312",
   "metadata": {
    "scrolled": true
   },
   "outputs": [
    {
     "name": "stderr",
     "output_type": "stream",
     "text": [
      "2023-07-15 13:10:34.949642: I tensorflow/core/platform/cpu_feature_guard.cc:193] This TensorFlow binary is optimized with oneAPI Deep Neural Network Library (oneDNN) to use the following CPU instructions in performance-critical operations:  AVX2 FMA\n",
      "To enable them in other operations, rebuild TensorFlow with the appropriate compiler flags.\n",
      "2023-07-15 13:10:37.930001: W tensorflow/compiler/xla/stream_executor/platform/default/dso_loader.cc:64] Could not load dynamic library 'libcudart.so.11.0'; dlerror: libcudart.so.11.0: cannot open shared object file: No such file or directory\n",
      "2023-07-15 13:10:37.930034: I tensorflow/compiler/xla/stream_executor/cuda/cudart_stub.cc:29] Ignore above cudart dlerror if you do not have a GPU set up on your machine.\n",
      "2023-07-15 13:10:45.784343: W tensorflow/compiler/xla/stream_executor/platform/default/dso_loader.cc:64] Could not load dynamic library 'libnvinfer.so.7'; dlerror: libnvinfer.so.7: cannot open shared object file: No such file or directory\n",
      "2023-07-15 13:10:45.786715: W tensorflow/compiler/xla/stream_executor/platform/default/dso_loader.cc:64] Could not load dynamic library 'libnvinfer_plugin.so.7'; dlerror: libnvinfer_plugin.so.7: cannot open shared object file: No such file or directory\n",
      "2023-07-15 13:10:45.786751: W tensorflow/compiler/tf2tensorrt/utils/py_utils.cc:38] TF-TRT Warning: Cannot dlopen some TensorRT libraries. If you would like to use Nvidia GPU with TensorRT, please make sure the missing libraries mentioned above are installed properly.\n"
     ]
    }
   ],
   "source": [
    "import tensorflow as tf\n",
    "import requests\n",
    "import pandas as pd\n",
    "import numpy as np\n",
    "\n",
    "import json\n",
    "import math"
   ]
  },
  {
   "cell_type": "markdown",
   "id": "4744f0ef",
   "metadata": {},
   "source": [
    "# Obtendo Experimentos"
   ]
  },
  {
   "cell_type": "code",
   "execution_count": 9,
   "id": "18763514",
   "metadata": {},
   "outputs": [
    {
     "data": {
      "text/html": [
       "<div>\n",
       "<style scoped>\n",
       "    .dataframe tbody tr th:only-of-type {\n",
       "        vertical-align: middle;\n",
       "    }\n",
       "\n",
       "    .dataframe tbody tr th {\n",
       "        vertical-align: top;\n",
       "    }\n",
       "\n",
       "    .dataframe thead th {\n",
       "        text-align: right;\n",
       "    }\n",
       "</style>\n",
       "<table border=\"1\" class=\"dataframe\">\n",
       "  <thead>\n",
       "    <tr style=\"text-align: right;\">\n",
       "      <th></th>\n",
       "      <th>id</th>\n",
       "      <th>nome</th>\n",
       "      <th>experimentoPreRedeId</th>\n",
       "      <th>grupoAcaoId</th>\n",
       "      <th>regraProjecaoId</th>\n",
       "      <th>geraScore</th>\n",
       "      <th>periodoTreinoRedeId</th>\n",
       "      <th>nomeArquivoRede</th>\n",
       "    </tr>\n",
       "  </thead>\n",
       "  <tbody>\n",
       "    <tr>\n",
       "      <th>0</th>\n",
       "      <td>1</td>\n",
       "      <td>01</td>\n",
       "      <td>1</td>\n",
       "      <td>12</td>\n",
       "      <td>127</td>\n",
       "      <td>S</td>\n",
       "      <td>7</td>\n",
       "      <td>ExperimentoSintetico_Prometeu_v0_aInicial</td>\n",
       "    </tr>\n",
       "  </tbody>\n",
       "</table>\n",
       "</div>"
      ],
      "text/plain": [
       "   id nome  experimentoPreRedeId  grupoAcaoId  regraProjecaoId geraScore  \\\n",
       "0   1   01                     1           12              127         S   \n",
       "\n",
       "   periodoTreinoRedeId                            nomeArquivoRede  \n",
       "0                    7  ExperimentoSintetico_Prometeu_v0_aInicial  "
      ]
     },
     "execution_count": 9,
     "metadata": {},
     "output_type": "execute_result"
    }
   ],
   "source": [
    "url = \"http://vps-40d69db1.vps.ovh.ca:23004/api/ExperimentoPreRedeTreinadas/listaParaScore\"\n",
    "\n",
    "r = requests.get(url)\n",
    "j = r.json()\n",
    "dfExperimento = pd.DataFrame.from_dict(j)\n",
    "dfExperimento.head()"
   ]
  },
  {
   "cell_type": "markdown",
   "id": "5a54756a",
   "metadata": {},
   "source": [
    "# Globais"
   ]
  },
  {
   "cell_type": "code",
   "execution_count": 10,
   "id": "a9ddf246",
   "metadata": {},
   "outputs": [],
   "source": [
    "global experimentoCorrente\n",
    "global diaCorrente\n",
    "global modelo\n",
    "global dfDados\n",
    "global X"
   ]
  },
  {
   "cell_type": "markdown",
   "id": "4ead98ac",
   "metadata": {},
   "source": [
    "# Trata Experimento"
   ]
  },
  {
   "cell_type": "code",
   "execution_count": 11,
   "id": "d0eb7071",
   "metadata": {},
   "outputs": [],
   "source": [
    "def trataExperimento(experimento):\n",
    "    experimentoCorrente = treino\n",
    "    nome_arquivo = '/root/executa-rede/redes/' + experimento.nomeArquivoRede + '.h5'\n",
    "    # carrega modelo\n",
    "    modelo = tf.keras.models.load_model(nome_arquivo)\n",
    "    urlDias = \"http://vps-40d69db1.vps.ovh.ca:23004/api/DiaPregaos/obtemPeriodoPrevisaoTeste?idPeriodoTreinoRede={}\".format(experimento.periodoTreinoRedeId)\n",
    "    r = requests.get(urlDias)\n",
    "    j = r.json()\n",
    "    # carrega dfDias\n",
    "    dfDias = pd.DataFrame.from_dict(j)\n",
    "    print(dfDias.head())\n",
    "    dfDias.apply(trataDiaPregao, axis='columns')"
   ]
  },
  {
   "cell_type": "markdown",
   "id": "7240b93c",
   "metadata": {},
   "source": [
    "# Trata Dia"
   ]
  },
  {
   "cell_type": "code",
   "execution_count": null,
   "id": "9d6a3793",
   "metadata": {},
   "outputs": [],
   "source": [
    "def trataDiaPregao(dia):\n",
    "    print('Tratando Dia: ' , dia.diaNum)\n",
    "    diaCorrente = dia.diaNum\n",
    "    urlExemplos = \"http://vps-40d69db1.vps.ovh.ca:23004/api/ExemploTreinoAcaoEntradas/obtemPorDiaNum?diaNum={}\".format(dia.diaNum)\n",
    "    print(urlExemplos)\n",
    "    r = requests.get(urlExemplos)\n",
    "    j = r.json()\n",
    "    # meu dados totais de entrada\n",
    "    dfDados = pd.DataFrame.from_dict(j)\n",
    "    #print(dfDados.head())\n",
    "    dfTratadoX = Y.apply(lambda linha: np.fromstring(linha['campoX'], dtype=float, sep=','), axis='columns')\n",
    "    # meu dataframe X\n",
    "    X = np.stack(dfTratadoX.values)\n",
    "    X.shape\n",
    "    #dfDados.drop('campoX', inplace=True, axis=1)\n",
    "    executaPrevisao()"
   ]
  },
  {
   "cell_type": "markdown",
   "id": "5f6c5c25",
   "metadata": {},
   "source": [
    "# Cria as previsões"
   ]
  },
  {
   "cell_type": "code",
   "execution_count": null,
   "id": "d4c304c2",
   "metadata": {},
   "outputs": [],
   "source": [
    "def executaPrevisao():\n",
    "    dfPrevisao = Y\n",
    "    result = modelo.predict(X)\n",
    "    dfPrevisao['score'] = result\n",
    "    dfPrevisao['experimentoId'] = str(experimentoCorrente['id'])\n",
    "    dfPrevisao.drop('campoY', inplace=True, axis=1)\n",
    "    urlPrevisao = 'http://vps-40d69db1.vps.ovh.ca:23004/api/ExperimentoPreRedeResultados/recebePrevisaoTeste'\n",
    "    print(urlPrevisao)\n",
    "    dfPrevisao = pd.merge(dfDados,dfEntradas, how='left', left_on='ticker' ,  right_on='ticker')\n",
    "    #print('ticker previsão:' , len(dfPrevisao))\n",
    "    json = dfPrevisao.to_dict(orient='list')\n",
    "    urlPrevisao = 'http://vps-40d69db1.vps.ovh.ca:23004/api/PrevisaoTestes/recebePrevisaoTreinoTeste'\n",
    "    #print(json)\n",
    "    response = requests.post(urlPrevisao, data=json)\n",
    "    print(response)"
   ]
  }
 ],
 "metadata": {
  "kernelspec": {
   "display_name": "Python 3 (ipykernel)",
   "language": "python",
   "name": "python3"
  },
  "language_info": {
   "codemirror_mode": {
    "name": "ipython",
    "version": 3
   },
   "file_extension": ".py",
   "mimetype": "text/x-python",
   "name": "python",
   "nbconvert_exporter": "python",
   "pygments_lexer": "ipython3",
   "version": "3.8.10"
  }
 },
 "nbformat": 4,
 "nbformat_minor": 5
}
