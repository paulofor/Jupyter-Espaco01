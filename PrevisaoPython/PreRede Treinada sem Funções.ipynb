{
 "cells": [
  {
   "cell_type": "markdown",
   "id": "6dff8642",
   "metadata": {},
   "source": [
    "# Importações"
   ]
  },
  {
   "cell_type": "code",
   "execution_count": 1,
   "id": "ace7ec7b",
   "metadata": {},
   "outputs": [
    {
     "name": "stderr",
     "output_type": "stream",
     "text": [
      "2023-07-17 18:00:00.998861: I tensorflow/core/platform/cpu_feature_guard.cc:193] This TensorFlow binary is optimized with oneAPI Deep Neural Network Library (oneDNN) to use the following CPU instructions in performance-critical operations:  AVX2 FMA\n",
      "To enable them in other operations, rebuild TensorFlow with the appropriate compiler flags.\n",
      "2023-07-17 18:00:06.234964: W tensorflow/compiler/xla/stream_executor/platform/default/dso_loader.cc:64] Could not load dynamic library 'libcudart.so.11.0'; dlerror: libcudart.so.11.0: cannot open shared object file: No such file or directory\n",
      "2023-07-17 18:00:06.235061: I tensorflow/compiler/xla/stream_executor/cuda/cudart_stub.cc:29] Ignore above cudart dlerror if you do not have a GPU set up on your machine.\n",
      "2023-07-17 18:00:33.510440: W tensorflow/compiler/xla/stream_executor/platform/default/dso_loader.cc:64] Could not load dynamic library 'libnvinfer.so.7'; dlerror: libnvinfer.so.7: cannot open shared object file: No such file or directory\n",
      "2023-07-17 18:00:33.520064: W tensorflow/compiler/xla/stream_executor/platform/default/dso_loader.cc:64] Could not load dynamic library 'libnvinfer_plugin.so.7'; dlerror: libnvinfer_plugin.so.7: cannot open shared object file: No such file or directory\n",
      "2023-07-17 18:00:33.520105: W tensorflow/compiler/tf2tensorrt/utils/py_utils.cc:38] TF-TRT Warning: Cannot dlopen some TensorRT libraries. If you would like to use Nvidia GPU with TensorRT, please make sure the missing libraries mentioned above are installed properly.\n"
     ]
    }
   ],
   "source": [
    "import tensorflow as tf\n",
    "import requests\n",
    "import pandas as pd\n",
    "import numpy as np\n",
    "\n",
    "import json\n",
    "import math"
   ]
  },
  {
   "cell_type": "markdown",
   "id": "e5146dea",
   "metadata": {},
   "source": [
    "# Globais"
   ]
  },
  {
   "cell_type": "code",
   "execution_count": 2,
   "id": "fae2ffd4",
   "metadata": {},
   "outputs": [],
   "source": [
    "global experimentoCorrente\n",
    "global diaCorrente\n",
    "global modelo\n",
    "global dfDados\n",
    "global X"
   ]
  },
  {
   "cell_type": "markdown",
   "id": "32e24317",
   "metadata": {},
   "source": [
    "# Obtendo Experimentos"
   ]
  },
  {
   "cell_type": "code",
   "execution_count": 8,
   "id": "8c8a1017",
   "metadata": {},
   "outputs": [
    {
     "data": {
      "text/html": [
       "<div>\n",
       "<style scoped>\n",
       "    .dataframe tbody tr th:only-of-type {\n",
       "        vertical-align: middle;\n",
       "    }\n",
       "\n",
       "    .dataframe tbody tr th {\n",
       "        vertical-align: top;\n",
       "    }\n",
       "\n",
       "    .dataframe thead th {\n",
       "        text-align: right;\n",
       "    }\n",
       "</style>\n",
       "<table border=\"1\" class=\"dataframe\">\n",
       "  <thead>\n",
       "    <tr style=\"text-align: right;\">\n",
       "      <th></th>\n",
       "      <th>id</th>\n",
       "      <th>nome</th>\n",
       "      <th>experimentoPreRedeId</th>\n",
       "      <th>grupoAcaoId</th>\n",
       "      <th>regraProjecaoId</th>\n",
       "      <th>geraScore</th>\n",
       "      <th>periodoTreinoRedeId</th>\n",
       "      <th>nomeArquivoRede</th>\n",
       "      <th>qtdeDias1</th>\n",
       "      <th>qtdeDias2</th>\n",
       "    </tr>\n",
       "  </thead>\n",
       "  <tbody>\n",
       "    <tr>\n",
       "      <th>0</th>\n",
       "      <td>1</td>\n",
       "      <td>01</td>\n",
       "      <td>1</td>\n",
       "      <td>12</td>\n",
       "      <td>127</td>\n",
       "      <td>S</td>\n",
       "      <td>7</td>\n",
       "      <td>ExperimentoSintetico_Prometeu_v0_aInicial</td>\n",
       "      <td>20</td>\n",
       "      <td>None</td>\n",
       "    </tr>\n",
       "  </tbody>\n",
       "</table>\n",
       "</div>"
      ],
      "text/plain": [
       "   id nome  experimentoPreRedeId  grupoAcaoId  regraProjecaoId geraScore  \\\n",
       "0   1   01                     1           12              127         S   \n",
       "\n",
       "   periodoTreinoRedeId                            nomeArquivoRede  qtdeDias1  \\\n",
       "0                    7  ExperimentoSintetico_Prometeu_v0_aInicial         20   \n",
       "\n",
       "  qtdeDias2  \n",
       "0      None  "
      ]
     },
     "execution_count": 8,
     "metadata": {},
     "output_type": "execute_result"
    }
   ],
   "source": [
    "url = \"http://vps-40d69db1.vps.ovh.ca:23004/api/ExperimentoPreRedeTreinadas/listaParaScore\"\n",
    "\n",
    "r = requests.get(url)\n",
    "j = r.json()\n",
    "dfExperimento = pd.DataFrame.from_dict(j)\n",
    "dfExperimento.head()"
   ]
  },
  {
   "cell_type": "markdown",
   "id": "8832c852",
   "metadata": {},
   "source": [
    "# Trata Experimento"
   ]
  },
  {
   "cell_type": "code",
   "execution_count": 10,
   "id": "d5334e4e",
   "metadata": {},
   "outputs": [
    {
     "name": "stdout",
     "output_type": "stream",
     "text": [
      "http://vps-40d69db1.vps.ovh.ca:23004/api/DiaPregaos/obtemPeriodoPrevisaoTeste?idPeriodoTreinoRede=7\n",
      "                       data  mes   ano    diaNum     dataStr dataDbStr\n",
      "0  2023-04-03T00:00:00.000Z    4  2023  20230403  03-04-2023      None\n",
      "1  2023-04-04T00:00:00.000Z    4  2023  20230404  04-04-2023      None\n",
      "2  2023-04-05T00:00:00.000Z    4  2023  20230405  05-04-2023      None\n",
      "3  2023-04-06T00:00:00.000Z    4  2023  20230406  06-04-2023      None\n",
      "4  2023-04-10T00:00:00.000Z    4  2023  20230410  10-04-2023      None\n"
     ]
    }
   ],
   "source": [
    "experimentoCorrente = dfExperimento.iloc[0]\n",
    "nome_arquivo = '/root/executa-rede/redes/' + experimentoCorrente.nomeArquivoRede + '.h5'\n",
    "# carrega modelo\n",
    "modelo = tf.keras.models.load_model(nome_arquivo)\n",
    "urlDias = \"http://vps-40d69db1.vps.ovh.ca:23004/api/DiaPregaos/obtemPeriodoPrevisaoTeste?idPeriodoTreinoRede={}\".format(experimentoCorrente.periodoTreinoRedeId)\n",
    "print(urlDias)\n",
    "r = requests.get(urlDias)\n",
    "j = r.json()\n",
    "# carrega dfDias\n",
    "dfDias = pd.DataFrame.from_dict(j)\n",
    "print(dfDias.head())\n"
   ]
  },
  {
   "cell_type": "markdown",
   "id": "6afbb1dd",
   "metadata": {},
   "source": [
    "# Trata Dia"
   ]
  },
  {
   "cell_type": "code",
   "execution_count": 12,
   "id": "6a8a22ee",
   "metadata": {},
   "outputs": [
    {
     "name": "stdout",
     "output_type": "stream",
     "text": [
      "http://vps-40d69db1.vps.ovh.ca:23004/api/ExemploTreinoAcaoEntradas/obtemPorDiaNum?diaNum=20230403&qtdeDias=20\n",
      "                                              campoX ticker  diaNumPrevisao\n",
      "0   0.925614, 0.926316, 0.926316, 0.931930, 0.931...  ABEV3        20230403\n",
      "1   0.957627, 0.957627, 0.991525, 1.025424, 1.025...  AERI3        20230403\n",
      "2   1.114391, 1.100861, 1.084871, 1.099631, 1.107...  ALPA4        20230403\n",
      "3   0.947429, 0.946286, 0.943429, 0.951429, 0.950...  ALSO3        20230403\n",
      "4   0.953125, 0.937500, 0.937500, 0.937500, 0.953...  AMAR3        20230403\n",
      "0    [0.925614, 0.926316, 0.926316, 0.93193, 0.9319...\n",
      "1    [0.957627, 0.957627, 0.991525, 1.025424, 1.025...\n",
      "2    [1.114391, 1.100861, 1.084871, 1.099631, 1.107...\n",
      "3    [0.947429, 0.946286, 0.943429, 0.951429, 0.950...\n",
      "4    [0.953125, 0.9375, 0.9375, 0.9375, 0.953125, 0...\n",
      "dtype: object\n"
     ]
    },
    {
     "data": {
      "text/plain": [
       "(83, 300)"
      ]
     },
     "execution_count": 12,
     "metadata": {},
     "output_type": "execute_result"
    }
   ],
   "source": [
    "diaCorrente = dfDias.iloc[0]\n",
    "urlExemplos = \"http://vps-40d69db1.vps.ovh.ca:23004/api/ExemploTreinoAcaoEntradas/obtemPorDiaNum?diaNum={}&qtdeDias={}\".format(diaCorrente.diaNum,experimentoCorrente.qtdeDias1)\n",
    "print(urlExemplos)\n",
    "r = requests.get(urlExemplos)\n",
    "j = r.json()\n",
    "\n",
    "# meu dados totais de entrada\n",
    "dfDados = pd.DataFrame.from_dict(j)\n",
    "print(dfDados.head())\n",
    "dfTratadoX = dfDados.apply(lambda linha: np.fromstring(linha['campoX'], dtype=float, sep=','), axis='columns')\n",
    "print(dfTratadoX.head())\n",
    "\n",
    "# meu dataframe X\n",
    "X = np.stack(dfTratadoX.values)\n",
    "X.shape"
   ]
  },
  {
   "cell_type": "markdown",
   "id": "c30de02a",
   "metadata": {},
   "source": [
    "# Previsões"
   ]
  },
  {
   "cell_type": "code",
   "execution_count": 13,
   "id": "df14f1e2",
   "metadata": {},
   "outputs": [
    {
     "name": "stderr",
     "output_type": "stream",
     "text": [
      "2023-07-18 12:58:14.058633: W tensorflow/tsl/framework/cpu_allocator_impl.cc:82] Allocation of 2457600 exceeds 10% of free system memory.\n",
      "2023-07-18 12:58:14.108253: W tensorflow/tsl/framework/cpu_allocator_impl.cc:82] Allocation of 2457600 exceeds 10% of free system memory.\n",
      "2023-07-18 12:58:14.302948: W tensorflow/tsl/framework/cpu_allocator_impl.cc:82] Allocation of 2457600 exceeds 10% of free system memory.\n",
      "2023-07-18 12:58:14.479867: W tensorflow/tsl/framework/cpu_allocator_impl.cc:82] Allocation of 1228800 exceeds 10% of free system memory.\n",
      "2023-07-18 12:58:14.481354: W tensorflow/tsl/framework/cpu_allocator_impl.cc:82] Allocation of 1228800 exceeds 10% of free system memory.\n"
     ]
    },
    {
     "name": "stdout",
     "output_type": "stream",
     "text": [
      "3/3 [==============================] - 20s 198ms/step\n"
     ]
    }
   ],
   "source": [
    "result = modelo.predict(X)"
   ]
  },
  {
   "cell_type": "code",
   "execution_count": 21,
   "id": "310a03d9",
   "metadata": {},
   "outputs": [
    {
     "name": "stdout",
     "output_type": "stream",
     "text": [
      "<class 'numpy.ndarray'>\n"
     ]
    }
   ],
   "source": [
    "print(type(result))"
   ]
  },
  {
   "cell_type": "markdown",
   "id": "9b597b0e",
   "metadata": {},
   "source": [
    "# Colocando os resultados em um dataframe"
   ]
  },
  {
   "cell_type": "code",
   "execution_count": 16,
   "id": "9c4fe30f",
   "metadata": {},
   "outputs": [],
   "source": [
    "dfDados['resultado'] = result"
   ]
  },
  {
   "cell_type": "code",
   "execution_count": 17,
   "id": "ec5559dc",
   "metadata": {},
   "outputs": [
    {
     "data": {
      "text/html": [
       "<div>\n",
       "<style scoped>\n",
       "    .dataframe tbody tr th:only-of-type {\n",
       "        vertical-align: middle;\n",
       "    }\n",
       "\n",
       "    .dataframe tbody tr th {\n",
       "        vertical-align: top;\n",
       "    }\n",
       "\n",
       "    .dataframe thead th {\n",
       "        text-align: right;\n",
       "    }\n",
       "</style>\n",
       "<table border=\"1\" class=\"dataframe\">\n",
       "  <thead>\n",
       "    <tr style=\"text-align: right;\">\n",
       "      <th></th>\n",
       "      <th>campoX</th>\n",
       "      <th>ticker</th>\n",
       "      <th>diaNumPrevisao</th>\n",
       "      <th>resultado</th>\n",
       "    </tr>\n",
       "  </thead>\n",
       "  <tbody>\n",
       "    <tr>\n",
       "      <th>0</th>\n",
       "      <td>0.925614, 0.926316, 0.926316, 0.931930, 0.931...</td>\n",
       "      <td>ABEV3</td>\n",
       "      <td>20230403</td>\n",
       "      <td>0.001159</td>\n",
       "    </tr>\n",
       "    <tr>\n",
       "      <th>1</th>\n",
       "      <td>0.957627, 0.957627, 0.991525, 1.025424, 1.025...</td>\n",
       "      <td>AERI3</td>\n",
       "      <td>20230403</td>\n",
       "      <td>0.001159</td>\n",
       "    </tr>\n",
       "    <tr>\n",
       "      <th>2</th>\n",
       "      <td>1.114391, 1.100861, 1.084871, 1.099631, 1.107...</td>\n",
       "      <td>ALPA4</td>\n",
       "      <td>20230403</td>\n",
       "      <td>0.001159</td>\n",
       "    </tr>\n",
       "    <tr>\n",
       "      <th>3</th>\n",
       "      <td>0.947429, 0.946286, 0.943429, 0.951429, 0.950...</td>\n",
       "      <td>ALSO3</td>\n",
       "      <td>20230403</td>\n",
       "      <td>0.001159</td>\n",
       "    </tr>\n",
       "    <tr>\n",
       "      <th>4</th>\n",
       "      <td>0.953125, 0.937500, 0.937500, 0.937500, 0.953...</td>\n",
       "      <td>AMAR3</td>\n",
       "      <td>20230403</td>\n",
       "      <td>0.001159</td>\n",
       "    </tr>\n",
       "  </tbody>\n",
       "</table>\n",
       "</div>"
      ],
      "text/plain": [
       "                                              campoX ticker  diaNumPrevisao  \\\n",
       "0   0.925614, 0.926316, 0.926316, 0.931930, 0.931...  ABEV3        20230403   \n",
       "1   0.957627, 0.957627, 0.991525, 1.025424, 1.025...  AERI3        20230403   \n",
       "2   1.114391, 1.100861, 1.084871, 1.099631, 1.107...  ALPA4        20230403   \n",
       "3   0.947429, 0.946286, 0.943429, 0.951429, 0.950...  ALSO3        20230403   \n",
       "4   0.953125, 0.937500, 0.937500, 0.937500, 0.953...  AMAR3        20230403   \n",
       "\n",
       "   resultado  \n",
       "0   0.001159  \n",
       "1   0.001159  \n",
       "2   0.001159  \n",
       "3   0.001159  \n",
       "4   0.001159  "
      ]
     },
     "execution_count": 17,
     "metadata": {},
     "output_type": "execute_result"
    }
   ],
   "source": [
    "dfDados.head()"
   ]
  },
  {
   "cell_type": "code",
   "execution_count": 27,
   "id": "40baa56d",
   "metadata": {},
   "outputs": [],
   "source": [
    "dfPrevisao = pd.DataFrame({'score': pd.Series(result.flatten())})"
   ]
  },
  {
   "cell_type": "code",
   "execution_count": 35,
   "id": "8f65f77b",
   "metadata": {},
   "outputs": [
    {
     "data": {
      "text/html": [
       "<div>\n",
       "<style scoped>\n",
       "    .dataframe tbody tr th:only-of-type {\n",
       "        vertical-align: middle;\n",
       "    }\n",
       "\n",
       "    .dataframe tbody tr th {\n",
       "        vertical-align: top;\n",
       "    }\n",
       "\n",
       "    .dataframe thead th {\n",
       "        text-align: right;\n",
       "    }\n",
       "</style>\n",
       "<table border=\"1\" class=\"dataframe\">\n",
       "  <thead>\n",
       "    <tr style=\"text-align: right;\">\n",
       "      <th></th>\n",
       "      <th>score</th>\n",
       "      <th>diaNum</th>\n",
       "      <th>experimentoPreRedeTreinadaId</th>\n",
       "      <th>ticker</th>\n",
       "    </tr>\n",
       "  </thead>\n",
       "  <tbody>\n",
       "    <tr>\n",
       "      <th>0</th>\n",
       "      <td>0.001159</td>\n",
       "      <td>20230403</td>\n",
       "      <td>1</td>\n",
       "      <td>ABEV3</td>\n",
       "    </tr>\n",
       "    <tr>\n",
       "      <th>1</th>\n",
       "      <td>0.001159</td>\n",
       "      <td>20230403</td>\n",
       "      <td>1</td>\n",
       "      <td>AERI3</td>\n",
       "    </tr>\n",
       "    <tr>\n",
       "      <th>2</th>\n",
       "      <td>0.001159</td>\n",
       "      <td>20230403</td>\n",
       "      <td>1</td>\n",
       "      <td>ALPA4</td>\n",
       "    </tr>\n",
       "    <tr>\n",
       "      <th>3</th>\n",
       "      <td>0.001159</td>\n",
       "      <td>20230403</td>\n",
       "      <td>1</td>\n",
       "      <td>ALSO3</td>\n",
       "    </tr>\n",
       "    <tr>\n",
       "      <th>4</th>\n",
       "      <td>0.001159</td>\n",
       "      <td>20230403</td>\n",
       "      <td>1</td>\n",
       "      <td>AMAR3</td>\n",
       "    </tr>\n",
       "  </tbody>\n",
       "</table>\n",
       "</div>"
      ],
      "text/plain": [
       "      score    diaNum  experimentoPreRedeTreinadaId ticker\n",
       "0  0.001159  20230403                             1  ABEV3\n",
       "1  0.001159  20230403                             1  AERI3\n",
       "2  0.001159  20230403                             1  ALPA4\n",
       "3  0.001159  20230403                             1  ALSO3\n",
       "4  0.001159  20230403                             1  AMAR3"
      ]
     },
     "execution_count": 35,
     "metadata": {},
     "output_type": "execute_result"
    }
   ],
   "source": [
    "dfPrevisao.head()"
   ]
  },
  {
   "cell_type": "code",
   "execution_count": 29,
   "id": "490a5b6d",
   "metadata": {},
   "outputs": [],
   "source": [
    "dfPrevisao['diaNum'] = diaCorrente.diaNum"
   ]
  },
  {
   "cell_type": "code",
   "execution_count": 32,
   "id": "6812fdab",
   "metadata": {},
   "outputs": [],
   "source": [
    "dfPrevisao['experimentoPreRedeTreinadaId'] = experimentoCorrente.id"
   ]
  },
  {
   "cell_type": "code",
   "execution_count": 34,
   "id": "de478384",
   "metadata": {},
   "outputs": [],
   "source": [
    "dfPrevisao['ticker'] = dfDados.ticker"
   ]
  },
  {
   "cell_type": "markdown",
   "id": "7ffa1de8",
   "metadata": {},
   "source": [
    "# Enviar Dados de Previsão"
   ]
  },
  {
   "cell_type": "code",
   "execution_count": 41,
   "id": "b1c9c0d0",
   "metadata": {},
   "outputs": [
    {
     "name": "stdout",
     "output_type": "stream",
     "text": [
      "ticker previsão: 83\n",
      "<Response [200]>\n"
     ]
    }
   ],
   "source": [
    "print('ticker previsão:' , len(dfPrevisao))\n",
    "json = dfPrevisao.to_dict(orient='list')\n",
    "urlPrevisao = 'http://vps-40d69db1.vps.ovh.ca:23004/api/ExperimentoPreRedeTreinadaScores/recebePrevisaoPreRedeTreinada'\n",
    "#print(json)\n",
    "response = requests.post(urlPrevisao, data=json)\n",
    "print(response)"
   ]
  },
  {
   "cell_type": "code",
   "execution_count": 38,
   "id": "934bd06b",
   "metadata": {},
   "outputs": [
    {
     "name": "stdout",
     "output_type": "stream",
     "text": [
      "{'score': [0.00115868984721601, 0.0011586915934458375, 0.0011586170876398683, 0.0011586655164137483, 0.0011588113848119974, 0.0011587709886953235, 0.8213529586791992, 0.001158739672973752, 0.0011587947374209762, 0.0011587454937398434, 0.0011587826302275062, 0.0011586116161197424, 0.0011587319895625114, 0.0011588080087676644, 0.0011587390908971429, 0.0011586910113692284, 0.0011587280314415693, 0.8212597370147705, 0.0011586942709982395, 0.8213174939155579, 0.00115875992923975, 0.0011587191838771105, 0.001158692641183734, 0.0011586705222725868, 0.0011586854234337807, 0.0011587693588808179, 0.0011587428161874413, 0.0011586485197767615, 0.0011587543413043022, 0.8213072419166565, 0.0011587163899093866, 0.0011586948530748487, 0.0011587119661271572, 0.8213642835617065, 0.0011587516637519002, 0.0011586584150791168, 0.0011587009066715837, 0.0011586904292926192, 0.0011587119661271572, 0.0011587064946070313, 0.001158747705630958, 0.0011587119661271572, 0.001158760511316359, 0.0011586336186155677, 0.0011586402542889118, 0.001158757135272026, 0.0011586843756958842, 0.0011586727341637015, 0.0011586887994781137, 0.0011605180334299803, 0.0011586688924580812, 0.001158727565780282, 0.0011586557375267148, 0.8212999105453491, 0.001158753875643015, 0.8216472864151001, 0.001158741652034223, 0.0011587319895625114, 0.0011587830958887935, 0.001158643513917923, 0.001158753875643015, 0.0011586876353248954, 0.0011587131302803755, 0.0011586683103814721, 0.0011586887994781137, 0.0011586346663534641, 0.0011586545733734965, 0.0011587064946070313, 0.0011587704066187143, 0.0011586610926315188, 0.0011587981134653091, 0.001158745028078556, 0.0011587466578930616, 0.0011587438639253378, 0.0011587671469897032, 0.0011586655164137483, 0.0011587654007598758, 0.001158708706498146, 0.0011588180204853415, 0.001158765982836485, 0.0011587014887481928, 0.0011586567852646112, 0.0011586644686758518], 'diaNum': [20230403, 20230403, 20230403, 20230403, 20230403, 20230403, 20230403, 20230403, 20230403, 20230403, 20230403, 20230403, 20230403, 20230403, 20230403, 20230403, 20230403, 20230403, 20230403, 20230403, 20230403, 20230403, 20230403, 20230403, 20230403, 20230403, 20230403, 20230403, 20230403, 20230403, 20230403, 20230403, 20230403, 20230403, 20230403, 20230403, 20230403, 20230403, 20230403, 20230403, 20230403, 20230403, 20230403, 20230403, 20230403, 20230403, 20230403, 20230403, 20230403, 20230403, 20230403, 20230403, 20230403, 20230403, 20230403, 20230403, 20230403, 20230403, 20230403, 20230403, 20230403, 20230403, 20230403, 20230403, 20230403, 20230403, 20230403, 20230403, 20230403, 20230403, 20230403, 20230403, 20230403, 20230403, 20230403, 20230403, 20230403, 20230403, 20230403, 20230403, 20230403, 20230403, 20230403], 'experimentoPreRedeTreinadaId': [1, 1, 1, 1, 1, 1, 1, 1, 1, 1, 1, 1, 1, 1, 1, 1, 1, 1, 1, 1, 1, 1, 1, 1, 1, 1, 1, 1, 1, 1, 1, 1, 1, 1, 1, 1, 1, 1, 1, 1, 1, 1, 1, 1, 1, 1, 1, 1, 1, 1, 1, 1, 1, 1, 1, 1, 1, 1, 1, 1, 1, 1, 1, 1, 1, 1, 1, 1, 1, 1, 1, 1, 1, 1, 1, 1, 1, 1, 1, 1, 1, 1, 1], 'ticker': ['ABEV3', 'AERI3', 'ALPA4', 'ALSO3', 'AMAR3', 'ANIM3', 'AZUL4', 'B3SA3', 'BBAS3', 'BBDC4', 'BBSE3', 'BEEF3', 'BPAC11', 'BPAN4', 'BRAP4', 'BRFS3', 'BRKM5', 'CCRO3', 'CIEL3', 'CMIG4', 'COGN3', 'CPFE3', 'CPLE6', 'CRFB3', 'CSAN3', 'CSMG3', 'CSNA3', 'CVCB3', 'CYRE3', 'ECOR3', 'EGIE3', 'ELET3', 'ELET6', 'EMBR3', 'ENBR3', 'ENEV3', 'ENGI11', 'EQTL3', 'EZTC3', 'FLRY3', 'GGBR4', 'GOAU4', 'GOLL4', 'HAPV3', 'HYPE3', 'ITUB4', 'JBSS3', 'JHSF3', 'KLBN11', 'LIGT3', 'LREN3', 'LWSA3', 'MGLU3', 'MOVI3', 'MRFG3', 'MRVE3', 'MULT3', 'MYPK3', 'NEOE3', 'NTCO3', 'PCAR3', 'PETR4', 'POSI3', 'PRIO3', 'PTBL3', 'QUAL3', 'RADL3', 'RAIL3', 'RAPT4', 'RENT3', 'SANB11', 'SBSP3', 'SLCE3', 'SMTO3', 'STBP3', 'SUZB3', 'TAEE11', 'TOTS3', 'UGPA3', 'USIM5', 'VALE3', 'WEGE3', 'YDUQ3']}\n"
     ]
    }
   ],
   "source": [
    "print(json)"
   ]
  },
  {
   "cell_type": "code",
   "execution_count": null,
   "id": "4d341d1e",
   "metadata": {},
   "outputs": [],
   "source": []
  }
 ],
 "metadata": {
  "kernelspec": {
   "display_name": "Python 3 (ipykernel)",
   "language": "python",
   "name": "python3"
  },
  "language_info": {
   "codemirror_mode": {
    "name": "ipython",
    "version": 3
   },
   "file_extension": ".py",
   "mimetype": "text/x-python",
   "name": "python",
   "nbconvert_exporter": "python",
   "pygments_lexer": "ipython3",
   "version": "3.8.10"
  }
 },
 "nbformat": 4,
 "nbformat_minor": 5
}
