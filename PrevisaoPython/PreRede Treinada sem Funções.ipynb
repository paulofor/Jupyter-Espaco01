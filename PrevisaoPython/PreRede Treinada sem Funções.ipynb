{
 "cells": [
  {
   "cell_type": "markdown",
   "id": "6dff8642",
   "metadata": {},
   "source": [
    "# Importações"
   ]
  },
  {
   "cell_type": "code",
   "execution_count": 1,
   "id": "ace7ec7b",
   "metadata": {},
   "outputs": [
    {
     "name": "stderr",
     "output_type": "stream",
     "text": [
      "2023-07-17 18:00:00.998861: I tensorflow/core/platform/cpu_feature_guard.cc:193] This TensorFlow binary is optimized with oneAPI Deep Neural Network Library (oneDNN) to use the following CPU instructions in performance-critical operations:  AVX2 FMA\n",
      "To enable them in other operations, rebuild TensorFlow with the appropriate compiler flags.\n",
      "2023-07-17 18:00:06.234964: W tensorflow/compiler/xla/stream_executor/platform/default/dso_loader.cc:64] Could not load dynamic library 'libcudart.so.11.0'; dlerror: libcudart.so.11.0: cannot open shared object file: No such file or directory\n",
      "2023-07-17 18:00:06.235061: I tensorflow/compiler/xla/stream_executor/cuda/cudart_stub.cc:29] Ignore above cudart dlerror if you do not have a GPU set up on your machine.\n",
      "2023-07-17 18:00:33.510440: W tensorflow/compiler/xla/stream_executor/platform/default/dso_loader.cc:64] Could not load dynamic library 'libnvinfer.so.7'; dlerror: libnvinfer.so.7: cannot open shared object file: No such file or directory\n",
      "2023-07-17 18:00:33.520064: W tensorflow/compiler/xla/stream_executor/platform/default/dso_loader.cc:64] Could not load dynamic library 'libnvinfer_plugin.so.7'; dlerror: libnvinfer_plugin.so.7: cannot open shared object file: No such file or directory\n",
      "2023-07-17 18:00:33.520105: W tensorflow/compiler/tf2tensorrt/utils/py_utils.cc:38] TF-TRT Warning: Cannot dlopen some TensorRT libraries. If you would like to use Nvidia GPU with TensorRT, please make sure the missing libraries mentioned above are installed properly.\n"
     ]
    }
   ],
   "source": [
    "import tensorflow as tf\n",
    "import requests\n",
    "import pandas as pd\n",
    "import numpy as np\n",
    "\n",
    "import json\n",
    "import math"
   ]
  },
  {
   "cell_type": "markdown",
   "id": "e5146dea",
   "metadata": {},
   "source": [
    "# Globais"
   ]
  },
  {
   "cell_type": "code",
   "execution_count": 2,
   "id": "fae2ffd4",
   "metadata": {},
   "outputs": [],
   "source": [
    "global experimentoCorrente\n",
    "global diaCorrente\n",
    "global modelo\n",
    "global dfDados\n",
    "global X"
   ]
  },
  {
   "cell_type": "markdown",
   "id": "32e24317",
   "metadata": {},
   "source": [
    "# Obtendo Experimentos"
   ]
  },
  {
   "cell_type": "code",
   "execution_count": 3,
   "id": "8c8a1017",
   "metadata": {},
   "outputs": [
    {
     "data": {
      "text/html": [
       "<div>\n",
       "<style scoped>\n",
       "    .dataframe tbody tr th:only-of-type {\n",
       "        vertical-align: middle;\n",
       "    }\n",
       "\n",
       "    .dataframe tbody tr th {\n",
       "        vertical-align: top;\n",
       "    }\n",
       "\n",
       "    .dataframe thead th {\n",
       "        text-align: right;\n",
       "    }\n",
       "</style>\n",
       "<table border=\"1\" class=\"dataframe\">\n",
       "  <thead>\n",
       "    <tr style=\"text-align: right;\">\n",
       "      <th></th>\n",
       "      <th>id</th>\n",
       "      <th>nome</th>\n",
       "      <th>experimentoPreRedeId</th>\n",
       "      <th>grupoAcaoId</th>\n",
       "      <th>regraProjecaoId</th>\n",
       "      <th>geraScore</th>\n",
       "      <th>periodoTreinoRedeId</th>\n",
       "      <th>nomeArquivoRede</th>\n",
       "    </tr>\n",
       "  </thead>\n",
       "  <tbody>\n",
       "    <tr>\n",
       "      <th>0</th>\n",
       "      <td>1</td>\n",
       "      <td>01</td>\n",
       "      <td>1</td>\n",
       "      <td>12</td>\n",
       "      <td>127</td>\n",
       "      <td>S</td>\n",
       "      <td>7</td>\n",
       "      <td>ExperimentoSintetico_Prometeu_v0_aInicial</td>\n",
       "    </tr>\n",
       "  </tbody>\n",
       "</table>\n",
       "</div>"
      ],
      "text/plain": [
       "   id nome  experimentoPreRedeId  grupoAcaoId  regraProjecaoId geraScore  \\\n",
       "0   1   01                     1           12              127         S   \n",
       "\n",
       "   periodoTreinoRedeId                            nomeArquivoRede  \n",
       "0                    7  ExperimentoSintetico_Prometeu_v0_aInicial  "
      ]
     },
     "execution_count": 3,
     "metadata": {},
     "output_type": "execute_result"
    }
   ],
   "source": [
    "url = \"http://vps-40d69db1.vps.ovh.ca:23004/api/ExperimentoPreRedeTreinadas/listaParaScore\"\n",
    "\n",
    "r = requests.get(url)\n",
    "j = r.json()\n",
    "dfExperimento = pd.DataFrame.from_dict(j)\n",
    "dfExperimento.head()"
   ]
  },
  {
   "cell_type": "markdown",
   "id": "8832c852",
   "metadata": {},
   "source": [
    "# Trata Experimento"
   ]
  },
  {
   "cell_type": "code",
   "execution_count": 6,
   "id": "d5334e4e",
   "metadata": {},
   "outputs": [
    {
     "name": "stdout",
     "output_type": "stream",
     "text": [
      "http://vps-40d69db1.vps.ovh.ca:23004/api/DiaPregaos/obtemPeriodoPrevisaoTeste?idPeriodoTreinoRede=7\n",
      "                       data  mes   ano    diaNum     dataStr dataDbStr\n",
      "0  2023-04-03T00:00:00.000Z    4  2023  20230403  03-04-2023      None\n",
      "1  2023-04-04T00:00:00.000Z    4  2023  20230404  04-04-2023      None\n",
      "2  2023-04-05T00:00:00.000Z    4  2023  20230405  05-04-2023      None\n",
      "3  2023-04-06T00:00:00.000Z    4  2023  20230406  06-04-2023      None\n",
      "4  2023-04-10T00:00:00.000Z    4  2023  20230410  10-04-2023      None\n"
     ]
    }
   ],
   "source": [
    "experimentoCorrente = dfExperimento.iloc[0]\n",
    "nome_arquivo = '/root/executa-rede/redes/' + experimentoCorrente.nomeArquivoRede + '.h5'\n",
    "# carrega modelo\n",
    "modelo = tf.keras.models.load_model(nome_arquivo)\n",
    "urlDias = \"http://vps-40d69db1.vps.ovh.ca:23004/api/DiaPregaos/obtemPeriodoPrevisaoTeste?idPeriodoTreinoRede={}\".format(experimentoCorrente.periodoTreinoRedeId)\n",
    "print(urlDias)\n",
    "r = requests.get(urlDias)\n",
    "j = r.json()\n",
    "# carrega dfDias\n",
    "dfDias = pd.DataFrame.from_dict(j)\n",
    "print(dfDias.head())\n"
   ]
  },
  {
   "cell_type": "markdown",
   "id": "6afbb1dd",
   "metadata": {},
   "source": [
    "# Trata Dia"
   ]
  },
  {
   "cell_type": "code",
   "execution_count": 7,
   "id": "6a8a22ee",
   "metadata": {},
   "outputs": [
    {
     "name": "stdout",
     "output_type": "stream",
     "text": [
      "http://vps-40d69db1.vps.ovh.ca:23004/api/ExemploTreinoAcaoEntradas/obtemPorDiaNum?diaNum=20230403\n",
      "                                                        error\n",
      "message                       qtdeDias is a required argument\n",
      "name                                                    Error\n",
      "stack       Error: qtdeDias is a required argument\\n    at...\n",
      "statusCode                                                400\n"
     ]
    },
    {
     "ename": "NameError",
     "evalue": "name 'Y' is not defined",
     "output_type": "error",
     "traceback": [
      "\u001b[0;31m---------------------------------------------------------------------------\u001b[0m",
      "\u001b[0;31mNameError\u001b[0m                                 Traceback (most recent call last)",
      "\u001b[0;32m/tmp/ipykernel_2934613/332501401.py\u001b[0m in \u001b[0;36m<module>\u001b[0;34m\u001b[0m\n\u001b[1;32m      7\u001b[0m \u001b[0mdfDados\u001b[0m \u001b[0;34m=\u001b[0m \u001b[0mpd\u001b[0m\u001b[0;34m.\u001b[0m\u001b[0mDataFrame\u001b[0m\u001b[0;34m.\u001b[0m\u001b[0mfrom_dict\u001b[0m\u001b[0;34m(\u001b[0m\u001b[0mj\u001b[0m\u001b[0;34m)\u001b[0m\u001b[0;34m\u001b[0m\u001b[0;34m\u001b[0m\u001b[0m\n\u001b[1;32m      8\u001b[0m \u001b[0mprint\u001b[0m\u001b[0;34m(\u001b[0m\u001b[0mdfDados\u001b[0m\u001b[0;34m.\u001b[0m\u001b[0mhead\u001b[0m\u001b[0;34m(\u001b[0m\u001b[0;34m)\u001b[0m\u001b[0;34m)\u001b[0m\u001b[0;34m\u001b[0m\u001b[0;34m\u001b[0m\u001b[0m\n\u001b[0;32m----> 9\u001b[0;31m \u001b[0mdfTratadoX\u001b[0m \u001b[0;34m=\u001b[0m \u001b[0mY\u001b[0m\u001b[0;34m.\u001b[0m\u001b[0mapply\u001b[0m\u001b[0;34m(\u001b[0m\u001b[0;32mlambda\u001b[0m \u001b[0mlinha\u001b[0m\u001b[0;34m:\u001b[0m \u001b[0mnp\u001b[0m\u001b[0;34m.\u001b[0m\u001b[0mfromstring\u001b[0m\u001b[0;34m(\u001b[0m\u001b[0mlinha\u001b[0m\u001b[0;34m[\u001b[0m\u001b[0;34m'campoX'\u001b[0m\u001b[0;34m]\u001b[0m\u001b[0;34m,\u001b[0m \u001b[0mdtype\u001b[0m\u001b[0;34m=\u001b[0m\u001b[0mfloat\u001b[0m\u001b[0;34m,\u001b[0m \u001b[0msep\u001b[0m\u001b[0;34m=\u001b[0m\u001b[0;34m','\u001b[0m\u001b[0;34m)\u001b[0m\u001b[0;34m,\u001b[0m \u001b[0maxis\u001b[0m\u001b[0;34m=\u001b[0m\u001b[0;34m'columns'\u001b[0m\u001b[0;34m)\u001b[0m\u001b[0;34m\u001b[0m\u001b[0;34m\u001b[0m\u001b[0m\n\u001b[0m\u001b[1;32m     10\u001b[0m \u001b[0;31m# meu dataframe X\u001b[0m\u001b[0;34m\u001b[0m\u001b[0;34m\u001b[0m\u001b[0;34m\u001b[0m\u001b[0m\n\u001b[1;32m     11\u001b[0m \u001b[0mX\u001b[0m \u001b[0;34m=\u001b[0m \u001b[0mnp\u001b[0m\u001b[0;34m.\u001b[0m\u001b[0mstack\u001b[0m\u001b[0;34m(\u001b[0m\u001b[0mdfTratadoX\u001b[0m\u001b[0;34m.\u001b[0m\u001b[0mvalues\u001b[0m\u001b[0;34m)\u001b[0m\u001b[0;34m\u001b[0m\u001b[0;34m\u001b[0m\u001b[0m\n",
      "\u001b[0;31mNameError\u001b[0m: name 'Y' is not defined"
     ]
    }
   ],
   "source": [
    "diaCorrente = dfDias.iloc[0]\n",
    "urlExemplos = \"http://vps-40d69db1.vps.ovh.ca:23004/api/ExemploTreinoAcaoEntradas/obtemPorDiaNum?diaNum={}\".format(diaCorrente.diaNum)\n",
    "print(urlExemplos)\n",
    "r = requests.get(urlExemplos)\n",
    "j = r.json()\n",
    "# meu dados totais de entrada\n",
    "dfDados = pd.DataFrame.from_dict(j)\n",
    "print(dfDados.head())\n",
    "dfTratadoX = Y.apply(lambda linha: np.fromstring(linha['campoX'], dtype=float, sep=','), axis='columns')\n",
    "# meu dataframe X\n",
    "X = np.stack(dfTratadoX.values)\n",
    "X.shape"
   ]
  },
  {
   "cell_type": "code",
   "execution_count": null,
   "id": "68915f97",
   "metadata": {},
   "outputs": [],
   "source": []
  }
 ],
 "metadata": {
  "kernelspec": {
   "display_name": "Python 3 (ipykernel)",
   "language": "python",
   "name": "python3"
  },
  "language_info": {
   "codemirror_mode": {
    "name": "ipython",
    "version": 3
   },
   "file_extension": ".py",
   "mimetype": "text/x-python",
   "name": "python",
   "nbconvert_exporter": "python",
   "pygments_lexer": "ipython3",
   "version": "3.8.10"
  }
 },
 "nbformat": 4,
 "nbformat_minor": 5
}
