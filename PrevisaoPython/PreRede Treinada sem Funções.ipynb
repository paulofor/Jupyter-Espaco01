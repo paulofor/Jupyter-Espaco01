{
 "cells": [
  {
   "cell_type": "markdown",
   "id": "6dff8642",
   "metadata": {},
   "source": [
    "# Importações"
   ]
  },
  {
   "cell_type": "code",
   "execution_count": 1,
   "id": "ace7ec7b",
   "metadata": {},
   "outputs": [
    {
     "name": "stderr",
     "output_type": "stream",
     "text": [
      "2023-07-17 18:00:00.998861: I tensorflow/core/platform/cpu_feature_guard.cc:193] This TensorFlow binary is optimized with oneAPI Deep Neural Network Library (oneDNN) to use the following CPU instructions in performance-critical operations:  AVX2 FMA\n",
      "To enable them in other operations, rebuild TensorFlow with the appropriate compiler flags.\n",
      "2023-07-17 18:00:06.234964: W tensorflow/compiler/xla/stream_executor/platform/default/dso_loader.cc:64] Could not load dynamic library 'libcudart.so.11.0'; dlerror: libcudart.so.11.0: cannot open shared object file: No such file or directory\n",
      "2023-07-17 18:00:06.235061: I tensorflow/compiler/xla/stream_executor/cuda/cudart_stub.cc:29] Ignore above cudart dlerror if you do not have a GPU set up on your machine.\n",
      "2023-07-17 18:00:33.510440: W tensorflow/compiler/xla/stream_executor/platform/default/dso_loader.cc:64] Could not load dynamic library 'libnvinfer.so.7'; dlerror: libnvinfer.so.7: cannot open shared object file: No such file or directory\n",
      "2023-07-17 18:00:33.520064: W tensorflow/compiler/xla/stream_executor/platform/default/dso_loader.cc:64] Could not load dynamic library 'libnvinfer_plugin.so.7'; dlerror: libnvinfer_plugin.so.7: cannot open shared object file: No such file or directory\n",
      "2023-07-17 18:00:33.520105: W tensorflow/compiler/tf2tensorrt/utils/py_utils.cc:38] TF-TRT Warning: Cannot dlopen some TensorRT libraries. If you would like to use Nvidia GPU with TensorRT, please make sure the missing libraries mentioned above are installed properly.\n"
     ]
    }
   ],
   "source": [
    "import tensorflow as tf\n",
    "import requests\n",
    "import pandas as pd\n",
    "import numpy as np\n",
    "\n",
    "import json\n",
    "import math"
   ]
  },
  {
   "cell_type": "markdown",
   "id": "e5146dea",
   "metadata": {},
   "source": [
    "# Globais"
   ]
  },
  {
   "cell_type": "code",
   "execution_count": 2,
   "id": "fae2ffd4",
   "metadata": {},
   "outputs": [],
   "source": [
    "global experimentoCorrente\n",
    "global diaCorrente\n",
    "global modelo\n",
    "global dfDados\n",
    "global X"
   ]
  },
  {
   "cell_type": "markdown",
   "id": "32e24317",
   "metadata": {},
   "source": [
    "# Obtendo Experimentos"
   ]
  },
  {
   "cell_type": "code",
   "execution_count": 8,
   "id": "8c8a1017",
   "metadata": {},
   "outputs": [
    {
     "data": {
      "text/html": [
       "<div>\n",
       "<style scoped>\n",
       "    .dataframe tbody tr th:only-of-type {\n",
       "        vertical-align: middle;\n",
       "    }\n",
       "\n",
       "    .dataframe tbody tr th {\n",
       "        vertical-align: top;\n",
       "    }\n",
       "\n",
       "    .dataframe thead th {\n",
       "        text-align: right;\n",
       "    }\n",
       "</style>\n",
       "<table border=\"1\" class=\"dataframe\">\n",
       "  <thead>\n",
       "    <tr style=\"text-align: right;\">\n",
       "      <th></th>\n",
       "      <th>id</th>\n",
       "      <th>nome</th>\n",
       "      <th>experimentoPreRedeId</th>\n",
       "      <th>grupoAcaoId</th>\n",
       "      <th>regraProjecaoId</th>\n",
       "      <th>geraScore</th>\n",
       "      <th>periodoTreinoRedeId</th>\n",
       "      <th>nomeArquivoRede</th>\n",
       "      <th>qtdeDias1</th>\n",
       "      <th>qtdeDias2</th>\n",
       "    </tr>\n",
       "  </thead>\n",
       "  <tbody>\n",
       "    <tr>\n",
       "      <th>0</th>\n",
       "      <td>1</td>\n",
       "      <td>01</td>\n",
       "      <td>1</td>\n",
       "      <td>12</td>\n",
       "      <td>127</td>\n",
       "      <td>S</td>\n",
       "      <td>7</td>\n",
       "      <td>ExperimentoSintetico_Prometeu_v0_aInicial</td>\n",
       "      <td>20</td>\n",
       "      <td>None</td>\n",
       "    </tr>\n",
       "  </tbody>\n",
       "</table>\n",
       "</div>"
      ],
      "text/plain": [
       "   id nome  experimentoPreRedeId  grupoAcaoId  regraProjecaoId geraScore  \\\n",
       "0   1   01                     1           12              127         S   \n",
       "\n",
       "   periodoTreinoRedeId                            nomeArquivoRede  qtdeDias1  \\\n",
       "0                    7  ExperimentoSintetico_Prometeu_v0_aInicial         20   \n",
       "\n",
       "  qtdeDias2  \n",
       "0      None  "
      ]
     },
     "execution_count": 8,
     "metadata": {},
     "output_type": "execute_result"
    }
   ],
   "source": [
    "url = \"http://vps-40d69db1.vps.ovh.ca:23004/api/ExperimentoPreRedeTreinadas/listaParaScore\"\n",
    "\n",
    "r = requests.get(url)\n",
    "j = r.json()\n",
    "dfExperimento = pd.DataFrame.from_dict(j)\n",
    "dfExperimento.head()"
   ]
  },
  {
   "cell_type": "markdown",
   "id": "8832c852",
   "metadata": {},
   "source": [
    "# Trata Experimento"
   ]
  },
  {
   "cell_type": "code",
   "execution_count": 10,
   "id": "d5334e4e",
   "metadata": {},
   "outputs": [
    {
     "name": "stdout",
     "output_type": "stream",
     "text": [
      "http://vps-40d69db1.vps.ovh.ca:23004/api/DiaPregaos/obtemPeriodoPrevisaoTeste?idPeriodoTreinoRede=7\n",
      "                       data  mes   ano    diaNum     dataStr dataDbStr\n",
      "0  2023-04-03T00:00:00.000Z    4  2023  20230403  03-04-2023      None\n",
      "1  2023-04-04T00:00:00.000Z    4  2023  20230404  04-04-2023      None\n",
      "2  2023-04-05T00:00:00.000Z    4  2023  20230405  05-04-2023      None\n",
      "3  2023-04-06T00:00:00.000Z    4  2023  20230406  06-04-2023      None\n",
      "4  2023-04-10T00:00:00.000Z    4  2023  20230410  10-04-2023      None\n"
     ]
    }
   ],
   "source": [
    "experimentoCorrente = dfExperimento.iloc[0]\n",
    "nome_arquivo = '/root/executa-rede/redes/' + experimentoCorrente.nomeArquivoRede + '.h5'\n",
    "# carrega modelo\n",
    "modelo = tf.keras.models.load_model(nome_arquivo)\n",
    "urlDias = \"http://vps-40d69db1.vps.ovh.ca:23004/api/DiaPregaos/obtemPeriodoPrevisaoTeste?idPeriodoTreinoRede={}\".format(experimentoCorrente.periodoTreinoRedeId)\n",
    "print(urlDias)\n",
    "r = requests.get(urlDias)\n",
    "j = r.json()\n",
    "# carrega dfDias\n",
    "dfDias = pd.DataFrame.from_dict(j)\n",
    "print(dfDias.head())\n"
   ]
  },
  {
   "cell_type": "markdown",
   "id": "6afbb1dd",
   "metadata": {},
   "source": [
    "# Trata Dia"
   ]
  },
  {
   "cell_type": "code",
   "execution_count": 12,
   "id": "6a8a22ee",
   "metadata": {},
   "outputs": [
    {
     "name": "stdout",
     "output_type": "stream",
     "text": [
      "http://vps-40d69db1.vps.ovh.ca:23004/api/ExemploTreinoAcaoEntradas/obtemPorDiaNum?diaNum=20230403&qtdeDias=20\n",
      "                                              campoX ticker  diaNumPrevisao\n",
      "0   0.925614, 0.926316, 0.926316, 0.931930, 0.931...  ABEV3        20230403\n",
      "1   0.957627, 0.957627, 0.991525, 1.025424, 1.025...  AERI3        20230403\n",
      "2   1.114391, 1.100861, 1.084871, 1.099631, 1.107...  ALPA4        20230403\n",
      "3   0.947429, 0.946286, 0.943429, 0.951429, 0.950...  ALSO3        20230403\n",
      "4   0.953125, 0.937500, 0.937500, 0.937500, 0.953...  AMAR3        20230403\n",
      "0    [0.925614, 0.926316, 0.926316, 0.93193, 0.9319...\n",
      "1    [0.957627, 0.957627, 0.991525, 1.025424, 1.025...\n",
      "2    [1.114391, 1.100861, 1.084871, 1.099631, 1.107...\n",
      "3    [0.947429, 0.946286, 0.943429, 0.951429, 0.950...\n",
      "4    [0.953125, 0.9375, 0.9375, 0.9375, 0.953125, 0...\n",
      "dtype: object\n"
     ]
    },
    {
     "data": {
      "text/plain": [
       "(83, 300)"
      ]
     },
     "execution_count": 12,
     "metadata": {},
     "output_type": "execute_result"
    }
   ],
   "source": [
    "diaCorrente = dfDias.iloc[0]\n",
    "urlExemplos = \"http://vps-40d69db1.vps.ovh.ca:23004/api/ExemploTreinoAcaoEntradas/obtemPorDiaNum?diaNum={}&qtdeDias={}\".format(diaCorrente.diaNum,experimentoCorrente.qtdeDias1)\n",
    "print(urlExemplos)\n",
    "r = requests.get(urlExemplos)\n",
    "j = r.json()\n",
    "\n",
    "# meu dados totais de entrada\n",
    "dfDados = pd.DataFrame.from_dict(j)\n",
    "print(dfDados.head())\n",
    "dfTratadoX = dfDados.apply(lambda linha: np.fromstring(linha['campoX'], dtype=float, sep=','), axis='columns')\n",
    "print(dfTratadoX.head())\n",
    "\n",
    "# meu dataframe X\n",
    "X = np.stack(dfTratadoX.values)\n",
    "X.shape"
   ]
  },
  {
   "cell_type": "markdown",
   "id": "c30de02a",
   "metadata": {},
   "source": [
    "# Previsões"
   ]
  },
  {
   "cell_type": "code",
   "execution_count": 13,
   "id": "df14f1e2",
   "metadata": {},
   "outputs": [
    {
     "name": "stderr",
     "output_type": "stream",
     "text": [
      "2023-07-18 12:58:14.058633: W tensorflow/tsl/framework/cpu_allocator_impl.cc:82] Allocation of 2457600 exceeds 10% of free system memory.\n",
      "2023-07-18 12:58:14.108253: W tensorflow/tsl/framework/cpu_allocator_impl.cc:82] Allocation of 2457600 exceeds 10% of free system memory.\n",
      "2023-07-18 12:58:14.302948: W tensorflow/tsl/framework/cpu_allocator_impl.cc:82] Allocation of 2457600 exceeds 10% of free system memory.\n",
      "2023-07-18 12:58:14.479867: W tensorflow/tsl/framework/cpu_allocator_impl.cc:82] Allocation of 1228800 exceeds 10% of free system memory.\n",
      "2023-07-18 12:58:14.481354: W tensorflow/tsl/framework/cpu_allocator_impl.cc:82] Allocation of 1228800 exceeds 10% of free system memory.\n"
     ]
    },
    {
     "name": "stdout",
     "output_type": "stream",
     "text": [
      "3/3 [==============================] - 20s 198ms/step\n"
     ]
    }
   ],
   "source": [
    "result = modelo.predict(X)"
   ]
  },
  {
   "cell_type": "code",
   "execution_count": 21,
   "id": "310a03d9",
   "metadata": {},
   "outputs": [
    {
     "name": "stdout",
     "output_type": "stream",
     "text": [
      "<class 'numpy.ndarray'>\n"
     ]
    }
   ],
   "source": [
    "print(type(result))"
   ]
  },
  {
   "cell_type": "markdown",
   "id": "9b597b0e",
   "metadata": {},
   "source": [
    "# Colocando os resultados em um dataframe"
   ]
  },
  {
   "cell_type": "code",
   "execution_count": 16,
   "id": "9c4fe30f",
   "metadata": {},
   "outputs": [],
   "source": [
    "dfDados['resultado'] = result"
   ]
  },
  {
   "cell_type": "code",
   "execution_count": 17,
   "id": "ec5559dc",
   "metadata": {},
   "outputs": [
    {
     "data": {
      "text/html": [
       "<div>\n",
       "<style scoped>\n",
       "    .dataframe tbody tr th:only-of-type {\n",
       "        vertical-align: middle;\n",
       "    }\n",
       "\n",
       "    .dataframe tbody tr th {\n",
       "        vertical-align: top;\n",
       "    }\n",
       "\n",
       "    .dataframe thead th {\n",
       "        text-align: right;\n",
       "    }\n",
       "</style>\n",
       "<table border=\"1\" class=\"dataframe\">\n",
       "  <thead>\n",
       "    <tr style=\"text-align: right;\">\n",
       "      <th></th>\n",
       "      <th>campoX</th>\n",
       "      <th>ticker</th>\n",
       "      <th>diaNumPrevisao</th>\n",
       "      <th>resultado</th>\n",
       "    </tr>\n",
       "  </thead>\n",
       "  <tbody>\n",
       "    <tr>\n",
       "      <th>0</th>\n",
       "      <td>0.925614, 0.926316, 0.926316, 0.931930, 0.931...</td>\n",
       "      <td>ABEV3</td>\n",
       "      <td>20230403</td>\n",
       "      <td>0.001159</td>\n",
       "    </tr>\n",
       "    <tr>\n",
       "      <th>1</th>\n",
       "      <td>0.957627, 0.957627, 0.991525, 1.025424, 1.025...</td>\n",
       "      <td>AERI3</td>\n",
       "      <td>20230403</td>\n",
       "      <td>0.001159</td>\n",
       "    </tr>\n",
       "    <tr>\n",
       "      <th>2</th>\n",
       "      <td>1.114391, 1.100861, 1.084871, 1.099631, 1.107...</td>\n",
       "      <td>ALPA4</td>\n",
       "      <td>20230403</td>\n",
       "      <td>0.001159</td>\n",
       "    </tr>\n",
       "    <tr>\n",
       "      <th>3</th>\n",
       "      <td>0.947429, 0.946286, 0.943429, 0.951429, 0.950...</td>\n",
       "      <td>ALSO3</td>\n",
       "      <td>20230403</td>\n",
       "      <td>0.001159</td>\n",
       "    </tr>\n",
       "    <tr>\n",
       "      <th>4</th>\n",
       "      <td>0.953125, 0.937500, 0.937500, 0.937500, 0.953...</td>\n",
       "      <td>AMAR3</td>\n",
       "      <td>20230403</td>\n",
       "      <td>0.001159</td>\n",
       "    </tr>\n",
       "  </tbody>\n",
       "</table>\n",
       "</div>"
      ],
      "text/plain": [
       "                                              campoX ticker  diaNumPrevisao  \\\n",
       "0   0.925614, 0.926316, 0.926316, 0.931930, 0.931...  ABEV3        20230403   \n",
       "1   0.957627, 0.957627, 0.991525, 1.025424, 1.025...  AERI3        20230403   \n",
       "2   1.114391, 1.100861, 1.084871, 1.099631, 1.107...  ALPA4        20230403   \n",
       "3   0.947429, 0.946286, 0.943429, 0.951429, 0.950...  ALSO3        20230403   \n",
       "4   0.953125, 0.937500, 0.937500, 0.937500, 0.953...  AMAR3        20230403   \n",
       "\n",
       "   resultado  \n",
       "0   0.001159  \n",
       "1   0.001159  \n",
       "2   0.001159  \n",
       "3   0.001159  \n",
       "4   0.001159  "
      ]
     },
     "execution_count": 17,
     "metadata": {},
     "output_type": "execute_result"
    }
   ],
   "source": [
    "dfDados.head()"
   ]
  },
  {
   "cell_type": "code",
   "execution_count": 25,
   "id": "40baa56d",
   "metadata": {},
   "outputs": [],
   "source": [
    "dfPrevisao = pd.DataFrame({'resultado': pd.Series(result.flatten())})"
   ]
  },
  {
   "cell_type": "code",
   "execution_count": 26,
   "id": "8f65f77b",
   "metadata": {},
   "outputs": [
    {
     "data": {
      "text/html": [
       "<div>\n",
       "<style scoped>\n",
       "    .dataframe tbody tr th:only-of-type {\n",
       "        vertical-align: middle;\n",
       "    }\n",
       "\n",
       "    .dataframe tbody tr th {\n",
       "        vertical-align: top;\n",
       "    }\n",
       "\n",
       "    .dataframe thead th {\n",
       "        text-align: right;\n",
       "    }\n",
       "</style>\n",
       "<table border=\"1\" class=\"dataframe\">\n",
       "  <thead>\n",
       "    <tr style=\"text-align: right;\">\n",
       "      <th></th>\n",
       "      <th>resultado</th>\n",
       "    </tr>\n",
       "  </thead>\n",
       "  <tbody>\n",
       "    <tr>\n",
       "      <th>0</th>\n",
       "      <td>0.001159</td>\n",
       "    </tr>\n",
       "    <tr>\n",
       "      <th>1</th>\n",
       "      <td>0.001159</td>\n",
       "    </tr>\n",
       "    <tr>\n",
       "      <th>2</th>\n",
       "      <td>0.001159</td>\n",
       "    </tr>\n",
       "    <tr>\n",
       "      <th>3</th>\n",
       "      <td>0.001159</td>\n",
       "    </tr>\n",
       "    <tr>\n",
       "      <th>4</th>\n",
       "      <td>0.001159</td>\n",
       "    </tr>\n",
       "  </tbody>\n",
       "</table>\n",
       "</div>"
      ],
      "text/plain": [
       "   resultado\n",
       "0   0.001159\n",
       "1   0.001159\n",
       "2   0.001159\n",
       "3   0.001159\n",
       "4   0.001159"
      ]
     },
     "execution_count": 26,
     "metadata": {},
     "output_type": "execute_result"
    }
   ],
   "source": [
    "dfPrevisao.head()"
   ]
  },
  {
   "cell_type": "code",
   "execution_count": null,
   "id": "490a5b6d",
   "metadata": {},
   "outputs": [],
   "source": []
  }
 ],
 "metadata": {
  "kernelspec": {
   "display_name": "Python 3 (ipykernel)",
   "language": "python",
   "name": "python3"
  },
  "language_info": {
   "codemirror_mode": {
    "name": "ipython",
    "version": 3
   },
   "file_extension": ".py",
   "mimetype": "text/x-python",
   "name": "python",
   "nbconvert_exporter": "python",
   "pygments_lexer": "ipython3",
   "version": "3.8.10"
  }
 },
 "nbformat": 4,
 "nbformat_minor": 5
}
