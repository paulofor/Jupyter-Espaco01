{
 "cells": [
  {
   "cell_type": "markdown",
   "id": "5f9c2f53",
   "metadata": {},
   "source": [
    "# Programa que calcula previsão para o dia seguinte"
   ]
  },
  {
   "cell_type": "code",
   "execution_count": 1,
   "id": "fbd2ae7e",
   "metadata": {},
   "outputs": [
    {
     "name": "stdout",
     "output_type": "stream",
     "text": [
      "ola mundo\n"
     ]
    },
    {
     "name": "stderr",
     "output_type": "stream",
     "text": [
      "2022-11-28 01:31:36.204788: W tensorflow/stream_executor/platform/default/dso_loader.cc:64] Could not load dynamic library 'libcudart.so.11.0'; dlerror: libcudart.so.11.0: cannot open shared object file: No such file or directory\n",
      "2022-11-28 01:31:36.205163: I tensorflow/stream_executor/cuda/cudart_stub.cc:29] Ignore above cudart dlerror if you do not have a GPU set up on your machine.\n"
     ]
    },
    {
     "name": "stdout",
     "output_type": "stream",
     "text": [
      "2.7.0\n"
     ]
    }
   ],
   "source": [
    "print('ola mundo')\n",
    "import tensorflow as tf\n",
    "print(tf.__version__)"
   ]
  },
  {
   "cell_type": "code",
   "execution_count": 2,
   "id": "88609021",
   "metadata": {},
   "outputs": [],
   "source": [
    "import requests\n",
    "import pandas as pd\n",
    "import numpy as np"
   ]
  },
  {
   "cell_type": "code",
   "execution_count": 3,
   "id": "9625cc3a",
   "metadata": {},
   "outputs": [],
   "source": [
    "urlRedes = \"http://vps-40d69db1.vps.ovh.ca:23004/api/TreinoRedes/obtemListaParaPrevisao\"\n",
    "urlPrevisao = 'http://vps-40d69db1.vps.ovh.ca:23004/api/PrevisaoRedes/recebePrevisaoTreino'"
   ]
  },
  {
   "cell_type": "code",
   "execution_count": 4,
   "id": "27c8b96c",
   "metadata": {},
   "outputs": [],
   "source": [
    "def incluiEntrada(treino):\n",
    "    urlEntrada = \"http://vps-40d69db1.vps.ovh.ca:23004/api/CotacaoIntradayAcaoResultados/listaPrecoEntradaPrevisaoProximoB3?idRegra=\" + str(treino['regraProjecaoId']) + \"&idGrupo=\" + str(treino['grupoAcaoId'])\n",
    "    print(urlEntrada)\n",
    "    r = requests.get(urlEntrada)\n",
    "    j = r.json()\n",
    "    dfEntradas = pd.DataFrame.from_dict(j)\n",
    "    print(dfEntradas.head())\n",
    "    return dfEntradas"
   ]
  },
  {
   "cell_type": "code",
   "execution_count": 5,
   "id": "4e8e73ad",
   "metadata": {},
   "outputs": [],
   "source": [
    "def montaDados(rede):\n",
    "    global dfDados\n",
    "    global X\n",
    "    urlExemplos = \"http://vps-40d69db1.vps.ovh.ca:23004/api/ExemploTreinoAcaoEntradas/obtemProximoDia?qtdeDias={}\".format(rede.qtdeDias1)\n",
    "    print('conexao exemplos')\n",
    "    print(urlExemplos)\n",
    "    r = requests.get(urlExemplos)\n",
    "    j = r.json()\n",
    "    dfDados = pd.DataFrame.from_dict(j)\n",
    "    print(dfDados.shape)\n",
    "    dfTratadoX = dfDados.apply(trataLinhaX, axis='columns')\n",
    "    X = np.stack(dfTratadoX.values)\n",
    "    print(\"X\")\n",
    "    print(X.shape)\n",
    "    dfDados.drop('campoX', inplace=True, axis=1)"
   ]
  },
  {
   "cell_type": "code",
   "execution_count": 10,
   "id": "ecb44a94",
   "metadata": {},
   "outputs": [],
   "source": [
    "def trataRede(rede):\n",
    "    montaDados(rede)\n",
    "    print('ID:' , rede['id'])\n",
    "    nome_arquivo = '/root/executa-rede/redes/treino_rede' + str(rede['id']) + '.h5'\n",
    "    print(nome_arquivo)\n",
    "    modelo = tf.keras.models.load_model(nome_arquivo)\n",
    "    modelo.summary()\n",
    "    result = modelo.predict(X)\n",
    "    dfDados['resultado'] = result\n",
    "    dfDados['treinoRedeId'] = str(rede['id'])\n",
    "    dfDados['tipoCompraVenda'] = rede['tipoCompraVenda']\n",
    "    dfEntradas = incluiEntrada(rede)\n",
    "    dfPrevisao = pd.merge(dfDados,dfEntradas, how='left', left_on='ticker' ,  right_on='ticker')\n",
    "    json = dfPrevisao.to_dict(orient='list')\n",
    "    response = requests.post(urlPrevisao, data=json)\n",
    "    print(json)\n",
    "    print(response)"
   ]
  },
  {
   "cell_type": "code",
   "execution_count": 11,
   "id": "7825b16a",
   "metadata": {},
   "outputs": [],
   "source": [
    "def trataLinhaX(linha):\n",
    "    return np.fromstring(linha['campoX'], dtype=float, sep=',')"
   ]
  },
  {
   "cell_type": "code",
   "execution_count": 12,
   "id": "5d43d527",
   "metadata": {},
   "outputs": [
    {
     "name": "stdout",
     "output_type": "stream",
     "text": [
      "conexao redes\n",
      "    id  grupoAcaoId  periodoTreinoRedeId tipoExemploTreinoId  regraProjecaoId  \\\n",
      "0   43           12                    1                None               68   \n",
      "1   77           12                    1                None               66   \n",
      "2   79           12                    1                None               68   \n",
      "3   80           12                    1                None               69   \n",
      "4  276           12                    1                None               48   \n",
      "\n",
      "   redeNeuralId  ativoPrevisao  limiteParaEntrada  qtdeLucroTeste  \\\n",
      "0             2              1               0.23               8   \n",
      "1             1              1               0.26               9   \n",
      "2             1              1               0.23               9   \n",
      "3             1              1               0.30               8   \n",
      "4             6              1               0.42               9   \n",
      "\n",
      "   qtdePrejuizoTeste  ...         dataPrevisaoTeste  mediaValorTeste  \\\n",
      "0                  2  ...  2022-09-18T02:24:53.000Z           0.1085   \n",
      "1                  0  ...  2022-09-17T18:30:22.000Z           0.1252   \n",
      "2                  3  ...  2022-09-18T02:33:53.000Z           0.0841   \n",
      "3                  1  ...  2022-09-17T10:33:22.000Z           0.1616   \n",
      "4                  0  ...  2022-09-26T04:35:21.000Z           0.3179   \n",
      "\n",
      "  desvioValorTeste qtdeTradeTeste  pontuacaoExecucao qtdeLucroExecucao  \\\n",
      "0           0.0464             10              -52.0               0.0   \n",
      "1           0.0502              9               -8.0               2.0   \n",
      "2           0.0450             12                8.0               2.0   \n",
      "3           0.0659              9               17.0               3.0   \n",
      "4           0.1808              9              104.0               8.0   \n",
      "\n",
      "   qtdePrejuizoExecucao tipoCompraVenda  qtdeDias1  qtdeDias2  \n",
      "0                   4.0               C        120       None  \n",
      "1                   2.0               C        120       None  \n",
      "2                   2.0               C        120       None  \n",
      "3                   2.0               C        120       None  \n",
      "4                   0.0               V        120       None  \n",
      "\n",
      "[5 rows x 27 columns]\n"
     ]
    }
   ],
   "source": [
    "print('conexao redes')\n",
    "r = requests.get(urlRedes)\n",
    "j = r.json()\n",
    "dfRede = pd.DataFrame.from_dict(j)\n",
    "print(dfRede.head())"
   ]
  },
  {
   "cell_type": "code",
   "execution_count": 13,
   "id": "c64a3c3b",
   "metadata": {},
   "outputs": [
    {
     "name": "stdout",
     "output_type": "stream",
     "text": [
      "conexao exemplos\n",
      "http://vps-40d69db1.vps.ovh.ca:23004/api/ExemploTreinoAcaoEntradas/obtemProximoDia?qtdeDias=120\n",
      "(86, 3)\n",
      "X\n",
      "(86, 1800)\n",
      "ID: 43\n",
      "/root/executa-rede/redes/treino_rede43.h5\n",
      "Model: \"sequential\"\n",
      "_________________________________________________________________\n",
      " Layer (type)                Output Shape              Param #   \n",
      "=================================================================\n",
      " dense (Dense)               (None, 1800)              3241800   \n",
      "                                                                 \n",
      " dense_1 (Dense)             (None, 1400)              2521400   \n",
      "                                                                 \n",
      " dense_2 (Dense)             (None, 1000)              1401000   \n",
      "                                                                 \n",
      " dense_3 (Dense)             (None, 600)               600600    \n",
      "                                                                 \n",
      " dense_4 (Dense)             (None, 200)               120200    \n",
      "                                                                 \n",
      " dense_5 (Dense)             (None, 1)                 201       \n",
      "                                                                 \n",
      "=================================================================\n",
      "Total params: 7,885,201\n",
      "Trainable params: 7,885,201\n",
      "Non-trainable params: 0\n",
      "_________________________________________________________________\n",
      "http://vps-40d69db1.vps.ovh.ca:23004/api/CotacaoIntradayAcaoResultados/listaPrecoEntradaPrevisaoProximoB3?idRegra=68&idGrupo=12\n",
      "  ticker valorReferencia valorEntrada\n",
      "0  ABEV3            None         None\n",
      "1  AERI3            None         None\n",
      "2  ALPA4            None         None\n",
      "3  ALSO3            None         None\n",
      "4  AMAR3            None         None\n",
      "{'ticker': ['ABEV3', 'AERI3', 'ALPA4', 'ALSO3', 'AMAR3', 'ANIM3', 'AZUL4', 'B3SA3', 'BBAS3', 'BBDC4', 'BBSE3', 'BEEF3', 'BPAC11', 'BPAN4', 'BRAP4', 'BRFS3', 'BRKM5', 'BRML3', 'CCRO3', 'CIEL3', 'CMIG4', 'COGN3', 'CPFE3', 'CPLE6', 'CRFB3', 'CSAN3', 'CSMG3', 'CSNA3', 'CVCB3', 'CYRE3', 'ECOR3', 'EGIE3', 'ELET3', 'ELET6', 'EMBR3', 'ENBR3', 'ENEV3', 'ENGI11', 'EQTL3', 'EZTC3', 'FLRY3', 'GGBR4', 'GOAU4', 'GOLL4', 'HAPV3', 'HYPE3', 'ITUB4', 'JBSS3', 'JHSF3', 'KLBN11', 'LIGT3', 'LREN3', 'LWSA3', 'MGLU3', 'MOVI3', 'MRFG3', 'MRVE3', 'MULT3', 'MYPK3', 'NEOE3', 'NTCO3', 'PCAR3', 'PETR4', 'POSI3', 'PRIO3', 'PTBL3', 'QUAL3', 'RADL3', 'RAIL3', 'RAPT4', 'RENT3', 'SANB11', 'SBSP3', 'SLCE3', 'SMTO3', 'STBP3', 'SULA11', 'SUZB3', 'TAEE11', 'TOTS3', 'UGPA3', 'USIM5', 'VALE3', 'WEGE3', 'WIZS3', 'YDUQ3'], 'diaNumPrevisao': [20221128, 20221128, 20221128, 20221128, 20221128, 20221128, 20221128, 20221128, 20221128, 20221128, 20221128, 20221128, 20221128, 20221128, 20221128, 20221128, 20221128, 20221128, 20221128, 20221128, 20221128, 20221128, 20221128, 20221128, 20221128, 20221128, 20221128, 20221128, 20221128, 20221128, 20221128, 20221128, 20221128, 20221128, 20221128, 20221128, 20221128, 20221128, 20221128, 20221128, 20221128, 20221128, 20221128, 20221128, 20221128, 20221128, 20221128, 20221128, 20221128, 20221128, 20221128, 20221128, 20221128, 20221128, 20221128, 20221128, 20221128, 20221128, 20221128, 20221128, 20221128, 20221128, 20221128, 20221128, 20221128, 20221128, 20221128, 20221128, 20221128, 20221128, 20221128, 20221128, 20221128, 20221128, 20221128, 20221128, 20221128, 20221128, 20221128, 20221128, 20221128, 20221128, 20221128, 20221128, 20221128, 20221128], 'resultado': [0.07725420594215393, 0.20157042145729065, 0.05778464674949646, 0.07019847631454468, 0.04477435350418091, 0.0567755401134491, 0.06525695323944092, 0.07006487250328064, 0.0687997043132782, 0.06862309575080872, 0.08371329307556152, 0.07313671708106995, 0.07340174913406372, 0.07950526475906372, 0.09844714403152466, 0.08115556836128235, 0.18457472324371338, 0.07261490821838379, 0.0741817057132721, 0.06924399733543396, 0.0815306305885315, 0.060809195041656494, 0.07955923676490784, 0.09328293800354004, 0.06218254566192627, 0.08785206079483032, 0.09020847082138062, 0.16453084349632263, 0.16938284039497375, 0.06329762935638428, 0.12679043412208557, 0.08146989345550537, 0.07834631204605103, 0.07889384031295776, 0.09037095308303833, 0.07460156083106995, 0.07238373160362244, 0.0784974992275238, 0.07976657152175903, 0.0553966760635376, 0.07382452487945557, 0.0934000015258789, 0.09654960036277771, 0.09249994158744812, 0.04701480269432068, 0.07718011736869812, 0.07262668013572693, 0.15229585766792297, 0.05803459882736206, 0.08448442816734314, 0.1652948558330536, 0.06430748105049133, 0.06258204579353333, 0.0641147792339325, 0.11120089888572693, 0.1452304720878601, 0.0559256374835968, 0.07009169459342957, 0.11794483661651611, 0.08797270059585571, 0.07341131567955017, 0.07326048612594604, 0.06297111511230469, 0.06582489609718323, 0.09139573574066162, 0.05750948190689087, 0.17655324935913086, 0.07402569055557251, 0.07551562786102295, 0.07474350929260254, 0.06834185123443604, 0.0771409273147583, 0.09382665157318115, 0.10102632641792297, 0.2290501892566681, 0.07358419895172119, 0.0775638222694397, 0.08934032917022705, 0.07458451390266418, 0.07479152083396912, 0.08259052038192749, 0.12816423177719116, 0.09766852855682373, 0.09168323874473572, 0.07906034588813782, 0.07684510946273804], 'treinoRedeId': ['43', '43', '43', '43', '43', '43', '43', '43', '43', '43', '43', '43', '43', '43', '43', '43', '43', '43', '43', '43', '43', '43', '43', '43', '43', '43', '43', '43', '43', '43', '43', '43', '43', '43', '43', '43', '43', '43', '43', '43', '43', '43', '43', '43', '43', '43', '43', '43', '43', '43', '43', '43', '43', '43', '43', '43', '43', '43', '43', '43', '43', '43', '43', '43', '43', '43', '43', '43', '43', '43', '43', '43', '43', '43', '43', '43', '43', '43', '43', '43', '43', '43', '43', '43', '43', '43'], 'tipoCompraVenda': ['C', 'C', 'C', 'C', 'C', 'C', 'C', 'C', 'C', 'C', 'C', 'C', 'C', 'C', 'C', 'C', 'C', 'C', 'C', 'C', 'C', 'C', 'C', 'C', 'C', 'C', 'C', 'C', 'C', 'C', 'C', 'C', 'C', 'C', 'C', 'C', 'C', 'C', 'C', 'C', 'C', 'C', 'C', 'C', 'C', 'C', 'C', 'C', 'C', 'C', 'C', 'C', 'C', 'C', 'C', 'C', 'C', 'C', 'C', 'C', 'C', 'C', 'C', 'C', 'C', 'C', 'C', 'C', 'C', 'C', 'C', 'C', 'C', 'C', 'C', 'C', 'C', 'C', 'C', 'C', 'C', 'C', 'C', 'C', 'C', 'C'], 'valorReferencia': [None, None, None, None, None, None, None, None, None, None, None, None, None, None, None, None, None, None, None, None, None, None, None, None, None, None, None, None, None, None, None, None, None, None, None, None, None, None, None, None, None, None, None, None, None, None, None, None, None, None, None, None, None, None, None, None, None, None, None, None, None, None, None, None, None, None, None, None, None, None, None, None, None, None, None, None, None, None, None, None, None, None, None, None, None, None], 'valorEntrada': [None, None, None, None, None, None, None, None, None, None, None, None, None, None, None, None, None, None, None, None, None, None, None, None, None, None, None, None, None, None, None, None, None, None, None, None, None, None, None, None, None, None, None, None, None, None, None, None, None, None, None, None, None, None, None, None, None, None, None, None, None, None, None, None, None, None, None, None, None, None, None, None, None, None, None, None, None, None, None, None, None, None, None, None, None, None]}\n",
      "<Response [500]>\n",
      "conexao exemplos\n",
      "http://vps-40d69db1.vps.ovh.ca:23004/api/ExemploTreinoAcaoEntradas/obtemProximoDia?qtdeDias=120\n",
      "(86, 3)\n",
      "X\n",
      "(86, 1800)\n",
      "ID: 77\n",
      "/root/executa-rede/redes/treino_rede77.h5\n",
      "Model: \"sequential\"\n",
      "_________________________________________________________________\n",
      " Layer (type)                Output Shape              Param #   \n",
      "=================================================================\n",
      " dense (Dense)               (None, 1000)              1801000   \n",
      "                                                                 \n",
      " dense_1 (Dense)             (None, 500)               500500    \n",
      "                                                                 \n",
      " dense_2 (Dense)             (None, 1)                 501       \n",
      "                                                                 \n",
      "=================================================================\n",
      "Total params: 2,302,001\n",
      "Trainable params: 2,302,001\n",
      "Non-trainable params: 0\n",
      "_________________________________________________________________\n"
     ]
    },
    {
     "name": "stdout",
     "output_type": "stream",
     "text": [
      "http://vps-40d69db1.vps.ovh.ca:23004/api/CotacaoIntradayAcaoResultados/listaPrecoEntradaPrevisaoProximoB3?idRegra=66&idGrupo=12\n",
      "  ticker valorReferencia valorEntrada\n",
      "0  ABEV3            None         None\n",
      "1  AERI3            None         None\n",
      "2  ALPA4            None         None\n",
      "3  ALSO3            None         None\n",
      "4  AMAR3            None         None\n",
      "{'ticker': ['ABEV3', 'AERI3', 'ALPA4', 'ALSO3', 'AMAR3', 'ANIM3', 'AZUL4', 'B3SA3', 'BBAS3', 'BBDC4', 'BBSE3', 'BEEF3', 'BPAC11', 'BPAN4', 'BRAP4', 'BRFS3', 'BRKM5', 'BRML3', 'CCRO3', 'CIEL3', 'CMIG4', 'COGN3', 'CPFE3', 'CPLE6', 'CRFB3', 'CSAN3', 'CSMG3', 'CSNA3', 'CVCB3', 'CYRE3', 'ECOR3', 'EGIE3', 'ELET3', 'ELET6', 'EMBR3', 'ENBR3', 'ENEV3', 'ENGI11', 'EQTL3', 'EZTC3', 'FLRY3', 'GGBR4', 'GOAU4', 'GOLL4', 'HAPV3', 'HYPE3', 'ITUB4', 'JBSS3', 'JHSF3', 'KLBN11', 'LIGT3', 'LREN3', 'LWSA3', 'MGLU3', 'MOVI3', 'MRFG3', 'MRVE3', 'MULT3', 'MYPK3', 'NEOE3', 'NTCO3', 'PCAR3', 'PETR4', 'POSI3', 'PRIO3', 'PTBL3', 'QUAL3', 'RADL3', 'RAIL3', 'RAPT4', 'RENT3', 'SANB11', 'SBSP3', 'SLCE3', 'SMTO3', 'STBP3', 'SULA11', 'SUZB3', 'TAEE11', 'TOTS3', 'UGPA3', 'USIM5', 'VALE3', 'WEGE3', 'WIZS3', 'YDUQ3'], 'diaNumPrevisao': [20221128, 20221128, 20221128, 20221128, 20221128, 20221128, 20221128, 20221128, 20221128, 20221128, 20221128, 20221128, 20221128, 20221128, 20221128, 20221128, 20221128, 20221128, 20221128, 20221128, 20221128, 20221128, 20221128, 20221128, 20221128, 20221128, 20221128, 20221128, 20221128, 20221128, 20221128, 20221128, 20221128, 20221128, 20221128, 20221128, 20221128, 20221128, 20221128, 20221128, 20221128, 20221128, 20221128, 20221128, 20221128, 20221128, 20221128, 20221128, 20221128, 20221128, 20221128, 20221128, 20221128, 20221128, 20221128, 20221128, 20221128, 20221128, 20221128, 20221128, 20221128, 20221128, 20221128, 20221128, 20221128, 20221128, 20221128, 20221128, 20221128, 20221128, 20221128, 20221128, 20221128, 20221128, 20221128, 20221128, 20221128, 20221128, 20221128, 20221128, 20221128, 20221128, 20221128, 20221128, 20221128, 20221128], 'resultado': [0.09688645601272583, 0.2382757067680359, 0.06692969799041748, 0.091570645570755, 0.05374878644943237, 0.08922475576400757, 0.08133015036582947, 0.09618809819221497, 0.08496960997581482, 0.07437282800674438, 0.10158488154411316, 0.07784312963485718, 0.09769612550735474, 0.09688597917556763, 0.10138601064682007, 0.09901046752929688, 0.19580307602882385, 0.10007187724113464, 0.07919010519981384, 0.11778488755226135, 0.08828005194664001, 0.0876777172088623, 0.08921065926551819, 0.09849375486373901, 0.07392111420631409, 0.09133189916610718, 0.12641555070877075, 0.17359471321105957, 0.16900524497032166, 0.11468309164047241, 0.1289779543876648, 0.08870869874954224, 0.08556169271469116, 0.0929027795791626, 0.10553750395774841, 0.08288353681564331, 0.08080616593360901, 0.08816412091255188, 0.1041417121887207, 0.08825147151947021, 0.10054466128349304, 0.10701128840446472, 0.11424568295478821, 0.09048202633857727, 0.07044175267219543, 0.10225707292556763, 0.10011449456214905, 0.17013150453567505, 0.0777347981929779, 0.08696606755256653, 0.15700498223304749, 0.082623690366745, 0.12414845824241638, 0.14036551117897034, 0.10718473792076111, 0.1549977958202362, 0.08496302366256714, 0.07839825749397278, 0.13436293601989746, 0.09031105041503906, 0.08406457304954529, 0.09394493699073792, 0.07344603538513184, 0.16324537992477417, 0.14368316531181335, 0.1292121708393097, 0.19338759779930115, 0.10012155771255493, 0.10184916853904724, 0.07872068881988525, 0.09919467568397522, 0.0807313621044159, 0.14043289422988892, 0.10194718837738037, 0.2458418905735016, 0.10964253544807434, 0.07976040244102478, 0.0935361385345459, 0.07867565751075745, 0.10437357425689697, 0.08932092785835266, 0.1436384618282318, 0.10209736227989197, 0.14375218749046326, 0.081724613904953, 0.08262982964515686], 'treinoRedeId': ['77', '77', '77', '77', '77', '77', '77', '77', '77', '77', '77', '77', '77', '77', '77', '77', '77', '77', '77', '77', '77', '77', '77', '77', '77', '77', '77', '77', '77', '77', '77', '77', '77', '77', '77', '77', '77', '77', '77', '77', '77', '77', '77', '77', '77', '77', '77', '77', '77', '77', '77', '77', '77', '77', '77', '77', '77', '77', '77', '77', '77', '77', '77', '77', '77', '77', '77', '77', '77', '77', '77', '77', '77', '77', '77', '77', '77', '77', '77', '77', '77', '77', '77', '77', '77', '77'], 'tipoCompraVenda': ['C', 'C', 'C', 'C', 'C', 'C', 'C', 'C', 'C', 'C', 'C', 'C', 'C', 'C', 'C', 'C', 'C', 'C', 'C', 'C', 'C', 'C', 'C', 'C', 'C', 'C', 'C', 'C', 'C', 'C', 'C', 'C', 'C', 'C', 'C', 'C', 'C', 'C', 'C', 'C', 'C', 'C', 'C', 'C', 'C', 'C', 'C', 'C', 'C', 'C', 'C', 'C', 'C', 'C', 'C', 'C', 'C', 'C', 'C', 'C', 'C', 'C', 'C', 'C', 'C', 'C', 'C', 'C', 'C', 'C', 'C', 'C', 'C', 'C', 'C', 'C', 'C', 'C', 'C', 'C', 'C', 'C', 'C', 'C', 'C', 'C'], 'valorReferencia': [None, None, None, None, None, None, None, None, None, None, None, None, None, None, None, None, None, None, None, None, None, None, None, None, None, None, None, None, None, None, None, None, None, None, None, None, None, None, None, None, None, None, None, None, None, None, None, None, None, None, None, None, None, None, None, None, None, None, None, None, None, None, None, None, None, None, None, None, None, None, None, None, None, None, None, None, None, None, None, None, None, None, None, None, None, None], 'valorEntrada': [None, None, None, None, None, None, None, None, None, None, None, None, None, None, None, None, None, None, None, None, None, None, None, None, None, None, None, None, None, None, None, None, None, None, None, None, None, None, None, None, None, None, None, None, None, None, None, None, None, None, None, None, None, None, None, None, None, None, None, None, None, None, None, None, None, None, None, None, None, None, None, None, None, None, None, None, None, None, None, None, None, None, None, None, None, None]}\n",
      "<Response [500]>\n",
      "conexao exemplos\n",
      "http://vps-40d69db1.vps.ovh.ca:23004/api/ExemploTreinoAcaoEntradas/obtemProximoDia?qtdeDias=120\n",
      "(86, 3)\n",
      "X\n",
      "(86, 1800)\n",
      "ID: 79\n",
      "/root/executa-rede/redes/treino_rede79.h5\n",
      "Model: \"sequential\"\n",
      "_________________________________________________________________\n",
      " Layer (type)                Output Shape              Param #   \n",
      "=================================================================\n",
      " dense (Dense)               (None, 1000)              1801000   \n",
      "                                                                 \n",
      " dense_1 (Dense)             (None, 500)               500500    \n",
      "                                                                 \n",
      " dense_2 (Dense)             (None, 1)                 501       \n",
      "                                                                 \n",
      "=================================================================\n",
      "Total params: 2,302,001\n",
      "Trainable params: 2,302,001\n",
      "Non-trainable params: 0\n",
      "_________________________________________________________________\n",
      "http://vps-40d69db1.vps.ovh.ca:23004/api/CotacaoIntradayAcaoResultados/listaPrecoEntradaPrevisaoProximoB3?idRegra=68&idGrupo=12\n",
      "  ticker valorReferencia valorEntrada\n",
      "0  ABEV3            None         None\n",
      "1  AERI3            None         None\n",
      "2  ALPA4            None         None\n",
      "3  ALSO3            None         None\n",
      "4  AMAR3            None         None\n",
      "{'ticker': ['ABEV3', 'AERI3', 'ALPA4', 'ALSO3', 'AMAR3', 'ANIM3', 'AZUL4', 'B3SA3', 'BBAS3', 'BBDC4', 'BBSE3', 'BEEF3', 'BPAC11', 'BPAN4', 'BRAP4', 'BRFS3', 'BRKM5', 'BRML3', 'CCRO3', 'CIEL3', 'CMIG4', 'COGN3', 'CPFE3', 'CPLE6', 'CRFB3', 'CSAN3', 'CSMG3', 'CSNA3', 'CVCB3', 'CYRE3', 'ECOR3', 'EGIE3', 'ELET3', 'ELET6', 'EMBR3', 'ENBR3', 'ENEV3', 'ENGI11', 'EQTL3', 'EZTC3', 'FLRY3', 'GGBR4', 'GOAU4', 'GOLL4', 'HAPV3', 'HYPE3', 'ITUB4', 'JBSS3', 'JHSF3', 'KLBN11', 'LIGT3', 'LREN3', 'LWSA3', 'MGLU3', 'MOVI3', 'MRFG3', 'MRVE3', 'MULT3', 'MYPK3', 'NEOE3', 'NTCO3', 'PCAR3', 'PETR4', 'POSI3', 'PRIO3', 'PTBL3', 'QUAL3', 'RADL3', 'RAIL3', 'RAPT4', 'RENT3', 'SANB11', 'SBSP3', 'SLCE3', 'SMTO3', 'STBP3', 'SULA11', 'SUZB3', 'TAEE11', 'TOTS3', 'UGPA3', 'USIM5', 'VALE3', 'WEGE3', 'WIZS3', 'YDUQ3'], 'diaNumPrevisao': [20221128, 20221128, 20221128, 20221128, 20221128, 20221128, 20221128, 20221128, 20221128, 20221128, 20221128, 20221128, 20221128, 20221128, 20221128, 20221128, 20221128, 20221128, 20221128, 20221128, 20221128, 20221128, 20221128, 20221128, 20221128, 20221128, 20221128, 20221128, 20221128, 20221128, 20221128, 20221128, 20221128, 20221128, 20221128, 20221128, 20221128, 20221128, 20221128, 20221128, 20221128, 20221128, 20221128, 20221128, 20221128, 20221128, 20221128, 20221128, 20221128, 20221128, 20221128, 20221128, 20221128, 20221128, 20221128, 20221128, 20221128, 20221128, 20221128, 20221128, 20221128, 20221128, 20221128, 20221128, 20221128, 20221128, 20221128, 20221128, 20221128, 20221128, 20221128, 20221128, 20221128, 20221128, 20221128, 20221128, 20221128, 20221128, 20221128, 20221128, 20221128, 20221128, 20221128, 20221128, 20221128, 20221128], 'resultado': [0.05559733510017395, 0.17840689420700073, 0.04452311992645264, 0.05020695924758911, 0.02799639105796814, 0.03732633590698242, 0.045104652643203735, 0.05056855082511902, 0.049327969551086426, 0.052450746297836304, 0.06069639325141907, 0.05677273869514465, 0.053715527057647705, 0.06011113524436951, 0.07373175024986267, 0.061433881521224976, 0.1477167308330536, 0.05181264877319336, 0.05588677525520325, 0.04904532432556152, 0.06071585416793823, 0.04150381684303284, 0.059449970722198486, 0.06925752758979797, 0.04367074370384216, 0.06614628434181213, 0.06703013181686401, 0.12094125151634216, 0.1314491331577301, 0.04424259066581726, 0.09580883383750916, 0.0624503493309021, 0.05961406230926514, 0.059404224157333374, 0.06563347578048706, 0.05535230040550232, 0.055260926485061646, 0.05818977952003479, 0.057811856269836426, 0.0384366512298584, 0.052857935428619385, 0.06545567512512207, 0.06728571653366089, 0.06636878848075867, 0.03084397315979004, 0.056796252727508545, 0.051919013261795044, 0.11255007982254028, 0.04166465997695923, 0.0637940764427185, 0.11758860945701599, 0.045133382081985474, 0.040055662393569946, 0.035106539726257324, 0.08348792791366577, 0.10212847590446472, 0.03306809067726135, 0.0519290566444397, 0.09270647168159485, 0.06690320372581482, 0.05559632182121277, 0.05504760146141052, 0.049520134925842285, 0.03498893976211548, 0.058661818504333496, 0.038476526737213135, 0.17535346746444702, 0.05232331156730652, 0.056073278188705444, 0.05604282021522522, 0.0487290620803833, 0.05800175666809082, 0.07044517993927002, 0.08004522323608398, 0.19622451066970825, 0.05359947681427002, 0.05725592374801636, 0.06654629111289978, 0.056459277868270874, 0.05208936333656311, 0.06206586956977844, 0.09491685032844543, 0.07222205400466919, 0.06480550765991211, 0.05781060457229614, 0.05965977907180786], 'treinoRedeId': ['79', '79', '79', '79', '79', '79', '79', '79', '79', '79', '79', '79', '79', '79', '79', '79', '79', '79', '79', '79', '79', '79', '79', '79', '79', '79', '79', '79', '79', '79', '79', '79', '79', '79', '79', '79', '79', '79', '79', '79', '79', '79', '79', '79', '79', '79', '79', '79', '79', '79', '79', '79', '79', '79', '79', '79', '79', '79', '79', '79', '79', '79', '79', '79', '79', '79', '79', '79', '79', '79', '79', '79', '79', '79', '79', '79', '79', '79', '79', '79', '79', '79', '79', '79', '79', '79'], 'tipoCompraVenda': ['C', 'C', 'C', 'C', 'C', 'C', 'C', 'C', 'C', 'C', 'C', 'C', 'C', 'C', 'C', 'C', 'C', 'C', 'C', 'C', 'C', 'C', 'C', 'C', 'C', 'C', 'C', 'C', 'C', 'C', 'C', 'C', 'C', 'C', 'C', 'C', 'C', 'C', 'C', 'C', 'C', 'C', 'C', 'C', 'C', 'C', 'C', 'C', 'C', 'C', 'C', 'C', 'C', 'C', 'C', 'C', 'C', 'C', 'C', 'C', 'C', 'C', 'C', 'C', 'C', 'C', 'C', 'C', 'C', 'C', 'C', 'C', 'C', 'C', 'C', 'C', 'C', 'C', 'C', 'C', 'C', 'C', 'C', 'C', 'C', 'C'], 'valorReferencia': [None, None, None, None, None, None, None, None, None, None, None, None, None, None, None, None, None, None, None, None, None, None, None, None, None, None, None, None, None, None, None, None, None, None, None, None, None, None, None, None, None, None, None, None, None, None, None, None, None, None, None, None, None, None, None, None, None, None, None, None, None, None, None, None, None, None, None, None, None, None, None, None, None, None, None, None, None, None, None, None, None, None, None, None, None, None], 'valorEntrada': [None, None, None, None, None, None, None, None, None, None, None, None, None, None, None, None, None, None, None, None, None, None, None, None, None, None, None, None, None, None, None, None, None, None, None, None, None, None, None, None, None, None, None, None, None, None, None, None, None, None, None, None, None, None, None, None, None, None, None, None, None, None, None, None, None, None, None, None, None, None, None, None, None, None, None, None, None, None, None, None, None, None, None, None, None, None]}\n",
      "<Response [500]>\n",
      "conexao exemplos\n",
      "http://vps-40d69db1.vps.ovh.ca:23004/api/ExemploTreinoAcaoEntradas/obtemProximoDia?qtdeDias=120\n"
     ]
    },
    {
     "name": "stdout",
     "output_type": "stream",
     "text": [
      "(86, 3)\n",
      "X\n",
      "(86, 1800)\n",
      "ID: 80\n",
      "/root/executa-rede/redes/treino_rede80.h5\n",
      "Model: \"sequential\"\n",
      "_________________________________________________________________\n",
      " Layer (type)                Output Shape              Param #   \n",
      "=================================================================\n",
      " dense (Dense)               (None, 1000)              1801000   \n",
      "                                                                 \n",
      " dense_1 (Dense)             (None, 500)               500500    \n",
      "                                                                 \n",
      " dense_2 (Dense)             (None, 1)                 501       \n",
      "                                                                 \n",
      "=================================================================\n",
      "Total params: 2,302,001\n",
      "Trainable params: 2,302,001\n",
      "Non-trainable params: 0\n",
      "_________________________________________________________________\n",
      "WARNING:tensorflow:5 out of the last 13 calls to <function Model.make_predict_function.<locals>.predict_function at 0x7fdda2cf8280> triggered tf.function retracing. Tracing is expensive and the excessive number of tracings could be due to (1) creating @tf.function repeatedly in a loop, (2) passing tensors with different shapes, (3) passing Python objects instead of tensors. For (1), please define your @tf.function outside of the loop. For (2), @tf.function has experimental_relax_shapes=True option that relaxes argument shapes that can avoid unnecessary retracing. For (3), please refer to https://www.tensorflow.org/guide/function#controlling_retracing and https://www.tensorflow.org/api_docs/python/tf/function for  more details.\n",
      "http://vps-40d69db1.vps.ovh.ca:23004/api/CotacaoIntradayAcaoResultados/listaPrecoEntradaPrevisaoProximoB3?idRegra=69&idGrupo=12\n",
      "  ticker valorReferencia valorEntrada\n",
      "0  ABEV3            None         None\n",
      "1  AERI3            None         None\n",
      "2  ALPA4            None         None\n",
      "3  ALSO3            None         None\n",
      "4  AMAR3            None         None\n",
      "{'ticker': ['ABEV3', 'AERI3', 'ALPA4', 'ALSO3', 'AMAR3', 'ANIM3', 'AZUL4', 'B3SA3', 'BBAS3', 'BBDC4', 'BBSE3', 'BEEF3', 'BPAC11', 'BPAN4', 'BRAP4', 'BRFS3', 'BRKM5', 'BRML3', 'CCRO3', 'CIEL3', 'CMIG4', 'COGN3', 'CPFE3', 'CPLE6', 'CRFB3', 'CSAN3', 'CSMG3', 'CSNA3', 'CVCB3', 'CYRE3', 'ECOR3', 'EGIE3', 'ELET3', 'ELET6', 'EMBR3', 'ENBR3', 'ENEV3', 'ENGI11', 'EQTL3', 'EZTC3', 'FLRY3', 'GGBR4', 'GOAU4', 'GOLL4', 'HAPV3', 'HYPE3', 'ITUB4', 'JBSS3', 'JHSF3', 'KLBN11', 'LIGT3', 'LREN3', 'LWSA3', 'MGLU3', 'MOVI3', 'MRFG3', 'MRVE3', 'MULT3', 'MYPK3', 'NEOE3', 'NTCO3', 'PCAR3', 'PETR4', 'POSI3', 'PRIO3', 'PTBL3', 'QUAL3', 'RADL3', 'RAIL3', 'RAPT4', 'RENT3', 'SANB11', 'SBSP3', 'SLCE3', 'SMTO3', 'STBP3', 'SULA11', 'SUZB3', 'TAEE11', 'TOTS3', 'UGPA3', 'USIM5', 'VALE3', 'WEGE3', 'WIZS3', 'YDUQ3'], 'diaNumPrevisao': [20221128, 20221128, 20221128, 20221128, 20221128, 20221128, 20221128, 20221128, 20221128, 20221128, 20221128, 20221128, 20221128, 20221128, 20221128, 20221128, 20221128, 20221128, 20221128, 20221128, 20221128, 20221128, 20221128, 20221128, 20221128, 20221128, 20221128, 20221128, 20221128, 20221128, 20221128, 20221128, 20221128, 20221128, 20221128, 20221128, 20221128, 20221128, 20221128, 20221128, 20221128, 20221128, 20221128, 20221128, 20221128, 20221128, 20221128, 20221128, 20221128, 20221128, 20221128, 20221128, 20221128, 20221128, 20221128, 20221128, 20221128, 20221128, 20221128, 20221128, 20221128, 20221128, 20221128, 20221128, 20221128, 20221128, 20221128, 20221128, 20221128, 20221128, 20221128, 20221128, 20221128, 20221128, 20221128, 20221128, 20221128, 20221128, 20221128, 20221128, 20221128, 20221128, 20221128, 20221128, 20221128, 20221128], 'resultado': [0.0977596640586853, 0.31173720955848694, 0.09674957394599915, 0.0958903431892395, 0.07137879729270935, 0.08135449886322021, 0.09017887711524963, 0.09620553255081177, 0.08705022931098938, 0.1134786605834961, 0.1039591133594513, 0.11304676532745361, 0.09790506958961487, 0.10318878293037415, 0.14271456003189087, 0.1616145372390747, 0.2920919954776764, 0.0985136330127716, 0.12013012170791626, 0.09724542498588562, 0.1079716682434082, 0.0859498679637909, 0.10184353590011597, 0.11709234118461609, 0.0838358998298645, 0.1478295922279358, 0.11698183417320251, 0.2603318691253662, 0.2893523871898651, 0.09452232718467712, 0.2375783622264862, 0.13096487522125244, 0.10677209496498108, 0.10210627317428589, 0.11055484414100647, 0.09789162874221802, 0.12533676624298096, 0.10203158855438232, 0.1044762134552002, 0.07755810022354126, 0.09802946448326111, 0.11523020267486572, 0.11886665225028992, 0.162988543510437, 0.06362789869308472, 0.10143202543258667, 0.09722965955734253, 0.2661213278770447, 0.08461984992027283, 0.12131494283676147, 0.25720393657684326, 0.08665445446968079, 0.09707877039909363, 0.10101708769798279, 0.21662166714668274, 0.2573310434818268, 0.07102295756340027, 0.09660372138023376, 0.2052740454673767, 0.13143306970596313, 0.14394807815551758, 0.09810495376586914, 0.10425364971160889, 0.11642301082611084, 0.11511734127998352, 0.09823378920555115, 0.2595999240875244, 0.09778156876564026, 0.09934854507446289, 0.11509746313095093, 0.09132769703865051, 0.11854386329650879, 0.12336927652359009, 0.16172167658805847, 0.3138996362686157, 0.09767594933509827, 0.11725997924804688, 0.11805036664009094, 0.11937248706817627, 0.09755420684814453, 0.10803988575935364, 0.22880017757415771, 0.13951534032821655, 0.12080547213554382, 0.11417219042778015, 0.1459333598613739], 'treinoRedeId': ['80', '80', '80', '80', '80', '80', '80', '80', '80', '80', '80', '80', '80', '80', '80', '80', '80', '80', '80', '80', '80', '80', '80', '80', '80', '80', '80', '80', '80', '80', '80', '80', '80', '80', '80', '80', '80', '80', '80', '80', '80', '80', '80', '80', '80', '80', '80', '80', '80', '80', '80', '80', '80', '80', '80', '80', '80', '80', '80', '80', '80', '80', '80', '80', '80', '80', '80', '80', '80', '80', '80', '80', '80', '80', '80', '80', '80', '80', '80', '80', '80', '80', '80', '80', '80', '80'], 'tipoCompraVenda': ['C', 'C', 'C', 'C', 'C', 'C', 'C', 'C', 'C', 'C', 'C', 'C', 'C', 'C', 'C', 'C', 'C', 'C', 'C', 'C', 'C', 'C', 'C', 'C', 'C', 'C', 'C', 'C', 'C', 'C', 'C', 'C', 'C', 'C', 'C', 'C', 'C', 'C', 'C', 'C', 'C', 'C', 'C', 'C', 'C', 'C', 'C', 'C', 'C', 'C', 'C', 'C', 'C', 'C', 'C', 'C', 'C', 'C', 'C', 'C', 'C', 'C', 'C', 'C', 'C', 'C', 'C', 'C', 'C', 'C', 'C', 'C', 'C', 'C', 'C', 'C', 'C', 'C', 'C', 'C', 'C', 'C', 'C', 'C', 'C', 'C'], 'valorReferencia': [None, None, None, None, None, None, None, None, None, None, None, None, None, None, None, None, None, None, None, None, None, None, None, None, None, None, None, None, None, None, None, None, None, None, None, None, None, None, None, None, None, None, None, None, None, None, None, None, None, None, None, None, None, None, None, None, None, None, None, None, None, None, None, None, None, None, None, None, None, None, None, None, None, None, None, None, None, None, None, None, None, None, None, None, None, None], 'valorEntrada': [None, None, None, None, None, None, None, None, None, None, None, None, None, None, None, None, None, None, None, None, None, None, None, None, None, None, None, None, None, None, None, None, None, None, None, None, None, None, None, None, None, None, None, None, None, None, None, None, None, None, None, None, None, None, None, None, None, None, None, None, None, None, None, None, None, None, None, None, None, None, None, None, None, None, None, None, None, None, None, None, None, None, None, None, None, None]}\n",
      "<Response [500]>\n",
      "conexao exemplos\n",
      "http://vps-40d69db1.vps.ovh.ca:23004/api/ExemploTreinoAcaoEntradas/obtemProximoDia?qtdeDias=120\n",
      "(86, 3)\n",
      "X\n",
      "(86, 1800)\n",
      "ID: 276\n",
      "/root/executa-rede/redes/treino_rede276.h5\n",
      "Model: \"sequential\"\n",
      "_________________________________________________________________\n",
      " Layer (type)                Output Shape              Param #   \n",
      "=================================================================\n",
      " conv1d (Conv1D)             (None, 1798, 64)          256       \n",
      "                                                                 \n",
      " conv1d_1 (Conv1D)           (None, 1796, 64)          12352     \n",
      "                                                                 \n",
      " dropout (Dropout)           (None, 1796, 64)          0         \n",
      "                                                                 \n",
      " max_pooling1d (MaxPooling1D  (None, 898, 64)          0         \n",
      " )                                                               \n",
      "                                                                 \n",
      " flatten (Flatten)           (None, 57472)             0         \n",
      "                                                                 \n",
      " dense (Dense)               (None, 100)               5747300   \n",
      "                                                                 \n",
      " dense_1 (Dense)             (None, 1)                 101       \n",
      "                                                                 \n",
      "=================================================================\n",
      "Total params: 5,760,009\n",
      "Trainable params: 5,760,009\n",
      "Non-trainable params: 0\n",
      "_________________________________________________________________\n"
     ]
    },
    {
     "name": "stdout",
     "output_type": "stream",
     "text": [
      "WARNING:tensorflow:5 out of the last 13 calls to <function Model.make_predict_function.<locals>.predict_function at 0x7fdda2d4a5e0> triggered tf.function retracing. Tracing is expensive and the excessive number of tracings could be due to (1) creating @tf.function repeatedly in a loop, (2) passing tensors with different shapes, (3) passing Python objects instead of tensors. For (1), please define your @tf.function outside of the loop. For (2), @tf.function has experimental_relax_shapes=True option that relaxes argument shapes that can avoid unnecessary retracing. For (3), please refer to https://www.tensorflow.org/guide/function#controlling_retracing and https://www.tensorflow.org/api_docs/python/tf/function for  more details.\n",
      "http://vps-40d69db1.vps.ovh.ca:23004/api/CotacaoIntradayAcaoResultados/listaPrecoEntradaPrevisaoProximoB3?idRegra=48&idGrupo=12\n"
     ]
    },
    {
     "ename": "KeyboardInterrupt",
     "evalue": "",
     "output_type": "error",
     "traceback": [
      "\u001b[0;31m---------------------------------------------------------------------------\u001b[0m",
      "\u001b[0;31mKeyboardInterrupt\u001b[0m                         Traceback (most recent call last)",
      "\u001b[0;32m/tmp/ipykernel_812484/4024613741.py\u001b[0m in \u001b[0;36m<module>\u001b[0;34m\u001b[0m\n\u001b[0;32m----> 1\u001b[0;31m \u001b[0mdfRede\u001b[0m\u001b[0;34m.\u001b[0m\u001b[0mapply\u001b[0m\u001b[0;34m(\u001b[0m\u001b[0mtrataRede\u001b[0m\u001b[0;34m,\u001b[0m \u001b[0maxis\u001b[0m\u001b[0;34m=\u001b[0m\u001b[0;34m'columns'\u001b[0m\u001b[0;34m)\u001b[0m\u001b[0;34m\u001b[0m\u001b[0;34m\u001b[0m\u001b[0m\n\u001b[0m",
      "\u001b[0;32m/usr/local/lib/python3.8/dist-packages/pandas/core/frame.py\u001b[0m in \u001b[0;36mapply\u001b[0;34m(self, func, axis, raw, result_type, args, **kwargs)\u001b[0m\n\u001b[1;32m   8738\u001b[0m             \u001b[0mkwargs\u001b[0m\u001b[0;34m=\u001b[0m\u001b[0mkwargs\u001b[0m\u001b[0;34m,\u001b[0m\u001b[0;34m\u001b[0m\u001b[0;34m\u001b[0m\u001b[0m\n\u001b[1;32m   8739\u001b[0m         )\n\u001b[0;32m-> 8740\u001b[0;31m         \u001b[0;32mreturn\u001b[0m \u001b[0mop\u001b[0m\u001b[0;34m.\u001b[0m\u001b[0mapply\u001b[0m\u001b[0;34m(\u001b[0m\u001b[0;34m)\u001b[0m\u001b[0;34m\u001b[0m\u001b[0;34m\u001b[0m\u001b[0m\n\u001b[0m\u001b[1;32m   8741\u001b[0m \u001b[0;34m\u001b[0m\u001b[0m\n\u001b[1;32m   8742\u001b[0m     def applymap(\n",
      "\u001b[0;32m/usr/local/lib/python3.8/dist-packages/pandas/core/apply.py\u001b[0m in \u001b[0;36mapply\u001b[0;34m(self)\u001b[0m\n\u001b[1;32m    686\u001b[0m             \u001b[0;32mreturn\u001b[0m \u001b[0mself\u001b[0m\u001b[0;34m.\u001b[0m\u001b[0mapply_raw\u001b[0m\u001b[0;34m(\u001b[0m\u001b[0;34m)\u001b[0m\u001b[0;34m\u001b[0m\u001b[0;34m\u001b[0m\u001b[0m\n\u001b[1;32m    687\u001b[0m \u001b[0;34m\u001b[0m\u001b[0m\n\u001b[0;32m--> 688\u001b[0;31m         \u001b[0;32mreturn\u001b[0m \u001b[0mself\u001b[0m\u001b[0;34m.\u001b[0m\u001b[0mapply_standard\u001b[0m\u001b[0;34m(\u001b[0m\u001b[0;34m)\u001b[0m\u001b[0;34m\u001b[0m\u001b[0;34m\u001b[0m\u001b[0m\n\u001b[0m\u001b[1;32m    689\u001b[0m \u001b[0;34m\u001b[0m\u001b[0m\n\u001b[1;32m    690\u001b[0m     \u001b[0;32mdef\u001b[0m \u001b[0magg\u001b[0m\u001b[0;34m(\u001b[0m\u001b[0mself\u001b[0m\u001b[0;34m)\u001b[0m\u001b[0;34m:\u001b[0m\u001b[0;34m\u001b[0m\u001b[0;34m\u001b[0m\u001b[0m\n",
      "\u001b[0;32m/usr/local/lib/python3.8/dist-packages/pandas/core/apply.py\u001b[0m in \u001b[0;36mapply_standard\u001b[0;34m(self)\u001b[0m\n\u001b[1;32m    810\u001b[0m \u001b[0;34m\u001b[0m\u001b[0m\n\u001b[1;32m    811\u001b[0m     \u001b[0;32mdef\u001b[0m \u001b[0mapply_standard\u001b[0m\u001b[0;34m(\u001b[0m\u001b[0mself\u001b[0m\u001b[0;34m)\u001b[0m\u001b[0;34m:\u001b[0m\u001b[0;34m\u001b[0m\u001b[0;34m\u001b[0m\u001b[0m\n\u001b[0;32m--> 812\u001b[0;31m         \u001b[0mresults\u001b[0m\u001b[0;34m,\u001b[0m \u001b[0mres_index\u001b[0m \u001b[0;34m=\u001b[0m \u001b[0mself\u001b[0m\u001b[0;34m.\u001b[0m\u001b[0mapply_series_generator\u001b[0m\u001b[0;34m(\u001b[0m\u001b[0;34m)\u001b[0m\u001b[0;34m\u001b[0m\u001b[0;34m\u001b[0m\u001b[0m\n\u001b[0m\u001b[1;32m    813\u001b[0m \u001b[0;34m\u001b[0m\u001b[0m\n\u001b[1;32m    814\u001b[0m         \u001b[0;31m# wrap results\u001b[0m\u001b[0;34m\u001b[0m\u001b[0;34m\u001b[0m\u001b[0;34m\u001b[0m\u001b[0m\n",
      "\u001b[0;32m/usr/local/lib/python3.8/dist-packages/pandas/core/apply.py\u001b[0m in \u001b[0;36mapply_series_generator\u001b[0;34m(self)\u001b[0m\n\u001b[1;32m    826\u001b[0m             \u001b[0;32mfor\u001b[0m \u001b[0mi\u001b[0m\u001b[0;34m,\u001b[0m \u001b[0mv\u001b[0m \u001b[0;32min\u001b[0m \u001b[0menumerate\u001b[0m\u001b[0;34m(\u001b[0m\u001b[0mseries_gen\u001b[0m\u001b[0;34m)\u001b[0m\u001b[0;34m:\u001b[0m\u001b[0;34m\u001b[0m\u001b[0;34m\u001b[0m\u001b[0m\n\u001b[1;32m    827\u001b[0m                 \u001b[0;31m# ignore SettingWithCopy here in case the user mutates\u001b[0m\u001b[0;34m\u001b[0m\u001b[0;34m\u001b[0m\u001b[0;34m\u001b[0m\u001b[0m\n\u001b[0;32m--> 828\u001b[0;31m                 \u001b[0mresults\u001b[0m\u001b[0;34m[\u001b[0m\u001b[0mi\u001b[0m\u001b[0;34m]\u001b[0m \u001b[0;34m=\u001b[0m \u001b[0mself\u001b[0m\u001b[0;34m.\u001b[0m\u001b[0mf\u001b[0m\u001b[0;34m(\u001b[0m\u001b[0mv\u001b[0m\u001b[0;34m)\u001b[0m\u001b[0;34m\u001b[0m\u001b[0;34m\u001b[0m\u001b[0m\n\u001b[0m\u001b[1;32m    829\u001b[0m                 \u001b[0;32mif\u001b[0m \u001b[0misinstance\u001b[0m\u001b[0;34m(\u001b[0m\u001b[0mresults\u001b[0m\u001b[0;34m[\u001b[0m\u001b[0mi\u001b[0m\u001b[0;34m]\u001b[0m\u001b[0;34m,\u001b[0m \u001b[0mABCSeries\u001b[0m\u001b[0;34m)\u001b[0m\u001b[0;34m:\u001b[0m\u001b[0;34m\u001b[0m\u001b[0;34m\u001b[0m\u001b[0m\n\u001b[1;32m    830\u001b[0m                     \u001b[0;31m# If we have a view on v, we need to make a copy because\u001b[0m\u001b[0;34m\u001b[0m\u001b[0;34m\u001b[0m\u001b[0;34m\u001b[0m\u001b[0m\n",
      "\u001b[0;32m/tmp/ipykernel_812484/2284362478.py\u001b[0m in \u001b[0;36mtrataRede\u001b[0;34m(rede)\u001b[0m\n\u001b[1;32m     10\u001b[0m     \u001b[0mdfDados\u001b[0m\u001b[0;34m[\u001b[0m\u001b[0;34m'treinoRedeId'\u001b[0m\u001b[0;34m]\u001b[0m \u001b[0;34m=\u001b[0m \u001b[0mstr\u001b[0m\u001b[0;34m(\u001b[0m\u001b[0mrede\u001b[0m\u001b[0;34m[\u001b[0m\u001b[0;34m'id'\u001b[0m\u001b[0;34m]\u001b[0m\u001b[0;34m)\u001b[0m\u001b[0;34m\u001b[0m\u001b[0;34m\u001b[0m\u001b[0m\n\u001b[1;32m     11\u001b[0m     \u001b[0mdfDados\u001b[0m\u001b[0;34m[\u001b[0m\u001b[0;34m'tipoCompraVenda'\u001b[0m\u001b[0;34m]\u001b[0m \u001b[0;34m=\u001b[0m \u001b[0mrede\u001b[0m\u001b[0;34m[\u001b[0m\u001b[0;34m'tipoCompraVenda'\u001b[0m\u001b[0;34m]\u001b[0m\u001b[0;34m\u001b[0m\u001b[0;34m\u001b[0m\u001b[0m\n\u001b[0;32m---> 12\u001b[0;31m     \u001b[0mdfEntradas\u001b[0m \u001b[0;34m=\u001b[0m \u001b[0mincluiEntrada\u001b[0m\u001b[0;34m(\u001b[0m\u001b[0mrede\u001b[0m\u001b[0;34m)\u001b[0m\u001b[0;34m\u001b[0m\u001b[0;34m\u001b[0m\u001b[0m\n\u001b[0m\u001b[1;32m     13\u001b[0m     \u001b[0mdfPrevisao\u001b[0m \u001b[0;34m=\u001b[0m \u001b[0mpd\u001b[0m\u001b[0;34m.\u001b[0m\u001b[0mmerge\u001b[0m\u001b[0;34m(\u001b[0m\u001b[0mdfDados\u001b[0m\u001b[0;34m,\u001b[0m\u001b[0mdfEntradas\u001b[0m\u001b[0;34m,\u001b[0m \u001b[0mhow\u001b[0m\u001b[0;34m=\u001b[0m\u001b[0;34m'left'\u001b[0m\u001b[0;34m,\u001b[0m \u001b[0mleft_on\u001b[0m\u001b[0;34m=\u001b[0m\u001b[0;34m'ticker'\u001b[0m \u001b[0;34m,\u001b[0m  \u001b[0mright_on\u001b[0m\u001b[0;34m=\u001b[0m\u001b[0;34m'ticker'\u001b[0m\u001b[0;34m)\u001b[0m\u001b[0;34m\u001b[0m\u001b[0;34m\u001b[0m\u001b[0m\n\u001b[1;32m     14\u001b[0m     \u001b[0mjson\u001b[0m \u001b[0;34m=\u001b[0m \u001b[0mdfPrevisao\u001b[0m\u001b[0;34m.\u001b[0m\u001b[0mto_dict\u001b[0m\u001b[0;34m(\u001b[0m\u001b[0morient\u001b[0m\u001b[0;34m=\u001b[0m\u001b[0;34m'list'\u001b[0m\u001b[0;34m)\u001b[0m\u001b[0;34m\u001b[0m\u001b[0;34m\u001b[0m\u001b[0m\n",
      "\u001b[0;32m/tmp/ipykernel_812484/3044211080.py\u001b[0m in \u001b[0;36mincluiEntrada\u001b[0;34m(treino)\u001b[0m\n\u001b[1;32m      5\u001b[0m     \u001b[0mj\u001b[0m \u001b[0;34m=\u001b[0m \u001b[0mr\u001b[0m\u001b[0;34m.\u001b[0m\u001b[0mjson\u001b[0m\u001b[0;34m(\u001b[0m\u001b[0;34m)\u001b[0m\u001b[0;34m\u001b[0m\u001b[0;34m\u001b[0m\u001b[0m\n\u001b[1;32m      6\u001b[0m     \u001b[0mdfEntradas\u001b[0m \u001b[0;34m=\u001b[0m \u001b[0mpd\u001b[0m\u001b[0;34m.\u001b[0m\u001b[0mDataFrame\u001b[0m\u001b[0;34m.\u001b[0m\u001b[0mfrom_dict\u001b[0m\u001b[0;34m(\u001b[0m\u001b[0mj\u001b[0m\u001b[0;34m)\u001b[0m\u001b[0;34m\u001b[0m\u001b[0;34m\u001b[0m\u001b[0m\n\u001b[0;32m----> 7\u001b[0;31m     \u001b[0mprint\u001b[0m\u001b[0;34m(\u001b[0m\u001b[0mdfEntradas\u001b[0m\u001b[0;34m.\u001b[0m\u001b[0mhead\u001b[0m\u001b[0;34m(\u001b[0m\u001b[0;34m)\u001b[0m\u001b[0;34m)\u001b[0m\u001b[0;34m\u001b[0m\u001b[0;34m\u001b[0m\u001b[0m\n\u001b[0m\u001b[1;32m      8\u001b[0m     \u001b[0;32mreturn\u001b[0m \u001b[0mdfEntradas\u001b[0m\u001b[0;34m\u001b[0m\u001b[0;34m\u001b[0m\u001b[0m\n",
      "\u001b[0;32m/usr/local/lib/python3.8/dist-packages/pandas/core/frame.py\u001b[0m in \u001b[0;36m__repr__\u001b[0;34m(self)\u001b[0m\n\u001b[1;32m    993\u001b[0m         \u001b[0;32melse\u001b[0m\u001b[0;34m:\u001b[0m\u001b[0;34m\u001b[0m\u001b[0;34m\u001b[0m\u001b[0m\n\u001b[1;32m    994\u001b[0m             \u001b[0mwidth\u001b[0m \u001b[0;34m=\u001b[0m \u001b[0;32mNone\u001b[0m\u001b[0;34m\u001b[0m\u001b[0;34m\u001b[0m\u001b[0m\n\u001b[0;32m--> 995\u001b[0;31m         self.to_string(\n\u001b[0m\u001b[1;32m    996\u001b[0m             \u001b[0mbuf\u001b[0m\u001b[0;34m=\u001b[0m\u001b[0mbuf\u001b[0m\u001b[0;34m,\u001b[0m\u001b[0;34m\u001b[0m\u001b[0;34m\u001b[0m\u001b[0m\n\u001b[1;32m    997\u001b[0m             \u001b[0mmax_rows\u001b[0m\u001b[0;34m=\u001b[0m\u001b[0mmax_rows\u001b[0m\u001b[0;34m,\u001b[0m\u001b[0;34m\u001b[0m\u001b[0;34m\u001b[0m\u001b[0m\n",
      "\u001b[0;32m/usr/local/lib/python3.8/dist-packages/pandas/core/frame.py\u001b[0m in \u001b[0;36mto_string\u001b[0;34m(self, buf, columns, col_space, header, index, na_rep, formatters, float_format, sparsify, index_names, justify, max_rows, min_rows, max_cols, show_dimensions, decimal, line_width, max_colwidth, encoding)\u001b[0m\n\u001b[1;32m   1111\u001b[0m \u001b[0;34m\u001b[0m\u001b[0m\n\u001b[1;32m   1112\u001b[0m         \u001b[0;32mwith\u001b[0m \u001b[0moption_context\u001b[0m\u001b[0;34m(\u001b[0m\u001b[0;34m\"display.max_colwidth\"\u001b[0m\u001b[0;34m,\u001b[0m \u001b[0mmax_colwidth\u001b[0m\u001b[0;34m)\u001b[0m\u001b[0;34m:\u001b[0m\u001b[0;34m\u001b[0m\u001b[0;34m\u001b[0m\u001b[0m\n\u001b[0;32m-> 1113\u001b[0;31m             formatter = fmt.DataFrameFormatter(\n\u001b[0m\u001b[1;32m   1114\u001b[0m                 \u001b[0mself\u001b[0m\u001b[0;34m,\u001b[0m\u001b[0;34m\u001b[0m\u001b[0;34m\u001b[0m\u001b[0m\n\u001b[1;32m   1115\u001b[0m                 \u001b[0mcolumns\u001b[0m\u001b[0;34m=\u001b[0m\u001b[0mcolumns\u001b[0m\u001b[0;34m,\u001b[0m\u001b[0;34m\u001b[0m\u001b[0;34m\u001b[0m\u001b[0m\n",
      "\u001b[0;32m/usr/local/lib/python3.8/dist-packages/pandas/io/formats/format.py\u001b[0m in \u001b[0;36m__init__\u001b[0;34m(self, frame, columns, col_space, header, index, na_rep, formatters, justify, float_format, sparsify, index_names, max_rows, min_rows, max_cols, show_dimensions, decimal, bold_rows, escape)\u001b[0m\n\u001b[1;32m    487\u001b[0m     \u001b[0m__doc__\u001b[0m \u001b[0;34m+=\u001b[0m \u001b[0mcommon_docstring\u001b[0m \u001b[0;34m+\u001b[0m \u001b[0mreturn_docstring\u001b[0m\u001b[0;34m\u001b[0m\u001b[0;34m\u001b[0m\u001b[0m\n\u001b[1;32m    488\u001b[0m \u001b[0;34m\u001b[0m\u001b[0m\n\u001b[0;32m--> 489\u001b[0;31m     def __init__(\n\u001b[0m\u001b[1;32m    490\u001b[0m         \u001b[0mself\u001b[0m\u001b[0;34m,\u001b[0m\u001b[0;34m\u001b[0m\u001b[0;34m\u001b[0m\u001b[0m\n\u001b[1;32m    491\u001b[0m         \u001b[0mframe\u001b[0m\u001b[0;34m:\u001b[0m \u001b[0mDataFrame\u001b[0m\u001b[0;34m,\u001b[0m\u001b[0;34m\u001b[0m\u001b[0;34m\u001b[0m\u001b[0m\n",
      "\u001b[0;31mKeyboardInterrupt\u001b[0m: "
     ]
    }
   ],
   "source": [
    "dfRede.apply(trataRede, axis='columns')"
   ]
  },
  {
   "cell_type": "code",
   "execution_count": null,
   "id": "f3785eeb",
   "metadata": {},
   "outputs": [],
   "source": []
  }
 ],
 "metadata": {
  "kernelspec": {
   "display_name": "Python 3 (ipykernel)",
   "language": "python",
   "name": "python3"
  },
  "language_info": {
   "codemirror_mode": {
    "name": "ipython",
    "version": 3
   },
   "file_extension": ".py",
   "mimetype": "text/x-python",
   "name": "python",
   "nbconvert_exporter": "python",
   "pygments_lexer": "ipython3",
   "version": "3.8.10"
  }
 },
 "nbformat": 4,
 "nbformat_minor": 5
}
