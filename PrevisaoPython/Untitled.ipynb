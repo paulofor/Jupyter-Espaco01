{
 "cells": [
  {
   "cell_type": "markdown",
   "id": "1ae78861",
   "metadata": {},
   "source": [
    "# Programa que calcula previsão para o dia seguinte"
   ]
  },
  {
   "cell_type": "code",
   "execution_count": 1,
   "id": "60941e59",
   "metadata": {},
   "outputs": [
    {
     "name": "stdout",
     "output_type": "stream",
     "text": [
      "ola mundo\n"
     ]
    },
    {
     "name": "stderr",
     "output_type": "stream",
     "text": [
      "2022-11-08 23:56:18.771984: W tensorflow/stream_executor/platform/default/dso_loader.cc:64] Could not load dynamic library 'libcudart.so.11.0'; dlerror: libcudart.so.11.0: cannot open shared object file: No such file or directory\n",
      "2022-11-08 23:56:18.780218: I tensorflow/stream_executor/cuda/cudart_stub.cc:29] Ignore above cudart dlerror if you do not have a GPU set up on your machine.\n"
     ]
    },
    {
     "name": "stdout",
     "output_type": "stream",
     "text": [
      "2.7.0\n"
     ]
    }
   ],
   "source": [
    "print('ola mundo')\n",
    "import tensorflow as tf\n",
    "print(tf.__version__)"
   ]
  },
  {
   "cell_type": "code",
   "execution_count": 2,
   "id": "505801c4",
   "metadata": {},
   "outputs": [],
   "source": [
    "import requests\n",
    "import pandas as pd\n",
    "import numpy as np"
   ]
  },
  {
   "cell_type": "code",
   "execution_count": 3,
   "id": "2e85382e",
   "metadata": {},
   "outputs": [],
   "source": [
    "urlRedes = \"http://vps-40d69db1.vps.ovh.ca:23004/api/TreinoRedes/obtemListaParaPrevisao\"\n",
    "urlExemplos = \"http://vps-40d69db1.vps.ovh.ca:23004/api/ExemploTreinoAcaoEntradas/obtemProximoDia\"\n",
    "urlPrevisao = 'http://vps-40d69db1.vps.ovh.ca:23004/api/PrevisaoRedes/recebePrevisaoTreino'"
   ]
  },
  {
   "cell_type": "code",
   "execution_count": 4,
   "id": "ff8b7935",
   "metadata": {},
   "outputs": [],
   "source": [
    "def incluiEntrada(treino):\n",
    "    urlEntrada = \"http://vps-40d69db1.vps.ovh.ca:23004/api/CotacaoIntradayAcaoResultados/listaPrecoEntradaPrevisaoProximoB3?idRegra=\" + str(treino['regraProjecaoId']) + \"&idGrupo=\" + str(treino['grupoAcaoId'])\n",
    "    print(urlEntrada)\n",
    "    r = requests.get(urlEntrada)\n",
    "    j = r.json()\n",
    "    dfEntradas = pd.DataFrame.from_dict(j)\n",
    "    print(dfEntradas.head())\n",
    "    return dfEntradas"
   ]
  },
  {
   "cell_type": "code",
   "execution_count": 5,
   "id": "9a759cdb",
   "metadata": {},
   "outputs": [],
   "source": [
    "def trataRede(rede):\n",
    "    print('ID:' , rede['id'])\n",
    "    nome_arquivo = '/root/executa-rede/redes/treino_rede' + str(rede['id']) + '.h5'\n",
    "    print(nome_arquivo)\n",
    "    modelo = tf.keras.models.load_model(nome_arquivo)\n",
    "    modelo.summary()\n",
    "    result = modelo.predict(X)\n",
    "    dfDados['resultado'] = result\n",
    "    dfDados['treinoRedeId'] = str(rede['id'])\n",
    "    dfDados['tipoCompraVenda'] = rede['tipoCompraVenda']\n",
    "    dfEntradas = incluiEntrada(rede)\n",
    "    dfPrevisao = pd.merge(dfDados,dfEntradas, how='left', left_on='ticker' ,  right_on='ticker')\n",
    "    json = dfPrevisao.to_dict(orient='list')\n",
    "    response = requests.post(urlPrevisao, data=json)\n",
    "    print(response)"
   ]
  },
  {
   "cell_type": "code",
   "execution_count": 6,
   "id": "6233e1ef",
   "metadata": {},
   "outputs": [],
   "source": [
    "def trataLinhaX(linha):\n",
    "    return np.fromstring(linha['campoX'], dtype=float, sep=',')"
   ]
  },
  {
   "cell_type": "code",
   "execution_count": 7,
   "id": "2bfeebea",
   "metadata": {},
   "outputs": [
    {
     "name": "stdout",
     "output_type": "stream",
     "text": [
      "conexao redes\n",
      "   id  grupoAcaoId  periodoTreinoRedeId tipoExemploTreinoId  regraProjecaoId  \\\n",
      "0  32           12                    1                None               57   \n",
      "1  43           12                    1                None               68   \n",
      "2  54           12                    1                None               43   \n",
      "3  77           12                    1                None               66   \n",
      "4  79           12                    1                None               68   \n",
      "\n",
      "   redeNeuralId  ativoPrevisao  limiteParaEntrada  qtdeLucroTeste  \\\n",
      "0             2              1               0.47               9   \n",
      "1             2              1               0.23               8   \n",
      "2             1              1               0.30               8   \n",
      "3             1              1               0.26               9   \n",
      "4             1              1               0.23               9   \n",
      "\n",
      "   qtdePrejuizoTeste  ...                 dataTeste  ativoPrevisaoTeste  \\\n",
      "0                  1  ...  2022-09-07T17:39:42.000Z                   0   \n",
      "1                  2  ...  2022-09-12T06:37:23.000Z                   0   \n",
      "2                  3  ...  2022-09-03T04:58:18.000Z                   0   \n",
      "3                  0  ...  2022-09-08T01:22:28.000Z                   0   \n",
      "4                  3  ...  2022-09-12T07:23:29.000Z                   0   \n",
      "\n",
      "          dataPrevisaoTeste mediaValorTeste  desvioValorTeste qtdeTradeTeste  \\\n",
      "0  2022-09-15T16:31:24.000Z          0.2793            0.0647             10   \n",
      "1  2022-09-18T02:24:53.000Z          0.1085            0.0464             10   \n",
      "2  2022-09-17T10:27:02.000Z          0.1987            0.0378             11   \n",
      "3  2022-09-17T18:30:22.000Z          0.1252            0.0502              9   \n",
      "4  2022-09-18T02:33:53.000Z          0.0841            0.0450             12   \n",
      "\n",
      "   pontuacaoExecucao qtdeLucroExecucao  qtdePrejuizoExecucao  tipoCompraVenda  \n",
      "0                 44                 6                     2                C  \n",
      "1                -26                 0                     2                C  \n",
      "2                 27                 6                     3                V  \n",
      "3                -21                 1                     2                C  \n",
      "4                  8                 2                     2                C  \n",
      "\n",
      "[5 rows x 25 columns]\n"
     ]
    }
   ],
   "source": [
    "print('conexao redes')\n",
    "r = requests.get(urlRedes)\n",
    "j = r.json()\n",
    "dfRede = pd.DataFrame.from_dict(j)\n",
    "print(dfRede.head())"
   ]
  },
  {
   "cell_type": "code",
   "execution_count": 8,
   "id": "4aa0a603",
   "metadata": {},
   "outputs": [
    {
     "name": "stdout",
     "output_type": "stream",
     "text": [
      "conexao exemplos\n",
      "http://vps-40d69db1.vps.ovh.ca:23004/api/ExemploTreinoAcaoEntradas/obtemProximoDia\n"
     ]
    },
    {
     "ename": "TypeError",
     "evalue": "'tuple' object is not callable",
     "output_type": "error",
     "traceback": [
      "\u001b[0;31m---------------------------------------------------------------------------\u001b[0m",
      "\u001b[0;31mTypeError\u001b[0m                                 Traceback (most recent call last)",
      "\u001b[0;32m/tmp/ipykernel_6246/2756327952.py\u001b[0m in \u001b[0;36m<module>\u001b[0;34m\u001b[0m\n\u001b[1;32m      4\u001b[0m \u001b[0mj\u001b[0m \u001b[0;34m=\u001b[0m \u001b[0mr\u001b[0m\u001b[0;34m.\u001b[0m\u001b[0mjson\u001b[0m\u001b[0;34m(\u001b[0m\u001b[0;34m)\u001b[0m\u001b[0;34m\u001b[0m\u001b[0;34m\u001b[0m\u001b[0m\n\u001b[1;32m      5\u001b[0m \u001b[0mdfDados\u001b[0m \u001b[0;34m=\u001b[0m \u001b[0mpd\u001b[0m\u001b[0;34m.\u001b[0m\u001b[0mDataFrame\u001b[0m\u001b[0;34m.\u001b[0m\u001b[0mfrom_dict\u001b[0m\u001b[0;34m(\u001b[0m\u001b[0mj\u001b[0m\u001b[0;34m)\u001b[0m\u001b[0;34m\u001b[0m\u001b[0;34m\u001b[0m\u001b[0m\n\u001b[0;32m----> 6\u001b[0;31m \u001b[0mprint\u001b[0m\u001b[0;34m(\u001b[0m\u001b[0mdfDados\u001b[0m\u001b[0;34m.\u001b[0m\u001b[0mshape\u001b[0m\u001b[0;34m(\u001b[0m\u001b[0;34m)\u001b[0m\u001b[0;34m)\u001b[0m\u001b[0;34m\u001b[0m\u001b[0;34m\u001b[0m\u001b[0m\n\u001b[0m",
      "\u001b[0;31mTypeError\u001b[0m: 'tuple' object is not callable"
     ]
    }
   ],
   "source": [
    "print('conexao exemplos')\n",
    "print(urlExemplos)\n",
    "r = requests.get(urlExemplos)\n",
    "j = r.json()\n",
    "dfDados = pd.DataFrame.from_dict(j)\n",
    "print(dfDados.shape())"
   ]
  },
  {
   "cell_type": "code",
   "execution_count": null,
   "id": "d76306b6",
   "metadata": {},
   "outputs": [],
   "source": [
    "dfTratadoX = dfDados.apply(trataLinhaX, axis='columns')\n",
    "X = np.stack(dfTratadoX.values)\n",
    "X.shape"
   ]
  },
  {
   "cell_type": "code",
   "execution_count": null,
   "id": "b0f9e871",
   "metadata": {},
   "outputs": [],
   "source": [
    "dfDados.drop('campoX', inplace=True, axis=1)\n",
    "\n",
    "dfRede.apply(trataRede, axis='columns')"
   ]
  }
 ],
 "metadata": {
  "kernelspec": {
   "display_name": "Python 3 (ipykernel)",
   "language": "python",
   "name": "python3"
  },
  "language_info": {
   "codemirror_mode": {
    "name": "ipython",
    "version": 3
   },
   "file_extension": ".py",
   "mimetype": "text/x-python",
   "name": "python",
   "nbconvert_exporter": "python",
   "pygments_lexer": "ipython3",
   "version": "3.8.10"
  }
 },
 "nbformat": 4,
 "nbformat_minor": 5
}
