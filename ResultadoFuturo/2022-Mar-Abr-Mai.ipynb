{
 "cells": [
  {
   "cell_type": "markdown",
   "id": "bf850aae",
   "metadata": {},
   "source": [
    "# Mar/Abr/Mai - 2022"
   ]
  },
  {
   "cell_type": "code",
   "execution_count": 1,
   "id": "fdbea8b4",
   "metadata": {},
   "outputs": [],
   "source": [
    "url = \"http://vps-40d69db1.vps.ovh.ca:23002/api/CotacaoIntradayAcaoResultadoValors/obtemDatasPorDataGrupoLimite?diaInicioNum=20220301&diaFinalNum=20220531&grupoAcaoId=12&limiteDiaRegra=260\""
   ]
  },
  {
   "cell_type": "code",
   "execution_count": 16,
   "id": "226b9499",
   "metadata": {},
   "outputs": [],
   "source": [
    "import requests\n",
    "import pandas as pd\n",
    "import matplotlib.pyplot as plt\n",
    "import numpy as np\n",
    "from datetime import datetime"
   ]
  },
  {
   "cell_type": "code",
   "execution_count": 17,
   "id": "5672526d",
   "metadata": {},
   "outputs": [],
   "source": [
    "r = requests.get(url)\n",
    "j = r.json()\n",
    "df = pd.DataFrame.from_dict(j)"
   ]
  },
  {
   "cell_type": "code",
   "execution_count": 4,
   "id": "93780ea1",
   "metadata": {},
   "outputs": [
    {
     "data": {
      "text/html": [
       "<div>\n",
       "<style scoped>\n",
       "    .dataframe tbody tr th:only-of-type {\n",
       "        vertical-align: middle;\n",
       "    }\n",
       "\n",
       "    .dataframe tbody tr th {\n",
       "        vertical-align: top;\n",
       "    }\n",
       "\n",
       "    .dataframe thead th {\n",
       "        text-align: right;\n",
       "    }\n",
       "</style>\n",
       "<table border=\"1\" class=\"dataframe\">\n",
       "  <thead>\n",
       "    <tr style=\"text-align: right;\">\n",
       "      <th></th>\n",
       "      <th>anoMesNum</th>\n",
       "      <th>ticker</th>\n",
       "      <th>codigoRegraProjecao</th>\n",
       "      <th>target</th>\n",
       "      <th>stop</th>\n",
       "      <th>totalLucro</th>\n",
       "      <th>totalPrejuizo</th>\n",
       "      <th>mediaDias</th>\n",
       "    </tr>\n",
       "  </thead>\n",
       "  <tbody>\n",
       "    <tr>\n",
       "      <th>0</th>\n",
       "      <td>202203</td>\n",
       "      <td>ABEV3</td>\n",
       "      <td>t09s15vy</td>\n",
       "      <td>0.09</td>\n",
       "      <td>0.15</td>\n",
       "      <td>15</td>\n",
       "      <td>85</td>\n",
       "      <td>13.3400</td>\n",
       "    </tr>\n",
       "    <tr>\n",
       "      <th>1</th>\n",
       "      <td>202203</td>\n",
       "      <td>ABEV3</td>\n",
       "      <td>t10s15vy</td>\n",
       "      <td>0.10</td>\n",
       "      <td>0.15</td>\n",
       "      <td>14</td>\n",
       "      <td>85</td>\n",
       "      <td>13.5455</td>\n",
       "    </tr>\n",
       "    <tr>\n",
       "      <th>2</th>\n",
       "      <td>202203</td>\n",
       "      <td>ABEV3</td>\n",
       "      <td>t10s17vy</td>\n",
       "      <td>0.10</td>\n",
       "      <td>0.17</td>\n",
       "      <td>14</td>\n",
       "      <td>35</td>\n",
       "      <td>12.5714</td>\n",
       "    </tr>\n",
       "    <tr>\n",
       "      <th>3</th>\n",
       "      <td>202203</td>\n",
       "      <td>ABEV3</td>\n",
       "      <td>t12s17vy</td>\n",
       "      <td>0.12</td>\n",
       "      <td>0.17</td>\n",
       "      <td>7</td>\n",
       "      <td>35</td>\n",
       "      <td>13.7143</td>\n",
       "    </tr>\n",
       "    <tr>\n",
       "      <th>4</th>\n",
       "      <td>202203</td>\n",
       "      <td>ABEV3</td>\n",
       "      <td>t15s12vy</td>\n",
       "      <td>0.15</td>\n",
       "      <td>0.12</td>\n",
       "      <td>0</td>\n",
       "      <td>147</td>\n",
       "      <td>13.9660</td>\n",
       "    </tr>\n",
       "  </tbody>\n",
       "</table>\n",
       "</div>"
      ],
      "text/plain": [
       "   anoMesNum ticker codigoRegraProjecao  target  stop  totalLucro  \\\n",
       "0     202203  ABEV3            t09s15vy    0.09  0.15          15   \n",
       "1     202203  ABEV3            t10s15vy    0.10  0.15          14   \n",
       "2     202203  ABEV3            t10s17vy    0.10  0.17          14   \n",
       "3     202203  ABEV3            t12s17vy    0.12  0.17           7   \n",
       "4     202203  ABEV3            t15s12vy    0.15  0.12           0   \n",
       "\n",
       "   totalPrejuizo  mediaDias  \n",
       "0             85    13.3400  \n",
       "1             85    13.5455  \n",
       "2             35    12.5714  \n",
       "3             35    13.7143  \n",
       "4            147    13.9660  "
      ]
     },
     "execution_count": 4,
     "metadata": {},
     "output_type": "execute_result"
    }
   ],
   "source": [
    "df.head()"
   ]
  },
  {
   "cell_type": "code",
   "execution_count": 19,
   "id": "b9778e84",
   "metadata": {},
   "outputs": [],
   "source": [
    "def soma(linha):\n",
    "    linha['total'] = linha['totalLucro'] + linha['totalPrejuizo']\n",
    "    return linha"
   ]
  },
  {
   "cell_type": "code",
   "execution_count": 20,
   "id": "8391f2fe",
   "metadata": {},
   "outputs": [],
   "source": [
    "df = df.apply(soma, axis='columns')"
   ]
  },
  {
   "cell_type": "code",
   "execution_count": 14,
   "id": "db1b6e6a",
   "metadata": {},
   "outputs": [
    {
     "data": {
      "text/html": [
       "<div>\n",
       "<style scoped>\n",
       "    .dataframe tbody tr th:only-of-type {\n",
       "        vertical-align: middle;\n",
       "    }\n",
       "\n",
       "    .dataframe tbody tr th {\n",
       "        vertical-align: top;\n",
       "    }\n",
       "\n",
       "    .dataframe thead th {\n",
       "        text-align: right;\n",
       "    }\n",
       "</style>\n",
       "<table border=\"1\" class=\"dataframe\">\n",
       "  <thead>\n",
       "    <tr style=\"text-align: right;\">\n",
       "      <th></th>\n",
       "      <th>anoMesNum</th>\n",
       "      <th>ticker</th>\n",
       "      <th>codigoRegraProjecao</th>\n",
       "      <th>target</th>\n",
       "      <th>stop</th>\n",
       "      <th>totalLucro</th>\n",
       "      <th>totalPrejuizo</th>\n",
       "      <th>mediaDias</th>\n",
       "      <th>total</th>\n",
       "    </tr>\n",
       "  </thead>\n",
       "  <tbody>\n",
       "    <tr>\n",
       "      <th>0</th>\n",
       "      <td>202203</td>\n",
       "      <td>ABEV3</td>\n",
       "      <td>t09s15vy</td>\n",
       "      <td>0.09</td>\n",
       "      <td>0.15</td>\n",
       "      <td>15</td>\n",
       "      <td>85</td>\n",
       "      <td>13.3400</td>\n",
       "      <td>100</td>\n",
       "    </tr>\n",
       "    <tr>\n",
       "      <th>1</th>\n",
       "      <td>202203</td>\n",
       "      <td>ABEV3</td>\n",
       "      <td>t10s15vy</td>\n",
       "      <td>0.10</td>\n",
       "      <td>0.15</td>\n",
       "      <td>14</td>\n",
       "      <td>85</td>\n",
       "      <td>13.5455</td>\n",
       "      <td>99</td>\n",
       "    </tr>\n",
       "    <tr>\n",
       "      <th>2</th>\n",
       "      <td>202203</td>\n",
       "      <td>ABEV3</td>\n",
       "      <td>t10s17vy</td>\n",
       "      <td>0.10</td>\n",
       "      <td>0.17</td>\n",
       "      <td>14</td>\n",
       "      <td>35</td>\n",
       "      <td>12.5714</td>\n",
       "      <td>49</td>\n",
       "    </tr>\n",
       "    <tr>\n",
       "      <th>3</th>\n",
       "      <td>202203</td>\n",
       "      <td>ABEV3</td>\n",
       "      <td>t12s17vy</td>\n",
       "      <td>0.12</td>\n",
       "      <td>0.17</td>\n",
       "      <td>7</td>\n",
       "      <td>35</td>\n",
       "      <td>13.7143</td>\n",
       "      <td>42</td>\n",
       "    </tr>\n",
       "    <tr>\n",
       "      <th>4</th>\n",
       "      <td>202203</td>\n",
       "      <td>ABEV3</td>\n",
       "      <td>t15s12vy</td>\n",
       "      <td>0.15</td>\n",
       "      <td>0.12</td>\n",
       "      <td>0</td>\n",
       "      <td>147</td>\n",
       "      <td>13.9660</td>\n",
       "      <td>147</td>\n",
       "    </tr>\n",
       "  </tbody>\n",
       "</table>\n",
       "</div>"
      ],
      "text/plain": [
       "   anoMesNum ticker codigoRegraProjecao  target  stop  totalLucro  \\\n",
       "0     202203  ABEV3            t09s15vy    0.09  0.15          15   \n",
       "1     202203  ABEV3            t10s15vy    0.10  0.15          14   \n",
       "2     202203  ABEV3            t10s17vy    0.10  0.17          14   \n",
       "3     202203  ABEV3            t12s17vy    0.12  0.17           7   \n",
       "4     202203  ABEV3            t15s12vy    0.15  0.12           0   \n",
       "\n",
       "   totalPrejuizo  mediaDias  total  \n",
       "0             85    13.3400    100  \n",
       "1             85    13.5455     99  \n",
       "2             35    12.5714     49  \n",
       "3             35    13.7143     42  \n",
       "4            147    13.9660    147  "
      ]
     },
     "execution_count": 14,
     "metadata": {},
     "output_type": "execute_result"
    }
   ],
   "source": [
    "df.head()"
   ]
  },
  {
   "cell_type": "code",
   "execution_count": 21,
   "id": "43df7649",
   "metadata": {},
   "outputs": [
    {
     "name": "stdout",
     "output_type": "stream",
     "text": [
      "[202203 202204]\n"
     ]
    }
   ],
   "source": [
    "print(df['anoMesNum'].unique())"
   ]
  },
  {
   "cell_type": "markdown",
   "id": "1b8f0967",
   "metadata": {},
   "source": [
    "# Maio "
   ]
  },
  {
   "cell_type": "markdown",
   "id": "2b9a0d97",
   "metadata": {},
   "source": [
    "### Ver se está atualizando"
   ]
  },
  {
   "cell_type": "code",
   "execution_count": 6,
   "id": "5f8adf5c",
   "metadata": {},
   "outputs": [
    {
     "data": {
      "text/html": [
       "<div>\n",
       "<style scoped>\n",
       "    .dataframe tbody tr th:only-of-type {\n",
       "        vertical-align: middle;\n",
       "    }\n",
       "\n",
       "    .dataframe tbody tr th {\n",
       "        vertical-align: top;\n",
       "    }\n",
       "\n",
       "    .dataframe thead th {\n",
       "        text-align: right;\n",
       "    }\n",
       "</style>\n",
       "<table border=\"1\" class=\"dataframe\">\n",
       "  <thead>\n",
       "    <tr style=\"text-align: right;\">\n",
       "      <th></th>\n",
       "      <th>anoMesNum</th>\n",
       "      <th>ticker</th>\n",
       "      <th>codigoRegraProjecao</th>\n",
       "      <th>target</th>\n",
       "      <th>stop</th>\n",
       "      <th>totalLucro</th>\n",
       "      <th>totalPrejuizo</th>\n",
       "      <th>mediaDias</th>\n",
       "    </tr>\n",
       "  </thead>\n",
       "  <tbody>\n",
       "  </tbody>\n",
       "</table>\n",
       "</div>"
      ],
      "text/plain": [
       "Empty DataFrame\n",
       "Columns: [anoMesNum, ticker, codigoRegraProjecao, target, stop, totalLucro, totalPrejuizo, mediaDias]\n",
       "Index: []"
      ]
     },
     "execution_count": 6,
     "metadata": {},
     "output_type": "execute_result"
    }
   ],
   "source": [
    "dfMaio = df[(df['anoMesNum'] == 202205)]\n",
    "dfMaio.head()"
   ]
  },
  {
   "cell_type": "markdown",
   "id": "57701be7",
   "metadata": {},
   "source": [
    "# Abril"
   ]
  },
  {
   "cell_type": "code",
   "execution_count": 22,
   "id": "521809eb",
   "metadata": {},
   "outputs": [
    {
     "data": {
      "text/html": [
       "<div>\n",
       "<style scoped>\n",
       "    .dataframe tbody tr th:only-of-type {\n",
       "        vertical-align: middle;\n",
       "    }\n",
       "\n",
       "    .dataframe tbody tr th {\n",
       "        vertical-align: top;\n",
       "    }\n",
       "\n",
       "    .dataframe thead th {\n",
       "        text-align: right;\n",
       "    }\n",
       "</style>\n",
       "<table border=\"1\" class=\"dataframe\">\n",
       "  <thead>\n",
       "    <tr style=\"text-align: right;\">\n",
       "      <th></th>\n",
       "      <th>anoMesNum</th>\n",
       "      <th>ticker</th>\n",
       "      <th>codigoRegraProjecao</th>\n",
       "      <th>target</th>\n",
       "      <th>stop</th>\n",
       "      <th>totalLucro</th>\n",
       "      <th>totalPrejuizo</th>\n",
       "      <th>mediaDias</th>\n",
       "      <th>total</th>\n",
       "    </tr>\n",
       "  </thead>\n",
       "  <tbody>\n",
       "    <tr>\n",
       "      <th>414</th>\n",
       "      <td>202204</td>\n",
       "      <td>AERI3</td>\n",
       "      <td>t09s15vy</td>\n",
       "      <td>0.09</td>\n",
       "      <td>0.15</td>\n",
       "      <td>114</td>\n",
       "      <td>0</td>\n",
       "      <td>4.9825</td>\n",
       "      <td>114</td>\n",
       "    </tr>\n",
       "    <tr>\n",
       "      <th>415</th>\n",
       "      <td>202204</td>\n",
       "      <td>AERI3</td>\n",
       "      <td>t10s15vy</td>\n",
       "      <td>0.10</td>\n",
       "      <td>0.15</td>\n",
       "      <td>110</td>\n",
       "      <td>0</td>\n",
       "      <td>5.2818</td>\n",
       "      <td>110</td>\n",
       "    </tr>\n",
       "    <tr>\n",
       "      <th>416</th>\n",
       "      <td>202204</td>\n",
       "      <td>AERI3</td>\n",
       "      <td>t10s17vy</td>\n",
       "      <td>0.10</td>\n",
       "      <td>0.17</td>\n",
       "      <td>102</td>\n",
       "      <td>0</td>\n",
       "      <td>5.3431</td>\n",
       "      <td>102</td>\n",
       "    </tr>\n",
       "    <tr>\n",
       "      <th>417</th>\n",
       "      <td>202204</td>\n",
       "      <td>AERI3</td>\n",
       "      <td>t12s17vy</td>\n",
       "      <td>0.12</td>\n",
       "      <td>0.17</td>\n",
       "      <td>104</td>\n",
       "      <td>0</td>\n",
       "      <td>6.0288</td>\n",
       "      <td>104</td>\n",
       "    </tr>\n",
       "    <tr>\n",
       "      <th>418</th>\n",
       "      <td>202204</td>\n",
       "      <td>AERI3</td>\n",
       "      <td>t15s12vy</td>\n",
       "      <td>0.15</td>\n",
       "      <td>0.12</td>\n",
       "      <td>90</td>\n",
       "      <td>0</td>\n",
       "      <td>7.3778</td>\n",
       "      <td>90</td>\n",
       "    </tr>\n",
       "  </tbody>\n",
       "</table>\n",
       "</div>"
      ],
      "text/plain": [
       "     anoMesNum ticker codigoRegraProjecao  target  stop  totalLucro  \\\n",
       "414     202204  AERI3            t09s15vy    0.09  0.15         114   \n",
       "415     202204  AERI3            t10s15vy    0.10  0.15         110   \n",
       "416     202204  AERI3            t10s17vy    0.10  0.17         102   \n",
       "417     202204  AERI3            t12s17vy    0.12  0.17         104   \n",
       "418     202204  AERI3            t15s12vy    0.15  0.12          90   \n",
       "\n",
       "     totalPrejuizo  mediaDias  total  \n",
       "414              0     4.9825    114  \n",
       "415              0     5.2818    110  \n",
       "416              0     5.3431    102  \n",
       "417              0     6.0288    104  \n",
       "418              0     7.3778     90  "
      ]
     },
     "execution_count": 22,
     "metadata": {},
     "output_type": "execute_result"
    }
   ],
   "source": [
    "dfAbril = df[(df['anoMesNum'] == 202204)]\n",
    "dfAbril.head()"
   ]
  },
  {
   "cell_type": "code",
   "execution_count": null,
   "id": "fbb3dd90",
   "metadata": {},
   "outputs": [],
   "source": []
  }
 ],
 "metadata": {
  "kernelspec": {
   "display_name": "Python 3 (ipykernel)",
   "language": "python",
   "name": "python3"
  },
  "language_info": {
   "codemirror_mode": {
    "name": "ipython",
    "version": 3
   },
   "file_extension": ".py",
   "mimetype": "text/x-python",
   "name": "python",
   "nbconvert_exporter": "python",
   "pygments_lexer": "ipython3",
   "version": "3.8.10"
  }
 },
 "nbformat": 4,
 "nbformat_minor": 5
}
