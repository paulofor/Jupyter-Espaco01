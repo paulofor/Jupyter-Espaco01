{
 "cells": [
  {
   "cell_type": "markdown",
   "id": "bf850aae",
   "metadata": {},
   "source": [
    "# Mar/Abr/Mai - 2022"
   ]
  },
  {
   "cell_type": "code",
   "execution_count": 1,
   "id": "fdbea8b4",
   "metadata": {},
   "outputs": [],
   "source": [
    "url = \"http://vps-40d69db1.vps.ovh.ca:23002/api/CotacaoIntradayAcaoResultadoValors/obtemDatasPorDataGrupoLimite?diaInicioNum=20220301&diaFinalNum=20220531&grupoAcaoId=12&limiteDiaRegra=260\""
   ]
  },
  {
   "cell_type": "code",
   "execution_count": 2,
   "id": "13bf98f5",
   "metadata": {},
   "outputs": [
    {
     "name": "stdout",
     "output_type": "stream",
     "text": [
      "http://vps-40d69db1.vps.ovh.ca:23002/api/CotacaoIntradayAcaoResultadoValors/obtemDatasPorDataGrupoLimite?diaInicioNum=20220301&diaFinalNum=20220531&grupoAcaoId=12&limiteDiaRegra=260\n"
     ]
    }
   ],
   "source": [
    "print(url)"
   ]
  },
  {
   "cell_type": "code",
   "execution_count": null,
   "id": "226b9499",
   "metadata": {},
   "outputs": [],
   "source": [
    "import requests\n",
    "import pandas as pd\n",
    "import matplotlib.pyplot as plt\n",
    "import numpy as np\n",
    "from datetime import datetime"
   ]
  },
  {
   "cell_type": "code",
   "execution_count": null,
   "id": "5672526d",
   "metadata": {},
   "outputs": [],
   "source": [
    "r = requests.get(url)\n",
    "j = r.json()\n",
    "df = pd.DataFrame.from_dict(j)"
   ]
  },
  {
   "cell_type": "code",
   "execution_count": null,
   "id": "93780ea1",
   "metadata": {},
   "outputs": [],
   "source": [
    "df.head()"
   ]
  },
  {
   "cell_type": "code",
   "execution_count": null,
   "id": "b9778e84",
   "metadata": {},
   "outputs": [],
   "source": [
    "def soma(linha):\n",
    "    linha['total'] = linha['totalLucro'] + linha['totalPrejuizo']\n",
    "    return linha"
   ]
  },
  {
   "cell_type": "code",
   "execution_count": null,
   "id": "8391f2fe",
   "metadata": {},
   "outputs": [],
   "source": [
    "df = df.apply(soma, axis='columns')"
   ]
  },
  {
   "cell_type": "code",
   "execution_count": null,
   "id": "db1b6e6a",
   "metadata": {},
   "outputs": [],
   "source": [
    "df.head()"
   ]
  },
  {
   "cell_type": "code",
   "execution_count": null,
   "id": "43df7649",
   "metadata": {},
   "outputs": [],
   "source": [
    "print(df['anoMesNum'].unique())"
   ]
  },
  {
   "cell_type": "markdown",
   "id": "1b8f0967",
   "metadata": {},
   "source": [
    "# Maio "
   ]
  },
  {
   "cell_type": "markdown",
   "id": "2b9a0d97",
   "metadata": {},
   "source": [
    "### Ver se está atualizando"
   ]
  },
  {
   "cell_type": "code",
   "execution_count": null,
   "id": "5f8adf5c",
   "metadata": {},
   "outputs": [],
   "source": [
    "dfMaio = df[(df['anoMesNum'] == 202205)]\n",
    "df1 = dfMaio[(df['codigoRegraProjecao'] == 't10s15vy')]\n",
    "df1.head()"
   ]
  },
  {
   "cell_type": "code",
   "execution_count": null,
   "id": "e4663ed2",
   "metadata": {},
   "outputs": [],
   "source": [
    "dfMaio.groupby('codigoRegraProjecao').count()"
   ]
  },
  {
   "cell_type": "code",
   "execution_count": null,
   "id": "e3d9634d",
   "metadata": {},
   "outputs": [],
   "source": [
    "df1 = dfMaio[(df['codigoRegraProjecao'] == 't10s15vy')]"
   ]
  },
  {
   "cell_type": "code",
   "execution_count": null,
   "id": "ededc1ec",
   "metadata": {},
   "outputs": [],
   "source": [
    "print(len(df1))"
   ]
  },
  {
   "cell_type": "code",
   "execution_count": null,
   "id": "6842f2dd",
   "metadata": {},
   "outputs": [],
   "source": [
    "dfSimplesMaio = dfMaio.groupby('ticker').sum(['totalLucro', 'totalPrejuizo'])"
   ]
  },
  {
   "cell_type": "markdown",
   "id": "2572ba5f",
   "metadata": {},
   "source": [
    "## Melhores para Venda - Por Prejuizo"
   ]
  },
  {
   "cell_type": "code",
   "execution_count": null,
   "id": "a6c15264",
   "metadata": {},
   "outputs": [],
   "source": [
    "dfRank1 = dfSimplesMaio.sort_values(by='totalPrejuizo', ascending=True)\n",
    "dfRank1.head(15)"
   ]
  },
  {
   "cell_type": "markdown",
   "id": "13292a36",
   "metadata": {},
   "source": [
    "## Melhores para Venda - Por Lucro"
   ]
  },
  {
   "cell_type": "code",
   "execution_count": null,
   "id": "4e0a0d49",
   "metadata": {},
   "outputs": [],
   "source": [
    "dfRank2 = dfSimplesMaio.sort_values(by='totalLucro', ascending=False)\n",
    "dfRank2.head(15)"
   ]
  },
  {
   "cell_type": "markdown",
   "id": "57701be7",
   "metadata": {},
   "source": [
    "# Abril"
   ]
  },
  {
   "cell_type": "code",
   "execution_count": null,
   "id": "521809eb",
   "metadata": {},
   "outputs": [],
   "source": [
    "dfAbril = df[(df['anoMesNum'] == 202204)]\n",
    "dfAbril.head()"
   ]
  },
  {
   "cell_type": "code",
   "execution_count": null,
   "id": "fbb3dd90",
   "metadata": {},
   "outputs": [],
   "source": []
  }
 ],
 "metadata": {
  "kernelspec": {
   "display_name": "Python 3 (ipykernel)",
   "language": "python",
   "name": "python3"
  },
  "language_info": {
   "codemirror_mode": {
    "name": "ipython",
    "version": 3
   },
   "file_extension": ".py",
   "mimetype": "text/x-python",
   "name": "python",
   "nbconvert_exporter": "python",
   "pygments_lexer": "ipython3",
   "version": "3.8.10"
  }
 },
 "nbformat": 4,
 "nbformat_minor": 5
}
