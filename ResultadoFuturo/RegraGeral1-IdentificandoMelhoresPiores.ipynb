{
 "cells": [
  {
   "cell_type": "markdown",
   "id": "2bc54d00",
   "metadata": {},
   "source": [
    "# Inicializações"
   ]
  },
  {
   "cell_type": "code",
   "execution_count": 1,
   "id": "55894a83",
   "metadata": {},
   "outputs": [],
   "source": [
    "url = \"http://vps-40d69db1.vps.ovh.ca:21546/api/CotacaoIntradayAcaoResultadoValors/obtemPorRegraData?idRegra=1&diaNum=20210101\""
   ]
  },
  {
   "cell_type": "code",
   "execution_count": 2,
   "id": "3a56cf72",
   "metadata": {},
   "outputs": [],
   "source": [
    "import requests\n",
    "import pandas as pd\n",
    "import matplotlib.pyplot as plt\n",
    "import numpy as np\n",
    "from datetime import datetime"
   ]
  },
  {
   "cell_type": "markdown",
   "id": "29ed1eff",
   "metadata": {},
   "source": [
    "# Execuções"
   ]
  },
  {
   "cell_type": "code",
   "execution_count": 3,
   "id": "24173b17",
   "metadata": {},
   "outputs": [],
   "source": [
    "r = requests.get(url)\n",
    "j = r.json()\n",
    "df = pd.DataFrame.from_dict(j)"
   ]
  },
  {
   "cell_type": "code",
   "execution_count": 4,
   "id": "07c74875",
   "metadata": {},
   "outputs": [
    {
     "name": "stdout",
     "output_type": "stream",
     "text": [
      "    ticker  resultado  qtde\n",
      "0    ABEV3         -1   304\n",
      "1    ABEV3          0  1566\n",
      "2    ABEV3          1   937\n",
      "3    B3SA3         -1  1836\n",
      "4    B3SA3          0   944\n",
      "5    BBAS3         -1   535\n",
      "6    BBAS3          0  1758\n",
      "7    BBAS3          1   570\n",
      "8    BBDC4         -1  1019\n",
      "9    BBDC4          0  1288\n",
      "10   BBDC4          1   393\n",
      "11  BPAC11         -1  1636\n",
      "12  BPAC11          0   210\n",
      "13  BPAC11          1   958\n",
      "14   BRDT3         -1   965\n",
      "15   BRDT3          0   556\n",
      "16   BRDT3          1   739\n",
      "17   BRML3         -1  1548\n",
      "18   BRML3          0   464\n",
      "19   BRML3          1   753\n",
      "20   CSAN3         -1  1140\n",
      "21   CSAN3          0  1055\n",
      "22   CSAN3          1   618\n",
      "23   CSNA3         -1  1484\n",
      "24   CSNA3          0   158\n",
      "25   CSNA3          1  1135\n",
      "26   GGBR4         -1   859\n",
      "27   GGBR4          0   734\n",
      "28   GGBR4          1  1286\n",
      "29   ITUB4         -1   950\n",
      "30   ITUB4          0  1373\n",
      "31   ITUB4          1   577\n",
      "32   JBSS3         -1   113\n",
      "33   JBSS3          0   633\n",
      "34   JBSS3          1  1775\n",
      "35   LREN3         -1  1693\n",
      "36   LREN3          0   747\n",
      "37   LREN3          1   533\n",
      "38   PETR3         -1   594\n",
      "39   PETR3          0  1520\n",
      "40   PETR3          1   916\n",
      "41   VVAR3         -1  1006\n",
      "42   VVAR3          0   355\n",
      "43   VVAR3          1   629\n",
      "44   WEGE3         -1  1504\n",
      "45   WEGE3          0   759\n",
      "46   WEGE3          1   412\n"
     ]
    }
   ],
   "source": [
    "print(df)"
   ]
  },
  {
   "cell_type": "code",
   "execution_count": null,
   "id": "efefb439",
   "metadata": {},
   "outputs": [],
   "source": []
  }
 ],
 "metadata": {
  "kernelspec": {
   "display_name": "Python 3 (ipykernel)",
   "language": "python",
   "name": "python3"
  },
  "language_info": {
   "codemirror_mode": {
    "name": "ipython",
    "version": 3
   },
   "file_extension": ".py",
   "mimetype": "text/x-python",
   "name": "python",
   "nbconvert_exporter": "python",
   "pygments_lexer": "ipython3",
   "version": "3.8.10"
  }
 },
 "nbformat": 4,
 "nbformat_minor": 5
}
