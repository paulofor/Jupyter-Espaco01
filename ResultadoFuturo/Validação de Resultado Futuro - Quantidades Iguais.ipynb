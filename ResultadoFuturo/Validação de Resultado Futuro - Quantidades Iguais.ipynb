{
 "cells": [
  {
   "cell_type": "markdown",
   "id": "58afe8d5",
   "metadata": {},
   "source": [
    "# Jan, Fev, Mar 2021"
   ]
  },
  {
   "cell_type": "code",
   "execution_count": 1,
   "id": "8aa50445",
   "metadata": {},
   "outputs": [],
   "source": [
    "url = \"http://vps-40d69db1.vps.ovh.ca:23002/api/CotacaoIntradayAcaoResultadoValors/obtemDatasPorDataGrupoLimite?diaInicioNum=20210101&diaFinalNum=20210331&grupoAcaoId=12&limiteDiaRegra=260\""
   ]
  },
  {
   "cell_type": "code",
   "execution_count": 2,
   "id": "60ee7a0d",
   "metadata": {},
   "outputs": [],
   "source": [
    "import requests\n",
    "import pandas as pd\n",
    "import matplotlib.pyplot as plt\n",
    "import numpy as np\n",
    "from datetime import datetime\n"
   ]
  },
  {
   "cell_type": "code",
   "execution_count": 3,
   "id": "e801c682",
   "metadata": {},
   "outputs": [],
   "source": [
    "r = requests.get(url)\n",
    "j = r.json()\n",
    "df = pd.DataFrame.from_dict(j)"
   ]
  },
  {
   "cell_type": "code",
   "execution_count": 4,
   "id": "e73a230f",
   "metadata": {},
   "outputs": [
    {
     "data": {
      "text/html": [
       "<div>\n",
       "<style scoped>\n",
       "    .dataframe tbody tr th:only-of-type {\n",
       "        vertical-align: middle;\n",
       "    }\n",
       "\n",
       "    .dataframe tbody tr th {\n",
       "        vertical-align: top;\n",
       "    }\n",
       "\n",
       "    .dataframe thead th {\n",
       "        text-align: right;\n",
       "    }\n",
       "</style>\n",
       "<table border=\"1\" class=\"dataframe\">\n",
       "  <thead>\n",
       "    <tr style=\"text-align: right;\">\n",
       "      <th></th>\n",
       "      <th>anoMesNum</th>\n",
       "      <th>ticker</th>\n",
       "      <th>codigoRegraProjecao</th>\n",
       "      <th>target</th>\n",
       "      <th>stop</th>\n",
       "      <th>totalLucro</th>\n",
       "      <th>totalPrejuizo</th>\n",
       "      <th>mediaDias</th>\n",
       "    </tr>\n",
       "  </thead>\n",
       "  <tbody>\n",
       "    <tr>\n",
       "      <th>0</th>\n",
       "      <td>202101</td>\n",
       "      <td>ABEV3</td>\n",
       "      <td>t09s15vy</td>\n",
       "      <td>0.09</td>\n",
       "      <td>0.15</td>\n",
       "      <td>285</td>\n",
       "      <td>0</td>\n",
       "      <td>22.4561</td>\n",
       "    </tr>\n",
       "    <tr>\n",
       "      <th>1</th>\n",
       "      <td>202101</td>\n",
       "      <td>ABEV3</td>\n",
       "      <td>t10s15vy</td>\n",
       "      <td>0.10</td>\n",
       "      <td>0.15</td>\n",
       "      <td>285</td>\n",
       "      <td>0</td>\n",
       "      <td>24.2035</td>\n",
       "    </tr>\n",
       "    <tr>\n",
       "      <th>2</th>\n",
       "      <td>202101</td>\n",
       "      <td>ABEV3</td>\n",
       "      <td>t10s17vy</td>\n",
       "      <td>0.10</td>\n",
       "      <td>0.17</td>\n",
       "      <td>285</td>\n",
       "      <td>0</td>\n",
       "      <td>24.2035</td>\n",
       "    </tr>\n",
       "    <tr>\n",
       "      <th>3</th>\n",
       "      <td>202101</td>\n",
       "      <td>ABEV3</td>\n",
       "      <td>t12s17vy</td>\n",
       "      <td>0.12</td>\n",
       "      <td>0.17</td>\n",
       "      <td>276</td>\n",
       "      <td>9</td>\n",
       "      <td>28.7193</td>\n",
       "    </tr>\n",
       "    <tr>\n",
       "      <th>4</th>\n",
       "      <td>202101</td>\n",
       "      <td>ABEV3</td>\n",
       "      <td>t15s12vy</td>\n",
       "      <td>0.15</td>\n",
       "      <td>0.12</td>\n",
       "      <td>180</td>\n",
       "      <td>105</td>\n",
       "      <td>47.4702</td>\n",
       "    </tr>\n",
       "  </tbody>\n",
       "</table>\n",
       "</div>"
      ],
      "text/plain": [
       "   anoMesNum ticker codigoRegraProjecao  target  stop  totalLucro  \\\n",
       "0     202101  ABEV3            t09s15vy    0.09  0.15         285   \n",
       "1     202101  ABEV3            t10s15vy    0.10  0.15         285   \n",
       "2     202101  ABEV3            t10s17vy    0.10  0.17         285   \n",
       "3     202101  ABEV3            t12s17vy    0.12  0.17         276   \n",
       "4     202101  ABEV3            t15s12vy    0.15  0.12         180   \n",
       "\n",
       "   totalPrejuizo  mediaDias  \n",
       "0              0    22.4561  \n",
       "1              0    24.2035  \n",
       "2              0    24.2035  \n",
       "3              9    28.7193  \n",
       "4            105    47.4702  "
      ]
     },
     "execution_count": 4,
     "metadata": {},
     "output_type": "execute_result"
    }
   ],
   "source": [
    "df.head()"
   ]
  },
  {
   "cell_type": "markdown",
   "id": "dccc888e",
   "metadata": {},
   "source": [
    "# Analisar somente um mês e uma RegraProjecao"
   ]
  },
  {
   "cell_type": "code",
   "execution_count": 7,
   "id": "b39a6112",
   "metadata": {},
   "outputs": [],
   "source": [
    "#dfJan = df[(df['anoMesNum'] == 202101) & (df['codigoRegraProjecao']=='t10s15vy') ]\n",
    "dfJan = df[(df['anoMesNum'] == 202101)]"
   ]
  },
  {
   "cell_type": "code",
   "execution_count": 8,
   "id": "908a6b64",
   "metadata": {},
   "outputs": [
    {
     "data": {
      "text/html": [
       "<div>\n",
       "<style scoped>\n",
       "    .dataframe tbody tr th:only-of-type {\n",
       "        vertical-align: middle;\n",
       "    }\n",
       "\n",
       "    .dataframe tbody tr th {\n",
       "        vertical-align: top;\n",
       "    }\n",
       "\n",
       "    .dataframe thead th {\n",
       "        text-align: right;\n",
       "    }\n",
       "</style>\n",
       "<table border=\"1\" class=\"dataframe\">\n",
       "  <thead>\n",
       "    <tr style=\"text-align: right;\">\n",
       "      <th></th>\n",
       "      <th>anoMesNum</th>\n",
       "      <th>ticker</th>\n",
       "      <th>codigoRegraProjecao</th>\n",
       "      <th>target</th>\n",
       "      <th>stop</th>\n",
       "      <th>totalLucro</th>\n",
       "      <th>totalPrejuizo</th>\n",
       "      <th>mediaDias</th>\n",
       "    </tr>\n",
       "  </thead>\n",
       "  <tbody>\n",
       "    <tr>\n",
       "      <th>1</th>\n",
       "      <td>202101</td>\n",
       "      <td>ABEV3</td>\n",
       "      <td>t10s15vy</td>\n",
       "      <td>0.1</td>\n",
       "      <td>0.15</td>\n",
       "      <td>285</td>\n",
       "      <td>0</td>\n",
       "      <td>24.2035</td>\n",
       "    </tr>\n",
       "    <tr>\n",
       "      <th>6</th>\n",
       "      <td>202101</td>\n",
       "      <td>AERI3</td>\n",
       "      <td>t10s15vy</td>\n",
       "      <td>0.1</td>\n",
       "      <td>0.15</td>\n",
       "      <td>175</td>\n",
       "      <td>110</td>\n",
       "      <td>6.3298</td>\n",
       "    </tr>\n",
       "    <tr>\n",
       "      <th>11</th>\n",
       "      <td>202101</td>\n",
       "      <td>ALPA4</td>\n",
       "      <td>t10s15vy</td>\n",
       "      <td>0.1</td>\n",
       "      <td>0.15</td>\n",
       "      <td>285</td>\n",
       "      <td>0</td>\n",
       "      <td>21.1930</td>\n",
       "    </tr>\n",
       "    <tr>\n",
       "      <th>16</th>\n",
       "      <td>202101</td>\n",
       "      <td>ALSO3</td>\n",
       "      <td>t10s15vy</td>\n",
       "      <td>0.1</td>\n",
       "      <td>0.15</td>\n",
       "      <td>280</td>\n",
       "      <td>5</td>\n",
       "      <td>25.4491</td>\n",
       "    </tr>\n",
       "    <tr>\n",
       "      <th>21</th>\n",
       "      <td>202101</td>\n",
       "      <td>AMAR3</td>\n",
       "      <td>t10s15vy</td>\n",
       "      <td>0.1</td>\n",
       "      <td>0.15</td>\n",
       "      <td>285</td>\n",
       "      <td>0</td>\n",
       "      <td>20.2316</td>\n",
       "    </tr>\n",
       "  </tbody>\n",
       "</table>\n",
       "</div>"
      ],
      "text/plain": [
       "    anoMesNum ticker codigoRegraProjecao  target  stop  totalLucro  \\\n",
       "1      202101  ABEV3            t10s15vy     0.1  0.15         285   \n",
       "6      202101  AERI3            t10s15vy     0.1  0.15         175   \n",
       "11     202101  ALPA4            t10s15vy     0.1  0.15         285   \n",
       "16     202101  ALSO3            t10s15vy     0.1  0.15         280   \n",
       "21     202101  AMAR3            t10s15vy     0.1  0.15         285   \n",
       "\n",
       "    totalPrejuizo  mediaDias  \n",
       "1               0    24.2035  \n",
       "6             110     6.3298  \n",
       "11              0    21.1930  \n",
       "16              5    25.4491  \n",
       "21              0    20.2316  "
      ]
     },
     "execution_count": 8,
     "metadata": {},
     "output_type": "execute_result"
    }
   ],
   "source": [
    "dfJan.head()"
   ]
  },
  {
   "cell_type": "code",
   "execution_count": 10,
   "id": "2c3fc344",
   "metadata": {},
   "outputs": [
    {
     "data": {
      "text/plain": [
       "88"
      ]
     },
     "execution_count": 10,
     "metadata": {},
     "output_type": "execute_result"
    }
   ],
   "source": [
    "len(dfJan)"
   ]
  },
  {
   "cell_type": "code",
   "execution_count": 15,
   "id": "d31816c2",
   "metadata": {},
   "outputs": [],
   "source": [
    "def soma(linha):\n",
    "    linha['total'] = linha['totalLucro'] + linha['totalPrejuizo']\n",
    "    return linha"
   ]
  },
  {
   "cell_type": "code",
   "execution_count": 16,
   "id": "3ef759cd",
   "metadata": {},
   "outputs": [
    {
     "data": {
      "text/html": [
       "<div>\n",
       "<style scoped>\n",
       "    .dataframe tbody tr th:only-of-type {\n",
       "        vertical-align: middle;\n",
       "    }\n",
       "\n",
       "    .dataframe tbody tr th {\n",
       "        vertical-align: top;\n",
       "    }\n",
       "\n",
       "    .dataframe thead th {\n",
       "        text-align: right;\n",
       "    }\n",
       "</style>\n",
       "<table border=\"1\" class=\"dataframe\">\n",
       "  <thead>\n",
       "    <tr style=\"text-align: right;\">\n",
       "      <th></th>\n",
       "      <th>anoMesNum</th>\n",
       "      <th>ticker</th>\n",
       "      <th>codigoRegraProjecao</th>\n",
       "      <th>target</th>\n",
       "      <th>stop</th>\n",
       "      <th>totalLucro</th>\n",
       "      <th>totalPrejuizo</th>\n",
       "      <th>mediaDias</th>\n",
       "      <th>total</th>\n",
       "    </tr>\n",
       "  </thead>\n",
       "  <tbody>\n",
       "    <tr>\n",
       "      <th>1</th>\n",
       "      <td>202101.0</td>\n",
       "      <td>ABEV3</td>\n",
       "      <td>t10s15vy</td>\n",
       "      <td>0.1</td>\n",
       "      <td>0.15</td>\n",
       "      <td>285.0</td>\n",
       "      <td>0.0</td>\n",
       "      <td>24.2035</td>\n",
       "      <td>285.0</td>\n",
       "    </tr>\n",
       "    <tr>\n",
       "      <th>6</th>\n",
       "      <td>202101.0</td>\n",
       "      <td>AERI3</td>\n",
       "      <td>t10s15vy</td>\n",
       "      <td>0.1</td>\n",
       "      <td>0.15</td>\n",
       "      <td>175.0</td>\n",
       "      <td>110.0</td>\n",
       "      <td>6.3298</td>\n",
       "      <td>285.0</td>\n",
       "    </tr>\n",
       "    <tr>\n",
       "      <th>11</th>\n",
       "      <td>202101.0</td>\n",
       "      <td>ALPA4</td>\n",
       "      <td>t10s15vy</td>\n",
       "      <td>0.1</td>\n",
       "      <td>0.15</td>\n",
       "      <td>285.0</td>\n",
       "      <td>0.0</td>\n",
       "      <td>21.1930</td>\n",
       "      <td>285.0</td>\n",
       "    </tr>\n",
       "    <tr>\n",
       "      <th>16</th>\n",
       "      <td>202101.0</td>\n",
       "      <td>ALSO3</td>\n",
       "      <td>t10s15vy</td>\n",
       "      <td>0.1</td>\n",
       "      <td>0.15</td>\n",
       "      <td>280.0</td>\n",
       "      <td>5.0</td>\n",
       "      <td>25.4491</td>\n",
       "      <td>285.0</td>\n",
       "    </tr>\n",
       "    <tr>\n",
       "      <th>21</th>\n",
       "      <td>202101.0</td>\n",
       "      <td>AMAR3</td>\n",
       "      <td>t10s15vy</td>\n",
       "      <td>0.1</td>\n",
       "      <td>0.15</td>\n",
       "      <td>285.0</td>\n",
       "      <td>0.0</td>\n",
       "      <td>20.2316</td>\n",
       "      <td>285.0</td>\n",
       "    </tr>\n",
       "  </tbody>\n",
       "</table>\n",
       "</div>"
      ],
      "text/plain": [
       "    anoMesNum ticker codigoRegraProjecao  target  stop  totalLucro  \\\n",
       "1    202101.0  ABEV3            t10s15vy     0.1  0.15       285.0   \n",
       "6    202101.0  AERI3            t10s15vy     0.1  0.15       175.0   \n",
       "11   202101.0  ALPA4            t10s15vy     0.1  0.15       285.0   \n",
       "16   202101.0  ALSO3            t10s15vy     0.1  0.15       280.0   \n",
       "21   202101.0  AMAR3            t10s15vy     0.1  0.15       285.0   \n",
       "\n",
       "    totalPrejuizo  mediaDias  total  \n",
       "1             0.0    24.2035  285.0  \n",
       "6           110.0     6.3298  285.0  \n",
       "11            0.0    21.1930  285.0  \n",
       "16            5.0    25.4491  285.0  \n",
       "21            0.0    20.2316  285.0  "
      ]
     },
     "execution_count": 16,
     "metadata": {},
     "output_type": "execute_result"
    }
   ],
   "source": [
    "dfJan.apply(soma, axis='columns').head()"
   ]
  },
  {
   "cell_type": "code",
   "execution_count": 19,
   "id": "9ea967ed",
   "metadata": {},
   "outputs": [
    {
     "data": {
      "text/plain": [
       "array([285.,  nan])"
      ]
     },
     "execution_count": 19,
     "metadata": {},
     "output_type": "execute_result"
    }
   ],
   "source": [
    "dfJan['total'].unique()"
   ]
  },
  {
   "cell_type": "code",
   "execution_count": 20,
   "id": "7576d66e",
   "metadata": {},
   "outputs": [],
   "source": [
    "dfErro = dfJan[dfJan['total']!=285]"
   ]
  },
  {
   "cell_type": "code",
   "execution_count": 21,
   "id": "84819bea",
   "metadata": {},
   "outputs": [
    {
     "data": {
      "text/html": [
       "<div>\n",
       "<style scoped>\n",
       "    .dataframe tbody tr th:only-of-type {\n",
       "        vertical-align: middle;\n",
       "    }\n",
       "\n",
       "    .dataframe tbody tr th {\n",
       "        vertical-align: top;\n",
       "    }\n",
       "\n",
       "    .dataframe thead th {\n",
       "        text-align: right;\n",
       "    }\n",
       "</style>\n",
       "<table border=\"1\" class=\"dataframe\">\n",
       "  <thead>\n",
       "    <tr style=\"text-align: right;\">\n",
       "      <th></th>\n",
       "      <th>anoMesNum</th>\n",
       "      <th>ticker</th>\n",
       "      <th>codigoRegraProjecao</th>\n",
       "      <th>target</th>\n",
       "      <th>stop</th>\n",
       "      <th>totalLucro</th>\n",
       "      <th>totalPrejuizo</th>\n",
       "      <th>mediaDias</th>\n",
       "      <th>total</th>\n",
       "    </tr>\n",
       "  </thead>\n",
       "  <tbody>\n",
       "    <tr>\n",
       "      <th>total</th>\n",
       "      <td>NaN</td>\n",
       "      <td>NaN</td>\n",
       "      <td>NaN</td>\n",
       "      <td>NaN</td>\n",
       "      <td>NaN</td>\n",
       "      <td>NaN</td>\n",
       "      <td>NaN</td>\n",
       "      <td>NaN</td>\n",
       "      <td>NaN</td>\n",
       "    </tr>\n",
       "  </tbody>\n",
       "</table>\n",
       "</div>"
      ],
      "text/plain": [
       "       anoMesNum ticker codigoRegraProjecao  target  stop  totalLucro  \\\n",
       "total        NaN    NaN                 NaN     NaN   NaN         NaN   \n",
       "\n",
       "       totalPrejuizo  mediaDias  total  \n",
       "total            NaN        NaN    NaN  "
      ]
     },
     "execution_count": 21,
     "metadata": {},
     "output_type": "execute_result"
    }
   ],
   "source": [
    "dfErro.head()"
   ]
  },
  {
   "cell_type": "code",
   "execution_count": null,
   "id": "99e0c775",
   "metadata": {},
   "outputs": [],
   "source": []
  }
 ],
 "metadata": {
  "kernelspec": {
   "display_name": "Python 3 (ipykernel)",
   "language": "python",
   "name": "python3"
  },
  "language_info": {
   "codemirror_mode": {
    "name": "ipython",
    "version": 3
   },
   "file_extension": ".py",
   "mimetype": "text/x-python",
   "name": "python",
   "nbconvert_exporter": "python",
   "pygments_lexer": "ipython3",
   "version": "3.8.10"
  }
 },
 "nbformat": 4,
 "nbformat_minor": 5
}
