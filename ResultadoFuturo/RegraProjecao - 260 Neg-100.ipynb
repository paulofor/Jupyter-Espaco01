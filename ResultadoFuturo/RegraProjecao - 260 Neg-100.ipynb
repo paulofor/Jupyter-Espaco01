{
 "cells": [
  {
   "cell_type": "markdown",
   "id": "b8457526",
   "metadata": {},
   "source": [
    "## 1 Ano de dados"
   ]
  },
  {
   "cell_type": "code",
   "execution_count": 1,
   "id": "919c7534",
   "metadata": {},
   "outputs": [],
   "source": [
    "url = \"http://vps-40d69db1.vps.ovh.ca:23002/api/CotacaoIntradayAcaoResultadoValors/obtemDatasPorDataGrupoLimite?diaInicioNum=20211101&diaFinalNum=20220430&grupoAcaoId=12&limiteDiaRegra=260\""
   ]
  },
  {
   "cell_type": "code",
   "execution_count": 2,
   "id": "5ed22680",
   "metadata": {},
   "outputs": [],
   "source": [
    "import requests\n",
    "import pandas as pd\n",
    "import matplotlib.pyplot as plt\n",
    "import numpy as np\n",
    "from datetime import datetime"
   ]
  },
  {
   "cell_type": "code",
   "execution_count": 3,
   "id": "390bf6cb",
   "metadata": {},
   "outputs": [],
   "source": [
    "r = requests.get(url)\n",
    "j = r.json()\n",
    "df = pd.DataFrame.from_dict(j)"
   ]
  },
  {
   "cell_type": "code",
   "execution_count": 4,
   "id": "0b9befb4",
   "metadata": {},
   "outputs": [
    {
     "data": {
      "text/html": [
       "<div>\n",
       "<style scoped>\n",
       "    .dataframe tbody tr th:only-of-type {\n",
       "        vertical-align: middle;\n",
       "    }\n",
       "\n",
       "    .dataframe tbody tr th {\n",
       "        vertical-align: top;\n",
       "    }\n",
       "\n",
       "    .dataframe thead th {\n",
       "        text-align: right;\n",
       "    }\n",
       "</style>\n",
       "<table border=\"1\" class=\"dataframe\">\n",
       "  <thead>\n",
       "    <tr style=\"text-align: right;\">\n",
       "      <th></th>\n",
       "      <th>anoMesNum</th>\n",
       "      <th>ticker</th>\n",
       "      <th>codigoRegraProjecao</th>\n",
       "      <th>target</th>\n",
       "      <th>stop</th>\n",
       "      <th>totalLucro</th>\n",
       "      <th>totalPrejuizo</th>\n",
       "      <th>mediaDias</th>\n",
       "    </tr>\n",
       "  </thead>\n",
       "  <tbody>\n",
       "    <tr>\n",
       "      <th>0</th>\n",
       "      <td>202111</td>\n",
       "      <td>ABEV3</td>\n",
       "      <td>t09s15vy</td>\n",
       "      <td>0.09</td>\n",
       "      <td>0.15</td>\n",
       "      <td>300</td>\n",
       "      <td>0</td>\n",
       "      <td>15.0833</td>\n",
       "    </tr>\n",
       "    <tr>\n",
       "      <th>1</th>\n",
       "      <td>202111</td>\n",
       "      <td>ABEV3</td>\n",
       "      <td>t10s15vy</td>\n",
       "      <td>0.10</td>\n",
       "      <td>0.15</td>\n",
       "      <td>300</td>\n",
       "      <td>0</td>\n",
       "      <td>17.1533</td>\n",
       "    </tr>\n",
       "    <tr>\n",
       "      <th>2</th>\n",
       "      <td>202111</td>\n",
       "      <td>ABEV3</td>\n",
       "      <td>t10s17vy</td>\n",
       "      <td>0.10</td>\n",
       "      <td>0.17</td>\n",
       "      <td>300</td>\n",
       "      <td>0</td>\n",
       "      <td>17.1533</td>\n",
       "    </tr>\n",
       "    <tr>\n",
       "      <th>3</th>\n",
       "      <td>202111</td>\n",
       "      <td>ABEV3</td>\n",
       "      <td>t12s17vy</td>\n",
       "      <td>0.12</td>\n",
       "      <td>0.17</td>\n",
       "      <td>300</td>\n",
       "      <td>0</td>\n",
       "      <td>25.0000</td>\n",
       "    </tr>\n",
       "    <tr>\n",
       "      <th>4</th>\n",
       "      <td>202111</td>\n",
       "      <td>ABEV3</td>\n",
       "      <td>t15s12vy</td>\n",
       "      <td>0.15</td>\n",
       "      <td>0.12</td>\n",
       "      <td>300</td>\n",
       "      <td>0</td>\n",
       "      <td>38.1633</td>\n",
       "    </tr>\n",
       "  </tbody>\n",
       "</table>\n",
       "</div>"
      ],
      "text/plain": [
       "   anoMesNum ticker codigoRegraProjecao  target  stop  totalLucro  \\\n",
       "0     202111  ABEV3            t09s15vy    0.09  0.15         300   \n",
       "1     202111  ABEV3            t10s15vy    0.10  0.15         300   \n",
       "2     202111  ABEV3            t10s17vy    0.10  0.17         300   \n",
       "3     202111  ABEV3            t12s17vy    0.12  0.17         300   \n",
       "4     202111  ABEV3            t15s12vy    0.15  0.12         300   \n",
       "\n",
       "   totalPrejuizo  mediaDias  \n",
       "0              0    15.0833  \n",
       "1              0    17.1533  \n",
       "2              0    17.1533  \n",
       "3              0    25.0000  \n",
       "4              0    38.1633  "
      ]
     },
     "execution_count": 4,
     "metadata": {},
     "output_type": "execute_result"
    }
   ],
   "source": [
    "df.head()"
   ]
  },
  {
   "cell_type": "markdown",
   "id": "30ee91c3",
   "metadata": {},
   "source": [
    "## Cálculo de Saldo"
   ]
  },
  {
   "cell_type": "code",
   "execution_count": 27,
   "id": "d1dee78e",
   "metadata": {},
   "outputs": [],
   "source": [
    "df['saldo'] =(df['target'] * df['totalLucro']) - (df['stop'] * df['totalPrejuizo'])"
   ]
  },
  {
   "cell_type": "code",
   "execution_count": 28,
   "id": "587b8143",
   "metadata": {},
   "outputs": [
    {
     "data": {
      "text/html": [
       "<div>\n",
       "<style scoped>\n",
       "    .dataframe tbody tr th:only-of-type {\n",
       "        vertical-align: middle;\n",
       "    }\n",
       "\n",
       "    .dataframe tbody tr th {\n",
       "        vertical-align: top;\n",
       "    }\n",
       "\n",
       "    .dataframe thead th {\n",
       "        text-align: right;\n",
       "    }\n",
       "</style>\n",
       "<table border=\"1\" class=\"dataframe\">\n",
       "  <thead>\n",
       "    <tr style=\"text-align: right;\">\n",
       "      <th></th>\n",
       "      <th>anoMesNum</th>\n",
       "      <th>ticker</th>\n",
       "      <th>codigoRegraProjecao</th>\n",
       "      <th>target</th>\n",
       "      <th>stop</th>\n",
       "      <th>totalLucro</th>\n",
       "      <th>totalPrejuizo</th>\n",
       "      <th>mediaDias</th>\n",
       "      <th>saldo</th>\n",
       "    </tr>\n",
       "  </thead>\n",
       "  <tbody>\n",
       "    <tr>\n",
       "      <th>0</th>\n",
       "      <td>202103</td>\n",
       "      <td>ABEV3</td>\n",
       "      <td>t09s15vy</td>\n",
       "      <td>0.09</td>\n",
       "      <td>0.15</td>\n",
       "      <td>0</td>\n",
       "      <td>345</td>\n",
       "      <td>41.9449</td>\n",
       "      <td>-51.75</td>\n",
       "    </tr>\n",
       "    <tr>\n",
       "      <th>1</th>\n",
       "      <td>202103</td>\n",
       "      <td>ABEV3</td>\n",
       "      <td>t10s15vy</td>\n",
       "      <td>0.10</td>\n",
       "      <td>0.15</td>\n",
       "      <td>0</td>\n",
       "      <td>345</td>\n",
       "      <td>41.9449</td>\n",
       "      <td>-51.75</td>\n",
       "    </tr>\n",
       "    <tr>\n",
       "      <th>2</th>\n",
       "      <td>202103</td>\n",
       "      <td>ABEV3</td>\n",
       "      <td>t10s17vy</td>\n",
       "      <td>0.10</td>\n",
       "      <td>0.17</td>\n",
       "      <td>0</td>\n",
       "      <td>345</td>\n",
       "      <td>47.0261</td>\n",
       "      <td>-58.65</td>\n",
       "    </tr>\n",
       "    <tr>\n",
       "      <th>3</th>\n",
       "      <td>202103</td>\n",
       "      <td>ABEV3</td>\n",
       "      <td>t12s15vy</td>\n",
       "      <td>0.12</td>\n",
       "      <td>0.15</td>\n",
       "      <td>0</td>\n",
       "      <td>345</td>\n",
       "      <td>41.9449</td>\n",
       "      <td>-51.75</td>\n",
       "    </tr>\n",
       "    <tr>\n",
       "      <th>4</th>\n",
       "      <td>202103</td>\n",
       "      <td>ABEV3</td>\n",
       "      <td>t12s17vy</td>\n",
       "      <td>0.12</td>\n",
       "      <td>0.17</td>\n",
       "      <td>0</td>\n",
       "      <td>345</td>\n",
       "      <td>47.0261</td>\n",
       "      <td>-58.65</td>\n",
       "    </tr>\n",
       "  </tbody>\n",
       "</table>\n",
       "</div>"
      ],
      "text/plain": [
       "   anoMesNum ticker codigoRegraProjecao  target  stop  totalLucro  \\\n",
       "0     202103  ABEV3            t09s15vy    0.09  0.15           0   \n",
       "1     202103  ABEV3            t10s15vy    0.10  0.15           0   \n",
       "2     202103  ABEV3            t10s17vy    0.10  0.17           0   \n",
       "3     202103  ABEV3            t12s15vy    0.12  0.15           0   \n",
       "4     202103  ABEV3            t12s17vy    0.12  0.17           0   \n",
       "\n",
       "   totalPrejuizo  mediaDias  saldo  \n",
       "0            345    41.9449 -51.75  \n",
       "1            345    41.9449 -51.75  \n",
       "2            345    47.0261 -58.65  \n",
       "3            345    41.9449 -51.75  \n",
       "4            345    47.0261 -58.65  "
      ]
     },
     "execution_count": 28,
     "metadata": {},
     "output_type": "execute_result"
    }
   ],
   "source": [
    "df.head()"
   ]
  },
  {
   "cell_type": "code",
   "execution_count": 29,
   "id": "4041af33",
   "metadata": {},
   "outputs": [],
   "source": [
    "dfABEV = df[df['ticker'] == 'ABEV3']"
   ]
  },
  {
   "cell_type": "code",
   "execution_count": 30,
   "id": "a6b9210a",
   "metadata": {},
   "outputs": [
    {
     "data": {
      "text/html": [
       "<div>\n",
       "<style scoped>\n",
       "    .dataframe tbody tr th:only-of-type {\n",
       "        vertical-align: middle;\n",
       "    }\n",
       "\n",
       "    .dataframe tbody tr th {\n",
       "        vertical-align: top;\n",
       "    }\n",
       "\n",
       "    .dataframe thead th {\n",
       "        text-align: right;\n",
       "    }\n",
       "</style>\n",
       "<table border=\"1\" class=\"dataframe\">\n",
       "  <thead>\n",
       "    <tr style=\"text-align: right;\">\n",
       "      <th></th>\n",
       "      <th>anoMesNum</th>\n",
       "      <th>ticker</th>\n",
       "      <th>codigoRegraProjecao</th>\n",
       "      <th>target</th>\n",
       "      <th>stop</th>\n",
       "      <th>totalLucro</th>\n",
       "      <th>totalPrejuizo</th>\n",
       "      <th>mediaDias</th>\n",
       "      <th>saldo</th>\n",
       "    </tr>\n",
       "  </thead>\n",
       "  <tbody>\n",
       "    <tr>\n",
       "      <th>0</th>\n",
       "      <td>202103</td>\n",
       "      <td>ABEV3</td>\n",
       "      <td>t09s15vy</td>\n",
       "      <td>0.09</td>\n",
       "      <td>0.15</td>\n",
       "      <td>0</td>\n",
       "      <td>345</td>\n",
       "      <td>41.9449</td>\n",
       "      <td>-51.75</td>\n",
       "    </tr>\n",
       "    <tr>\n",
       "      <th>1</th>\n",
       "      <td>202103</td>\n",
       "      <td>ABEV3</td>\n",
       "      <td>t10s15vy</td>\n",
       "      <td>0.10</td>\n",
       "      <td>0.15</td>\n",
       "      <td>0</td>\n",
       "      <td>345</td>\n",
       "      <td>41.9449</td>\n",
       "      <td>-51.75</td>\n",
       "    </tr>\n",
       "    <tr>\n",
       "      <th>2</th>\n",
       "      <td>202103</td>\n",
       "      <td>ABEV3</td>\n",
       "      <td>t10s17vy</td>\n",
       "      <td>0.10</td>\n",
       "      <td>0.17</td>\n",
       "      <td>0</td>\n",
       "      <td>345</td>\n",
       "      <td>47.0261</td>\n",
       "      <td>-58.65</td>\n",
       "    </tr>\n",
       "    <tr>\n",
       "      <th>3</th>\n",
       "      <td>202103</td>\n",
       "      <td>ABEV3</td>\n",
       "      <td>t12s15vy</td>\n",
       "      <td>0.12</td>\n",
       "      <td>0.15</td>\n",
       "      <td>0</td>\n",
       "      <td>345</td>\n",
       "      <td>41.9449</td>\n",
       "      <td>-51.75</td>\n",
       "    </tr>\n",
       "    <tr>\n",
       "      <th>4</th>\n",
       "      <td>202103</td>\n",
       "      <td>ABEV3</td>\n",
       "      <td>t12s17vy</td>\n",
       "      <td>0.12</td>\n",
       "      <td>0.17</td>\n",
       "      <td>0</td>\n",
       "      <td>345</td>\n",
       "      <td>47.0261</td>\n",
       "      <td>-58.65</td>\n",
       "    </tr>\n",
       "    <tr>\n",
       "      <th>...</th>\n",
       "      <td>...</td>\n",
       "      <td>...</td>\n",
       "      <td>...</td>\n",
       "      <td>...</td>\n",
       "      <td>...</td>\n",
       "      <td>...</td>\n",
       "      <td>...</td>\n",
       "      <td>...</td>\n",
       "      <td>...</td>\n",
       "    </tr>\n",
       "    <tr>\n",
       "      <th>9739</th>\n",
       "      <td>202202</td>\n",
       "      <td>ABEV3</td>\n",
       "      <td>t13s17vy</td>\n",
       "      <td>0.13</td>\n",
       "      <td>0.17</td>\n",
       "      <td>53</td>\n",
       "      <td>0</td>\n",
       "      <td>14.1321</td>\n",
       "      <td>6.89</td>\n",
       "    </tr>\n",
       "    <tr>\n",
       "      <th>9740</th>\n",
       "      <td>202202</td>\n",
       "      <td>ABEV3</td>\n",
       "      <td>t14s17vy</td>\n",
       "      <td>0.14</td>\n",
       "      <td>0.17</td>\n",
       "      <td>19</td>\n",
       "      <td>0</td>\n",
       "      <td>13.5263</td>\n",
       "      <td>2.66</td>\n",
       "    </tr>\n",
       "    <tr>\n",
       "      <th>9741</th>\n",
       "      <td>202202</td>\n",
       "      <td>ABEV3</td>\n",
       "      <td>t15s12vy</td>\n",
       "      <td>0.15</td>\n",
       "      <td>0.12</td>\n",
       "      <td>12</td>\n",
       "      <td>0</td>\n",
       "      <td>14.3333</td>\n",
       "      <td>1.80</td>\n",
       "    </tr>\n",
       "    <tr>\n",
       "      <th>9742</th>\n",
       "      <td>202202</td>\n",
       "      <td>ABEV3</td>\n",
       "      <td>t15s15vy</td>\n",
       "      <td>0.15</td>\n",
       "      <td>0.15</td>\n",
       "      <td>8</td>\n",
       "      <td>0</td>\n",
       "      <td>13.0000</td>\n",
       "      <td>1.20</td>\n",
       "    </tr>\n",
       "    <tr>\n",
       "      <th>9743</th>\n",
       "      <td>202202</td>\n",
       "      <td>ABEV3</td>\n",
       "      <td>t15s18vy</td>\n",
       "      <td>0.15</td>\n",
       "      <td>0.18</td>\n",
       "      <td>12</td>\n",
       "      <td>0</td>\n",
       "      <td>14.3333</td>\n",
       "      <td>1.80</td>\n",
       "    </tr>\n",
       "  </tbody>\n",
       "</table>\n",
       "<p>119 rows × 9 columns</p>\n",
       "</div>"
      ],
      "text/plain": [
       "      anoMesNum ticker codigoRegraProjecao  target  stop  totalLucro  \\\n",
       "0        202103  ABEV3            t09s15vy    0.09  0.15           0   \n",
       "1        202103  ABEV3            t10s15vy    0.10  0.15           0   \n",
       "2        202103  ABEV3            t10s17vy    0.10  0.17           0   \n",
       "3        202103  ABEV3            t12s15vy    0.12  0.15           0   \n",
       "4        202103  ABEV3            t12s17vy    0.12  0.17           0   \n",
       "...         ...    ...                 ...     ...   ...         ...   \n",
       "9739     202202  ABEV3            t13s17vy    0.13  0.17          53   \n",
       "9740     202202  ABEV3            t14s17vy    0.14  0.17          19   \n",
       "9741     202202  ABEV3            t15s12vy    0.15  0.12          12   \n",
       "9742     202202  ABEV3            t15s15vy    0.15  0.15           8   \n",
       "9743     202202  ABEV3            t15s18vy    0.15  0.18          12   \n",
       "\n",
       "      totalPrejuizo  mediaDias  saldo  \n",
       "0               345    41.9449 -51.75  \n",
       "1               345    41.9449 -51.75  \n",
       "2               345    47.0261 -58.65  \n",
       "3               345    41.9449 -51.75  \n",
       "4               345    47.0261 -58.65  \n",
       "...             ...        ...    ...  \n",
       "9739              0    14.1321   6.89  \n",
       "9740              0    13.5263   2.66  \n",
       "9741              0    14.3333   1.80  \n",
       "9742              0    13.0000   1.20  \n",
       "9743              0    14.3333   1.80  \n",
       "\n",
       "[119 rows x 9 columns]"
      ]
     },
     "execution_count": 30,
     "metadata": {},
     "output_type": "execute_result"
    }
   ],
   "source": [
    "dfABEV"
   ]
  },
  {
   "cell_type": "code",
   "execution_count": 31,
   "id": "c7d4ee6b",
   "metadata": {},
   "outputs": [],
   "source": [
    "dfAgrupado = df\\\n",
    "        .groupby(['anoMesNum','codigoRegraProjecao','target','stop']).sum(['totalLucro','totalPrejuizo'])\\\n",
    "        .filter(items=['totalLucro','totalPrejuizo'])"
   ]
  },
  {
   "cell_type": "code",
   "execution_count": 32,
   "id": "241188fd",
   "metadata": {},
   "outputs": [],
   "source": [
    "dfAgrupado = dfAgrupado.reset_index()"
   ]
  },
  {
   "cell_type": "code",
   "execution_count": 33,
   "id": "d910eb71",
   "metadata": {},
   "outputs": [],
   "source": [
    "dfAgrupado['saldo'] =(dfAgrupado['target'] * dfAgrupado['totalLucro']) - (dfAgrupado['stop'] * dfAgrupado['totalPrejuizo'])"
   ]
  },
  {
   "cell_type": "code",
   "execution_count": 34,
   "id": "5dc676fc",
   "metadata": {},
   "outputs": [],
   "source": [
    "dfAgrupado['total'] = dfAgrupado['totalLucro'] + dfAgrupado['totalPrejuizo']"
   ]
  },
  {
   "cell_type": "code",
   "execution_count": 35,
   "id": "1141983b",
   "metadata": {},
   "outputs": [
    {
     "data": {
      "text/html": [
       "<div>\n",
       "<style scoped>\n",
       "    .dataframe tbody tr th:only-of-type {\n",
       "        vertical-align: middle;\n",
       "    }\n",
       "\n",
       "    .dataframe tbody tr th {\n",
       "        vertical-align: top;\n",
       "    }\n",
       "\n",
       "    .dataframe thead th {\n",
       "        text-align: right;\n",
       "    }\n",
       "</style>\n",
       "<table border=\"1\" class=\"dataframe\">\n",
       "  <thead>\n",
       "    <tr style=\"text-align: right;\">\n",
       "      <th></th>\n",
       "      <th>anoMesNum</th>\n",
       "      <th>codigoRegraProjecao</th>\n",
       "      <th>target</th>\n",
       "      <th>stop</th>\n",
       "      <th>totalLucro</th>\n",
       "      <th>totalPrejuizo</th>\n",
       "      <th>saldo</th>\n",
       "      <th>total</th>\n",
       "    </tr>\n",
       "  </thead>\n",
       "  <tbody>\n",
       "    <tr>\n",
       "      <th>0</th>\n",
       "      <td>202103</td>\n",
       "      <td>t09s15vy</td>\n",
       "      <td>0.09</td>\n",
       "      <td>0.15</td>\n",
       "      <td>12302</td>\n",
       "      <td>18619</td>\n",
       "      <td>-1685.67</td>\n",
       "      <td>30921</td>\n",
       "    </tr>\n",
       "    <tr>\n",
       "      <th>1</th>\n",
       "      <td>202103</td>\n",
       "      <td>t10s15vy</td>\n",
       "      <td>0.10</td>\n",
       "      <td>0.15</td>\n",
       "      <td>11571</td>\n",
       "      <td>19292</td>\n",
       "      <td>-1736.70</td>\n",
       "      <td>30863</td>\n",
       "    </tr>\n",
       "    <tr>\n",
       "      <th>2</th>\n",
       "      <td>202103</td>\n",
       "      <td>t10s17vy</td>\n",
       "      <td>0.10</td>\n",
       "      <td>0.17</td>\n",
       "      <td>12564</td>\n",
       "      <td>18280</td>\n",
       "      <td>-1851.20</td>\n",
       "      <td>30844</td>\n",
       "    </tr>\n",
       "    <tr>\n",
       "      <th>3</th>\n",
       "      <td>202103</td>\n",
       "      <td>t12s15vy</td>\n",
       "      <td>0.12</td>\n",
       "      <td>0.15</td>\n",
       "      <td>10308</td>\n",
       "      <td>20355</td>\n",
       "      <td>-1816.29</td>\n",
       "      <td>30663</td>\n",
       "    </tr>\n",
       "    <tr>\n",
       "      <th>4</th>\n",
       "      <td>202103</td>\n",
       "      <td>t12s17vy</td>\n",
       "      <td>0.12</td>\n",
       "      <td>0.17</td>\n",
       "      <td>11295</td>\n",
       "      <td>19226</td>\n",
       "      <td>-1913.02</td>\n",
       "      <td>30521</td>\n",
       "    </tr>\n",
       "  </tbody>\n",
       "</table>\n",
       "</div>"
      ],
      "text/plain": [
       "   anoMesNum codigoRegraProjecao  target  stop  totalLucro  totalPrejuizo  \\\n",
       "0     202103            t09s15vy    0.09  0.15       12302          18619   \n",
       "1     202103            t10s15vy    0.10  0.15       11571          19292   \n",
       "2     202103            t10s17vy    0.10  0.17       12564          18280   \n",
       "3     202103            t12s15vy    0.12  0.15       10308          20355   \n",
       "4     202103            t12s17vy    0.12  0.17       11295          19226   \n",
       "\n",
       "     saldo  total  \n",
       "0 -1685.67  30921  \n",
       "1 -1736.70  30863  \n",
       "2 -1851.20  30844  \n",
       "3 -1816.29  30663  \n",
       "4 -1913.02  30521  "
      ]
     },
     "execution_count": 35,
     "metadata": {},
     "output_type": "execute_result"
    }
   ],
   "source": [
    "dfAgrupado.head()"
   ]
  },
  {
   "cell_type": "code",
   "execution_count": 36,
   "id": "8983606a",
   "metadata": {},
   "outputs": [],
   "source": [
    "dfMelhores = df\\\n",
    "            .filter(items=['codigoRegraProjecao','saldo'])\\\n",
    "            .groupby('codigoRegraProjecao').agg({'saldo' : np.sum })"
   ]
  },
  {
   "cell_type": "code",
   "execution_count": 37,
   "id": "049d91aa",
   "metadata": {},
   "outputs": [
    {
     "data": {
      "text/html": [
       "<div>\n",
       "<style scoped>\n",
       "    .dataframe tbody tr th:only-of-type {\n",
       "        vertical-align: middle;\n",
       "    }\n",
       "\n",
       "    .dataframe tbody tr th {\n",
       "        vertical-align: top;\n",
       "    }\n",
       "\n",
       "    .dataframe thead th {\n",
       "        text-align: right;\n",
       "    }\n",
       "</style>\n",
       "<table border=\"1\" class=\"dataframe\">\n",
       "  <thead>\n",
       "    <tr style=\"text-align: right;\">\n",
       "      <th></th>\n",
       "      <th>saldo</th>\n",
       "    </tr>\n",
       "    <tr>\n",
       "      <th>codigoRegraProjecao</th>\n",
       "      <th></th>\n",
       "    </tr>\n",
       "  </thead>\n",
       "  <tbody>\n",
       "    <tr>\n",
       "      <th>t09s15vy</th>\n",
       "      <td>5352.93</td>\n",
       "    </tr>\n",
       "    <tr>\n",
       "      <th>t10s15vy</th>\n",
       "      <td>5951.05</td>\n",
       "    </tr>\n",
       "    <tr>\n",
       "      <th>t15s12vy</th>\n",
       "      <td>6741.96</td>\n",
       "    </tr>\n",
       "    <tr>\n",
       "      <th>t12s15vy</th>\n",
       "      <td>6791.82</td>\n",
       "    </tr>\n",
       "    <tr>\n",
       "      <th>t10s17vy</th>\n",
       "      <td>6925.60</td>\n",
       "    </tr>\n",
       "    <tr>\n",
       "      <th>t12s17vy</th>\n",
       "      <td>8219.75</td>\n",
       "    </tr>\n",
       "    <tr>\n",
       "      <th>t15s15vy</th>\n",
       "      <td>8368.05</td>\n",
       "    </tr>\n",
       "    <tr>\n",
       "      <th>t13s17vy</th>\n",
       "      <td>8942.70</td>\n",
       "    </tr>\n",
       "    <tr>\n",
       "      <th>t14s17vy</th>\n",
       "      <td>9475.38</td>\n",
       "    </tr>\n",
       "    <tr>\n",
       "      <th>t15s18vy</th>\n",
       "      <td>10244.64</td>\n",
       "    </tr>\n",
       "  </tbody>\n",
       "</table>\n",
       "</div>"
      ],
      "text/plain": [
       "                        saldo\n",
       "codigoRegraProjecao          \n",
       "t09s15vy              5352.93\n",
       "t10s15vy              5951.05\n",
       "t15s12vy              6741.96\n",
       "t12s15vy              6791.82\n",
       "t10s17vy              6925.60\n",
       "t12s17vy              8219.75\n",
       "t15s15vy              8368.05\n",
       "t13s17vy              8942.70\n",
       "t14s17vy              9475.38\n",
       "t15s18vy             10244.64"
      ]
     },
     "execution_count": 37,
     "metadata": {},
     "output_type": "execute_result"
    }
   ],
   "source": [
    "dfMelhores.sort_values('saldo')"
   ]
  },
  {
   "cell_type": "markdown",
   "id": "04f8b9c0",
   "metadata": {},
   "source": [
    "# Visualização dos Melhores Casos"
   ]
  },
  {
   "cell_type": "code",
   "execution_count": 38,
   "id": "ef79c204",
   "metadata": {},
   "outputs": [],
   "source": [
    "dfTop5 = dfAgrupado\\\n",
    "        .filter(items=['anoMesNum','codigoRegraProjecao','saldo'])\n",
    "dfTop5 = dfTop5[(dfTop5['codigoRegraProjecao']=='t10s17vy') | (dfTop5['codigoRegraProjecao']=='t12s17vy')  \n",
    "       | (dfTop5['codigoRegraProjecao']=='t14s17vy')]\n",
    "#dfTop5 =dfTop5.set_index(['anoMesNum'Projecao'])"
   ]
  },
  {
   "cell_type": "code",
   "execution_count": 39,
   "id": "9237e676",
   "metadata": {},
   "outputs": [],
   "source": [
    "dfTop5 = dfTop5.pivot_table(values='saldo',index='anoMesNum',columns='codigoRegraProjecao')"
   ]
  },
  {
   "cell_type": "code",
   "execution_count": 40,
   "id": "d9888430",
   "metadata": {},
   "outputs": [],
   "source": [
    "dfTop5 = dfTop5.reset_index()"
   ]
  },
  {
   "cell_type": "code",
   "execution_count": 41,
   "id": "c699e04d",
   "metadata": {},
   "outputs": [],
   "source": [
    "dfTop5['anoMesNum'] = dfTop5['anoMesNum'].apply(lambda x: pd.to_datetime(str(x), format='%Y%m'))"
   ]
  },
  {
   "cell_type": "code",
   "execution_count": 43,
   "id": "45757bd7",
   "metadata": {},
   "outputs": [
    {
     "data": {
      "text/plain": [
       "<AxesSubplot:xlabel='anoMesNum'>"
      ]
     },
     "execution_count": 43,
     "metadata": {},
     "output_type": "execute_result"
    },
    {
     "data": {
      "image/png": "[encoded data removed]",
      "text/plain": [
       "<Figure size 720x360 with 1 Axes>"
      ]
     },
     "metadata": {
      "needs_background": "light"
     },
     "output_type": "display_data"
    }
   ],
   "source": [
    "dfTop5.plot.bar(x=\"anoMesNum\", y=[\"t10s17vy\",\"t12s17vy\",\"t14s17vy\"], \n",
    "             figsize=(10,5))"
   ]
  },
  {
   "cell_type": "markdown",
   "id": "4d1ff519",
   "metadata": {},
   "source": [
    "# Qual combinação gera mais segurança ao longo do tempo ?"
   ]
  },
  {
   "cell_type": "code",
   "execution_count": 49,
   "id": "173f121c",
   "metadata": {},
   "outputs": [],
   "source": [
    "dTotais = df\\\n",
    "            .filter(items=['codigoRegraProjecao','totalLucro' , 'totalPrejuizo'])\\\n",
    "            .groupby('codigoRegraProjecao').sum(['totalLucro','totalPrejuizo'])"
   ]
  },
  {
   "cell_type": "code",
   "execution_count": 51,
   "id": "030f3e24",
   "metadata": {},
   "outputs": [
    {
     "data": {
      "text/html": [
       "<div>\n",
       "<style scoped>\n",
       "    .dataframe tbody tr th:only-of-type {\n",
       "        vertical-align: middle;\n",
       "    }\n",
       "\n",
       "    .dataframe tbody tr th {\n",
       "        vertical-align: top;\n",
       "    }\n",
       "\n",
       "    .dataframe thead th {\n",
       "        text-align: right;\n",
       "    }\n",
       "</style>\n",
       "<table border=\"1\" class=\"dataframe\">\n",
       "  <thead>\n",
       "    <tr style=\"text-align: right;\">\n",
       "      <th></th>\n",
       "      <th>totalLucro</th>\n",
       "      <th>totalPrejuizo</th>\n",
       "    </tr>\n",
       "    <tr>\n",
       "      <th>codigoRegraProjecao</th>\n",
       "      <th></th>\n",
       "      <th></th>\n",
       "    </tr>\n",
       "  </thead>\n",
       "  <tbody>\n",
       "    <tr>\n",
       "      <th>t09s15vy</th>\n",
       "      <td>219772</td>\n",
       "      <td>96177</td>\n",
       "    </tr>\n",
       "    <tr>\n",
       "      <th>t10s15vy</th>\n",
       "      <td>210391</td>\n",
       "      <td>100587</td>\n",
       "    </tr>\n",
       "    <tr>\n",
       "      <th>t10s17vy</th>\n",
       "      <td>218958</td>\n",
       "      <td>88060</td>\n",
       "    </tr>\n",
       "    <tr>\n",
       "      <th>t12s15vy</th>\n",
       "      <td>191701</td>\n",
       "      <td>108082</td>\n",
       "    </tr>\n",
       "    <tr>\n",
       "      <th>t12s17vy</th>\n",
       "      <td>200646</td>\n",
       "      <td>93281</td>\n",
       "    </tr>\n",
       "    <tr>\n",
       "      <th>t13s17vy</th>\n",
       "      <td>194828</td>\n",
       "      <td>96382</td>\n",
       "    </tr>\n",
       "    <tr>\n",
       "      <th>t14s17vy</th>\n",
       "      <td>187201</td>\n",
       "      <td>98428</td>\n",
       "    </tr>\n",
       "    <tr>\n",
       "      <th>t15s12vy</th>\n",
       "      <td>157544</td>\n",
       "      <td>140747</td>\n",
       "    </tr>\n",
       "    <tr>\n",
       "      <th>t15s15vy</th>\n",
       "      <td>170090</td>\n",
       "      <td>114303</td>\n",
       "    </tr>\n",
       "    <tr>\n",
       "      <th>t15s18vy</th>\n",
       "      <td>184544</td>\n",
       "      <td>96872</td>\n",
       "    </tr>\n",
       "  </tbody>\n",
       "</table>\n",
       "</div>"
      ],
      "text/plain": [
       "                     totalLucro  totalPrejuizo\n",
       "codigoRegraProjecao                           \n",
       "t09s15vy                 219772          96177\n",
       "t10s15vy                 210391         100587\n",
       "t10s17vy                 218958          88060\n",
       "t12s15vy                 191701         108082\n",
       "t12s17vy                 200646          93281\n",
       "t13s17vy                 194828          96382\n",
       "t14s17vy                 187201          98428\n",
       "t15s12vy                 157544         140747\n",
       "t15s15vy                 170090         114303\n",
       "t15s18vy                 184544          96872"
      ]
     },
     "execution_count": 51,
     "metadata": {},
     "output_type": "execute_result"
    }
   ],
   "source": [
    "dTotais.head(15)"
   ]
  },
  {
   "cell_type": "code",
   "execution_count": 53,
   "id": "c84c29e9",
   "metadata": {},
   "outputs": [
    {
     "data": {
      "text/plain": [
       "<AxesSubplot:xlabel='codigoRegraProjecao'>"
      ]
     },
     "execution_count": 53,
     "metadata": {},
     "output_type": "execute_result"
    },
    {
     "data": {
      "image/png": "[encoded data removed]",
      "text/plain": [
       "<Figure size 432x288 with 1 Axes>"
      ]
     },
     "metadata": {
      "needs_background": "light"
     },
     "output_type": "display_data"
    }
   ],
   "source": [
    "dTotais.plot()"
   ]
  },
  {
   "cell_type": "markdown",
   "id": "681d87d3",
   "metadata": {},
   "source": [
    "# Por que as quantidade de pontos não são iguais para todos os tipos de Stop/Target ?"
   ]
  },
  {
   "cell_type": "code",
   "execution_count": null,
   "id": "2b612eef",
   "metadata": {},
   "outputs": [],
   "source": []
  },
  {
   "cell_type": "markdown",
   "id": "870c85f1",
   "metadata": {},
   "source": [
    "# Tentando fazer agrupamento de ações"
   ]
  },
  {
   "cell_type": "code",
   "execution_count": null,
   "id": "e2a1c558",
   "metadata": {},
   "outputs": [],
   "source": []
  }
 ],
 "metadata": {
  "kernelspec": {
   "display_name": "Python 3 (ipykernel)",
   "language": "python",
   "name": "python3"
  },
  "language_info": {
   "codemirror_mode": {
    "name": "ipython",
    "version": 3
   },
   "file_extension": ".py",
   "mimetype": "text/x-python",
   "name": "python",
   "nbconvert_exporter": "python",
   "pygments_lexer": "ipython3",
   "version": "3.8.10"
  }
 },
 "nbformat": 4,
 "nbformat_minor": 5
}
