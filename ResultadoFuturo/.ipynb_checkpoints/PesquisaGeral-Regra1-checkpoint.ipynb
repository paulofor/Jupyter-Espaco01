{
 "cells": [
  {
   "cell_type": "markdown",
   "id": "32947d13",
   "metadata": {},
   "source": [
    "# Inicializações"
   ]
  },
  {
   "cell_type": "code",
   "execution_count": 1,
   "id": "e5c09898",
   "metadata": {},
   "outputs": [],
   "source": [
    "url = \"http://vps-40d69db1.vps.ovh.ca:21546/api/CotacaoIntradayAcaoResultadoValors/obtemPorRegraData?idRegra=1&diaNum=20210101\""
   ]
  },
  {
   "cell_type": "code",
   "execution_count": 2,
   "id": "8ecf557e",
   "metadata": {},
   "outputs": [],
   "source": [
    "import requests\n",
    "import pandas as pd\n",
    "import matplotlib.pyplot as plt\n",
    "import numpy as np\n",
    "from datetime import datetime"
   ]
  },
  {
   "cell_type": "markdown",
   "id": "b2aab3c9",
   "metadata": {},
   "source": [
    "# Execuções"
   ]
  },
  {
   "cell_type": "code",
   "execution_count": 3,
   "id": "d3fd006c",
   "metadata": {},
   "outputs": [
    {
     "name": "stdout",
     "output_type": "stream",
     "text": [
      "Data :  18/12/2021 14:35:48\n",
      "Total:  32270\n",
      "Ticker:  13\n"
     ]
    },
    {
     "data": {
      "text/plain": [
       "ticker\n",
       "ABEV3     2780\n",
       "B3SA3     2765\n",
       "BBAS3     2859\n",
       "BBDC4     2685\n",
       "BPAC11    2790\n",
       "BRDT3     2260\n",
       "BRML3     2765\n",
       "CSAN3     2804\n",
       "CSNA3     2777\n",
       "GGBR4     2865\n",
       "JBSS3     2521\n",
       "LREN3     2384\n",
       "WEGE3       15\n",
       "Name: qtde, dtype: int64"
      ]
     },
     "execution_count": 3,
     "metadata": {},
     "output_type": "execute_result"
    }
   ],
   "source": [
    "r = requests.get(url)\n",
    "j = r.json()\n",
    "df = pd.DataFrame.from_dict(j)\n",
    "dfTicker = df.groupby(['ticker']).agg('qtde').sum()\n",
    "\n",
    "now = datetime.now()\n",
    "dt_string = now.strftime(\"%d/%m/%Y %H:%M:%S\")\n",
    "\n",
    "print('Data : ' , dt_string)\n",
    "print('Total: ' , df.agg('qtde').sum())\n",
    "print('Ticker: ' , len(dfTicker))\n",
    "dfTicker"
   ]
  },
  {
   "cell_type": "code",
   "execution_count": 23,
   "id": "8deaed89",
   "metadata": {},
   "outputs": [
    {
     "name": "stdout",
     "output_type": "stream",
     "text": [
      "Data :  18/12/2021 12:41:25\n",
      "Total:  27124\n",
      "Ticker:  10\n"
     ]
    },
    {
     "data": {
      "text/plain": [
       "ticker\n",
       "ABEV3     2780\n",
       "B3SA3     2765\n",
       "BBAS3     2859\n",
       "BBDC4     2685\n",
       "BPAC11    2790\n",
       "BRDT3     2260\n",
       "BRML3     2765\n",
       "CSAN3     2804\n",
       "CSNA3     2761\n",
       "GGBR4     2655\n",
       "Name: qtde, dtype: int64"
      ]
     },
     "execution_count": 23,
     "metadata": {},
     "output_type": "execute_result"
    }
   ],
   "source": [
    "r = requests.get(url)\n",
    "j = r.json()\n",
    "df = pd.DataFrame.from_dict(j)\n",
    "dfTicker = df.groupby(['ticker']).agg('qtde').sum()\n",
    "\n",
    "now = datetime.now()\n",
    "dt_string = now.strftime(\"%d/%m/%Y %H:%M:%S\")\n",
    "\n",
    "print('Data : ' , dt_string)\n",
    "print('Total: ' , df.agg('qtde').sum())\n",
    "print('Ticker: ' , len(dfTicker))\n",
    "dfTicker"
   ]
  },
  {
   "cell_type": "code",
   "execution_count": null,
   "id": "e9826bae",
   "metadata": {},
   "outputs": [],
   "source": []
  }
 ],
 "metadata": {
  "kernelspec": {
   "display_name": "Python 3 (ipykernel)",
   "language": "python",
   "name": "python3"
  },
  "language_info": {
   "codemirror_mode": {
    "name": "ipython",
    "version": 3
   },
   "file_extension": ".py",
   "mimetype": "text/x-python",
   "name": "python",
   "nbconvert_exporter": "python",
   "pygments_lexer": "ipython3",
   "version": "3.8.10"
  }
 },
 "nbformat": 4,
 "nbformat_minor": 5
}
