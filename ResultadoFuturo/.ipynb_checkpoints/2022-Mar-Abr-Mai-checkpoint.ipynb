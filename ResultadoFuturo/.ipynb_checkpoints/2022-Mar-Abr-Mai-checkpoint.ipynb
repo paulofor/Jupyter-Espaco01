{
 "cells": [
  {
   "cell_type": "markdown",
   "id": "bf850aae",
   "metadata": {},
   "source": [
    "# Mar/Abr/Mai - 2022"
   ]
  },
  {
   "cell_type": "code",
   "execution_count": null,
   "id": "fdbea8b4",
   "metadata": {},
   "outputs": [],
   "source": [
    "url = \"http://vps-40d69db1.vps.ovh.ca:23002/api/CotacaoIntradayAcaoResultadoValors/obtemDatasPorDataGrupoLimite?diaInicioNum=20220301&diaFinalNum=20220531&grupoAcaoId=12&limiteDiaRegra=260\""
   ]
  },
  {
   "cell_type": "code",
   "execution_count": null,
   "id": "226b9499",
   "metadata": {},
   "outputs": [],
   "source": [
    "import requests\n",
    "import pandas as pd\n",
    "import matplotlib.pyplot as plt\n",
    "import numpy as np\n",
    "from datetime import datetime"
   ]
  },
  {
   "cell_type": "code",
   "execution_count": null,
   "id": "5672526d",
   "metadata": {},
   "outputs": [],
   "source": [
    "r = requests.get(url)\n",
    "j = r.json()\n",
    "df = pd.DataFrame.from_dict(j)"
   ]
  },
  {
   "cell_type": "code",
   "execution_count": null,
   "id": "93780ea1",
   "metadata": {},
   "outputs": [],
   "source": [
    "df.head()"
   ]
  },
  {
   "cell_type": "code",
   "execution_count": null,
   "id": "b9778e84",
   "metadata": {},
   "outputs": [],
   "source": [
    "def soma(linha):\n",
    "    linha['total'] = linha['totalLucro'] + linha['totalPrejuizo']\n",
    "    return linha"
   ]
  },
  {
   "cell_type": "code",
   "execution_count": null,
   "id": "8391f2fe",
   "metadata": {},
   "outputs": [],
   "source": [
    "df = df.apply(soma, axis='columns')"
   ]
  },
  {
   "cell_type": "code",
   "execution_count": null,
   "id": "db1b6e6a",
   "metadata": {},
   "outputs": [],
   "source": [
    "df.head()"
   ]
  },
  {
   "cell_type": "code",
   "execution_count": null,
   "id": "43df7649",
   "metadata": {},
   "outputs": [],
   "source": [
    "print(df['anoMesNum'].unique())"
   ]
  },
  {
   "cell_type": "markdown",
   "id": "1b8f0967",
   "metadata": {},
   "source": [
    "# Maio "
   ]
  },
  {
   "cell_type": "markdown",
   "id": "2b9a0d97",
   "metadata": {},
   "source": [
    "### Ver se está atualizando"
   ]
  },
  {
   "cell_type": "code",
   "execution_count": null,
   "id": "5f8adf5c",
   "metadata": {},
   "outputs": [],
   "source": [
    "dfMaio = df[(df['anoMesNum'] == 202205)]\n",
    "dfMaio.head()"
   ]
  },
  {
   "cell_type": "markdown",
   "id": "57701be7",
   "metadata": {},
   "source": [
    "# Abril"
   ]
  },
  {
   "cell_type": "code",
   "execution_count": null,
   "id": "521809eb",
   "metadata": {},
   "outputs": [],
   "source": [
    "dfAbril = df[(df['anoMesNum'] == 202204)]\n",
    "dfAbril.head()"
   ]
  },
  {
   "cell_type": "code",
   "execution_count": null,
   "id": "fbb3dd90",
   "metadata": {},
   "outputs": [],
   "source": []
  }
 ],
 "metadata": {
  "kernelspec": {
   "display_name": "Python 3 (ipykernel)",
   "language": "python",
   "name": "python3"
  },
  "language_info": {
   "codemirror_mode": {
    "name": "ipython",
    "version": 3
   },
   "file_extension": ".py",
   "mimetype": "text/x-python",
   "name": "python",
   "nbconvert_exporter": "python",
   "pygments_lexer": "ipython3",
   "version": "3.8.10"
  }
 },
 "nbformat": 4,
 "nbformat_minor": 5
}
