{
 "cells": [
  {
   "cell_type": "markdown",
   "id": "32947d13",
   "metadata": {},
   "source": [
    "# Inicializações"
   ]
  },
  {
   "cell_type": "code",
   "execution_count": 1,
   "id": "e5c09898",
   "metadata": {},
   "outputs": [],
   "source": [
    "url = \"http://vps-40d69db1.vps.ovh.ca:21446/api/CotacaoIntradayAcaoResultadoValors/obtemPorRegraData?idRegra=1&diaNum=20210101\""
   ]
  },
  {
   "cell_type": "code",
   "execution_count": 2,
   "id": "8ecf557e",
   "metadata": {},
   "outputs": [],
   "source": [
    "import requests\n",
    "import pandas as pd\n",
    "import matplotlib.pyplot as plt\n",
    "import numpy as np\n",
    "from datetime import datetime"
   ]
  },
  {
   "cell_type": "markdown",
   "id": "b2aab3c9",
   "metadata": {},
   "source": [
    "# Execuções"
   ]
  },
  {
   "cell_type": "code",
   "execution_count": 3,
   "id": "159f062d",
   "metadata": {},
   "outputs": [
    {
     "name": "stdout",
     "output_type": "stream",
     "text": [
      "Data :  06/01/2022 10:57:15\n",
      "Total:  209938\n",
      "Ticker:  73\n"
     ]
    },
    {
     "data": {
      "image/png": "[encoded data removed]",
      "text/plain": [
       "<Figure size 1296x360 with 1 Axes>"
      ]
     },
     "metadata": {
      "needs_background": "light"
     },
     "output_type": "display_data"
    },
    {
     "name": "stdout",
     "output_type": "stream",
     "text": [
      "   ticker  total\n",
      "0   ABEV3   2947\n",
      "1   AZUL4   3309\n",
      "2   B3SA3   2991\n",
      "3   BBAS3   2959\n",
      "4   BBDC3   2778\n",
      "..    ...    ...\n",
      "68  VALE3   2744\n",
      "69  VVAR3   1990\n",
      "70  WEGE3   2898\n",
      "71  WIZS3   3244\n",
      "72  YDUQ3   3224\n",
      "\n",
      "[73 rows x 2 columns]\n"
     ]
    }
   ],
   "source": [
    "r = requests.get(url)\n",
    "j = r.json()\n",
    "df = pd.DataFrame.from_dict(j)\n",
    "dfTicker = df.groupby(['ticker']).agg('qtde').sum().reset_index(name ='total')\n",
    "\n",
    "now = datetime.now()\n",
    "dt_string = now.strftime(\"%d/%m/%Y %H:%M:%S\")\n",
    "\n",
    "print('Data : ' , dt_string)\n",
    "print('Total: ' , df.agg('qtde').sum())\n",
    "print('Ticker: ' , len(dfTicker))\n",
    "\n",
    "\n",
    "dfTicker.plot.bar(x='ticker', y='total', rot=0, figsize=(18,5), legend=None)\n",
    "plt.show()\n",
    "\n",
    "print(dfTicker)"
   ]
  },
  {
   "cell_type": "markdown",
   "id": "2e393c0d",
   "metadata": {},
   "source": [
    "# Percentual por Ticker"
   ]
  },
  {
   "cell_type": "code",
   "execution_count": 4,
   "id": "59a1aad4",
   "metadata": {},
   "outputs": [
    {
     "data": {
      "text/html": [
       "<div>\n",
       "<style scoped>\n",
       "    .dataframe tbody tr th:only-of-type {\n",
       "        vertical-align: middle;\n",
       "    }\n",
       "\n",
       "    .dataframe tbody tr th {\n",
       "        vertical-align: top;\n",
       "    }\n",
       "\n",
       "    .dataframe thead th {\n",
       "        text-align: right;\n",
       "    }\n",
       "</style>\n",
       "<table border=\"1\" class=\"dataframe\">\n",
       "  <thead>\n",
       "    <tr style=\"text-align: right;\">\n",
       "      <th></th>\n",
       "      <th></th>\n",
       "      <th>qtde</th>\n",
       "    </tr>\n",
       "    <tr>\n",
       "      <th>ticker</th>\n",
       "      <th>resultado</th>\n",
       "      <th></th>\n",
       "    </tr>\n",
       "  </thead>\n",
       "  <tbody>\n",
       "    <tr>\n",
       "      <th rowspan=\"3\" valign=\"top\">ABEV3</th>\n",
       "      <th>-1</th>\n",
       "      <td>12.792671</td>\n",
       "    </tr>\n",
       "    <tr>\n",
       "      <th>0</th>\n",
       "      <td>55.412284</td>\n",
       "    </tr>\n",
       "    <tr>\n",
       "      <th>1</th>\n",
       "      <td>31.795046</td>\n",
       "    </tr>\n",
       "    <tr>\n",
       "      <th rowspan=\"2\" valign=\"top\">AZUL4</th>\n",
       "      <th>-1</th>\n",
       "      <td>54.155334</td>\n",
       "    </tr>\n",
       "    <tr>\n",
       "      <th>0</th>\n",
       "      <td>12.330009</td>\n",
       "    </tr>\n",
       "    <tr>\n",
       "      <th>...</th>\n",
       "      <th>...</th>\n",
       "      <td>...</td>\n",
       "    </tr>\n",
       "    <tr>\n",
       "      <th rowspan=\"2\" valign=\"top\">WIZS3</th>\n",
       "      <th>-1</th>\n",
       "      <td>60.450062</td>\n",
       "    </tr>\n",
       "    <tr>\n",
       "      <th>1</th>\n",
       "      <td>39.549938</td>\n",
       "    </tr>\n",
       "    <tr>\n",
       "      <th rowspan=\"3\" valign=\"top\">YDUQ3</th>\n",
       "      <th>-1</th>\n",
       "      <td>62.500000</td>\n",
       "    </tr>\n",
       "    <tr>\n",
       "      <th>0</th>\n",
       "      <td>6.978908</td>\n",
       "    </tr>\n",
       "    <tr>\n",
       "      <th>1</th>\n",
       "      <td>30.521092</td>\n",
       "    </tr>\n",
       "  </tbody>\n",
       "</table>\n",
       "<p>216 rows × 1 columns</p>\n",
       "</div>"
      ],
      "text/plain": [
       "                       qtde\n",
       "ticker resultado           \n",
       "ABEV3  -1         12.792671\n",
       "        0         55.412284\n",
       "        1         31.795046\n",
       "AZUL4  -1         54.155334\n",
       "        0         12.330009\n",
       "...                     ...\n",
       "WIZS3  -1         60.450062\n",
       "        1         39.549938\n",
       "YDUQ3  -1         62.500000\n",
       "        0          6.978908\n",
       "        1         30.521092\n",
       "\n",
       "[216 rows x 1 columns]"
      ]
     },
     "execution_count": 4,
     "metadata": {},
     "output_type": "execute_result"
    }
   ],
   "source": [
    "agrupado_por_ticker = df.groupby(['ticker', 'resultado']).agg({'qtde': 'sum'})\n",
    "ticker = df.groupby(['ticker']).agg({'qtde': 'sum'})\n",
    "agrupado_por_ticker.div(ticker, level='ticker') * 100"
   ]
  },
  {
   "cell_type": "code",
   "execution_count": null,
   "id": "4179141f",
   "metadata": {},
   "outputs": [],
   "source": []
  }
 ],
 "metadata": {
  "kernelspec": {
   "display_name": "Python 3 (ipykernel)",
   "language": "python",
   "name": "python3"
  },
  "language_info": {
   "codemirror_mode": {
    "name": "ipython",
    "version": 3
   },
   "file_extension": ".py",
   "mimetype": "text/x-python",
   "name": "python",
   "nbconvert_exporter": "python",
   "pygments_lexer": "ipython3",
   "version": "3.8.10"
  }
 },
 "nbformat": 4,
 "nbformat_minor": 5
}
