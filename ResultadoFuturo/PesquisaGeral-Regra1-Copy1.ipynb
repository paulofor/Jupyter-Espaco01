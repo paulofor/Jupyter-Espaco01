{
 "cells": [
  {
   "cell_type": "markdown",
   "id": "32947d13",
   "metadata": {},
   "source": [
    "# Inicializações"
   ]
  },
  {
   "cell_type": "code",
   "execution_count": 1,
   "id": "e5c09898",
   "metadata": {},
   "outputs": [],
   "source": [
    "url = \"http://vps-40d69db1.vps.ovh.ca:21446/api/CotacaoIntradayAcaoResultadoValors/obtemPorRegraData?idRegra=1&diaNum=20210101\""
   ]
  },
  {
   "cell_type": "code",
   "execution_count": 2,
   "id": "8ecf557e",
   "metadata": {},
   "outputs": [],
   "source": [
    "import requests\n",
    "import pandas as pd\n",
    "import matplotlib.pyplot as plt\n",
    "import numpy as np\n",
    "from datetime import datetime"
   ]
  },
  {
   "cell_type": "markdown",
   "id": "b2aab3c9",
   "metadata": {},
   "source": [
    "# Execuções"
   ]
  },
  {
   "cell_type": "code",
   "execution_count": 3,
   "id": "159f062d",
   "metadata": {},
   "outputs": [
    {
     "name": "stdout",
     "output_type": "stream",
     "text": [
      "Data :  30/12/2021 11:41:38\n",
      "Total:  76578\n",
      "Ticker:  28\n"
     ]
    },
    {
     "data": {
      "image/png": "[encoded data removed]",
      "text/plain": [
       "<Figure size 1296x360 with 1 Axes>"
      ]
     },
     "metadata": {
      "needs_background": "light"
     },
     "output_type": "display_data"
    },
    {
     "name": "stdout",
     "output_type": "stream",
     "text": [
      "    ticker  total\n",
      "0    ABEV3   2807\n",
      "1    B3SA3   2818\n",
      "2    BBAS3   2901\n",
      "3    BBDC4   2745\n",
      "4    BBSE3   2490\n",
      "5   BPAC11   2825\n",
      "6    BRDT3   2260\n",
      "7    BRFS3   3267\n",
      "8    BRML3   2765\n",
      "9    CCRO3   2790\n",
      "10   CIEL3   3019\n",
      "11   CMIG4    300\n",
      "12   CSAN3   2858\n",
      "13   CSNA3   2777\n",
      "14   GGBR4   2882\n",
      "15   ITUB4   2945\n",
      "16   JBSS3   2581\n",
      "17   LREN3   3109\n",
      "18   MGLU3   3014\n",
      "19   NTCO3   3072\n",
      "20   PETR3   3075\n",
      "21   PETR4   2879\n",
      "22   PRIO3   3020\n",
      "23   SUZB3   2921\n",
      "24   USIM5   3080\n",
      "25   VALE3   2713\n",
      "26   VVAR3   1990\n",
      "27   WEGE3   2675\n"
     ]
    }
   ],
   "source": [
    "r = requests.get(url)\n",
    "j = r.json()\n",
    "df = pd.DataFrame.from_dict(j)\n",
    "dfTicker = df.groupby(['ticker']).agg('qtde').sum().reset_index(name ='total')\n",
    "\n",
    "now = datetime.now()\n",
    "dt_string = now.strftime(\"%d/%m/%Y %H:%M:%S\")\n",
    "\n",
    "print('Data : ' , dt_string)\n",
    "print('Total: ' , df.agg('qtde').sum())\n",
    "print('Ticker: ' , len(dfTicker))\n",
    "\n",
    "\n",
    "dfTicker.plot.bar(x='ticker', y='total', rot=0, figsize=(18,5), legend=None)\n",
    "plt.show()\n",
    "\n",
    "print(dfTicker)"
   ]
  },
  {
   "cell_type": "code",
   "execution_count": 4,
   "id": "e9826bae",
   "metadata": {},
   "outputs": [
    {
     "data": {
      "text/plain": [
       "pandas.core.frame.DataFrame"
      ]
     },
     "execution_count": 4,
     "metadata": {},
     "output_type": "execute_result"
    }
   ],
   "source": [
    "type(dfTicker)"
   ]
  },
  {
   "cell_type": "code",
   "execution_count": 5,
   "id": "9e7be18f",
   "metadata": {},
   "outputs": [
    {
     "data": {
      "text/plain": [
       "pandas.core.frame.DataFrame"
      ]
     },
     "execution_count": 5,
     "metadata": {},
     "output_type": "execute_result"
    }
   ],
   "source": [
    "type(df)"
   ]
  },
  {
   "cell_type": "code",
   "execution_count": 6,
   "id": "555280d1",
   "metadata": {},
   "outputs": [
    {
     "data": {
      "text/plain": [
       "Index(['ticker', 'resultado', 'qtde'], dtype='object')"
      ]
     },
     "execution_count": 6,
     "metadata": {},
     "output_type": "execute_result"
    }
   ],
   "source": [
    "df.columns"
   ]
  },
  {
   "cell_type": "markdown",
   "id": "7e40ab45",
   "metadata": {},
   "source": [
    "# Como colocar percentual por ticker ???"
   ]
  },
  {
   "cell_type": "code",
   "execution_count": null,
   "id": "b3a97212",
   "metadata": {},
   "outputs": [],
   "source": []
  }
 ],
 "metadata": {
  "kernelspec": {
   "display_name": "Python 3 (ipykernel)",
   "language": "python",
   "name": "python3"
  },
  "language_info": {
   "codemirror_mode": {
    "name": "ipython",
    "version": 3
   },
   "file_extension": ".py",
   "mimetype": "text/x-python",
   "name": "python",
   "nbconvert_exporter": "python",
   "pygments_lexer": "ipython3",
   "version": "3.8.10"
  }
 },
 "nbformat": 4,
 "nbformat_minor": 5
}
