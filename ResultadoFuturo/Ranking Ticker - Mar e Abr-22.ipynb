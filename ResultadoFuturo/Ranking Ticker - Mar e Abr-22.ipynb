{
 "cells": [
  {
   "cell_type": "markdown",
   "id": "0e2acd2f",
   "metadata": {},
   "source": [
    "# Março e Abril - 2022"
   ]
  },
  {
   "cell_type": "code",
   "execution_count": 1,
   "id": "5dce5b2c",
   "metadata": {},
   "outputs": [],
   "source": [
    "url = \"http://vps-40d69db1.vps.ovh.ca:23004/api/CotacaoIntradayAcaoResultadoValors/obtemDatasPorDataGrupoLimite?diaInicioNum=20220301&diaFinalNum=20220430&grupoAcaoId=12&limiteDiaRegra=260\""
   ]
  },
  {
   "cell_type": "code",
   "execution_count": 2,
   "id": "f4326b70",
   "metadata": {},
   "outputs": [],
   "source": [
    "import requests\n",
    "import pandas as pd\n",
    "import matplotlib.pyplot as plt\n",
    "import numpy as np\n",
    "from datetime import datetime"
   ]
  },
  {
   "cell_type": "code",
   "execution_count": 3,
   "id": "c26d57e2",
   "metadata": {},
   "outputs": [],
   "source": [
    "r = requests.get(url)\n",
    "j = r.json()\n",
    "df = pd.DataFrame.from_dict(j)"
   ]
  },
  {
   "cell_type": "code",
   "execution_count": 4,
   "id": "27082586",
   "metadata": {},
   "outputs": [
    {
     "data": {
      "text/html": [
       "<div>\n",
       "<style scoped>\n",
       "    .dataframe tbody tr th:only-of-type {\n",
       "        vertical-align: middle;\n",
       "    }\n",
       "\n",
       "    .dataframe tbody tr th {\n",
       "        vertical-align: top;\n",
       "    }\n",
       "\n",
       "    .dataframe thead th {\n",
       "        text-align: right;\n",
       "    }\n",
       "</style>\n",
       "<table border=\"1\" class=\"dataframe\">\n",
       "  <thead>\n",
       "    <tr style=\"text-align: right;\">\n",
       "      <th></th>\n",
       "      <th>anoMesNum</th>\n",
       "      <th>ticker</th>\n",
       "      <th>codigoRegraProjecao</th>\n",
       "      <th>target</th>\n",
       "      <th>stop</th>\n",
       "      <th>totalLucro</th>\n",
       "      <th>totalPrejuizo</th>\n",
       "      <th>mediaDias</th>\n",
       "    </tr>\n",
       "  </thead>\n",
       "  <tbody>\n",
       "    <tr>\n",
       "      <th>0</th>\n",
       "      <td>202203</td>\n",
       "      <td>ABEV3</td>\n",
       "      <td>t09s15vy</td>\n",
       "      <td>0.09</td>\n",
       "      <td>0.15</td>\n",
       "      <td>15</td>\n",
       "      <td>85</td>\n",
       "      <td>13.3400</td>\n",
       "    </tr>\n",
       "    <tr>\n",
       "      <th>1</th>\n",
       "      <td>202203</td>\n",
       "      <td>ABEV3</td>\n",
       "      <td>t10s15vy</td>\n",
       "      <td>0.10</td>\n",
       "      <td>0.15</td>\n",
       "      <td>14</td>\n",
       "      <td>85</td>\n",
       "      <td>13.5455</td>\n",
       "    </tr>\n",
       "    <tr>\n",
       "      <th>2</th>\n",
       "      <td>202203</td>\n",
       "      <td>ABEV3</td>\n",
       "      <td>t10s17vy</td>\n",
       "      <td>0.10</td>\n",
       "      <td>0.17</td>\n",
       "      <td>77</td>\n",
       "      <td>35</td>\n",
       "      <td>24.7768</td>\n",
       "    </tr>\n",
       "    <tr>\n",
       "      <th>3</th>\n",
       "      <td>202203</td>\n",
       "      <td>ABEV3</td>\n",
       "      <td>t12s15vy</td>\n",
       "      <td>0.12</td>\n",
       "      <td>0.15</td>\n",
       "      <td>28</td>\n",
       "      <td>85</td>\n",
       "      <td>16.4248</td>\n",
       "    </tr>\n",
       "    <tr>\n",
       "      <th>4</th>\n",
       "      <td>202203</td>\n",
       "      <td>ABEV3</td>\n",
       "      <td>t12s17vy</td>\n",
       "      <td>0.12</td>\n",
       "      <td>0.17</td>\n",
       "      <td>7</td>\n",
       "      <td>35</td>\n",
       "      <td>13.7143</td>\n",
       "    </tr>\n",
       "  </tbody>\n",
       "</table>\n",
       "</div>"
      ],
      "text/plain": [
       "   anoMesNum ticker codigoRegraProjecao  target  stop  totalLucro  \\\n",
       "0     202203  ABEV3            t09s15vy    0.09  0.15          15   \n",
       "1     202203  ABEV3            t10s15vy    0.10  0.15          14   \n",
       "2     202203  ABEV3            t10s17vy    0.10  0.17          77   \n",
       "3     202203  ABEV3            t12s15vy    0.12  0.15          28   \n",
       "4     202203  ABEV3            t12s17vy    0.12  0.17           7   \n",
       "\n",
       "   totalPrejuizo  mediaDias  \n",
       "0             85    13.3400  \n",
       "1             85    13.5455  \n",
       "2             35    24.7768  \n",
       "3             85    16.4248  \n",
       "4             35    13.7143  "
      ]
     },
     "execution_count": 4,
     "metadata": {},
     "output_type": "execute_result"
    }
   ],
   "source": [
    "df.head()"
   ]
  },
  {
   "cell_type": "code",
   "execution_count": null,
   "id": "66b0da32",
   "metadata": {},
   "outputs": [],
   "source": [
    "def soma(linha):\n",
    "    linha['total'] = linha['totalLucro'] + linha['totalPrejuizo']\n",
    "    return linha"
   ]
  },
  {
   "cell_type": "code",
   "execution_count": null,
   "id": "596249e8",
   "metadata": {},
   "outputs": [],
   "source": [
    "df = df.apply(soma, axis='columns')"
   ]
  },
  {
   "cell_type": "markdown",
   "id": "1b04a3fc",
   "metadata": {},
   "source": [
    "# Juntando e Rankeando"
   ]
  },
  {
   "cell_type": "code",
   "execution_count": null,
   "id": "77f60a5b",
   "metadata": {},
   "outputs": [],
   "source": [
    "dfSimples = df.filter(items=['ticker','totalLucro' , 'totalPrejuizo'])"
   ]
  },
  {
   "cell_type": "code",
   "execution_count": null,
   "id": "42b13485",
   "metadata": {},
   "outputs": [],
   "source": [
    "dfSimples = dfSimples.groupby('ticker').sum(['totalLucro', 'totalPrejuizo'])"
   ]
  },
  {
   "cell_type": "markdown",
   "id": "3615b271",
   "metadata": {},
   "source": [
    "# Melhores para Venda"
   ]
  },
  {
   "cell_type": "code",
   "execution_count": null,
   "id": "2affa0bb",
   "metadata": {},
   "outputs": [],
   "source": [
    "dfRank1 = dfSimples.sort_values(by='totalPrejuizo', ascending=True)"
   ]
  },
  {
   "cell_type": "code",
   "execution_count": null,
   "id": "69b0b063",
   "metadata": {},
   "outputs": [],
   "source": [
    "dfRank1.head(15)"
   ]
  },
  {
   "cell_type": "code",
   "execution_count": null,
   "id": "db846032",
   "metadata": {},
   "outputs": [],
   "source": [
    "dfRank2 = dfSimples.sort_values(by='totalLucro', ascending=False)"
   ]
  },
  {
   "cell_type": "code",
   "execution_count": null,
   "id": "d33d1765",
   "metadata": {},
   "outputs": [],
   "source": [
    "dfRank2.head(15)"
   ]
  },
  {
   "cell_type": "code",
   "execution_count": null,
   "id": "050cc0df",
   "metadata": {},
   "outputs": [],
   "source": [
    "dfRank1.head(15).isin(dfRank2.head(15))"
   ]
  },
  {
   "cell_type": "markdown",
   "id": "1e92cf42",
   "metadata": {},
   "source": [
    "# Melhores para Compra"
   ]
  },
  {
   "cell_type": "code",
   "execution_count": null,
   "id": "526c93ae",
   "metadata": {},
   "outputs": [],
   "source": [
    "dfRank1 = dfSimples.sort_values(by='totalPrejuizo', ascending=False)\n",
    "dfRank1.head(15)"
   ]
  },
  {
   "cell_type": "code",
   "execution_count": null,
   "id": "dbb205e4",
   "metadata": {},
   "outputs": [],
   "source": []
  }
 ],
 "metadata": {
  "kernelspec": {
   "display_name": "Python 3 (ipykernel)",
   "language": "python",
   "name": "python3"
  },
  "language_info": {
   "codemirror_mode": {
    "name": "ipython",
    "version": 3
   },
   "file_extension": ".py",
   "mimetype": "text/x-python",
   "name": "python",
   "nbconvert_exporter": "python",
   "pygments_lexer": "ipython3",
   "version": "3.8.10"
  }
 },
 "nbformat": 4,
 "nbformat_minor": 5
}
