{
 "cells": [
  {
   "cell_type": "markdown",
   "id": "493ba50a",
   "metadata": {},
   "source": [
    "# Periodo de 6 meses --> nov, dez, jan, fev, mar, abr"
   ]
  },
  {
   "cell_type": "code",
   "execution_count": 1,
   "id": "9160841f",
   "metadata": {},
   "outputs": [],
   "source": [
    "url = \"http://vps-40d69db1.vps.ovh.ca:23002/api/CotacaoIntradayAcaoResultadoValors/obtemDatasPorDataGrupoLimite?diaInicioNum=20211101&diaFinalNum=20220430&grupoAcaoId=12&limiteDiaRegra=260\""
   ]
  },
  {
   "cell_type": "code",
   "execution_count": 2,
   "id": "b07438b4",
   "metadata": {},
   "outputs": [],
   "source": [
    "import requests\n",
    "import pandas as pd\n",
    "import matplotlib.pyplot as plt\n",
    "import numpy as np\n",
    "from datetime import datetime"
   ]
  },
  {
   "cell_type": "code",
   "execution_count": 3,
   "id": "a0b74751",
   "metadata": {},
   "outputs": [],
   "source": [
    "r = requests.get(url)\n",
    "j = r.json()\n",
    "df = pd.DataFrame.from_dict(j)"
   ]
  },
  {
   "cell_type": "code",
   "execution_count": 4,
   "id": "6a66c19b",
   "metadata": {},
   "outputs": [
    {
     "data": {
      "text/html": [
       "<div>\n",
       "<style scoped>\n",
       "    .dataframe tbody tr th:only-of-type {\n",
       "        vertical-align: middle;\n",
       "    }\n",
       "\n",
       "    .dataframe tbody tr th {\n",
       "        vertical-align: top;\n",
       "    }\n",
       "\n",
       "    .dataframe thead th {\n",
       "        text-align: right;\n",
       "    }\n",
       "</style>\n",
       "<table border=\"1\" class=\"dataframe\">\n",
       "  <thead>\n",
       "    <tr style=\"text-align: right;\">\n",
       "      <th></th>\n",
       "      <th>anoMesNum</th>\n",
       "      <th>ticker</th>\n",
       "      <th>codigoRegraProjecao</th>\n",
       "      <th>target</th>\n",
       "      <th>stop</th>\n",
       "      <th>totalLucro</th>\n",
       "      <th>totalPrejuizo</th>\n",
       "      <th>mediaDias</th>\n",
       "    </tr>\n",
       "  </thead>\n",
       "  <tbody>\n",
       "    <tr>\n",
       "      <th>0</th>\n",
       "      <td>202111</td>\n",
       "      <td>ABEV3</td>\n",
       "      <td>t09s15vy</td>\n",
       "      <td>0.09</td>\n",
       "      <td>0.15</td>\n",
       "      <td>300</td>\n",
       "      <td>0</td>\n",
       "      <td>15.0833</td>\n",
       "    </tr>\n",
       "    <tr>\n",
       "      <th>1</th>\n",
       "      <td>202111</td>\n",
       "      <td>ABEV3</td>\n",
       "      <td>t10s15vy</td>\n",
       "      <td>0.10</td>\n",
       "      <td>0.15</td>\n",
       "      <td>300</td>\n",
       "      <td>0</td>\n",
       "      <td>17.1533</td>\n",
       "    </tr>\n",
       "    <tr>\n",
       "      <th>2</th>\n",
       "      <td>202111</td>\n",
       "      <td>ABEV3</td>\n",
       "      <td>t10s17vy</td>\n",
       "      <td>0.10</td>\n",
       "      <td>0.17</td>\n",
       "      <td>300</td>\n",
       "      <td>0</td>\n",
       "      <td>17.1533</td>\n",
       "    </tr>\n",
       "    <tr>\n",
       "      <th>3</th>\n",
       "      <td>202111</td>\n",
       "      <td>ABEV3</td>\n",
       "      <td>t12s17vy</td>\n",
       "      <td>0.12</td>\n",
       "      <td>0.17</td>\n",
       "      <td>300</td>\n",
       "      <td>0</td>\n",
       "      <td>25.0000</td>\n",
       "    </tr>\n",
       "    <tr>\n",
       "      <th>4</th>\n",
       "      <td>202111</td>\n",
       "      <td>ABEV3</td>\n",
       "      <td>t15s12vy</td>\n",
       "      <td>0.15</td>\n",
       "      <td>0.12</td>\n",
       "      <td>300</td>\n",
       "      <td>0</td>\n",
       "      <td>38.1633</td>\n",
       "    </tr>\n",
       "  </tbody>\n",
       "</table>\n",
       "</div>"
      ],
      "text/plain": [
       "   anoMesNum ticker codigoRegraProjecao  target  stop  totalLucro  \\\n",
       "0     202111  ABEV3            t09s15vy    0.09  0.15         300   \n",
       "1     202111  ABEV3            t10s15vy    0.10  0.15         300   \n",
       "2     202111  ABEV3            t10s17vy    0.10  0.17         300   \n",
       "3     202111  ABEV3            t12s17vy    0.12  0.17         300   \n",
       "4     202111  ABEV3            t15s12vy    0.15  0.12         300   \n",
       "\n",
       "   totalPrejuizo  mediaDias  \n",
       "0              0    15.0833  \n",
       "1              0    17.1533  \n",
       "2              0    17.1533  \n",
       "3              0    25.0000  \n",
       "4              0    38.1633  "
      ]
     },
     "execution_count": 4,
     "metadata": {},
     "output_type": "execute_result"
    }
   ],
   "source": [
    "df.head()"
   ]
  },
  {
   "cell_type": "markdown",
   "id": "ba3a0096",
   "metadata": {},
   "source": [
    "# Escolhendo uma combinação de mes/regra_projecao"
   ]
  },
  {
   "cell_type": "code",
   "execution_count": 8,
   "id": "04084f88",
   "metadata": {},
   "outputs": [
    {
     "ename": "SyntaxError",
     "evalue": "invalid syntax (2668731116.py, line 1)",
     "output_type": "error",
     "traceback": [
      "\u001b[0;36m  File \u001b[0;32m\"/tmp/ipykernel_472120/2668731116.py\"\u001b[0;36m, line \u001b[0;32m1\u001b[0m\n\u001b[0;31m    dfMes = df[df['anoMesNum']==20211 && df['codigoRegraProjecao']=='t10s17vy']\u001b[0m\n\u001b[0m                                       ^\u001b[0m\n\u001b[0;31mSyntaxError\u001b[0m\u001b[0;31m:\u001b[0m invalid syntax\n"
     ]
    }
   ],
   "source": [
    "dfMes = df[df['anoMesNum']==20211 && df['codigoRegraProjecao']=='t10s17vy']"
   ]
  },
  {
   "cell_type": "code",
   "execution_count": null,
   "id": "f2d78594",
   "metadata": {},
   "outputs": [],
   "source": []
  }
 ],
 "metadata": {
  "kernelspec": {
   "display_name": "Python 3 (ipykernel)",
   "language": "python",
   "name": "python3"
  },
  "language_info": {
   "codemirror_mode": {
    "name": "ipython",
    "version": 3
   },
   "file_extension": ".py",
   "mimetype": "text/x-python",
   "name": "python",
   "nbconvert_exporter": "python",
   "pygments_lexer": "ipython3",
   "version": "3.8.10"
  }
 },
 "nbformat": 4,
 "nbformat_minor": 5
}
